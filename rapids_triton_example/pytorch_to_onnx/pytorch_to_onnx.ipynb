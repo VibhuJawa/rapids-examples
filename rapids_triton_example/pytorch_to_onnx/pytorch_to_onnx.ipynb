{
 "cells": [
  {
   "cell_type": "code",
   "execution_count": 1,
   "id": "1bc79bfd-5c67-4da6-acda-dc70b97981d0",
   "metadata": {},
   "outputs": [],
   "source": [
    "#!bash download_model.sh"
   ]
  },
  {
   "cell_type": "code",
   "execution_count": 2,
   "id": "b1fa7a6e-3cc9-44db-8c59-ee824b7a6061",
   "metadata": {},
   "outputs": [],
   "source": [
    "#!pip install onnxruntime-gpu"
   ]
  },
  {
   "cell_type": "code",
   "execution_count": 3,
   "id": "561648c9-41aa-445d-a0aa-d4ed4837903b",
   "metadata": {},
   "outputs": [],
   "source": [
    "from transformers import BertModel\n",
    "from torch import nn\n",
    "import numpy as np\n",
    "import torch"
   ]
  },
  {
   "cell_type": "markdown",
   "id": "2d69d3c0-6973-4f94-ac98-ab7ea64979f8",
   "metadata": {
    "tags": []
   },
   "source": [
    "## Define Model"
   ]
  },
  {
   "cell_type": "code",
   "execution_count": 4,
   "id": "8c44b4de-2f03-4af3-a413-76baa24307ab",
   "metadata": {},
   "outputs": [],
   "source": [
    "class BERT_Arch(nn.Module):\n",
    "    def __init__(self):\n",
    "        super(BERT_Arch, self).__init__()\n",
    "        self.bert = BertModel.from_pretrained('bert-base-uncased')\n",
    "        self.dropout = nn.Dropout(0.1)\n",
    "        self.relu =  nn.ReLU()\n",
    "        self.fc1 = nn.Linear(768,512)\n",
    "        self.fc2 = nn.Linear(512,2)\n",
    "        self.softmax = nn.LogSoftmax(dim=1)\n",
    "        \n",
    "    #define the forward pass\n",
    "    def forward(self, sent_id, mask):\n",
    "        #pass the inputs to the model  \n",
    "        _, cls_hs = self.bert(sent_id, attention_mask=mask, return_dict=False)\n",
    "        x = self.fc1(cls_hs)\n",
    "        x = self.relu(x)\n",
    "        x = self.dropout(x)\n",
    "        # output layer\n",
    "        x = self.fc2(x)\n",
    "        # apply softmax activation\n",
    "        x = self.softmax(x)\n",
    "        conf, preds = torch.max(x, dim=1)\n",
    "        return preds.int()"
   ]
  },
  {
   "cell_type": "markdown",
   "id": "4a416667-7c54-47ad-a14c-4ecc63ef6993",
   "metadata": {},
   "source": [
    "## Load Model"
   ]
  },
  {
   "cell_type": "code",
   "execution_count": 5,
   "id": "8a53dc2f-2e8c-4e1e-9b45-90efb68b35ab",
   "metadata": {},
   "outputs": [],
   "source": [
    "#!bash download_model.sh"
   ]
  },
  {
   "cell_type": "code",
   "execution_count": 6,
   "id": "62ee0aed-61d1-414c-8e78-b76b8d98759c",
   "metadata": {},
   "outputs": [
    {
     "name": "stderr",
     "output_type": "stream",
     "text": [
      "Some weights of the model checkpoint at bert-base-uncased were not used when initializing BertModel: ['cls.predictions.bias', 'cls.predictions.transform.dense.weight', 'cls.predictions.transform.dense.bias', 'cls.predictions.transform.LayerNorm.weight', 'cls.predictions.transform.LayerNorm.bias', 'cls.seq_relationship.bias', 'cls.predictions.decoder.weight', 'cls.seq_relationship.weight']\n",
      "- This IS expected if you are initializing BertModel from the checkpoint of a model trained on another task or with another architecture (e.g. initializing a BertForSequenceClassification model from a BertForPreTraining model).\n",
      "- This IS NOT expected if you are initializing BertModel from the checkpoint of a model that you expect to be exactly identical (initializing a BertForSequenceClassification model from a BertForSequenceClassification model).\n"
     ]
    }
   ],
   "source": [
    "model = BERT_Arch()\n",
    "m_p = 'model.pt'\n",
    "model.load_state_dict(torch.load(m_p))\n",
    "model = model.eval()\n",
    "model = model.half().cuda()"
   ]
  },
  {
   "cell_type": "markdown",
   "id": "b2435a43-8159-4d03-b5cd-e2e7ea000a96",
   "metadata": {},
   "source": [
    "## Convert to ONNX (Works on  Pytorch 1.9.1+) \n",
    "Fixed with PR : https://github.com/pytorch/pytorch/pull/53053\n",
    "\n",
    "Following : https://github.com/huggingface/notebooks/blob/master/examples/onnx-export.ipynb\n"
   ]
  },
  {
   "cell_type": "code",
   "execution_count": 7,
   "id": "5d243431-dc7a-48d0-a644-affc51ca4ae4",
   "metadata": {},
   "outputs": [],
   "source": [
    "# import sys\n",
    "# !{sys.executable} -m pip install -i https://test.pypi.org/simple/ ort-nightly\n",
    "# !{sys.executable} -m pip install --upgrade onnxruntime-tools"
   ]
  },
  {
   "cell_type": "code",
   "execution_count": 8,
   "id": "bab6c4ec-8a14-4ef0-9103-64bf5fbed6f9",
   "metadata": {},
   "outputs": [],
   "source": [
    "with torch.no_grad():\n",
    "    batch_size=2\n",
    "    sequence_length = 64\n",
    "    input_ids = np.random.randint(low=0,high=1024, size=(batch_size, sequence_length))\n",
    "    attention_mask = np.random.randint(low=0,high=1,size=(batch_size, sequence_length))\n",
    "    input_ids, attention_mask = torch.Tensor(input_ids).int().cuda(), torch.Tensor(attention_mask).int().cuda()\n",
    "    \n",
    "    torch_out = model(input_ids,attention_mask)\n",
    "\n",
    "    torch.onnx.export(model,               # model being run\n",
    "                      (input_ids,attention_mask), # model input (or a tuple for multiple inputs)\n",
    "                      \"sentiment_bert.onnx\",   # where to save the model (can be a file or file-like object) \n",
    "                      export_params=True,        # store the trained parameter weights inside the model file\n",
    "                      opset_version=11,          # the ONNX version to export the model to\n",
    "                      do_constant_folding=True,  # whether to execute constant folding for optimization\n",
    "                      input_names = ['input_ids', 'attention_mask'],   # the model's input names\n",
    "                      output_names = ['preds'], # the model's output names\n",
    "                      dynamic_axes={'input_ids' : {0 : 'batch_size', 1: 'sequence_length'},  # variable length axes, \n",
    "                                    'attention_mask': {0 : 'batch_size',1:  'sequence_length'},   # variable length axes\n",
    "                                    'preds' : {0 : 'batch_size'}})  # variable length axes\n"
   ]
  },
  {
   "cell_type": "code",
   "execution_count": 9,
   "id": "9f4a66f5-83a7-4f0b-b766-3b04cbe904bb",
   "metadata": {},
   "outputs": [
    {
     "data": {
      "text/plain": [
       "torch.int32"
      ]
     },
     "execution_count": 9,
     "metadata": {},
     "output_type": "execute_result"
    }
   ],
   "source": [
    "torch_out.dtype"
   ]
  },
  {
   "cell_type": "markdown",
   "id": "7aca03dc-8a24-45be-a699-163c652b7f01",
   "metadata": {},
   "source": [
    "## Optimize BERT ONNX \n",
    "(Currently makes it slower :-( ) \n",
    "\n",
    "See Docs at: https://pypi.org/project/onnxruntime-tools/"
   ]
  },
  {
   "cell_type": "code",
   "execution_count": 10,
   "id": "1158ceed-0ba1-4325-88aa-18c950031a5c",
   "metadata": {},
   "outputs": [
    {
     "name": "stderr",
     "output_type": "stream",
     "text": [
      "epsilon value is not expeced: None\n",
      "epsilon value is not expeced: None\n",
      "epsilon value is not expeced: None\n",
      "epsilon value is not expeced: None\n",
      "epsilon value is not expeced: None\n",
      "epsilon value is not expeced: None\n",
      "epsilon value is not expeced: None\n",
      "epsilon value is not expeced: None\n",
      "epsilon value is not expeced: None\n",
      "epsilon value is not expeced: None\n",
      "epsilon value is not expeced: None\n",
      "epsilon value is not expeced: None\n",
      "epsilon value is not expeced: None\n",
      "epsilon value is not expeced: None\n",
      "epsilon value is not expeced: None\n",
      "epsilon value is not expeced: None\n",
      "epsilon value is not expeced: None\n",
      "epsilon value is not expeced: None\n",
      "epsilon value is not expeced: None\n",
      "epsilon value is not expeced: None\n",
      "epsilon value is not expeced: None\n",
      "epsilon value is not expeced: None\n",
      "epsilon value is not expeced: None\n",
      "epsilon value is not expeced: None\n",
      "epsilon value is not expeced: None\n"
     ]
    }
   ],
   "source": [
    "from onnxruntime.transformers import optimizer\n",
    "\n",
    "opt_model = optimizer.optimize_model(\n",
    "    'sentiment_bert.onnx',\n",
    "    'bert', \n",
    "    num_heads=12,\n",
    "    hidden_size=768,\n",
    "    use_gpu=True)\n",
    "\n",
    "\n",
    "opt_model.save_model_to_file('sentiment_bert.opt.onnx')"
   ]
  }
 ],
 "metadata": {
  "kernelspec": {
   "display_name": "Python 3 (ipykernel)",
   "language": "python",
   "name": "python3"
  },
  "language_info": {
   "codemirror_mode": {
    "name": "ipython",
    "version": 3
   },
   "file_extension": ".py",
   "mimetype": "text/x-python",
   "name": "python",
   "nbconvert_exporter": "python",
   "pygments_lexer": "ipython3",
   "version": "3.9.7"
  }
 },
 "nbformat": 4,
 "nbformat_minor": 5
}
