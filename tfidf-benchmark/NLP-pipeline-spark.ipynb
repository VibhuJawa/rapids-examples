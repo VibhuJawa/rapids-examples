{
 "cells": [
  {
   "cell_type": "code",
   "execution_count": 30,
   "id": "639f8a3c-70da-4dd3-8e2e-655452dfa306",
   "metadata": {},
   "outputs": [],
   "source": [
    "%matplotlib inline\n",
    "import numpy as np\n",
    "from pyspark import SparkContext\n",
    "from pyspark.sql import SparkSession\n",
    "from pyspark import SparkConf, StorageLevel\n",
    "from pyspark.ml.feature import HashingTF, IDF, Tokenizer, CountVectorizer, StopWordsRemover\n",
    "from timeit import default_timer as timer\n",
    "from pyspark.sql.functions import udf\n",
    "import pyspark.sql.functions as f\n",
    "from pyspark.sql.types import DoubleType, ArrayType\n",
    "from timeit import default_timer as timer\n",
    "import time\n",
    "import pickle\n",
    "from tqdm import tqdm\n",
    "import pandas as pd\n",
    "import nltk\n",
    "import seaborn as sns\n",
    "import matplotlib.pyplot as plt"
   ]
  },
  {
   "cell_type": "code",
   "execution_count": 2,
   "id": "4c655662-8a6d-4b8a-befa-65ee3e5a329f",
   "metadata": {},
   "outputs": [],
   "source": [
    "class SimpleTimer:\n",
    "    def __init__(self):\n",
    "        self.start = None\n",
    "        self.end = None\n",
    "        self.elapsed = None\n",
    "\n",
    "    def __enter__(self):\n",
    "        self.start = time.perf_counter_ns()\n",
    "        return self\n",
    "\n",
    "    def __exit__(self, exc_type, exc_val, exc_tb):\n",
    "        self.end = time.perf_counter_ns()\n",
    "        self.elapsed = self.end - self.start\n",
    "        \n",
    "def visualize_data(path):\n",
    "\n",
    "    data = pickle.load(open(path, \"rb\"))\n",
    "    df_list = [[\"n_workers\", \"sample_run\", \"overall\", \"data_read\", \"data_preprocessing\", \"hashing_vectorizer\", \"tfidf_transformer\", \"nrows\"]]\n",
    "    for n_workers in data:\n",
    "        temp_data = data[n_workers]\n",
    "        if isinstance(temp_data, float):\n",
    "            continue\n",
    "        results = temp_data[\"sample_run_results\"]\n",
    "        for sample_run in range(len(results)):\n",
    "            timings = results[sample_run]\n",
    "            df_list.append([n_workers, sample_run, timings[\"overall\"]/1e9, \n",
    "                           timings[\"data_read\"]/1e9, timings[\"data_preprocessing\"]/1e9,timings[\"hashing_vectorizer\"]/1e9, \n",
    "                           timings[\"tfidf_transformer\"]/1e9, timings[\"nrows\"]])\n",
    "    \n",
    "    perf_df = pd.DataFrame(df_list[1:], columns=df_list[0])\n",
    "    fig=plt.figure(figsize=(12,8), dpi= 100, facecolor='w', edgecolor='k')\n",
    "    dd = pd.melt(perf_df, \n",
    "                 id_vars=['n_workers'],\n",
    "                 value_vars=['overall','data_read', 'data_preprocessing', 'hashing_vectorizer','tfidf_transformer'],\n",
    "                 var_name='latency')\n",
    "    sns.boxplot(x='latency',y='value',data=dd, orient=\"v\")\n",
    "    plt.show()\n",
    "    return perf_df, dd "
   ]
  },
  {
   "cell_type": "code",
   "execution_count": 3,
   "id": "7ecaf6e6-b719-4a57-8c6a-426f30212c23",
   "metadata": {},
   "outputs": [
    {
     "name": "stderr",
     "output_type": "stream",
     "text": [
      "[nltk_data] Downloading package stopwords to /root/nltk_data...\n",
      "[nltk_data]   Package stopwords is already up-to-date!\n"
     ]
    }
   ],
   "source": [
    "nltk.download('stopwords')\n",
    "STOPWORDS = nltk.corpus.stopwords.words('english')\n",
    "PUNCTUATIONS = [ '!', '\"', '#', '$', '%', '&', '(', ')', '*', '+', '-', '.', '/',  '\\\\', ':', ';', '<', '=', '>',\n",
    "           '?', '@', '[', ']', '^', '_', '`', '{', '|', '}', '\\t','\\n',\"'\",\",\",'~' , '—']\n",
    "punct_regex_expression = \"[!\\\"#$%&()*+-.\\/\\\\:;<=>?@[\\]^_`{|}\\\\t\\\\n\\',~—]\""
   ]
  },
  {
   "cell_type": "markdown",
   "id": "163a5306-0e9d-47a8-af9e-3aa252b0277c",
   "metadata": {},
   "source": [
    "### Setting up the spark cluster"
   ]
  },
  {
   "cell_type": "code",
   "execution_count": 4,
   "id": "4fb60a49-0290-4f68-ba72-14d148de6565",
   "metadata": {},
   "outputs": [
    {
     "name": "stdout",
     "output_type": "stream",
     "text": [
      "[('spark.driver.maxResultSize', '20G'), ('spark.driver.host', 'd05ea504c36e'), ('spark.app.id', 'local-1627568375489'), ('spark.executor.id', 'driver'), ('spark.local.dir', './u01/tmp'), ('spark.rdd.compress', 'True'), ('spark.network.timeout', '7200s'), ('spark.driver.port', '38403'), ('spark.app.name', 'SparkVectorizer'), ('spark.serializer.objectStreamReset', '100'), ('spark.driver.memory', '300G'), ('spark.master', 'local[*]'), ('spark.submit.pyFiles', ''), ('spark.submit.deployMode', 'client'), ('spark.app.startTime', '1627568374627'), ('spark.ui.showConsoleProgress', 'true')]\n"
     ]
    }
   ],
   "source": [
    "conf = (SparkConf().setMaster(\"local[*]\")\n",
    "                .setAppName(\"SparkVectorizer\")\n",
    "                .set('spark.driver.memory', '300G')\n",
    "                .set('spark.driver.maxResultSize', '20G')\n",
    "                .set('spark.network.timeout', '7200s')\n",
    "                .set('spark.local.dir', './u01/tmp'))\n",
    "#                .set('spark.executor.cores', '20'))\n",
    "\n",
    "sc = SparkContext(conf=conf)\n",
    "# sc.setLogLevel(\"ERROR\")\n",
    "spark = SparkSession(sc)\n",
    "print(sc._conf.getAll()) # check context settings"
   ]
  },
  {
   "cell_type": "code",
   "execution_count": 27,
   "id": "41316782-0c62-48ad-960d-470d4e4ecd25",
   "metadata": {},
   "outputs": [],
   "source": [
    "def performance_numbers(parquet_path, worker_counts=[1], samples=1, data_frac=0.2, result_path=\"./results.pkl\", \n",
    "                        seed=42, model_args={}, model_kwargs={}):\n",
    "    \"\"\"\n",
    "    Main function to perform the performance sweep\n",
    "    \"\"\"\n",
    "    data_frac = min(1.0, data_frac)\n",
    "    overall_perf_result = {\"data_fraction\": data_frac}\n",
    "    \n",
    "    for n in worker_counts: \n",
    "        overall_perf_result[n]={\"sample_run_results\": []}\n",
    "        \n",
    "        for i in tqdm(range(samples)): \n",
    "            sample_record = {\"overall\":0, \"data_read\":0, \"hashing_vectorizer\":0, \"tfid_transformer\":0, \"data_preprocessing\":0, \"nrows\":0}\n",
    "            with SimpleTimer() as overalltimer:\n",
    "                with SimpleTimer() as timer:\n",
    "                    data = spark.read.parquet(parquet_path).sample(withReplacement=False, fraction=data_frac, seed=seed)\n",
    "                sample_record[\"data_read\"]=timer.elapsed\n",
    "                print(f\"Workers:{n}, Sample Run:{i}, Finished loading data in {timer.elapsed}s\")\n",
    "                \n",
    "                with SimpleTimer() as timer:\n",
    "                    data = data.na.drop(subset=[\"review_body\"])\n",
    "                    data = data.withColumn(\"review_body\",f.lower(f.col(\"review_body\")))\n",
    "                    data = data.withColumn(\"review_body\",f.regexp_replace(f.col(\"review_body\"), \"\"\"[!\"#$%&()*+-.\\/\\\\:;<=>?@\\[\\]^_`{|}\\t\\n\\',~—]\"\"\", ' '))\n",
    "                    data = data.withColumn(\"review_body\",f.trim(f.col(\"review_body\")))\n",
    "                    tokenizer = Tokenizer(inputCol=\"review_body\", outputCol=\"words\")\n",
    "                    wordsData = tokenizer.transform(data)                  \n",
    "                    stopwordsRemover = StopWordsRemover(inputCol=\"words\", outputCol=\"filtered\", stopWords=STOPWORDS)\n",
    "                    cleaned = stopwordsRemover.transform(wordsData)\n",
    "                    cleaned.head(0)\n",
    "                sample_record[\"data_preprocessing\"]=timer.elapsed\n",
    "                print(f\"Workers:{n}, Sample Run:{i}, Finished preprocessing data in {timer.elapsed}s\")\n",
    "                \n",
    "                with SimpleTimer() as timer:\n",
    "                    hashingTF = HashingTF(inputCol=\"filtered\", outputCol=\"rawFeatures\", numFeatures=2**20)\n",
    "                    featurizedData = hashingTF.transform(cleaned)\n",
    "                    featurizedData.head(0)\n",
    "                sample_record[\"hashing_vectorizer\"]=timer.elapsed\n",
    "                print(f\"Workers:{n}, Sample Run:{i}, Finished fitting HashVectorizer in {timer.elapsed}s\")\n",
    "                \n",
    "                with SimpleTimer() as timer:\n",
    "                    idf = IDF(inputCol=\"rawFeatures\", outputCol=\"features2\").fit(featurizedData)\n",
    "                    rescaledData = idf.transform(featurizedData)\n",
    "                    rescaledData.persist(StorageLevel.MEMORY_ONLY)#head(0) # does not do anything but just triggers compute\n",
    "                sample_record[\"tfidf_transformer\"]=timer.elapsed\n",
    "                print(f\"Workers:{n}, Sample Run:{i}, Finished fitting TfIDTransformer in {timer.elapsed}s\")\n",
    "                \n",
    "            sample_record[\"overall\"]=overalltimer.elapsed\n",
    "            sample_record[\"nrows\"]=  data.count()\n",
    "            print(f\"Workers:{n}, Sample Run:{i}, Finished transforming using TFIDFTransformer in {overalltimer.elapsed}s\")\n",
    "            overall_perf_result[n][\"sample_run_results\"].append(sample_record)\n",
    "    \n",
    "    with open(result_path, \"wb\") as file:\n",
    "        pickle.dump(overall_perf_result, file)\n",
    "    "
   ]
  },
  {
   "cell_type": "code",
   "execution_count": 28,
   "id": "d6d27907-94d5-414a-93ae-0997a887ff44",
   "metadata": {},
   "outputs": [],
   "source": [
    "dataset = \"PC\"\n",
    "parquet_path = f'./data/product_category={dataset}'\n",
    "samples = 5\n",
    "worker_counts = [1]\n",
    "result_path = f\".results/result_poc_nlp_spark_{dataset}_persist.pkl\""
   ]
  },
  {
   "cell_type": "code",
   "execution_count": 31,
   "id": "4da2c546-c633-4f77-9220-e0067add959c",
   "metadata": {},
   "outputs": [
    {
     "name": "stderr",
     "output_type": "stream",
     "text": [
      "  0%|          | 0/5 [00:00<?, ?it/s]"
     ]
    },
    {
     "name": "stdout",
     "output_type": "stream",
     "text": [
      "Workers:1, Sample Run:0, Finished loading data in 91746029s\n",
      "Workers:1, Sample Run:0, Finished preprocessing data in 133759736s\n",
      "Workers:1, Sample Run:0, Finished fitting HashVectorizer in 22947652s\n",
      "Workers:1, Sample Run:0, Finished fitting TfIDTransformer in 109331936920s\n"
     ]
    },
    {
     "name": "stderr",
     "output_type": "stream",
     "text": [
      " 20%|██        | 1/5 [01:50<07:21, 110.40s/it]"
     ]
    },
    {
     "name": "stdout",
     "output_type": "stream",
     "text": [
      "Workers:1, Sample Run:0, Finished transforming using TFIDFTransformer in 109580861284s\n",
      "Workers:1, Sample Run:1, Finished loading data in 66571561s\n",
      "Workers:1, Sample Run:1, Finished preprocessing data in 122637565s\n",
      "Workers:1, Sample Run:1, Finished fitting HashVectorizer in 26344359s\n",
      "Workers:1, Sample Run:1, Finished fitting TfIDTransformer in 108305515634s\n"
     ]
    },
    {
     "name": "stderr",
     "output_type": "stream",
     "text": [
      " 40%|████      | 2/5 [03:39<05:29, 109.75s/it]"
     ]
    },
    {
     "name": "stdout",
     "output_type": "stream",
     "text": [
      "Workers:1, Sample Run:1, Finished transforming using TFIDFTransformer in 108521416870s\n",
      "Workers:1, Sample Run:2, Finished loading data in 68863748s\n",
      "Workers:1, Sample Run:2, Finished preprocessing data in 125425317s\n",
      "Workers:1, Sample Run:2, Finished fitting HashVectorizer in 25947686s\n",
      "Workers:1, Sample Run:2, Finished fitting TfIDTransformer in 107676548053s\n"
     ]
    },
    {
     "name": "stderr",
     "output_type": "stream",
     "text": [
      " 60%|██████    | 3/5 [05:28<03:38, 109.27s/it]"
     ]
    },
    {
     "name": "stdout",
     "output_type": "stream",
     "text": [
      "Workers:1, Sample Run:2, Finished transforming using TFIDFTransformer in 107897058451s\n",
      "Workers:1, Sample Run:3, Finished loading data in 61580892s\n",
      "Workers:1, Sample Run:3, Finished preprocessing data in 117546773s\n",
      "Workers:1, Sample Run:3, Finished fitting HashVectorizer in 23039523s\n",
      "Workers:1, Sample Run:3, Finished fitting TfIDTransformer in 109175030835s\n"
     ]
    },
    {
     "name": "stderr",
     "output_type": "stream",
     "text": [
      " 80%|████████  | 4/5 [07:18<01:49, 109.60s/it]"
     ]
    },
    {
     "name": "stdout",
     "output_type": "stream",
     "text": [
      "Workers:1, Sample Run:3, Finished transforming using TFIDFTransformer in 109377515359s\n",
      "Workers:1, Sample Run:4, Finished loading data in 58216717s\n",
      "Workers:1, Sample Run:4, Finished preprocessing data in 111173657s\n",
      "Workers:1, Sample Run:4, Finished fitting HashVectorizer in 22208775s\n",
      "Workers:1, Sample Run:4, Finished fitting TfIDTransformer in 108583056808s\n"
     ]
    },
    {
     "name": "stderr",
     "output_type": "stream",
     "text": [
      "100%|██████████| 5/5 [09:08<00:00, 109.61s/it]"
     ]
    },
    {
     "name": "stdout",
     "output_type": "stream",
     "text": [
      "Workers:1, Sample Run:4, Finished transforming using TFIDFTransformer in 108774928410s\n",
      "CPU times: user 285 ms, sys: 118 ms, total: 402 ms\n",
      "Wall time: 9min 8s\n"
     ]
    },
    {
     "name": "stderr",
     "output_type": "stream",
     "text": [
      "\n"
     ]
    }
   ],
   "source": [
    "%%time\n",
    "performance_numbers(parquet_path=parquet_path, worker_counts=worker_counts, samples=samples, data_frac=1, result_path=result_path, \n",
    "                        seed=42)"
   ]
  },
  {
   "cell_type": "code",
   "execution_count": 32,
   "id": "3bd627f9-0878-4296-bf73-151ec1b1bec3",
   "metadata": {},
   "outputs": [
    {
     "data": {
      "image/png": "[encoded data removed]",
      "text/plain": [
       "<Figure size 1200x800 with 1 Axes>"
      ]
     },
     "metadata": {},
     "output_type": "display_data"
    }
   ],
   "source": [
    "data, melt_data = visualize_data(result_path)    "
   ]
  },
  {
   "cell_type": "code",
   "execution_count": 33,
   "id": "a8297a7b-5fe7-406e-831d-c2ac2e4bfc8e",
   "metadata": {},
   "outputs": [
    {
     "data": {
      "text/html": [
       "<div>\n",
       "<style scoped>\n",
       "    .dataframe tbody tr th:only-of-type {\n",
       "        vertical-align: middle;\n",
       "    }\n",
       "\n",
       "    .dataframe tbody tr th {\n",
       "        vertical-align: top;\n",
       "    }\n",
       "\n",
       "    .dataframe thead th {\n",
       "        text-align: right;\n",
       "    }\n",
       "</style>\n",
       "<table border=\"1\" class=\"dataframe\">\n",
       "  <thead>\n",
       "    <tr style=\"text-align: right;\">\n",
       "      <th></th>\n",
       "      <th>n_workers</th>\n",
       "      <th>sample_run</th>\n",
       "      <th>overall</th>\n",
       "      <th>data_read</th>\n",
       "      <th>data_preprocessing</th>\n",
       "      <th>hashing_vectorizer</th>\n",
       "      <th>tfidf_transformer</th>\n",
       "      <th>nrows</th>\n",
       "    </tr>\n",
       "  </thead>\n",
       "  <tbody>\n",
       "    <tr>\n",
       "      <th>0</th>\n",
       "      <td>1</td>\n",
       "      <td>0</td>\n",
       "      <td>109.580861</td>\n",
       "      <td>0.091746</td>\n",
       "      <td>0.133760</td>\n",
       "      <td>0.022948</td>\n",
       "      <td>109.331937</td>\n",
       "      <td>7004147</td>\n",
       "    </tr>\n",
       "    <tr>\n",
       "      <th>1</th>\n",
       "      <td>1</td>\n",
       "      <td>1</td>\n",
       "      <td>108.521417</td>\n",
       "      <td>0.066572</td>\n",
       "      <td>0.122638</td>\n",
       "      <td>0.026344</td>\n",
       "      <td>108.305516</td>\n",
       "      <td>7004147</td>\n",
       "    </tr>\n",
       "    <tr>\n",
       "      <th>2</th>\n",
       "      <td>1</td>\n",
       "      <td>2</td>\n",
       "      <td>107.897058</td>\n",
       "      <td>0.068864</td>\n",
       "      <td>0.125425</td>\n",
       "      <td>0.025948</td>\n",
       "      <td>107.676548</td>\n",
       "      <td>7004147</td>\n",
       "    </tr>\n",
       "    <tr>\n",
       "      <th>3</th>\n",
       "      <td>1</td>\n",
       "      <td>3</td>\n",
       "      <td>109.377515</td>\n",
       "      <td>0.061581</td>\n",
       "      <td>0.117547</td>\n",
       "      <td>0.023040</td>\n",
       "      <td>109.175031</td>\n",
       "      <td>7004147</td>\n",
       "    </tr>\n",
       "    <tr>\n",
       "      <th>4</th>\n",
       "      <td>1</td>\n",
       "      <td>4</td>\n",
       "      <td>108.774928</td>\n",
       "      <td>0.058217</td>\n",
       "      <td>0.111174</td>\n",
       "      <td>0.022209</td>\n",
       "      <td>108.583057</td>\n",
       "      <td>7004147</td>\n",
       "    </tr>\n",
       "  </tbody>\n",
       "</table>\n",
       "</div>"
      ],
      "text/plain": [
       "   n_workers  sample_run     overall  data_read  data_preprocessing  \\\n",
       "0          1           0  109.580861   0.091746            0.133760   \n",
       "1          1           1  108.521417   0.066572            0.122638   \n",
       "2          1           2  107.897058   0.068864            0.125425   \n",
       "3          1           3  109.377515   0.061581            0.117547   \n",
       "4          1           4  108.774928   0.058217            0.111174   \n",
       "\n",
       "   hashing_vectorizer  tfidf_transformer    nrows  \n",
       "0            0.022948         109.331937  7004147  \n",
       "1            0.026344         108.305516  7004147  \n",
       "2            0.025948         107.676548  7004147  \n",
       "3            0.023040         109.175031  7004147  \n",
       "4            0.022209         108.583057  7004147  "
      ]
     },
     "execution_count": 33,
     "metadata": {},
     "output_type": "execute_result"
    }
   ],
   "source": [
    "data"
   ]
  },
  {
   "cell_type": "code",
   "execution_count": 34,
   "id": "36dc1a20-d436-4362-af91-75d4b6e829b4",
   "metadata": {},
   "outputs": [],
   "source": [
    "groupy = data.groupby(\"n_workers\").agg(['mean', 'std', 'count'])"
   ]
  },
  {
   "cell_type": "code",
   "execution_count": 35,
   "id": "c0ac4d3f-5d2f-4941-a984-adad8d15edb8",
   "metadata": {},
   "outputs": [
    {
     "data": {
      "text/html": [
       "<div>\n",
       "<style scoped>\n",
       "    .dataframe tbody tr th:only-of-type {\n",
       "        vertical-align: middle;\n",
       "    }\n",
       "\n",
       "    .dataframe tbody tr th {\n",
       "        vertical-align: top;\n",
       "    }\n",
       "\n",
       "    .dataframe thead tr th {\n",
       "        text-align: left;\n",
       "    }\n",
       "\n",
       "    .dataframe thead tr:last-of-type th {\n",
       "        text-align: right;\n",
       "    }\n",
       "</style>\n",
       "<table border=\"1\" class=\"dataframe\">\n",
       "  <thead>\n",
       "    <tr>\n",
       "      <th></th>\n",
       "      <th colspan=\"3\" halign=\"left\">sample_run</th>\n",
       "      <th colspan=\"3\" halign=\"left\">overall</th>\n",
       "      <th colspan=\"3\" halign=\"left\">data_read</th>\n",
       "      <th colspan=\"3\" halign=\"left\">data_preprocessing</th>\n",
       "      <th colspan=\"3\" halign=\"left\">hashing_vectorizer</th>\n",
       "      <th colspan=\"3\" halign=\"left\">tfidf_transformer</th>\n",
       "      <th colspan=\"3\" halign=\"left\">nrows</th>\n",
       "    </tr>\n",
       "    <tr>\n",
       "      <th></th>\n",
       "      <th>mean</th>\n",
       "      <th>std</th>\n",
       "      <th>count</th>\n",
       "      <th>mean</th>\n",
       "      <th>std</th>\n",
       "      <th>count</th>\n",
       "      <th>mean</th>\n",
       "      <th>std</th>\n",
       "      <th>count</th>\n",
       "      <th>mean</th>\n",
       "      <th>...</th>\n",
       "      <th>count</th>\n",
       "      <th>mean</th>\n",
       "      <th>std</th>\n",
       "      <th>count</th>\n",
       "      <th>mean</th>\n",
       "      <th>std</th>\n",
       "      <th>count</th>\n",
       "      <th>mean</th>\n",
       "      <th>std</th>\n",
       "      <th>count</th>\n",
       "    </tr>\n",
       "    <tr>\n",
       "      <th>n_workers</th>\n",
       "      <th></th>\n",
       "      <th></th>\n",
       "      <th></th>\n",
       "      <th></th>\n",
       "      <th></th>\n",
       "      <th></th>\n",
       "      <th></th>\n",
       "      <th></th>\n",
       "      <th></th>\n",
       "      <th></th>\n",
       "      <th></th>\n",
       "      <th></th>\n",
       "      <th></th>\n",
       "      <th></th>\n",
       "      <th></th>\n",
       "      <th></th>\n",
       "      <th></th>\n",
       "      <th></th>\n",
       "      <th></th>\n",
       "      <th></th>\n",
       "      <th></th>\n",
       "    </tr>\n",
       "  </thead>\n",
       "  <tbody>\n",
       "    <tr>\n",
       "      <th>1</th>\n",
       "      <td>2</td>\n",
       "      <td>1.581139</td>\n",
       "      <td>5</td>\n",
       "      <td>108.830356</td>\n",
       "      <td>0.676794</td>\n",
       "      <td>5</td>\n",
       "      <td>0.069396</td>\n",
       "      <td>0.01317</td>\n",
       "      <td>5</td>\n",
       "      <td>0.122109</td>\n",
       "      <td>...</td>\n",
       "      <td>5</td>\n",
       "      <td>0.024098</td>\n",
       "      <td>0.001903</td>\n",
       "      <td>5</td>\n",
       "      <td>108.614418</td>\n",
       "      <td>0.671775</td>\n",
       "      <td>5</td>\n",
       "      <td>7004147</td>\n",
       "      <td>0.0</td>\n",
       "      <td>5</td>\n",
       "    </tr>\n",
       "  </tbody>\n",
       "</table>\n",
       "<p>1 rows × 21 columns</p>\n",
       "</div>"
      ],
      "text/plain": [
       "          sample_run                     overall                 data_read  \\\n",
       "                mean       std count        mean       std count      mean   \n",
       "n_workers                                                                    \n",
       "1                  2  1.581139     5  108.830356  0.676794     5  0.069396   \n",
       "\n",
       "                         data_preprocessing  ...       hashing_vectorizer  \\\n",
       "               std count               mean  ... count               mean   \n",
       "n_workers                                    ...                            \n",
       "1          0.01317     5           0.122109  ...     5           0.024098   \n",
       "\n",
       "                          tfidf_transformer                    nrows       \\\n",
       "                std count              mean       std count     mean  std   \n",
       "n_workers                                                                   \n",
       "1          0.001903     5        108.614418  0.671775     5  7004147  0.0   \n",
       "\n",
       "                 \n",
       "          count  \n",
       "n_workers        \n",
       "1             5  \n",
       "\n",
       "[1 rows x 21 columns]"
      ]
     },
     "execution_count": 35,
     "metadata": {},
     "output_type": "execute_result"
    }
   ],
   "source": [
    "groupy"
   ]
  },
  {
   "cell_type": "code",
   "execution_count": null,
   "id": "f9c857e0-9fa5-499e-a184-09d51e87f71a",
   "metadata": {},
   "outputs": [],
   "source": []
  }
 ],
 "metadata": {
  "kernelspec": {
   "display_name": "Python 3",
   "language": "python",
   "name": "python3"
  },
  "language_info": {
   "codemirror_mode": {
    "name": "ipython",
    "version": 3
   },
   "file_extension": ".py",
   "mimetype": "text/x-python",
   "name": "python",
   "nbconvert_exporter": "python",
   "pygments_lexer": "ipython3",
   "version": "3.8.10"
  }
 },
 "nbformat": 4,
 "nbformat_minor": 5
}
