{
 "cells": [
  {
   "cell_type": "code",
   "execution_count": 1,
   "id": "639f8a3c-70da-4dd3-8e2e-655452dfa306",
   "metadata": {},
   "outputs": [],
   "source": [
    "%matplotlib inline\n",
    "import numpy as np\n",
    "from pyspark import SparkContext\n",
    "from pyspark.sql import SparkSession\n",
    "from pyspark import SparkConf, StorageLevel\n",
    "from pyspark.ml.feature import HashingTF, IDF, Tokenizer, CountVectorizer, StopWordsRemover\n",
    "from timeit import default_timer as timer\n",
    "from pyspark.sql.functions import udf\n",
    "import pyspark.sql.functions as f\n",
    "from pyspark.sql.types import DoubleType, ArrayType\n",
    "from timeit import default_timer as timer\n",
    "import time\n",
    "import pickle\n",
    "from tqdm import tqdm\n",
    "import pandas as pd\n",
    "import nltk\n",
    "import seaborn as sns\n",
    "import matplotlib.pyplot as plt"
   ]
  },
  {
   "cell_type": "code",
   "execution_count": 2,
   "id": "4c655662-8a6d-4b8a-befa-65ee3e5a329f",
   "metadata": {},
   "outputs": [],
   "source": [
    "class SimpleTimer:\n",
    "    def __init__(self):\n",
    "        self.start = None\n",
    "        self.end = None\n",
    "        self.elapsed = None\n",
    "\n",
    "    def __enter__(self):\n",
    "        self.start = time.perf_counter_ns()\n",
    "        return self\n",
    "\n",
    "    def __exit__(self, exc_type, exc_val, exc_tb):\n",
    "        self.end = time.perf_counter_ns()\n",
    "        self.elapsed = self.end - self.start\n",
    "        \n",
    "def visualize_data(path):\n",
    "\n",
    "    data = pickle.load(open(path, \"rb\"))\n",
    "    df_list = [[\"n_workers\", \"sample_run\", \"overall\", \"data_read\", \"data_preprocessing\", \"hashing_vectorizer\", \"tfidf_transformer\", \"nrows\"]]\n",
    "    for n_workers in data:\n",
    "        temp_data = data[n_workers]\n",
    "        if isinstance(temp_data, float):\n",
    "            continue\n",
    "        results = temp_data[\"sample_run_results\"]\n",
    "        for sample_run in range(len(results)):\n",
    "            timings = results[sample_run]\n",
    "            df_list.append([n_workers, sample_run, timings[\"overall\"]/1e9, \n",
    "                           timings[\"data_read\"]/1e9, timings[\"data_preprocessing\"]/1e9,timings[\"hashing_vectorizer\"]/1e9, \n",
    "                           timings[\"tfidf_transformer\"]/1e9, timings[\"nrows\"]])\n",
    "    \n",
    "    perf_df = pd.DataFrame(df_list[1:], columns=df_list[0])\n",
    "    fig=plt.figure(figsize=(12,8), dpi= 100, facecolor='w', edgecolor='k')\n",
    "    dd = pd.melt(perf_df, \n",
    "                 id_vars=['n_workers'],\n",
    "                 value_vars=['overall','data_read', 'data_preprocessing', 'hashing_vectorizer','tfidf_transformer'],\n",
    "                 var_name='latency')\n",
    "    sns.boxplot(x='latency',y='value',data=dd, orient=\"v\")\n",
    "    plt.show()\n",
    "    return perf_df, dd "
   ]
  },
  {
   "cell_type": "code",
   "execution_count": 3,
   "id": "7ecaf6e6-b719-4a57-8c6a-426f30212c23",
   "metadata": {},
   "outputs": [
    {
     "name": "stderr",
     "output_type": "stream",
     "text": [
      "[nltk_data] Downloading package stopwords to /root/nltk_data...\n",
      "[nltk_data]   Package stopwords is already up-to-date!\n"
     ]
    }
   ],
   "source": [
    "nltk.download('stopwords')\n",
    "STOPWORDS = nltk.corpus.stopwords.words('english')\n",
    "PUNCTUATIONS = [ '!', '\"', '#', '$', '%', '&', '(', ')', '*', '+', '-', '.', '/',  '\\\\', ':', ';', '<', '=', '>',\n",
    "           '?', '@', '[', ']', '^', '_', '`', '{', '|', '}', '\\t','\\n',\"'\",\",\",'~' , '—']\n",
    "punct_regex_expression = \"[!\\\"#$%&()*+-.\\/\\\\:;<=>?@[\\]^_`{|}\\\\t\\\\n\\',~—]\""
   ]
  },
  {
   "cell_type": "markdown",
   "id": "163a5306-0e9d-47a8-af9e-3aa252b0277c",
   "metadata": {},
   "source": [
    "### Setting up the spark cluster"
   ]
  },
  {
   "cell_type": "code",
   "execution_count": 4,
   "id": "4fb60a49-0290-4f68-ba72-14d148de6565",
   "metadata": {},
   "outputs": [
    {
     "name": "stdout",
     "output_type": "stream",
     "text": [
      "[('spark.driver.maxResultSize', '20G'), ('spark.driver.port', '33553'), ('spark.driver.host', 'd05ea504c36e'), ('spark.executor.id', 'driver'), ('spark.app.id', 'local-1627680337762'), ('spark.local.dir', './u01/tmp'), ('spark.rdd.compress', 'True'), ('spark.network.timeout', '7200s'), ('spark.app.name', 'SparkVectorizer'), ('spark.serializer.objectStreamReset', '100'), ('spark.driver.memory', '300G'), ('spark.master', 'local[*]'), ('spark.submit.pyFiles', ''), ('spark.submit.deployMode', 'client'), ('spark.ui.showConsoleProgress', 'true'), ('spark.app.startTime', '1627680336855')]\n"
     ]
    }
   ],
   "source": [
    "conf = (SparkConf().setMaster(\"local[*]\")\n",
    "                .setAppName(\"SparkVectorizer\")\n",
    "                .set('spark.driver.memory', '300G')\n",
    "                .set('spark.driver.maxResultSize', '20G')\n",
    "                .set('spark.network.timeout', '7200s')\n",
    "                .set('spark.local.dir', './u01/tmp'))\n",
    "#                .set('spark.executor.cores', '20'))\n",
    "\n",
    "sc = SparkContext(conf=conf)\n",
    "# sc.setLogLevel(\"ERROR\")\n",
    "spark = SparkSession(sc)\n",
    "print(sc._conf.getAll()) # check context settings"
   ]
  },
  {
   "cell_type": "code",
   "execution_count": 5,
   "id": "41316782-0c62-48ad-960d-470d4e4ecd25",
   "metadata": {},
   "outputs": [],
   "source": [
    "def read_data(spark, parquet_path, persist_flag=True):\n",
    "    data = spark.read.parquet(parquet_path)\n",
    "    if persist_flag:\n",
    "        data.persist(StorageLevel.MEMORY_ONLY)\n",
    "        data.head(0)\n",
    "    return data\n",
    "\n",
    "def text_preprocessor(data, column_name, PUNCTUATIONS, STOPWORDS, persist_flag=True):\n",
    "    data = data.na.drop(subset=[column_name])\n",
    "    data = data.withColumn(column_name,f.lower(f.col(column_name)))\n",
    "    data = data.withColumn(column_name,f.regexp_replace(f.col(column_name), \"\"\"[!\"#$%&()*+-.\\/\\\\:;<=>?@\\[\\]^_`{|}\\t\\n\\',~—]\"\"\", ' '))\n",
    "    data = data.withColumn(column_name,f.trim(f.col(column_name)))\n",
    "    tokenizer = Tokenizer(inputCol=column_name, outputCol=\"words\")\n",
    "    wordsData = tokenizer.transform(data)                  \n",
    "    stopwordsRemover = StopWordsRemover(inputCol=\"words\", outputCol=\"filtered\", stopWords=STOPWORDS)\n",
    "    cleaned = stopwordsRemover.transform(wordsData)\n",
    "    if persist_flag:\n",
    "        cleaned.persist(StorageLevel.MEMORY_ONLY)\n",
    "        cleaned.head(0)\n",
    "    return data, cleaned\n",
    "\n",
    "def hashing_vectorizer(data, persist_flag):\n",
    "    hashingTF = HashingTF(inputCol=\"filtered\", outputCol=\"rawFeatures\", numFeatures=2**20)\n",
    "    featurizedData = hashingTF.transform(data)\n",
    "    if persist_flag:\n",
    "        featurizedData.persist(StorageLevel.MEMORY_ONLY)\n",
    "        featurizedData.head(0)\n",
    "    return featurizedData\n",
    "\n",
    "def tfidf_transformer(data, persist_flag):\n",
    "    idf = IDF(inputCol=\"rawFeatures\", outputCol=\"finalFeatures\").fit(data)\n",
    "    rescaledData = idf.transform(data)\n",
    "    if persist_flag:\n",
    "        rescaledData.persist(StorageLevel.MEMORY_ONLY)\n",
    "        rescaledData.head(0)\n",
    "    return rescaledData\n",
    "\n",
    "def execute_full_pipeline(n, i, spark, parquet_path, worker_counts=[1], samples=1, result_path=\"./results.pkl\", persist_flag=True):\n",
    "    sample_record = {\"overall\":0, \"data_read\":0, \"hashing_vectorizer\":0, \"tfid_transformer\":0, \"data_preprocessing\":0, \"nrows\":0}\n",
    "    with SimpleTimer() as timer:\n",
    "        data = read_data(spark, parquet_path, persist_flag)\n",
    "    sample_record[\"data_read\"]=timer.elapsed\n",
    "\n",
    "    with SimpleTimer() as timer:\n",
    "        data, cleaned = text_preprocessor(data, \"review_body\", PUNCTUATIONS, STOPWORDS, persist_flag)\n",
    "    sample_record[\"data_preprocessing\"]=timer.elapsed\n",
    "    \n",
    "    with SimpleTimer() as timer:\n",
    "        X = hashing_vectorizer(cleaned, persist_flag)\n",
    "    sample_record[\"hashing_vectorizer\"]=timer.elapsed\n",
    "    \n",
    "    with SimpleTimer() as timer:\n",
    "        data_transformed = tfidf_transformer(X, persist_flag=True)\n",
    "    sample_record[\"tfidf_transformer\"]=timer.elapsed\n",
    "    \n",
    "    print(f\"Workers:{n}, Sample Run:{i}, Finished loading data in {sample_record['data_read']}s\")\n",
    "    print(f\"Workers:{n}, Sample Run:{i}, Finished preprocessing data in {sample_record['data_preprocessing']}s\")\n",
    "    print(f\"Workers:{n}, Sample Run:{i}, Finished fitting HashVectorizer in {sample_record['hashing_vectorizer']}s\")\n",
    "    print(f\"Workers:{n}, Sample Run:{i}, Finished fitting IDF Transformer in {sample_record['tfidf_transformer']}s\")\n",
    "    return data, data_transformed, sample_record\n",
    "    \n",
    "def performance_numbers(parquet_path, worker_counts=[1], samples=1, result_path=\"./results.pkl\", persist_flag=True):\n",
    "    \"\"\"\n",
    "    Main function to perform the performance sweep\n",
    "    \"\"\"\n",
    "\n",
    "    overall_perf_result = {}\n",
    "    \n",
    "    for n in worker_counts: \n",
    "        overall_perf_result[n]={\"sample_run_results\": []}\n",
    "        \n",
    "        for i in tqdm(range(samples)): \n",
    "            with SimpleTimer() as overalltimer:\n",
    "                data, data_transformed, sample_record = execute_full_pipeline(n, i, spark, parquet_path, worker_counts=[1], samples=1, result_path=result_path, persist_flag=persist_flag)                \n",
    "            sample_record[\"overall\"]=overalltimer.elapsed\n",
    "            sample_record[\"nrows\"]=  data.count()\n",
    "            print(f\"Workers:{n}, Sample Run:{i}, Finished executing full pipeline in {overalltimer.elapsed}s\")\n",
    "            overall_perf_result[n][\"sample_run_results\"].append(sample_record)\n",
    "    \n",
    "    with open(result_path, \"wb\") as file:\n",
    "        pickle.dump(overall_perf_result, file)\n",
    "    "
   ]
  },
  {
   "cell_type": "code",
   "execution_count": 6,
   "id": "d6d27907-94d5-414a-93ae-0997a887ff44",
   "metadata": {},
   "outputs": [],
   "source": [
    "dataset = \"PC\"\n",
    "parquet_path = f'./data/product_category={dataset}'\n",
    "samples = 5\n",
    "worker_counts = [1]\n",
    "result_path = f\"./results/result_poc_nlp_spark_{dataset}_persist.pkl\""
   ]
  },
  {
   "cell_type": "code",
   "execution_count": 7,
   "id": "4da2c546-c633-4f77-9220-e0067add959c",
   "metadata": {},
   "outputs": [
    {
     "name": "stderr",
     "output_type": "stream",
     "text": [
      "  0%|          | 0/5 [00:00<?, ?it/s]"
     ]
    },
    {
     "name": "stdout",
     "output_type": "stream",
     "text": [
      "Workers:1, Sample Run:0, Finished loading data in 4210063024s\n",
      "Workers:1, Sample Run:0, Finished preprocessing data in 950437095s\n",
      "Workers:1, Sample Run:0, Finished fitting HashVectorizer in 135317140s\n",
      "Workers:1, Sample Run:0, Finished fitting IDF Transformer in 234548070913s\n"
     ]
    },
    {
     "name": "stderr",
     "output_type": "stream",
     "text": [
      " 20%|██        | 1/5 [04:00<16:02, 240.63s/it]"
     ]
    },
    {
     "name": "stdout",
     "output_type": "stream",
     "text": [
      "Workers:1, Sample Run:0, Finished executing full pipeline in 239844051491s\n",
      "Workers:1, Sample Run:1, Finished loading data in 118133286s\n",
      "Workers:1, Sample Run:1, Finished preprocessing data in 213335510s\n",
      "Workers:1, Sample Run:1, Finished fitting HashVectorizer in 51876862s\n",
      "Workers:1, Sample Run:1, Finished fitting IDF Transformer in 229511731880s\n"
     ]
    },
    {
     "name": "stderr",
     "output_type": "stream",
     "text": [
      " 40%|████      | 2/5 [07:51<11:44, 234.67s/it]"
     ]
    },
    {
     "name": "stdout",
     "output_type": "stream",
     "text": [
      "Workers:1, Sample Run:1, Finished executing full pipeline in 229895259452s\n",
      "Workers:1, Sample Run:2, Finished loading data in 83936716s\n",
      "Workers:1, Sample Run:2, Finished preprocessing data in 177519414s\n",
      "Workers:1, Sample Run:2, Finished fitting HashVectorizer in 46565680s\n",
      "Workers:1, Sample Run:2, Finished fitting IDF Transformer in 215371016951s\n"
     ]
    },
    {
     "name": "stderr",
     "output_type": "stream",
     "text": [
      " 60%|██████    | 3/5 [11:27<07:32, 226.22s/it]"
     ]
    },
    {
     "name": "stdout",
     "output_type": "stream",
     "text": [
      "Workers:1, Sample Run:2, Finished executing full pipeline in 215679588381s\n",
      "Workers:1, Sample Run:3, Finished loading data in 82812325s\n",
      "Workers:1, Sample Run:3, Finished preprocessing data in 146123202s\n",
      "Workers:1, Sample Run:3, Finished fitting HashVectorizer in 37916527s\n",
      "Workers:1, Sample Run:3, Finished fitting IDF Transformer in 213455088715s\n"
     ]
    },
    {
     "name": "stderr",
     "output_type": "stream",
     "text": [
      " 80%|████████  | 4/5 [15:01<03:41, 221.47s/it]"
     ]
    },
    {
     "name": "stdout",
     "output_type": "stream",
     "text": [
      "Workers:1, Sample Run:3, Finished executing full pipeline in 213722173634s\n",
      "Workers:1, Sample Run:4, Finished loading data in 70889719s\n",
      "Workers:1, Sample Run:4, Finished preprocessing data in 141334894s\n",
      "Workers:1, Sample Run:4, Finished fitting HashVectorizer in 36772705s\n",
      "Workers:1, Sample Run:4, Finished fitting IDF Transformer in 208912941751s\n"
     ]
    },
    {
     "name": "stderr",
     "output_type": "stream",
     "text": [
      "100%|██████████| 5/5 [18:31<00:00, 222.23s/it]"
     ]
    },
    {
     "name": "stdout",
     "output_type": "stream",
     "text": [
      "Workers:1, Sample Run:4, Finished executing full pipeline in 209162169856s\n",
      "CPU times: user 460 ms, sys: 165 ms, total: 625 ms\n",
      "Wall time: 18min 31s\n"
     ]
    },
    {
     "name": "stderr",
     "output_type": "stream",
     "text": [
      "\n"
     ]
    }
   ],
   "source": [
    "%%time\n",
    "performance_numbers(parquet_path=parquet_path, worker_counts=worker_counts, samples=samples, result_path=result_path, persist_flag=True)"
   ]
  },
  {
   "cell_type": "code",
   "execution_count": 8,
   "id": "3bd627f9-0878-4296-bf73-151ec1b1bec3",
   "metadata": {},
   "outputs": [
    {
     "data": {
      "image/png": "[encoded data removed]",
      "text/plain": [
       "<Figure size 1200x800 with 1 Axes>"
      ]
     },
     "metadata": {},
     "output_type": "display_data"
    }
   ],
   "source": [
    "data, melt_data = visualize_data(result_path)    "
   ]
  },
  {
   "cell_type": "code",
   "execution_count": 9,
   "id": "36dc1a20-d436-4362-af91-75d4b6e829b4",
   "metadata": {},
   "outputs": [],
   "source": [
    "groupy = data.groupby(\"n_workers\").agg(['mean', 'std', 'count'])"
   ]
  },
  {
   "cell_type": "code",
   "execution_count": 10,
   "id": "c0ac4d3f-5d2f-4941-a984-adad8d15edb8",
   "metadata": {},
   "outputs": [
    {
     "data": {
      "text/html": [
       "<div>\n",
       "<style scoped>\n",
       "    .dataframe tbody tr th:only-of-type {\n",
       "        vertical-align: middle;\n",
       "    }\n",
       "\n",
       "    .dataframe tbody tr th {\n",
       "        vertical-align: top;\n",
       "    }\n",
       "\n",
       "    .dataframe thead tr th {\n",
       "        text-align: left;\n",
       "    }\n",
       "\n",
       "    .dataframe thead tr:last-of-type th {\n",
       "        text-align: right;\n",
       "    }\n",
       "</style>\n",
       "<table border=\"1\" class=\"dataframe\">\n",
       "  <thead>\n",
       "    <tr>\n",
       "      <th></th>\n",
       "      <th colspan=\"3\" halign=\"left\">sample_run</th>\n",
       "      <th colspan=\"3\" halign=\"left\">overall</th>\n",
       "      <th colspan=\"3\" halign=\"left\">data_read</th>\n",
       "      <th colspan=\"3\" halign=\"left\">data_preprocessing</th>\n",
       "      <th colspan=\"3\" halign=\"left\">hashing_vectorizer</th>\n",
       "      <th colspan=\"3\" halign=\"left\">tfidf_transformer</th>\n",
       "      <th colspan=\"3\" halign=\"left\">nrows</th>\n",
       "    </tr>\n",
       "    <tr>\n",
       "      <th></th>\n",
       "      <th>mean</th>\n",
       "      <th>std</th>\n",
       "      <th>count</th>\n",
       "      <th>mean</th>\n",
       "      <th>std</th>\n",
       "      <th>count</th>\n",
       "      <th>mean</th>\n",
       "      <th>std</th>\n",
       "      <th>count</th>\n",
       "      <th>mean</th>\n",
       "      <th>...</th>\n",
       "      <th>count</th>\n",
       "      <th>mean</th>\n",
       "      <th>std</th>\n",
       "      <th>count</th>\n",
       "      <th>mean</th>\n",
       "      <th>std</th>\n",
       "      <th>count</th>\n",
       "      <th>mean</th>\n",
       "      <th>std</th>\n",
       "      <th>count</th>\n",
       "    </tr>\n",
       "    <tr>\n",
       "      <th>n_workers</th>\n",
       "      <th></th>\n",
       "      <th></th>\n",
       "      <th></th>\n",
       "      <th></th>\n",
       "      <th></th>\n",
       "      <th></th>\n",
       "      <th></th>\n",
       "      <th></th>\n",
       "      <th></th>\n",
       "      <th></th>\n",
       "      <th></th>\n",
       "      <th></th>\n",
       "      <th></th>\n",
       "      <th></th>\n",
       "      <th></th>\n",
       "      <th></th>\n",
       "      <th></th>\n",
       "      <th></th>\n",
       "      <th></th>\n",
       "      <th></th>\n",
       "      <th></th>\n",
       "    </tr>\n",
       "  </thead>\n",
       "  <tbody>\n",
       "    <tr>\n",
       "      <th>1</th>\n",
       "      <td>2</td>\n",
       "      <td>1.581139</td>\n",
       "      <td>5</td>\n",
       "      <td>221.660649</td>\n",
       "      <td>12.781328</td>\n",
       "      <td>5</td>\n",
       "      <td>0.913167</td>\n",
       "      <td>1.843105</td>\n",
       "      <td>5</td>\n",
       "      <td>0.32575</td>\n",
       "      <td>...</td>\n",
       "      <td>5</td>\n",
       "      <td>0.06169</td>\n",
       "      <td>0.041629</td>\n",
       "      <td>5</td>\n",
       "      <td>220.35977</td>\n",
       "      <td>11.05281</td>\n",
       "      <td>5</td>\n",
       "      <td>7004147</td>\n",
       "      <td>0.0</td>\n",
       "      <td>5</td>\n",
       "    </tr>\n",
       "  </tbody>\n",
       "</table>\n",
       "<p>1 rows × 21 columns</p>\n",
       "</div>"
      ],
      "text/plain": [
       "          sample_run                     overall                  data_read  \\\n",
       "                mean       std count        mean        std count      mean   \n",
       "n_workers                                                                     \n",
       "1                  2  1.581139     5  221.660649  12.781328     5  0.913167   \n",
       "\n",
       "                          data_preprocessing  ...       hashing_vectorizer  \\\n",
       "                std count               mean  ... count               mean   \n",
       "n_workers                                     ...                            \n",
       "1          1.843105     5            0.32575  ...     5            0.06169   \n",
       "\n",
       "                          tfidf_transformer                    nrows       \\\n",
       "                std count              mean       std count     mean  std   \n",
       "n_workers                                                                   \n",
       "1          0.041629     5         220.35977  11.05281     5  7004147  0.0   \n",
       "\n",
       "                 \n",
       "          count  \n",
       "n_workers        \n",
       "1             5  \n",
       "\n",
       "[1 rows x 21 columns]"
      ]
     },
     "execution_count": 10,
     "metadata": {},
     "output_type": "execute_result"
    }
   ],
   "source": [
    "groupy"
   ]
  },
  {
   "cell_type": "markdown",
   "id": "ad725920-52cf-4462-acfd-2f762723e12c",
   "metadata": {},
   "source": [
    "### We can run the exact same pipeline without the intermediate persists. But this apparently runs faster."
   ]
  },
  {
   "cell_type": "code",
   "execution_count": 11,
   "id": "f9c857e0-9fa5-499e-a184-09d51e87f71a",
   "metadata": {},
   "outputs": [
    {
     "name": "stderr",
     "output_type": "stream",
     "text": [
      "  0%|          | 0/5 [00:00<?, ?it/s]"
     ]
    },
    {
     "name": "stdout",
     "output_type": "stream",
     "text": [
      "Workers:1, Sample Run:0, Finished loading data in 62494373s\n",
      "Workers:1, Sample Run:0, Finished preprocessing data in 106825483s\n",
      "Workers:1, Sample Run:0, Finished fitting HashVectorizer in 14128796s\n",
      "Workers:1, Sample Run:0, Finished fitting IDF Transformer in 109276726185s\n"
     ]
    },
    {
     "name": "stderr",
     "output_type": "stream",
     "text": [
      " 20%|██        | 1/5 [01:49<07:19, 109.97s/it]"
     ]
    },
    {
     "name": "stdout",
     "output_type": "stream",
     "text": [
      "Workers:1, Sample Run:0, Finished executing full pipeline in 109460858709s\n",
      "Workers:1, Sample Run:1, Finished loading data in 63717683s\n",
      "Workers:1, Sample Run:1, Finished preprocessing data in 107238322s\n",
      "Workers:1, Sample Run:1, Finished fitting HashVectorizer in 14754207s\n",
      "Workers:1, Sample Run:1, Finished fitting IDF Transformer in 109420502144s\n"
     ]
    },
    {
     "name": "stderr",
     "output_type": "stream",
     "text": [
      " 40%|████      | 2/5 [03:40<05:30, 110.05s/it]"
     ]
    },
    {
     "name": "stdout",
     "output_type": "stream",
     "text": [
      "Workers:1, Sample Run:1, Finished executing full pipeline in 109606640748s\n",
      "Workers:1, Sample Run:2, Finished loading data in 62566593s\n",
      "Workers:1, Sample Run:2, Finished preprocessing data in 111943822s\n",
      "Workers:1, Sample Run:2, Finished fitting HashVectorizer in 15521925s\n",
      "Workers:1, Sample Run:2, Finished fitting IDF Transformer in 109575155048s\n"
     ]
    },
    {
     "name": "stderr",
     "output_type": "stream",
     "text": [
      " 60%|██████    | 3/5 [05:30<03:40, 110.17s/it]"
     ]
    },
    {
     "name": "stdout",
     "output_type": "stream",
     "text": [
      "Workers:1, Sample Run:2, Finished executing full pipeline in 109765352503s\n",
      "Workers:1, Sample Run:3, Finished loading data in 60910356s\n",
      "Workers:1, Sample Run:3, Finished preprocessing data in 100898732s\n",
      "Workers:1, Sample Run:3, Finished fitting HashVectorizer in 14551743s\n",
      "Workers:1, Sample Run:3, Finished fitting IDF Transformer in 111749026290s\n"
     ]
    },
    {
     "name": "stderr",
     "output_type": "stream",
     "text": [
      " 80%|████████  | 4/5 [07:22<01:51, 111.06s/it]"
     ]
    },
    {
     "name": "stdout",
     "output_type": "stream",
     "text": [
      "Workers:1, Sample Run:3, Finished executing full pipeline in 111925610767s\n",
      "Workers:1, Sample Run:4, Finished loading data in 60321329s\n",
      "Workers:1, Sample Run:4, Finished preprocessing data in 107452338s\n",
      "Workers:1, Sample Run:4, Finished fitting HashVectorizer in 14302423s\n",
      "Workers:1, Sample Run:4, Finished fitting IDF Transformer in 110608201544s\n"
     ]
    },
    {
     "name": "stderr",
     "output_type": "stream",
     "text": [
      "100%|██████████| 5/5 [09:14<00:00, 110.82s/it]"
     ]
    },
    {
     "name": "stdout",
     "output_type": "stream",
     "text": [
      "Workers:1, Sample Run:4, Finished executing full pipeline in 110790443080s\n"
     ]
    },
    {
     "name": "stderr",
     "output_type": "stream",
     "text": [
      "\n"
     ]
    },
    {
     "data": {
      "image/png": "[encoded data removed]",
      "text/plain": [
       "<Figure size 1200x800 with 1 Axes>"
      ]
     },
     "metadata": {},
     "output_type": "display_data"
    },
    {
     "name": "stdout",
     "output_type": "stream",
     "text": [
      "CPU times: user 504 ms, sys: 129 ms, total: 633 ms\n",
      "Wall time: 9min 14s\n"
     ]
    },
    {
     "data": {
      "text/html": [
       "<div>\n",
       "<style scoped>\n",
       "    .dataframe tbody tr th:only-of-type {\n",
       "        vertical-align: middle;\n",
       "    }\n",
       "\n",
       "    .dataframe tbody tr th {\n",
       "        vertical-align: top;\n",
       "    }\n",
       "\n",
       "    .dataframe thead tr th {\n",
       "        text-align: left;\n",
       "    }\n",
       "\n",
       "    .dataframe thead tr:last-of-type th {\n",
       "        text-align: right;\n",
       "    }\n",
       "</style>\n",
       "<table border=\"1\" class=\"dataframe\">\n",
       "  <thead>\n",
       "    <tr>\n",
       "      <th></th>\n",
       "      <th colspan=\"3\" halign=\"left\">sample_run</th>\n",
       "      <th colspan=\"3\" halign=\"left\">overall</th>\n",
       "      <th colspan=\"3\" halign=\"left\">data_read</th>\n",
       "      <th colspan=\"3\" halign=\"left\">data_preprocessing</th>\n",
       "      <th colspan=\"3\" halign=\"left\">hashing_vectorizer</th>\n",
       "      <th colspan=\"3\" halign=\"left\">tfidf_transformer</th>\n",
       "      <th colspan=\"3\" halign=\"left\">nrows</th>\n",
       "    </tr>\n",
       "    <tr>\n",
       "      <th></th>\n",
       "      <th>mean</th>\n",
       "      <th>std</th>\n",
       "      <th>count</th>\n",
       "      <th>mean</th>\n",
       "      <th>std</th>\n",
       "      <th>count</th>\n",
       "      <th>mean</th>\n",
       "      <th>std</th>\n",
       "      <th>count</th>\n",
       "      <th>mean</th>\n",
       "      <th>...</th>\n",
       "      <th>count</th>\n",
       "      <th>mean</th>\n",
       "      <th>std</th>\n",
       "      <th>count</th>\n",
       "      <th>mean</th>\n",
       "      <th>std</th>\n",
       "      <th>count</th>\n",
       "      <th>mean</th>\n",
       "      <th>std</th>\n",
       "      <th>count</th>\n",
       "    </tr>\n",
       "    <tr>\n",
       "      <th>n_workers</th>\n",
       "      <th></th>\n",
       "      <th></th>\n",
       "      <th></th>\n",
       "      <th></th>\n",
       "      <th></th>\n",
       "      <th></th>\n",
       "      <th></th>\n",
       "      <th></th>\n",
       "      <th></th>\n",
       "      <th></th>\n",
       "      <th></th>\n",
       "      <th></th>\n",
       "      <th></th>\n",
       "      <th></th>\n",
       "      <th></th>\n",
       "      <th></th>\n",
       "      <th></th>\n",
       "      <th></th>\n",
       "      <th></th>\n",
       "      <th></th>\n",
       "      <th></th>\n",
       "    </tr>\n",
       "  </thead>\n",
       "  <tbody>\n",
       "    <tr>\n",
       "      <th>1</th>\n",
       "      <td>2</td>\n",
       "      <td>1.581139</td>\n",
       "      <td>5</td>\n",
       "      <td>110.309781</td>\n",
       "      <td>1.043242</td>\n",
       "      <td>5</td>\n",
       "      <td>0.062002</td>\n",
       "      <td>0.001371</td>\n",
       "      <td>5</td>\n",
       "      <td>0.106872</td>\n",
       "      <td>...</td>\n",
       "      <td>5</td>\n",
       "      <td>0.014652</td>\n",
       "      <td>0.000542</td>\n",
       "      <td>5</td>\n",
       "      <td>110.125922</td>\n",
       "      <td>1.047516</td>\n",
       "      <td>5</td>\n",
       "      <td>7004147</td>\n",
       "      <td>0.0</td>\n",
       "      <td>5</td>\n",
       "    </tr>\n",
       "  </tbody>\n",
       "</table>\n",
       "<p>1 rows × 21 columns</p>\n",
       "</div>"
      ],
      "text/plain": [
       "          sample_run                     overall                 data_read  \\\n",
       "                mean       std count        mean       std count      mean   \n",
       "n_workers                                                                    \n",
       "1                  2  1.581139     5  110.309781  1.043242     5  0.062002   \n",
       "\n",
       "                          data_preprocessing  ...       hashing_vectorizer  \\\n",
       "                std count               mean  ... count               mean   \n",
       "n_workers                                     ...                            \n",
       "1          0.001371     5           0.106872  ...     5           0.014652   \n",
       "\n",
       "                          tfidf_transformer                    nrows       \\\n",
       "                std count              mean       std count     mean  std   \n",
       "n_workers                                                                   \n",
       "1          0.000542     5        110.125922  1.047516     5  7004147  0.0   \n",
       "\n",
       "                 \n",
       "          count  \n",
       "n_workers        \n",
       "1             5  \n",
       "\n",
       "[1 rows x 21 columns]"
      ]
     },
     "execution_count": 11,
     "metadata": {},
     "output_type": "execute_result"
    }
   ],
   "source": [
    "%%time\n",
    "dataset = \"PC\"\n",
    "parquet_path = f'./data/product_category={dataset}'\n",
    "samples = 5\n",
    "worker_counts = [1]\n",
    "result_path = f\"./results/result_poc_nlp_spark_{dataset}_nonpersist.pkl\"\n",
    "performance_numbers(parquet_path=parquet_path, worker_counts=worker_counts, samples=samples, result_path=result_path, persist_flag=False)\n",
    "data, melt_data = visualize_data(result_path) \n",
    "groupy = data.groupby(\"n_workers\").agg(['mean', 'std', 'count'])\n",
    "groupy"
   ]
  },
  {
   "cell_type": "code",
   "execution_count": null,
   "id": "39a2987a-76f4-4d71-aca8-e79f4f290522",
   "metadata": {},
   "outputs": [],
   "source": []
  }
 ],
 "metadata": {
  "kernelspec": {
   "display_name": "Python 3",
   "language": "python",
   "name": "python3"
  },
  "language_info": {
   "codemirror_mode": {
    "name": "ipython",
    "version": 3
   },
   "file_extension": ".py",
   "mimetype": "text/x-python",
   "name": "python",
   "nbconvert_exporter": "python",
   "pygments_lexer": "ipython3",
   "version": "3.8.10"
  }
 },
 "nbformat": 4,
 "nbformat_minor": 5
}
