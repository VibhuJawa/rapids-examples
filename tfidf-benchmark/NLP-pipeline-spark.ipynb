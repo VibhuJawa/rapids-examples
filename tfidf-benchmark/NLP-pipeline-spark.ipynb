{
 "cells": [
  {
   "cell_type": "markdown",
   "id": "826409b0-2bf6-403e-967b-2dda741e3577",
   "metadata": {},
   "source": [
    "# NLP tf-idf pipeline with Apache Spark"
   ]
  },
  {
   "cell_type": "code",
   "execution_count": 1,
   "id": "639f8a3c-70da-4dd3-8e2e-655452dfa306",
   "metadata": {},
   "outputs": [],
   "source": [
    "%matplotlib inline\n",
    "from pyspark import SparkContext\n",
    "from pyspark.sql import SparkSession\n",
    "from pyspark import SparkConf, StorageLevel\n",
    "from tqdm import tqdm\n",
    "from pyspark.ml.feature import HashingTF, IDF, Tokenizer, StopWordsRemover\n",
    "import pyspark.sql.functions as f\n",
    "import nltk"
   ]
  },
  {
   "cell_type": "code",
   "execution_count": null,
   "id": "b9726f45-c428-4811-ad0e-f6dc6f62a2ab",
   "metadata": {},
   "outputs": [],
   "source": [
    "# Import other utility functions for benhmarking purposes \n",
    "from utils import SimpleTimer, ResultsLogger, visualize_data"
   ]
  },
  {
   "cell_type": "markdown",
   "id": "163a5306-0e9d-47a8-af9e-3aa252b0277c",
   "metadata": {},
   "source": [
    "## Setting up the spark cluster"
   ]
  },
  {
   "cell_type": "code",
   "execution_count": 2,
   "id": "4fb60a49-0290-4f68-ba72-14d148de6565",
   "metadata": {},
   "outputs": [
    {
     "name": "stderr",
     "output_type": "stream",
     "text": [
      "21/08/10 08:19:44 WARN Utils: Your hostname, dgx05 resolves to a loopback address: 127.0.0.1; using 10.33.227.155 instead (on interface enp1s0f0)\n",
      "21/08/10 08:19:44 WARN Utils: Set SPARK_LOCAL_IP if you need to bind to another address\n",
      "WARNING: An illegal reflective access operation has occurred\n",
      "WARNING: Illegal reflective access by org.apache.spark.unsafe.Platform (file:/home/nfs/anirband/anaconda3/envs/rapids-21.08/lib/python3.8/site-packages/pyspark/jars/spark-unsafe_2.12-3.1.2.jar) to constructor java.nio.DirectByteBuffer(long,int)\n",
      "WARNING: Please consider reporting this to the maintainers of org.apache.spark.unsafe.Platform\n",
      "WARNING: Use --illegal-access=warn to enable warnings of further illegal reflective access operations\n",
      "WARNING: All illegal access operations will be denied in a future release\n",
      "21/08/10 08:19:45 WARN NativeCodeLoader: Unable to load native-hadoop library for your platform... using builtin-java classes where applicable\n",
      "Using Spark's default log4j profile: org/apache/spark/log4j-defaults.properties\n",
      "Setting default log level to \"WARN\".\n",
      "To adjust logging level use sc.setLogLevel(newLevel). For SparkR, use setLogLevel(newLevel).\n",
      "21/08/10 08:19:45 WARN SparkConf: Note that spark.local.dir will be overridden by the value set by the cluster manager (via SPARK_LOCAL_DIRS in mesos/standalone/kubernetes and LOCAL_DIRS in YARN).\n"
     ]
    },
    {
     "name": "stdout",
     "output_type": "stream",
     "text": [
      "[('spark.driver.maxResultSize', '20G'), ('spark.driver.host', '10.33.227.155'), ('spark.executor.id', 'driver'), ('spark.driver.bindAddress', '10.33.227.155'), ('spark.app.startTime', '1628608785275'), ('spark.driver.port', '43533'), ('spark.local.dir', './u01/tmp'), ('spark.rdd.compress', 'True'), ('spark.network.timeout', '7200s'), ('spark.app.id', 'local-1628608786005'), ('spark.app.name', 'SparkVectorizer'), ('spark.serializer.objectStreamReset', '100'), ('spark.driver.memory', '300G'), ('spark.master', 'local[*]'), ('spark.submit.pyFiles', ''), ('spark.submit.deployMode', 'client'), ('spark.ui.showConsoleProgress', 'true')]\n"
     ]
    }
   ],
   "source": [
    "conf = (SparkConf().setMaster(\"local[*]\")\n",
    "                .setAppName(\"SparkVectorizer\")\n",
    "                .set('spark.driver.memory', '300G')\n",
    "                .set('spark.driver.maxResultSize', '20G')\n",
    "                .set('spark.network.timeout', '7200s')\n",
    "                .set('spark.local.dir', './u01/tmp'))\n",
    "#                .set('spark.executor.cores', '20'))\n",
    "\n",
    "sc = SparkContext(conf=conf)\n",
    "sc.setLogLevel(\"FATAL\")\n",
    "spark = SparkSession(sc)\n",
    "print(sc._conf.getAll()) # check context settings"
   ]
  },
  {
   "cell_type": "markdown",
   "id": "76d60928-fd60-4129-b7d8-3dfacdeee210",
   "metadata": {},
   "source": [
    "## Benchmarking Code"
   ]
  },
  {
   "cell_type": "markdown",
   "id": "e5de53ec-c7db-4039-8dc6-17c4e974cbaa",
   "metadata": {},
   "source": [
    "### Helper functions"
   ]
  },
  {
   "cell_type": "code",
   "execution_count": 3,
   "id": "7cc38aaa-02ab-40d3-83bf-c3d00b0bf701",
   "metadata": {},
   "outputs": [
    {
     "name": "stderr",
     "output_type": "stream",
     "text": [
      "[nltk_data] Downloading package stopwords to\n",
      "[nltk_data]     /home/nfs/anirband/nltk_data...\n",
      "[nltk_data]   Package stopwords is already up-to-date!\n"
     ]
    }
   ],
   "source": [
    "nltk.download('stopwords')\n",
    "STOPWORDS = nltk.corpus.stopwords.words('english')\n",
    "PUNCTUATIONS = \"\"\"[!\"#$%&()*+-.\\/\\\\:;<=>?@\\[\\]^_`{|}\\t\\n\\',~—]\"\"\"\n",
    "\n",
    "def read_data(spark, parquet_path, benchmark=True):\n",
    "    data = spark.read.parquet(parquet_path)\n",
    "    if benchmark:\n",
    "        data.write.format(\"noop\").mode(\"overwrite\").save()\n",
    "    return data\n",
    "\n",
    "\n",
    "def text_preprocessor(data, column_name, PUNCTUATIONS, STOPWORDS, benchmark=True):\n",
    "    data = data.na.drop(subset=[column_name])\n",
    "    data = data.withColumn(column_name,f.lower(f.col(column_name)))\n",
    "    data = data.withColumn(column_name,f.regexp_replace(f.col(column_name), PUNCTUATIONS, ' '))\n",
    "    data = data.withColumn(column_name,f.trim(f.col(column_name)))\n",
    "    tokenizer = Tokenizer(inputCol=column_name, outputCol=\"words\")\n",
    "    data = tokenizer.transform(data)                  \n",
    "    stopwordsRemover = StopWordsRemover(inputCol=\"words\", outputCol=\"filtered\", stopWords=STOPWORDS)\n",
    "    data = stopwordsRemover.transform(data)\n",
    "    if benchmark:\n",
    "        data.write.format(\"noop\").mode(\"overwrite\").save()\n",
    "    return data\n",
    "\n",
    "\n",
    "def hashing_vectorizer(data, benchmark):\n",
    "    hashingTF = HashingTF(inputCol=\"filtered\", outputCol=\"rawFeatures\", numFeatures=2**20)\n",
    "    data = hashingTF.transform(data)\n",
    "    if benchmark:\n",
    "        data.write.format(\"noop\").mode(\"overwrite\").save()\n",
    "    return data\n",
    "\n",
    "\n",
    "def tfidf_transformer(data, benchmark):\n",
    "    idf = IDF(inputCol=\"rawFeatures\", outputCol=\"finalFeatures\").fit(data)\n",
    "    data = idf.transform(data)\n",
    "    if benchmark:\n",
    "        data.write.format(\"noop\").mode(\"overwrite\").save()\n",
    "    return data\n",
    "\n",
    "\n",
    "def execute_full_pipeline(n, i, spark, parquet_path, worker_counts=[1], samples=1, result_path=\"./results.csv\", benchmark=True):\n",
    "    sample_record = {\"overall\":0, \"data_read\":0, \"hashing_vectorizer\":0, \"tfid_transformer\":0, \"data_preprocessing\":0, \"nrows\":0}\n",
    "    with SimpleTimer() as timer:\n",
    "        data = read_data(spark, parquet_path, benchmark)\n",
    "    sample_record[\"data_read\"]=timer.elapsed/1e9\n",
    "    print(f\"Workers:{n}, Sample Run:{i}, Finished loading data in {sample_record['data_read']}s\")\n",
    "\n",
    "    with SimpleTimer() as timer:\n",
    "        data = text_preprocessor(data, \"review_body\", PUNCTUATIONS, STOPWORDS, benchmark)\n",
    "    sample_record[\"data_preprocessing\"]=timer.elapsed/1e9\n",
    "    print(f\"Workers:{n}, Sample Run:{i}, Finished preprocessing data in {sample_record['data_preprocessing']}s\")\n",
    "\n",
    "    with SimpleTimer() as timer:\n",
    "        data = hashing_vectorizer(data, benchmark)\n",
    "    sample_record[\"hashing_vectorizer\"]=timer.elapsed/1e9\n",
    "    print(f\"Workers:{n}, Sample Run:{i}, Finished fitting HashVectorizer in {sample_record['hashing_vectorizer']}s\")\n",
    "\n",
    "    with SimpleTimer() as timer:\n",
    "        data = tfidf_transformer(data, benchmark=True)\n",
    "    sample_record[\"tfidf_transformer\"]=timer.elapsed/1e9\n",
    "\n",
    "    print(f\"Workers:{n}, Sample Run:{i}, Finished fitting IDF Transformer in {sample_record['tfidf_transformer']}s\")\n",
    "    return data, sample_record\n"
   ]
  },
  {
   "cell_type": "code",
   "execution_count": 4,
   "id": "47062b33-ddf0-4de4-b319-af3b0f63fb31",
   "metadata": {},
   "outputs": [],
   "source": [
    "def performance_numbers(parquet_path, worker_counts=[1], samples=1, result_path=\"./results.csv\", benchmark=True):\n",
    "    \"\"\"\n",
    "    Main function to perform the performance sweep\n",
    "    \"\"\"\n",
    "    results_logger = ResultsLogger(result_path)    \n",
    "    for n in worker_counts: \n",
    "        for i in tqdm(range(samples)): \n",
    "            with SimpleTimer() as overalltimer:\n",
    "                data, sample_record = execute_full_pipeline(n, i, spark, parquet_path, worker_counts=[1], samples=1, result_path=result_path, benchmark=benchmark)                \n",
    "            sample_record[\"overall\"]=overalltimer.elapsed/1e9\n",
    "            sample_record[\"nrows\"]=  data.count()\n",
    "            sample_record[\"n_workers\"]=n\n",
    "            sample_record[\"sample_run\"]=i\n",
    "            print(f\"Workers:{n}, Sample Run:{i}, Finished executing full pipeline in {overalltimer.elapsed/1e9}s\")\n",
    "            results_logger.log(sample_record)\n",
    "    results_logger.write()           "
   ]
  },
  {
   "cell_type": "code",
   "execution_count": 5,
   "id": "d6d27907-94d5-414a-93ae-0997a887ff44",
   "metadata": {},
   "outputs": [],
   "source": [
    "dataset = \"Books\"\n",
    "parquet_path = f'./data/product_category={dataset}'\n",
    "samples = 5\n",
    "worker_counts = [1]\n",
    "result_path = f\"./results/result_poc_nlp_spark_{dataset}_persist.csv\""
   ]
  },
  {
   "cell_type": "markdown",
   "id": "3414a428-14a1-4712-b9a3-6ea6cf460a4a",
   "metadata": {
    "tags": []
   },
   "source": [
    "## Benchmark latency by materializing the intermediate dataframe(s) in every stage"
   ]
  },
  {
   "cell_type": "code",
   "execution_count": 6,
   "id": "6313056b-2cf0-44f4-a3c9-a6e101e74c17",
   "metadata": {},
   "outputs": [
    {
     "name": "stderr",
     "output_type": "stream",
     "text": [
      "                                                                                                                                                                                           | 0/5 [00:00<?, ?it/s]\r"
     ]
    },
    {
     "name": "stdout",
     "output_type": "stream",
     "text": [
      "Workers:1, Sample Run:0, Finished loading data in 15.573205264s\n"
     ]
    },
    {
     "name": "stderr",
     "output_type": "stream",
     "text": [
      "                                                                                \r"
     ]
    },
    {
     "name": "stdout",
     "output_type": "stream",
     "text": [
      "Workers:1, Sample Run:0, Finished preprocessing data in 99.933905162s\n"
     ]
    },
    {
     "name": "stderr",
     "output_type": "stream",
     "text": [
      "                                                                                \r"
     ]
    },
    {
     "name": "stdout",
     "output_type": "stream",
     "text": [
      "Workers:1, Sample Run:0, Finished fitting HashVectorizer in 224.441637108s\n"
     ]
    },
    {
     "name": "stderr",
     "output_type": "stream",
     "text": [
      "                                                                                \r"
     ]
    },
    {
     "name": "stdout",
     "output_type": "stream",
     "text": [
      "Workers:1, Sample Run:0, Finished fitting IDF Transformer in 476.094666413s\n"
     ]
    },
    {
     "name": "stderr",
     "output_type": "stream",
     "text": [
      " 20%|██████████████████████████████████▌                                                                                                                                          | 1/5 [13:40<54:40, 820.09s/it]"
     ]
    },
    {
     "name": "stdout",
     "output_type": "stream",
     "text": [
      "Workers:1, Sample Run:0, Finished executing full pipeline in 816.043736746s\n"
     ]
    },
    {
     "name": "stderr",
     "output_type": "stream",
     "text": [
      "                                                                                \r"
     ]
    },
    {
     "name": "stdout",
     "output_type": "stream",
     "text": [
      "Workers:1, Sample Run:1, Finished loading data in 5.342409042s\n"
     ]
    },
    {
     "name": "stderr",
     "output_type": "stream",
     "text": [
      "                                                                                \r"
     ]
    },
    {
     "name": "stdout",
     "output_type": "stream",
     "text": [
      "Workers:1, Sample Run:1, Finished preprocessing data in 84.969079311s\n"
     ]
    },
    {
     "name": "stderr",
     "output_type": "stream",
     "text": [
      "                                                                                \r"
     ]
    },
    {
     "name": "stdout",
     "output_type": "stream",
     "text": [
      "Workers:1, Sample Run:1, Finished fitting HashVectorizer in 232.244400033s\n"
     ]
    },
    {
     "name": "stderr",
     "output_type": "stream",
     "text": [
      "                                                                                \r"
     ]
    },
    {
     "name": "stdout",
     "output_type": "stream",
     "text": [
      "Workers:1, Sample Run:1, Finished fitting IDF Transformer in 496.025510115s\n"
     ]
    },
    {
     "name": "stderr",
     "output_type": "stream",
     "text": [
      " 40%|█████████████████████████████████████████████████████████████████████▏                                                                                                       | 2/5 [27:22<41:04, 821.54s/it]"
     ]
    },
    {
     "name": "stdout",
     "output_type": "stream",
     "text": [
      "Workers:1, Sample Run:1, Finished executing full pipeline in 818.581720909s\n"
     ]
    },
    {
     "name": "stderr",
     "output_type": "stream",
     "text": [
      "                                                                                \r"
     ]
    },
    {
     "name": "stdout",
     "output_type": "stream",
     "text": [
      "Workers:1, Sample Run:2, Finished loading data in 7.241683647s\n"
     ]
    },
    {
     "name": "stderr",
     "output_type": "stream",
     "text": [
      "                                                                                \r"
     ]
    },
    {
     "name": "stdout",
     "output_type": "stream",
     "text": [
      "Workers:1, Sample Run:2, Finished preprocessing data in 84.478218058s\n"
     ]
    },
    {
     "name": "stderr",
     "output_type": "stream",
     "text": [
      "                                                                                \r"
     ]
    },
    {
     "name": "stdout",
     "output_type": "stream",
     "text": [
      "Workers:1, Sample Run:2, Finished fitting HashVectorizer in 242.327273017s\n"
     ]
    },
    {
     "name": "stderr",
     "output_type": "stream",
     "text": [
      "                                                                                \r"
     ]
    },
    {
     "name": "stdout",
     "output_type": "stream",
     "text": [
      "Workers:1, Sample Run:2, Finished fitting IDF Transformer in 485.750909732s\n"
     ]
    },
    {
     "name": "stderr",
     "output_type": "stream",
     "text": [
      " 60%|███████████████████████████████████████████████████████████████████████████████████████████████████████▊                                                                     | 3/5 [41:06<27:24, 822.41s/it]"
     ]
    },
    {
     "name": "stdout",
     "output_type": "stream",
     "text": [
      "Workers:1, Sample Run:2, Finished executing full pipeline in 819.798468078s\n"
     ]
    },
    {
     "name": "stderr",
     "output_type": "stream",
     "text": [
      "                                                                                \r"
     ]
    },
    {
     "name": "stdout",
     "output_type": "stream",
     "text": [
      "Workers:1, Sample Run:3, Finished loading data in 5.755699393s\n"
     ]
    },
    {
     "name": "stderr",
     "output_type": "stream",
     "text": [
      "                                                                                \r"
     ]
    },
    {
     "name": "stdout",
     "output_type": "stream",
     "text": [
      "Workers:1, Sample Run:3, Finished preprocessing data in 84.500678128s\n"
     ]
    },
    {
     "name": "stderr",
     "output_type": "stream",
     "text": [
      "                                                                                \r"
     ]
    },
    {
     "name": "stdout",
     "output_type": "stream",
     "text": [
      "Workers:1, Sample Run:3, Finished fitting HashVectorizer in 234.904173877s\n"
     ]
    },
    {
     "name": "stderr",
     "output_type": "stream",
     "text": [
      "                                                                                \r"
     ]
    },
    {
     "name": "stdout",
     "output_type": "stream",
     "text": [
      "Workers:1, Sample Run:3, Finished fitting IDF Transformer in 512.904827754s\n"
     ]
    },
    {
     "name": "stderr",
     "output_type": "stream",
     "text": [
      " 80%|██████████████████████████████████████████████████████████████████████████████████████████████████████████████████████████████████████████▍                                  | 4/5 [55:07<13:50, 830.08s/it]"
     ]
    },
    {
     "name": "stdout",
     "output_type": "stream",
     "text": [
      "Workers:1, Sample Run:3, Finished executing full pipeline in 838.06573788s\n"
     ]
    },
    {
     "name": "stderr",
     "output_type": "stream",
     "text": [
      "                                                                                \r"
     ]
    },
    {
     "name": "stdout",
     "output_type": "stream",
     "text": [
      "Workers:1, Sample Run:4, Finished loading data in 5.325011768s\n"
     ]
    },
    {
     "name": "stderr",
     "output_type": "stream",
     "text": [
      "                                                                                \r"
     ]
    },
    {
     "name": "stdout",
     "output_type": "stream",
     "text": [
      "Workers:1, Sample Run:4, Finished preprocessing data in 88.009767886s\n"
     ]
    },
    {
     "name": "stderr",
     "output_type": "stream",
     "text": [
      "                                                                                \r"
     ]
    },
    {
     "name": "stdout",
     "output_type": "stream",
     "text": [
      "Workers:1, Sample Run:4, Finished fitting HashVectorizer in 252.43559502s\n"
     ]
    },
    {
     "name": "stderr",
     "output_type": "stream",
     "text": [
      "                                                                                \r"
     ]
    },
    {
     "name": "stdout",
     "output_type": "stream",
     "text": [
      "Workers:1, Sample Run:4, Finished fitting IDF Transformer in 480.10354941s\n"
     ]
    },
    {
     "name": "stderr",
     "output_type": "stream",
     "text": [
      "100%|███████████████████████████████████████████████████████████████████████████████████████████████████████████████████████████████████████████████████████████████████████████| 5/5 [1:08:57<00:00, 827.50s/it]"
     ]
    },
    {
     "name": "stdout",
     "output_type": "stream",
     "text": [
      "Workers:1, Sample Run:4, Finished executing full pipeline in 825.87436132s\n",
      "CPU times: user 2.2 s, sys: 714 ms, total: 2.91 s\n",
      "Wall time: 1h 8min 57s\n"
     ]
    },
    {
     "name": "stderr",
     "output_type": "stream",
     "text": [
      "\n"
     ]
    }
   ],
   "source": [
    "%%time\n",
    "performance_numbers(parquet_path=parquet_path, worker_counts=worker_counts, samples=samples, result_path=result_path, benchmark=True)"
   ]
  },
  {
   "cell_type": "code",
   "execution_count": 7,
   "id": "cc55ef40-905f-4399-a600-b5af67d6ea8d",
   "metadata": {},
   "outputs": [
    {
     "data": {
      "image/png": "[encoded data removed]",
      "text/plain": [
       "<Figure size 1200x800 with 1 Axes>"
      ]
     },
     "metadata": {},
     "output_type": "display_data"
    },
    {
     "data": {
      "text/html": [
       "<div>\n",
       "<style scoped>\n",
       "    .dataframe tbody tr th:only-of-type {\n",
       "        vertical-align: middle;\n",
       "    }\n",
       "\n",
       "    .dataframe tbody tr th {\n",
       "        vertical-align: top;\n",
       "    }\n",
       "\n",
       "    .dataframe thead tr th {\n",
       "        text-align: left;\n",
       "    }\n",
       "\n",
       "    .dataframe thead tr:last-of-type th {\n",
       "        text-align: right;\n",
       "    }\n",
       "</style>\n",
       "<table border=\"1\" class=\"dataframe\">\n",
       "  <thead>\n",
       "    <tr>\n",
       "      <th></th>\n",
       "      <th colspan=\"3\" halign=\"left\">Unnamed: 0</th>\n",
       "      <th colspan=\"3\" halign=\"left\">overall</th>\n",
       "      <th colspan=\"3\" halign=\"left\">data_read</th>\n",
       "      <th>hashing_vectorizer</th>\n",
       "      <th>...</th>\n",
       "      <th>data_preprocessing</th>\n",
       "      <th colspan=\"3\" halign=\"left\">nrows</th>\n",
       "      <th colspan=\"3\" halign=\"left\">tfidf_transformer</th>\n",
       "      <th colspan=\"3\" halign=\"left\">sample_run</th>\n",
       "    </tr>\n",
       "    <tr>\n",
       "      <th></th>\n",
       "      <th>mean</th>\n",
       "      <th>std</th>\n",
       "      <th>count</th>\n",
       "      <th>mean</th>\n",
       "      <th>std</th>\n",
       "      <th>count</th>\n",
       "      <th>mean</th>\n",
       "      <th>std</th>\n",
       "      <th>count</th>\n",
       "      <th>mean</th>\n",
       "      <th>...</th>\n",
       "      <th>count</th>\n",
       "      <th>mean</th>\n",
       "      <th>std</th>\n",
       "      <th>count</th>\n",
       "      <th>mean</th>\n",
       "      <th>std</th>\n",
       "      <th>count</th>\n",
       "      <th>mean</th>\n",
       "      <th>std</th>\n",
       "      <th>count</th>\n",
       "    </tr>\n",
       "    <tr>\n",
       "      <th>n_workers</th>\n",
       "      <th></th>\n",
       "      <th></th>\n",
       "      <th></th>\n",
       "      <th></th>\n",
       "      <th></th>\n",
       "      <th></th>\n",
       "      <th></th>\n",
       "      <th></th>\n",
       "      <th></th>\n",
       "      <th></th>\n",
       "      <th></th>\n",
       "      <th></th>\n",
       "      <th></th>\n",
       "      <th></th>\n",
       "      <th></th>\n",
       "      <th></th>\n",
       "      <th></th>\n",
       "      <th></th>\n",
       "      <th></th>\n",
       "      <th></th>\n",
       "      <th></th>\n",
       "    </tr>\n",
       "  </thead>\n",
       "  <tbody>\n",
       "    <tr>\n",
       "      <th>1</th>\n",
       "      <td>2</td>\n",
       "      <td>1.581139</td>\n",
       "      <td>5</td>\n",
       "      <td>823.672805</td>\n",
       "      <td>8.819519</td>\n",
       "      <td>5</td>\n",
       "      <td>7.847602</td>\n",
       "      <td>4.389407</td>\n",
       "      <td>5</td>\n",
       "      <td>237.270616</td>\n",
       "      <td>...</td>\n",
       "      <td>5</td>\n",
       "      <td>20725971</td>\n",
       "      <td>0.0</td>\n",
       "      <td>5</td>\n",
       "      <td>490.175893</td>\n",
       "      <td>14.749034</td>\n",
       "      <td>5</td>\n",
       "      <td>2</td>\n",
       "      <td>1.581139</td>\n",
       "      <td>5</td>\n",
       "    </tr>\n",
       "  </tbody>\n",
       "</table>\n",
       "<p>1 rows × 27 columns</p>\n",
       "</div>"
      ],
      "text/plain": [
       "          Unnamed: 0                     overall                 data_read  \\\n",
       "                mean       std count        mean       std count      mean   \n",
       "n_workers                                                                    \n",
       "1                  2  1.581139     5  823.672805  8.819519     5  7.847602   \n",
       "\n",
       "                          hashing_vectorizer  ... data_preprocessing  \\\n",
       "                std count               mean  ...              count   \n",
       "n_workers                                     ...                      \n",
       "1          4.389407     5         237.270616  ...                  5   \n",
       "\n",
       "              nrows            tfidf_transformer                  sample_run  \\\n",
       "               mean  std count              mean        std count       mean   \n",
       "n_workers                                                                      \n",
       "1          20725971  0.0     5        490.175893  14.749034     5          2   \n",
       "\n",
       "                           \n",
       "                std count  \n",
       "n_workers                  \n",
       "1          1.581139     5  \n",
       "\n",
       "[1 rows x 27 columns]"
      ]
     },
     "execution_count": 7,
     "metadata": {},
     "output_type": "execute_result"
    }
   ],
   "source": [
    "data, melt_data = visualize_data(result_path) \n",
    "groupy = data.groupby(\"n_workers\").agg(['mean', 'std', 'count'])\n",
    "groupy"
   ]
  },
  {
   "cell_type": "markdown",
   "id": "b14a7165-f091-45ee-b042-4cfaaf033597",
   "metadata": {},
   "source": [
    "## Benchmark latency without materializing the intermediate dataframe(s) except for the last stage"
   ]
  },
  {
   "cell_type": "code",
   "execution_count": 8,
   "id": "55edff6b-909c-4c38-ad20-0648ecabdf5a",
   "metadata": {},
   "outputs": [],
   "source": [
    "dataset = \"Books\"\n",
    "parquet_path = f'./data/product_category={dataset}'\n",
    "samples = 5\n",
    "worker_counts = [1]\n",
    "result_path = f\"./results/result_poc_nlp_spark_{dataset}_nonpersist.csv\""
   ]
  },
  {
   "cell_type": "code",
   "execution_count": 9,
   "id": "f1cfb423-382d-4ebe-80ea-97613c2cdcbd",
   "metadata": {},
   "outputs": [
    {
     "name": "stderr",
     "output_type": "stream",
     "text": [
      "  0%|                                                                                                                                                                                      | 0/5 [00:00<?, ?it/s]"
     ]
    },
    {
     "name": "stdout",
     "output_type": "stream",
     "text": [
      "Workers:1, Sample Run:0, Finished loading data in 0.053811395s\n",
      "Workers:1, Sample Run:0, Finished preprocessing data in 0.085813628s\n",
      "Workers:1, Sample Run:0, Finished fitting HashVectorizer in 0.012808065s\n"
     ]
    },
    {
     "name": "stderr",
     "output_type": "stream",
     "text": [
      "                                                                                \r"
     ]
    },
    {
     "name": "stdout",
     "output_type": "stream",
     "text": [
      "Workers:1, Sample Run:0, Finished fitting IDF Transformer in 495.135677361s\n"
     ]
    },
    {
     "name": "stderr",
     "output_type": "stream",
     "text": [
      " 20%|██████████████████████████████████▌                                                                                                                                          | 1/5 [08:19<33:16, 499.01s/it]"
     ]
    },
    {
     "name": "stdout",
     "output_type": "stream",
     "text": [
      "Workers:1, Sample Run:0, Finished executing full pipeline in 495.288444702s\n",
      "Workers:1, Sample Run:1, Finished loading data in 0.054132723s\n",
      "Workers:1, Sample Run:1, Finished preprocessing data in 0.085969944s\n",
      "Workers:1, Sample Run:1, Finished fitting HashVectorizer in 0.010825903s\n"
     ]
    },
    {
     "name": "stderr",
     "output_type": "stream",
     "text": [
      "                                                                                \r"
     ]
    },
    {
     "name": "stdout",
     "output_type": "stream",
     "text": [
      "Workers:1, Sample Run:1, Finished fitting IDF Transformer in 489.60264035s\n"
     ]
    },
    {
     "name": "stderr",
     "output_type": "stream",
     "text": [
      " 40%|█████████████████████████████████████████████████████████████████████▏                                                                                                       | 2/5 [16:32<24:47, 495.73s/it]"
     ]
    },
    {
     "name": "stdout",
     "output_type": "stream",
     "text": [
      "Workers:1, Sample Run:1, Finished executing full pipeline in 489.753846574s\n",
      "Workers:1, Sample Run:2, Finished loading data in 0.058800911s\n",
      "Workers:1, Sample Run:2, Finished preprocessing data in 0.105088108s\n",
      "Workers:1, Sample Run:2, Finished fitting HashVectorizer in 0.015559603s\n"
     ]
    },
    {
     "name": "stderr",
     "output_type": "stream",
     "text": [
      "                                                                                \r"
     ]
    },
    {
     "name": "stdout",
     "output_type": "stream",
     "text": [
      "Workers:1, Sample Run:2, Finished fitting IDF Transformer in 509.608449582s\n"
     ]
    },
    {
     "name": "stderr",
     "output_type": "stream",
     "text": [
      " 60%|███████████████████████████████████████████████████████████████████████████████████████████████████████▊                                                                     | 3/5 [25:06<16:47, 503.90s/it]"
     ]
    },
    {
     "name": "stdout",
     "output_type": "stream",
     "text": [
      "Workers:1, Sample Run:2, Finished executing full pipeline in 509.78834741s\n",
      "Workers:1, Sample Run:3, Finished loading data in 0.059598704s\n",
      "Workers:1, Sample Run:3, Finished preprocessing data in 0.098582851s\n",
      "Workers:1, Sample Run:3, Finished fitting HashVectorizer in 0.012009641s\n"
     ]
    },
    {
     "name": "stderr",
     "output_type": "stream",
     "text": [
      "                                                                                \r"
     ]
    },
    {
     "name": "stdout",
     "output_type": "stream",
     "text": [
      "Workers:1, Sample Run:3, Finished fitting IDF Transformer in 496.176801962s\n"
     ]
    },
    {
     "name": "stderr",
     "output_type": "stream",
     "text": [
      " 80%|██████████████████████████████████████████████████████████████████████████████████████████████████████████████████████████████████████████▍                                  | 4/5 [33:27<08:22, 502.76s/it]"
     ]
    },
    {
     "name": "stdout",
     "output_type": "stream",
     "text": [
      "Workers:1, Sample Run:3, Finished executing full pipeline in 496.347411208s\n",
      "Workers:1, Sample Run:4, Finished loading data in 0.057208275s\n",
      "Workers:1, Sample Run:4, Finished preprocessing data in 0.106583544s\n",
      "Workers:1, Sample Run:4, Finished fitting HashVectorizer in 0.015060722s\n"
     ]
    },
    {
     "name": "stderr",
     "output_type": "stream",
     "text": [
      "                                                                                \r"
     ]
    },
    {
     "name": "stdout",
     "output_type": "stream",
     "text": [
      "Workers:1, Sample Run:4, Finished fitting IDF Transformer in 483.903347223s\n"
     ]
    },
    {
     "name": "stderr",
     "output_type": "stream",
     "text": [
      "100%|█████████████████████████████████████████████████████████████████████████████████████████████████████████████████████████████████████████████████████████████████████████████| 5/5 [41:34<00:00, 499.00s/it]"
     ]
    },
    {
     "name": "stdout",
     "output_type": "stream",
     "text": [
      "Workers:1, Sample Run:4, Finished executing full pipeline in 484.082631939s\n",
      "CPU times: user 1.33 s, sys: 385 ms, total: 1.72 s\n",
      "Wall time: 41min 34s\n"
     ]
    },
    {
     "name": "stderr",
     "output_type": "stream",
     "text": [
      "\n"
     ]
    }
   ],
   "source": [
    "%%time\n",
    "performance_numbers(parquet_path=parquet_path, worker_counts=worker_counts, samples=samples, result_path=result_path, benchmark=False)"
   ]
  },
  {
   "cell_type": "code",
   "execution_count": 10,
   "id": "ef97ce8b-7075-4caf-8d41-bf330b52b787",
   "metadata": {},
   "outputs": [
    {
     "data": {
      "image/png": "[encoded data removed]",
      "text/plain": [
       "<Figure size 1200x800 with 1 Axes>"
      ]
     },
     "metadata": {},
     "output_type": "display_data"
    },
    {
     "data": {
      "text/html": [
       "<div>\n",
       "<style scoped>\n",
       "    .dataframe tbody tr th:only-of-type {\n",
       "        vertical-align: middle;\n",
       "    }\n",
       "\n",
       "    .dataframe tbody tr th {\n",
       "        vertical-align: top;\n",
       "    }\n",
       "\n",
       "    .dataframe thead tr th {\n",
       "        text-align: left;\n",
       "    }\n",
       "\n",
       "    .dataframe thead tr:last-of-type th {\n",
       "        text-align: right;\n",
       "    }\n",
       "</style>\n",
       "<table border=\"1\" class=\"dataframe\">\n",
       "  <thead>\n",
       "    <tr>\n",
       "      <th></th>\n",
       "      <th colspan=\"3\" halign=\"left\">Unnamed: 0</th>\n",
       "      <th colspan=\"3\" halign=\"left\">overall</th>\n",
       "      <th colspan=\"3\" halign=\"left\">data_read</th>\n",
       "      <th>hashing_vectorizer</th>\n",
       "      <th>...</th>\n",
       "      <th>data_preprocessing</th>\n",
       "      <th colspan=\"3\" halign=\"left\">nrows</th>\n",
       "      <th colspan=\"3\" halign=\"left\">tfidf_transformer</th>\n",
       "      <th colspan=\"3\" halign=\"left\">sample_run</th>\n",
       "    </tr>\n",
       "    <tr>\n",
       "      <th></th>\n",
       "      <th>mean</th>\n",
       "      <th>std</th>\n",
       "      <th>count</th>\n",
       "      <th>mean</th>\n",
       "      <th>std</th>\n",
       "      <th>count</th>\n",
       "      <th>mean</th>\n",
       "      <th>std</th>\n",
       "      <th>count</th>\n",
       "      <th>mean</th>\n",
       "      <th>...</th>\n",
       "      <th>count</th>\n",
       "      <th>mean</th>\n",
       "      <th>std</th>\n",
       "      <th>count</th>\n",
       "      <th>mean</th>\n",
       "      <th>std</th>\n",
       "      <th>count</th>\n",
       "      <th>mean</th>\n",
       "      <th>std</th>\n",
       "      <th>count</th>\n",
       "    </tr>\n",
       "    <tr>\n",
       "      <th>n_workers</th>\n",
       "      <th></th>\n",
       "      <th></th>\n",
       "      <th></th>\n",
       "      <th></th>\n",
       "      <th></th>\n",
       "      <th></th>\n",
       "      <th></th>\n",
       "      <th></th>\n",
       "      <th></th>\n",
       "      <th></th>\n",
       "      <th></th>\n",
       "      <th></th>\n",
       "      <th></th>\n",
       "      <th></th>\n",
       "      <th></th>\n",
       "      <th></th>\n",
       "      <th></th>\n",
       "      <th></th>\n",
       "      <th></th>\n",
       "      <th></th>\n",
       "      <th></th>\n",
       "    </tr>\n",
       "  </thead>\n",
       "  <tbody>\n",
       "    <tr>\n",
       "      <th>1</th>\n",
       "      <td>2</td>\n",
       "      <td>1.581139</td>\n",
       "      <td>5</td>\n",
       "      <td>495.052136</td>\n",
       "      <td>9.582424</td>\n",
       "      <td>5</td>\n",
       "      <td>0.05671</td>\n",
       "      <td>0.002646</td>\n",
       "      <td>5</td>\n",
       "      <td>0.013253</td>\n",
       "      <td>...</td>\n",
       "      <td>5</td>\n",
       "      <td>20725971</td>\n",
       "      <td>0.0</td>\n",
       "      <td>5</td>\n",
       "      <td>494.885383</td>\n",
       "      <td>9.578773</td>\n",
       "      <td>5</td>\n",
       "      <td>2</td>\n",
       "      <td>1.581139</td>\n",
       "      <td>5</td>\n",
       "    </tr>\n",
       "  </tbody>\n",
       "</table>\n",
       "<p>1 rows × 27 columns</p>\n",
       "</div>"
      ],
      "text/plain": [
       "          Unnamed: 0                     overall                 data_read  \\\n",
       "                mean       std count        mean       std count      mean   \n",
       "n_workers                                                                    \n",
       "1                  2  1.581139     5  495.052136  9.582424     5   0.05671   \n",
       "\n",
       "                          hashing_vectorizer  ... data_preprocessing  \\\n",
       "                std count               mean  ...              count   \n",
       "n_workers                                     ...                      \n",
       "1          0.002646     5           0.013253  ...                  5   \n",
       "\n",
       "              nrows            tfidf_transformer                 sample_run  \\\n",
       "               mean  std count              mean       std count       mean   \n",
       "n_workers                                                                     \n",
       "1          20725971  0.0     5        494.885383  9.578773     5          2   \n",
       "\n",
       "                           \n",
       "                std count  \n",
       "n_workers                  \n",
       "1          1.581139     5  \n",
       "\n",
       "[1 rows x 27 columns]"
      ]
     },
     "execution_count": 10,
     "metadata": {},
     "output_type": "execute_result"
    }
   ],
   "source": [
    "data, melt_data = visualize_data(result_path) \n",
    "groupy = data.groupby(\"n_workers\").agg(['mean', 'std', 'count'])\n",
    "groupy"
   ]
  },
  {
   "cell_type": "code",
   "execution_count": null,
   "id": "38d800a3-6c16-46f1-927a-31208341a712",
   "metadata": {},
   "outputs": [],
   "source": []
  }
 ],
 "metadata": {
  "kernelspec": {
   "display_name": "Python 3 (ipykernel)",
   "language": "python",
   "name": "python3"
  },
  "language_info": {
   "codemirror_mode": {
    "name": "ipython",
    "version": 3
   },
   "file_extension": ".py",
   "mimetype": "text/x-python",
   "name": "python",
   "nbconvert_exporter": "python",
   "pygments_lexer": "ipython3",
   "version": "3.8.10"
  }
 },
 "nbformat": 4,
 "nbformat_minor": 5
}
