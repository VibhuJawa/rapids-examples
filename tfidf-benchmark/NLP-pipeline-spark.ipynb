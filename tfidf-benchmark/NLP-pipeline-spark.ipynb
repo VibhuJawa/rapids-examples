{
 "cells": [
  {
   "cell_type": "markdown",
   "id": "826409b0-2bf6-403e-967b-2dda741e3577",
   "metadata": {},
   "source": [
    "# NLP tf-idf pipeline with Apache Spark"
   ]
  },
  {
   "cell_type": "code",
   "execution_count": 1,
   "id": "639f8a3c-70da-4dd3-8e2e-655452dfa306",
   "metadata": {},
   "outputs": [],
   "source": [
    "%matplotlib inline\n",
    "from pyspark import SparkContext\n",
    "from pyspark.sql import SparkSession\n",
    "from pyspark import SparkConf, StorageLevel\n",
    "from tqdm import tqdm\n",
    "from pyspark.ml.feature import HashingTF, IDF, Tokenizer, StopWordsRemover\n",
    "import pyspark.sql.functions as f\n",
    "import nltk"
   ]
  },
  {
   "cell_type": "markdown",
   "id": "35119fcb-db90-4ee7-8afd-2d815ac64cb2",
   "metadata": {},
   "source": [
    "### Import other utility functions for benchmarking purposes "
   ]
  },
  {
   "cell_type": "code",
   "execution_count": 2,
   "id": "b9726f45-c428-4811-ad0e-f6dc6f62a2ab",
   "metadata": {},
   "outputs": [],
   "source": [
    "from utils import SimpleTimer, ResultsLogger, visualize_data"
   ]
  },
  {
   "cell_type": "markdown",
   "id": "163a5306-0e9d-47a8-af9e-3aa252b0277c",
   "metadata": {},
   "source": [
    "## Setting up the spark cluster"
   ]
  },
  {
   "cell_type": "code",
   "execution_count": 3,
   "id": "4fb60a49-0290-4f68-ba72-14d148de6565",
   "metadata": {},
   "outputs": [
    {
     "name": "stderr",
     "output_type": "stream",
     "text": [
      "21/08/11 08:43:57 WARN Utils: Your hostname, dgx05 resolves to a loopback address: 127.0.0.1; using 10.33.227.155 instead (on interface enp1s0f0)\n",
      "21/08/11 08:43:57 WARN Utils: Set SPARK_LOCAL_IP if you need to bind to another address\n",
      "WARNING: An illegal reflective access operation has occurred\n",
      "WARNING: Illegal reflective access by org.apache.spark.unsafe.Platform (file:/home/nfs/anirband/anaconda3/envs/rapids-21.08/lib/python3.8/site-packages/pyspark/jars/spark-unsafe_2.12-3.1.2.jar) to constructor java.nio.DirectByteBuffer(long,int)\n",
      "WARNING: Please consider reporting this to the maintainers of org.apache.spark.unsafe.Platform\n",
      "WARNING: Use --illegal-access=warn to enable warnings of further illegal reflective access operations\n",
      "WARNING: All illegal access operations will be denied in a future release\n",
      "21/08/11 08:43:58 WARN NativeCodeLoader: Unable to load native-hadoop library for your platform... using builtin-java classes where applicable\n",
      "Using Spark's default log4j profile: org/apache/spark/log4j-defaults.properties\n",
      "Setting default log level to \"WARN\".\n",
      "To adjust logging level use sc.setLogLevel(newLevel). For SparkR, use setLogLevel(newLevel).\n",
      "21/08/11 08:43:58 WARN SparkConf: Note that spark.local.dir will be overridden by the value set by the cluster manager (via SPARK_LOCAL_DIRS in mesos/standalone/kubernetes and LOCAL_DIRS in YARN).\n"
     ]
    },
    {
     "name": "stdout",
     "output_type": "stream",
     "text": [
      "[('spark.driver.maxResultSize', '20G'), ('spark.app.id', 'local-1628696639107'), ('spark.driver.host', '10.33.227.155'), ('spark.executor.id', 'driver'), ('spark.driver.port', '42921'), ('spark.local.dir', '/raid/tfidf_benchmark/'), ('spark.app.startTime', '1628696638294'), ('spark.rdd.compress', 'True'), ('spark.network.timeout', '7200s'), ('spark.app.name', 'SparkVectorizer'), ('spark.serializer.objectStreamReset', '100'), ('spark.driver.memory', '300G'), ('spark.master', 'local[*]'), ('spark.submit.pyFiles', ''), ('spark.submit.deployMode', 'client'), ('spark.ui.showConsoleProgress', 'true')]\n"
     ]
    }
   ],
   "source": [
    "conf = (SparkConf().setMaster(\"local[*]\")\n",
    "                .setAppName(\"SparkVectorizer\")\n",
    "                .set('spark.driver.memory', '300G')\n",
    "                .set('spark.driver.maxResultSize', '20G')\n",
    "                .set('spark.network.timeout', '7200s')\n",
    "                .set('spark.local.dir', '/raid/tfidf_benchmark/'))\n",
    "\n",
    "sc = SparkContext(conf=conf)\n",
    "sc.setLogLevel(\"FATAL\")\n",
    "spark = SparkSession(sc)\n",
    "print(sc._conf.getAll()) # check context settings"
   ]
  },
  {
   "cell_type": "markdown",
   "id": "76d60928-fd60-4129-b7d8-3dfacdeee210",
   "metadata": {},
   "source": [
    "## Benchmarking Code"
   ]
  },
  {
   "cell_type": "markdown",
   "id": "e5de53ec-c7db-4039-8dc6-17c4e974cbaa",
   "metadata": {},
   "source": [
    "### Helper functions"
   ]
  },
  {
   "cell_type": "code",
   "execution_count": 4,
   "id": "7cc38aaa-02ab-40d3-83bf-c3d00b0bf701",
   "metadata": {},
   "outputs": [
    {
     "name": "stderr",
     "output_type": "stream",
     "text": [
      "[nltk_data] Downloading package stopwords to\n",
      "[nltk_data]     /home/nfs/anirband/nltk_data...\n",
      "[nltk_data]   Package stopwords is already up-to-date!\n"
     ]
    }
   ],
   "source": [
    "nltk.download('stopwords')\n",
    "STOPWORDS = nltk.corpus.stopwords.words('english')\n",
    "PUNCTUATIONS = \"\"\"[!\"#$%&()*+-.\\/\\\\:;<=>?@\\[\\]^_`{|}\\t\\n\\',~—]\"\"\"\n",
    "\n",
    "def read_data(spark, parquet_path, benchmark=True):\n",
    "    data = spark.read.parquet(parquet_path, columns=[\"review_body\"])\n",
    "    if benchmark:\n",
    "        data.write.format(\"noop\").mode(\"overwrite\").save()\n",
    "    return data\n",
    "\n",
    "\n",
    "def text_preprocessor(data, column_name, PUNCTUATIONS, STOPWORDS, benchmark=True):\n",
    "    data = data.na.drop(subset=[column_name])\n",
    "    data = data.withColumn(column_name,f.lower(f.col(column_name)))\n",
    "    data = data.withColumn(column_name,f.regexp_replace(f.col(column_name), PUNCTUATIONS, ' '))\n",
    "    data = data.withColumn(column_name,f.trim(f.col(column_name)))\n",
    "    tokenizer = Tokenizer(inputCol=column_name, outputCol=\"words\")\n",
    "    data = tokenizer.transform(data)                  \n",
    "    stopwordsRemover = StopWordsRemover(inputCol=\"words\", outputCol=\"filtered\", stopWords=STOPWORDS)\n",
    "    data = stopwordsRemover.transform(data)\n",
    "    if benchmark:\n",
    "        data.write.format(\"noop\").mode(\"overwrite\").save()\n",
    "    return data\n",
    "\n",
    "\n",
    "def hashing_vectorizer(data, benchmark):\n",
    "    hashingTF = HashingTF(inputCol=\"filtered\", outputCol=\"rawFeatures\", numFeatures=2**20)\n",
    "    data = hashingTF.transform(data)\n",
    "    if benchmark:\n",
    "        data.write.format(\"noop\").mode(\"overwrite\").save()\n",
    "    return data\n",
    "\n",
    "\n",
    "def tfidf_transformer(data, benchmark):\n",
    "    idf = IDF(inputCol=\"rawFeatures\", outputCol=\"finalFeatures\").fit(data)\n",
    "    data = idf.transform(data)\n",
    "    if benchmark:\n",
    "        data.write.format(\"noop\").mode(\"overwrite\").save()\n",
    "    return data\n",
    "\n",
    "\n",
    "def execute_full_pipeline(n, i, spark, parquet_path, worker_counts=[1], samples=1, result_path=\"./results.csv\", benchmark=True):\n",
    "    sample_record = {\"overall\":0, \"data_read\":0, \"hashing_vectorizer\":0, \"tfid_transformer\":0, \"data_preprocessing\":0, \"nrows\":0}\n",
    "    with SimpleTimer() as timer:\n",
    "        data = read_data(spark, parquet_path, benchmark)\n",
    "    sample_record[\"data_read\"]=timer.elapsed/1e9\n",
    "    print(f\"Workers:{n}, Sample Run:{i}, Finished loading data in {sample_record['data_read']}s\")\n",
    "\n",
    "    with SimpleTimer() as timer:\n",
    "        data = text_preprocessor(data, \"review_body\", PUNCTUATIONS, STOPWORDS, benchmark)\n",
    "    sample_record[\"data_preprocessing\"]=timer.elapsed/1e9\n",
    "    print(f\"Workers:{n}, Sample Run:{i}, Finished preprocessing data in {sample_record['data_preprocessing']}s\")\n",
    "\n",
    "    with SimpleTimer() as timer:\n",
    "        data = hashing_vectorizer(data, benchmark)\n",
    "    sample_record[\"hashing_vectorizer\"]=timer.elapsed/1e9\n",
    "    print(f\"Workers:{n}, Sample Run:{i}, Finished fitting HashVectorizer in {sample_record['hashing_vectorizer']}s\")\n",
    "\n",
    "    with SimpleTimer() as timer:\n",
    "        data = tfidf_transformer(data, benchmark=True)\n",
    "    sample_record[\"tfidf_transformer\"]=timer.elapsed/1e9\n",
    "\n",
    "    print(f\"Workers:{n}, Sample Run:{i}, Finished fitting IDF Transformer in {sample_record['tfidf_transformer']}s\")\n",
    "    return data, sample_record\n"
   ]
  },
  {
   "cell_type": "code",
   "execution_count": 5,
   "id": "47062b33-ddf0-4de4-b319-af3b0f63fb31",
   "metadata": {},
   "outputs": [],
   "source": [
    "def performance_numbers(parquet_path, worker_counts=[1], samples=1, result_path=\"./results.csv\", benchmark=True):\n",
    "    \"\"\"\n",
    "    Main function to perform the performance sweep\n",
    "    \"\"\"\n",
    "    results_logger = ResultsLogger(result_path)    \n",
    "    for n in worker_counts: \n",
    "        for i in tqdm(range(samples)): \n",
    "            with SimpleTimer() as overalltimer:\n",
    "                data, sample_record = execute_full_pipeline(n, i, spark, parquet_path, worker_counts=[1], samples=1, result_path=result_path, benchmark=benchmark)                \n",
    "            sample_record[\"overall\"]=overalltimer.elapsed/1e9\n",
    "            sample_record[\"nrows\"]=  data.count()\n",
    "            sample_record[\"n_workers\"]=n\n",
    "            sample_record[\"sample_run\"]=i\n",
    "            print(f\"Workers:{n}, Sample Run:{i}, Finished executing full pipeline in {overalltimer.elapsed/1e9}s\")\n",
    "            results_logger.log(sample_record)\n",
    "    results_logger.write()           "
   ]
  },
  {
   "cell_type": "code",
   "execution_count": 6,
   "id": "d6d27907-94d5-414a-93ae-0997a887ff44",
   "metadata": {},
   "outputs": [],
   "source": [
    "dataset = \"Books\"\n",
    "parquet_path = f'/raid/amazon_reviews_dataset/product_category={dataset}'\n",
    "samples = 5\n",
    "worker_counts = [1]\n",
    "result_path = f\"./results/result_poc_nlp_spark_{dataset}_persist.csv\""
   ]
  },
  {
   "cell_type": "markdown",
   "id": "3414a428-14a1-4712-b9a3-6ea6cf460a4a",
   "metadata": {
    "tags": []
   },
   "source": [
    "## Benchmark latency by materializing the intermediate dataframe(s) in every stage"
   ]
  },
  {
   "cell_type": "code",
   "execution_count": 7,
   "id": "6313056b-2cf0-44f4-a3c9-a6e101e74c17",
   "metadata": {},
   "outputs": [
    {
     "name": "stderr",
     "output_type": "stream",
     "text": [
      "                                                                                                                                                                                           | 0/5 [00:00<?, ?it/s]\r"
     ]
    },
    {
     "name": "stdout",
     "output_type": "stream",
     "text": [
      "Workers:1, Sample Run:0, Finished loading data in 15.23985286s\n"
     ]
    },
    {
     "name": "stderr",
     "output_type": "stream",
     "text": [
      "                                                                                \r"
     ]
    },
    {
     "name": "stdout",
     "output_type": "stream",
     "text": [
      "Workers:1, Sample Run:0, Finished preprocessing data in 107.494748581s\n"
     ]
    },
    {
     "name": "stderr",
     "output_type": "stream",
     "text": [
      "                                                                                \r"
     ]
    },
    {
     "name": "stdout",
     "output_type": "stream",
     "text": [
      "Workers:1, Sample Run:0, Finished fitting HashVectorizer in 202.877945115s\n"
     ]
    },
    {
     "name": "stderr",
     "output_type": "stream",
     "text": [
      "                                                                                \r"
     ]
    },
    {
     "name": "stdout",
     "output_type": "stream",
     "text": [
      "Workers:1, Sample Run:0, Finished fitting IDF Transformer in 487.954867778s\n"
     ]
    },
    {
     "name": "stderr",
     "output_type": "stream",
     "text": [
      " 20%|██████████████████████████████████▌                                                                                                                                          | 1/5 [13:37<54:28, 817.20s/it]"
     ]
    },
    {
     "name": "stdout",
     "output_type": "stream",
     "text": [
      "Workers:1, Sample Run:0, Finished executing full pipeline in 813.567748678s\n"
     ]
    },
    {
     "name": "stderr",
     "output_type": "stream",
     "text": [
      "                                                                                \r"
     ]
    },
    {
     "name": "stdout",
     "output_type": "stream",
     "text": [
      "Workers:1, Sample Run:1, Finished loading data in 5.969575999s\n"
     ]
    },
    {
     "name": "stderr",
     "output_type": "stream",
     "text": [
      "                                                                                \r"
     ]
    },
    {
     "name": "stdout",
     "output_type": "stream",
     "text": [
      "Workers:1, Sample Run:1, Finished preprocessing data in 86.506390094s\n"
     ]
    },
    {
     "name": "stderr",
     "output_type": "stream",
     "text": [
      "                                                                                \r"
     ]
    },
    {
     "name": "stdout",
     "output_type": "stream",
     "text": [
      "Workers:1, Sample Run:1, Finished fitting HashVectorizer in 234.087781579s\n"
     ]
    },
    {
     "name": "stderr",
     "output_type": "stream",
     "text": [
      "                                                                                \r"
     ]
    },
    {
     "name": "stdout",
     "output_type": "stream",
     "text": [
      "Workers:1, Sample Run:1, Finished fitting IDF Transformer in 482.773021563s\n"
     ]
    },
    {
     "name": "stderr",
     "output_type": "stream",
     "text": [
      " 40%|█████████████████████████████████████████████████████████████████████▏                                                                                                       | 2/5 [27:10<40:44, 814.72s/it]"
     ]
    },
    {
     "name": "stdout",
     "output_type": "stream",
     "text": [
      "Workers:1, Sample Run:1, Finished executing full pipeline in 809.337087717s\n"
     ]
    },
    {
     "name": "stderr",
     "output_type": "stream",
     "text": [
      "                                                                                \r"
     ]
    },
    {
     "name": "stdout",
     "output_type": "stream",
     "text": [
      "Workers:1, Sample Run:2, Finished loading data in 4.935677043s\n"
     ]
    },
    {
     "name": "stderr",
     "output_type": "stream",
     "text": [
      "                                                                                \r"
     ]
    },
    {
     "name": "stdout",
     "output_type": "stream",
     "text": [
      "Workers:1, Sample Run:2, Finished preprocessing data in 88.406996062s\n"
     ]
    },
    {
     "name": "stderr",
     "output_type": "stream",
     "text": [
      "                                                                                \r"
     ]
    },
    {
     "name": "stdout",
     "output_type": "stream",
     "text": [
      "Workers:1, Sample Run:2, Finished fitting HashVectorizer in 241.706533445s\n"
     ]
    },
    {
     "name": "stderr",
     "output_type": "stream",
     "text": [
      "                                                                                \r"
     ]
    },
    {
     "name": "stdout",
     "output_type": "stream",
     "text": [
      "Workers:1, Sample Run:2, Finished fitting IDF Transformer in 498.943133027s\n"
     ]
    },
    {
     "name": "stderr",
     "output_type": "stream",
     "text": [
      " 60%|███████████████████████████████████████████████████████████████████████████████████████████████████████▊                                                                     | 3/5 [41:07<27:30, 825.11s/it]"
     ]
    },
    {
     "name": "stdout",
     "output_type": "stream",
     "text": [
      "Workers:1, Sample Run:2, Finished executing full pipeline in 833.99270305s\n"
     ]
    },
    {
     "name": "stderr",
     "output_type": "stream",
     "text": [
      "                                                                                \r"
     ]
    },
    {
     "name": "stdout",
     "output_type": "stream",
     "text": [
      "Workers:1, Sample Run:3, Finished loading data in 5.483239637s\n"
     ]
    },
    {
     "name": "stderr",
     "output_type": "stream",
     "text": [
      "                                                                                \r"
     ]
    },
    {
     "name": "stdout",
     "output_type": "stream",
     "text": [
      "Workers:1, Sample Run:3, Finished preprocessing data in 90.119382662s\n"
     ]
    },
    {
     "name": "stderr",
     "output_type": "stream",
     "text": [
      "                                                                                \r"
     ]
    },
    {
     "name": "stdout",
     "output_type": "stream",
     "text": [
      "Workers:1, Sample Run:3, Finished fitting HashVectorizer in 235.081407943s\n"
     ]
    },
    {
     "name": "stderr",
     "output_type": "stream",
     "text": [
      "                                                                                \r"
     ]
    },
    {
     "name": "stdout",
     "output_type": "stream",
     "text": [
      "Workers:1, Sample Run:3, Finished fitting IDF Transformer in 498.222800809s\n"
     ]
    },
    {
     "name": "stderr",
     "output_type": "stream",
     "text": [
      " 80%|██████████████████████████████████████████████████████████████████████████████████████████████████████████████████████████████████████████▍                                  | 4/5 [54:59<13:47, 827.96s/it]"
     ]
    },
    {
     "name": "stdout",
     "output_type": "stream",
     "text": [
      "Workers:1, Sample Run:3, Finished executing full pipeline in 828.90735261s\n"
     ]
    },
    {
     "name": "stderr",
     "output_type": "stream",
     "text": [
      "                                                                                \r"
     ]
    },
    {
     "name": "stdout",
     "output_type": "stream",
     "text": [
      "Workers:1, Sample Run:4, Finished loading data in 4.991638449s\n"
     ]
    },
    {
     "name": "stderr",
     "output_type": "stream",
     "text": [
      "                                                                                \r"
     ]
    },
    {
     "name": "stdout",
     "output_type": "stream",
     "text": [
      "Workers:1, Sample Run:4, Finished preprocessing data in 86.70907281s\n"
     ]
    },
    {
     "name": "stderr",
     "output_type": "stream",
     "text": [
      "                                                                                \r"
     ]
    },
    {
     "name": "stdout",
     "output_type": "stream",
     "text": [
      "Workers:1, Sample Run:4, Finished fitting HashVectorizer in 248.295504954s\n"
     ]
    },
    {
     "name": "stderr",
     "output_type": "stream",
     "text": [
      "                                                                                \r"
     ]
    },
    {
     "name": "stdout",
     "output_type": "stream",
     "text": [
      "Workers:1, Sample Run:4, Finished fitting IDF Transformer in 480.932740433s\n"
     ]
    },
    {
     "name": "stderr",
     "output_type": "stream",
     "text": [
      "100%|███████████████████████████████████████████████████████████████████████████████████████████████████████████████████████████████████████████████████████████████████████████| 5/5 [1:08:44<00:00, 824.89s/it]"
     ]
    },
    {
     "name": "stdout",
     "output_type": "stream",
     "text": [
      "Workers:1, Sample Run:4, Finished executing full pipeline in 820.92951352s\n",
      "CPU times: user 2.29 s, sys: 831 ms, total: 3.12 s\n",
      "Wall time: 1h 8min 44s\n"
     ]
    },
    {
     "name": "stderr",
     "output_type": "stream",
     "text": [
      "\n"
     ]
    }
   ],
   "source": [
    "%%time\n",
    "performance_numbers(parquet_path=parquet_path, worker_counts=worker_counts, samples=samples, result_path=result_path, benchmark=True)"
   ]
  },
  {
   "cell_type": "code",
   "execution_count": 8,
   "id": "cc55ef40-905f-4399-a600-b5af67d6ea8d",
   "metadata": {},
   "outputs": [
    {
     "data": {
      "image/png": "[encoded data removed]",
      "text/plain": [
       "<Figure size 1200x800 with 1 Axes>"
      ]
     },
     "metadata": {},
     "output_type": "display_data"
    },
    {
     "data": {
      "text/html": [
       "<div>\n",
       "<style scoped>\n",
       "    .dataframe tbody tr th:only-of-type {\n",
       "        vertical-align: middle;\n",
       "    }\n",
       "\n",
       "    .dataframe tbody tr th {\n",
       "        vertical-align: top;\n",
       "    }\n",
       "\n",
       "    .dataframe thead tr th {\n",
       "        text-align: left;\n",
       "    }\n",
       "\n",
       "    .dataframe thead tr:last-of-type th {\n",
       "        text-align: right;\n",
       "    }\n",
       "</style>\n",
       "<table border=\"1\" class=\"dataframe\">\n",
       "  <thead>\n",
       "    <tr>\n",
       "      <th></th>\n",
       "      <th colspan=\"3\" halign=\"left\">overall</th>\n",
       "      <th colspan=\"3\" halign=\"left\">data_read</th>\n",
       "      <th colspan=\"3\" halign=\"left\">hashing_vectorizer</th>\n",
       "      <th>tfid_transformer</th>\n",
       "      <th>...</th>\n",
       "      <th>data_preprocessing</th>\n",
       "      <th colspan=\"3\" halign=\"left\">nrows</th>\n",
       "      <th colspan=\"3\" halign=\"left\">tfidf_transformer</th>\n",
       "      <th colspan=\"3\" halign=\"left\">sample_run</th>\n",
       "    </tr>\n",
       "    <tr>\n",
       "      <th></th>\n",
       "      <th>mean</th>\n",
       "      <th>std</th>\n",
       "      <th>count</th>\n",
       "      <th>mean</th>\n",
       "      <th>std</th>\n",
       "      <th>count</th>\n",
       "      <th>mean</th>\n",
       "      <th>std</th>\n",
       "      <th>count</th>\n",
       "      <th>mean</th>\n",
       "      <th>...</th>\n",
       "      <th>count</th>\n",
       "      <th>mean</th>\n",
       "      <th>std</th>\n",
       "      <th>count</th>\n",
       "      <th>mean</th>\n",
       "      <th>std</th>\n",
       "      <th>count</th>\n",
       "      <th>mean</th>\n",
       "      <th>std</th>\n",
       "      <th>count</th>\n",
       "    </tr>\n",
       "    <tr>\n",
       "      <th>n_workers</th>\n",
       "      <th></th>\n",
       "      <th></th>\n",
       "      <th></th>\n",
       "      <th></th>\n",
       "      <th></th>\n",
       "      <th></th>\n",
       "      <th></th>\n",
       "      <th></th>\n",
       "      <th></th>\n",
       "      <th></th>\n",
       "      <th></th>\n",
       "      <th></th>\n",
       "      <th></th>\n",
       "      <th></th>\n",
       "      <th></th>\n",
       "      <th></th>\n",
       "      <th></th>\n",
       "      <th></th>\n",
       "      <th></th>\n",
       "      <th></th>\n",
       "      <th></th>\n",
       "    </tr>\n",
       "  </thead>\n",
       "  <tbody>\n",
       "    <tr>\n",
       "      <th>1</th>\n",
       "      <td>821.346881</td>\n",
       "      <td>10.271341</td>\n",
       "      <td>5</td>\n",
       "      <td>7.323997</td>\n",
       "      <td>4.444873</td>\n",
       "      <td>5</td>\n",
       "      <td>232.409835</td>\n",
       "      <td>17.470464</td>\n",
       "      <td>5</td>\n",
       "      <td>0</td>\n",
       "      <td>...</td>\n",
       "      <td>5</td>\n",
       "      <td>20725971</td>\n",
       "      <td>0.0</td>\n",
       "      <td>5</td>\n",
       "      <td>489.765313</td>\n",
       "      <td>8.454964</td>\n",
       "      <td>5</td>\n",
       "      <td>2</td>\n",
       "      <td>1.581139</td>\n",
       "      <td>5</td>\n",
       "    </tr>\n",
       "  </tbody>\n",
       "</table>\n",
       "<p>1 rows × 24 columns</p>\n",
       "</div>"
      ],
      "text/plain": [
       "              overall                  data_read                  \\\n",
       "                 mean        std count      mean       std count   \n",
       "n_workers                                                          \n",
       "1          821.346881  10.271341     5  7.323997  4.444873     5   \n",
       "\n",
       "          hashing_vectorizer                  tfid_transformer  ...  \\\n",
       "                        mean        std count             mean  ...   \n",
       "n_workers                                                       ...   \n",
       "1                 232.409835  17.470464     5                0  ...   \n",
       "\n",
       "          data_preprocessing     nrows            tfidf_transformer            \\\n",
       "                       count      mean  std count              mean       std   \n",
       "n_workers                                                                       \n",
       "1                          5  20725971  0.0     5        489.765313  8.454964   \n",
       "\n",
       "                sample_run                  \n",
       "          count       mean       std count  \n",
       "n_workers                                   \n",
       "1             5          2  1.581139     5  \n",
       "\n",
       "[1 rows x 24 columns]"
      ]
     },
     "execution_count": 8,
     "metadata": {},
     "output_type": "execute_result"
    }
   ],
   "source": [
    "data, melt_data = visualize_data(result_path) \n",
    "groupy = data.groupby(\"n_workers\").agg(['mean', 'std', 'count'])\n",
    "groupy"
   ]
  },
  {
   "cell_type": "markdown",
   "id": "b14a7165-f091-45ee-b042-4cfaaf033597",
   "metadata": {},
   "source": [
    "## Benchmark latency without materializing the intermediate dataframe(s) except for the last stage"
   ]
  },
  {
   "cell_type": "code",
   "execution_count": 9,
   "id": "55edff6b-909c-4c38-ad20-0648ecabdf5a",
   "metadata": {},
   "outputs": [],
   "source": [
    "dataset = \"Books\"\n",
    "parquet_path = f'/raid/amazon_reviews_dataset/product_category={dataset}'\n",
    "samples = 5\n",
    "worker_counts = [1]\n",
    "result_path = f\"./results/result_poc_nlp_spark_{dataset}_nonpersist.csv\""
   ]
  },
  {
   "cell_type": "code",
   "execution_count": 10,
   "id": "f1cfb423-382d-4ebe-80ea-97613c2cdcbd",
   "metadata": {},
   "outputs": [
    {
     "name": "stderr",
     "output_type": "stream",
     "text": [
      "  0%|                                                                                                                                                                                      | 0/5 [00:00<?, ?it/s]"
     ]
    },
    {
     "name": "stdout",
     "output_type": "stream",
     "text": [
      "Workers:1, Sample Run:0, Finished loading data in 0.050798674s\n",
      "Workers:1, Sample Run:0, Finished preprocessing data in 0.09297889s\n",
      "Workers:1, Sample Run:0, Finished fitting HashVectorizer in 0.012221278s\n"
     ]
    },
    {
     "name": "stderr",
     "output_type": "stream",
     "text": [
      "                                                                                \r"
     ]
    },
    {
     "name": "stdout",
     "output_type": "stream",
     "text": [
      "Workers:1, Sample Run:0, Finished fitting IDF Transformer in 486.358867514s\n"
     ]
    },
    {
     "name": "stderr",
     "output_type": "stream",
     "text": [
      " 20%|██████████████████████████████████▌                                                                                                                                          | 1/5 [08:09<32:39, 489.89s/it]"
     ]
    },
    {
     "name": "stdout",
     "output_type": "stream",
     "text": [
      "Workers:1, Sample Run:0, Finished executing full pipeline in 486.515158753s\n",
      "Workers:1, Sample Run:1, Finished loading data in 0.050539651s\n",
      "Workers:1, Sample Run:1, Finished preprocessing data in 0.088441056s\n",
      "Workers:1, Sample Run:1, Finished fitting HashVectorizer in 0.010710309s\n"
     ]
    },
    {
     "name": "stderr",
     "output_type": "stream",
     "text": [
      "                                                                                \r"
     ]
    },
    {
     "name": "stdout",
     "output_type": "stream",
     "text": [
      "Workers:1, Sample Run:1, Finished fitting IDF Transformer in 478.03716527s\n"
     ]
    },
    {
     "name": "stderr",
     "output_type": "stream",
     "text": [
      " 40%|█████████████████████████████████████████████████████████████████████▏                                                                                                       | 2/5 [16:11<24:14, 484.95s/it]"
     ]
    },
    {
     "name": "stdout",
     "output_type": "stream",
     "text": [
      "Workers:1, Sample Run:1, Finished executing full pipeline in 478.187114776s\n",
      "Workers:1, Sample Run:2, Finished loading data in 0.050383766s\n",
      "Workers:1, Sample Run:2, Finished preprocessing data in 0.10429752s\n",
      "Workers:1, Sample Run:2, Finished fitting HashVectorizer in 0.013528535s\n"
     ]
    },
    {
     "name": "stderr",
     "output_type": "stream",
     "text": [
      "                                                                                \r"
     ]
    },
    {
     "name": "stdout",
     "output_type": "stream",
     "text": [
      "Workers:1, Sample Run:2, Finished fitting IDF Transformer in 493.773125929s\n"
     ]
    },
    {
     "name": "stderr",
     "output_type": "stream",
     "text": [
      " 60%|███████████████████████████████████████████████████████████████████████████████████████████████████████▊                                                                     | 3/5 [24:28<16:21, 490.66s/it]"
     ]
    },
    {
     "name": "stdout",
     "output_type": "stream",
     "text": [
      "Workers:1, Sample Run:2, Finished executing full pipeline in 493.941810846s\n",
      "Workers:1, Sample Run:3, Finished loading data in 0.050379153s\n",
      "Workers:1, Sample Run:3, Finished preprocessing data in 0.08857387s\n",
      "Workers:1, Sample Run:3, Finished fitting HashVectorizer in 0.011128956s\n"
     ]
    },
    {
     "name": "stderr",
     "output_type": "stream",
     "text": [
      "                                                                                \r"
     ]
    },
    {
     "name": "stdout",
     "output_type": "stream",
     "text": [
      "Workers:1, Sample Run:3, Finished fitting IDF Transformer in 476.473840903s\n"
     ]
    },
    {
     "name": "stderr",
     "output_type": "stream",
     "text": [
      " 80%|██████████████████████████████████████████████████████████████████████████████████████████████████████████████████████████████████████████▍                                  | 4/5 [32:28<08:06, 486.51s/it]"
     ]
    },
    {
     "name": "stdout",
     "output_type": "stream",
     "text": [
      "Workers:1, Sample Run:3, Finished executing full pipeline in 476.62420887s\n",
      "Workers:1, Sample Run:4, Finished loading data in 0.051789292s\n",
      "Workers:1, Sample Run:4, Finished preprocessing data in 0.088651124s\n",
      "Workers:1, Sample Run:4, Finished fitting HashVectorizer in 0.010708737s\n"
     ]
    },
    {
     "name": "stderr",
     "output_type": "stream",
     "text": [
      "                                                                                \r"
     ]
    },
    {
     "name": "stdout",
     "output_type": "stream",
     "text": [
      "Workers:1, Sample Run:4, Finished fitting IDF Transformer in 477.363643936s\n"
     ]
    },
    {
     "name": "stderr",
     "output_type": "stream",
     "text": [
      "100%|█████████████████████████████████████████████████████████████████████████████████████████████████████████████████████████████████████████████████████████████████████████████| 5/5 [40:30<00:00, 486.13s/it]"
     ]
    },
    {
     "name": "stdout",
     "output_type": "stream",
     "text": [
      "Workers:1, Sample Run:4, Finished executing full pipeline in 477.515079373s\n",
      "CPU times: user 1.47 s, sys: 396 ms, total: 1.86 s\n",
      "Wall time: 40min 30s\n"
     ]
    },
    {
     "name": "stderr",
     "output_type": "stream",
     "text": [
      "\n"
     ]
    }
   ],
   "source": [
    "%%time\n",
    "performance_numbers(parquet_path=parquet_path, worker_counts=worker_counts, samples=samples, result_path=result_path, benchmark=False)"
   ]
  },
  {
   "cell_type": "code",
   "execution_count": 11,
   "id": "ef97ce8b-7075-4caf-8d41-bf330b52b787",
   "metadata": {},
   "outputs": [
    {
     "data": {
      "image/png": "[encoded data removed]",
      "text/plain": [
       "<Figure size 1200x800 with 1 Axes>"
      ]
     },
     "metadata": {},
     "output_type": "display_data"
    },
    {
     "data": {
      "text/html": [
       "<div>\n",
       "<style scoped>\n",
       "    .dataframe tbody tr th:only-of-type {\n",
       "        vertical-align: middle;\n",
       "    }\n",
       "\n",
       "    .dataframe tbody tr th {\n",
       "        vertical-align: top;\n",
       "    }\n",
       "\n",
       "    .dataframe thead tr th {\n",
       "        text-align: left;\n",
       "    }\n",
       "\n",
       "    .dataframe thead tr:last-of-type th {\n",
       "        text-align: right;\n",
       "    }\n",
       "</style>\n",
       "<table border=\"1\" class=\"dataframe\">\n",
       "  <thead>\n",
       "    <tr>\n",
       "      <th></th>\n",
       "      <th colspan=\"3\" halign=\"left\">overall</th>\n",
       "      <th colspan=\"3\" halign=\"left\">data_read</th>\n",
       "      <th colspan=\"3\" halign=\"left\">hashing_vectorizer</th>\n",
       "      <th>tfid_transformer</th>\n",
       "      <th>...</th>\n",
       "      <th>data_preprocessing</th>\n",
       "      <th colspan=\"3\" halign=\"left\">nrows</th>\n",
       "      <th colspan=\"3\" halign=\"left\">tfidf_transformer</th>\n",
       "      <th colspan=\"3\" halign=\"left\">sample_run</th>\n",
       "    </tr>\n",
       "    <tr>\n",
       "      <th></th>\n",
       "      <th>mean</th>\n",
       "      <th>std</th>\n",
       "      <th>count</th>\n",
       "      <th>mean</th>\n",
       "      <th>std</th>\n",
       "      <th>count</th>\n",
       "      <th>mean</th>\n",
       "      <th>std</th>\n",
       "      <th>count</th>\n",
       "      <th>mean</th>\n",
       "      <th>...</th>\n",
       "      <th>count</th>\n",
       "      <th>mean</th>\n",
       "      <th>std</th>\n",
       "      <th>count</th>\n",
       "      <th>mean</th>\n",
       "      <th>std</th>\n",
       "      <th>count</th>\n",
       "      <th>mean</th>\n",
       "      <th>std</th>\n",
       "      <th>count</th>\n",
       "    </tr>\n",
       "    <tr>\n",
       "      <th>n_workers</th>\n",
       "      <th></th>\n",
       "      <th></th>\n",
       "      <th></th>\n",
       "      <th></th>\n",
       "      <th></th>\n",
       "      <th></th>\n",
       "      <th></th>\n",
       "      <th></th>\n",
       "      <th></th>\n",
       "      <th></th>\n",
       "      <th></th>\n",
       "      <th></th>\n",
       "      <th></th>\n",
       "      <th></th>\n",
       "      <th></th>\n",
       "      <th></th>\n",
       "      <th></th>\n",
       "      <th></th>\n",
       "      <th></th>\n",
       "      <th></th>\n",
       "      <th></th>\n",
       "    </tr>\n",
       "  </thead>\n",
       "  <tbody>\n",
       "    <tr>\n",
       "      <th>1</th>\n",
       "      <td>482.556675</td>\n",
       "      <td>7.49993</td>\n",
       "      <td>5</td>\n",
       "      <td>0.050778</td>\n",
       "      <td>0.00059</td>\n",
       "      <td>5</td>\n",
       "      <td>0.01166</td>\n",
       "      <td>0.001214</td>\n",
       "      <td>5</td>\n",
       "      <td>0</td>\n",
       "      <td>...</td>\n",
       "      <td>5</td>\n",
       "      <td>20725971</td>\n",
       "      <td>0.0</td>\n",
       "      <td>5</td>\n",
       "      <td>482.401329</td>\n",
       "      <td>7.492316</td>\n",
       "      <td>5</td>\n",
       "      <td>2</td>\n",
       "      <td>1.581139</td>\n",
       "      <td>5</td>\n",
       "    </tr>\n",
       "  </tbody>\n",
       "</table>\n",
       "<p>1 rows × 24 columns</p>\n",
       "</div>"
      ],
      "text/plain": [
       "              overall                data_read                 \\\n",
       "                 mean      std count      mean      std count   \n",
       "n_workers                                                       \n",
       "1          482.556675  7.49993     5  0.050778  0.00059     5   \n",
       "\n",
       "          hashing_vectorizer                 tfid_transformer  ...  \\\n",
       "                        mean       std count             mean  ...   \n",
       "n_workers                                                      ...   \n",
       "1                    0.01166  0.001214     5                0  ...   \n",
       "\n",
       "          data_preprocessing     nrows            tfidf_transformer            \\\n",
       "                       count      mean  std count              mean       std   \n",
       "n_workers                                                                       \n",
       "1                          5  20725971  0.0     5        482.401329  7.492316   \n",
       "\n",
       "                sample_run                  \n",
       "          count       mean       std count  \n",
       "n_workers                                   \n",
       "1             5          2  1.581139     5  \n",
       "\n",
       "[1 rows x 24 columns]"
      ]
     },
     "execution_count": 11,
     "metadata": {},
     "output_type": "execute_result"
    }
   ],
   "source": [
    "data, melt_data = visualize_data(result_path) \n",
    "groupy = data.groupby(\"n_workers\").agg(['mean', 'std', 'count'])\n",
    "groupy"
   ]
  },
  {
   "cell_type": "code",
   "execution_count": null,
   "id": "38d800a3-6c16-46f1-927a-31208341a712",
   "metadata": {},
   "outputs": [],
   "source": []
  }
 ],
 "metadata": {
  "kernelspec": {
   "display_name": "Python 3 (ipykernel)",
   "language": "python",
   "name": "python3"
  },
  "language_info": {
   "codemirror_mode": {
    "name": "ipython",
    "version": 3
   },
   "file_extension": ".py",
   "mimetype": "text/x-python",
   "name": "python",
   "nbconvert_exporter": "python",
   "pygments_lexer": "ipython3",
   "version": "3.8.10"
  }
 },
 "nbformat": 4,
 "nbformat_minor": 5
}
