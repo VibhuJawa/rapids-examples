{
 "cells": [
  {
   "cell_type": "markdown",
   "id": "d07a2c86-23aa-4848-b413-2b351614b4b6",
   "metadata": {},
   "source": [
    "# NLP tf-idf pipeline with cuML + Dask"
   ]
  },
  {
   "cell_type": "code",
   "execution_count": 1,
   "id": "639f8a3c-70da-4dd3-8e2e-655452dfa306",
   "metadata": {},
   "outputs": [],
   "source": [
    "%matplotlib inline\n",
    "from dask_cuda import LocalCUDACluster\n",
    "from dask.distributed import Client, wait\n",
    "import dask_cudf\n",
    "from cuml.feature_extraction.text import HashingVectorizer\n",
    "from cuml.dask.feature_extraction.text import TfidfTransformer\n",
    "import nltk\n",
    "import cupy as cp\n",
    "from tqdm import tqdm\n",
    "from utils import SimpleTimer, ResultsLogger, scale_workers\n",
    "from utils import visualize_data_cuml as visualize_data\n",
    "import dask"
   ]
  },
  {
   "cell_type": "markdown",
   "id": "d850d8cf-a343-476e-9c47-a0718e6e04bf",
   "metadata": {},
   "source": [
    "## Setting up the Dask cuda cluster"
   ]
  },
  {
   "cell_type": "code",
   "execution_count": 2,
   "id": "a1fb9b87-94af-49f9-b00d-682305b7c802",
   "metadata": {},
   "outputs": [],
   "source": [
    "# # Create a local CUDA cluster\n",
    "cluster = LocalCUDACluster(CUDA_VISIBLE_DEVICES=\"0,1,2,3,4,5,6,7\", local_directory=\"./u01/tmp\")\n",
    "client = Client(cluster)"
   ]
  },
  {
   "cell_type": "code",
   "execution_count": 3,
   "id": "a9b987af-61e4-4693-bfc1-5ba6cb96ec24",
   "metadata": {},
   "outputs": [
    {
     "data": {
      "text/html": [
       "\n",
       "            <div>\n",
       "                <div style=\"\n",
       "                    width: 24px;\n",
       "                    height: 24px;\n",
       "                    background-color: #e1e1e1;\n",
       "                    border: 3px solid #9D9D9D;\n",
       "                    border-radius: 5px;\n",
       "                    position: absolute;\"> </div>\n",
       "                <div style=\"margin-left: 48px;\">\n",
       "                    <h3 style=\"margin-bottom: 0px;\">Client</h3>\n",
       "                    <p style=\"color: #9D9D9D; margin-bottom: 0px;\">Client-f2a79f2c-f968-11eb-80b9-d8c4973b6ee2</p>\n",
       "                    <table style=\"width: 100%; text-align: left;\">\n",
       "                    \n",
       "                <tr>\n",
       "                    <td style=\"text-align: left;\"><strong>Connection method:</strong> Cluster object</td>\n",
       "                    <td style=\"text-align: left;\"><strong>Cluster type:</strong> LocalCUDACluster</td>\n",
       "                </tr>\n",
       "                \n",
       "                <tr>\n",
       "                    <td style=\"text-align: left;\">\n",
       "                        <strong>Dashboard: </strong>\n",
       "                        <a href=\"http://127.0.0.1:8787/status\">http://127.0.0.1:8787/status</a>\n",
       "                    </td>\n",
       "                    <td style=\"text-align: left;\"></td>\n",
       "                </tr>\n",
       "                \n",
       "                    </table>\n",
       "                    \n",
       "                <details>\n",
       "                <summary style=\"margin-bottom: 20px;\"><h3 style=\"display: inline;\">Cluster Info</h3></summary>\n",
       "                \n",
       "            <div class=\"jp-RenderedHTMLCommon jp-RenderedHTML jp-mod-trusted jp-OutputArea-output\">\n",
       "                <div style=\"\n",
       "                    width: 24px;\n",
       "                    height: 24px;\n",
       "                    background-color: #e1e1e1;\n",
       "                    border: 3px solid #9D9D9D;\n",
       "                    border-radius: 5px;\n",
       "                    position: absolute;\"> </div>\n",
       "                <div style=\"margin-left: 48px;\">\n",
       "                    <h3 style=\"margin-bottom: 0px; margin-top: 0px;\">LocalCUDACluster</h3>\n",
       "                    <p style=\"color: #9D9D9D; margin-bottom: 0px;\">c28501e8</p>\n",
       "                    <table style=\"width: 100%; text-align: left;\">\n",
       "                    \n",
       "            <tr>\n",
       "                <td style=\"text-align: left;\"><strong>Status:</strong> running</td>\n",
       "                <td style=\"text-align: left;\"><strong>Using processes:</strong> True</td>\n",
       "            </tr>\n",
       "        \n",
       "            <tr>\n",
       "                <td style=\"text-align: left;\">\n",
       "                    <strong>Dashboard:</strong> <a href=\"http://127.0.0.1:8787/status\">http://127.0.0.1:8787/status</a>\n",
       "                </td>\n",
       "                <td style=\"text-align: left;\"><strong>Workers:</strong> 8</td>\n",
       "            </tr>\n",
       "            <tr>\n",
       "                <td style=\"text-align: left;\">\n",
       "                    <strong>Total threads:</strong>\n",
       "                    8\n",
       "                </td>\n",
       "                <td style=\"text-align: left;\">\n",
       "                    <strong>Total memory:</strong>\n",
       "                    0.98 TiB\n",
       "                </td>\n",
       "            </tr>\n",
       "        \n",
       "                    </table>\n",
       "                    <details>\n",
       "                    <summary style=\"margin-bottom: 20px;\"><h3 style=\"display: inline;\">Scheduler Info</h3></summary>\n",
       "                    \n",
       "        <div style=\"\">\n",
       "            \n",
       "            <div>\n",
       "                <div style=\"\n",
       "                    width: 24px;\n",
       "                    height: 24px;\n",
       "                    background-color: #FFF7E5;\n",
       "                    border: 3px solid #FF6132;\n",
       "                    border-radius: 5px;\n",
       "                    position: absolute;\"> </div>\n",
       "                <div style=\"margin-left: 48px;\">\n",
       "                    <h3 style=\"margin-bottom: 0px;\">Scheduler</h3>\n",
       "                    <p style=\"color: #9D9D9D; margin-bottom: 0px;\">Scheduler-12f1ee6a-d97d-41b2-8a85-ca7f734412b3</p>\n",
       "                    <table style=\"width: 100%; text-align: left;\">\n",
       "                        <tr>\n",
       "                            <td style=\"text-align: left;\"><strong>Comm:</strong> tcp://127.0.0.1:38501</td>\n",
       "                            <td style=\"text-align: left;\"><strong>Workers:</strong> 8</td>\n",
       "                        </tr>\n",
       "                        <tr>\n",
       "                            <td style=\"text-align: left;\">\n",
       "                                <strong>Dashboard:</strong> <a href=\"http://127.0.0.1:8787/status\">http://127.0.0.1:8787/status</a>\n",
       "                            </td>\n",
       "                            <td style=\"text-align: left;\">\n",
       "                                <strong>Total threads:</strong>\n",
       "                                8\n",
       "                            </td>\n",
       "                        </tr>\n",
       "                        <tr>\n",
       "                            <td style=\"text-align: left;\">\n",
       "                                <strong>Started:</strong>\n",
       "                                Just now\n",
       "                            </td>\n",
       "                            <td style=\"text-align: left;\">\n",
       "                                <strong>Total memory:</strong>\n",
       "                                0.98 TiB\n",
       "                            </td>\n",
       "                        </tr>\n",
       "                    </table>\n",
       "                </div>\n",
       "            </div>\n",
       "        \n",
       "            <details style=\"margin-left: 48px;\">\n",
       "            <summary style=\"margin-bottom: 20px;\"><h3 style=\"display: inline;\">Workers</h3></summary>\n",
       "            \n",
       "            <div style=\"margin-bottom: 20px;\">\n",
       "                <div style=\"width: 24px;\n",
       "                            height: 24px;\n",
       "                            background-color: #DBF5FF;\n",
       "                            border: 3px solid #4CC9FF;\n",
       "                            border-radius: 5px;\n",
       "                            position: absolute;\"> </div>\n",
       "                <div style=\"margin-left: 48px;\">\n",
       "                <details>\n",
       "                    <summary>\n",
       "                        <h4 style=\"margin-bottom: 0px; display: inline;\">Worker: 0</h4>\n",
       "                    </summary>\n",
       "                    <table style=\"width: 100%; text-align: left;\">\n",
       "                        <tr>\n",
       "                            <td style=\"text-align: left;\"><strong>Comm: </strong> tcp://127.0.0.1:34417</td>\n",
       "                            <td style=\"text-align: left;\"><strong>Total threads: </strong> 1</td>\n",
       "                        </tr>\n",
       "                        <tr>\n",
       "                            <td style=\"text-align: left;\">\n",
       "                                <strong>Dashboard: </strong>\n",
       "                                <a href=\"http://127.0.0.1:35089/status\">http://127.0.0.1:35089/status</a>\n",
       "                            </td>\n",
       "                            <td style=\"text-align: left;\">\n",
       "                                <strong>Memory: </strong>\n",
       "                                125.97 GiB\n",
       "                            </td>\n",
       "                        </tr>\n",
       "                        <tr>\n",
       "                            <td style=\"text-align: left;\"><strong>Nanny: </strong> tcp://127.0.0.1:38831</td>\n",
       "                            <td style=\"text-align: left;\"></td>\n",
       "                        </tr>\n",
       "                        <tr>\n",
       "                            <td colspan=\"2\" style=\"text-align: left;\">\n",
       "                                <strong>Local directory: </strong>\n",
       "                                /home/nfs/anirband/Software/GitHub/rapids-examples/tfidf-benchmark/u01/tmp/dask-worker-space/worker-7dfhyonn\n",
       "                            </td>\n",
       "                        </tr>\n",
       "                        \n",
       "                <tr>\n",
       "                    <td style=\"text-align: left;\">\n",
       "                        <strong>GPU: </strong>Tesla V100-SXM2-32GB\n",
       "                    </td>\n",
       "                    <td style=\"text-align: left;\">\n",
       "                        <strong>GPU memory: </strong>\n",
       "                        31.75 GiB\n",
       "                    </td>\n",
       "                </tr>\n",
       "                \n",
       "                        \n",
       "                    </table>\n",
       "                </details>\n",
       "                </div>\n",
       "            </div>\n",
       "            \n",
       "            <div style=\"margin-bottom: 20px;\">\n",
       "                <div style=\"width: 24px;\n",
       "                            height: 24px;\n",
       "                            background-color: #DBF5FF;\n",
       "                            border: 3px solid #4CC9FF;\n",
       "                            border-radius: 5px;\n",
       "                            position: absolute;\"> </div>\n",
       "                <div style=\"margin-left: 48px;\">\n",
       "                <details>\n",
       "                    <summary>\n",
       "                        <h4 style=\"margin-bottom: 0px; display: inline;\">Worker: 1</h4>\n",
       "                    </summary>\n",
       "                    <table style=\"width: 100%; text-align: left;\">\n",
       "                        <tr>\n",
       "                            <td style=\"text-align: left;\"><strong>Comm: </strong> tcp://127.0.0.1:41913</td>\n",
       "                            <td style=\"text-align: left;\"><strong>Total threads: </strong> 1</td>\n",
       "                        </tr>\n",
       "                        <tr>\n",
       "                            <td style=\"text-align: left;\">\n",
       "                                <strong>Dashboard: </strong>\n",
       "                                <a href=\"http://127.0.0.1:44187/status\">http://127.0.0.1:44187/status</a>\n",
       "                            </td>\n",
       "                            <td style=\"text-align: left;\">\n",
       "                                <strong>Memory: </strong>\n",
       "                                125.97 GiB\n",
       "                            </td>\n",
       "                        </tr>\n",
       "                        <tr>\n",
       "                            <td style=\"text-align: left;\"><strong>Nanny: </strong> tcp://127.0.0.1:37827</td>\n",
       "                            <td style=\"text-align: left;\"></td>\n",
       "                        </tr>\n",
       "                        <tr>\n",
       "                            <td colspan=\"2\" style=\"text-align: left;\">\n",
       "                                <strong>Local directory: </strong>\n",
       "                                /home/nfs/anirband/Software/GitHub/rapids-examples/tfidf-benchmark/u01/tmp/dask-worker-space/worker-d_znulqp\n",
       "                            </td>\n",
       "                        </tr>\n",
       "                        \n",
       "                <tr>\n",
       "                    <td style=\"text-align: left;\">\n",
       "                        <strong>GPU: </strong>Tesla V100-SXM2-32GB\n",
       "                    </td>\n",
       "                    <td style=\"text-align: left;\">\n",
       "                        <strong>GPU memory: </strong>\n",
       "                        31.75 GiB\n",
       "                    </td>\n",
       "                </tr>\n",
       "                \n",
       "                        \n",
       "                    </table>\n",
       "                </details>\n",
       "                </div>\n",
       "            </div>\n",
       "            \n",
       "            <div style=\"margin-bottom: 20px;\">\n",
       "                <div style=\"width: 24px;\n",
       "                            height: 24px;\n",
       "                            background-color: #DBF5FF;\n",
       "                            border: 3px solid #4CC9FF;\n",
       "                            border-radius: 5px;\n",
       "                            position: absolute;\"> </div>\n",
       "                <div style=\"margin-left: 48px;\">\n",
       "                <details>\n",
       "                    <summary>\n",
       "                        <h4 style=\"margin-bottom: 0px; display: inline;\">Worker: 2</h4>\n",
       "                    </summary>\n",
       "                    <table style=\"width: 100%; text-align: left;\">\n",
       "                        <tr>\n",
       "                            <td style=\"text-align: left;\"><strong>Comm: </strong> tcp://127.0.0.1:43327</td>\n",
       "                            <td style=\"text-align: left;\"><strong>Total threads: </strong> 1</td>\n",
       "                        </tr>\n",
       "                        <tr>\n",
       "                            <td style=\"text-align: left;\">\n",
       "                                <strong>Dashboard: </strong>\n",
       "                                <a href=\"http://127.0.0.1:45389/status\">http://127.0.0.1:45389/status</a>\n",
       "                            </td>\n",
       "                            <td style=\"text-align: left;\">\n",
       "                                <strong>Memory: </strong>\n",
       "                                125.97 GiB\n",
       "                            </td>\n",
       "                        </tr>\n",
       "                        <tr>\n",
       "                            <td style=\"text-align: left;\"><strong>Nanny: </strong> tcp://127.0.0.1:40003</td>\n",
       "                            <td style=\"text-align: left;\"></td>\n",
       "                        </tr>\n",
       "                        <tr>\n",
       "                            <td colspan=\"2\" style=\"text-align: left;\">\n",
       "                                <strong>Local directory: </strong>\n",
       "                                /home/nfs/anirband/Software/GitHub/rapids-examples/tfidf-benchmark/u01/tmp/dask-worker-space/worker-muwgccis\n",
       "                            </td>\n",
       "                        </tr>\n",
       "                        \n",
       "                <tr>\n",
       "                    <td style=\"text-align: left;\">\n",
       "                        <strong>GPU: </strong>Tesla V100-SXM2-32GB\n",
       "                    </td>\n",
       "                    <td style=\"text-align: left;\">\n",
       "                        <strong>GPU memory: </strong>\n",
       "                        31.75 GiB\n",
       "                    </td>\n",
       "                </tr>\n",
       "                \n",
       "                        \n",
       "                    </table>\n",
       "                </details>\n",
       "                </div>\n",
       "            </div>\n",
       "            \n",
       "            <div style=\"margin-bottom: 20px;\">\n",
       "                <div style=\"width: 24px;\n",
       "                            height: 24px;\n",
       "                            background-color: #DBF5FF;\n",
       "                            border: 3px solid #4CC9FF;\n",
       "                            border-radius: 5px;\n",
       "                            position: absolute;\"> </div>\n",
       "                <div style=\"margin-left: 48px;\">\n",
       "                <details>\n",
       "                    <summary>\n",
       "                        <h4 style=\"margin-bottom: 0px; display: inline;\">Worker: 3</h4>\n",
       "                    </summary>\n",
       "                    <table style=\"width: 100%; text-align: left;\">\n",
       "                        <tr>\n",
       "                            <td style=\"text-align: left;\"><strong>Comm: </strong> tcp://127.0.0.1:35431</td>\n",
       "                            <td style=\"text-align: left;\"><strong>Total threads: </strong> 1</td>\n",
       "                        </tr>\n",
       "                        <tr>\n",
       "                            <td style=\"text-align: left;\">\n",
       "                                <strong>Dashboard: </strong>\n",
       "                                <a href=\"http://127.0.0.1:32781/status\">http://127.0.0.1:32781/status</a>\n",
       "                            </td>\n",
       "                            <td style=\"text-align: left;\">\n",
       "                                <strong>Memory: </strong>\n",
       "                                125.97 GiB\n",
       "                            </td>\n",
       "                        </tr>\n",
       "                        <tr>\n",
       "                            <td style=\"text-align: left;\"><strong>Nanny: </strong> tcp://127.0.0.1:46745</td>\n",
       "                            <td style=\"text-align: left;\"></td>\n",
       "                        </tr>\n",
       "                        <tr>\n",
       "                            <td colspan=\"2\" style=\"text-align: left;\">\n",
       "                                <strong>Local directory: </strong>\n",
       "                                /home/nfs/anirband/Software/GitHub/rapids-examples/tfidf-benchmark/u01/tmp/dask-worker-space/worker-9au1wwer\n",
       "                            </td>\n",
       "                        </tr>\n",
       "                        \n",
       "                <tr>\n",
       "                    <td style=\"text-align: left;\">\n",
       "                        <strong>GPU: </strong>Tesla V100-SXM2-32GB\n",
       "                    </td>\n",
       "                    <td style=\"text-align: left;\">\n",
       "                        <strong>GPU memory: </strong>\n",
       "                        31.75 GiB\n",
       "                    </td>\n",
       "                </tr>\n",
       "                \n",
       "                        \n",
       "                    </table>\n",
       "                </details>\n",
       "                </div>\n",
       "            </div>\n",
       "            \n",
       "            <div style=\"margin-bottom: 20px;\">\n",
       "                <div style=\"width: 24px;\n",
       "                            height: 24px;\n",
       "                            background-color: #DBF5FF;\n",
       "                            border: 3px solid #4CC9FF;\n",
       "                            border-radius: 5px;\n",
       "                            position: absolute;\"> </div>\n",
       "                <div style=\"margin-left: 48px;\">\n",
       "                <details>\n",
       "                    <summary>\n",
       "                        <h4 style=\"margin-bottom: 0px; display: inline;\">Worker: 4</h4>\n",
       "                    </summary>\n",
       "                    <table style=\"width: 100%; text-align: left;\">\n",
       "                        <tr>\n",
       "                            <td style=\"text-align: left;\"><strong>Comm: </strong> tcp://127.0.0.1:46153</td>\n",
       "                            <td style=\"text-align: left;\"><strong>Total threads: </strong> 1</td>\n",
       "                        </tr>\n",
       "                        <tr>\n",
       "                            <td style=\"text-align: left;\">\n",
       "                                <strong>Dashboard: </strong>\n",
       "                                <a href=\"http://127.0.0.1:38503/status\">http://127.0.0.1:38503/status</a>\n",
       "                            </td>\n",
       "                            <td style=\"text-align: left;\">\n",
       "                                <strong>Memory: </strong>\n",
       "                                125.97 GiB\n",
       "                            </td>\n",
       "                        </tr>\n",
       "                        <tr>\n",
       "                            <td style=\"text-align: left;\"><strong>Nanny: </strong> tcp://127.0.0.1:34237</td>\n",
       "                            <td style=\"text-align: left;\"></td>\n",
       "                        </tr>\n",
       "                        <tr>\n",
       "                            <td colspan=\"2\" style=\"text-align: left;\">\n",
       "                                <strong>Local directory: </strong>\n",
       "                                /home/nfs/anirband/Software/GitHub/rapids-examples/tfidf-benchmark/u01/tmp/dask-worker-space/worker-3mpgo5x2\n",
       "                            </td>\n",
       "                        </tr>\n",
       "                        \n",
       "                <tr>\n",
       "                    <td style=\"text-align: left;\">\n",
       "                        <strong>GPU: </strong>Tesla V100-SXM2-32GB\n",
       "                    </td>\n",
       "                    <td style=\"text-align: left;\">\n",
       "                        <strong>GPU memory: </strong>\n",
       "                        31.75 GiB\n",
       "                    </td>\n",
       "                </tr>\n",
       "                \n",
       "                        \n",
       "                    </table>\n",
       "                </details>\n",
       "                </div>\n",
       "            </div>\n",
       "            \n",
       "            <div style=\"margin-bottom: 20px;\">\n",
       "                <div style=\"width: 24px;\n",
       "                            height: 24px;\n",
       "                            background-color: #DBF5FF;\n",
       "                            border: 3px solid #4CC9FF;\n",
       "                            border-radius: 5px;\n",
       "                            position: absolute;\"> </div>\n",
       "                <div style=\"margin-left: 48px;\">\n",
       "                <details>\n",
       "                    <summary>\n",
       "                        <h4 style=\"margin-bottom: 0px; display: inline;\">Worker: 5</h4>\n",
       "                    </summary>\n",
       "                    <table style=\"width: 100%; text-align: left;\">\n",
       "                        <tr>\n",
       "                            <td style=\"text-align: left;\"><strong>Comm: </strong> tcp://127.0.0.1:39159</td>\n",
       "                            <td style=\"text-align: left;\"><strong>Total threads: </strong> 1</td>\n",
       "                        </tr>\n",
       "                        <tr>\n",
       "                            <td style=\"text-align: left;\">\n",
       "                                <strong>Dashboard: </strong>\n",
       "                                <a href=\"http://127.0.0.1:41851/status\">http://127.0.0.1:41851/status</a>\n",
       "                            </td>\n",
       "                            <td style=\"text-align: left;\">\n",
       "                                <strong>Memory: </strong>\n",
       "                                125.97 GiB\n",
       "                            </td>\n",
       "                        </tr>\n",
       "                        <tr>\n",
       "                            <td style=\"text-align: left;\"><strong>Nanny: </strong> tcp://127.0.0.1:36841</td>\n",
       "                            <td style=\"text-align: left;\"></td>\n",
       "                        </tr>\n",
       "                        <tr>\n",
       "                            <td colspan=\"2\" style=\"text-align: left;\">\n",
       "                                <strong>Local directory: </strong>\n",
       "                                /home/nfs/anirband/Software/GitHub/rapids-examples/tfidf-benchmark/u01/tmp/dask-worker-space/worker-bmk8to6u\n",
       "                            </td>\n",
       "                        </tr>\n",
       "                        \n",
       "                <tr>\n",
       "                    <td style=\"text-align: left;\">\n",
       "                        <strong>GPU: </strong>Tesla V100-SXM2-32GB\n",
       "                    </td>\n",
       "                    <td style=\"text-align: left;\">\n",
       "                        <strong>GPU memory: </strong>\n",
       "                        31.75 GiB\n",
       "                    </td>\n",
       "                </tr>\n",
       "                \n",
       "                        \n",
       "                    </table>\n",
       "                </details>\n",
       "                </div>\n",
       "            </div>\n",
       "            \n",
       "            <div style=\"margin-bottom: 20px;\">\n",
       "                <div style=\"width: 24px;\n",
       "                            height: 24px;\n",
       "                            background-color: #DBF5FF;\n",
       "                            border: 3px solid #4CC9FF;\n",
       "                            border-radius: 5px;\n",
       "                            position: absolute;\"> </div>\n",
       "                <div style=\"margin-left: 48px;\">\n",
       "                <details>\n",
       "                    <summary>\n",
       "                        <h4 style=\"margin-bottom: 0px; display: inline;\">Worker: 6</h4>\n",
       "                    </summary>\n",
       "                    <table style=\"width: 100%; text-align: left;\">\n",
       "                        <tr>\n",
       "                            <td style=\"text-align: left;\"><strong>Comm: </strong> tcp://127.0.0.1:40663</td>\n",
       "                            <td style=\"text-align: left;\"><strong>Total threads: </strong> 1</td>\n",
       "                        </tr>\n",
       "                        <tr>\n",
       "                            <td style=\"text-align: left;\">\n",
       "                                <strong>Dashboard: </strong>\n",
       "                                <a href=\"http://127.0.0.1:42703/status\">http://127.0.0.1:42703/status</a>\n",
       "                            </td>\n",
       "                            <td style=\"text-align: left;\">\n",
       "                                <strong>Memory: </strong>\n",
       "                                125.97 GiB\n",
       "                            </td>\n",
       "                        </tr>\n",
       "                        <tr>\n",
       "                            <td style=\"text-align: left;\"><strong>Nanny: </strong> tcp://127.0.0.1:43329</td>\n",
       "                            <td style=\"text-align: left;\"></td>\n",
       "                        </tr>\n",
       "                        <tr>\n",
       "                            <td colspan=\"2\" style=\"text-align: left;\">\n",
       "                                <strong>Local directory: </strong>\n",
       "                                /home/nfs/anirband/Software/GitHub/rapids-examples/tfidf-benchmark/u01/tmp/dask-worker-space/worker-h0as1k2w\n",
       "                            </td>\n",
       "                        </tr>\n",
       "                        \n",
       "                <tr>\n",
       "                    <td style=\"text-align: left;\">\n",
       "                        <strong>GPU: </strong>Tesla V100-SXM2-32GB\n",
       "                    </td>\n",
       "                    <td style=\"text-align: left;\">\n",
       "                        <strong>GPU memory: </strong>\n",
       "                        31.75 GiB\n",
       "                    </td>\n",
       "                </tr>\n",
       "                \n",
       "                        \n",
       "                    </table>\n",
       "                </details>\n",
       "                </div>\n",
       "            </div>\n",
       "            \n",
       "            <div style=\"margin-bottom: 20px;\">\n",
       "                <div style=\"width: 24px;\n",
       "                            height: 24px;\n",
       "                            background-color: #DBF5FF;\n",
       "                            border: 3px solid #4CC9FF;\n",
       "                            border-radius: 5px;\n",
       "                            position: absolute;\"> </div>\n",
       "                <div style=\"margin-left: 48px;\">\n",
       "                <details>\n",
       "                    <summary>\n",
       "                        <h4 style=\"margin-bottom: 0px; display: inline;\">Worker: 7</h4>\n",
       "                    </summary>\n",
       "                    <table style=\"width: 100%; text-align: left;\">\n",
       "                        <tr>\n",
       "                            <td style=\"text-align: left;\"><strong>Comm: </strong> tcp://127.0.0.1:33999</td>\n",
       "                            <td style=\"text-align: left;\"><strong>Total threads: </strong> 1</td>\n",
       "                        </tr>\n",
       "                        <tr>\n",
       "                            <td style=\"text-align: left;\">\n",
       "                                <strong>Dashboard: </strong>\n",
       "                                <a href=\"http://127.0.0.1:46843/status\">http://127.0.0.1:46843/status</a>\n",
       "                            </td>\n",
       "                            <td style=\"text-align: left;\">\n",
       "                                <strong>Memory: </strong>\n",
       "                                125.97 GiB\n",
       "                            </td>\n",
       "                        </tr>\n",
       "                        <tr>\n",
       "                            <td style=\"text-align: left;\"><strong>Nanny: </strong> tcp://127.0.0.1:37269</td>\n",
       "                            <td style=\"text-align: left;\"></td>\n",
       "                        </tr>\n",
       "                        <tr>\n",
       "                            <td colspan=\"2\" style=\"text-align: left;\">\n",
       "                                <strong>Local directory: </strong>\n",
       "                                /home/nfs/anirband/Software/GitHub/rapids-examples/tfidf-benchmark/u01/tmp/dask-worker-space/worker-19_tk6bs\n",
       "                            </td>\n",
       "                        </tr>\n",
       "                        \n",
       "                <tr>\n",
       "                    <td style=\"text-align: left;\">\n",
       "                        <strong>GPU: </strong>Tesla V100-SXM2-32GB\n",
       "                    </td>\n",
       "                    <td style=\"text-align: left;\">\n",
       "                        <strong>GPU memory: </strong>\n",
       "                        31.75 GiB\n",
       "                    </td>\n",
       "                </tr>\n",
       "                \n",
       "                        \n",
       "                    </table>\n",
       "                </details>\n",
       "                </div>\n",
       "            </div>\n",
       "            \n",
       "            </details>\n",
       "        </div>\n",
       "        \n",
       "                    </details>\n",
       "                </div>\n",
       "            </div>\n",
       "        \n",
       "                </details>\n",
       "                \n",
       "                </div>\n",
       "            </div>\n",
       "        "
      ],
      "text/plain": [
       "<Client: 'tcp://127.0.0.1:38501' processes=8 threads=8, memory=0.98 TiB>"
      ]
     },
     "execution_count": 3,
     "metadata": {},
     "output_type": "execute_result"
    }
   ],
   "source": [
    "client"
   ]
  },
  {
   "cell_type": "markdown",
   "id": "33abd114-7d65-4081-8a04-580e4a5785d8",
   "metadata": {},
   "source": [
    "## Benchmarking Code"
   ]
  },
  {
   "cell_type": "markdown",
   "id": "6697d77b-999d-4737-b9ff-f017dbba3868",
   "metadata": {},
   "source": [
    "### Helper Functions"
   ]
  },
  {
   "cell_type": "code",
   "execution_count": 4,
   "id": "90a8f7cb-8837-4ac0-8e21-3ed06665c6f9",
   "metadata": {},
   "outputs": [
    {
     "name": "stderr",
     "output_type": "stream",
     "text": [
      "[nltk_data] Downloading package stopwords to\n",
      "[nltk_data]     /home/nfs/anirband/nltk_data...\n",
      "[nltk_data]   Package stopwords is already up-to-date!\n"
     ]
    }
   ],
   "source": [
    "nltk.download('stopwords')\n",
    "STOPWORDS = nltk.corpus.stopwords.words('english')\n",
    "PUNCTUATIONS = ['!', '\"', '#', '$', '%', '&', '(', ')', '*', '+', '-', '.',\n",
    "                '/', '\\\\', ':', ';', '<', '=', '>', '?', '@', '[', ']', '^',\n",
    "                '_', '`', '{', '|', '}', '\\t','\\n', \"'\", \",\", '~' , '—']\n",
    "\n",
    "def read_data(client, parquet_path, benchmark=True):\n",
    "    data = dask_cudf.read_parquet(parquet_path)\n",
    "    if benchmark:\n",
    "        with dask.annotate(workers=set(client.has_what().keys())):\n",
    "            data = client.persist(data)\n",
    "        wait(data)\n",
    "        print(data.shape[0].compute())\n",
    "    return data\n",
    "\n",
    "\n",
    "def text_preprocessor(data, client, column_name, PUNCTUATIONS,\n",
    "                      STOPWORDS, benchmark=True):\n",
    "    data = data[data[column_name].notnull()]\n",
    "    data[column_name] = (data[column_name]\n",
    "                         .str.lower()\n",
    "                         .str.replace_tokens(\n",
    "                             PUNCTUATIONS, [\" \"]*len(PUNCTUATIONS))\n",
    "                         .str.replace_tokens(STOPWORDS, \"\")\n",
    "                         .str.normalize_spaces()\n",
    "                         .str.strip())\n",
    "    if benchmark:\n",
    "        with dask.annotate(workers=set(client.has_what().keys())):\n",
    "            data = client.persist(data)\n",
    "        wait(data)\n",
    "        print(data.shape[0].compute())\n",
    "    return data\n",
    "\n",
    "\n",
    "def hashing_vectorizer(data, client, column_name, benchmark):\n",
    "    vectorizer = HashingVectorizer(stop_words=None, preprocessor=None)\n",
    "    # Meta is an empty dataframe matches the dtypes and columns of the output\n",
    "    meta = dask.array.from_array(\n",
    "        cp.sparse.csr_matrix(cp.zeros(1, dtype=cp.float32)))\n",
    "    hashing_vectorized = data[column_name].map_partitions(\n",
    "        vectorizer.fit_transform, meta=meta).astype(cp.float32)\n",
    "    if benchmark:\n",
    "        with dask.annotate(workers=set(client.has_what().keys())):\n",
    "            hashing_vectorized = client.persist(hashing_vectorized)\n",
    "        wait(hashing_vectorized)\n",
    "        hashing_vectorized.compute_chunk_sizes()\n",
    "        print(hashing_vectorized.shape)\n",
    "    return hashing_vectorized\n",
    "\n",
    "\n",
    "def tfidf_transformer(data, client, benchmark):\n",
    "    multi_gpu_transformer = TfidfTransformer()\n",
    "    result = multi_gpu_transformer.fit_transform(data)\n",
    "    if benchmark:\n",
    "        with dask.annotate(workers=set(client.has_what().keys())):\n",
    "            result = client.persist(result)\n",
    "        wait(result)\n",
    "        result.compute_chunk_sizes()\n",
    "        print(result.shape)\n",
    "    return result\n",
    "\n",
    "\n",
    "def execute_full_pipeline(n, i, client, parquet_path, worker_counts=[1],\n",
    "                            result_path=\"./results.pkl\", benchmark=True):\n",
    "    sample_record = {\"overall\": 0, \"data_read\": 0, \"hashing_vectorizer\": 0,\n",
    "                    \"tfidf_transformer\": 0, \"data_preprocessing\": 0, \"nrows\": 0}\n",
    "    client.restart()\n",
    "    with SimpleTimer() as timer:\n",
    "        data = read_data(client, parquet_path, benchmark)\n",
    "    sample_record[\"data_read\"] = timer.elapsed/1e9\n",
    "\n",
    "    with SimpleTimer() as timer:\n",
    "        data = text_preprocessor(data, client, \"review_body\", PUNCTUATIONS, STOPWORDS, benchmark)\n",
    "    sample_record[\"data_preprocessing\"] = timer.elapsed/1e9\n",
    "\n",
    "    with SimpleTimer() as timer:\n",
    "        hashing_vectorized = hashing_vectorizer(data, client, \"review_body\", benchmark)\n",
    "    sample_record[\"hashing_vectorizer\"] = timer.elapsed/1e9\n",
    "\n",
    "    with SimpleTimer() as timer:\n",
    "        result = tfidf_transformer(hashing_vectorized, client, benchmark=True)\n",
    "    sample_record[\"tfidf_transformer\"] = timer.elapsed/1e9\n",
    "\n",
    "    print(f\"Workers:{n}, Sample Run:{i}, Finished loading data in {sample_record['data_read']}s\")\n",
    "    print(f\"Workers:{n}, Sample Run:{i}, Finished preprocessing data in {sample_record['data_preprocessing']}s\")\n",
    "    print(f\"Workers:{n}, Sample Run:{i}, Finished fitting HashVectorizer in {sample_record['hashing_vectorizer']}s\")\n",
    "    print(f\"Workers:{n}, Sample Run:{i}, Finished fitting IDF Transformer in {sample_record['tfidf_transformer']}s\")\n",
    "\n",
    "    return data, result, sample_record"
   ]
  },
  {
   "cell_type": "code",
   "execution_count": 5,
   "id": "897b3081-f947-4f87-8443-315c53053612",
   "metadata": {},
   "outputs": [],
   "source": [
    "def performance_numbers(client, parquet_path, worker_counts=[1], samples=1, result_path=\"./results.pkl\", benchmark=True):\n",
    "    \"\"\"\n",
    "    Main function to perform the performance sweep\n",
    "    \"\"\"\n",
    "    results_logger = ResultsLogger(result_path)\n",
    "    for n in worker_counts: \n",
    "        scale_workers(client, n)\n",
    "        \n",
    "        for i in tqdm(range(samples)): \n",
    "            with SimpleTimer() as overalltimer:\n",
    "                data, result, sample_record = execute_full_pipeline(n, i, client, parquet_path, worker_counts=[1], result_path=result_path, benchmark=benchmark)\n",
    "            sample_record[\"overall\"]=overalltimer.elapsed/1e9\n",
    "            sample_record[\"nrows\"]=data.shape[0].compute()\n",
    "            sample_record[\"n_workers\"]=n\n",
    "            sample_record[\"sample_run\"]=i\n",
    "            print(f\"Workers:{n}, Sample Run:{i}, Finished executing full pipeline in {overalltimer.elapsed/1e9}s\")\n",
    "            results_logger.log(sample_record)\n",
    "    results_logger.write()"
   ]
  },
  {
   "cell_type": "markdown",
   "id": "3ebd559c-e7b9-4386-b819-c9a54cd1e140",
   "metadata": {
    "tags": []
   },
   "source": [
    "## Benchmark latency by materializing the intermediate dataframe(s) in every stage"
   ]
  },
  {
   "cell_type": "code",
   "execution_count": 6,
   "id": "9fa939d6-3158-4577-b7ef-6fb4f8bec54b",
   "metadata": {},
   "outputs": [],
   "source": [
    "#parquet_path = 's3://amazon-reviews-pds/parquet/product_category=Camera/*.parquet'\n",
    "dataset = \"Books\"\n",
    "parquet_path = f'./data/product_category={dataset}'\n",
    "samples = 5\n",
    "worker_counts = [2, 4, 6, 8]\n",
    "result_path = f\"./results/result_poc_nlp_dask_{dataset}_persist.csv\""
   ]
  },
  {
   "cell_type": "code",
   "execution_count": 7,
   "id": "4da2c546-c633-4f77-9220-e0067add959c",
   "metadata": {},
   "outputs": [
    {
     "name": "stderr",
     "output_type": "stream",
     "text": [
      "/home/nfs/anirband/anaconda3/envs/rapids-21.08/lib/python3.8/contextlib.py:120: UserWarning: Creating scratch directories is taking a surprisingly long time. This is often due to running workers on a network file system. Consider specifying a local-directory to point workers to write scratch data to a local disk.\n",
      "  next(self.gen)\n",
      "  0%|                                                                                                                                                                                      | 0/5 [00:00<?, ?it/s]"
     ]
    },
    {
     "name": "stdout",
     "output_type": "stream",
     "text": [
      "20726160\n",
      "20725971\n",
      "# nnz: 0\n",
      "(20725971, 1048576)\n",
      "[I] [16:25:29.043681] [Delayed('_merge_stats_to_model-f3725329-3b8f-4beb-ad61-7b83b8971a0d')]\n",
      "[I] [16:25:29.045991] [Delayed('_merge_stats_to_model-f26b750b-6886-4390-8507-fee1f9419eba')]\n",
      "[I] [16:25:29.113792] [<Future: finished, type: cuml.TfidfTransformer, key: _merge_stats_to_model-f3725329-3b8f-4beb-ad61-7b83b8971a0d>]\n",
      "[I] [16:25:29.113865] [<Future: finished, type: cuml.TfidfTransformer, key: _merge_stats_to_model-f26b750b-6886-4390-8507-fee1f9419eba>]\n",
      "[I] [16:25:29.120707] [Delayed('_merge_stats_to_model-dd3fd7f8-7639-4993-95a4-6e9db86f6cb1')]\n"
     ]
    },
    {
     "name": "stderr",
     "output_type": "stream",
     "text": [
      " 20%|██████████████████████████████████▊                                                                                                                                           | 1/5 [00:55<03:40, 55.13s/it]"
     ]
    },
    {
     "name": "stdout",
     "output_type": "stream",
     "text": [
      "(20725971, 1048576)\n",
      "Workers:2, Sample Run:0, Finished loading data in 8.883758639s\n",
      "Workers:2, Sample Run:0, Finished preprocessing data in 17.852982982s\n",
      "Workers:2, Sample Run:0, Finished fitting HashVectorizer in 21.984687763s\n",
      "Workers:2, Sample Run:0, Finished fitting IDF Transformer in 3.578672746s\n",
      "Workers:2, Sample Run:0, Finished executing full pipeline in 55.064766322s\n",
      "20726160\n",
      "20725971\n",
      "# nnz: 0\n",
      "(20725971, 1048576)\n",
      "[I] [16:26:20.777204] [Delayed('_merge_stats_to_model-baa23c78-36e5-4a24-bda5-43b29f5cd9e9')]\n",
      "[I] [16:26:20.779898] [Delayed('_merge_stats_to_model-66d09395-6672-4feb-a95c-6ec6fa4680bb')]\n",
      "[I] [16:26:20.884311] [<Future: finished, type: cuml.TfidfTransformer, key: _merge_stats_to_model-baa23c78-36e5-4a24-bda5-43b29f5cd9e9>]\n",
      "[I] [16:26:20.884390] [<Future: finished, type: cuml.TfidfTransformer, key: _merge_stats_to_model-66d09395-6672-4feb-a95c-6ec6fa4680bb>]\n",
      "[I] [16:26:20.890641] [Delayed('_merge_stats_to_model-ddc29564-fb42-4b86-83e0-90f81772603c')]\n"
     ]
    },
    {
     "name": "stderr",
     "output_type": "stream",
     "text": [
      " 40%|█████████████████████████████████████████████████████████████████████▌                                                                                                        | 2/5 [01:46<02:39, 53.15s/it]"
     ]
    },
    {
     "name": "stdout",
     "output_type": "stream",
     "text": [
      "(20725971, 1048576)\n",
      "Workers:2, Sample Run:1, Finished loading data in 5.37510705s\n",
      "Workers:2, Sample Run:1, Finished preprocessing data in 17.272631007s\n",
      "Workers:2, Sample Run:1, Finished fitting HashVectorizer in 21.666843902s\n",
      "Workers:2, Sample Run:1, Finished fitting IDF Transformer in 3.449423601s\n",
      "Workers:2, Sample Run:1, Finished executing full pipeline in 51.710654636s\n",
      "20726160\n",
      "20725971\n",
      "# nnz: 0\n",
      "(20725971, 1048576)\n",
      "[I] [16:27:12.444288] [Delayed('_merge_stats_to_model-cc986304-e8cf-4a8f-a605-15fd22809c3e')]\n",
      "[I] [16:27:12.446336] [Delayed('_merge_stats_to_model-5b9d5241-bcd1-40d3-b814-bc055c6cd3c3')]\n",
      "[I] [16:27:12.709305] [<Future: finished, type: cuml.TfidfTransformer, key: _merge_stats_to_model-cc986304-e8cf-4a8f-a605-15fd22809c3e>]\n",
      "[I] [16:27:12.709591] [<Future: finished, type: cuml.TfidfTransformer, key: _merge_stats_to_model-5b9d5241-bcd1-40d3-b814-bc055c6cd3c3>]\n",
      "[I] [16:27:12.717412] [Delayed('_merge_stats_to_model-aa84bb85-f054-4373-947c-518455fe4dd0')]\n"
     ]
    },
    {
     "name": "stderr",
     "output_type": "stream",
     "text": [
      " 60%|████████████████████████████████████████████████████████████████████████████████████████████████████████▍                                                                     | 3/5 [02:40<01:46, 53.48s/it]"
     ]
    },
    {
     "name": "stdout",
     "output_type": "stream",
     "text": [
      "(20725971, 1048576)\n",
      "Workers:2, Sample Run:2, Finished loading data in 5.499514401s\n",
      "Workers:2, Sample Run:2, Finished preprocessing data in 17.276147259s\n",
      "Workers:2, Sample Run:2, Finished fitting HashVectorizer in 21.908530524s\n",
      "Workers:2, Sample Run:2, Finished fitting IDF Transformer in 5.63539538s\n",
      "Workers:2, Sample Run:2, Finished executing full pipeline in 53.808349226s\n",
      "20726160\n",
      "20725971\n",
      "# nnz: 0\n",
      "(20725971, 1048576)\n",
      "[I] [16:28:07.890299] [Delayed('_merge_stats_to_model-baac5f73-1ad4-4c12-8105-99bac090b399')]\n",
      "[I] [16:28:07.892549] [Delayed('_merge_stats_to_model-8101ce5e-6468-4ded-8516-c7fe2a1a48ac')]\n",
      "[I] [16:28:07.944703] [<Future: finished, type: cuml.TfidfTransformer, key: _merge_stats_to_model-baac5f73-1ad4-4c12-8105-99bac090b399>]\n",
      "[I] [16:28:07.944961] [<Future: finished, type: cuml.TfidfTransformer, key: _merge_stats_to_model-8101ce5e-6468-4ded-8516-c7fe2a1a48ac>]\n",
      "[I] [16:28:07.951653] [Delayed('_merge_stats_to_model-d36ff70d-7b02-41e5-9335-2cf71c00531a')]\n"
     ]
    },
    {
     "name": "stderr",
     "output_type": "stream",
     "text": [
      " 80%|███████████████████████████████████████████████████████████████████████████████████████████████████████████████████████████████████████████▏                                  | 4/5 [03:33<00:53, 53.34s/it]"
     ]
    },
    {
     "name": "stdout",
     "output_type": "stream",
     "text": [
      "(20725971, 1048576)\n",
      "Workers:2, Sample Run:3, Finished loading data in 6.267777424s\n",
      "Workers:2, Sample Run:3, Finished preprocessing data in 17.288061274s\n",
      "Workers:2, Sample Run:3, Finished fitting HashVectorizer in 20.859937352s\n",
      "Workers:2, Sample Run:3, Finished fitting IDF Transformer in 3.545452127s\n",
      "Workers:2, Sample Run:3, Finished executing full pipeline in 53.069569032s\n",
      "20726160\n",
      "20725971\n",
      "# nnz: 0\n",
      "(20725971, 1048576)\n",
      "[I] [16:28:58.583404] [Delayed('_merge_stats_to_model-72516648-a832-485b-9aaf-8301e7ab04aa')]\n",
      "[I] [16:28:58.585523] [Delayed('_merge_stats_to_model-6cfe97a7-b785-4b0c-b394-a5de6355d200')]\n",
      "[I] [16:28:58.688668] [<Future: finished, type: cuml.TfidfTransformer, key: _merge_stats_to_model-72516648-a832-485b-9aaf-8301e7ab04aa>]\n",
      "[I] [16:28:58.688956] [<Future: finished, type: cuml.TfidfTransformer, key: _merge_stats_to_model-6cfe97a7-b785-4b0c-b394-a5de6355d200>]\n",
      "[I] [16:28:58.695602] [Delayed('_merge_stats_to_model-0fc206a5-926c-47a2-b20e-47911fe40b4e')]\n"
     ]
    },
    {
     "name": "stderr",
     "output_type": "stream",
     "text": [
      "100%|██████████████████████████████████████████████████████████████████████████████████████████████████████████████████████████████████████████████████████████████████████████████| 5/5 [04:24<00:00, 52.95s/it]"
     ]
    },
    {
     "name": "stdout",
     "output_type": "stream",
     "text": [
      "(20725971, 1048576)\n",
      "Workers:2, Sample Run:4, Finished loading data in 5.421334915s\n",
      "Workers:2, Sample Run:4, Finished preprocessing data in 17.165412672s\n",
      "Workers:2, Sample Run:4, Finished fitting HashVectorizer in 20.970147577s\n",
      "Workers:2, Sample Run:4, Finished fitting IDF Transformer in 3.440092487s\n",
      "Workers:2, Sample Run:4, Finished executing full pipeline in 50.787731873s\n"
     ]
    },
    {
     "name": "stderr",
     "output_type": "stream",
     "text": [
      "\n",
      "  0%|                                                                                                                                                                                      | 0/5 [00:00<?, ?it/s]"
     ]
    },
    {
     "name": "stdout",
     "output_type": "stream",
     "text": [
      "20726160\n",
      "20725971\n",
      "# nnz: 0\n",
      "(20725971, 1048576)\n",
      "[I] [16:29:32.944800] [Delayed('_merge_stats_to_model-55fc9aee-68f8-4f30-a22d-cfd0d06fa70a')]\n",
      "[I] [16:29:32.945545] [Delayed('_merge_stats_to_model-ea9c615e-2493-4671-a74f-8ad456a6f865')]\n",
      "[I] [16:29:32.946683] [Delayed('_merge_stats_to_model-c661144d-5ac9-4e78-9704-87b1bede69a9')]\n",
      "[I] [16:29:32.947993] [Delayed('_merge_stats_to_model-864c39ea-96a7-4d48-b87e-e77fd315e874')]\n",
      "[I] [16:29:32.985656] [<Future: finished, type: cuml.TfidfTransformer, key: _merge_stats_to_model-55fc9aee-68f8-4f30-a22d-cfd0d06fa70a>]\n",
      "[I] [16:29:32.985885] [<Future: finished, type: cuml.TfidfTransformer, key: _merge_stats_to_model-ea9c615e-2493-4671-a74f-8ad456a6f865>]\n",
      "[I] [16:29:32.986015] [<Future: finished, type: cuml.TfidfTransformer, key: _merge_stats_to_model-c661144d-5ac9-4e78-9704-87b1bede69a9>]\n",
      "[I] [16:29:32.986152] [<Future: finished, type: cuml.TfidfTransformer, key: _merge_stats_to_model-864c39ea-96a7-4d48-b87e-e77fd315e874>]\n",
      "[I] [16:29:33.003710] [Delayed('_merge_stats_to_model-61154ae0-f3b8-40c0-8a56-f58fa36706f9')]\n"
     ]
    },
    {
     "name": "stderr",
     "output_type": "stream",
     "text": [
      " 20%|██████████████████████████████████▊                                                                                                                                           | 1/5 [00:29<01:56, 29.10s/it]"
     ]
    },
    {
     "name": "stdout",
     "output_type": "stream",
     "text": [
      "(20725971, 1048576)\n",
      "Workers:4, Sample Run:0, Finished loading data in 3.179698737s\n",
      "Workers:4, Sample Run:0, Finished preprocessing data in 9.187715427s\n",
      "Workers:4, Sample Run:0, Finished fitting HashVectorizer in 10.561659775s\n",
      "Workers:4, Sample Run:0, Finished fitting IDF Transformer in 2.45680928s\n",
      "Workers:4, Sample Run:0, Finished executing full pipeline in 29.045028326s\n",
      "20726160\n",
      "20725971\n",
      "# nnz: 0\n",
      "(20725971, 1048576)\n",
      "[I] [16:30:02.324389] [Delayed('_merge_stats_to_model-f2daf7d8-a4c0-468f-a042-f0f4a64f3ba6')]\n",
      "[I] [16:30:02.325739] [Delayed('_merge_stats_to_model-4483cb42-caa8-4836-b6ca-41e6c7f6ceea')]\n",
      "[I] [16:30:02.326435] [Delayed('_merge_stats_to_model-d98959fe-7c82-40f0-92e3-6ef72b7fade0')]\n",
      "[I] [16:30:02.327104] [Delayed('_merge_stats_to_model-627fe143-9138-489c-b0f4-c4c0c963bc43')]\n",
      "[I] [16:30:02.364928] [<Future: finished, type: cuml.TfidfTransformer, key: _merge_stats_to_model-f2daf7d8-a4c0-468f-a042-f0f4a64f3ba6>]\n",
      "[I] [16:30:02.365142] [<Future: finished, type: cuml.TfidfTransformer, key: _merge_stats_to_model-4483cb42-caa8-4836-b6ca-41e6c7f6ceea>]\n",
      "[I] [16:30:02.365277] [<Future: finished, type: cuml.TfidfTransformer, key: _merge_stats_to_model-d98959fe-7c82-40f0-92e3-6ef72b7fade0>]\n",
      "[I] [16:30:02.365401] [<Future: finished, type: cuml.TfidfTransformer, key: _merge_stats_to_model-627fe143-9138-489c-b0f4-c4c0c963bc43>]\n",
      "[I] [16:30:02.371988] [Delayed('_merge_stats_to_model-cb3d570c-5bc8-420e-83ba-e02eaa0e0053')]\n"
     ]
    },
    {
     "name": "stderr",
     "output_type": "stream",
     "text": [
      " 40%|█████████████████████████████████████████████████████████████████████▌                                                                                                        | 2/5 [00:58<01:27, 29.31s/it]"
     ]
    },
    {
     "name": "stdout",
     "output_type": "stream",
     "text": [
      "(20725971, 1048576)\n",
      "Workers:4, Sample Run:1, Finished loading data in 3.036154087s\n",
      "Workers:4, Sample Run:1, Finished preprocessing data in 9.147149558s\n",
      "Workers:4, Sample Run:1, Finished fitting HashVectorizer in 10.581339864s\n",
      "Workers:4, Sample Run:1, Finished fitting IDF Transformer in 2.502018069s\n",
      "Workers:4, Sample Run:1, Finished executing full pipeline in 29.399143574s\n",
      "20726160\n",
      "20725971\n",
      "# nnz: 0\n",
      "(20725971, 1048576)\n",
      "[I] [16:30:33.046464] [Delayed('_merge_stats_to_model-621383ae-2c81-4128-b719-8548c80e0e45')]\n",
      "[I] [16:30:33.047837] [Delayed('_merge_stats_to_model-b1c7d781-1387-49f0-9045-1443e02c8ac0')]\n",
      "[I] [16:30:33.048476] [Delayed('_merge_stats_to_model-6a0725c9-6902-4ac9-a8e9-b41d1811c5be')]\n",
      "[I] [16:30:33.049130] [Delayed('_merge_stats_to_model-b0360824-8f7b-44a7-b45c-b40d7bd7d987')]\n",
      "[I] [16:30:33.088425] [<Future: finished, type: cuml.TfidfTransformer, key: _merge_stats_to_model-621383ae-2c81-4128-b719-8548c80e0e45>]\n",
      "[I] [16:30:33.088659] [<Future: finished, type: cuml.TfidfTransformer, key: _merge_stats_to_model-b1c7d781-1387-49f0-9045-1443e02c8ac0>]\n",
      "[I] [16:30:33.088791] [<Future: finished, type: cuml.TfidfTransformer, key: _merge_stats_to_model-6a0725c9-6902-4ac9-a8e9-b41d1811c5be>]\n",
      "[I] [16:30:33.088917] [<Future: finished, type: cuml.TfidfTransformer, key: _merge_stats_to_model-b0360824-8f7b-44a7-b45c-b40d7bd7d987>]\n",
      "[I] [16:30:33.095447] [Delayed('_merge_stats_to_model-e54a184d-45f1-4713-afe1-07604b94d8f8')]\n"
     ]
    },
    {
     "name": "stderr",
     "output_type": "stream",
     "text": [
      " 60%|████████████████████████████████████████████████████████████████████████████████████████████████████████▍                                                                     | 3/5 [01:29<00:59, 29.96s/it]"
     ]
    },
    {
     "name": "stdout",
     "output_type": "stream",
     "text": [
      "(20725971, 1048576)\n",
      "Workers:4, Sample Run:2, Finished loading data in 3.087933581s\n",
      "Workers:4, Sample Run:2, Finished preprocessing data in 10.143229468s\n",
      "Workers:4, Sample Run:2, Finished fitting HashVectorizer in 10.598026344s\n",
      "Workers:4, Sample Run:2, Finished fitting IDF Transformer in 2.545099485s\n",
      "Workers:4, Sample Run:2, Finished executing full pipeline in 30.681655427s\n",
      "20726160\n",
      "20725971\n",
      "# nnz: 0\n",
      "(20725971, 1048576)\n",
      "[I] [16:31:02.726759] [Delayed('_merge_stats_to_model-894fc410-5fe7-4815-bcf2-23117769ab61')]\n",
      "[I] [16:31:02.728226] [Delayed('_merge_stats_to_model-6ecf0961-98dd-4729-90fa-e4a678af9b5c')]\n",
      "[I] [16:31:02.729581] [Delayed('_merge_stats_to_model-ddb724f8-d107-48bb-a055-1490e249976b')]\n",
      "[I] [16:31:02.730263] [Delayed('_merge_stats_to_model-a037d666-0fcb-4640-be47-d15d800eae38')]\n",
      "[I] [16:31:02.772223] [<Future: finished, type: cuml.TfidfTransformer, key: _merge_stats_to_model-894fc410-5fe7-4815-bcf2-23117769ab61>]\n",
      "[I] [16:31:02.772459] [<Future: finished, type: cuml.TfidfTransformer, key: _merge_stats_to_model-6ecf0961-98dd-4729-90fa-e4a678af9b5c>]\n",
      "[I] [16:31:02.772594] [<Future: finished, type: cuml.TfidfTransformer, key: _merge_stats_to_model-ddb724f8-d107-48bb-a055-1490e249976b>]\n",
      "[I] [16:31:02.772715] [<Future: finished, type: cuml.TfidfTransformer, key: _merge_stats_to_model-a037d666-0fcb-4640-be47-d15d800eae38>]\n",
      "[I] [16:31:02.779372] [Delayed('_merge_stats_to_model-81ff5b44-c1be-40bc-ad11-f64896bd3f01')]\n"
     ]
    },
    {
     "name": "stderr",
     "output_type": "stream",
     "text": [
      " 80%|███████████████████████████████████████████████████████████████████████████████████████████████████████████████████████████████████████████▏                                  | 4/5 [01:58<00:29, 29.81s/it]"
     ]
    },
    {
     "name": "stdout",
     "output_type": "stream",
     "text": [
      "(20725971, 1048576)\n",
      "Workers:4, Sample Run:3, Finished loading data in 3.154278374s\n",
      "Workers:4, Sample Run:3, Finished preprocessing data in 9.166676002s\n",
      "Workers:4, Sample Run:3, Finished fitting HashVectorizer in 10.74899429s\n",
      "Workers:4, Sample Run:3, Finished fitting IDF Transformer in 2.422896941s\n",
      "Workers:4, Sample Run:3, Finished executing full pipeline in 29.517265322s\n",
      "20726160\n",
      "20725971\n",
      "# nnz: 0\n",
      "(20725971, 1048576)\n",
      "[I] [16:31:34.943094] [Delayed('_merge_stats_to_model-9b229dde-8a08-41df-902f-e1ec67bf3a89')]\n",
      "[I] [16:31:34.944314] [Delayed('_merge_stats_to_model-5feaccf6-8059-4c15-b9aa-1dcf868d48fb')]\n",
      "[I] [16:31:34.945018] [Delayed('_merge_stats_to_model-ea61a899-accd-4ff9-9e05-5243a237faa0')]\n",
      "[I] [16:31:34.945753] [Delayed('_merge_stats_to_model-c0032c9e-efb2-499b-9616-45408d4a286b')]\n",
      "[I] [16:31:34.984832] [<Future: finished, type: cuml.TfidfTransformer, key: _merge_stats_to_model-9b229dde-8a08-41df-902f-e1ec67bf3a89>]\n",
      "[I] [16:31:34.984904] [<Future: finished, type: cuml.TfidfTransformer, key: _merge_stats_to_model-5feaccf6-8059-4c15-b9aa-1dcf868d48fb>]\n",
      "[I] [16:31:34.984957] [<Future: finished, type: cuml.TfidfTransformer, key: _merge_stats_to_model-ea61a899-accd-4ff9-9e05-5243a237faa0>]\n",
      "[I] [16:31:34.985250] [<Future: finished, type: cuml.TfidfTransformer, key: _merge_stats_to_model-c0032c9e-efb2-499b-9616-45408d4a286b>]\n",
      "[I] [16:31:34.991758] [Delayed('_merge_stats_to_model-25aa22d5-7b88-420a-ac79-1fb58c46891a')]\n"
     ]
    },
    {
     "name": "stderr",
     "output_type": "stream",
     "text": [
      "100%|██████████████████████████████████████████████████████████████████████████████████████████████████████████████████████████████████████████████████████████████████████████████| 5/5 [02:30<00:00, 30.20s/it]"
     ]
    },
    {
     "name": "stdout",
     "output_type": "stream",
     "text": [
      "(20725971, 1048576)\n",
      "Workers:4, Sample Run:4, Finished loading data in 3.07736164s\n",
      "Workers:4, Sample Run:4, Finished preprocessing data in 10.468178192s\n",
      "Workers:4, Sample Run:4, Finished fitting HashVectorizer in 10.834976649s\n",
      "Workers:4, Sample Run:4, Finished fitting IDF Transformer in 2.385658513s\n",
      "Workers:4, Sample Run:4, Finished executing full pipeline in 32.057054428s\n"
     ]
    },
    {
     "name": "stderr",
     "output_type": "stream",
     "text": [
      "\n",
      "  0%|                                                                                                                                                                                      | 0/5 [00:00<?, ?it/s]/home/nfs/anirband/anaconda3/envs/rapids-21.08/lib/python3.8/contextlib.py:120: UserWarning: Creating scratch directories is taking a surprisingly long time. This is often due to running workers on a network file system. Consider specifying a local-directory to point workers to write scratch data to a local disk.\n",
      "  next(self.gen)\n"
     ]
    },
    {
     "name": "stdout",
     "output_type": "stream",
     "text": [
      "20726160\n",
      "20725971\n",
      "# nnz: 0\n",
      "(20725971, 1048576)\n",
      "[I] [16:32:13.845417] [Delayed('_merge_stats_to_model-6a6c5a8c-c22e-49c5-969b-38ee8e485be6')]\n",
      "[I] [16:32:13.846190] [Delayed('_merge_stats_to_model-6c1b362a-0aea-4716-9004-bdf82137dee9')]\n",
      "[I] [16:32:13.846464] [<Future: finished, type: cuml.TfidfTransformer, key: _set_doc_stats-252ade97-d54b-475a-804e-df519f011758>]\n",
      "[I] [16:32:13.846796] [<Future: finished, type: cuml.TfidfTransformer, key: _set_doc_stats-24c145d0-4e51-4391-bac6-6d40572aaf26>]\n",
      "[I] [16:32:13.847482] [Delayed('_merge_stats_to_model-bcf791f8-f29a-4404-b500-f8fdfbc6d77f')]\n",
      "[I] [16:32:13.848223] [Delayed('_merge_stats_to_model-008e883e-53a9-4a63-87c3-7dd95707a83a')]\n",
      "[I] [16:32:13.874769] [<Future: finished, type: cuml.TfidfTransformer, key: _merge_stats_to_model-6a6c5a8c-c22e-49c5-969b-38ee8e485be6>]\n",
      "[I] [16:32:13.874864] [<Future: finished, type: cuml.TfidfTransformer, key: _merge_stats_to_model-6c1b362a-0aea-4716-9004-bdf82137dee9>]\n",
      "[I] [16:32:13.875144] [<Future: finished, type: cuml.TfidfTransformer, key: _set_doc_stats-252ade97-d54b-475a-804e-df519f011758>]\n",
      "[I] [16:32:13.875199] [<Future: finished, type: cuml.TfidfTransformer, key: _set_doc_stats-24c145d0-4e51-4391-bac6-6d40572aaf26>]\n",
      "[I] [16:32:13.875250] [<Future: finished, type: cuml.TfidfTransformer, key: _merge_stats_to_model-bcf791f8-f29a-4404-b500-f8fdfbc6d77f>]\n",
      "[I] [16:32:13.875300] [<Future: finished, type: cuml.TfidfTransformer, key: _merge_stats_to_model-008e883e-53a9-4a63-87c3-7dd95707a83a>]\n",
      "[I] [16:32:13.885712] [Delayed('_merge_stats_to_model-235210a4-4cbb-411a-b24f-30c66a5bf7de')]\n"
     ]
    },
    {
     "name": "stderr",
     "output_type": "stream",
     "text": [
      " 20%|██████████████████████████████████▊                                                                                                                                           | 1/5 [00:33<02:15, 33.99s/it]"
     ]
    },
    {
     "name": "stdout",
     "output_type": "stream",
     "text": [
      "(20725971, 1048576)\n",
      "Workers:6, Sample Run:0, Finished loading data in 3.129406279s\n",
      "Workers:6, Sample Run:0, Finished preprocessing data in 15.666365508s\n",
      "Workers:6, Sample Run:0, Finished fitting HashVectorizer in 8.117589141s\n",
      "Workers:6, Sample Run:0, Finished fitting IDF Transformer in 2.370302062s\n",
      "Workers:6, Sample Run:0, Finished executing full pipeline in 33.932259072s\n"
     ]
    },
    {
     "name": "stderr",
     "output_type": "stream",
     "text": [
      "/home/nfs/anirband/anaconda3/envs/rapids-21.08/lib/python3.8/contextlib.py:120: UserWarning: Creating scratch directories is taking a surprisingly long time. This is often due to running workers on a network file system. Consider specifying a local-directory to point workers to write scratch data to a local disk.\n",
      "  next(self.gen)\n"
     ]
    },
    {
     "name": "stdout",
     "output_type": "stream",
     "text": [
      "20726160\n",
      "20725971\n",
      "# nnz: 0\n",
      "(20725971, 1048576)\n",
      "[I] [16:32:39.213558] [<Future: finished, type: cuml.TfidfTransformer, key: _set_doc_stats-8adda9b3-eaa1-4f19-a2be-6614ddf9deca>]\n",
      "[I] [16:32:39.214468] [Delayed('_merge_stats_to_model-3639b69a-abc1-4063-b6a3-a7ba7065e7a6')]\n",
      "[I] [16:32:39.215184] [Delayed('_merge_stats_to_model-6ddf194c-8a43-46c9-8bda-86e761f613fe')]\n",
      "[I] [16:32:39.215859] [Delayed('_merge_stats_to_model-5c14c301-a5b2-4380-9c0a-ff6de78fa9e9')]\n",
      "[I] [16:32:39.216063] [<Future: finished, type: cuml.TfidfTransformer, key: _set_doc_stats-c7313267-f34b-4955-ad10-9cdea22c88a5>]\n",
      "[I] [16:32:39.216701] [Delayed('_merge_stats_to_model-8086a7cc-1c48-4618-9cd5-51d14020b8aa')]\n",
      "[I] [16:32:39.248936] [<Future: finished, type: cuml.TfidfTransformer, key: _set_doc_stats-8adda9b3-eaa1-4f19-a2be-6614ddf9deca>]\n",
      "[I] [16:32:39.249502] [<Future: finished, type: cuml.TfidfTransformer, key: _merge_stats_to_model-3639b69a-abc1-4063-b6a3-a7ba7065e7a6>]\n",
      "[I] [16:32:39.249647] [<Future: finished, type: cuml.TfidfTransformer, key: _merge_stats_to_model-6ddf194c-8a43-46c9-8bda-86e761f613fe>]\n",
      "[I] [16:32:39.249784] [<Future: finished, type: cuml.TfidfTransformer, key: _merge_stats_to_model-5c14c301-a5b2-4380-9c0a-ff6de78fa9e9>]\n",
      "[I] [16:32:39.249899] [<Future: finished, type: cuml.TfidfTransformer, key: _set_doc_stats-c7313267-f34b-4955-ad10-9cdea22c88a5>]\n",
      "[I] [16:32:39.250011] [<Future: finished, type: cuml.TfidfTransformer, key: _merge_stats_to_model-8086a7cc-1c48-4618-9cd5-51d14020b8aa>]\n",
      "[I] [16:32:39.261400] [Delayed('_merge_stats_to_model-49d177b8-a2c8-4f6c-8e72-7184a1695b13')]\n"
     ]
    },
    {
     "name": "stderr",
     "output_type": "stream",
     "text": [
      " 40%|█████████████████████████████████████████████████████████████████████▌                                                                                                        | 2/5 [00:59<01:26, 28.91s/it]"
     ]
    },
    {
     "name": "stdout",
     "output_type": "stream",
     "text": [
      "(20725971, 1048576)\n",
      "Workers:6, Sample Run:1, Finished loading data in 2.864376021s\n",
      "Workers:6, Sample Run:1, Finished preprocessing data in 7.07918496s\n",
      "Workers:6, Sample Run:1, Finished fitting HashVectorizer in 8.036034759s\n",
      "Workers:6, Sample Run:1, Finished fitting IDF Transformer in 2.380518389s\n",
      "Workers:6, Sample Run:1, Finished executing full pipeline in 25.298685357s\n",
      "20726160\n",
      "20725971\n",
      "# nnz: 0\n",
      "(20725971, 1048576)\n",
      "[I] [16:33:05.153187] [Delayed('_merge_stats_to_model-f5665f42-23ea-4590-be52-761e3ba92002')]\n",
      "[I] [16:33:05.154070] [Delayed('_merge_stats_to_model-7989ee19-fe75-4e7c-b390-e886f7aa5209')]\n",
      "[I] [16:33:05.154792] [Delayed('_merge_stats_to_model-c9c1101b-5e19-4d05-b555-29fa33eb0973')]\n",
      "[I] [16:33:05.155046] [<Future: finished, type: cuml.TfidfTransformer, key: _set_doc_stats-93e7b7df-43be-4874-8044-beb80f98095c>]\n",
      "[I] [16:33:05.155206] [<Future: finished, type: cuml.TfidfTransformer, key: _set_doc_stats-65c0d74d-819e-4282-b01f-b0bfcf2d4c8b>]\n",
      "[I] [16:33:05.155923] [Delayed('_merge_stats_to_model-a6d5fbe3-caad-4f15-bc4a-2248b4380aca')]\n",
      "[I] [16:33:05.249349] [<Future: finished, type: cuml.TfidfTransformer, key: _merge_stats_to_model-f5665f42-23ea-4590-be52-761e3ba92002>]\n",
      "[I] [16:33:05.249587] [<Future: finished, type: cuml.TfidfTransformer, key: _merge_stats_to_model-7989ee19-fe75-4e7c-b390-e886f7aa5209>]\n",
      "[I] [16:33:05.249722] [<Future: finished, type: cuml.TfidfTransformer, key: _merge_stats_to_model-c9c1101b-5e19-4d05-b555-29fa33eb0973>]\n",
      "[I] [16:33:05.249846] [<Future: finished, type: cuml.TfidfTransformer, key: _set_doc_stats-93e7b7df-43be-4874-8044-beb80f98095c>]\n",
      "[I] [16:33:05.249963] [<Future: finished, type: cuml.TfidfTransformer, key: _set_doc_stats-65c0d74d-819e-4282-b01f-b0bfcf2d4c8b>]\n",
      "[I] [16:33:05.250080] [<Future: finished, type: cuml.TfidfTransformer, key: _merge_stats_to_model-a6d5fbe3-caad-4f15-bc4a-2248b4380aca>]\n",
      "[I] [16:33:05.257686] [Delayed('_merge_stats_to_model-cbcb1005-d06d-469d-8f30-33968a3935e2')]\n"
     ]
    },
    {
     "name": "stderr",
     "output_type": "stream",
     "text": [
      " 60%|████████████████████████████████████████████████████████████████████████████████████████████████████████▍                                                                     | 3/5 [01:25<00:55, 27.58s/it]"
     ]
    },
    {
     "name": "stdout",
     "output_type": "stream",
     "text": [
      "(20725971, 1048576)\n",
      "Workers:6, Sample Run:2, Finished loading data in 3.02086784s\n",
      "Workers:6, Sample Run:2, Finished preprocessing data in 7.12860546s\n",
      "Workers:6, Sample Run:2, Finished fitting HashVectorizer in 8.231666516s\n",
      "Workers:6, Sample Run:2, Finished fitting IDF Transformer in 2.545348986s\n",
      "Workers:6, Sample Run:2, Finished executing full pipeline in 25.945662511s\n",
      "20726160\n",
      "20725971\n",
      "# nnz: 0\n",
      "(20725971, 1048576)\n",
      "[I] [16:33:30.635881] [<Future: finished, type: cuml.TfidfTransformer, key: _set_doc_stats-19be4c33-ea5c-460f-a8f6-dece430be883>]\n",
      "[I] [16:33:30.636208] [<Future: finished, type: cuml.TfidfTransformer, key: _set_doc_stats-42dc24ab-ecad-4a6a-810e-fb1eb53f58c2>]\n",
      "[I] [16:33:30.636936] [Delayed('_merge_stats_to_model-957ae1d4-5908-42bd-b211-f4ca6613e3c0')]\n",
      "[I] [16:33:30.638270] [Delayed('_merge_stats_to_model-c6dbb905-82a0-46b8-bfb7-e4a353ce7356')]\n",
      "[I] [16:33:30.638992] [Delayed('_merge_stats_to_model-a33a1d89-ce58-4bae-9914-a3722dc050f3')]\n",
      "[I] [16:33:30.639730] [Delayed('_merge_stats_to_model-d5465431-3fdf-4d8e-82fe-66c782ffbb55')]\n",
      "[I] [16:33:30.670102] [<Future: finished, type: cuml.TfidfTransformer, key: _set_doc_stats-19be4c33-ea5c-460f-a8f6-dece430be883>]\n",
      "[I] [16:33:30.670353] [<Future: finished, type: cuml.TfidfTransformer, key: _set_doc_stats-42dc24ab-ecad-4a6a-810e-fb1eb53f58c2>]\n",
      "[I] [16:33:30.670504] [<Future: finished, type: cuml.TfidfTransformer, key: _merge_stats_to_model-957ae1d4-5908-42bd-b211-f4ca6613e3c0>]\n",
      "[I] [16:33:30.670625] [<Future: finished, type: cuml.TfidfTransformer, key: _merge_stats_to_model-c6dbb905-82a0-46b8-bfb7-e4a353ce7356>]\n",
      "[I] [16:33:30.670740] [<Future: finished, type: cuml.TfidfTransformer, key: _merge_stats_to_model-a33a1d89-ce58-4bae-9914-a3722dc050f3>]\n",
      "[I] [16:33:30.670853] [<Future: finished, type: cuml.TfidfTransformer, key: _merge_stats_to_model-d5465431-3fdf-4d8e-82fe-66c782ffbb55>]\n",
      "[I] [16:33:30.678247] [Delayed('_merge_stats_to_model-984b6e29-932c-4ff1-998b-6d29804af460')]\n"
     ]
    },
    {
     "name": "stderr",
     "output_type": "stream",
     "text": [
      " 80%|███████████████████████████████████████████████████████████████████████████████████████████████████████████████████████████████████████████▏                                  | 4/5 [01:50<00:26, 26.72s/it]"
     ]
    },
    {
     "name": "stdout",
     "output_type": "stream",
     "text": [
      "(20725971, 1048576)\n",
      "Workers:6, Sample Run:3, Finished loading data in 3.108468884s\n",
      "Workers:6, Sample Run:3, Finished preprocessing data in 7.067627547s\n",
      "Workers:6, Sample Run:3, Finished fitting HashVectorizer in 8.077568644s\n",
      "Workers:6, Sample Run:3, Finished fitting IDF Transformer in 2.389773346s\n",
      "Workers:6, Sample Run:3, Finished executing full pipeline in 25.356369877s\n",
      "20726160\n",
      "20725971\n",
      "# nnz: 0\n",
      "(20725971, 1048576)\n",
      "[I] [16:33:56.404802] [Delayed('_merge_stats_to_model-fea49756-0797-48ae-966b-339b758466e9')]\n",
      "[I] [16:33:56.405718] [Delayed('_merge_stats_to_model-56526c5f-83c2-46f2-bddc-f489910a6147')]\n",
      "[I] [16:33:56.405945] [<Future: finished, type: cuml.TfidfTransformer, key: _set_doc_stats-ff87e735-5dcd-4099-949d-741531a1e381>]\n",
      "[I] [16:33:56.406570] [Delayed('_merge_stats_to_model-c4c00fb5-ce3c-4333-9753-c2bdf3d24563')]\n",
      "[I] [16:33:56.407261] [Delayed('_merge_stats_to_model-027c2192-3286-446d-a20f-1131dd34017c')]\n",
      "[I] [16:33:56.407469] [<Future: finished, type: cuml.TfidfTransformer, key: _set_doc_stats-ba0a869b-053c-48e8-ac34-fdaf6dd07b0a>]\n",
      "[I] [16:33:56.430666] [<Future: finished, type: cuml.TfidfTransformer, key: _merge_stats_to_model-fea49756-0797-48ae-966b-339b758466e9>]\n",
      "[I] [16:33:56.430893] [<Future: finished, type: cuml.TfidfTransformer, key: _merge_stats_to_model-56526c5f-83c2-46f2-bddc-f489910a6147>]\n",
      "[I] [16:33:56.431037] [<Future: finished, type: cuml.TfidfTransformer, key: _set_doc_stats-ff87e735-5dcd-4099-949d-741531a1e381>]\n",
      "[I] [16:33:56.431159] [<Future: finished, type: cuml.TfidfTransformer, key: _merge_stats_to_model-c4c00fb5-ce3c-4333-9753-c2bdf3d24563>]\n",
      "[I] [16:33:56.431278] [<Future: finished, type: cuml.TfidfTransformer, key: _merge_stats_to_model-027c2192-3286-446d-a20f-1131dd34017c>]\n",
      "[I] [16:33:56.431411] [<Future: finished, type: cuml.TfidfTransformer, key: _set_doc_stats-ba0a869b-053c-48e8-ac34-fdaf6dd07b0a>]\n",
      "[I] [16:33:56.438834] [Delayed('_merge_stats_to_model-a1837d47-9d8d-435d-94c2-f9f9586028a6')]\n"
     ]
    },
    {
     "name": "stderr",
     "output_type": "stream",
     "text": [
      "100%|██████████████████████████████████████████████████████████████████████████████████████████████████████████████████████████████████████████████████████████████████████████████| 5/5 [02:16<00:00, 27.28s/it]"
     ]
    },
    {
     "name": "stdout",
     "output_type": "stream",
     "text": [
      "(20725971, 1048576)\n",
      "Workers:6, Sample Run:4, Finished loading data in 2.978817336s\n",
      "Workers:6, Sample Run:4, Finished preprocessing data in 7.178252203s\n",
      "Workers:6, Sample Run:4, Finished fitting HashVectorizer in 8.169877245s\n",
      "Workers:6, Sample Run:4, Finished fitting IDF Transformer in 2.233386452s\n",
      "Workers:6, Sample Run:4, Finished executing full pipeline in 25.609932109s\n"
     ]
    },
    {
     "name": "stderr",
     "output_type": "stream",
     "text": [
      "\n",
      "  0%|                                                                                                                                                                                      | 0/5 [00:00<?, ?it/s]"
     ]
    },
    {
     "name": "stdout",
     "output_type": "stream",
     "text": [
      "20726160\n",
      "20725971\n",
      "# nnz: 0\n",
      "(20725971, 1048576)\n",
      "[I] [16:34:27.002711] [<Future: finished, type: cuml.TfidfTransformer, key: _set_doc_stats-04cc911c-5a45-427a-97be-96f139b5f6fc>]\n",
      "[I] [16:34:27.003002] [<Future: finished, type: cuml.TfidfTransformer, key: _set_doc_stats-ef6b67a0-7dd2-49dd-acf5-b8ea61e58e37>]\n",
      "[I] [16:34:27.003130] [<Future: finished, type: cuml.TfidfTransformer, key: _set_doc_stats-6f0f804f-e30c-4c09-8d10-bed37e014571>]\n",
      "[I] [16:34:27.003265] [<Future: finished, type: cuml.TfidfTransformer, key: _set_doc_stats-e2431fae-7a58-4331-832c-c5247820723f>]\n",
      "[I] [16:34:27.004196] [Delayed('_merge_stats_to_model-cd3957aa-8867-4b67-946f-dc7867214065')]\n",
      "[I] [16:34:27.004420] [<Future: finished, type: cuml.TfidfTransformer, key: _set_doc_stats-b6d06514-f4b2-49ac-a2b0-10af08bbce89>]\n",
      "[I] [16:34:27.004569] [<Future: finished, type: cuml.TfidfTransformer, key: _set_doc_stats-9c7b0ed1-64cd-4482-ac87-de3e94189363>]\n",
      "[I] [16:34:27.005158] [Delayed('_merge_stats_to_model-67d499ae-485a-4ae6-b35b-259a70a3336b')]\n",
      "[I] [16:34:27.029124] [<Future: finished, type: cuml.TfidfTransformer, key: _set_doc_stats-04cc911c-5a45-427a-97be-96f139b5f6fc>]\n",
      "[I] [16:34:27.029368] [<Future: finished, type: cuml.TfidfTransformer, key: _set_doc_stats-ef6b67a0-7dd2-49dd-acf5-b8ea61e58e37>]\n",
      "[I] [16:34:27.029504] [<Future: finished, type: cuml.TfidfTransformer, key: _set_doc_stats-6f0f804f-e30c-4c09-8d10-bed37e014571>]\n",
      "[I] [16:34:27.029643] [<Future: finished, type: cuml.TfidfTransformer, key: _set_doc_stats-e2431fae-7a58-4331-832c-c5247820723f>]\n",
      "[I] [16:34:27.029766] [<Future: finished, type: cuml.TfidfTransformer, key: _merge_stats_to_model-cd3957aa-8867-4b67-946f-dc7867214065>]\n",
      "[I] [16:34:27.029881] [<Future: finished, type: cuml.TfidfTransformer, key: _set_doc_stats-b6d06514-f4b2-49ac-a2b0-10af08bbce89>]\n",
      "[I] [16:34:27.029995] [<Future: finished, type: cuml.TfidfTransformer, key: _set_doc_stats-9c7b0ed1-64cd-4482-ac87-de3e94189363>]\n",
      "[I] [16:34:27.030123] [<Future: finished, type: cuml.TfidfTransformer, key: _merge_stats_to_model-67d499ae-485a-4ae6-b35b-259a70a3336b>]\n",
      "[I] [16:34:27.037806] [Delayed('_merge_stats_to_model-8195c7b1-1c82-41b4-980c-41b1b0d5551d')]\n"
     ]
    },
    {
     "name": "stderr",
     "output_type": "stream",
     "text": [
      " 20%|██████████████████████████████████▊                                                                                                                                           | 1/5 [00:25<01:41, 25.44s/it]"
     ]
    },
    {
     "name": "stdout",
     "output_type": "stream",
     "text": [
      "(20725971, 1048576)\n",
      "Workers:8, Sample Run:0, Finished loading data in 3.0755377s\n",
      "Workers:8, Sample Run:0, Finished preprocessing data in 6.31151694s\n",
      "Workers:8, Sample Run:0, Finished fitting HashVectorizer in 8.142951325s\n",
      "Workers:8, Sample Run:0, Finished fitting IDF Transformer in 2.225794135s\n",
      "Workers:8, Sample Run:0, Finished executing full pipeline in 25.380315272s\n"
     ]
    },
    {
     "name": "stderr",
     "output_type": "stream",
     "text": [
      "/home/nfs/anirband/anaconda3/envs/rapids-21.08/lib/python3.8/contextlib.py:120: UserWarning: Creating scratch directories is taking a surprisingly long time. This is often due to running workers on a network file system. Consider specifying a local-directory to point workers to write scratch data to a local disk.\n",
      "  next(self.gen)\n"
     ]
    },
    {
     "name": "stdout",
     "output_type": "stream",
     "text": [
      "20726160\n",
      "20725971\n",
      "# nnz: 0\n",
      "(20725971, 1048576)\n",
      "[I] [16:34:52.586376] [<Future: finished, type: cuml.TfidfTransformer, key: _set_doc_stats-e9bd1039-f819-4e78-822b-29acf74a9aab>]\n",
      "[I] [16:34:52.586669] [<Future: finished, type: cuml.TfidfTransformer, key: _set_doc_stats-417376bf-078b-4e25-aa9f-a9620e5171f3>]\n",
      "[I] [16:34:52.587350] [Delayed('_merge_stats_to_model-901886c4-453a-4521-b7cf-d90a4bca4866')]\n",
      "[I] [16:34:52.587580] [<Future: finished, type: cuml.TfidfTransformer, key: _set_doc_stats-b27b72ec-e574-4397-afbd-9a4fd0b6e083>]\n",
      "[I] [16:34:52.588177] [Delayed('_merge_stats_to_model-5459c194-eb99-4980-ad85-92da0fd1a64c')]\n",
      "[I] [16:34:52.588275] [<Future: finished, type: cuml.TfidfTransformer, key: _set_doc_stats-315d06df-1978-45c7-a24a-ccf46ffec836>]\n",
      "[I] [16:34:52.588324] [<Future: finished, type: cuml.TfidfTransformer, key: _set_doc_stats-66d0bcab-93b3-4f1c-a4f0-ca47c74f322d>]\n",
      "[I] [16:34:52.588366] [<Future: finished, type: cuml.TfidfTransformer, key: _set_doc_stats-bb680580-d019-4d07-ab8b-73797b799022>]\n",
      "[I] [16:34:52.611786] [<Future: finished, type: cuml.TfidfTransformer, key: _set_doc_stats-e9bd1039-f819-4e78-822b-29acf74a9aab>]\n",
      "[I] [16:34:52.612053] [<Future: finished, type: cuml.TfidfTransformer, key: _set_doc_stats-417376bf-078b-4e25-aa9f-a9620e5171f3>]\n",
      "[I] [16:34:52.612182] [<Future: finished, type: cuml.TfidfTransformer, key: _merge_stats_to_model-901886c4-453a-4521-b7cf-d90a4bca4866>]\n",
      "[I] [16:34:52.612301] [<Future: finished, type: cuml.TfidfTransformer, key: _set_doc_stats-b27b72ec-e574-4397-afbd-9a4fd0b6e083>]\n",
      "[I] [16:34:52.612417] [<Future: finished, type: cuml.TfidfTransformer, key: _merge_stats_to_model-5459c194-eb99-4980-ad85-92da0fd1a64c>]\n",
      "[I] [16:34:52.612530] [<Future: finished, type: cuml.TfidfTransformer, key: _set_doc_stats-315d06df-1978-45c7-a24a-ccf46ffec836>]\n",
      "[I] [16:34:52.612642] [<Future: finished, type: cuml.TfidfTransformer, key: _set_doc_stats-66d0bcab-93b3-4f1c-a4f0-ca47c74f322d>]\n",
      "[I] [16:34:52.612772] [<Future: finished, type: cuml.TfidfTransformer, key: _set_doc_stats-bb680580-d019-4d07-ab8b-73797b799022>]\n",
      "[I] [16:34:52.620544] [Delayed('_merge_stats_to_model-924a4c33-509e-4f12-bf2a-ecdd516ffb91')]\n"
     ]
    },
    {
     "name": "stderr",
     "output_type": "stream",
     "text": [
      " 40%|█████████████████████████████████████████████████████████████████████▌                                                                                                        | 2/5 [00:51<01:16, 25.60s/it]"
     ]
    },
    {
     "name": "stdout",
     "output_type": "stream",
     "text": [
      "(20725971, 1048576)\n",
      "Workers:8, Sample Run:1, Finished loading data in 3.155098701s\n",
      "Workers:8, Sample Run:1, Finished preprocessing data in 6.369129066s\n",
      "Workers:8, Sample Run:1, Finished fitting HashVectorizer in 8.173860263s\n",
      "Workers:8, Sample Run:1, Finished fitting IDF Transformer in 2.352708403s\n",
      "Workers:8, Sample Run:1, Finished executing full pipeline in 25.654391349s\n",
      "20726160\n",
      "20725971\n",
      "# nnz: 0\n",
      "(20725971, 1048576)\n",
      "[I] [16:35:18.025699] [<Future: finished, type: cuml.TfidfTransformer, key: _set_doc_stats-b0f018f4-c7bb-4a39-a7ce-699c5ab49aa3>]\n",
      "[I] [16:35:18.026038] [<Future: finished, type: cuml.TfidfTransformer, key: _set_doc_stats-46cd592f-1a71-4262-9d5d-611014a9f40c>]\n",
      "[I] [16:35:18.026168] [<Future: finished, type: cuml.TfidfTransformer, key: _set_doc_stats-81be0eca-163e-471d-b9aa-741910b60654>]\n",
      "[I] [16:35:18.026289] [<Future: finished, type: cuml.TfidfTransformer, key: _set_doc_stats-cc8052d5-002a-4ab8-86f7-c928d17aeea4>]\n",
      "[I] [16:35:18.027037] [Delayed('_merge_stats_to_model-3d267621-76ff-49f1-b12d-5469be016139')]\n",
      "[I] [16:35:18.027743] [Delayed('_merge_stats_to_model-206aafd9-461b-45bf-8306-c3852cee468a')]\n",
      "[I] [16:35:18.028041] [<Future: finished, type: cuml.TfidfTransformer, key: _set_doc_stats-0f2994e2-c49f-438e-955b-00af2e4bbb55>]\n",
      "[I] [16:35:18.028176] [<Future: finished, type: cuml.TfidfTransformer, key: _set_doc_stats-965d6546-82aa-4ee4-9c7b-e48a1ba4e9cb>]\n",
      "[I] [16:35:18.052871] [<Future: finished, type: cuml.TfidfTransformer, key: _set_doc_stats-b0f018f4-c7bb-4a39-a7ce-699c5ab49aa3>]\n",
      "[I] [16:35:18.053130] [<Future: finished, type: cuml.TfidfTransformer, key: _set_doc_stats-46cd592f-1a71-4262-9d5d-611014a9f40c>]\n",
      "[I] [16:35:18.053262] [<Future: finished, type: cuml.TfidfTransformer, key: _set_doc_stats-81be0eca-163e-471d-b9aa-741910b60654>]\n",
      "[I] [16:35:18.053382] [<Future: finished, type: cuml.TfidfTransformer, key: _set_doc_stats-cc8052d5-002a-4ab8-86f7-c928d17aeea4>]\n",
      "[I] [16:35:18.053516] [<Future: finished, type: cuml.TfidfTransformer, key: _merge_stats_to_model-3d267621-76ff-49f1-b12d-5469be016139>]\n",
      "[I] [16:35:18.053636] [<Future: finished, type: cuml.TfidfTransformer, key: _merge_stats_to_model-206aafd9-461b-45bf-8306-c3852cee468a>]\n",
      "[I] [16:35:18.053755] [<Future: finished, type: cuml.TfidfTransformer, key: _set_doc_stats-0f2994e2-c49f-438e-955b-00af2e4bbb55>]\n",
      "[I] [16:35:18.054063] [<Future: finished, type: cuml.TfidfTransformer, key: _set_doc_stats-965d6546-82aa-4ee4-9c7b-e48a1ba4e9cb>]\n",
      "[I] [16:35:18.061782] [Delayed('_merge_stats_to_model-6ec27f63-4914-4008-a3b3-fbf162d7aee0')]\n"
     ]
    },
    {
     "name": "stderr",
     "output_type": "stream",
     "text": [
      " 60%|████████████████████████████████████████████████████████████████████████████████████████████████████████▍                                                                     | 3/5 [01:16<00:50, 25.50s/it]"
     ]
    },
    {
     "name": "stdout",
     "output_type": "stream",
     "text": [
      "(20725971, 1048576)\n",
      "Workers:8, Sample Run:2, Finished loading data in 2.907258793s\n",
      "Workers:8, Sample Run:2, Finished preprocessing data in 6.352804184s\n",
      "Workers:8, Sample Run:2, Finished fitting HashVectorizer in 8.208038369s\n",
      "Workers:8, Sample Run:2, Finished fitting IDF Transformer in 2.28923333s\n",
      "Workers:8, Sample Run:2, Finished executing full pipeline in 25.328898947s\n",
      "20726160\n",
      "20725971\n",
      "# nnz: 0\n",
      "(20725971, 1048576)\n",
      "[I] [16:35:44.650558] [Delayed('_merge_stats_to_model-18ebf19b-4500-4484-a8f2-e46cfb2364cf')]\n",
      "[I] [16:35:44.651563] [Delayed('_merge_stats_to_model-8b1a8769-e56d-4375-81be-43981881be5b')]\n",
      "[I] [16:35:44.651848] [<Future: finished, type: cuml.TfidfTransformer, key: _set_doc_stats-71ed8a93-9d97-48e8-b12f-aaaecc3ae815>]\n",
      "[I] [16:35:44.651986] [<Future: finished, type: cuml.TfidfTransformer, key: _set_doc_stats-6297bee8-0b03-441b-b9ab-b4c794ee3c1e>]\n",
      "[I] [16:35:44.652111] [<Future: finished, type: cuml.TfidfTransformer, key: _set_doc_stats-06d09263-eba1-4baa-bc29-93ab6432f47f>]\n",
      "[I] [16:35:44.652230] [<Future: finished, type: cuml.TfidfTransformer, key: _set_doc_stats-e023af45-ff89-406b-ae1b-72c76e524f75>]\n",
      "[I] [16:35:44.652345] [<Future: finished, type: cuml.TfidfTransformer, key: _set_doc_stats-61810f61-0e34-409a-9cc5-bba00b6d1d4d>]\n",
      "[I] [16:35:44.652460] [<Future: finished, type: cuml.TfidfTransformer, key: _set_doc_stats-c13f36da-aaf3-4667-aa26-2d2468329eaf>]\n",
      "[I] [16:35:44.674751] [<Future: finished, type: cuml.TfidfTransformer, key: _merge_stats_to_model-18ebf19b-4500-4484-a8f2-e46cfb2364cf>]\n",
      "[I] [16:35:44.674970] [<Future: finished, type: cuml.TfidfTransformer, key: _merge_stats_to_model-8b1a8769-e56d-4375-81be-43981881be5b>]\n",
      "[I] [16:35:44.675105] [<Future: finished, type: cuml.TfidfTransformer, key: _set_doc_stats-71ed8a93-9d97-48e8-b12f-aaaecc3ae815>]\n",
      "[I] [16:35:44.675227] [<Future: finished, type: cuml.TfidfTransformer, key: _set_doc_stats-6297bee8-0b03-441b-b9ab-b4c794ee3c1e>]\n",
      "[I] [16:35:44.675359] [<Future: finished, type: cuml.TfidfTransformer, key: _set_doc_stats-06d09263-eba1-4baa-bc29-93ab6432f47f>]\n",
      "[I] [16:35:44.675478] [<Future: finished, type: cuml.TfidfTransformer, key: _set_doc_stats-e023af45-ff89-406b-ae1b-72c76e524f75>]\n",
      "[I] [16:35:44.675636] [<Future: finished, type: cuml.TfidfTransformer, key: _set_doc_stats-61810f61-0e34-409a-9cc5-bba00b6d1d4d>]\n",
      "[I] [16:35:44.675936] [<Future: finished, type: cuml.TfidfTransformer, key: _set_doc_stats-c13f36da-aaf3-4667-aa26-2d2468329eaf>]\n",
      "[I] [16:35:44.683185] [Delayed('_merge_stats_to_model-d6b26ba1-a60d-4d11-9463-3d0d85d5927a')]\n"
     ]
    },
    {
     "name": "stderr",
     "output_type": "stream",
     "text": [
      " 80%|███████████████████████████████████████████████████████████████████████████████████████████████████████████████████████████████████████████▏                                  | 4/5 [01:43<00:25, 25.97s/it]"
     ]
    },
    {
     "name": "stdout",
     "output_type": "stream",
     "text": [
      "(20725971, 1048576)\n",
      "Workers:8, Sample Run:3, Finished loading data in 2.957846586s\n",
      "Workers:8, Sample Run:3, Finished preprocessing data in 7.18190727s\n",
      "Workers:8, Sample Run:3, Finished fitting HashVectorizer in 8.288011795s\n",
      "Workers:8, Sample Run:3, Finished fitting IDF Transformer in 2.483243726s\n",
      "Workers:8, Sample Run:3, Finished executing full pipeline in 26.63417415s\n",
      "20726160\n",
      "20725971\n",
      "# nnz: 0\n",
      "(20725971, 1048576)\n",
      "[I] [16:36:10.249864] [<Future: finished, type: cuml.TfidfTransformer, key: _set_doc_stats-7438cce8-ee5b-4372-9ffb-f30b8bea3b9a>]\n",
      "[I] [16:36:10.250989] [Delayed('_merge_stats_to_model-b43d27fb-ef4b-4b25-89a1-481b50b8f8c1')]\n",
      "[I] [16:36:10.251232] [<Future: finished, type: cuml.TfidfTransformer, key: _set_doc_stats-9808a6c4-6692-4104-b5bf-65d45200d5ca>]\n",
      "[I] [16:36:10.251375] [<Future: finished, type: cuml.TfidfTransformer, key: _set_doc_stats-df8b3df5-3119-4355-8c01-af05b097b6b8>]\n",
      "[I] [16:36:10.251584] [<Future: finished, type: cuml.TfidfTransformer, key: _set_doc_stats-f571ad5f-2864-4a71-944c-79c2b861c35e>]\n",
      "[I] [16:36:10.252279] [Delayed('_merge_stats_to_model-241930e5-0ac3-4c9a-8e25-bae77f762590')]\n",
      "[I] [16:36:10.252542] [<Future: finished, type: cuml.TfidfTransformer, key: _set_doc_stats-ce4249c9-c2bc-42ef-94b4-797989ed3cb6>]\n",
      "[I] [16:36:10.252685] [<Future: finished, type: cuml.TfidfTransformer, key: _set_doc_stats-8b02cab6-3d76-44d8-a0aa-3870ef1182ce>]\n",
      "[I] [16:36:10.278992] [<Future: finished, type: cuml.TfidfTransformer, key: _set_doc_stats-7438cce8-ee5b-4372-9ffb-f30b8bea3b9a>]\n",
      "[I] [16:36:10.279257] [<Future: finished, type: cuml.TfidfTransformer, key: _merge_stats_to_model-b43d27fb-ef4b-4b25-89a1-481b50b8f8c1>]\n",
      "[I] [16:36:10.279414] [<Future: finished, type: cuml.TfidfTransformer, key: _set_doc_stats-9808a6c4-6692-4104-b5bf-65d45200d5ca>]\n",
      "[I] [16:36:10.279577] [<Future: finished, type: cuml.TfidfTransformer, key: _set_doc_stats-df8b3df5-3119-4355-8c01-af05b097b6b8>]\n",
      "[I] [16:36:10.279734] [<Future: finished, type: cuml.TfidfTransformer, key: _set_doc_stats-f571ad5f-2864-4a71-944c-79c2b861c35e>]\n",
      "[I] [16:36:10.279896] [<Future: finished, type: cuml.TfidfTransformer, key: _merge_stats_to_model-241930e5-0ac3-4c9a-8e25-bae77f762590>]\n",
      "[I] [16:36:10.280090] [<Future: finished, type: cuml.TfidfTransformer, key: _set_doc_stats-ce4249c9-c2bc-42ef-94b4-797989ed3cb6>]\n",
      "[I] [16:36:10.280271] [<Future: finished, type: cuml.TfidfTransformer, key: _set_doc_stats-8b02cab6-3d76-44d8-a0aa-3870ef1182ce>]\n",
      "[I] [16:36:10.288399] [Delayed('_merge_stats_to_model-03d8a8ad-4b89-4234-ae39-214629cdb702')]\n"
     ]
    },
    {
     "name": "stderr",
     "output_type": "stream",
     "text": [
      "100%|██████████████████████████████████████████████████████████████████████████████████████████████████████████████████████████████████████████████████████████████████████████████| 5/5 [02:08<00:00, 25.78s/it]"
     ]
    },
    {
     "name": "stdout",
     "output_type": "stream",
     "text": [
      "(20725971, 1048576)\n",
      "Workers:8, Sample Run:4, Finished loading data in 3.003960848s\n",
      "Workers:8, Sample Run:4, Finished preprocessing data in 6.377659547s\n",
      "Workers:8, Sample Run:4, Finished fitting HashVectorizer in 8.251389726s\n",
      "Workers:8, Sample Run:4, Finished fitting IDF Transformer in 2.461905514s\n",
      "Workers:8, Sample Run:4, Finished executing full pipeline in 25.661763307s\n",
      "CPU times: user 30.3 s, sys: 16.5 s, total: 46.8 s\n",
      "Wall time: 11min 41s\n"
     ]
    },
    {
     "name": "stderr",
     "output_type": "stream",
     "text": [
      "\n"
     ]
    }
   ],
   "source": [
    "%%time\n",
    "performance_numbers(client, parquet_path=parquet_path, worker_counts=worker_counts, samples=samples, result_path=result_path, benchmark=True)"
   ]
  },
  {
   "cell_type": "code",
   "execution_count": 8,
   "id": "3bd627f9-0878-4296-bf73-151ec1b1bec3",
   "metadata": {},
   "outputs": [
    {
     "data": {
      "image/png": "[encoded data removed]",
      "text/plain": [
       "<Figure size 1200x800 with 1 Axes>"
      ]
     },
     "metadata": {},
     "output_type": "display_data"
    }
   ],
   "source": [
    "data, melt_data = visualize_data(result_path)        "
   ]
  },
  {
   "cell_type": "code",
   "execution_count": 9,
   "id": "36dc1a20-d436-4362-af91-75d4b6e829b4",
   "metadata": {},
   "outputs": [],
   "source": [
    "groupby = data.groupby(\"n_workers\").agg(['mean', 'std', 'count'])"
   ]
  },
  {
   "cell_type": "code",
   "execution_count": 10,
   "id": "c0ac4d3f-5d2f-4941-a984-adad8d15edb8",
   "metadata": {},
   "outputs": [
    {
     "data": {
      "text/html": [
       "<div>\n",
       "<style scoped>\n",
       "    .dataframe tbody tr th:only-of-type {\n",
       "        vertical-align: middle;\n",
       "    }\n",
       "\n",
       "    .dataframe tbody tr th {\n",
       "        vertical-align: top;\n",
       "    }\n",
       "\n",
       "    .dataframe thead tr th {\n",
       "        text-align: left;\n",
       "    }\n",
       "\n",
       "    .dataframe thead tr:last-of-type th {\n",
       "        text-align: right;\n",
       "    }\n",
       "</style>\n",
       "<table border=\"1\" class=\"dataframe\">\n",
       "  <thead>\n",
       "    <tr>\n",
       "      <th></th>\n",
       "      <th colspan=\"3\" halign=\"left\">Unnamed: 0</th>\n",
       "      <th colspan=\"3\" halign=\"left\">overall</th>\n",
       "      <th colspan=\"3\" halign=\"left\">data_read</th>\n",
       "      <th>hashing_vectorizer</th>\n",
       "      <th>...</th>\n",
       "      <th>tfidf_transformer</th>\n",
       "      <th colspan=\"3\" halign=\"left\">data_preprocessing</th>\n",
       "      <th colspan=\"3\" halign=\"left\">nrows</th>\n",
       "      <th colspan=\"3\" halign=\"left\">sample_run</th>\n",
       "    </tr>\n",
       "    <tr>\n",
       "      <th></th>\n",
       "      <th>mean</th>\n",
       "      <th>std</th>\n",
       "      <th>count</th>\n",
       "      <th>mean</th>\n",
       "      <th>std</th>\n",
       "      <th>count</th>\n",
       "      <th>mean</th>\n",
       "      <th>std</th>\n",
       "      <th>count</th>\n",
       "      <th>mean</th>\n",
       "      <th>...</th>\n",
       "      <th>count</th>\n",
       "      <th>mean</th>\n",
       "      <th>std</th>\n",
       "      <th>count</th>\n",
       "      <th>mean</th>\n",
       "      <th>std</th>\n",
       "      <th>count</th>\n",
       "      <th>mean</th>\n",
       "      <th>std</th>\n",
       "      <th>count</th>\n",
       "    </tr>\n",
       "    <tr>\n",
       "      <th>n_workers</th>\n",
       "      <th></th>\n",
       "      <th></th>\n",
       "      <th></th>\n",
       "      <th></th>\n",
       "      <th></th>\n",
       "      <th></th>\n",
       "      <th></th>\n",
       "      <th></th>\n",
       "      <th></th>\n",
       "      <th></th>\n",
       "      <th></th>\n",
       "      <th></th>\n",
       "      <th></th>\n",
       "      <th></th>\n",
       "      <th></th>\n",
       "      <th></th>\n",
       "      <th></th>\n",
       "      <th></th>\n",
       "      <th></th>\n",
       "      <th></th>\n",
       "      <th></th>\n",
       "    </tr>\n",
       "  </thead>\n",
       "  <tbody>\n",
       "    <tr>\n",
       "      <th>2</th>\n",
       "      <td>2</td>\n",
       "      <td>1.581139</td>\n",
       "      <td>5</td>\n",
       "      <td>52.888214</td>\n",
       "      <td>1.689348</td>\n",
       "      <td>5</td>\n",
       "      <td>6.289498</td>\n",
       "      <td>1.495372</td>\n",
       "      <td>5</td>\n",
       "      <td>21.478029</td>\n",
       "      <td>...</td>\n",
       "      <td>5</td>\n",
       "      <td>17.371047</td>\n",
       "      <td>0.273919</td>\n",
       "      <td>5</td>\n",
       "      <td>20725971</td>\n",
       "      <td>0.0</td>\n",
       "      <td>5</td>\n",
       "      <td>2</td>\n",
       "      <td>1.581139</td>\n",
       "      <td>5</td>\n",
       "    </tr>\n",
       "    <tr>\n",
       "      <th>4</th>\n",
       "      <td>7</td>\n",
       "      <td>1.581139</td>\n",
       "      <td>5</td>\n",
       "      <td>30.140029</td>\n",
       "      <td>1.235326</td>\n",
       "      <td>5</td>\n",
       "      <td>3.107085</td>\n",
       "      <td>0.058697</td>\n",
       "      <td>5</td>\n",
       "      <td>10.664999</td>\n",
       "      <td>...</td>\n",
       "      <td>5</td>\n",
       "      <td>9.622590</td>\n",
       "      <td>0.634252</td>\n",
       "      <td>5</td>\n",
       "      <td>20725971</td>\n",
       "      <td>0.0</td>\n",
       "      <td>5</td>\n",
       "      <td>2</td>\n",
       "      <td>1.581139</td>\n",
       "      <td>5</td>\n",
       "    </tr>\n",
       "    <tr>\n",
       "      <th>6</th>\n",
       "      <td>12</td>\n",
       "      <td>1.581139</td>\n",
       "      <td>5</td>\n",
       "      <td>27.228582</td>\n",
       "      <td>3.756157</td>\n",
       "      <td>5</td>\n",
       "      <td>3.020387</td>\n",
       "      <td>0.106901</td>\n",
       "      <td>5</td>\n",
       "      <td>8.126547</td>\n",
       "      <td>...</td>\n",
       "      <td>5</td>\n",
       "      <td>8.824007</td>\n",
       "      <td>3.825246</td>\n",
       "      <td>5</td>\n",
       "      <td>20725971</td>\n",
       "      <td>0.0</td>\n",
       "      <td>5</td>\n",
       "      <td>2</td>\n",
       "      <td>1.581139</td>\n",
       "      <td>5</td>\n",
       "    </tr>\n",
       "    <tr>\n",
       "      <th>8</th>\n",
       "      <td>17</td>\n",
       "      <td>1.581139</td>\n",
       "      <td>5</td>\n",
       "      <td>25.731909</td>\n",
       "      <td>0.527031</td>\n",
       "      <td>5</td>\n",
       "      <td>3.019941</td>\n",
       "      <td>0.097682</td>\n",
       "      <td>5</td>\n",
       "      <td>8.212850</td>\n",
       "      <td>...</td>\n",
       "      <td>5</td>\n",
       "      <td>6.518603</td>\n",
       "      <td>0.371670</td>\n",
       "      <td>5</td>\n",
       "      <td>20725971</td>\n",
       "      <td>0.0</td>\n",
       "      <td>5</td>\n",
       "      <td>2</td>\n",
       "      <td>1.581139</td>\n",
       "      <td>5</td>\n",
       "    </tr>\n",
       "  </tbody>\n",
       "</table>\n",
       "<p>4 rows × 24 columns</p>\n",
       "</div>"
      ],
      "text/plain": [
       "          Unnamed: 0                    overall                 data_read  \\\n",
       "                mean       std count       mean       std count      mean   \n",
       "n_workers                                                                   \n",
       "2                  2  1.581139     5  52.888214  1.689348     5  6.289498   \n",
       "4                  7  1.581139     5  30.140029  1.235326     5  3.107085   \n",
       "6                 12  1.581139     5  27.228582  3.756157     5  3.020387   \n",
       "8                 17  1.581139     5  25.731909  0.527031     5  3.019941   \n",
       "\n",
       "                          hashing_vectorizer  ... tfidf_transformer  \\\n",
       "                std count               mean  ...             count   \n",
       "n_workers                                     ...                     \n",
       "2          1.495372     5          21.478029  ...                 5   \n",
       "4          0.058697     5          10.664999  ...                 5   \n",
       "6          0.106901     5           8.126547  ...                 5   \n",
       "8          0.097682     5           8.212850  ...                 5   \n",
       "\n",
       "          data_preprocessing                     nrows            sample_run  \\\n",
       "                        mean       std count      mean  std count       mean   \n",
       "n_workers                                                                      \n",
       "2                  17.371047  0.273919     5  20725971  0.0     5          2   \n",
       "4                   9.622590  0.634252     5  20725971  0.0     5          2   \n",
       "6                   8.824007  3.825246     5  20725971  0.0     5          2   \n",
       "8                   6.518603  0.371670     5  20725971  0.0     5          2   \n",
       "\n",
       "                           \n",
       "                std count  \n",
       "n_workers                  \n",
       "2          1.581139     5  \n",
       "4          1.581139     5  \n",
       "6          1.581139     5  \n",
       "8          1.581139     5  \n",
       "\n",
       "[4 rows x 24 columns]"
      ]
     },
     "execution_count": 10,
     "metadata": {},
     "output_type": "execute_result"
    }
   ],
   "source": [
    "groupby"
   ]
  },
  {
   "cell_type": "markdown",
   "id": "061b1dab-3ff0-40f7-9889-b744704f8cec",
   "metadata": {},
   "source": [
    "## Benchmark latency without materializing the intermediate dataframe(s) except for the last stage"
   ]
  },
  {
   "cell_type": "code",
   "execution_count": 11,
   "id": "e5db8890-5f91-426c-8b72-bcf2c758f38c",
   "metadata": {},
   "outputs": [],
   "source": [
    "#parquet_path = 's3://amazon-reviews-pds/parquet/product_category=Camera/*.parquet'\n",
    "dataset = \"Books\"\n",
    "parquet_path = f'./data/product_category={dataset}'\n",
    "samples = 5\n",
    "worker_counts = [2, 4, 6, 8]\n",
    "result_path = f\"./results/result_poc_nlp_dask_{dataset}_nonpersist.csv\""
   ]
  },
  {
   "cell_type": "code",
   "execution_count": 12,
   "id": "315f8e22-e8e0-4fd8-8b64-d619b7c42b72",
   "metadata": {
    "tags": []
   },
   "outputs": [
    {
     "name": "stderr",
     "output_type": "stream",
     "text": [
      "/home/nfs/anirband/anaconda3/envs/rapids-21.08/lib/python3.8/contextlib.py:120: UserWarning: Creating scratch directories is taking a surprisingly long time. This is often due to running workers on a network file system. Consider specifying a local-directory to point workers to write scratch data to a local disk.\n",
      "  next(self.gen)\n",
      "  0%|                                                                                                                                                                                      | 0/5 [00:00<?, ?it/s]"
     ]
    },
    {
     "name": "stdout",
     "output_type": "stream",
     "text": [
      "# nnz: 0\n",
      "[I] [16:37:06.606917] [Delayed('_merge_stats_to_model-9f7d913c-fdca-4d04-95e6-0f74fd08eac4')]\n",
      "[I] [16:37:06.609233] [Delayed('_merge_stats_to_model-a852e37a-224a-4450-8c51-56cf76b452fc')]\n",
      "[I] [16:37:06.685675] [<Future: finished, type: cuml.TfidfTransformer, key: _merge_stats_to_model-9f7d913c-fdca-4d04-95e6-0f74fd08eac4>]\n",
      "[I] [16:37:06.685905] [<Future: finished, type: cuml.TfidfTransformer, key: _merge_stats_to_model-a852e37a-224a-4450-8c51-56cf76b452fc>]\n",
      "[I] [16:37:06.691424] [Delayed('_merge_stats_to_model-51f4435d-5a29-475c-a24c-ec4097cab604')]\n",
      "(20725971, 1048576)\n",
      "Workers:2, Sample Run:0, Finished loading data in 0.01871742s\n",
      "Workers:2, Sample Run:0, Finished preprocessing data in 0.024172099s\n",
      "Workers:2, Sample Run:0, Finished fitting HashVectorizer in 0.003483583s\n",
      "Workers:2, Sample Run:0, Finished fitting IDF Transformer in 91.262564019s\n"
     ]
    },
    {
     "name": "stderr",
     "output_type": "stream",
     "text": [
      " 20%|██████████████████████████████████▌                                                                                                                                          | 1/5 [01:56<07:44, 116.22s/it]"
     ]
    },
    {
     "name": "stdout",
     "output_type": "stream",
     "text": [
      "Workers:2, Sample Run:0, Finished executing full pipeline in 94.672536457s\n",
      "# nnz: 0\n",
      "[I] [16:39:06.178562] [Delayed('_merge_stats_to_model-e3d4d175-c1f8-4eed-bad1-b5ccf5c5e23d')]\n",
      "[I] [16:39:06.180964] [Delayed('_merge_stats_to_model-1dbc2c53-0e9e-4710-ae50-a19758f79989')]\n",
      "[I] [16:39:06.251969] [<Future: finished, type: cuml.TfidfTransformer, key: _merge_stats_to_model-e3d4d175-c1f8-4eed-bad1-b5ccf5c5e23d>]\n",
      "[I] [16:39:06.252201] [<Future: finished, type: cuml.TfidfTransformer, key: _merge_stats_to_model-1dbc2c53-0e9e-4710-ae50-a19758f79989>]\n",
      "[I] [16:39:06.257690] [Delayed('_merge_stats_to_model-a4a4eab4-d077-43c4-8b46-ce7626243515')]\n",
      "(20725971, 1048576)\n",
      "Workers:2, Sample Run:1, Finished loading data in 0.018594426s\n",
      "Workers:2, Sample Run:1, Finished preprocessing data in 0.021912536s\n",
      "Workers:2, Sample Run:1, Finished fitting HashVectorizer in 0.003504001s\n",
      "Workers:2, Sample Run:1, Finished fitting IDF Transformer in 86.912604217s\n"
     ]
    },
    {
     "name": "stderr",
     "output_type": "stream",
     "text": [
      " 40%|█████████████████████████████████████████████████████████████████████▏                                                                                                       | 2/5 [03:50<05:45, 115.31s/it]"
     ]
    },
    {
     "name": "stdout",
     "output_type": "stream",
     "text": [
      "Workers:2, Sample Run:1, Finished executing full pipeline in 92.404839702s\n",
      "# nnz: 0\n",
      "[I] [16:41:01.459367] [Delayed('_merge_stats_to_model-191d7c8d-5b67-4a12-a498-42d3dbe000c3')]\n",
      "[I] [16:41:01.461567] [Delayed('_merge_stats_to_model-afaca27d-9870-4c6c-a974-89bb4bd722f6')]\n",
      "[I] [16:41:01.893393] [<Future: finished, type: cuml.TfidfTransformer, key: _merge_stats_to_model-191d7c8d-5b67-4a12-a498-42d3dbe000c3>]\n",
      "[I] [16:41:01.893707] [<Future: finished, type: cuml.TfidfTransformer, key: _merge_stats_to_model-afaca27d-9870-4c6c-a974-89bb4bd722f6>]\n",
      "[I] [16:41:01.899632] [Delayed('_merge_stats_to_model-5926c2dd-adf4-4d40-b933-879812e92f79')]\n",
      "(20725971, 1048576)\n",
      "Workers:2, Sample Run:2, Finished loading data in 0.01994251s\n",
      "Workers:2, Sample Run:2, Finished preprocessing data in 0.022582113s\n",
      "Workers:2, Sample Run:2, Finished fitting HashVectorizer in 0.003744019s\n",
      "Workers:2, Sample Run:2, Finished fitting IDF Transformer in 89.096830665s\n"
     ]
    },
    {
     "name": "stderr",
     "output_type": "stream",
     "text": [
      " 60%|███████████████████████████████████████████████████████████████████████████████████████████████████████▊                                                                     | 3/5 [05:47<03:52, 116.00s/it]"
     ]
    },
    {
     "name": "stdout",
     "output_type": "stream",
     "text": [
      "Workers:2, Sample Run:2, Finished executing full pipeline in 95.295359012s\n",
      "# nnz: 0\n",
      "[I] [16:43:00.995441] [Delayed('_merge_stats_to_model-07725029-f1cb-4e0a-b4b7-58cafec24f72')]\n",
      "[I] [16:43:00.997622] [Delayed('_merge_stats_to_model-02fb06b0-6d29-4f95-98ce-b93fe4a0a1a7')]\n",
      "[I] [16:43:01.127621] [<Future: finished, type: cuml.TfidfTransformer, key: _merge_stats_to_model-07725029-f1cb-4e0a-b4b7-58cafec24f72>]\n",
      "[I] [16:43:01.127925] [<Future: finished, type: cuml.TfidfTransformer, key: _merge_stats_to_model-02fb06b0-6d29-4f95-98ce-b93fe4a0a1a7>]\n",
      "[I] [16:43:01.136336] [Delayed('_merge_stats_to_model-944242cf-5816-4604-aa98-92864e7356be')]\n",
      "(20725971, 1048576)\n",
      "Workers:2, Sample Run:3, Finished loading data in 0.024577298s\n",
      "Workers:2, Sample Run:3, Finished preprocessing data in 0.023766734s\n",
      "Workers:2, Sample Run:3, Finished fitting HashVectorizer in 0.004166832s\n",
      "Workers:2, Sample Run:3, Finished fitting IDF Transformer in 87.958744302s\n"
     ]
    },
    {
     "name": "stderr",
     "output_type": "stream",
     "text": [
      " 80%|██████████████████████████████████████████████████████████████████████████████████████████████████████████████████████████████████████████▍                                  | 4/5 [07:45<01:56, 116.62s/it]"
     ]
    },
    {
     "name": "stdout",
     "output_type": "stream",
     "text": [
      "Workers:2, Sample Run:3, Finished executing full pipeline in 96.23971093s\n",
      "# nnz: 0\n",
      "[I] [16:44:56.562613] [Delayed('_merge_stats_to_model-2527da6b-828b-40c4-9ea9-ee1aa1e7e450')]\n",
      "[I] [16:44:56.564738] [Delayed('_merge_stats_to_model-ac959d0e-6caa-4d42-bd33-355a6569ed2c')]\n",
      "[I] [16:44:56.630966] [<Future: finished, type: cuml.TfidfTransformer, key: _merge_stats_to_model-2527da6b-828b-40c4-9ea9-ee1aa1e7e450>]\n",
      "[I] [16:44:56.631152] [<Future: finished, type: cuml.TfidfTransformer, key: _merge_stats_to_model-ac959d0e-6caa-4d42-bd33-355a6569ed2c>]\n",
      "[I] [16:44:56.636929] [Delayed('_merge_stats_to_model-a7ccbe26-4b51-4db6-b956-52aa4e330bbe')]\n",
      "(20725971, 1048576)\n",
      "Workers:2, Sample Run:4, Finished loading data in 0.020643228s\n",
      "Workers:2, Sample Run:4, Finished preprocessing data in 0.024553197s\n",
      "Workers:2, Sample Run:4, Finished fitting HashVectorizer in 0.00405205s\n",
      "Workers:2, Sample Run:4, Finished fitting IDF Transformer in 93.969176868s\n"
     ]
    },
    {
     "name": "stderr",
     "output_type": "stream",
     "text": [
      "100%|█████████████████████████████████████████████████████████████████████████████████████████████████████████████████████████████████████████████████████████████████████████████| 5/5 [09:47<00:00, 117.59s/it]"
     ]
    },
    {
     "name": "stdout",
     "output_type": "stream",
     "text": [
      "Workers:2, Sample Run:4, Finished executing full pipeline in 100.828453805s\n"
     ]
    },
    {
     "name": "stderr",
     "output_type": "stream",
     "text": [
      "\n",
      "  0%|                                                                                                                                                                                      | 0/5 [00:00<?, ?it/s]/home/nfs/anirband/anaconda3/envs/rapids-21.08/lib/python3.8/contextlib.py:120: UserWarning: Creating scratch directories is taking a surprisingly long time. This is often due to running workers on a network file system. Consider specifying a local-directory to point workers to write scratch data to a local disk.\n",
      "  next(self.gen)\n"
     ]
    },
    {
     "name": "stdout",
     "output_type": "stream",
     "text": [
      "# nnz: 0\n",
      "[I] [16:46:43.669753] [Delayed('_merge_stats_to_model-c8272617-513f-4c19-a5d7-d2c83e46c9e8')]\n",
      "[I] [16:46:43.670704] [Delayed('_merge_stats_to_model-0dc512a7-97e1-436f-97bc-4cdff7213833')]\n",
      "[I] [16:46:43.671419] [Delayed('_merge_stats_to_model-b0a3dd05-076e-496e-ac48-8de5bf78f096')]\n",
      "[I] [16:46:43.672634] [Delayed('_merge_stats_to_model-e1cae047-701e-4f71-aece-2dc9662da03e')]\n",
      "[I] [16:46:43.711421] [<Future: finished, type: cuml.TfidfTransformer, key: _merge_stats_to_model-c8272617-513f-4c19-a5d7-d2c83e46c9e8>]\n",
      "[I] [16:46:43.711681] [<Future: finished, type: cuml.TfidfTransformer, key: _merge_stats_to_model-0dc512a7-97e1-436f-97bc-4cdff7213833>]\n",
      "[I] [16:46:43.711870] [<Future: finished, type: cuml.TfidfTransformer, key: _merge_stats_to_model-b0a3dd05-076e-496e-ac48-8de5bf78f096>]\n",
      "[I] [16:46:43.711988] [<Future: finished, type: cuml.TfidfTransformer, key: _merge_stats_to_model-e1cae047-701e-4f71-aece-2dc9662da03e>]\n",
      "[I] [16:46:43.718176] [Delayed('_merge_stats_to_model-66bbb612-0c25-456d-915c-901673edf621')]\n",
      "(20725971, 1048576)\n",
      "Workers:4, Sample Run:0, Finished loading data in 0.021479954s\n",
      "Workers:4, Sample Run:0, Finished preprocessing data in 0.029022847s\n",
      "Workers:4, Sample Run:0, Finished fitting HashVectorizer in 0.004113133s\n",
      "Workers:4, Sample Run:0, Finished fitting IDF Transformer in 47.805241108s\n"
     ]
    },
    {
     "name": "stderr",
     "output_type": "stream",
     "text": [
      " 20%|██████████████████████████████████▊                                                                                                                                           | 1/5 [01:02<04:10, 62.60s/it]"
     ]
    },
    {
     "name": "stdout",
     "output_type": "stream",
     "text": [
      "Workers:4, Sample Run:0, Finished executing full pipeline in 51.862553654s\n",
      "# nnz: 0\n",
      "[I] [16:47:46.997363] [Delayed('_merge_stats_to_model-76a7275f-cb00-4273-9f19-f121a8627faf')]\n",
      "[I] [16:47:46.998254] [Delayed('_merge_stats_to_model-9d3f8680-9e70-4ef0-a41f-48005f080b5d')]\n",
      "[I] [16:47:46.999618] [Delayed('_merge_stats_to_model-526db1da-8315-4938-95fc-6f7292a6dfbe')]\n",
      "[I] [16:47:47.000861] [Delayed('_merge_stats_to_model-9c52e34b-94a2-4498-8775-c79f4f9ee500')]\n",
      "[I] [16:47:47.037198] [<Future: finished, type: cuml.TfidfTransformer, key: _merge_stats_to_model-76a7275f-cb00-4273-9f19-f121a8627faf>]\n",
      "[I] [16:47:47.037428] [<Future: finished, type: cuml.TfidfTransformer, key: _merge_stats_to_model-9d3f8680-9e70-4ef0-a41f-48005f080b5d>]\n",
      "[I] [16:47:47.037574] [<Future: finished, type: cuml.TfidfTransformer, key: _merge_stats_to_model-526db1da-8315-4938-95fc-6f7292a6dfbe>]\n",
      "[I] [16:47:47.037741] [<Future: finished, type: cuml.TfidfTransformer, key: _merge_stats_to_model-9c52e34b-94a2-4498-8775-c79f4f9ee500>]\n",
      "[I] [16:47:47.044091] [Delayed('_merge_stats_to_model-6795f570-2d98-4709-8b85-a4aaa74ec528')]\n",
      "(20725971, 1048576)\n",
      "Workers:4, Sample Run:1, Finished loading data in 0.018993088s\n",
      "Workers:4, Sample Run:1, Finished preprocessing data in 0.024003609s\n",
      "Workers:4, Sample Run:1, Finished fitting HashVectorizer in 0.003893498s\n",
      "Workers:4, Sample Run:1, Finished fitting IDF Transformer in 44.186238713s\n"
     ]
    },
    {
     "name": "stderr",
     "output_type": "stream",
     "text": [
      " 40%|█████████████████████████████████████████████████████████████████████▌                                                                                                        | 2/5 [02:02<03:03, 61.06s/it]"
     ]
    },
    {
     "name": "stdout",
     "output_type": "stream",
     "text": [
      "Workers:4, Sample Run:1, Finished executing full pipeline in 49.173822578s\n",
      "# nnz: 0\n",
      "[I] [16:48:47.803294] [Delayed('_merge_stats_to_model-9105b5c6-c6f1-45c5-8b71-ffed46056918')]\n",
      "[I] [16:48:47.804176] [Delayed('_merge_stats_to_model-a64793b6-af6b-4951-ad78-c966162466ae')]\n",
      "[I] [16:48:47.804971] [Delayed('_merge_stats_to_model-9ffe3a9a-c29e-4c04-9140-589736f3cbdb')]\n",
      "[I] [16:48:47.806225] [Delayed('_merge_stats_to_model-b52fce71-09b5-4a89-84b9-c9dada63d23b')]\n",
      "[I] [16:48:47.844216] [<Future: finished, type: cuml.TfidfTransformer, key: _merge_stats_to_model-9105b5c6-c6f1-45c5-8b71-ffed46056918>]\n",
      "[I] [16:48:47.844418] [<Future: finished, type: cuml.TfidfTransformer, key: _merge_stats_to_model-a64793b6-af6b-4951-ad78-c966162466ae>]\n",
      "[I] [16:48:47.844570] [<Future: finished, type: cuml.TfidfTransformer, key: _merge_stats_to_model-9ffe3a9a-c29e-4c04-9140-589736f3cbdb>]\n",
      "[I] [16:48:47.844705] [<Future: finished, type: cuml.TfidfTransformer, key: _merge_stats_to_model-b52fce71-09b5-4a89-84b9-c9dada63d23b>]\n",
      "[I] [16:48:47.850862] [Delayed('_merge_stats_to_model-ae206667-1ec7-4d30-aad3-43ebe4e466bb')]\n",
      "(20725971, 1048576)\n",
      "Workers:4, Sample Run:2, Finished loading data in 0.019339221s\n",
      "Workers:4, Sample Run:2, Finished preprocessing data in 0.022288494s\n",
      "Workers:4, Sample Run:2, Finished fitting HashVectorizer in 0.004339032s\n",
      "Workers:4, Sample Run:2, Finished fitting IDF Transformer in 43.903631944s\n"
     ]
    },
    {
     "name": "stderr",
     "output_type": "stream",
     "text": [
      " 60%|████████████████████████████████████████████████████████████████████████████████████████████████████████▍                                                                     | 3/5 [03:03<02:01, 60.89s/it]"
     ]
    },
    {
     "name": "stdout",
     "output_type": "stream",
     "text": [
      "Workers:4, Sample Run:2, Finished executing full pipeline in 49.702358776s\n"
     ]
    },
    {
     "name": "stderr",
     "output_type": "stream",
     "text": [
      "/home/nfs/anirband/anaconda3/envs/rapids-21.08/lib/python3.8/contextlib.py:120: UserWarning: Creating scratch directories is taking a surprisingly long time. This is often due to running workers on a network file system. Consider specifying a local-directory to point workers to write scratch data to a local disk.\n",
      "  next(self.gen)\n"
     ]
    },
    {
     "name": "stdout",
     "output_type": "stream",
     "text": [
      "# nnz: 0\n",
      "[I] [16:49:46.795738] [Delayed('_merge_stats_to_model-1da0f934-f3f2-4b52-b0aa-18518ef7b675')]\n",
      "[I] [16:49:46.797272] [Delayed('_merge_stats_to_model-5d8565ad-bb3e-4595-8b7b-1d7774b5bb94')]\n",
      "[I] [16:49:46.797962] [Delayed('_merge_stats_to_model-94b9b7f4-dda7-45e4-a2e8-5bdd30c6e882')]\n",
      "[I] [16:49:46.798692] [Delayed('_merge_stats_to_model-e1f737e1-5220-43f1-b984-12e44fb4fa27')]\n",
      "[I] [16:49:46.837173] [<Future: finished, type: cuml.TfidfTransformer, key: _merge_stats_to_model-1da0f934-f3f2-4b52-b0aa-18518ef7b675>]\n",
      "[I] [16:49:46.837404] [<Future: finished, type: cuml.TfidfTransformer, key: _merge_stats_to_model-5d8565ad-bb3e-4595-8b7b-1d7774b5bb94>]\n",
      "[I] [16:49:46.837535] [<Future: finished, type: cuml.TfidfTransformer, key: _merge_stats_to_model-94b9b7f4-dda7-45e4-a2e8-5bdd30c6e882>]\n",
      "[I] [16:49:46.837658] [<Future: finished, type: cuml.TfidfTransformer, key: _merge_stats_to_model-e1f737e1-5220-43f1-b984-12e44fb4fa27>]\n",
      "[I] [16:49:46.844131] [Delayed('_merge_stats_to_model-59ee84b1-4d66-4d4c-8692-d4eba83ad3e7')]\n",
      "(20725971, 1048576)\n",
      "Workers:4, Sample Run:3, Finished loading data in 0.028071858s\n",
      "Workers:4, Sample Run:3, Finished preprocessing data in 0.02457719s\n",
      "Workers:4, Sample Run:3, Finished fitting HashVectorizer in 0.003775255s\n",
      "Workers:4, Sample Run:3, Finished fitting IDF Transformer in 43.826761924s\n"
     ]
    },
    {
     "name": "stderr",
     "output_type": "stream",
     "text": [
      " 80%|███████████████████████████████████████████████████████████████████████████████████████████████████████████████████████████████████████████▏                                  | 4/5 [04:02<01:00, 60.15s/it]"
     ]
    },
    {
     "name": "stdout",
     "output_type": "stream",
     "text": [
      "Workers:4, Sample Run:3, Finished executing full pipeline in 48.25305716s\n",
      "# nnz: 0\n",
      "[I] [16:50:46.390903] [Delayed('_merge_stats_to_model-f48bf521-beb5-486c-a043-ac96081ca3af')]\n",
      "[I] [16:50:46.391846] [Delayed('_merge_stats_to_model-2d245ed4-9e96-4e0a-877b-f280cbddf4bf')]\n",
      "[I] [16:50:46.393072] [Delayed('_merge_stats_to_model-623ba2fe-57ab-4ea3-bbd3-ce26ab9aba0d')]\n",
      "[I] [16:50:46.393838] [Delayed('_merge_stats_to_model-ddde4730-237a-4abf-97cf-4817e600c837')]\n",
      "[I] [16:50:46.432580] [<Future: finished, type: cuml.TfidfTransformer, key: _merge_stats_to_model-f48bf521-beb5-486c-a043-ac96081ca3af>]\n",
      "[I] [16:50:46.433047] [<Future: finished, type: cuml.TfidfTransformer, key: _merge_stats_to_model-2d245ed4-9e96-4e0a-877b-f280cbddf4bf>]\n",
      "[I] [16:50:46.433209] [<Future: finished, type: cuml.TfidfTransformer, key: _merge_stats_to_model-623ba2fe-57ab-4ea3-bbd3-ce26ab9aba0d>]\n",
      "[I] [16:50:46.433263] [<Future: finished, type: cuml.TfidfTransformer, key: _merge_stats_to_model-ddde4730-237a-4abf-97cf-4817e600c837>]\n",
      "[I] [16:50:46.439734] [Delayed('_merge_stats_to_model-a959a7be-97ae-4684-94cb-03be35b295b6')]\n",
      "(20725971, 1048576)\n",
      "Workers:4, Sample Run:4, Finished loading data in 0.021331783s\n",
      "Workers:4, Sample Run:4, Finished preprocessing data in 0.023288923s\n",
      "Workers:4, Sample Run:4, Finished fitting HashVectorizer in 0.003992526s\n",
      "Workers:4, Sample Run:4, Finished fitting IDF Transformer in 44.054046971s\n"
     ]
    },
    {
     "name": "stderr",
     "output_type": "stream",
     "text": [
      "100%|██████████████████████████████████████████████████████████████████████████████████████████████████████████████████████████████████████████████████████████████████████████████| 5/5 [05:01<00:00, 60.35s/it]"
     ]
    },
    {
     "name": "stdout",
     "output_type": "stream",
     "text": [
      "Workers:4, Sample Run:4, Finished executing full pipeline in 48.760858626s\n"
     ]
    },
    {
     "name": "stderr",
     "output_type": "stream",
     "text": [
      "\n",
      "  0%|                                                                                                                                                                                      | 0/5 [00:00<?, ?it/s]/home/nfs/anirband/anaconda3/envs/rapids-21.08/lib/python3.8/contextlib.py:120: UserWarning: Creating scratch directories is taking a surprisingly long time. This is often due to running workers on a network file system. Consider specifying a local-directory to point workers to write scratch data to a local disk.\n",
      "  next(self.gen)\n"
     ]
    },
    {
     "name": "stdout",
     "output_type": "stream",
     "text": [
      "# nnz: 0\n",
      "[I] [16:51:45.136215] [<Future: finished, type: cuml.TfidfTransformer, key: _set_doc_stats-4bcf63fa-1787-4d69-a5d5-1cc96d3f07a6>]\n",
      "[I] [16:51:45.137434] [Delayed('_merge_stats_to_model-bdc0e864-4d25-47e2-951b-6759a3ec9777')]\n",
      "[I] [16:51:45.137658] [<Future: finished, type: cuml.TfidfTransformer, key: _set_doc_stats-1936fa5e-5e0c-4deb-bfdf-18519ca604b5>]\n",
      "[I] [16:51:45.138303] [Delayed('_merge_stats_to_model-b9244de8-0070-44eb-80d4-ab87d9ca05d5')]\n",
      "[I] [16:51:45.139017] [Delayed('_merge_stats_to_model-dc36a884-51b4-47ae-b48d-f460cbc9c4c7')]\n",
      "[I] [16:51:45.139761] [Delayed('_merge_stats_to_model-7bbccd4f-8256-4e26-8a66-eee3b0fa5c51')]\n",
      "[I] [16:51:45.183745] [<Future: finished, type: cuml.TfidfTransformer, key: _set_doc_stats-4bcf63fa-1787-4d69-a5d5-1cc96d3f07a6>]\n",
      "[I] [16:51:45.184029] [<Future: finished, type: cuml.TfidfTransformer, key: _merge_stats_to_model-bdc0e864-4d25-47e2-951b-6759a3ec9777>]\n",
      "[I] [16:51:45.184200] [<Future: finished, type: cuml.TfidfTransformer, key: _set_doc_stats-1936fa5e-5e0c-4deb-bfdf-18519ca604b5>]\n",
      "[I] [16:51:45.184325] [<Future: finished, type: cuml.TfidfTransformer, key: _merge_stats_to_model-b9244de8-0070-44eb-80d4-ab87d9ca05d5>]\n",
      "[I] [16:51:45.184458] [<Future: finished, type: cuml.TfidfTransformer, key: _merge_stats_to_model-dc36a884-51b4-47ae-b48d-f460cbc9c4c7>]\n",
      "[I] [16:51:45.184571] [<Future: finished, type: cuml.TfidfTransformer, key: _merge_stats_to_model-7bbccd4f-8256-4e26-8a66-eee3b0fa5c51>]\n",
      "[I] [16:51:45.191972] [Delayed('_merge_stats_to_model-f1d3375f-dfa8-42f4-83ba-348cfbce22a1')]\n",
      "(20725971, 1048576)\n",
      "Workers:6, Sample Run:0, Finished loading data in 0.02059971s\n",
      "Workers:6, Sample Run:0, Finished preprocessing data in 0.023594207s\n",
      "Workers:6, Sample Run:0, Finished fitting HashVectorizer in 0.003784578s\n",
      "Workers:6, Sample Run:0, Finished fitting IDF Transformer in 31.546731615s\n"
     ]
    },
    {
     "name": "stderr",
     "output_type": "stream",
     "text": [
      " 20%|██████████████████████████████████▊                                                                                                                                           | 1/5 [00:44<02:58, 44.73s/it]"
     ]
    },
    {
     "name": "stdout",
     "output_type": "stream",
     "text": [
      "Workers:6, Sample Run:0, Finished executing full pipeline in 36.455091158s\n",
      "# nnz: 0\n",
      "[I] [16:52:29.754183] [<Future: finished, type: cuml.TfidfTransformer, key: _set_doc_stats-abc43d3b-22ac-46cf-9779-02fad907bf9c>]\n",
      "[I] [16:52:29.755295] [Delayed('_merge_stats_to_model-852598a5-a842-467f-9d0a-3e1cd7411fd4')]\n",
      "[I] [16:52:29.755998] [Delayed('_merge_stats_to_model-be7a10ca-92db-442a-85e2-e41e1a0c3dd1')]\n",
      "[I] [16:52:29.756681] [Delayed('_merge_stats_to_model-720305b4-7353-42ae-8f92-ef69220f50f2')]\n",
      "[I] [16:52:29.757476] [Delayed('_merge_stats_to_model-889b0b0c-359b-4f41-9d8c-4da0e22329e6')]\n",
      "[I] [16:52:29.757756] [<Future: finished, type: cuml.TfidfTransformer, key: _set_doc_stats-6321adc3-27a2-42d1-94ac-1c049a2856ed>]\n",
      "[I] [16:52:29.782757] [<Future: finished, type: cuml.TfidfTransformer, key: _set_doc_stats-abc43d3b-22ac-46cf-9779-02fad907bf9c>]\n",
      "[I] [16:52:29.782989] [<Future: finished, type: cuml.TfidfTransformer, key: _merge_stats_to_model-852598a5-a842-467f-9d0a-3e1cd7411fd4>]\n",
      "[I] [16:52:29.783121] [<Future: finished, type: cuml.TfidfTransformer, key: _merge_stats_to_model-be7a10ca-92db-442a-85e2-e41e1a0c3dd1>]\n",
      "[I] [16:52:29.783242] [<Future: finished, type: cuml.TfidfTransformer, key: _merge_stats_to_model-720305b4-7353-42ae-8f92-ef69220f50f2>]\n",
      "[I] [16:52:29.783354] [<Future: finished, type: cuml.TfidfTransformer, key: _merge_stats_to_model-889b0b0c-359b-4f41-9d8c-4da0e22329e6>]\n",
      "[I] [16:52:29.783466] [<Future: finished, type: cuml.TfidfTransformer, key: _set_doc_stats-6321adc3-27a2-42d1-94ac-1c049a2856ed>]\n",
      "[I] [16:52:29.791924] [Delayed('_merge_stats_to_model-86bd1a02-93ea-4c95-b6d5-9ac9e8eea0b5')]\n",
      "(20725971, 1048576)\n",
      "Workers:6, Sample Run:1, Finished loading data in 0.020180812s\n",
      "Workers:6, Sample Run:1, Finished preprocessing data in 0.022954124s\n",
      "Workers:6, Sample Run:1, Finished fitting HashVectorizer in 0.003905681s\n",
      "Workers:6, Sample Run:1, Finished fitting IDF Transformer in 31.382481594s\n"
     ]
    },
    {
     "name": "stderr",
     "output_type": "stream",
     "text": [
      " 40%|█████████████████████████████████████████████████████████████████████▌                                                                                                        | 2/5 [01:28<02:12, 44.20s/it]"
     ]
    },
    {
     "name": "stdout",
     "output_type": "stream",
     "text": [
      "Workers:6, Sample Run:1, Finished executing full pipeline in 36.25704822s\n",
      "# nnz: 0\n",
      "[I] [16:53:13.841551] [<Future: finished, type: cuml.TfidfTransformer, key: _set_doc_stats-15902852-9ab5-44ca-b47e-6893b6bdb030>]\n",
      "[I] [16:53:13.842624] [Delayed('_merge_stats_to_model-d6e8ae93-2de6-4231-a34c-edfa870caaef')]\n",
      "[I] [16:53:13.843360] [Delayed('_merge_stats_to_model-bfd6e569-83df-4ea2-b1bc-912e649aad17')]\n",
      "[I] [16:53:13.844079] [Delayed('_merge_stats_to_model-8807162a-4e4b-4f52-88bc-3a08e4fbe520')]\n",
      "[I] [16:53:13.844344] [<Future: finished, type: cuml.TfidfTransformer, key: _set_doc_stats-50c6f972-d253-42e9-ab9e-e56c99ed2c97>]\n",
      "[I] [16:53:13.844955] [Delayed('_merge_stats_to_model-f154f854-c486-48b4-a19c-5ef3195b6c70')]\n",
      "[I] [16:53:13.867296] [<Future: finished, type: cuml.TfidfTransformer, key: _set_doc_stats-15902852-9ab5-44ca-b47e-6893b6bdb030>]\n",
      "[I] [16:53:13.867553] [<Future: finished, type: cuml.TfidfTransformer, key: _merge_stats_to_model-d6e8ae93-2de6-4231-a34c-edfa870caaef>]\n",
      "[I] [16:53:13.867717] [<Future: finished, type: cuml.TfidfTransformer, key: _merge_stats_to_model-bfd6e569-83df-4ea2-b1bc-912e649aad17>]\n",
      "[I] [16:53:13.867888] [<Future: finished, type: cuml.TfidfTransformer, key: _merge_stats_to_model-8807162a-4e4b-4f52-88bc-3a08e4fbe520>]\n",
      "[I] [16:53:13.868001] [<Future: finished, type: cuml.TfidfTransformer, key: _set_doc_stats-50c6f972-d253-42e9-ab9e-e56c99ed2c97>]\n",
      "[I] [16:53:13.868111] [<Future: finished, type: cuml.TfidfTransformer, key: _merge_stats_to_model-f154f854-c486-48b4-a19c-5ef3195b6c70>]\n",
      "[I] [16:53:13.876066] [Delayed('_merge_stats_to_model-7393c38f-0282-49ef-be5c-6433d101b312')]\n",
      "(20725971, 1048576)\n",
      "Workers:6, Sample Run:2, Finished loading data in 0.019669267s\n",
      "Workers:6, Sample Run:2, Finished preprocessing data in 0.022450362s\n",
      "Workers:6, Sample Run:2, Finished fitting HashVectorizer in 0.003784007s\n",
      "Workers:6, Sample Run:2, Finished fitting IDF Transformer in 31.984666653s\n"
     ]
    },
    {
     "name": "stderr",
     "output_type": "stream",
     "text": [
      " 60%|████████████████████████████████████████████████████████████████████████████████████████████████████████▍                                                                     | 3/5 [02:17<01:32, 46.35s/it]"
     ]
    },
    {
     "name": "stdout",
     "output_type": "stream",
     "text": [
      "Workers:6, Sample Run:2, Finished executing full pipeline in 36.891404242s\n",
      "# nnz: 0\n",
      "[I] [16:54:02.461767] [<Future: finished, type: cuml.TfidfTransformer, key: _set_doc_stats-b4cd7241-d984-4cb4-ab0b-f2f62c98dc83>]\n",
      "[I] [16:54:02.461964] [<Future: finished, type: cuml.TfidfTransformer, key: _set_doc_stats-d19cfc9c-7eae-4458-9427-8e2df364fa16>]\n",
      "[I] [16:54:02.463067] [Delayed('_merge_stats_to_model-da8da464-afd9-4766-a2da-07d9f194af74')]\n",
      "[I] [16:54:02.463820] [Delayed('_merge_stats_to_model-aa4ef367-3934-4d65-b386-f01a59311348')]\n",
      "[I] [16:54:02.464620] [Delayed('_merge_stats_to_model-43f6dc1b-8cc9-44aa-83f6-324587b82ad4')]\n",
      "[I] [16:54:02.465315] [Delayed('_merge_stats_to_model-1389b567-495d-43f9-8d66-e91adc706dbb')]\n",
      "[I] [16:54:02.489149] [<Future: finished, type: cuml.TfidfTransformer, key: _set_doc_stats-b4cd7241-d984-4cb4-ab0b-f2f62c98dc83>]\n",
      "[I] [16:54:02.489373] [<Future: finished, type: cuml.TfidfTransformer, key: _set_doc_stats-d19cfc9c-7eae-4458-9427-8e2df364fa16>]\n",
      "[I] [16:54:02.489503] [<Future: finished, type: cuml.TfidfTransformer, key: _merge_stats_to_model-da8da464-afd9-4766-a2da-07d9f194af74>]\n",
      "[I] [16:54:02.489628] [<Future: finished, type: cuml.TfidfTransformer, key: _merge_stats_to_model-aa4ef367-3934-4d65-b386-f01a59311348>]\n",
      "[I] [16:54:02.489762] [<Future: finished, type: cuml.TfidfTransformer, key: _merge_stats_to_model-43f6dc1b-8cc9-44aa-83f6-324587b82ad4>]\n",
      "[I] [16:54:02.489877] [<Future: finished, type: cuml.TfidfTransformer, key: _merge_stats_to_model-1389b567-495d-43f9-8d66-e91adc706dbb>]\n",
      "[I] [16:54:02.498293] [Delayed('_merge_stats_to_model-da7a5ce3-2f43-42bf-b4bb-46949c5b9030')]\n",
      "(20725971, 1048576)\n",
      "Workers:6, Sample Run:3, Finished loading data in 0.022203511s\n",
      "Workers:6, Sample Run:3, Finished preprocessing data in 0.022586356s\n",
      "Workers:6, Sample Run:3, Finished fitting HashVectorizer in 0.003801609s\n",
      "Workers:6, Sample Run:3, Finished fitting IDF Transformer in 31.631975165s\n"
     ]
    },
    {
     "name": "stderr",
     "output_type": "stream",
     "text": [
      " 80%|███████████████████████████████████████████████████████████████████████████████████████████████████████████████████████████████████████████▏                                  | 4/5 [03:01<00:45, 45.48s/it]"
     ]
    },
    {
     "name": "stdout",
     "output_type": "stream",
     "text": [
      "Workers:6, Sample Run:3, Finished executing full pipeline in 36.483441184s\n",
      "# nnz: 0\n",
      "[I] [16:54:49.566868] [<Future: finished, type: cuml.TfidfTransformer, key: _set_doc_stats-22c86cd0-7d4f-4cfa-9b27-d66e78bf9260>]\n",
      "[I] [16:54:49.567912] [Delayed('_merge_stats_to_model-bbc3b366-7683-439a-bf6f-f10fb474ab44')]\n",
      "[I] [16:54:49.568656] [Delayed('_merge_stats_to_model-d40eca67-2914-4f16-b467-048cf23c26e2')]\n",
      "[I] [16:54:49.569527] [Delayed('_merge_stats_to_model-4e8e86de-d362-4ae6-9692-800db4e25296')]\n",
      "[I] [16:54:49.570241] [Delayed('_merge_stats_to_model-46250ab5-6ee3-4e29-a90c-9e5dac2e2fd4')]\n",
      "[I] [16:54:49.570466] [<Future: finished, type: cuml.TfidfTransformer, key: _set_doc_stats-31eea1c0-0dd9-4c3d-82a4-42aa9e2fcd6b>]\n",
      "[I] [16:54:49.605241] [<Future: finished, type: cuml.TfidfTransformer, key: _set_doc_stats-22c86cd0-7d4f-4cfa-9b27-d66e78bf9260>]\n",
      "[I] [16:54:49.605473] [<Future: finished, type: cuml.TfidfTransformer, key: _merge_stats_to_model-bbc3b366-7683-439a-bf6f-f10fb474ab44>]\n",
      "[I] [16:54:49.605609] [<Future: finished, type: cuml.TfidfTransformer, key: _merge_stats_to_model-d40eca67-2914-4f16-b467-048cf23c26e2>]\n",
      "[I] [16:54:49.605729] [<Future: finished, type: cuml.TfidfTransformer, key: _merge_stats_to_model-4e8e86de-d362-4ae6-9692-800db4e25296>]\n",
      "[I] [16:54:49.605847] [<Future: finished, type: cuml.TfidfTransformer, key: _merge_stats_to_model-46250ab5-6ee3-4e29-a90c-9e5dac2e2fd4>]\n",
      "[I] [16:54:49.605999] [<Future: finished, type: cuml.TfidfTransformer, key: _set_doc_stats-31eea1c0-0dd9-4c3d-82a4-42aa9e2fcd6b>]\n",
      "[I] [16:54:49.616298] [Delayed('_merge_stats_to_model-fda4d266-aa2c-4817-9a97-7e9df16c5aaa')]\n"
     ]
    },
    {
     "name": "stderr",
     "output_type": "stream",
     "text": [
      "tornado.application - ERROR - Exception in callback functools.partial(<bound method IOLoop._discard_future_result of <tornado.platform.asyncio.AsyncIOLoop object at 0x7efc825920a0>>, <Task finished name='Task-244' coro=<Worker.gather_dep() done, defined at /home/nfs/anirband/anaconda3/envs/rapids-21.08/lib/python3.8/site-packages/distributed/worker.py:2267> exception=KeyError(('fetch', 'memory'))>)\n",
      "Traceback (most recent call last):\n",
      "  File \"/home/nfs/anirband/anaconda3/envs/rapids-21.08/lib/python3.8/site-packages/tornado/ioloop.py\", line 741, in _run_callback\n",
      "    ret = callback()\n",
      "  File \"/home/nfs/anirband/anaconda3/envs/rapids-21.08/lib/python3.8/site-packages/tornado/ioloop.py\", line 765, in _discard_future_result\n",
      "    future.result()\n",
      "  File \"/home/nfs/anirband/anaconda3/envs/rapids-21.08/lib/python3.8/site-packages/distributed/worker.py\", line 2411, in gather_dep\n",
      "    self.transition(ts, \"memory\", value=data[d])\n",
      "  File \"/home/nfs/anirband/anaconda3/envs/rapids-21.08/lib/python3.8/site-packages/distributed/worker.py\", line 1692, in transition\n",
      "    func = self._transitions[start, finish]\n",
      "KeyError: ('fetch', 'memory')\n"
     ]
    },
    {
     "name": "stdout",
     "output_type": "stream",
     "text": [
      "(20725971, 1048576)\n",
      "Workers:6, Sample Run:4, Finished loading data in 0.026489898s\n",
      "Workers:6, Sample Run:4, Finished preprocessing data in 0.024329943s\n",
      "Workers:6, Sample Run:4, Finished fitting HashVectorizer in 0.003878594s\n",
      "Workers:6, Sample Run:4, Finished fitting IDF Transformer in 32.005947894s\n"
     ]
    },
    {
     "name": "stderr",
     "output_type": "stream",
     "text": [
      "100%|██████████████████████████████████████████████████████████████████████████████████████████████████████████████████████████████████████████████████████████████████████████████| 5/5 [03:48<00:00, 45.76s/it]"
     ]
    },
    {
     "name": "stdout",
     "output_type": "stream",
     "text": [
      "Workers:6, Sample Run:4, Finished executing full pipeline in 39.573043322s\n"
     ]
    },
    {
     "name": "stderr",
     "output_type": "stream",
     "text": [
      "\n",
      "  0%|                                                                                                                                                                                      | 0/5 [00:00<?, ?it/s]/home/nfs/anirband/anaconda3/envs/rapids-21.08/lib/python3.8/contextlib.py:120: UserWarning: Creating scratch directories is taking a surprisingly long time. This is often due to running workers on a network file system. Consider specifying a local-directory to point workers to write scratch data to a local disk.\n",
      "  next(self.gen)\n",
      "/home/nfs/anirband/anaconda3/envs/rapids-21.08/lib/python3.8/contextlib.py:120: UserWarning: Creating scratch directories is taking a surprisingly long time. This is often due to running workers on a network file system. Consider specifying a local-directory to point workers to write scratch data to a local disk.\n",
      "  next(self.gen)\n",
      "/home/nfs/anirband/anaconda3/envs/rapids-21.08/lib/python3.8/contextlib.py:120: UserWarning: Creating scratch directories is taking a surprisingly long time. This is often due to running workers on a network file system. Consider specifying a local-directory to point workers to write scratch data to a local disk.\n",
      "  next(self.gen)\n"
     ]
    },
    {
     "name": "stdout",
     "output_type": "stream",
     "text": [
      "# nnz: 0\n",
      "[I] [16:55:39.886497] [<Future: finished, type: cuml.TfidfTransformer, key: _set_doc_stats-1819ac67-3cc9-44d6-9917-6423e8575a6b>]\n",
      "[I] [16:55:39.886684] [<Future: finished, type: cuml.TfidfTransformer, key: _set_doc_stats-5108cc3e-582d-48ff-91fc-8dda806f96bd>]\n",
      "[I] [16:55:39.887161] [<Future: finished, type: cuml.TfidfTransformer, key: _set_doc_stats-c1a202ac-a759-459b-8dd3-389c1beca66d>]\n",
      "[I] [16:55:39.887289] [<Future: finished, type: cuml.TfidfTransformer, key: _set_doc_stats-91f4d144-4501-4579-9be4-04910798f4f8>]\n",
      "[I] [16:55:39.887529] [<Future: finished, type: cuml.TfidfTransformer, key: _set_doc_stats-478f2bff-cc93-4a7d-84e2-8a3d2fc70b72>]\n",
      "[I] [16:55:39.888331] [Delayed('_merge_stats_to_model-6bb996e5-eb98-409a-8c98-fd0c32e76ae6')]\n",
      "[I] [16:55:39.888547] [<Future: finished, type: cuml.TfidfTransformer, key: _set_doc_stats-e42e7ed1-9303-41ad-a9ec-fbabf7e02927>]\n",
      "[I] [16:55:39.889189] [Delayed('_merge_stats_to_model-16ef0568-8803-4155-843f-53316451f89a')]\n",
      "[I] [16:55:39.913406] [<Future: finished, type: cuml.TfidfTransformer, key: _set_doc_stats-1819ac67-3cc9-44d6-9917-6423e8575a6b>]\n",
      "[I] [16:55:39.913631] [<Future: finished, type: cuml.TfidfTransformer, key: _set_doc_stats-5108cc3e-582d-48ff-91fc-8dda806f96bd>]\n",
      "[I] [16:55:39.914187] [<Future: finished, type: cuml.TfidfTransformer, key: _set_doc_stats-c1a202ac-a759-459b-8dd3-389c1beca66d>]\n",
      "[I] [16:55:39.914340] [<Future: finished, type: cuml.TfidfTransformer, key: _set_doc_stats-91f4d144-4501-4579-9be4-04910798f4f8>]\n",
      "[I] [16:55:39.914493] [<Future: finished, type: cuml.TfidfTransformer, key: _set_doc_stats-478f2bff-cc93-4a7d-84e2-8a3d2fc70b72>]\n",
      "[I] [16:55:39.914611] [<Future: finished, type: cuml.TfidfTransformer, key: _merge_stats_to_model-6bb996e5-eb98-409a-8c98-fd0c32e76ae6>]\n",
      "[I] [16:55:39.914728] [<Future: finished, type: cuml.TfidfTransformer, key: _set_doc_stats-e42e7ed1-9303-41ad-a9ec-fbabf7e02927>]\n",
      "[I] [16:55:39.914856] [<Future: finished, type: cuml.TfidfTransformer, key: _merge_stats_to_model-16ef0568-8803-4155-843f-53316451f89a>]\n",
      "[I] [16:55:39.922505] [Delayed('_merge_stats_to_model-5416b1b9-0ce8-4e8b-be17-8cdd7e061e76')]\n",
      "(20725971, 1048576)\n",
      "Workers:8, Sample Run:0, Finished loading data in 0.021548747s\n",
      "Workers:8, Sample Run:0, Finished preprocessing data in 0.022015627s\n",
      "Workers:8, Sample Run:0, Finished fitting HashVectorizer in 0.004078743s\n",
      "Workers:8, Sample Run:0, Finished fitting IDF Transformer in 31.851014403s\n"
     ]
    },
    {
     "name": "stderr",
     "output_type": "stream",
     "text": [
      " 20%|██████████████████████████████████▊                                                                                                                                           | 1/5 [00:45<03:00, 45.17s/it]"
     ]
    },
    {
     "name": "stdout",
     "output_type": "stream",
     "text": [
      "Workers:8, Sample Run:0, Finished executing full pipeline in 37.413730286s\n",
      "# nnz: 0\n",
      "[I] [16:56:25.681410] [<Future: finished, type: cuml.TfidfTransformer, key: _set_doc_stats-740c7772-1fd6-402a-9063-6d1457761c94>]\n",
      "[I] [16:56:25.681600] [<Future: finished, type: cuml.TfidfTransformer, key: _set_doc_stats-468c8658-54e3-465e-8c84-238f90726359>]\n",
      "[I] [16:56:25.681983] [<Future: finished, type: cuml.TfidfTransformer, key: _set_doc_stats-7c6713ce-8edd-4d51-95c1-f642dd932dd8>]\n",
      "[I] [16:56:25.682712] [Delayed('_merge_stats_to_model-31f2478c-f02e-4f53-95a5-670427f3e4b0')]\n",
      "[I] [16:56:25.682919] [<Future: finished, type: cuml.TfidfTransformer, key: _set_doc_stats-3d887f23-1862-4a2b-b7f7-cabdb2291d2a>]\n",
      "[I] [16:56:25.683070] [<Future: finished, type: cuml.TfidfTransformer, key: _set_doc_stats-7cd40a89-d05d-4602-9929-67970bd2441a>]\n",
      "[I] [16:56:25.683186] [<Future: finished, type: cuml.TfidfTransformer, key: _set_doc_stats-b9d8a3f7-4fbe-43c8-a85a-ca5b1259198c>]\n",
      "[I] [16:56:25.683801] [Delayed('_merge_stats_to_model-84b3a894-f741-4ad2-96f0-f9a20a0a3228')]\n",
      "[I] [16:56:26.183573] [<Future: finished, type: cuml.TfidfTransformer, key: _set_doc_stats-740c7772-1fd6-402a-9063-6d1457761c94>]\n",
      "[I] [16:56:26.183932] [<Future: finished, type: cuml.TfidfTransformer, key: _set_doc_stats-468c8658-54e3-465e-8c84-238f90726359>]\n",
      "[I] [16:56:26.184068] [<Future: finished, type: cuml.TfidfTransformer, key: _set_doc_stats-7c6713ce-8edd-4d51-95c1-f642dd932dd8>]\n",
      "[I] [16:56:26.184193] [<Future: finished, type: cuml.TfidfTransformer, key: _merge_stats_to_model-31f2478c-f02e-4f53-95a5-670427f3e4b0>]\n",
      "[I] [16:56:26.184321] [<Future: finished, type: cuml.TfidfTransformer, key: _set_doc_stats-3d887f23-1862-4a2b-b7f7-cabdb2291d2a>]\n",
      "[I] [16:56:26.184442] [<Future: finished, type: cuml.TfidfTransformer, key: _set_doc_stats-7cd40a89-d05d-4602-9929-67970bd2441a>]\n",
      "[I] [16:56:26.184584] [<Future: finished, type: cuml.TfidfTransformer, key: _set_doc_stats-b9d8a3f7-4fbe-43c8-a85a-ca5b1259198c>]\n",
      "[I] [16:56:26.184850] [<Future: finished, type: cuml.TfidfTransformer, key: _merge_stats_to_model-84b3a894-f741-4ad2-96f0-f9a20a0a3228>]\n",
      "[I] [16:56:26.196634] [Delayed('_merge_stats_to_model-b1f67950-c15f-4986-bd63-eb799f8f6492')]\n",
      "(20725971, 1048576)\n",
      "Workers:8, Sample Run:1, Finished loading data in 0.020261715s\n",
      "Workers:8, Sample Run:1, Finished preprocessing data in 0.025258595s\n",
      "Workers:8, Sample Run:1, Finished fitting HashVectorizer in 0.003727727s\n",
      "Workers:8, Sample Run:1, Finished fitting IDF Transformer in 32.793028697s\n"
     ]
    },
    {
     "name": "stderr",
     "output_type": "stream",
     "text": [
      " 40%|█████████████████████████████████████████████████████████████████████▌                                                                                                        | 2/5 [01:31<02:17, 45.78s/it]"
     ]
    },
    {
     "name": "stdout",
     "output_type": "stream",
     "text": [
      "Workers:8, Sample Run:1, Finished executing full pipeline in 38.609280776s\n",
      "# nnz: 0\n",
      "[I] [16:57:11.515342] [Delayed('_merge_stats_to_model-fb797990-362d-4bec-8b6b-76a9e57a63c1')]\n",
      "[I] [16:57:11.516086] [<Future: finished, type: cuml.TfidfTransformer, key: _set_doc_stats-836f17b8-88ff-4faa-8f15-c12a235f22bc>]\n",
      "[I] [16:57:11.516789] [Delayed('_merge_stats_to_model-d31a35bf-de87-41d5-8877-586ec0cab67c')]\n",
      "[I] [16:57:11.516998] [<Future: finished, type: cuml.TfidfTransformer, key: _set_doc_stats-23947e92-cf9e-46a3-8997-67178226e133>]\n",
      "[I] [16:57:11.517152] [<Future: finished, type: cuml.TfidfTransformer, key: _set_doc_stats-34e65f4a-3167-40e8-9cba-cf7f26755225>]\n",
      "[I] [16:57:11.517272] [<Future: finished, type: cuml.TfidfTransformer, key: _set_doc_stats-3a3bfc79-6e65-444a-956b-2d00c18b81a9>]\n",
      "[I] [16:57:11.517398] [<Future: finished, type: cuml.TfidfTransformer, key: _set_doc_stats-575721fd-1ff6-497f-a14a-846ec0ebb381>]\n",
      "[I] [16:57:11.517516] [<Future: finished, type: cuml.TfidfTransformer, key: _set_doc_stats-721f4962-5c1d-4eeb-8b7a-f36dc1ef58fb>]\n",
      "[I] [16:57:11.549454] [<Future: finished, type: cuml.TfidfTransformer, key: _merge_stats_to_model-fb797990-362d-4bec-8b6b-76a9e57a63c1>]\n",
      "[I] [16:57:11.549694] [<Future: finished, type: cuml.TfidfTransformer, key: _set_doc_stats-836f17b8-88ff-4faa-8f15-c12a235f22bc>]\n",
      "[I] [16:57:11.549866] [<Future: finished, type: cuml.TfidfTransformer, key: _merge_stats_to_model-d31a35bf-de87-41d5-8877-586ec0cab67c>]\n",
      "[I] [16:57:11.549990] [<Future: finished, type: cuml.TfidfTransformer, key: _set_doc_stats-23947e92-cf9e-46a3-8997-67178226e133>]\n",
      "[I] [16:57:11.550109] [<Future: finished, type: cuml.TfidfTransformer, key: _set_doc_stats-34e65f4a-3167-40e8-9cba-cf7f26755225>]\n",
      "[I] [16:57:11.550227] [<Future: finished, type: cuml.TfidfTransformer, key: _set_doc_stats-3a3bfc79-6e65-444a-956b-2d00c18b81a9>]\n",
      "[I] [16:57:11.550376] [<Future: finished, type: cuml.TfidfTransformer, key: _set_doc_stats-575721fd-1ff6-497f-a14a-846ec0ebb381>]\n",
      "[I] [16:57:11.550668] [<Future: finished, type: cuml.TfidfTransformer, key: _set_doc_stats-721f4962-5c1d-4eeb-8b7a-f36dc1ef58fb>]\n",
      "[I] [16:57:11.558791] [Delayed('_merge_stats_to_model-8a2ee944-6441-4082-b2b9-712f252933c9')]\n",
      "(20725971, 1048576)\n",
      "Workers:8, Sample Run:2, Finished loading data in 0.025051787s\n",
      "Workers:8, Sample Run:2, Finished preprocessing data in 0.023108671s\n",
      "Workers:8, Sample Run:2, Finished fitting HashVectorizer in 0.003891225s\n",
      "Workers:8, Sample Run:2, Finished fitting IDF Transformer in 33.019483393s\n"
     ]
    },
    {
     "name": "stderr",
     "output_type": "stream",
     "text": [
      " 60%|████████████████████████████████████████████████████████████████████████████████████████████████████████▍                                                                     | 3/5 [02:17<01:32, 46.08s/it]"
     ]
    },
    {
     "name": "stdout",
     "output_type": "stream",
     "text": [
      "Workers:8, Sample Run:2, Finished executing full pipeline in 38.913407873s\n"
     ]
    },
    {
     "name": "stderr",
     "output_type": "stream",
     "text": [
      "/home/nfs/anirband/anaconda3/envs/rapids-21.08/lib/python3.8/contextlib.py:120: UserWarning: Creating scratch directories is taking a surprisingly long time. This is often due to running workers on a network file system. Consider specifying a local-directory to point workers to write scratch data to a local disk.\n",
      "  next(self.gen)\n"
     ]
    },
    {
     "name": "stdout",
     "output_type": "stream",
     "text": [
      "# nnz: 0\n",
      "[I] [16:57:58.061236] [<Future: finished, type: cuml.TfidfTransformer, key: _set_doc_stats-1e1b80cc-df4c-498e-96c0-7e5c0eb73556>]\n",
      "[I] [16:57:58.061355] [<Future: finished, type: cuml.TfidfTransformer, key: _set_doc_stats-29a58ac2-3565-4b1e-816a-9c8512154cd0>]\n",
      "[I] [16:57:58.061724] [<Future: finished, type: cuml.TfidfTransformer, key: _set_doc_stats-4e86a79b-2c9a-4a2a-93bf-0bd9ae80d9a8>]\n",
      "[I] [16:57:58.061862] [<Future: finished, type: cuml.TfidfTransformer, key: _set_doc_stats-b5f72863-db0a-46c5-875e-fc5e7d015cba>]\n",
      "[I] [16:57:58.062629] [Delayed('_merge_stats_to_model-043d12a4-6adf-4654-9456-5b526cc63599')]\n",
      "[I] [16:57:58.062858] [<Future: finished, type: cuml.TfidfTransformer, key: _set_doc_stats-f2faed5a-eb24-43a8-9759-038ad7a739fc>]\n",
      "[I] [16:57:58.063497] [Delayed('_merge_stats_to_model-1807f604-30b8-41f8-983d-b6b3c6e9b8e1')]\n",
      "[I] [16:57:58.063752] [<Future: finished, type: cuml.TfidfTransformer, key: _set_doc_stats-ac30c1e1-12c0-4692-8d0e-f12896bd57bb>]\n",
      "[I] [16:57:58.083983] [<Future: finished, type: cuml.TfidfTransformer, key: _set_doc_stats-1e1b80cc-df4c-498e-96c0-7e5c0eb73556>]\n",
      "[I] [16:57:58.084261] [<Future: finished, type: cuml.TfidfTransformer, key: _set_doc_stats-29a58ac2-3565-4b1e-816a-9c8512154cd0>]\n",
      "[I] [16:57:58.084435] [<Future: finished, type: cuml.TfidfTransformer, key: _set_doc_stats-4e86a79b-2c9a-4a2a-93bf-0bd9ae80d9a8>]\n",
      "[I] [16:57:58.084555] [<Future: finished, type: cuml.TfidfTransformer, key: _set_doc_stats-b5f72863-db0a-46c5-875e-fc5e7d015cba>]\n",
      "[I] [16:57:58.084671] [<Future: finished, type: cuml.TfidfTransformer, key: _merge_stats_to_model-043d12a4-6adf-4654-9456-5b526cc63599>]\n",
      "[I] [16:57:58.084788] [<Future: finished, type: cuml.TfidfTransformer, key: _set_doc_stats-f2faed5a-eb24-43a8-9759-038ad7a739fc>]\n",
      "[I] [16:57:58.084921] [<Future: finished, type: cuml.TfidfTransformer, key: _merge_stats_to_model-1807f604-30b8-41f8-983d-b6b3c6e9b8e1>]\n",
      "[I] [16:57:58.085157] [<Future: finished, type: cuml.TfidfTransformer, key: _set_doc_stats-ac30c1e1-12c0-4692-8d0e-f12896bd57bb>]\n",
      "[I] [16:57:58.093002] [Delayed('_merge_stats_to_model-98eccb5f-b538-40b7-963f-e579b2f7f926')]\n",
      "(20725971, 1048576)\n",
      "Workers:8, Sample Run:3, Finished loading data in 0.022458618s\n",
      "Workers:8, Sample Run:3, Finished preprocessing data in 0.024919014s\n",
      "Workers:8, Sample Run:3, Finished fitting HashVectorizer in 0.00434571s\n",
      "Workers:8, Sample Run:3, Finished fitting IDF Transformer in 33.127602294s\n"
     ]
    },
    {
     "name": "stderr",
     "output_type": "stream",
     "text": [
      " 80%|███████████████████████████████████████████████████████████████████████████████████████████████████████████████████████████████████████████▏                                  | 4/5 [03:04<00:46, 46.25s/it]"
     ]
    },
    {
     "name": "stdout",
     "output_type": "stream",
     "text": [
      "Workers:8, Sample Run:3, Finished executing full pipeline in 38.983134833s\n",
      "# nnz: 0\n",
      "[I] [16:58:44.689472] [Delayed('_merge_stats_to_model-5703ebaf-01bf-4218-9f46-9a40c2d5889e')]\n",
      "[I] [16:58:44.692576] [Delayed('_merge_stats_to_model-c36ea4a4-8f3a-4442-8991-1b7fc280a535')]\n",
      "[I] [16:58:44.692832] [<Future: finished, type: cuml.TfidfTransformer, key: _set_doc_stats-e01c4fc1-d746-47cc-a86e-a012dad5b688>]\n",
      "[I] [16:58:44.692966] [<Future: finished, type: cuml.TfidfTransformer, key: _set_doc_stats-adeb72a1-17f0-4824-a9cd-a76d8f33e11b>]\n",
      "[I] [16:58:44.693086] [<Future: finished, type: cuml.TfidfTransformer, key: _set_doc_stats-8d5b33b1-ca2a-414c-9633-adad0ea342c1>]\n",
      "[I] [16:58:44.693203] [<Future: finished, type: cuml.TfidfTransformer, key: _set_doc_stats-3f5ac9ad-a5c4-4f59-bd44-9d77fe283391>]\n",
      "[I] [16:58:44.693336] [<Future: finished, type: cuml.TfidfTransformer, key: _set_doc_stats-742b92e3-67a2-42b1-a088-993eb904348d>]\n",
      "[I] [16:58:44.693454] [<Future: finished, type: cuml.TfidfTransformer, key: _set_doc_stats-f156d717-482c-428c-89c7-8234d44cb106>]\n",
      "[I] [16:58:44.717437] [<Future: finished, type: cuml.TfidfTransformer, key: _merge_stats_to_model-5703ebaf-01bf-4218-9f46-9a40c2d5889e>]\n",
      "[I] [16:58:44.717672] [<Future: finished, type: cuml.TfidfTransformer, key: _merge_stats_to_model-c36ea4a4-8f3a-4442-8991-1b7fc280a535>]\n",
      "[I] [16:58:44.717820] [<Future: finished, type: cuml.TfidfTransformer, key: _set_doc_stats-e01c4fc1-d746-47cc-a86e-a012dad5b688>]\n",
      "[I] [16:58:44.717939] [<Future: finished, type: cuml.TfidfTransformer, key: _set_doc_stats-adeb72a1-17f0-4824-a9cd-a76d8f33e11b>]\n",
      "[I] [16:58:44.718053] [<Future: finished, type: cuml.TfidfTransformer, key: _set_doc_stats-8d5b33b1-ca2a-414c-9633-adad0ea342c1>]\n",
      "[I] [16:58:44.718168] [<Future: finished, type: cuml.TfidfTransformer, key: _set_doc_stats-3f5ac9ad-a5c4-4f59-bd44-9d77fe283391>]\n",
      "[I] [16:58:44.718287] [<Future: finished, type: cuml.TfidfTransformer, key: _set_doc_stats-742b92e3-67a2-42b1-a088-993eb904348d>]\n",
      "[I] [16:58:44.718417] [<Future: finished, type: cuml.TfidfTransformer, key: _set_doc_stats-f156d717-482c-428c-89c7-8234d44cb106>]\n",
      "[I] [16:58:44.725868] [Delayed('_merge_stats_to_model-8b92d618-39b9-4b5f-879d-839dc7ad17f5')]\n",
      "(20725971, 1048576)\n",
      "Workers:8, Sample Run:4, Finished loading data in 0.046362493s\n",
      "Workers:8, Sample Run:4, Finished preprocessing data in 0.022653245s\n",
      "Workers:8, Sample Run:4, Finished fitting HashVectorizer in 0.004071226s\n",
      "Workers:8, Sample Run:4, Finished fitting IDF Transformer in 32.134858417s\n"
     ]
    },
    {
     "name": "stderr",
     "output_type": "stream",
     "text": [
      "100%|██████████████████████████████████████████████████████████████████████████████████████████████████████████████████████████████████████████████████████████████████████████████| 5/5 [03:51<00:00, 46.21s/it]"
     ]
    },
    {
     "name": "stdout",
     "output_type": "stream",
     "text": [
      "Workers:8, Sample Run:4, Finished executing full pipeline in 38.070695748s\n",
      "CPU times: user 50.7 s, sys: 20 s, total: 1min 10s\n",
      "Wall time: 22min 54s\n"
     ]
    },
    {
     "name": "stderr",
     "output_type": "stream",
     "text": [
      "\n"
     ]
    }
   ],
   "source": [
    "%%time\n",
    "performance_numbers(client, parquet_path=parquet_path, worker_counts=worker_counts, samples=samples, result_path=result_path, benchmark=False)"
   ]
  },
  {
   "cell_type": "code",
   "execution_count": 13,
   "id": "5a9ebbdb-002a-41c7-aa6e-4ad3c3fa45f9",
   "metadata": {},
   "outputs": [
    {
     "data": {
      "image/png": "[encoded data removed]",
      "text/plain": [
       "<Figure size 1200x800 with 1 Axes>"
      ]
     },
     "metadata": {},
     "output_type": "display_data"
    }
   ],
   "source": [
    "data, melt_data = visualize_data(result_path)        "
   ]
  },
  {
   "cell_type": "code",
   "execution_count": 14,
   "id": "7cf2bf60-f3d2-4027-9417-8dcc15249c8d",
   "metadata": {},
   "outputs": [],
   "source": [
    "groupby = data.groupby(\"n_workers\").agg(['mean', 'std', 'count'])"
   ]
  },
  {
   "cell_type": "code",
   "execution_count": 15,
   "id": "0fce3774-81dd-4029-b8d5-63a1707f006b",
   "metadata": {},
   "outputs": [
    {
     "data": {
      "text/html": [
       "<div>\n",
       "<style scoped>\n",
       "    .dataframe tbody tr th:only-of-type {\n",
       "        vertical-align: middle;\n",
       "    }\n",
       "\n",
       "    .dataframe tbody tr th {\n",
       "        vertical-align: top;\n",
       "    }\n",
       "\n",
       "    .dataframe thead tr th {\n",
       "        text-align: left;\n",
       "    }\n",
       "\n",
       "    .dataframe thead tr:last-of-type th {\n",
       "        text-align: right;\n",
       "    }\n",
       "</style>\n",
       "<table border=\"1\" class=\"dataframe\">\n",
       "  <thead>\n",
       "    <tr>\n",
       "      <th></th>\n",
       "      <th colspan=\"3\" halign=\"left\">Unnamed: 0</th>\n",
       "      <th colspan=\"3\" halign=\"left\">overall</th>\n",
       "      <th colspan=\"3\" halign=\"left\">data_read</th>\n",
       "      <th>hashing_vectorizer</th>\n",
       "      <th>...</th>\n",
       "      <th>tfidf_transformer</th>\n",
       "      <th colspan=\"3\" halign=\"left\">data_preprocessing</th>\n",
       "      <th colspan=\"3\" halign=\"left\">nrows</th>\n",
       "      <th colspan=\"3\" halign=\"left\">sample_run</th>\n",
       "    </tr>\n",
       "    <tr>\n",
       "      <th></th>\n",
       "      <th>mean</th>\n",
       "      <th>std</th>\n",
       "      <th>count</th>\n",
       "      <th>mean</th>\n",
       "      <th>std</th>\n",
       "      <th>count</th>\n",
       "      <th>mean</th>\n",
       "      <th>std</th>\n",
       "      <th>count</th>\n",
       "      <th>mean</th>\n",
       "      <th>...</th>\n",
       "      <th>count</th>\n",
       "      <th>mean</th>\n",
       "      <th>std</th>\n",
       "      <th>count</th>\n",
       "      <th>mean</th>\n",
       "      <th>std</th>\n",
       "      <th>count</th>\n",
       "      <th>mean</th>\n",
       "      <th>std</th>\n",
       "      <th>count</th>\n",
       "    </tr>\n",
       "    <tr>\n",
       "      <th>n_workers</th>\n",
       "      <th></th>\n",
       "      <th></th>\n",
       "      <th></th>\n",
       "      <th></th>\n",
       "      <th></th>\n",
       "      <th></th>\n",
       "      <th></th>\n",
       "      <th></th>\n",
       "      <th></th>\n",
       "      <th></th>\n",
       "      <th></th>\n",
       "      <th></th>\n",
       "      <th></th>\n",
       "      <th></th>\n",
       "      <th></th>\n",
       "      <th></th>\n",
       "      <th></th>\n",
       "      <th></th>\n",
       "      <th></th>\n",
       "      <th></th>\n",
       "      <th></th>\n",
       "    </tr>\n",
       "  </thead>\n",
       "  <tbody>\n",
       "    <tr>\n",
       "      <th>2</th>\n",
       "      <td>2</td>\n",
       "      <td>1.581139</td>\n",
       "      <td>5</td>\n",
       "      <td>95.888180</td>\n",
       "      <td>3.102127</td>\n",
       "      <td>5</td>\n",
       "      <td>0.020495</td>\n",
       "      <td>0.002437</td>\n",
       "      <td>5</td>\n",
       "      <td>0.003790</td>\n",
       "      <td>...</td>\n",
       "      <td>5</td>\n",
       "      <td>0.023397</td>\n",
       "      <td>0.001112</td>\n",
       "      <td>5</td>\n",
       "      <td>20725971</td>\n",
       "      <td>0.0</td>\n",
       "      <td>5</td>\n",
       "      <td>2</td>\n",
       "      <td>1.581139</td>\n",
       "      <td>5</td>\n",
       "    </tr>\n",
       "    <tr>\n",
       "      <th>4</th>\n",
       "      <td>7</td>\n",
       "      <td>1.581139</td>\n",
       "      <td>5</td>\n",
       "      <td>49.550530</td>\n",
       "      <td>1.397983</td>\n",
       "      <td>5</td>\n",
       "      <td>0.021843</td>\n",
       "      <td>0.003660</td>\n",
       "      <td>5</td>\n",
       "      <td>0.004023</td>\n",
       "      <td>...</td>\n",
       "      <td>5</td>\n",
       "      <td>0.024636</td>\n",
       "      <td>0.002597</td>\n",
       "      <td>5</td>\n",
       "      <td>20725971</td>\n",
       "      <td>0.0</td>\n",
       "      <td>5</td>\n",
       "      <td>2</td>\n",
       "      <td>1.581139</td>\n",
       "      <td>5</td>\n",
       "    </tr>\n",
       "    <tr>\n",
       "      <th>6</th>\n",
       "      <td>12</td>\n",
       "      <td>1.581139</td>\n",
       "      <td>5</td>\n",
       "      <td>37.132006</td>\n",
       "      <td>1.383921</td>\n",
       "      <td>5</td>\n",
       "      <td>0.021829</td>\n",
       "      <td>0.002773</td>\n",
       "      <td>5</td>\n",
       "      <td>0.003831</td>\n",
       "      <td>...</td>\n",
       "      <td>5</td>\n",
       "      <td>0.023183</td>\n",
       "      <td>0.000779</td>\n",
       "      <td>5</td>\n",
       "      <td>20725971</td>\n",
       "      <td>0.0</td>\n",
       "      <td>5</td>\n",
       "      <td>2</td>\n",
       "      <td>1.581139</td>\n",
       "      <td>5</td>\n",
       "    </tr>\n",
       "    <tr>\n",
       "      <th>8</th>\n",
       "      <td>17</td>\n",
       "      <td>1.581139</td>\n",
       "      <td>5</td>\n",
       "      <td>38.398050</td>\n",
       "      <td>0.657378</td>\n",
       "      <td>5</td>\n",
       "      <td>0.027137</td>\n",
       "      <td>0.010890</td>\n",
       "      <td>5</td>\n",
       "      <td>0.004023</td>\n",
       "      <td>...</td>\n",
       "      <td>5</td>\n",
       "      <td>0.023591</td>\n",
       "      <td>0.001426</td>\n",
       "      <td>5</td>\n",
       "      <td>20725971</td>\n",
       "      <td>0.0</td>\n",
       "      <td>5</td>\n",
       "      <td>2</td>\n",
       "      <td>1.581139</td>\n",
       "      <td>5</td>\n",
       "    </tr>\n",
       "  </tbody>\n",
       "</table>\n",
       "<p>4 rows × 24 columns</p>\n",
       "</div>"
      ],
      "text/plain": [
       "          Unnamed: 0                    overall                 data_read  \\\n",
       "                mean       std count       mean       std count      mean   \n",
       "n_workers                                                                   \n",
       "2                  2  1.581139     5  95.888180  3.102127     5  0.020495   \n",
       "4                  7  1.581139     5  49.550530  1.397983     5  0.021843   \n",
       "6                 12  1.581139     5  37.132006  1.383921     5  0.021829   \n",
       "8                 17  1.581139     5  38.398050  0.657378     5  0.027137   \n",
       "\n",
       "                          hashing_vectorizer  ... tfidf_transformer  \\\n",
       "                std count               mean  ...             count   \n",
       "n_workers                                     ...                     \n",
       "2          0.002437     5           0.003790  ...                 5   \n",
       "4          0.003660     5           0.004023  ...                 5   \n",
       "6          0.002773     5           0.003831  ...                 5   \n",
       "8          0.010890     5           0.004023  ...                 5   \n",
       "\n",
       "          data_preprocessing                     nrows            sample_run  \\\n",
       "                        mean       std count      mean  std count       mean   \n",
       "n_workers                                                                      \n",
       "2                   0.023397  0.001112     5  20725971  0.0     5          2   \n",
       "4                   0.024636  0.002597     5  20725971  0.0     5          2   \n",
       "6                   0.023183  0.000779     5  20725971  0.0     5          2   \n",
       "8                   0.023591  0.001426     5  20725971  0.0     5          2   \n",
       "\n",
       "                           \n",
       "                std count  \n",
       "n_workers                  \n",
       "2          1.581139     5  \n",
       "4          1.581139     5  \n",
       "6          1.581139     5  \n",
       "8          1.581139     5  \n",
       "\n",
       "[4 rows x 24 columns]"
      ]
     },
     "execution_count": 15,
     "metadata": {},
     "output_type": "execute_result"
    }
   ],
   "source": [
    "groupby"
   ]
  },
  {
   "cell_type": "code",
   "execution_count": 16,
   "id": "aec87629-1843-4b99-97d3-c33baea7dcc4",
   "metadata": {},
   "outputs": [],
   "source": [
    "client.close()\n",
    "cluster.close()"
   ]
  },
  {
   "cell_type": "code",
   "execution_count": null,
   "id": "df34f385-6187-4753-adc3-cd9bc2fe90b5",
   "metadata": {},
   "outputs": [],
   "source": []
  }
 ],
 "metadata": {
  "kernelspec": {
   "display_name": "Python 3 (ipykernel)",
   "language": "python",
   "name": "python3"
  },
  "language_info": {
   "codemirror_mode": {
    "name": "ipython",
    "version": 3
   },
   "file_extension": ".py",
   "mimetype": "text/x-python",
   "name": "python",
   "nbconvert_exporter": "python",
   "pygments_lexer": "ipython3",
   "version": "3.8.10"
  }
 },
 "nbformat": 4,
 "nbformat_minor": 5
}
