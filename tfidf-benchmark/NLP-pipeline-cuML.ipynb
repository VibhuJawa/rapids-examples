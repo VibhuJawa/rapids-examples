{
 "cells": [
  {
   "cell_type": "code",
   "execution_count": 1,
   "id": "639f8a3c-70da-4dd3-8e2e-655452dfa306",
   "metadata": {},
   "outputs": [],
   "source": [
    "%matplotlib inline\n",
    "import cupy as cp\n",
    "from cuml.feature_extraction.text import HashingVectorizer\n",
    "from dask_cuda import LocalCUDACluster\n",
    "from dask.distributed import Client, wait\n",
    "from cuml.dask.common import to_sparse_dask_array\n",
    "from cuml.dask.feature_extraction.text import TfidfTransformer\n",
    "import dask_cudf\n",
    "import cudf\n",
    "import nltk\n",
    "import dask\n",
    "from timeit import default_timer as timer\n",
    "import time\n",
    "import pickle\n",
    "from tqdm import tqdm\n",
    "import pandas as pd\n",
    "import seaborn as sns\n",
    "import matplotlib.pyplot as plt"
   ]
  },
  {
   "cell_type": "code",
   "execution_count": 2,
   "id": "4c655662-8a6d-4b8a-befa-65ee3e5a329f",
   "metadata": {},
   "outputs": [],
   "source": [
    "class SimpleTimer:\n",
    "    def __init__(self):\n",
    "        self.start = None\n",
    "        self.end = None\n",
    "        self.elapsed = None\n",
    "\n",
    "    def __enter__(self):\n",
    "        self.start = time.perf_counter_ns()\n",
    "        return self\n",
    "\n",
    "    def __exit__(self, exc_type, exc_val, exc_tb):\n",
    "        self.end = time.perf_counter_ns()\n",
    "        self.elapsed = self.end - self.start\n",
    "\n",
    "def visualize_data(path):\n",
    "\n",
    "    data = pickle.load(open(path, \"rb\"))\n",
    "    df_list = [[\"n_workers\", \"sample_run\", \"overall\", \"data_read\", \"data_preprocessing\", \"hashing_vectorizer\", \"tfidf_transformer\", \"nrows\"]]\n",
    "    for n_workers in data:\n",
    "        temp_data = data[n_workers]\n",
    "        if isinstance(temp_data, float):\n",
    "            continue\n",
    "        results = temp_data[\"sample_run_results\"]\n",
    "        for sample_run in range(len(results)):\n",
    "            timings = results[sample_run]\n",
    "            df_list.append([n_workers, sample_run, timings[\"overall\"]/1e9, \n",
    "                           timings[\"data_read\"]/1e9, timings[\"data_preprocessing\"]/1e9,timings[\"hashing_vectorizer\"]/1e9, \n",
    "                           timings[\"tfidf_transformer\"]/1e9, timings[\"nrows\"]])\n",
    "    \n",
    "    perf_df = pd.DataFrame(df_list[1:], columns=df_list[0])\n",
    "    fig=plt.figure(figsize=(12,8), dpi= 100, facecolor='w', edgecolor='k')\n",
    "    dd = pd.melt(perf_df, \n",
    "                 id_vars=['n_workers'],\n",
    "                 value_vars=['overall','data_read', 'data_preprocessing', 'hashing_vectorizer','tfidf_transformer'],\n",
    "                 var_name='latency')\n",
    "    sns.boxplot(x='latency',y='value',data=dd, orient=\"v\", hue=\"n_workers\")\n",
    "    plt.show()\n",
    "    return perf_df, dd "
   ]
  },
  {
   "cell_type": "code",
   "execution_count": 3,
   "id": "7ecaf6e6-b719-4a57-8c6a-426f30212c23",
   "metadata": {},
   "outputs": [
    {
     "name": "stderr",
     "output_type": "stream",
     "text": [
      "[nltk_data] Downloading package stopwords to /root/nltk_data...\n",
      "[nltk_data]   Package stopwords is already up-to-date!\n"
     ]
    }
   ],
   "source": [
    "nltk.download('stopwords')\n",
    "STOPWORDS = nltk.corpus.stopwords.words('english')\n",
    "PUNCTUATIONS = [ '!', '\"', '#', '$', '%', '&', '(', ')', '*', '+', '-', '.', '/',  '\\\\', ':', ';', '<', '=', '>',\n",
    "           '?', '@', '[', ']', '^', '_', '`', '{', '|', '}', '\\t','\\n',\"'\",\",\",'~' , '—']"
   ]
  },
  {
   "cell_type": "code",
   "execution_count": 4,
   "id": "a1fb9b87-94af-49f9-b00d-682305b7c802",
   "metadata": {},
   "outputs": [],
   "source": [
    "# Create a local CUDA cluster\n",
    "cluster = LocalCUDACluster(CUDA_VISIBLE_DEVICES=\"2,3,4,5,6,7\")\n",
    "client = Client(cluster)"
   ]
  },
  {
   "cell_type": "code",
   "execution_count": 5,
   "id": "a9b987af-61e4-4693-bfc1-5ba6cb96ec24",
   "metadata": {},
   "outputs": [
    {
     "data": {
      "text/html": [
       "\n",
       "            <div>\n",
       "                <div style=\"\n",
       "                    width: 24px;\n",
       "                    height: 24px;\n",
       "                    background-color: #e1e1e1;\n",
       "                    border: 3px solid #9D9D9D;\n",
       "                    border-radius: 5px;\n",
       "                    position: absolute;\"> </div>\n",
       "                <div style=\"margin-left: 48px;\">\n",
       "                    <h3 style=\"margin-bottom: 0px;\">Client</h3>\n",
       "                    <p style=\"color: #9D9D9D; margin-bottom: 0px;\">Client-e8e95506-ef0c-11eb-8bf0-0242ac110003</p>\n",
       "                    <table style=\"width: 100%; text-align: left;\">\n",
       "                    \n",
       "                <tr>\n",
       "                    <td style=\"text-align: left;\"><strong>Connection method:</strong> Cluster object</td>\n",
       "                    <td style=\"text-align: left;\"><strong>Cluster type:</strong> LocalCUDACluster</td>\n",
       "                </tr>\n",
       "                \n",
       "                <tr>\n",
       "                    <td style=\"text-align: left;\">\n",
       "                        <strong>Dashboard: </strong>\n",
       "                        <a href=\"http://127.0.0.1:8787/status\">http://127.0.0.1:8787/status</a>\n",
       "                    </td>\n",
       "                    <td style=\"text-align: left;\"></td>\n",
       "                </tr>\n",
       "                \n",
       "                    </table>\n",
       "                    \n",
       "                <details>\n",
       "                <summary style=\"margin-bottom: 20px;\"><h3 style=\"display: inline;\">Cluster Info</h3></summary>\n",
       "                \n",
       "            <div class=\"jp-RenderedHTMLCommon jp-RenderedHTML jp-mod-trusted jp-OutputArea-output\">\n",
       "                <div style=\"\n",
       "                    width: 24px;\n",
       "                    height: 24px;\n",
       "                    background-color: #e1e1e1;\n",
       "                    border: 3px solid #9D9D9D;\n",
       "                    border-radius: 5px;\n",
       "                    position: absolute;\"> </div>\n",
       "                <div style=\"margin-left: 48px;\">\n",
       "                    <h3 style=\"margin-bottom: 0px; margin-top: 0px;\">LocalCUDACluster</h3>\n",
       "                    <p style=\"color: #9D9D9D; margin-bottom: 0px;\">6d60fc16</p>\n",
       "                    <table style=\"width: 100%; text-align: left;\">\n",
       "                    \n",
       "            <tr>\n",
       "                <td style=\"text-align: left;\"><strong>Status:</strong> running</td>\n",
       "                <td style=\"text-align: left;\"><strong>Using processes:</strong> True</td>\n",
       "            </tr>\n",
       "        \n",
       "            <tr>\n",
       "                <td style=\"text-align: left;\">\n",
       "                    <strong>Dashboard:</strong> <a href=\"http://127.0.0.1:8787/status\">http://127.0.0.1:8787/status</a>\n",
       "                </td>\n",
       "                <td style=\"text-align: left;\"><strong>Workers:</strong> 6</td>\n",
       "            </tr>\n",
       "            <tr>\n",
       "                <td style=\"text-align: left;\">\n",
       "                    <strong>Total threads:</strong>\n",
       "                    6\n",
       "                </td>\n",
       "                <td style=\"text-align: left;\">\n",
       "                    <strong>Total memory:</strong>\n",
       "                    0.98 TiB\n",
       "                </td>\n",
       "            </tr>\n",
       "        \n",
       "                    </table>\n",
       "                    <details>\n",
       "                    <summary style=\"margin-bottom: 20px;\"><h3 style=\"display: inline;\">Scheduler Info</h3></summary>\n",
       "                    \n",
       "        <div style=\"\">\n",
       "            \n",
       "            <div>\n",
       "                <div style=\"\n",
       "                    width: 24px;\n",
       "                    height: 24px;\n",
       "                    background-color: #FFF7E5;\n",
       "                    border: 3px solid #FF6132;\n",
       "                    border-radius: 5px;\n",
       "                    position: absolute;\"> </div>\n",
       "                <div style=\"margin-left: 48px;\">\n",
       "                    <h3 style=\"margin-bottom: 0px;\">Scheduler</h3>\n",
       "                    <p style=\"color: #9D9D9D; margin-bottom: 0px;\">Scheduler-b37bf1a6-f7ce-47f6-8bb8-5eb5aa4cb28d</p>\n",
       "                    <table style=\"width: 100%; text-align: left;\">\n",
       "                        <tr>\n",
       "                            <td style=\"text-align: left;\"><strong>Comm:</strong> tcp://127.0.0.1:35921</td>\n",
       "                            <td style=\"text-align: left;\"><strong>Workers:</strong> 6</td>\n",
       "                        </tr>\n",
       "                        <tr>\n",
       "                            <td style=\"text-align: left;\">\n",
       "                                <strong>Dashboard:</strong> <a href=\"http://127.0.0.1:8787/status\">http://127.0.0.1:8787/status</a>\n",
       "                            </td>\n",
       "                            <td style=\"text-align: left;\">\n",
       "                                <strong>Total threads:</strong>\n",
       "                                6\n",
       "                            </td>\n",
       "                        </tr>\n",
       "                        <tr>\n",
       "                            <td style=\"text-align: left;\">\n",
       "                                <strong>Started:</strong>\n",
       "                                Just now\n",
       "                            </td>\n",
       "                            <td style=\"text-align: left;\">\n",
       "                                <strong>Total memory:</strong>\n",
       "                                0.98 TiB\n",
       "                            </td>\n",
       "                        </tr>\n",
       "                    </table>\n",
       "                </div>\n",
       "            </div>\n",
       "        \n",
       "            <details style=\"margin-left: 48px;\">\n",
       "            <summary style=\"margin-bottom: 20px;\"><h3 style=\"display: inline;\">Workers</h3></summary>\n",
       "            \n",
       "            <div style=\"margin-bottom: 20px;\">\n",
       "                <div style=\"width: 24px;\n",
       "                            height: 24px;\n",
       "                            background-color: #DBF5FF;\n",
       "                            border: 3px solid #4CC9FF;\n",
       "                            border-radius: 5px;\n",
       "                            position: absolute;\"> </div>\n",
       "                <div style=\"margin-left: 48px;\">\n",
       "                <details>\n",
       "                    <summary>\n",
       "                        <h4 style=\"margin-bottom: 0px; display: inline;\">Worker: 2</h4>\n",
       "                    </summary>\n",
       "                    <table style=\"width: 100%; text-align: left;\">\n",
       "                        <tr>\n",
       "                            <td style=\"text-align: left;\"><strong>Comm: </strong> tcp://127.0.0.1:33995</td>\n",
       "                            <td style=\"text-align: left;\"><strong>Total threads: </strong> 1</td>\n",
       "                        </tr>\n",
       "                        <tr>\n",
       "                            <td style=\"text-align: left;\">\n",
       "                                <strong>Dashboard: </strong>\n",
       "                                <a href=\"http://127.0.0.1:36811/status\">http://127.0.0.1:36811/status</a>\n",
       "                            </td>\n",
       "                            <td style=\"text-align: left;\">\n",
       "                                <strong>Memory: </strong>\n",
       "                                167.97 GiB\n",
       "                            </td>\n",
       "                        </tr>\n",
       "                        <tr>\n",
       "                            <td style=\"text-align: left;\"><strong>Nanny: </strong> tcp://127.0.0.1:41931</td>\n",
       "                            <td style=\"text-align: left;\"></td>\n",
       "                        </tr>\n",
       "                        <tr>\n",
       "                            <td colspan=\"2\" style=\"text-align: left;\">\n",
       "                                <strong>Local directory: </strong>\n",
       "                                /rapids/notebooks/host/nv-tfidf-vs-spark/dask-worker-space/worker-_j922v39\n",
       "                            </td>\n",
       "                        </tr>\n",
       "                        \n",
       "                <tr>\n",
       "                    <td style=\"text-align: left;\">\n",
       "                        <strong>GPU: </strong>Tesla V100-SXM2-32GB\n",
       "                    </td>\n",
       "                    <td style=\"text-align: left;\">\n",
       "                        <strong>GPU memory: </strong>\n",
       "                        31.75 GiB\n",
       "                    </td>\n",
       "                </tr>\n",
       "                \n",
       "                        \n",
       "                    </table>\n",
       "                </details>\n",
       "                </div>\n",
       "            </div>\n",
       "            \n",
       "            <div style=\"margin-bottom: 20px;\">\n",
       "                <div style=\"width: 24px;\n",
       "                            height: 24px;\n",
       "                            background-color: #DBF5FF;\n",
       "                            border: 3px solid #4CC9FF;\n",
       "                            border-radius: 5px;\n",
       "                            position: absolute;\"> </div>\n",
       "                <div style=\"margin-left: 48px;\">\n",
       "                <details>\n",
       "                    <summary>\n",
       "                        <h4 style=\"margin-bottom: 0px; display: inline;\">Worker: 3</h4>\n",
       "                    </summary>\n",
       "                    <table style=\"width: 100%; text-align: left;\">\n",
       "                        <tr>\n",
       "                            <td style=\"text-align: left;\"><strong>Comm: </strong> tcp://127.0.0.1:43919</td>\n",
       "                            <td style=\"text-align: left;\"><strong>Total threads: </strong> 1</td>\n",
       "                        </tr>\n",
       "                        <tr>\n",
       "                            <td style=\"text-align: left;\">\n",
       "                                <strong>Dashboard: </strong>\n",
       "                                <a href=\"http://127.0.0.1:39001/status\">http://127.0.0.1:39001/status</a>\n",
       "                            </td>\n",
       "                            <td style=\"text-align: left;\">\n",
       "                                <strong>Memory: </strong>\n",
       "                                167.97 GiB\n",
       "                            </td>\n",
       "                        </tr>\n",
       "                        <tr>\n",
       "                            <td style=\"text-align: left;\"><strong>Nanny: </strong> tcp://127.0.0.1:32957</td>\n",
       "                            <td style=\"text-align: left;\"></td>\n",
       "                        </tr>\n",
       "                        <tr>\n",
       "                            <td colspan=\"2\" style=\"text-align: left;\">\n",
       "                                <strong>Local directory: </strong>\n",
       "                                /rapids/notebooks/host/nv-tfidf-vs-spark/dask-worker-space/worker-127ac9kg\n",
       "                            </td>\n",
       "                        </tr>\n",
       "                        \n",
       "                <tr>\n",
       "                    <td style=\"text-align: left;\">\n",
       "                        <strong>GPU: </strong>Tesla V100-SXM2-32GB\n",
       "                    </td>\n",
       "                    <td style=\"text-align: left;\">\n",
       "                        <strong>GPU memory: </strong>\n",
       "                        31.75 GiB\n",
       "                    </td>\n",
       "                </tr>\n",
       "                \n",
       "                        \n",
       "                    </table>\n",
       "                </details>\n",
       "                </div>\n",
       "            </div>\n",
       "            \n",
       "            <div style=\"margin-bottom: 20px;\">\n",
       "                <div style=\"width: 24px;\n",
       "                            height: 24px;\n",
       "                            background-color: #DBF5FF;\n",
       "                            border: 3px solid #4CC9FF;\n",
       "                            border-radius: 5px;\n",
       "                            position: absolute;\"> </div>\n",
       "                <div style=\"margin-left: 48px;\">\n",
       "                <details>\n",
       "                    <summary>\n",
       "                        <h4 style=\"margin-bottom: 0px; display: inline;\">Worker: 4</h4>\n",
       "                    </summary>\n",
       "                    <table style=\"width: 100%; text-align: left;\">\n",
       "                        <tr>\n",
       "                            <td style=\"text-align: left;\"><strong>Comm: </strong> tcp://127.0.0.1:33565</td>\n",
       "                            <td style=\"text-align: left;\"><strong>Total threads: </strong> 1</td>\n",
       "                        </tr>\n",
       "                        <tr>\n",
       "                            <td style=\"text-align: left;\">\n",
       "                                <strong>Dashboard: </strong>\n",
       "                                <a href=\"http://127.0.0.1:45525/status\">http://127.0.0.1:45525/status</a>\n",
       "                            </td>\n",
       "                            <td style=\"text-align: left;\">\n",
       "                                <strong>Memory: </strong>\n",
       "                                167.97 GiB\n",
       "                            </td>\n",
       "                        </tr>\n",
       "                        <tr>\n",
       "                            <td style=\"text-align: left;\"><strong>Nanny: </strong> tcp://127.0.0.1:41843</td>\n",
       "                            <td style=\"text-align: left;\"></td>\n",
       "                        </tr>\n",
       "                        <tr>\n",
       "                            <td colspan=\"2\" style=\"text-align: left;\">\n",
       "                                <strong>Local directory: </strong>\n",
       "                                /rapids/notebooks/host/nv-tfidf-vs-spark/dask-worker-space/worker-6g_rccj7\n",
       "                            </td>\n",
       "                        </tr>\n",
       "                        \n",
       "                <tr>\n",
       "                    <td style=\"text-align: left;\">\n",
       "                        <strong>GPU: </strong>Tesla V100-SXM2-32GB\n",
       "                    </td>\n",
       "                    <td style=\"text-align: left;\">\n",
       "                        <strong>GPU memory: </strong>\n",
       "                        31.75 GiB\n",
       "                    </td>\n",
       "                </tr>\n",
       "                \n",
       "                        \n",
       "                    </table>\n",
       "                </details>\n",
       "                </div>\n",
       "            </div>\n",
       "            \n",
       "            <div style=\"margin-bottom: 20px;\">\n",
       "                <div style=\"width: 24px;\n",
       "                            height: 24px;\n",
       "                            background-color: #DBF5FF;\n",
       "                            border: 3px solid #4CC9FF;\n",
       "                            border-radius: 5px;\n",
       "                            position: absolute;\"> </div>\n",
       "                <div style=\"margin-left: 48px;\">\n",
       "                <details>\n",
       "                    <summary>\n",
       "                        <h4 style=\"margin-bottom: 0px; display: inline;\">Worker: 5</h4>\n",
       "                    </summary>\n",
       "                    <table style=\"width: 100%; text-align: left;\">\n",
       "                        <tr>\n",
       "                            <td style=\"text-align: left;\"><strong>Comm: </strong> tcp://127.0.0.1:34937</td>\n",
       "                            <td style=\"text-align: left;\"><strong>Total threads: </strong> 1</td>\n",
       "                        </tr>\n",
       "                        <tr>\n",
       "                            <td style=\"text-align: left;\">\n",
       "                                <strong>Dashboard: </strong>\n",
       "                                <a href=\"http://127.0.0.1:43799/status\">http://127.0.0.1:43799/status</a>\n",
       "                            </td>\n",
       "                            <td style=\"text-align: left;\">\n",
       "                                <strong>Memory: </strong>\n",
       "                                167.97 GiB\n",
       "                            </td>\n",
       "                        </tr>\n",
       "                        <tr>\n",
       "                            <td style=\"text-align: left;\"><strong>Nanny: </strong> tcp://127.0.0.1:44559</td>\n",
       "                            <td style=\"text-align: left;\"></td>\n",
       "                        </tr>\n",
       "                        <tr>\n",
       "                            <td colspan=\"2\" style=\"text-align: left;\">\n",
       "                                <strong>Local directory: </strong>\n",
       "                                /rapids/notebooks/host/nv-tfidf-vs-spark/dask-worker-space/worker-6irbtgzk\n",
       "                            </td>\n",
       "                        </tr>\n",
       "                        \n",
       "                <tr>\n",
       "                    <td style=\"text-align: left;\">\n",
       "                        <strong>GPU: </strong>Tesla V100-SXM2-32GB\n",
       "                    </td>\n",
       "                    <td style=\"text-align: left;\">\n",
       "                        <strong>GPU memory: </strong>\n",
       "                        31.75 GiB\n",
       "                    </td>\n",
       "                </tr>\n",
       "                \n",
       "                        \n",
       "                    </table>\n",
       "                </details>\n",
       "                </div>\n",
       "            </div>\n",
       "            \n",
       "            <div style=\"margin-bottom: 20px;\">\n",
       "                <div style=\"width: 24px;\n",
       "                            height: 24px;\n",
       "                            background-color: #DBF5FF;\n",
       "                            border: 3px solid #4CC9FF;\n",
       "                            border-radius: 5px;\n",
       "                            position: absolute;\"> </div>\n",
       "                <div style=\"margin-left: 48px;\">\n",
       "                <details>\n",
       "                    <summary>\n",
       "                        <h4 style=\"margin-bottom: 0px; display: inline;\">Worker: 6</h4>\n",
       "                    </summary>\n",
       "                    <table style=\"width: 100%; text-align: left;\">\n",
       "                        <tr>\n",
       "                            <td style=\"text-align: left;\"><strong>Comm: </strong> tcp://127.0.0.1:32959</td>\n",
       "                            <td style=\"text-align: left;\"><strong>Total threads: </strong> 1</td>\n",
       "                        </tr>\n",
       "                        <tr>\n",
       "                            <td style=\"text-align: left;\">\n",
       "                                <strong>Dashboard: </strong>\n",
       "                                <a href=\"http://127.0.0.1:46167/status\">http://127.0.0.1:46167/status</a>\n",
       "                            </td>\n",
       "                            <td style=\"text-align: left;\">\n",
       "                                <strong>Memory: </strong>\n",
       "                                167.97 GiB\n",
       "                            </td>\n",
       "                        </tr>\n",
       "                        <tr>\n",
       "                            <td style=\"text-align: left;\"><strong>Nanny: </strong> tcp://127.0.0.1:37313</td>\n",
       "                            <td style=\"text-align: left;\"></td>\n",
       "                        </tr>\n",
       "                        <tr>\n",
       "                            <td colspan=\"2\" style=\"text-align: left;\">\n",
       "                                <strong>Local directory: </strong>\n",
       "                                /rapids/notebooks/host/nv-tfidf-vs-spark/dask-worker-space/worker-9gh__us1\n",
       "                            </td>\n",
       "                        </tr>\n",
       "                        \n",
       "                <tr>\n",
       "                    <td style=\"text-align: left;\">\n",
       "                        <strong>GPU: </strong>Tesla V100-SXM2-32GB\n",
       "                    </td>\n",
       "                    <td style=\"text-align: left;\">\n",
       "                        <strong>GPU memory: </strong>\n",
       "                        31.75 GiB\n",
       "                    </td>\n",
       "                </tr>\n",
       "                \n",
       "                        \n",
       "                    </table>\n",
       "                </details>\n",
       "                </div>\n",
       "            </div>\n",
       "            \n",
       "            <div style=\"margin-bottom: 20px;\">\n",
       "                <div style=\"width: 24px;\n",
       "                            height: 24px;\n",
       "                            background-color: #DBF5FF;\n",
       "                            border: 3px solid #4CC9FF;\n",
       "                            border-radius: 5px;\n",
       "                            position: absolute;\"> </div>\n",
       "                <div style=\"margin-left: 48px;\">\n",
       "                <details>\n",
       "                    <summary>\n",
       "                        <h4 style=\"margin-bottom: 0px; display: inline;\">Worker: 7</h4>\n",
       "                    </summary>\n",
       "                    <table style=\"width: 100%; text-align: left;\">\n",
       "                        <tr>\n",
       "                            <td style=\"text-align: left;\"><strong>Comm: </strong> tcp://127.0.0.1:34813</td>\n",
       "                            <td style=\"text-align: left;\"><strong>Total threads: </strong> 1</td>\n",
       "                        </tr>\n",
       "                        <tr>\n",
       "                            <td style=\"text-align: left;\">\n",
       "                                <strong>Dashboard: </strong>\n",
       "                                <a href=\"http://127.0.0.1:44003/status\">http://127.0.0.1:44003/status</a>\n",
       "                            </td>\n",
       "                            <td style=\"text-align: left;\">\n",
       "                                <strong>Memory: </strong>\n",
       "                                167.97 GiB\n",
       "                            </td>\n",
       "                        </tr>\n",
       "                        <tr>\n",
       "                            <td style=\"text-align: left;\"><strong>Nanny: </strong> tcp://127.0.0.1:45361</td>\n",
       "                            <td style=\"text-align: left;\"></td>\n",
       "                        </tr>\n",
       "                        <tr>\n",
       "                            <td colspan=\"2\" style=\"text-align: left;\">\n",
       "                                <strong>Local directory: </strong>\n",
       "                                /rapids/notebooks/host/nv-tfidf-vs-spark/dask-worker-space/worker-qn0fvfv7\n",
       "                            </td>\n",
       "                        </tr>\n",
       "                        \n",
       "                <tr>\n",
       "                    <td style=\"text-align: left;\">\n",
       "                        <strong>GPU: </strong>Tesla V100-SXM2-32GB\n",
       "                    </td>\n",
       "                    <td style=\"text-align: left;\">\n",
       "                        <strong>GPU memory: </strong>\n",
       "                        31.75 GiB\n",
       "                    </td>\n",
       "                </tr>\n",
       "                \n",
       "                        \n",
       "                    </table>\n",
       "                </details>\n",
       "                </div>\n",
       "            </div>\n",
       "            \n",
       "            </details>\n",
       "        </div>\n",
       "        \n",
       "                    </details>\n",
       "                </div>\n",
       "            </div>\n",
       "        \n",
       "                </details>\n",
       "                \n",
       "                </div>\n",
       "            </div>\n",
       "        "
      ],
      "text/plain": [
       "<Client: 'tcp://127.0.0.1:35921' processes=6 threads=6, memory=0.98 TiB>"
      ]
     },
     "execution_count": 5,
     "metadata": {},
     "output_type": "execute_result"
    }
   ],
   "source": [
    "client"
   ]
  },
  {
   "cell_type": "code",
   "execution_count": 6,
   "id": "41316782-0c62-48ad-960d-470d4e4ecd25",
   "metadata": {},
   "outputs": [],
   "source": [
    "def scale_workers(client, n_workers, timeout=300):\n",
    "    client.cluster.scale(n_workers)\n",
    "    \n",
    "    m = len(client.has_what().keys())    \n",
    "    start = end = time.perf_counter_ns()\n",
    "    while ((m != n_workers) and (((end - start) / 1e9) < timeout) ):\n",
    "        time.sleep(5)\n",
    "        m = len(client.has_what().keys())\n",
    "        \n",
    "        end = time.perf_counter_ns()\n",
    "        \n",
    "    if (((end - start) / 1e9) >= timeout):\n",
    "        raise RuntimeError(f\"Failed to rescale cluster in {timeout} sec.\"\n",
    "              \"Try increasing timeout for very large containers, and verify available compute resources.\")\n",
    "\n",
    "def text_preprocessor(s):\n",
    "    return (s.str.lower()\n",
    "             .str.replace(PUNCTUATIONS, [\" \"]*len(PUNCTUATIONS), regex=False)\n",
    "             .str.replace_tokens(STOPWORDS, \"\")\n",
    "             .str.normalize_spaces()\n",
    "             .str.strip())\n",
    "\n",
    "def performance_numbers(client, parquet_path, worker_counts=[1], samples=1, data_frac=0.2, result_path=\"./results.pkl\", \n",
    "                        seed=42, model_args={}, model_kwargs={}):\n",
    "    \"\"\"\n",
    "    Main function to perform the performance sweep\n",
    "    \"\"\"\n",
    "        \n",
    "    data_frac = min(1.0, data_frac)\n",
    "    overall_perf_result = {\"data_fraction\": data_frac}\n",
    "    \n",
    "    for n in worker_counts: \n",
    "        overall_perf_result[n]={\"sample_run_results\": []}\n",
    "        scale_workers(client, n)\n",
    "        \n",
    "        for i in tqdm(range(samples)): \n",
    "            sample_record = {\"overall\":0, \"data_read\":0, \"hashing_vectorizer\":0, \"tfidftransformer\":0, \"nrows\":0}\n",
    "            with SimpleTimer() as overalltimer:\n",
    "                with SimpleTimer() as timer:\n",
    "                    data = dask_cudf.read_parquet(parquet_path,storage_options={'anon': True, 'use_ssl': False}).sample(frac=data_frac, random_state=seed)\n",
    "                    with dask.annotate(workers=set(client.has_what().keys())):\n",
    "                        data = client.persist(data)\n",
    "                    wait(data)\n",
    "                sample_record[\"data_read\"]=timer.elapsed\n",
    "                print(f\"Workers:{n}, Sample Run:{i}, Finished loading data in {timer.elapsed}s\")\n",
    "                \n",
    "                with SimpleTimer() as timer:\n",
    "                    data = data[data['review_body'].notnull()]\n",
    "                    data['review_body'] = text_preprocessor(data['review_body'])\n",
    "                    with dask.annotate(workers=set(client.has_what().keys())):\n",
    "                        data = client.persist(data)\n",
    "                    wait(data)\n",
    "                sample_record[\"data_preprocessing\"]=timer.elapsed\n",
    "                print(f\"Workers:{n}, Sample Run:{i}, Finished preprocessing data in {timer.elapsed}s\")\n",
    "                    \n",
    "                with SimpleTimer() as timer:\n",
    "                    vectorizer = HashingVectorizer(stop_words='english', preprocessor=None)\n",
    "                    # Meta is an empty dataframe matches the dtypes and columns of the output\n",
    "                    meta = dask.array.from_array(cp.sparse.csr_matrix(cp.zeros(1, dtype=cp.float32))) \n",
    "                    X = data[\"review_body\"].map_partitions(vectorizer.fit_transform, meta=meta).astype(cp.float32)\n",
    "                    with dask.annotate(workers=set(client.has_what().keys())):\n",
    "                        X = client.persist(X)\n",
    "                    wait(X)\n",
    "                    X.compute_chunk_sizes()\n",
    "                sample_record[\"hashing_vectorizer\"]=timer.elapsed\n",
    "                print(f\"Workers:{n}, Sample Run:{i}, Finished fitting HashVectorizer in {timer.elapsed}s\")\n",
    "                \n",
    "                with SimpleTimer() as timer:\n",
    "                    multi_gpu_transformer = TfidfTransformer()\n",
    "                    X_transformed = multi_gpu_transformer.fit_transform(X).persist()\n",
    "                    with dask.annotate(workers=set(client.has_what().keys())):\n",
    "                        X_transformed = client.persist(X_transformed)\n",
    "                    wait(X_transformed)\n",
    "                    X_transformed.compute_chunk_sizes()\n",
    "                sample_record[\"tfidf_transformer\"]=timer.elapsed\n",
    "            sample_record[\"overall\"]=overalltimer.elapsed\n",
    "            sample_record[\"nrows\"]=data.shape[0].compute()\n",
    "            print(f\"Workers:{n}, Sample Run:{i}, Finished transforming using TFIDFTransformer in {timer.elapsed}s\")\n",
    "            overall_perf_result[n][\"sample_run_results\"].append(sample_record)\n",
    "    \n",
    "    with open(result_path, \"wb\") as file:\n",
    "        pickle.dump(overall_perf_result, file)\n",
    "    "
   ]
  },
  {
   "cell_type": "code",
   "execution_count": 13,
   "id": "d6d27907-94d5-414a-93ae-0997a887ff44",
   "metadata": {},
   "outputs": [],
   "source": [
    "#parquet_path = 's3://amazon-reviews-pds/parquet/product_category=Camera/*.parquet'\n",
    "dataset = \"PC\"\n",
    "parquet_path = f'./data/product_category={dataset}'\n",
    "model_kwargs = {\"text_preprocessor\":text_preprocessor}\n",
    "samples = 5\n",
    "worker_counts = [2,4,6]\n",
    "result_path = f\"./results/result_poc_nlp_dask_{dataset}.pkl\""
   ]
  },
  {
   "cell_type": "code",
   "execution_count": 8,
   "id": "4da2c546-c633-4f77-9220-e0067add959c",
   "metadata": {},
   "outputs": [
    {
     "name": "stderr",
     "output_type": "stream",
     "text": [
      "  0%|          | 0/5 [00:00<?, ?it/s]"
     ]
    },
    {
     "name": "stdout",
     "output_type": "stream",
     "text": [
      "Workers:2, Sample Run:0, Finished loading data in 3728334673s\n"
     ]
    },
    {
     "name": "stderr",
     "output_type": "stream",
     "text": [
      "/opt/conda/envs/rapids/lib/python3.8/site-packages/cudf/core/column/string.py:830: UserWarning: `n` parameter is not supported when `pat` and `repl` are list-like inputs\n",
      "  warnings.warn(\n"
     ]
    },
    {
     "name": "stdout",
     "output_type": "stream",
     "text": [
      "Workers:2, Sample Run:0, Finished preprocessing data in 7396335619s\n",
      "# nnz: 0\n",
      "Workers:2, Sample Run:0, Finished fitting HashVectorizer in 7081738294s\n",
      "[I] [19:00:52.565596] [Delayed('_merge_stats_to_model-78f7fa4b-4a57-47b7-aa5e-0a7ffd459498')]\n",
      "[I] [19:00:52.568104] [Delayed('_merge_stats_to_model-e9ee3259-9cd1-402a-964b-ef1a638b6bb8')]\n",
      "[I] [19:00:52.613560] [<Future: finished, type: cuml.TfidfTransformer, key: _merge_stats_to_model-78f7fa4b-4a57-47b7-aa5e-0a7ffd459498>]\n",
      "[I] [19:00:52.613871] [<Future: finished, type: cuml.TfidfTransformer, key: _merge_stats_to_model-e9ee3259-9cd1-402a-964b-ef1a638b6bb8>]\n",
      "[I] [19:00:52.615748] [Delayed('_merge_stats_to_model-f597eb2f-8dec-485b-8163-d9e704ce4474')]\n"
     ]
    },
    {
     "name": "stderr",
     "output_type": "stream",
     "text": [
      " 20%|██        | 1/5 [00:18<01:15, 18.75s/it]"
     ]
    },
    {
     "name": "stdout",
     "output_type": "stream",
     "text": [
      "Workers:2, Sample Run:0, Finished transforming using TFIDFTransformer in 502324432s\n",
      "Workers:2, Sample Run:1, Finished loading data in 1143391146s\n"
     ]
    },
    {
     "name": "stderr",
     "output_type": "stream",
     "text": [
      "/opt/conda/envs/rapids/lib/python3.8/site-packages/cudf/core/column/string.py:830: UserWarning: `n` parameter is not supported when `pat` and `repl` are list-like inputs\n",
      "  warnings.warn(\n"
     ]
    },
    {
     "name": "stdout",
     "output_type": "stream",
     "text": [
      "Workers:2, Sample Run:1, Finished preprocessing data in 7310685372s\n",
      "# nnz: 0\n",
      "Workers:2, Sample Run:1, Finished fitting HashVectorizer in 5634051630s\n",
      "[I] [19:01:07.183977] [Delayed('_merge_stats_to_model-9aa5f17b-1e51-4cac-9aa3-589489450b72')]\n",
      "[I] [19:01:07.186399] [Delayed('_merge_stats_to_model-ad374260-6da3-466b-b48b-12f1b28c0d5f')]\n",
      "[I] [19:01:07.232508] [<Future: finished, type: cuml.TfidfTransformer, key: _merge_stats_to_model-9aa5f17b-1e51-4cac-9aa3-589489450b72>]\n",
      "[I] [19:01:07.232790] [<Future: finished, type: cuml.TfidfTransformer, key: _merge_stats_to_model-ad374260-6da3-466b-b48b-12f1b28c0d5f>]\n",
      "[I] [19:01:07.235511] [Delayed('_merge_stats_to_model-92238326-83c9-4dbd-8624-b760abafc29b')]\n"
     ]
    },
    {
     "name": "stderr",
     "output_type": "stream",
     "text": [
      " 40%|████      | 2/5 [00:33<00:48, 16.31s/it]"
     ]
    },
    {
     "name": "stdout",
     "output_type": "stream",
     "text": [
      "Workers:2, Sample Run:1, Finished transforming using TFIDFTransformer in 471696194s\n",
      "Workers:2, Sample Run:2, Finished loading data in 1129457298s\n"
     ]
    },
    {
     "name": "stderr",
     "output_type": "stream",
     "text": [
      "/opt/conda/envs/rapids/lib/python3.8/site-packages/cudf/core/column/string.py:830: UserWarning: `n` parameter is not supported when `pat` and `repl` are list-like inputs\n",
      "  warnings.warn(\n"
     ]
    },
    {
     "name": "stdout",
     "output_type": "stream",
     "text": [
      "Workers:2, Sample Run:2, Finished preprocessing data in 7290368570s\n",
      "# nnz: 0\n",
      "Workers:2, Sample Run:2, Finished fitting HashVectorizer in 5648607059s\n",
      "[I] [19:01:21.767372] [Delayed('_merge_stats_to_model-a7a2c678-d443-4949-be26-17a3f8d10b46')]\n",
      "[I] [19:01:21.770876] [Delayed('_merge_stats_to_model-442a63c4-9d5c-4486-a53b-ef3511896339')]\n",
      "[I] [19:01:21.812342] [<Future: finished, type: cuml.TfidfTransformer, key: _merge_stats_to_model-a7a2c678-d443-4949-be26-17a3f8d10b46>]\n",
      "[I] [19:01:21.812451] [<Future: finished, type: cuml.TfidfTransformer, key: _merge_stats_to_model-442a63c4-9d5c-4486-a53b-ef3511896339>]\n",
      "[I] [19:01:21.815302] [Delayed('_merge_stats_to_model-a4f30e3c-805e-4b76-bb3f-5128119d3252')]\n"
     ]
    },
    {
     "name": "stderr",
     "output_type": "stream",
     "text": [
      " 60%|██████    | 3/5 [00:47<00:31, 15.52s/it]"
     ]
    },
    {
     "name": "stdout",
     "output_type": "stream",
     "text": [
      "Workers:2, Sample Run:2, Finished transforming using TFIDFTransformer in 470736176s\n",
      "Workers:2, Sample Run:3, Finished loading data in 1120638479s\n"
     ]
    },
    {
     "name": "stderr",
     "output_type": "stream",
     "text": [
      "/opt/conda/envs/rapids/lib/python3.8/site-packages/cudf/core/column/string.py:830: UserWarning: `n` parameter is not supported when `pat` and `repl` are list-like inputs\n",
      "  warnings.warn(\n"
     ]
    },
    {
     "name": "stdout",
     "output_type": "stream",
     "text": [
      "Workers:2, Sample Run:3, Finished preprocessing data in 7317904100s\n",
      "# nnz: 0\n",
      "Workers:2, Sample Run:3, Finished fitting HashVectorizer in 5575683911s\n",
      "[I] [19:01:36.293735] [Delayed('_merge_stats_to_model-a4238301-cd6a-4a05-95f9-acc225124ff0')]\n",
      "[I] [19:01:36.296202] [Delayed('_merge_stats_to_model-1491d6c7-f0ae-48d1-9392-7cc79d5fdbe7')]\n",
      "[I] [19:01:36.336782] [<Future: finished, type: cuml.TfidfTransformer, key: _merge_stats_to_model-a4238301-cd6a-4a05-95f9-acc225124ff0>]\n",
      "[I] [19:01:36.337039] [<Future: finished, type: cuml.TfidfTransformer, key: _merge_stats_to_model-1491d6c7-f0ae-48d1-9392-7cc79d5fdbe7>]\n",
      "[I] [19:01:36.339132] [Delayed('_merge_stats_to_model-3749ea9c-b5c4-4995-8796-b98491cf51bb')]\n"
     ]
    },
    {
     "name": "stderr",
     "output_type": "stream",
     "text": [
      " 80%|████████  | 4/5 [01:02<00:15, 15.13s/it]"
     ]
    },
    {
     "name": "stdout",
     "output_type": "stream",
     "text": [
      "Workers:2, Sample Run:3, Finished transforming using TFIDFTransformer in 456890419s\n",
      "Workers:2, Sample Run:4, Finished loading data in 1101282879s\n"
     ]
    },
    {
     "name": "stderr",
     "output_type": "stream",
     "text": [
      "/opt/conda/envs/rapids/lib/python3.8/site-packages/cudf/core/column/string.py:830: UserWarning: `n` parameter is not supported when `pat` and `repl` are list-like inputs\n",
      "  warnings.warn(\n"
     ]
    },
    {
     "name": "stdout",
     "output_type": "stream",
     "text": [
      "Workers:2, Sample Run:4, Finished preprocessing data in 7270809144s\n",
      "# nnz: 0\n",
      "Workers:2, Sample Run:4, Finished fitting HashVectorizer in 5579006673s\n",
      "[I] [19:01:50.751339] [Delayed('_merge_stats_to_model-588a93a7-7d39-4d7e-9a64-bb0d01ac3627')]\n",
      "[I] [19:01:50.753811] [Delayed('_merge_stats_to_model-1ca8a15f-1f7b-4229-a737-8303d35aeb22')]\n",
      "[I] [19:01:50.798384] [<Future: finished, type: cuml.TfidfTransformer, key: _merge_stats_to_model-588a93a7-7d39-4d7e-9a64-bb0d01ac3627>]\n",
      "[I] [19:01:50.798634] [<Future: finished, type: cuml.TfidfTransformer, key: _merge_stats_to_model-1ca8a15f-1f7b-4229-a737-8303d35aeb22>]\n",
      "[I] [19:01:50.800669] [Delayed('_merge_stats_to_model-812f26dc-5acd-49e7-9c5a-59e396d0e741')]\n"
     ]
    },
    {
     "name": "stderr",
     "output_type": "stream",
     "text": [
      "100%|██████████| 5/5 [01:16<00:00, 15.39s/it]"
     ]
    },
    {
     "name": "stdout",
     "output_type": "stream",
     "text": [
      "Workers:2, Sample Run:4, Finished transforming using TFIDFTransformer in 472797745s\n"
     ]
    },
    {
     "name": "stderr",
     "output_type": "stream",
     "text": [
      "\n",
      "  0%|          | 0/5 [00:00<?, ?it/s]"
     ]
    },
    {
     "name": "stdout",
     "output_type": "stream",
     "text": [
      "Workers:4, Sample Run:0, Finished loading data in 1531876181s\n"
     ]
    },
    {
     "name": "stderr",
     "output_type": "stream",
     "text": [
      "/opt/conda/envs/rapids/lib/python3.8/site-packages/cudf/core/column/string.py:830: UserWarning: `n` parameter is not supported when `pat` and `repl` are list-like inputs\n",
      "  warnings.warn(\n"
     ]
    },
    {
     "name": "stdout",
     "output_type": "stream",
     "text": [
      "Workers:4, Sample Run:0, Finished preprocessing data in 5898674491s\n",
      "# nnz: 0\n",
      "Workers:4, Sample Run:0, Finished fitting HashVectorizer in 4650035582s\n",
      "[I] [19:02:08.474539] [<Future: finished, type: cuml.TfidfTransformer, key: _set_doc_stats-4c290dd4-a889-4768-95ed-31a150c505b8>]\n",
      "[I] [19:02:08.475667] [Delayed('_merge_stats_to_model-c7eaefab-adfd-4c61-9986-a33fc32848b3')]\n",
      "[I] [19:02:08.477253] [Delayed('_merge_stats_to_model-13102581-4d79-4065-b7af-a70735915f6f')]\n",
      "[I] [19:02:08.478745] [Delayed('_merge_stats_to_model-913f4d0e-bf93-4c60-bdf8-b6fe2c250987')]\n",
      "[I] [19:02:08.506506] [<Future: finished, type: cuml.TfidfTransformer, key: _set_doc_stats-4c290dd4-a889-4768-95ed-31a150c505b8>]\n",
      "[I] [19:02:08.506714] [<Future: finished, type: cuml.TfidfTransformer, key: _merge_stats_to_model-c7eaefab-adfd-4c61-9986-a33fc32848b3>]\n",
      "[I] [19:02:08.506887] [<Future: finished, type: cuml.TfidfTransformer, key: _merge_stats_to_model-13102581-4d79-4065-b7af-a70735915f6f>]\n",
      "[I] [19:02:08.507058] [<Future: finished, type: cuml.TfidfTransformer, key: _merge_stats_to_model-913f4d0e-bf93-4c60-bdf8-b6fe2c250987>]\n",
      "[I] [19:02:08.509876] [Delayed('_merge_stats_to_model-6ec6c316-6292-44cd-8ed8-c942a1192560')]\n"
     ]
    },
    {
     "name": "stderr",
     "output_type": "stream",
     "text": [
      " 20%|██        | 1/5 [00:12<00:51, 12.80s/it]"
     ]
    },
    {
     "name": "stdout",
     "output_type": "stream",
     "text": [
      "Workers:4, Sample Run:0, Finished transforming using TFIDFTransformer in 676208495s\n",
      "Workers:4, Sample Run:1, Finished loading data in 746023564s\n"
     ]
    },
    {
     "name": "stderr",
     "output_type": "stream",
     "text": [
      "/opt/conda/envs/rapids/lib/python3.8/site-packages/cudf/core/column/string.py:830: UserWarning: `n` parameter is not supported when `pat` and `repl` are list-like inputs\n",
      "  warnings.warn(\n"
     ]
    },
    {
     "name": "stdout",
     "output_type": "stream",
     "text": [
      "Workers:4, Sample Run:1, Finished preprocessing data in 4422163658s\n",
      "# nnz: 0\n",
      "Workers:4, Sample Run:1, Finished fitting HashVectorizer in 3469725110s\n",
      "[I] [19:02:17.812438] [Delayed('_merge_stats_to_model-8eeb4636-9af5-4085-8338-c7e4d8c94559')]\n",
      "[I] [19:02:17.813929] [Delayed('_merge_stats_to_model-10681d29-d4e9-4cf0-b61c-0e5663504fc7')]\n",
      "[I] [19:02:17.814773] [Delayed('_merge_stats_to_model-33c5e737-1be3-4e36-81c6-7589b50cb189')]\n",
      "[I] [19:02:17.815730] [Delayed('_merge_stats_to_model-08b4c12a-9c48-4527-b841-331214d150dc')]\n",
      "[I] [19:02:17.846140] [<Future: finished, type: cuml.TfidfTransformer, key: _merge_stats_to_model-8eeb4636-9af5-4085-8338-c7e4d8c94559>]\n",
      "[I] [19:02:17.846386] [<Future: finished, type: cuml.TfidfTransformer, key: _merge_stats_to_model-10681d29-d4e9-4cf0-b61c-0e5663504fc7>]\n",
      "[I] [19:02:17.846558] [<Future: finished, type: cuml.TfidfTransformer, key: _merge_stats_to_model-33c5e737-1be3-4e36-81c6-7589b50cb189>]\n",
      "[I] [19:02:17.846739] [<Future: finished, type: cuml.TfidfTransformer, key: _merge_stats_to_model-08b4c12a-9c48-4527-b841-331214d150dc>]\n",
      "[I] [19:02:17.849850] [Delayed('_merge_stats_to_model-67e5d3cc-32c4-47a6-8e6c-4b332599e374')]\n"
     ]
    },
    {
     "name": "stderr",
     "output_type": "stream",
     "text": [
      " 40%|████      | 2/5 [00:21<00:31, 10.65s/it]"
     ]
    },
    {
     "name": "stdout",
     "output_type": "stream",
     "text": [
      "Workers:4, Sample Run:1, Finished transforming using TFIDFTransformer in 457769284s\n",
      "Workers:4, Sample Run:2, Finished loading data in 836442200s\n"
     ]
    },
    {
     "name": "stderr",
     "output_type": "stream",
     "text": [
      "/opt/conda/envs/rapids/lib/python3.8/site-packages/cudf/core/column/string.py:830: UserWarning: `n` parameter is not supported when `pat` and `repl` are list-like inputs\n",
      "  warnings.warn(\n"
     ]
    },
    {
     "name": "stdout",
     "output_type": "stream",
     "text": [
      "Workers:4, Sample Run:2, Finished preprocessing data in 4415802076s\n",
      "# nnz: 0\n",
      "Workers:4, Sample Run:2, Finished fitting HashVectorizer in 3669725851s\n",
      "[I] [19:02:27.238964] [Delayed('_merge_stats_to_model-2aadfbb8-0cd0-4850-b6f4-6c319f38f144')]\n",
      "[I] [19:02:27.240565] [Delayed('_merge_stats_to_model-44f75f1c-76de-4f23-be93-9159cb35f7f3')]\n",
      "[I] [19:02:27.241366] [Delayed('_merge_stats_to_model-d3b166a6-ea78-405d-a40e-851a1c85d73c')]\n",
      "[I] [19:02:27.242165] [Delayed('_merge_stats_to_model-ca0e2941-e29d-4240-af2b-db69cec1b90c')]\n",
      "[I] [19:02:27.272212] [<Future: finished, type: cuml.TfidfTransformer, key: _merge_stats_to_model-2aadfbb8-0cd0-4850-b6f4-6c319f38f144>]\n",
      "[I] [19:02:27.272331] [<Future: finished, type: cuml.TfidfTransformer, key: _merge_stats_to_model-44f75f1c-76de-4f23-be93-9159cb35f7f3>]\n",
      "[I] [19:02:27.272611] [<Future: finished, type: cuml.TfidfTransformer, key: _merge_stats_to_model-d3b166a6-ea78-405d-a40e-851a1c85d73c>]\n",
      "[I] [19:02:27.272789] [<Future: finished, type: cuml.TfidfTransformer, key: _merge_stats_to_model-ca0e2941-e29d-4240-af2b-db69cec1b90c>]\n",
      "[I] [19:02:27.275929] [Delayed('_merge_stats_to_model-f8a738c6-85a0-4f5a-a7d5-61fbffb0fb11')]\n"
     ]
    },
    {
     "name": "stderr",
     "output_type": "stream",
     "text": [
      " 60%|██████    | 3/5 [00:31<00:20, 10.08s/it]"
     ]
    },
    {
     "name": "stdout",
     "output_type": "stream",
     "text": [
      "Workers:4, Sample Run:2, Finished transforming using TFIDFTransformer in 445351744s\n",
      "Workers:4, Sample Run:3, Finished loading data in 784300889s\n"
     ]
    },
    {
     "name": "stderr",
     "output_type": "stream",
     "text": [
      "/opt/conda/envs/rapids/lib/python3.8/site-packages/cudf/core/column/string.py:830: UserWarning: `n` parameter is not supported when `pat` and `repl` are list-like inputs\n",
      "  warnings.warn(\n"
     ]
    },
    {
     "name": "stdout",
     "output_type": "stream",
     "text": [
      "Workers:4, Sample Run:3, Finished preprocessing data in 4394830308s\n",
      "# nnz: 0\n",
      "Workers:4, Sample Run:3, Finished fitting HashVectorizer in 3472331586s\n",
      "[I] [19:02:36.378539] [Delayed('_merge_stats_to_model-0f5a14a2-6f80-458e-8030-b6e8aba073cd')]\n",
      "[I] [19:02:36.380191] [Delayed('_merge_stats_to_model-a2c03c22-2a21-4a97-bdf5-8a144648685e')]\n",
      "[I] [19:02:36.380994] [Delayed('_merge_stats_to_model-229bac06-2f7a-41c6-875d-02d238d6b25a')]\n",
      "[I] [19:02:36.381780] [Delayed('_merge_stats_to_model-e071944e-d400-4c0a-a721-c7f819d50381')]\n",
      "[I] [19:02:36.409899] [<Future: finished, type: cuml.TfidfTransformer, key: _merge_stats_to_model-0f5a14a2-6f80-458e-8030-b6e8aba073cd>]\n",
      "[I] [19:02:36.410147] [<Future: finished, type: cuml.TfidfTransformer, key: _merge_stats_to_model-a2c03c22-2a21-4a97-bdf5-8a144648685e>]\n",
      "[I] [19:02:36.410318] [<Future: finished, type: cuml.TfidfTransformer, key: _merge_stats_to_model-229bac06-2f7a-41c6-875d-02d238d6b25a>]\n",
      "[I] [19:02:36.410481] [<Future: finished, type: cuml.TfidfTransformer, key: _merge_stats_to_model-e071944e-d400-4c0a-a721-c7f819d50381>]\n",
      "[I] [19:02:36.416129] [Delayed('_merge_stats_to_model-5be29e42-05f0-4478-829c-72fd65442a04')]\n"
     ]
    },
    {
     "name": "stderr",
     "output_type": "stream",
     "text": [
      " 80%|████████  | 4/5 [00:40<00:09,  9.74s/it]"
     ]
    },
    {
     "name": "stdout",
     "output_type": "stream",
     "text": [
      "Workers:4, Sample Run:3, Finished transforming using TFIDFTransformer in 511804532s\n",
      "Workers:4, Sample Run:4, Finished loading data in 766951229s\n"
     ]
    },
    {
     "name": "stderr",
     "output_type": "stream",
     "text": [
      "/opt/conda/envs/rapids/lib/python3.8/site-packages/cudf/core/column/string.py:830: UserWarning: `n` parameter is not supported when `pat` and `repl` are list-like inputs\n",
      "  warnings.warn(\n"
     ]
    },
    {
     "name": "stdout",
     "output_type": "stream",
     "text": [
      "Workers:4, Sample Run:4, Finished preprocessing data in 4584414196s\n",
      "# nnz: 0\n",
      "Workers:4, Sample Run:4, Finished fitting HashVectorizer in 3496896724s\n",
      "[I] [19:02:45.781952] [Delayed('_merge_stats_to_model-a4ed7265-7798-499e-8dd4-017ead6e41fe')]\n",
      "[I] [19:02:45.782768] [Delayed('_merge_stats_to_model-976acdd3-25c9-4636-b73e-b18582b65ce6')]\n",
      "[I] [19:02:45.787344] [Delayed('_merge_stats_to_model-20eea099-3845-4b88-9a4c-698bb5f08043')]\n",
      "[I] [19:02:45.788219] [Delayed('_merge_stats_to_model-7507c817-f5a7-4486-b207-8292dbbf63ac')]\n",
      "[I] [19:02:45.819534] [<Future: finished, type: cuml.TfidfTransformer, key: _merge_stats_to_model-a4ed7265-7798-499e-8dd4-017ead6e41fe>]\n",
      "[I] [19:02:45.819809] [<Future: finished, type: cuml.TfidfTransformer, key: _merge_stats_to_model-976acdd3-25c9-4636-b73e-b18582b65ce6>]\n",
      "[I] [19:02:45.820046] [<Future: finished, type: cuml.TfidfTransformer, key: _merge_stats_to_model-20eea099-3845-4b88-9a4c-698bb5f08043>]\n",
      "[I] [19:02:45.820237] [<Future: finished, type: cuml.TfidfTransformer, key: _merge_stats_to_model-7507c817-f5a7-4486-b207-8292dbbf63ac>]\n",
      "[I] [19:02:45.823307] [Delayed('_merge_stats_to_model-a40b7bf4-6826-486a-a821-e23fd336c9d4')]\n"
     ]
    },
    {
     "name": "stderr",
     "output_type": "stream",
     "text": [
      "100%|██████████| 5/5 [00:49<00:00,  9.99s/it]"
     ]
    },
    {
     "name": "stdout",
     "output_type": "stream",
     "text": [
      "Workers:4, Sample Run:4, Finished transforming using TFIDFTransformer in 505646682s\n"
     ]
    },
    {
     "name": "stderr",
     "output_type": "stream",
     "text": [
      "\n",
      "  0%|          | 0/5 [00:00<?, ?it/s]"
     ]
    },
    {
     "name": "stdout",
     "output_type": "stream",
     "text": [
      "Workers:6, Sample Run:0, Finished loading data in 1586009488s\n"
     ]
    },
    {
     "name": "stderr",
     "output_type": "stream",
     "text": [
      "/opt/conda/envs/rapids/lib/python3.8/site-packages/cudf/core/column/string.py:830: UserWarning: `n` parameter is not supported when `pat` and `repl` are list-like inputs\n",
      "  warnings.warn(\n"
     ]
    },
    {
     "name": "stdout",
     "output_type": "stream",
     "text": [
      "Workers:6, Sample Run:0, Finished preprocessing data in 3193449988s\n",
      "# nnz: 0\n",
      "Workers:6, Sample Run:0, Finished fitting HashVectorizer in 2601403289s\n",
      "[I] [19:02:58.845511] [<Future: finished, type: cuml.TfidfTransformer, key: _set_doc_stats-1e119ed4-22e7-4486-aa36-4471a7a047bc>]\n",
      "[I] [19:02:58.845781] [<Future: finished, type: cuml.TfidfTransformer, key: _set_doc_stats-cefda825-c0ae-4bdf-8498-002b9ed9eb10>]\n",
      "[I] [19:02:58.846595] [Delayed('_merge_stats_to_model-6600aad1-568f-4202-9090-f66c4eac87b8')]\n",
      "[I] [19:02:58.847386] [Delayed('_merge_stats_to_model-02ed92cb-8414-429a-817e-cf8d880d95b8')]\n",
      "[I] [19:02:58.848250] [Delayed('_merge_stats_to_model-b630737e-9c9b-4f1f-80a3-2ae83aca3897')]\n",
      "[I] [19:02:58.849189] [Delayed('_merge_stats_to_model-12192bbd-07a8-49ee-990b-11f9409e2857')]\n",
      "[I] [19:02:58.867605] [<Future: finished, type: cuml.TfidfTransformer, key: _set_doc_stats-1e119ed4-22e7-4486-aa36-4471a7a047bc>]\n",
      "[I] [19:02:58.867716] [<Future: finished, type: cuml.TfidfTransformer, key: _set_doc_stats-cefda825-c0ae-4bdf-8498-002b9ed9eb10>]\n",
      "[I] [19:02:58.867788] [<Future: finished, type: cuml.TfidfTransformer, key: _merge_stats_to_model-6600aad1-568f-4202-9090-f66c4eac87b8>]\n",
      "[I] [19:02:58.868248] [<Future: finished, type: cuml.TfidfTransformer, key: _merge_stats_to_model-02ed92cb-8414-429a-817e-cf8d880d95b8>]\n",
      "[I] [19:02:58.868470] [<Future: finished, type: cuml.TfidfTransformer, key: _merge_stats_to_model-b630737e-9c9b-4f1f-80a3-2ae83aca3897>]\n",
      "[I] [19:02:58.869137] [<Future: finished, type: cuml.TfidfTransformer, key: _merge_stats_to_model-12192bbd-07a8-49ee-990b-11f9409e2857>]\n",
      "[I] [19:02:58.874158] [Delayed('_merge_stats_to_model-96690ff2-9784-42dc-af8c-af6586f7db55')]\n"
     ]
    },
    {
     "name": "stderr",
     "output_type": "stream",
     "text": [
      " 20%|██        | 1/5 [00:07<00:31,  7.86s/it]"
     ]
    },
    {
     "name": "stdout",
     "output_type": "stream",
     "text": [
      "Workers:6, Sample Run:0, Finished transforming using TFIDFTransformer in 427696695s\n",
      "Workers:6, Sample Run:1, Finished loading data in 628378227s\n"
     ]
    },
    {
     "name": "stderr",
     "output_type": "stream",
     "text": [
      "/opt/conda/envs/rapids/lib/python3.8/site-packages/cudf/core/column/string.py:830: UserWarning: `n` parameter is not supported when `pat` and `repl` are list-like inputs\n",
      "  warnings.warn(\n"
     ]
    },
    {
     "name": "stdout",
     "output_type": "stream",
     "text": [
      "Workers:6, Sample Run:1, Finished preprocessing data in 3145649433s\n",
      "# nnz: 0\n",
      "Workers:6, Sample Run:1, Finished fitting HashVectorizer in 2626905652s\n",
      "[I] [19:03:05.728941] [Delayed('_merge_stats_to_model-f481c973-85bc-41d3-97b7-d4b70e96162e')]\n",
      "[I] [19:03:05.729862] [Delayed('_merge_stats_to_model-d3d2f402-a09d-4e1b-83cc-96079d6fc1f9')]\n",
      "[I] [19:03:05.730706] [Delayed('_merge_stats_to_model-ab8446bc-680b-4bd5-8ba3-24b4e2e5aa57')]\n",
      "[I] [19:03:05.731636] [Delayed('_merge_stats_to_model-d2206b11-fd9f-4fa1-8e7e-38fb81423062')]\n",
      "[I] [19:03:05.731905] [<Future: finished, type: cuml.TfidfTransformer, key: _set_doc_stats-d37e352b-678b-456e-af0b-d3e84d64a1cb>]\n",
      "[I] [19:03:05.732137] [<Future: finished, type: cuml.TfidfTransformer, key: _set_doc_stats-bffb2208-85e0-4f2b-b88b-789bffec74fd>]\n",
      "[I] [19:03:05.749976] [<Future: finished, type: cuml.TfidfTransformer, key: _merge_stats_to_model-f481c973-85bc-41d3-97b7-d4b70e96162e>]\n",
      "[I] [19:03:05.750230] [<Future: finished, type: cuml.TfidfTransformer, key: _merge_stats_to_model-d3d2f402-a09d-4e1b-83cc-96079d6fc1f9>]\n",
      "[I] [19:03:05.750404] [<Future: finished, type: cuml.TfidfTransformer, key: _merge_stats_to_model-ab8446bc-680b-4bd5-8ba3-24b4e2e5aa57>]\n",
      "[I] [19:03:05.750572] [<Future: finished, type: cuml.TfidfTransformer, key: _merge_stats_to_model-d2206b11-fd9f-4fa1-8e7e-38fb81423062>]\n",
      "[I] [19:03:05.750755] [<Future: finished, type: cuml.TfidfTransformer, key: _set_doc_stats-d37e352b-678b-456e-af0b-d3e84d64a1cb>]\n",
      "[I] [19:03:05.750928] [<Future: finished, type: cuml.TfidfTransformer, key: _set_doc_stats-bffb2208-85e0-4f2b-b88b-789bffec74fd>]\n",
      "[I] [19:03:05.755172] [Delayed('_merge_stats_to_model-0aaa551c-0653-41d4-9847-8b9a85475193')]\n"
     ]
    },
    {
     "name": "stderr",
     "output_type": "stream",
     "text": [
      " 40%|████      | 2/5 [00:14<00:21,  7.29s/it]"
     ]
    },
    {
     "name": "stdout",
     "output_type": "stream",
     "text": [
      "Workers:6, Sample Run:1, Finished transforming using TFIDFTransformer in 444390555s\n",
      "Workers:6, Sample Run:2, Finished loading data in 611148273s\n"
     ]
    },
    {
     "name": "stderr",
     "output_type": "stream",
     "text": [
      "/opt/conda/envs/rapids/lib/python3.8/site-packages/cudf/core/column/string.py:830: UserWarning: `n` parameter is not supported when `pat` and `repl` are list-like inputs\n",
      "  warnings.warn(\n"
     ]
    },
    {
     "name": "stdout",
     "output_type": "stream",
     "text": [
      "Workers:6, Sample Run:2, Finished preprocessing data in 3127023684s\n",
      "# nnz: 0\n",
      "Workers:6, Sample Run:2, Finished fitting HashVectorizer in 2583057424s\n",
      "[I] [19:03:12.547439] [Delayed('_merge_stats_to_model-bc3a323c-298b-4832-b880-385b53916cc7')]\n",
      "[I] [19:03:12.548319] [Delayed('_merge_stats_to_model-26a110b3-0f8f-4dde-b542-9bcc30e6a261')]\n",
      "[I] [19:03:12.549178] [Delayed('_merge_stats_to_model-c6a3406a-7d07-4a97-a7cd-ede977e95d17')]\n",
      "[I] [19:03:12.549969] [Delayed('_merge_stats_to_model-5e69d624-f506-458a-a6fb-d08ebe5565eb')]\n",
      "[I] [19:03:12.550241] [<Future: finished, type: cuml.TfidfTransformer, key: _set_doc_stats-ba0faf7b-4ac4-43f5-95c1-a50ef2fe2354>]\n",
      "[I] [19:03:12.550423] [<Future: finished, type: cuml.TfidfTransformer, key: _set_doc_stats-5f12fff9-a34a-460f-9288-5d9fe7d96fd4>]\n",
      "[I] [19:03:12.567951] [<Future: finished, type: cuml.TfidfTransformer, key: _merge_stats_to_model-bc3a323c-298b-4832-b880-385b53916cc7>]\n",
      "[I] [19:03:12.570903] [<Future: finished, type: cuml.TfidfTransformer, key: _merge_stats_to_model-26a110b3-0f8f-4dde-b542-9bcc30e6a261>]\n",
      "[I] [19:03:12.571097] [<Future: finished, type: cuml.TfidfTransformer, key: _merge_stats_to_model-c6a3406a-7d07-4a97-a7cd-ede977e95d17>]\n",
      "[I] [19:03:12.571271] [<Future: finished, type: cuml.TfidfTransformer, key: _merge_stats_to_model-5e69d624-f506-458a-a6fb-d08ebe5565eb>]\n",
      "[I] [19:03:12.571459] [<Future: finished, type: cuml.TfidfTransformer, key: _set_doc_stats-ba0faf7b-4ac4-43f5-95c1-a50ef2fe2354>]\n",
      "[I] [19:03:12.571886] [<Future: finished, type: cuml.TfidfTransformer, key: _set_doc_stats-5f12fff9-a34a-460f-9288-5d9fe7d96fd4>]\n",
      "[I] [19:03:12.576890] [Delayed('_merge_stats_to_model-bacd1fec-0af1-4544-bddf-5193ee1631d4')]\n"
     ]
    },
    {
     "name": "stderr",
     "output_type": "stream",
     "text": [
      " 60%|██████    | 3/5 [00:21<00:14,  7.07s/it]"
     ]
    },
    {
     "name": "stdout",
     "output_type": "stream",
     "text": [
      "Workers:6, Sample Run:2, Finished transforming using TFIDFTransformer in 439858473s\n",
      "Workers:6, Sample Run:3, Finished loading data in 594408216s\n"
     ]
    },
    {
     "name": "stderr",
     "output_type": "stream",
     "text": [
      "/opt/conda/envs/rapids/lib/python3.8/site-packages/cudf/core/column/string.py:830: UserWarning: `n` parameter is not supported when `pat` and `repl` are list-like inputs\n",
      "  warnings.warn(\n"
     ]
    },
    {
     "name": "stdout",
     "output_type": "stream",
     "text": [
      "Workers:6, Sample Run:3, Finished preprocessing data in 3164570584s\n",
      "# nnz: 0\n",
      "Workers:6, Sample Run:3, Finished fitting HashVectorizer in 2515940599s\n",
      "[I] [19:03:19.299464] [Delayed('_merge_stats_to_model-4bdcfd1e-c595-4f90-a55f-e0822d3bf4f5')]\n",
      "[I] [19:03:19.300400] [Delayed('_merge_stats_to_model-ff15d491-2772-401e-ba3d-4b22edf372a1')]\n",
      "[I] [19:03:19.301286] [Delayed('_merge_stats_to_model-d633b32f-60f0-405d-9349-44bdc2b07ae6')]\n",
      "[I] [19:03:19.302119] [Delayed('_merge_stats_to_model-33a88a4e-a7ac-4b53-a802-8231d219cf40')]\n",
      "[I] [19:03:19.302376] [<Future: finished, type: cuml.TfidfTransformer, key: _set_doc_stats-853b9f40-41f5-4348-b834-d5410b258dc7>]\n",
      "[I] [19:03:19.302545] [<Future: finished, type: cuml.TfidfTransformer, key: _set_doc_stats-ab87377b-fcff-4117-b846-9ad36964590e>]\n",
      "[I] [19:03:19.319936] [<Future: finished, type: cuml.TfidfTransformer, key: _merge_stats_to_model-4bdcfd1e-c595-4f90-a55f-e0822d3bf4f5>]\n",
      "[I] [19:03:19.320204] [<Future: finished, type: cuml.TfidfTransformer, key: _merge_stats_to_model-ff15d491-2772-401e-ba3d-4b22edf372a1>]\n",
      "[I] [19:03:19.320453] [<Future: finished, type: cuml.TfidfTransformer, key: _merge_stats_to_model-d633b32f-60f0-405d-9349-44bdc2b07ae6>]\n",
      "[I] [19:03:19.320621] [<Future: finished, type: cuml.TfidfTransformer, key: _merge_stats_to_model-33a88a4e-a7ac-4b53-a802-8231d219cf40>]\n",
      "[I] [19:03:19.320817] [<Future: finished, type: cuml.TfidfTransformer, key: _set_doc_stats-853b9f40-41f5-4348-b834-d5410b258dc7>]\n",
      "[I] [19:03:19.321140] [<Future: finished, type: cuml.TfidfTransformer, key: _set_doc_stats-ab87377b-fcff-4117-b846-9ad36964590e>]\n",
      "[I] [19:03:19.325176] [Delayed('_merge_stats_to_model-a9077e9b-21c0-4d72-892e-c1b96dfb4e28')]\n"
     ]
    },
    {
     "name": "stderr",
     "output_type": "stream",
     "text": [
      " 80%|████████  | 4/5 [00:28<00:06,  6.94s/it]"
     ]
    },
    {
     "name": "stdout",
     "output_type": "stream",
     "text": [
      "Workers:6, Sample Run:3, Finished transforming using TFIDFTransformer in 432431329s\n",
      "Workers:6, Sample Run:4, Finished loading data in 602291504s\n"
     ]
    },
    {
     "name": "stderr",
     "output_type": "stream",
     "text": [
      "/opt/conda/envs/rapids/lib/python3.8/site-packages/cudf/core/column/string.py:830: UserWarning: `n` parameter is not supported when `pat` and `repl` are list-like inputs\n",
      "  warnings.warn(\n"
     ]
    },
    {
     "name": "stdout",
     "output_type": "stream",
     "text": [
      "Workers:6, Sample Run:4, Finished preprocessing data in 3162203707s\n",
      "# nnz: 0\n",
      "Workers:6, Sample Run:4, Finished fitting HashVectorizer in 2520000306s\n",
      "[I] [19:03:26.064252] [Delayed('_merge_stats_to_model-861bb4dc-d221-4b16-8922-67d17274ce04')]\n",
      "[I] [19:03:26.065127] [Delayed('_merge_stats_to_model-655587f2-07cf-4cbb-8d16-8765b5a1b88d')]\n",
      "[I] [19:03:26.066093] [Delayed('_merge_stats_to_model-71719954-b756-406e-b853-65baf064cfb5')]\n",
      "[I] [19:03:26.067071] [Delayed('_merge_stats_to_model-32ad8264-dd68-4081-851a-2ae6934927d5')]\n",
      "[I] [19:03:26.067396] [<Future: finished, type: cuml.TfidfTransformer, key: _set_doc_stats-a6c59532-880f-42f7-b147-9700f861afb9>]\n",
      "[I] [19:03:26.067617] [<Future: finished, type: cuml.TfidfTransformer, key: _set_doc_stats-6ee726ae-8626-4a76-9e70-fd6f07d50f97>]\n",
      "[I] [19:03:26.085473] [<Future: finished, type: cuml.TfidfTransformer, key: _merge_stats_to_model-861bb4dc-d221-4b16-8922-67d17274ce04>]\n",
      "[I] [19:03:26.085724] [<Future: finished, type: cuml.TfidfTransformer, key: _merge_stats_to_model-655587f2-07cf-4cbb-8d16-8765b5a1b88d>]\n",
      "[I] [19:03:26.085900] [<Future: finished, type: cuml.TfidfTransformer, key: _merge_stats_to_model-71719954-b756-406e-b853-65baf064cfb5>]\n",
      "[I] [19:03:26.086090] [<Future: finished, type: cuml.TfidfTransformer, key: _merge_stats_to_model-32ad8264-dd68-4081-851a-2ae6934927d5>]\n",
      "[I] [19:03:26.086263] [<Future: finished, type: cuml.TfidfTransformer, key: _set_doc_stats-a6c59532-880f-42f7-b147-9700f861afb9>]\n",
      "[I] [19:03:26.086460] [<Future: finished, type: cuml.TfidfTransformer, key: _set_doc_stats-6ee726ae-8626-4a76-9e70-fd6f07d50f97>]\n",
      "[I] [19:03:26.090847] [Delayed('_merge_stats_to_model-8ba62e0d-bb80-4da3-b975-99c33ed17426')]\n"
     ]
    },
    {
     "name": "stderr",
     "output_type": "stream",
     "text": [
      "100%|██████████| 5/5 [00:35<00:00,  7.03s/it]"
     ]
    },
    {
     "name": "stdout",
     "output_type": "stream",
     "text": [
      "Workers:6, Sample Run:4, Finished transforming using TFIDFTransformer in 433876459s\n",
      "CPU times: user 10.8 s, sys: 2.66 s, total: 13.4 s\n",
      "Wall time: 2min 57s\n"
     ]
    },
    {
     "name": "stderr",
     "output_type": "stream",
     "text": [
      "\n"
     ]
    }
   ],
   "source": [
    "%%time\n",
    "performance_numbers(client, parquet_path=parquet_path, worker_counts=worker_counts, samples=samples, data_frac=1, result_path=result_path, \n",
    "                        seed=42, model_args={}, model_kwargs=model_kwargs)"
   ]
  },
  {
   "cell_type": "code",
   "execution_count": 9,
   "id": "3bd627f9-0878-4296-bf73-151ec1b1bec3",
   "metadata": {},
   "outputs": [
    {
     "data": {
      "image/png": "[encoded data removed]",
      "text/plain": [
       "<Figure size 1200x800 with 1 Axes>"
      ]
     },
     "metadata": {},
     "output_type": "display_data"
    }
   ],
   "source": [
    "data, melt_data = visualize_data(result_path)        "
   ]
  },
  {
   "cell_type": "code",
   "execution_count": 10,
   "id": "36dc1a20-d436-4362-af91-75d4b6e829b4",
   "metadata": {},
   "outputs": [],
   "source": [
    "groupy = data.groupby(\"n_workers\").agg(['mean', 'std', 'count'])"
   ]
  },
  {
   "cell_type": "code",
   "execution_count": 11,
   "id": "c0ac4d3f-5d2f-4941-a984-adad8d15edb8",
   "metadata": {},
   "outputs": [
    {
     "data": {
      "text/html": [
       "<div>\n",
       "<style scoped>\n",
       "    .dataframe tbody tr th:only-of-type {\n",
       "        vertical-align: middle;\n",
       "    }\n",
       "\n",
       "    .dataframe tbody tr th {\n",
       "        vertical-align: top;\n",
       "    }\n",
       "\n",
       "    .dataframe thead tr th {\n",
       "        text-align: left;\n",
       "    }\n",
       "\n",
       "    .dataframe thead tr:last-of-type th {\n",
       "        text-align: right;\n",
       "    }\n",
       "</style>\n",
       "<table border=\"1\" class=\"dataframe\">\n",
       "  <thead>\n",
       "    <tr>\n",
       "      <th></th>\n",
       "      <th colspan=\"3\" halign=\"left\">sample_run</th>\n",
       "      <th colspan=\"3\" halign=\"left\">overall</th>\n",
       "      <th colspan=\"3\" halign=\"left\">data_read</th>\n",
       "      <th colspan=\"3\" halign=\"left\">data_preprocessing</th>\n",
       "      <th colspan=\"3\" halign=\"left\">hashing_vectorizer</th>\n",
       "      <th colspan=\"3\" halign=\"left\">tfidf_transformer</th>\n",
       "      <th colspan=\"3\" halign=\"left\">nrows</th>\n",
       "    </tr>\n",
       "    <tr>\n",
       "      <th></th>\n",
       "      <th>mean</th>\n",
       "      <th>std</th>\n",
       "      <th>count</th>\n",
       "      <th>mean</th>\n",
       "      <th>std</th>\n",
       "      <th>count</th>\n",
       "      <th>mean</th>\n",
       "      <th>std</th>\n",
       "      <th>count</th>\n",
       "      <th>mean</th>\n",
       "      <th>...</th>\n",
       "      <th>count</th>\n",
       "      <th>mean</th>\n",
       "      <th>std</th>\n",
       "      <th>count</th>\n",
       "      <th>mean</th>\n",
       "      <th>std</th>\n",
       "      <th>count</th>\n",
       "      <th>mean</th>\n",
       "      <th>std</th>\n",
       "      <th>count</th>\n",
       "    </tr>\n",
       "    <tr>\n",
       "      <th>n_workers</th>\n",
       "      <th></th>\n",
       "      <th></th>\n",
       "      <th></th>\n",
       "      <th></th>\n",
       "      <th></th>\n",
       "      <th></th>\n",
       "      <th></th>\n",
       "      <th></th>\n",
       "      <th></th>\n",
       "      <th></th>\n",
       "      <th></th>\n",
       "      <th></th>\n",
       "      <th></th>\n",
       "      <th></th>\n",
       "      <th></th>\n",
       "      <th></th>\n",
       "      <th></th>\n",
       "      <th></th>\n",
       "      <th></th>\n",
       "      <th></th>\n",
       "      <th></th>\n",
       "    </tr>\n",
       "  </thead>\n",
       "  <tbody>\n",
       "    <tr>\n",
       "      <th>2</th>\n",
       "      <td>2</td>\n",
       "      <td>1.581139</td>\n",
       "      <td>5</td>\n",
       "      <td>15.340989</td>\n",
       "      <td>1.883721</td>\n",
       "      <td>5</td>\n",
       "      <td>1.644621</td>\n",
       "      <td>1.164932</td>\n",
       "      <td>5</td>\n",
       "      <td>7.317221</td>\n",
       "      <td>...</td>\n",
       "      <td>5</td>\n",
       "      <td>5.903818</td>\n",
       "      <td>0.659276</td>\n",
       "      <td>5</td>\n",
       "      <td>0.474889</td>\n",
       "      <td>0.016647</td>\n",
       "      <td>5</td>\n",
       "      <td>7004147</td>\n",
       "      <td>0.0</td>\n",
       "      <td>5</td>\n",
       "    </tr>\n",
       "    <tr>\n",
       "      <th>4</th>\n",
       "      <td>2</td>\n",
       "      <td>1.581139</td>\n",
       "      <td>5</td>\n",
       "      <td>9.947924</td>\n",
       "      <td>1.574986</td>\n",
       "      <td>5</td>\n",
       "      <td>0.933119</td>\n",
       "      <td>0.336385</td>\n",
       "      <td>5</td>\n",
       "      <td>4.743177</td>\n",
       "      <td>...</td>\n",
       "      <td>5</td>\n",
       "      <td>3.751743</td>\n",
       "      <td>0.508971</td>\n",
       "      <td>5</td>\n",
       "      <td>0.519356</td>\n",
       "      <td>0.092354</td>\n",
       "      <td>5</td>\n",
       "      <td>7004147</td>\n",
       "      <td>0.0</td>\n",
       "      <td>5</td>\n",
       "    </tr>\n",
       "    <tr>\n",
       "      <th>6</th>\n",
       "      <td>2</td>\n",
       "      <td>1.581139</td>\n",
       "      <td>5</td>\n",
       "      <td>6.968639</td>\n",
       "      <td>0.472867</td>\n",
       "      <td>5</td>\n",
       "      <td>0.804447</td>\n",
       "      <td>0.437089</td>\n",
       "      <td>5</td>\n",
       "      <td>3.158579</td>\n",
       "      <td>...</td>\n",
       "      <td>5</td>\n",
       "      <td>2.569461</td>\n",
       "      <td>0.049537</td>\n",
       "      <td>5</td>\n",
       "      <td>0.435651</td>\n",
       "      <td>0.006536</td>\n",
       "      <td>5</td>\n",
       "      <td>7004147</td>\n",
       "      <td>0.0</td>\n",
       "      <td>5</td>\n",
       "    </tr>\n",
       "  </tbody>\n",
       "</table>\n",
       "<p>3 rows × 21 columns</p>\n",
       "</div>"
      ],
      "text/plain": [
       "          sample_run                    overall                 data_read  \\\n",
       "                mean       std count       mean       std count      mean   \n",
       "n_workers                                                                   \n",
       "2                  2  1.581139     5  15.340989  1.883721     5  1.644621   \n",
       "4                  2  1.581139     5   9.947924  1.574986     5  0.933119   \n",
       "6                  2  1.581139     5   6.968639  0.472867     5  0.804447   \n",
       "\n",
       "                          data_preprocessing  ...       hashing_vectorizer  \\\n",
       "                std count               mean  ... count               mean   \n",
       "n_workers                                     ...                            \n",
       "2          1.164932     5           7.317221  ...     5           5.903818   \n",
       "4          0.336385     5           4.743177  ...     5           3.751743   \n",
       "6          0.437089     5           3.158579  ...     5           2.569461   \n",
       "\n",
       "                          tfidf_transformer                    nrows       \\\n",
       "                std count              mean       std count     mean  std   \n",
       "n_workers                                                                   \n",
       "2          0.659276     5          0.474889  0.016647     5  7004147  0.0   \n",
       "4          0.508971     5          0.519356  0.092354     5  7004147  0.0   \n",
       "6          0.049537     5          0.435651  0.006536     5  7004147  0.0   \n",
       "\n",
       "                 \n",
       "          count  \n",
       "n_workers        \n",
       "2             5  \n",
       "4             5  \n",
       "6             5  \n",
       "\n",
       "[3 rows x 21 columns]"
      ]
     },
     "execution_count": 11,
     "metadata": {},
     "output_type": "execute_result"
    }
   ],
   "source": [
    "groupy"
   ]
  },
  {
   "cell_type": "code",
   "execution_count": 14,
   "id": "aec87629-1843-4b99-97d3-c33baea7dcc4",
   "metadata": {},
   "outputs": [],
   "source": [
    "client.close()\n",
    "cluster.close()"
   ]
  },
  {
   "cell_type": "code",
   "execution_count": null,
   "id": "0be24808-5c46-4edf-b976-c12fbf486276",
   "metadata": {},
   "outputs": [],
   "source": []
  }
 ],
 "metadata": {
  "kernelspec": {
   "display_name": "Python 3",
   "language": "python",
   "name": "python3"
  },
  "language_info": {
   "codemirror_mode": {
    "name": "ipython",
    "version": 3
   },
   "file_extension": ".py",
   "mimetype": "text/x-python",
   "name": "python",
   "nbconvert_exporter": "python",
   "pygments_lexer": "ipython3",
   "version": "3.8.10"
  }
 },
 "nbformat": 4,
 "nbformat_minor": 5
}
