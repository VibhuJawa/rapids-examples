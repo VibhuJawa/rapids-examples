{
 "cells": [
  {
   "cell_type": "markdown",
   "id": "d07a2c86-23aa-4848-b413-2b351614b4b6",
   "metadata": {},
   "source": [
    "# NLP tf-idf pipeline with cuML + Dask"
   ]
  },
  {
   "cell_type": "code",
   "execution_count": 1,
   "id": "639f8a3c-70da-4dd3-8e2e-655452dfa306",
   "metadata": {},
   "outputs": [],
   "source": [
    "%matplotlib inline\n",
    "import cupy as cp\n",
    "from cuml.feature_extraction.text import HashingVectorizer\n",
    "from dask_cuda import LocalCUDACluster\n",
    "from dask.distributed import Client, wait\n",
    "from cuml.dask.common import to_sparse_dask_array\n",
    "from cuml.dask.feature_extraction.text import TfidfTransformer\n",
    "import dask_cudf\n",
    "import cudf\n",
    "import nltk\n",
    "import dask\n",
    "from timeit import default_timer as timer\n",
    "import time\n",
    "import pickle\n",
    "from tqdm import tqdm\n",
    "import pandas as pd\n",
    "import seaborn as sns\n",
    "import matplotlib.pyplot as plt"
   ]
  },
  {
   "cell_type": "code",
   "execution_count": 2,
   "id": "4c655662-8a6d-4b8a-befa-65ee3e5a329f",
   "metadata": {},
   "outputs": [],
   "source": [
    "class SimpleTimer:\n",
    "    def __init__(self):\n",
    "        self.start = None\n",
    "        self.end = None\n",
    "        self.elapsed = None\n",
    "\n",
    "    def __enter__(self):\n",
    "        self.start = time.perf_counter_ns()\n",
    "        return self\n",
    "\n",
    "    def __exit__(self, exc_type, exc_val, exc_tb):\n",
    "        self.end = time.perf_counter_ns()\n",
    "        self.elapsed = self.end - self.start\n",
    "\n",
    "def visualize_data(path):\n",
    "\n",
    "    data = pickle.load(open(path, \"rb\"))\n",
    "    df_list = [[\"n_workers\", \"sample_run\", \"overall\", \"data_read\", \"data_preprocessing\", \"hashing_vectorizer\", \"tfidf_transformer\", \"nrows\"]]\n",
    "    for n_workers in data:\n",
    "        temp_data = data[n_workers]\n",
    "        if isinstance(temp_data, float):\n",
    "            continue\n",
    "        results = temp_data[\"sample_run_results\"]\n",
    "        for sample_run in range(len(results)):\n",
    "            timings = results[sample_run]\n",
    "            df_list.append([n_workers, sample_run, timings[\"overall\"]/1e9, \n",
    "                           timings[\"data_read\"]/1e9, timings[\"data_preprocessing\"]/1e9,timings[\"hashing_vectorizer\"]/1e9, \n",
    "                           timings[\"tfidf_transformer\"]/1e9, timings[\"nrows\"]])\n",
    "    \n",
    "    perf_df = pd.DataFrame(df_list[1:], columns=df_list[0])\n",
    "    fig=plt.figure(figsize=(12,8), dpi= 100, facecolor='w', edgecolor='k')\n",
    "    dd = pd.melt(perf_df, \n",
    "                 id_vars=['n_workers'],\n",
    "                 value_vars=['overall','data_read', 'data_preprocessing', 'hashing_vectorizer','tfidf_transformer'],\n",
    "                 var_name='latency')\n",
    "    sns.boxplot(x='latency',y='value',data=dd, orient=\"v\", hue=\"n_workers\")\n",
    "    plt.show()\n",
    "    return perf_df, dd "
   ]
  },
  {
   "cell_type": "code",
   "execution_count": 3,
   "id": "7ecaf6e6-b719-4a57-8c6a-426f30212c23",
   "metadata": {},
   "outputs": [
    {
     "name": "stderr",
     "output_type": "stream",
     "text": [
      "[nltk_data] Downloading package stopwords to\n",
      "[nltk_data]     /home/nfs/anirband/nltk_data...\n",
      "[nltk_data]   Package stopwords is already up-to-date!\n"
     ]
    }
   ],
   "source": [
    "nltk.download('stopwords')\n",
    "STOPWORDS = nltk.corpus.stopwords.words('english')\n",
    "PUNCTUATIONS = [ '!', '\"', '#', '$', '%', '&', '(', ')', '*', '+', '-', '.', '/',  '\\\\', ':', ';', '<', '=', '>',\n",
    "           '?', '@', '[', ']', '^', '_', '`', '{', '|', '}', '\\t','\\n',\"'\",\",\",'~' , '—']"
   ]
  },
  {
   "cell_type": "markdown",
   "id": "d850d8cf-a343-476e-9c47-a0718e6e04bf",
   "metadata": {},
   "source": [
    "## Setting up the Dask cuda cluster"
   ]
  },
  {
   "cell_type": "code",
   "execution_count": 4,
   "id": "a1fb9b87-94af-49f9-b00d-682305b7c802",
   "metadata": {},
   "outputs": [
    {
     "name": "stderr",
     "output_type": "stream",
     "text": [
      "distributed.preloading - INFO - Import preload module: dask_cuda.initialize\n",
      "distributed.preloading - INFO - Import preload module: dask_cuda.initialize\n",
      "distributed.preloading - INFO - Import preload module: dask_cuda.initialize\n",
      "distributed.preloading - INFO - Import preload module: dask_cuda.initialize\n",
      "distributed.preloading - INFO - Import preload module: dask_cuda.initialize\n",
      "distributed.preloading - INFO - Import preload module: dask_cuda.initialize\n",
      "distributed.preloading - INFO - Import preload module: dask_cuda.initialize\n",
      "/home/nfs/anirband/anaconda3/envs/rapids-21.08/lib/python3.8/contextlib.py:120: UserWarning: Creating scratch directories is taking a surprisingly long time. This is often due to running workers on a network file system. Consider specifying a local-directory to point workers to write scratch data to a local disk.\n",
      "  next(self.gen)\n",
      "distributed.preloading - INFO - Import preload module: dask_cuda.initialize\n"
     ]
    }
   ],
   "source": [
    "# Create a local CUDA cluster\n",
    "cluster = LocalCUDACluster(CUDA_VISIBLE_DEVICES=\"0,1,2,3,4,5,6,7\")\n",
    "client = Client(cluster)"
   ]
  },
  {
   "cell_type": "code",
   "execution_count": 5,
   "id": "a9b987af-61e4-4693-bfc1-5ba6cb96ec24",
   "metadata": {},
   "outputs": [
    {
     "data": {
      "text/html": [
       "\n",
       "            <div>\n",
       "                <div style=\"\n",
       "                    width: 24px;\n",
       "                    height: 24px;\n",
       "                    background-color: #e1e1e1;\n",
       "                    border: 3px solid #9D9D9D;\n",
       "                    border-radius: 5px;\n",
       "                    position: absolute;\"> </div>\n",
       "                <div style=\"margin-left: 48px;\">\n",
       "                    <h3 style=\"margin-bottom: 0px;\">Client</h3>\n",
       "                    <p style=\"color: #9D9D9D; margin-bottom: 0px;\">Client-a2a68e60-f542-11eb-a558-d8c4973b6ee2</p>\n",
       "                    <table style=\"width: 100%; text-align: left;\">\n",
       "                    \n",
       "                <tr>\n",
       "                    <td style=\"text-align: left;\"><strong>Connection method:</strong> Cluster object</td>\n",
       "                    <td style=\"text-align: left;\"><strong>Cluster type:</strong> LocalCUDACluster</td>\n",
       "                </tr>\n",
       "                \n",
       "                <tr>\n",
       "                    <td style=\"text-align: left;\">\n",
       "                        <strong>Dashboard: </strong>\n",
       "                        <a href=\"http://127.0.0.1:8787/status\">http://127.0.0.1:8787/status</a>\n",
       "                    </td>\n",
       "                    <td style=\"text-align: left;\"></td>\n",
       "                </tr>\n",
       "                \n",
       "                    </table>\n",
       "                    \n",
       "                <details>\n",
       "                <summary style=\"margin-bottom: 20px;\"><h3 style=\"display: inline;\">Cluster Info</h3></summary>\n",
       "                \n",
       "            <div class=\"jp-RenderedHTMLCommon jp-RenderedHTML jp-mod-trusted jp-OutputArea-output\">\n",
       "                <div style=\"\n",
       "                    width: 24px;\n",
       "                    height: 24px;\n",
       "                    background-color: #e1e1e1;\n",
       "                    border: 3px solid #9D9D9D;\n",
       "                    border-radius: 5px;\n",
       "                    position: absolute;\"> </div>\n",
       "                <div style=\"margin-left: 48px;\">\n",
       "                    <h3 style=\"margin-bottom: 0px; margin-top: 0px;\">LocalCUDACluster</h3>\n",
       "                    <p style=\"color: #9D9D9D; margin-bottom: 0px;\">1a32139e</p>\n",
       "                    <table style=\"width: 100%; text-align: left;\">\n",
       "                    \n",
       "            <tr>\n",
       "                <td style=\"text-align: left;\"><strong>Status:</strong> running</td>\n",
       "                <td style=\"text-align: left;\"><strong>Using processes:</strong> True</td>\n",
       "            </tr>\n",
       "        \n",
       "            <tr>\n",
       "                <td style=\"text-align: left;\">\n",
       "                    <strong>Dashboard:</strong> <a href=\"http://127.0.0.1:8787/status\">http://127.0.0.1:8787/status</a>\n",
       "                </td>\n",
       "                <td style=\"text-align: left;\"><strong>Workers:</strong> 8</td>\n",
       "            </tr>\n",
       "            <tr>\n",
       "                <td style=\"text-align: left;\">\n",
       "                    <strong>Total threads:</strong>\n",
       "                    8\n",
       "                </td>\n",
       "                <td style=\"text-align: left;\">\n",
       "                    <strong>Total memory:</strong>\n",
       "                    0.98 TiB\n",
       "                </td>\n",
       "            </tr>\n",
       "        \n",
       "                    </table>\n",
       "                    <details>\n",
       "                    <summary style=\"margin-bottom: 20px;\"><h3 style=\"display: inline;\">Scheduler Info</h3></summary>\n",
       "                    \n",
       "        <div style=\"\">\n",
       "            \n",
       "            <div>\n",
       "                <div style=\"\n",
       "                    width: 24px;\n",
       "                    height: 24px;\n",
       "                    background-color: #FFF7E5;\n",
       "                    border: 3px solid #FF6132;\n",
       "                    border-radius: 5px;\n",
       "                    position: absolute;\"> </div>\n",
       "                <div style=\"margin-left: 48px;\">\n",
       "                    <h3 style=\"margin-bottom: 0px;\">Scheduler</h3>\n",
       "                    <p style=\"color: #9D9D9D; margin-bottom: 0px;\">Scheduler-16faefcf-a048-48ba-8fb9-92b0380a7b56</p>\n",
       "                    <table style=\"width: 100%; text-align: left;\">\n",
       "                        <tr>\n",
       "                            <td style=\"text-align: left;\"><strong>Comm:</strong> tcp://127.0.0.1:45527</td>\n",
       "                            <td style=\"text-align: left;\"><strong>Workers:</strong> 8</td>\n",
       "                        </tr>\n",
       "                        <tr>\n",
       "                            <td style=\"text-align: left;\">\n",
       "                                <strong>Dashboard:</strong> <a href=\"http://127.0.0.1:8787/status\">http://127.0.0.1:8787/status</a>\n",
       "                            </td>\n",
       "                            <td style=\"text-align: left;\">\n",
       "                                <strong>Total threads:</strong>\n",
       "                                8\n",
       "                            </td>\n",
       "                        </tr>\n",
       "                        <tr>\n",
       "                            <td style=\"text-align: left;\">\n",
       "                                <strong>Started:</strong>\n",
       "                                Just now\n",
       "                            </td>\n",
       "                            <td style=\"text-align: left;\">\n",
       "                                <strong>Total memory:</strong>\n",
       "                                0.98 TiB\n",
       "                            </td>\n",
       "                        </tr>\n",
       "                    </table>\n",
       "                </div>\n",
       "            </div>\n",
       "        \n",
       "            <details style=\"margin-left: 48px;\">\n",
       "            <summary style=\"margin-bottom: 20px;\"><h3 style=\"display: inline;\">Workers</h3></summary>\n",
       "            \n",
       "            <div style=\"margin-bottom: 20px;\">\n",
       "                <div style=\"width: 24px;\n",
       "                            height: 24px;\n",
       "                            background-color: #DBF5FF;\n",
       "                            border: 3px solid #4CC9FF;\n",
       "                            border-radius: 5px;\n",
       "                            position: absolute;\"> </div>\n",
       "                <div style=\"margin-left: 48px;\">\n",
       "                <details>\n",
       "                    <summary>\n",
       "                        <h4 style=\"margin-bottom: 0px; display: inline;\">Worker: 0</h4>\n",
       "                    </summary>\n",
       "                    <table style=\"width: 100%; text-align: left;\">\n",
       "                        <tr>\n",
       "                            <td style=\"text-align: left;\"><strong>Comm: </strong> tcp://127.0.0.1:40821</td>\n",
       "                            <td style=\"text-align: left;\"><strong>Total threads: </strong> 1</td>\n",
       "                        </tr>\n",
       "                        <tr>\n",
       "                            <td style=\"text-align: left;\">\n",
       "                                <strong>Dashboard: </strong>\n",
       "                                <a href=\"http://127.0.0.1:39703/status\">http://127.0.0.1:39703/status</a>\n",
       "                            </td>\n",
       "                            <td style=\"text-align: left;\">\n",
       "                                <strong>Memory: </strong>\n",
       "                                125.97 GiB\n",
       "                            </td>\n",
       "                        </tr>\n",
       "                        <tr>\n",
       "                            <td style=\"text-align: left;\"><strong>Nanny: </strong> tcp://127.0.0.1:44675</td>\n",
       "                            <td style=\"text-align: left;\"></td>\n",
       "                        </tr>\n",
       "                        <tr>\n",
       "                            <td colspan=\"2\" style=\"text-align: left;\">\n",
       "                                <strong>Local directory: </strong>\n",
       "                                /home/nfs/anirband/Software/GitHub/rapids-examples/tfidf-benchmark/dask-worker-space/worker-78risvhw\n",
       "                            </td>\n",
       "                        </tr>\n",
       "                        \n",
       "                <tr>\n",
       "                    <td style=\"text-align: left;\">\n",
       "                        <strong>GPU: </strong>Tesla V100-SXM2-32GB\n",
       "                    </td>\n",
       "                    <td style=\"text-align: left;\">\n",
       "                        <strong>GPU memory: </strong>\n",
       "                        31.75 GiB\n",
       "                    </td>\n",
       "                </tr>\n",
       "                \n",
       "                        \n",
       "                    </table>\n",
       "                </details>\n",
       "                </div>\n",
       "            </div>\n",
       "            \n",
       "            <div style=\"margin-bottom: 20px;\">\n",
       "                <div style=\"width: 24px;\n",
       "                            height: 24px;\n",
       "                            background-color: #DBF5FF;\n",
       "                            border: 3px solid #4CC9FF;\n",
       "                            border-radius: 5px;\n",
       "                            position: absolute;\"> </div>\n",
       "                <div style=\"margin-left: 48px;\">\n",
       "                <details>\n",
       "                    <summary>\n",
       "                        <h4 style=\"margin-bottom: 0px; display: inline;\">Worker: 1</h4>\n",
       "                    </summary>\n",
       "                    <table style=\"width: 100%; text-align: left;\">\n",
       "                        <tr>\n",
       "                            <td style=\"text-align: left;\"><strong>Comm: </strong> tcp://127.0.0.1:34027</td>\n",
       "                            <td style=\"text-align: left;\"><strong>Total threads: </strong> 1</td>\n",
       "                        </tr>\n",
       "                        <tr>\n",
       "                            <td style=\"text-align: left;\">\n",
       "                                <strong>Dashboard: </strong>\n",
       "                                <a href=\"http://127.0.0.1:38591/status\">http://127.0.0.1:38591/status</a>\n",
       "                            </td>\n",
       "                            <td style=\"text-align: left;\">\n",
       "                                <strong>Memory: </strong>\n",
       "                                125.97 GiB\n",
       "                            </td>\n",
       "                        </tr>\n",
       "                        <tr>\n",
       "                            <td style=\"text-align: left;\"><strong>Nanny: </strong> tcp://127.0.0.1:46007</td>\n",
       "                            <td style=\"text-align: left;\"></td>\n",
       "                        </tr>\n",
       "                        <tr>\n",
       "                            <td colspan=\"2\" style=\"text-align: left;\">\n",
       "                                <strong>Local directory: </strong>\n",
       "                                /home/nfs/anirband/Software/GitHub/rapids-examples/tfidf-benchmark/dask-worker-space/worker-t74v2o4x\n",
       "                            </td>\n",
       "                        </tr>\n",
       "                        \n",
       "                <tr>\n",
       "                    <td style=\"text-align: left;\">\n",
       "                        <strong>GPU: </strong>Tesla V100-SXM2-32GB\n",
       "                    </td>\n",
       "                    <td style=\"text-align: left;\">\n",
       "                        <strong>GPU memory: </strong>\n",
       "                        31.75 GiB\n",
       "                    </td>\n",
       "                </tr>\n",
       "                \n",
       "                        \n",
       "                    </table>\n",
       "                </details>\n",
       "                </div>\n",
       "            </div>\n",
       "            \n",
       "            <div style=\"margin-bottom: 20px;\">\n",
       "                <div style=\"width: 24px;\n",
       "                            height: 24px;\n",
       "                            background-color: #DBF5FF;\n",
       "                            border: 3px solid #4CC9FF;\n",
       "                            border-radius: 5px;\n",
       "                            position: absolute;\"> </div>\n",
       "                <div style=\"margin-left: 48px;\">\n",
       "                <details>\n",
       "                    <summary>\n",
       "                        <h4 style=\"margin-bottom: 0px; display: inline;\">Worker: 2</h4>\n",
       "                    </summary>\n",
       "                    <table style=\"width: 100%; text-align: left;\">\n",
       "                        <tr>\n",
       "                            <td style=\"text-align: left;\"><strong>Comm: </strong> tcp://127.0.0.1:44653</td>\n",
       "                            <td style=\"text-align: left;\"><strong>Total threads: </strong> 1</td>\n",
       "                        </tr>\n",
       "                        <tr>\n",
       "                            <td style=\"text-align: left;\">\n",
       "                                <strong>Dashboard: </strong>\n",
       "                                <a href=\"http://127.0.0.1:41667/status\">http://127.0.0.1:41667/status</a>\n",
       "                            </td>\n",
       "                            <td style=\"text-align: left;\">\n",
       "                                <strong>Memory: </strong>\n",
       "                                125.97 GiB\n",
       "                            </td>\n",
       "                        </tr>\n",
       "                        <tr>\n",
       "                            <td style=\"text-align: left;\"><strong>Nanny: </strong> tcp://127.0.0.1:34669</td>\n",
       "                            <td style=\"text-align: left;\"></td>\n",
       "                        </tr>\n",
       "                        <tr>\n",
       "                            <td colspan=\"2\" style=\"text-align: left;\">\n",
       "                                <strong>Local directory: </strong>\n",
       "                                /home/nfs/anirband/Software/GitHub/rapids-examples/tfidf-benchmark/dask-worker-space/worker-q4p3897c\n",
       "                            </td>\n",
       "                        </tr>\n",
       "                        \n",
       "                <tr>\n",
       "                    <td style=\"text-align: left;\">\n",
       "                        <strong>GPU: </strong>Tesla V100-SXM2-32GB\n",
       "                    </td>\n",
       "                    <td style=\"text-align: left;\">\n",
       "                        <strong>GPU memory: </strong>\n",
       "                        31.75 GiB\n",
       "                    </td>\n",
       "                </tr>\n",
       "                \n",
       "                        \n",
       "                    </table>\n",
       "                </details>\n",
       "                </div>\n",
       "            </div>\n",
       "            \n",
       "            <div style=\"margin-bottom: 20px;\">\n",
       "                <div style=\"width: 24px;\n",
       "                            height: 24px;\n",
       "                            background-color: #DBF5FF;\n",
       "                            border: 3px solid #4CC9FF;\n",
       "                            border-radius: 5px;\n",
       "                            position: absolute;\"> </div>\n",
       "                <div style=\"margin-left: 48px;\">\n",
       "                <details>\n",
       "                    <summary>\n",
       "                        <h4 style=\"margin-bottom: 0px; display: inline;\">Worker: 3</h4>\n",
       "                    </summary>\n",
       "                    <table style=\"width: 100%; text-align: left;\">\n",
       "                        <tr>\n",
       "                            <td style=\"text-align: left;\"><strong>Comm: </strong> tcp://127.0.0.1:33637</td>\n",
       "                            <td style=\"text-align: left;\"><strong>Total threads: </strong> 1</td>\n",
       "                        </tr>\n",
       "                        <tr>\n",
       "                            <td style=\"text-align: left;\">\n",
       "                                <strong>Dashboard: </strong>\n",
       "                                <a href=\"http://127.0.0.1:42397/status\">http://127.0.0.1:42397/status</a>\n",
       "                            </td>\n",
       "                            <td style=\"text-align: left;\">\n",
       "                                <strong>Memory: </strong>\n",
       "                                125.97 GiB\n",
       "                            </td>\n",
       "                        </tr>\n",
       "                        <tr>\n",
       "                            <td style=\"text-align: left;\"><strong>Nanny: </strong> tcp://127.0.0.1:38687</td>\n",
       "                            <td style=\"text-align: left;\"></td>\n",
       "                        </tr>\n",
       "                        <tr>\n",
       "                            <td colspan=\"2\" style=\"text-align: left;\">\n",
       "                                <strong>Local directory: </strong>\n",
       "                                /home/nfs/anirband/Software/GitHub/rapids-examples/tfidf-benchmark/dask-worker-space/worker-n0oiqjtk\n",
       "                            </td>\n",
       "                        </tr>\n",
       "                        \n",
       "                <tr>\n",
       "                    <td style=\"text-align: left;\">\n",
       "                        <strong>GPU: </strong>Tesla V100-SXM2-32GB\n",
       "                    </td>\n",
       "                    <td style=\"text-align: left;\">\n",
       "                        <strong>GPU memory: </strong>\n",
       "                        31.75 GiB\n",
       "                    </td>\n",
       "                </tr>\n",
       "                \n",
       "                        \n",
       "                    </table>\n",
       "                </details>\n",
       "                </div>\n",
       "            </div>\n",
       "            \n",
       "            <div style=\"margin-bottom: 20px;\">\n",
       "                <div style=\"width: 24px;\n",
       "                            height: 24px;\n",
       "                            background-color: #DBF5FF;\n",
       "                            border: 3px solid #4CC9FF;\n",
       "                            border-radius: 5px;\n",
       "                            position: absolute;\"> </div>\n",
       "                <div style=\"margin-left: 48px;\">\n",
       "                <details>\n",
       "                    <summary>\n",
       "                        <h4 style=\"margin-bottom: 0px; display: inline;\">Worker: 4</h4>\n",
       "                    </summary>\n",
       "                    <table style=\"width: 100%; text-align: left;\">\n",
       "                        <tr>\n",
       "                            <td style=\"text-align: left;\"><strong>Comm: </strong> tcp://127.0.0.1:35113</td>\n",
       "                            <td style=\"text-align: left;\"><strong>Total threads: </strong> 1</td>\n",
       "                        </tr>\n",
       "                        <tr>\n",
       "                            <td style=\"text-align: left;\">\n",
       "                                <strong>Dashboard: </strong>\n",
       "                                <a href=\"http://127.0.0.1:41951/status\">http://127.0.0.1:41951/status</a>\n",
       "                            </td>\n",
       "                            <td style=\"text-align: left;\">\n",
       "                                <strong>Memory: </strong>\n",
       "                                125.97 GiB\n",
       "                            </td>\n",
       "                        </tr>\n",
       "                        <tr>\n",
       "                            <td style=\"text-align: left;\"><strong>Nanny: </strong> tcp://127.0.0.1:46171</td>\n",
       "                            <td style=\"text-align: left;\"></td>\n",
       "                        </tr>\n",
       "                        <tr>\n",
       "                            <td colspan=\"2\" style=\"text-align: left;\">\n",
       "                                <strong>Local directory: </strong>\n",
       "                                /home/nfs/anirband/Software/GitHub/rapids-examples/tfidf-benchmark/dask-worker-space/worker-bk8eadmf\n",
       "                            </td>\n",
       "                        </tr>\n",
       "                        \n",
       "                <tr>\n",
       "                    <td style=\"text-align: left;\">\n",
       "                        <strong>GPU: </strong>Tesla V100-SXM2-32GB\n",
       "                    </td>\n",
       "                    <td style=\"text-align: left;\">\n",
       "                        <strong>GPU memory: </strong>\n",
       "                        31.75 GiB\n",
       "                    </td>\n",
       "                </tr>\n",
       "                \n",
       "                        \n",
       "                    </table>\n",
       "                </details>\n",
       "                </div>\n",
       "            </div>\n",
       "            \n",
       "            <div style=\"margin-bottom: 20px;\">\n",
       "                <div style=\"width: 24px;\n",
       "                            height: 24px;\n",
       "                            background-color: #DBF5FF;\n",
       "                            border: 3px solid #4CC9FF;\n",
       "                            border-radius: 5px;\n",
       "                            position: absolute;\"> </div>\n",
       "                <div style=\"margin-left: 48px;\">\n",
       "                <details>\n",
       "                    <summary>\n",
       "                        <h4 style=\"margin-bottom: 0px; display: inline;\">Worker: 5</h4>\n",
       "                    </summary>\n",
       "                    <table style=\"width: 100%; text-align: left;\">\n",
       "                        <tr>\n",
       "                            <td style=\"text-align: left;\"><strong>Comm: </strong> tcp://127.0.0.1:34829</td>\n",
       "                            <td style=\"text-align: left;\"><strong>Total threads: </strong> 1</td>\n",
       "                        </tr>\n",
       "                        <tr>\n",
       "                            <td style=\"text-align: left;\">\n",
       "                                <strong>Dashboard: </strong>\n",
       "                                <a href=\"http://127.0.0.1:35717/status\">http://127.0.0.1:35717/status</a>\n",
       "                            </td>\n",
       "                            <td style=\"text-align: left;\">\n",
       "                                <strong>Memory: </strong>\n",
       "                                125.97 GiB\n",
       "                            </td>\n",
       "                        </tr>\n",
       "                        <tr>\n",
       "                            <td style=\"text-align: left;\"><strong>Nanny: </strong> tcp://127.0.0.1:36887</td>\n",
       "                            <td style=\"text-align: left;\"></td>\n",
       "                        </tr>\n",
       "                        <tr>\n",
       "                            <td colspan=\"2\" style=\"text-align: left;\">\n",
       "                                <strong>Local directory: </strong>\n",
       "                                /home/nfs/anirband/Software/GitHub/rapids-examples/tfidf-benchmark/dask-worker-space/worker-98urwo62\n",
       "                            </td>\n",
       "                        </tr>\n",
       "                        \n",
       "                <tr>\n",
       "                    <td style=\"text-align: left;\">\n",
       "                        <strong>GPU: </strong>Tesla V100-SXM2-32GB\n",
       "                    </td>\n",
       "                    <td style=\"text-align: left;\">\n",
       "                        <strong>GPU memory: </strong>\n",
       "                        31.75 GiB\n",
       "                    </td>\n",
       "                </tr>\n",
       "                \n",
       "                        \n",
       "                    </table>\n",
       "                </details>\n",
       "                </div>\n",
       "            </div>\n",
       "            \n",
       "            <div style=\"margin-bottom: 20px;\">\n",
       "                <div style=\"width: 24px;\n",
       "                            height: 24px;\n",
       "                            background-color: #DBF5FF;\n",
       "                            border: 3px solid #4CC9FF;\n",
       "                            border-radius: 5px;\n",
       "                            position: absolute;\"> </div>\n",
       "                <div style=\"margin-left: 48px;\">\n",
       "                <details>\n",
       "                    <summary>\n",
       "                        <h4 style=\"margin-bottom: 0px; display: inline;\">Worker: 6</h4>\n",
       "                    </summary>\n",
       "                    <table style=\"width: 100%; text-align: left;\">\n",
       "                        <tr>\n",
       "                            <td style=\"text-align: left;\"><strong>Comm: </strong> tcp://127.0.0.1:42649</td>\n",
       "                            <td style=\"text-align: left;\"><strong>Total threads: </strong> 1</td>\n",
       "                        </tr>\n",
       "                        <tr>\n",
       "                            <td style=\"text-align: left;\">\n",
       "                                <strong>Dashboard: </strong>\n",
       "                                <a href=\"http://127.0.0.1:45523/status\">http://127.0.0.1:45523/status</a>\n",
       "                            </td>\n",
       "                            <td style=\"text-align: left;\">\n",
       "                                <strong>Memory: </strong>\n",
       "                                125.97 GiB\n",
       "                            </td>\n",
       "                        </tr>\n",
       "                        <tr>\n",
       "                            <td style=\"text-align: left;\"><strong>Nanny: </strong> tcp://127.0.0.1:36633</td>\n",
       "                            <td style=\"text-align: left;\"></td>\n",
       "                        </tr>\n",
       "                        <tr>\n",
       "                            <td colspan=\"2\" style=\"text-align: left;\">\n",
       "                                <strong>Local directory: </strong>\n",
       "                                /home/nfs/anirband/Software/GitHub/rapids-examples/tfidf-benchmark/dask-worker-space/worker-pfrpwl33\n",
       "                            </td>\n",
       "                        </tr>\n",
       "                        \n",
       "                <tr>\n",
       "                    <td style=\"text-align: left;\">\n",
       "                        <strong>GPU: </strong>Tesla V100-SXM2-32GB\n",
       "                    </td>\n",
       "                    <td style=\"text-align: left;\">\n",
       "                        <strong>GPU memory: </strong>\n",
       "                        31.75 GiB\n",
       "                    </td>\n",
       "                </tr>\n",
       "                \n",
       "                        \n",
       "                    </table>\n",
       "                </details>\n",
       "                </div>\n",
       "            </div>\n",
       "            \n",
       "            <div style=\"margin-bottom: 20px;\">\n",
       "                <div style=\"width: 24px;\n",
       "                            height: 24px;\n",
       "                            background-color: #DBF5FF;\n",
       "                            border: 3px solid #4CC9FF;\n",
       "                            border-radius: 5px;\n",
       "                            position: absolute;\"> </div>\n",
       "                <div style=\"margin-left: 48px;\">\n",
       "                <details>\n",
       "                    <summary>\n",
       "                        <h4 style=\"margin-bottom: 0px; display: inline;\">Worker: 7</h4>\n",
       "                    </summary>\n",
       "                    <table style=\"width: 100%; text-align: left;\">\n",
       "                        <tr>\n",
       "                            <td style=\"text-align: left;\"><strong>Comm: </strong> tcp://127.0.0.1:44139</td>\n",
       "                            <td style=\"text-align: left;\"><strong>Total threads: </strong> 1</td>\n",
       "                        </tr>\n",
       "                        <tr>\n",
       "                            <td style=\"text-align: left;\">\n",
       "                                <strong>Dashboard: </strong>\n",
       "                                <a href=\"http://127.0.0.1:33505/status\">http://127.0.0.1:33505/status</a>\n",
       "                            </td>\n",
       "                            <td style=\"text-align: left;\">\n",
       "                                <strong>Memory: </strong>\n",
       "                                125.97 GiB\n",
       "                            </td>\n",
       "                        </tr>\n",
       "                        <tr>\n",
       "                            <td style=\"text-align: left;\"><strong>Nanny: </strong> tcp://127.0.0.1:34861</td>\n",
       "                            <td style=\"text-align: left;\"></td>\n",
       "                        </tr>\n",
       "                        <tr>\n",
       "                            <td colspan=\"2\" style=\"text-align: left;\">\n",
       "                                <strong>Local directory: </strong>\n",
       "                                /home/nfs/anirband/Software/GitHub/rapids-examples/tfidf-benchmark/dask-worker-space/worker-3m3unnsm\n",
       "                            </td>\n",
       "                        </tr>\n",
       "                        \n",
       "                <tr>\n",
       "                    <td style=\"text-align: left;\">\n",
       "                        <strong>GPU: </strong>Tesla V100-SXM2-32GB\n",
       "                    </td>\n",
       "                    <td style=\"text-align: left;\">\n",
       "                        <strong>GPU memory: </strong>\n",
       "                        31.75 GiB\n",
       "                    </td>\n",
       "                </tr>\n",
       "                \n",
       "                        \n",
       "                    </table>\n",
       "                </details>\n",
       "                </div>\n",
       "            </div>\n",
       "            \n",
       "            </details>\n",
       "        </div>\n",
       "        \n",
       "                    </details>\n",
       "                </div>\n",
       "            </div>\n",
       "        \n",
       "                </details>\n",
       "                \n",
       "                </div>\n",
       "            </div>\n",
       "        "
      ],
      "text/plain": [
       "<Client: 'tcp://127.0.0.1:45527' processes=8 threads=8, memory=0.98 TiB>"
      ]
     },
     "execution_count": 5,
     "metadata": {},
     "output_type": "execute_result"
    }
   ],
   "source": [
    "client"
   ]
  },
  {
   "cell_type": "markdown",
   "id": "aca68537-3df7-498a-9fc4-d8a8baf91659",
   "metadata": {},
   "source": [
    "## Helper Functions"
   ]
  },
  {
   "cell_type": "code",
   "execution_count": 6,
   "id": "41316782-0c62-48ad-960d-470d4e4ecd25",
   "metadata": {},
   "outputs": [],
   "source": [
    "def scale_workers(client, n_workers, timeout=300):\n",
    "    client.cluster.scale(n_workers)\n",
    "    \n",
    "    m = len(client.has_what().keys())    \n",
    "    start = end = time.perf_counter_ns()\n",
    "    while ((m != n_workers) and (((end - start) / 1e9) < timeout) ):\n",
    "        time.sleep(5)\n",
    "        m = len(client.has_what().keys())\n",
    "        \n",
    "        end = time.perf_counter_ns()\n",
    "        \n",
    "    if (((end - start) / 1e9) >= timeout):\n",
    "        raise RuntimeError(f\"Failed to rescale cluster in {timeout} sec.\"\n",
    "              \"Try increasing timeout for very large containers, and verify available compute resources.\")\n",
    "\n",
    "def read_data(client, parquet_path, persist_flag=True):\n",
    "    data = dask_cudf.read_parquet(parquet_path)\n",
    "    if persist_flag:\n",
    "        with dask.annotate(workers=set(client.has_what().keys())):\n",
    "            data = client.persist(data)\n",
    "        wait(data)\n",
    "    print(data.shape[0].compute())\n",
    "    return data\n",
    "\n",
    "def text_preprocessor(data, client, column_name, PUNCTUATIONS, STOPWORDS, persist_flag=True):\n",
    "    data = data[data[column_name].notnull()]\n",
    "    data[column_name] = (data[column_name]\n",
    "                         .str.lower()\n",
    "                         .str.replace(PUNCTUATIONS, [\" \"]*len(PUNCTUATIONS), regex=False)\n",
    "                         .str.replace_tokens(STOPWORDS, \"\")\n",
    "                         .str.normalize_spaces()\n",
    "                         .str.strip())\n",
    "    if persist_flag:\n",
    "        with dask.annotate(workers=set(client.has_what().keys())):\n",
    "            data = client.persist(data)\n",
    "        wait(data)\n",
    "    print(data.shape[0].compute())\n",
    "    return data\n",
    "\n",
    "def hashing_vectorizer(data, client, column_name, persist_flag):\n",
    "    vectorizer = HashingVectorizer(stop_words='english', preprocessor=None)\n",
    "    # Meta is an empty dataframe matches the dtypes and columns of the output\n",
    "    meta = dask.array.from_array(cp.sparse.csr_matrix(cp.zeros(1, dtype=cp.float32))) \n",
    "    hashing_vectorized = data[column_name].map_partitions(vectorizer.fit_transform, meta=meta).astype(cp.float32)\n",
    "    if persist_flag:\n",
    "        with dask.annotate(workers=set(client.has_what().keys())):\n",
    "            hashing_vectorized = client.persist(hashing_vectorized)\n",
    "        wait(hashing_vectorized)\n",
    "        hashing_vectorized.compute_chunk_sizes()\n",
    "    print(hashing_vectorized.shape)\n",
    "    return hashing_vectorized\n",
    "\n",
    "def tfidf_transformer(data, client, persist_flag):\n",
    "    multi_gpu_transformer = TfidfTransformer()\n",
    "    result = multi_gpu_transformer.fit_transform(data)\n",
    "    if persist_flag:\n",
    "        with dask.annotate(workers=set(client.has_what().keys())):\n",
    "            result = client.persist(result)\n",
    "        wait(result)\n",
    "        result.compute_chunk_sizes()\n",
    "    print(result.shape)\n",
    "    return result\n",
    "\n",
    "def execute_full_pipeline(n, i, client, parquet_path, worker_counts=[1], result_path=\"./results.pkl\", persist_flag=True):\n",
    "    sample_record = {\"overall\":0, \"data_read\":0, \"hashing_vectorizer\":0, \"tfid_transformer\":0, \"data_preprocessing\":0, \"nrows\":0}\n",
    "    client.restart()\n",
    "    with SimpleTimer() as timer:\n",
    "        data = read_data(client, parquet_path, persist_flag)\n",
    "    sample_record[\"data_read\"]=timer.elapsed\n",
    "\n",
    "    with SimpleTimer() as timer:\n",
    "        data = text_preprocessor(data, client, \"review_body\", PUNCTUATIONS, STOPWORDS, persist_flag)\n",
    "    sample_record[\"data_preprocessing\"]=timer.elapsed\n",
    "    \n",
    "    with SimpleTimer() as timer:\n",
    "        hashing_vectorized = hashing_vectorizer(data, client, \"review_body\", persist_flag)\n",
    "    sample_record[\"hashing_vectorizer\"]=timer.elapsed\n",
    "    \n",
    "    with SimpleTimer() as timer:\n",
    "        result = tfidf_transformer(hashing_vectorized, client, persist_flag=True)\n",
    "    sample_record[\"tfidf_transformer\"]=timer.elapsed\n",
    "    \n",
    "    print(f\"Workers:{n}, Sample Run:{i}, Finished loading data in {sample_record['data_read']}s\")\n",
    "    print(f\"Workers:{n}, Sample Run:{i}, Finished preprocessing data in {sample_record['data_preprocessing']}s\")\n",
    "    print(f\"Workers:{n}, Sample Run:{i}, Finished fitting HashVectorizer in {sample_record['hashing_vectorizer']}s\")\n",
    "    print(f\"Workers:{n}, Sample Run:{i}, Finished fitting IDF Transformer in {sample_record['tfidf_transformer']}s\")\n",
    "    return data, result, sample_record\n",
    "    "
   ]
  },
  {
   "cell_type": "markdown",
   "id": "33abd114-7d65-4081-8a04-580e4a5785d8",
   "metadata": {},
   "source": [
    "## Benchmarking Code"
   ]
  },
  {
   "cell_type": "code",
   "execution_count": 7,
   "id": "897b3081-f947-4f87-8443-315c53053612",
   "metadata": {},
   "outputs": [],
   "source": [
    "def performance_numbers(client, parquet_path, worker_counts=[1], samples=1, result_path=\"./results.pkl\", persist_flag=True):\n",
    "    \"\"\"\n",
    "    Main function to perform the performance sweep\n",
    "    \"\"\"\n",
    "    overall_perf_result = {}\n",
    "    \n",
    "    for n in worker_counts: \n",
    "        overall_perf_result[n]={\"sample_run_results\": []}\n",
    "        scale_workers(client, n)\n",
    "        \n",
    "        for i in tqdm(range(samples)): \n",
    "            with SimpleTimer() as overalltimer:\n",
    "                data, result, sample_record = execute_full_pipeline(n, i, client, parquet_path, worker_counts=[1], result_path=result_path, persist_flag=persist_flag)\n",
    "            sample_record[\"overall\"]=overalltimer.elapsed\n",
    "            sample_record[\"nrows\"]=data.shape[0].compute()\n",
    "            print(f\"Workers:{n}, Sample Run:{i}, Finished executing full pipeline in {overalltimer.elapsed}s\")\n",
    "            overall_perf_result[n][\"sample_run_results\"].append(sample_record)\n",
    "    \n",
    "    with open(result_path, \"wb\") as file:\n",
    "        pickle.dump(overall_perf_result, file)"
   ]
  },
  {
   "cell_type": "code",
   "execution_count": 8,
   "id": "d6d27907-94d5-414a-93ae-0997a887ff44",
   "metadata": {},
   "outputs": [],
   "source": [
    "#parquet_path = 's3://amazon-reviews-pds/parquet/product_category=Camera/*.parquet'\n",
    "dataset = \"Books\"\n",
    "parquet_path = f'./data/product_category={dataset}'\n",
    "model_kwargs = {\"text_preprocessor\":text_preprocessor}\n",
    "samples = 5\n",
    "worker_counts = [2,4,6,8]\n",
    "result_path = f\"./results/result_poc_nlp_dask_{dataset}_persist.pkl\""
   ]
  },
  {
   "cell_type": "markdown",
   "id": "3ebd559c-e7b9-4386-b819-c9a54cd1e140",
   "metadata": {},
   "source": [
    "## Benchmark latency by materializing the intermediate dataframe(s) in every stage"
   ]
  },
  {
   "cell_type": "code",
   "execution_count": 8,
   "id": "4da2c546-c633-4f77-9220-e0067add959c",
   "metadata": {},
   "outputs": [
    {
     "name": "stderr",
     "output_type": "stream",
     "text": [
      "  0%|                                                                                                                                                                                      | 0/5 [00:00<?, ?it/s]distributed.preloading - INFO - Import preload module: dask_cuda.initialize\n",
      "distributed.preloading - INFO - Import preload module: dask_cuda.initialize\n"
     ]
    },
    {
     "name": "stdout",
     "output_type": "stream",
     "text": [
      "20726160\n"
     ]
    },
    {
     "name": "stderr",
     "output_type": "stream",
     "text": [
      "/home/nfs/anirband/anaconda3/envs/rapids-21.08/lib/python3.8/site-packages/cudf/core/column/string.py:830: UserWarning: `n` parameter is not supported when `pat` and `repl` are list-like inputs\n",
      "  warnings.warn(\n"
     ]
    },
    {
     "name": "stdout",
     "output_type": "stream",
     "text": [
      "20725971\n",
      "# nnz: 0\n",
      "(20725971, 1048576)\n",
      "[I] [20:58:02.948860] [Delayed('_merge_stats_to_model-9f72b5cd-a571-4aa2-b112-dc541b5752b4')]\n",
      "[I] [20:58:02.951439] [Delayed('_merge_stats_to_model-2a6266fd-9f5e-43ab-9996-cee0c370f4f4')]\n",
      "[I] [20:58:03.410401] [<Future: finished, type: cuml.TfidfTransformer, key: _merge_stats_to_model-9f72b5cd-a571-4aa2-b112-dc541b5752b4>]\n",
      "[I] [20:58:03.410742] [<Future: finished, type: cuml.TfidfTransformer, key: _merge_stats_to_model-2a6266fd-9f5e-43ab-9996-cee0c370f4f4>]\n",
      "[I] [20:58:03.423662] [Delayed('_merge_stats_to_model-272bd385-534d-4d0b-bb3d-13b11f90ec42')]\n"
     ]
    },
    {
     "name": "stderr",
     "output_type": "stream",
     "text": [
      " 20%|██████████████████████████████████▊                                                                                                                                           | 1/5 [01:37<06:30, 97.55s/it]"
     ]
    },
    {
     "name": "stdout",
     "output_type": "stream",
     "text": [
      "(20725971, 1048576)\n",
      "Workers:2, Sample Run:0, Finished loading data in 21384177810s\n",
      "Workers:2, Sample Run:0, Finished preprocessing data in 28029037429s\n",
      "Workers:2, Sample Run:0, Finished fitting HashVectorizer in 38071542922s\n",
      "Workers:2, Sample Run:0, Finished fitting IDF Transformer in 7139783258s\n",
      "Workers:2, Sample Run:0, Finished executing full pipeline in 97397786491s\n"
     ]
    },
    {
     "name": "stderr",
     "output_type": "stream",
     "text": [
      "/home/nfs/anirband/anaconda3/envs/rapids-21.08/lib/python3.8/site-packages/cudf/core/column/string.py:830: UserWarning: `n` parameter is not supported when `pat` and `repl` are list-like inputs\n",
      "  warnings.warn(\n",
      "/home/nfs/anirband/anaconda3/envs/rapids-21.08/lib/python3.8/site-packages/cudf/core/column/string.py:830: UserWarning: `n` parameter is not supported when `pat` and `repl` are list-like inputs\n",
      "  warnings.warn(\n",
      "distributed.preloading - INFO - Import preload module: dask_cuda.initialize\n",
      "distributed.preloading - INFO - Import preload module: dask_cuda.initialize\n"
     ]
    },
    {
     "name": "stdout",
     "output_type": "stream",
     "text": [
      "20726160\n"
     ]
    },
    {
     "name": "stderr",
     "output_type": "stream",
     "text": [
      "/home/nfs/anirband/anaconda3/envs/rapids-21.08/lib/python3.8/site-packages/cudf/core/column/string.py:830: UserWarning: `n` parameter is not supported when `pat` and `repl` are list-like inputs\n",
      "  warnings.warn(\n"
     ]
    },
    {
     "name": "stdout",
     "output_type": "stream",
     "text": [
      "20725971\n",
      "# nnz: 0\n",
      "(20725971, 1048576)\n",
      "[I] [20:59:13.776563] [Delayed('_merge_stats_to_model-23bf05fa-882b-4ae1-9bad-845dd34b69de')]\n",
      "[I] [20:59:13.778903] [Delayed('_merge_stats_to_model-0eb8d2bf-9e36-496c-a497-d5d8f297c29e')]\n",
      "[I] [20:59:14.102690] [<Future: finished, type: cuml.TfidfTransformer, key: _merge_stats_to_model-23bf05fa-882b-4ae1-9bad-845dd34b69de>]\n",
      "[I] [20:59:14.102766] [<Future: finished, type: cuml.TfidfTransformer, key: _merge_stats_to_model-0eb8d2bf-9e36-496c-a497-d5d8f297c29e>]\n",
      "[I] [20:59:14.108943] [Delayed('_merge_stats_to_model-ee7aea08-d2a9-4172-b69c-fe653f5a6bad')]\n",
      "(20725971, 1048576)\n",
      "Workers:2, Sample Run:1, Finished loading data in 5809526012s\n",
      "Workers:2, Sample Run:1, Finished preprocessing data in 26378286779s\n",
      "Workers:2, Sample Run:1, Finished fitting HashVectorizer in 28801652148s\n",
      "Workers:2, Sample Run:1, Finished fitting IDF Transformer in 2945099872s\n"
     ]
    },
    {
     "name": "stderr",
     "output_type": "stream",
     "text": [
      " 40%|█████████████████████████████████████████████████████████████████████▌                                                                                                        | 2/5 [02:45<04:00, 80.04s/it]"
     ]
    },
    {
     "name": "stdout",
     "output_type": "stream",
     "text": [
      "Workers:2, Sample Run:1, Finished executing full pipeline in 67458149089s\n"
     ]
    },
    {
     "name": "stderr",
     "output_type": "stream",
     "text": [
      "/home/nfs/anirband/anaconda3/envs/rapids-21.08/lib/python3.8/site-packages/cudf/core/column/string.py:830: UserWarning: `n` parameter is not supported when `pat` and `repl` are list-like inputs\n",
      "  warnings.warn(\n",
      "/home/nfs/anirband/anaconda3/envs/rapids-21.08/lib/python3.8/site-packages/cudf/core/column/string.py:830: UserWarning: `n` parameter is not supported when `pat` and `repl` are list-like inputs\n",
      "  warnings.warn(\n",
      "distributed.preloading - INFO - Import preload module: dask_cuda.initialize\n",
      "distributed.preloading - INFO - Import preload module: dask_cuda.initialize\n"
     ]
    },
    {
     "name": "stdout",
     "output_type": "stream",
     "text": [
      "20726160\n"
     ]
    },
    {
     "name": "stderr",
     "output_type": "stream",
     "text": [
      "/home/nfs/anirband/anaconda3/envs/rapids-21.08/lib/python3.8/site-packages/cudf/core/column/string.py:830: UserWarning: `n` parameter is not supported when `pat` and `repl` are list-like inputs\n",
      "  warnings.warn(\n"
     ]
    },
    {
     "name": "stdout",
     "output_type": "stream",
     "text": [
      "20725971\n",
      "# nnz: 0\n",
      "(20725971, 1048576)\n",
      "[I] [21:00:21.434882] [Delayed('_merge_stats_to_model-256ffac5-2c34-47cd-a523-adb5c110118b')]\n",
      "[I] [21:00:21.441202] [Delayed('_merge_stats_to_model-18b37e0a-6fd4-4197-9e8f-15719cdac5df')]\n",
      "[I] [21:00:21.501733] [<Future: finished, type: cuml.TfidfTransformer, key: _merge_stats_to_model-256ffac5-2c34-47cd-a523-adb5c110118b>]\n",
      "[I] [21:00:21.501976] [<Future: finished, type: cuml.TfidfTransformer, key: _merge_stats_to_model-18b37e0a-6fd4-4197-9e8f-15719cdac5df>]\n",
      "[I] [21:00:21.507967] [Delayed('_merge_stats_to_model-6bdc9109-fc7b-4833-8b02-00ebe030e545')]\n"
     ]
    },
    {
     "name": "stderr",
     "output_type": "stream",
     "text": [
      " 60%|████████████████████████████████████████████████████████████████████████████████████████████████████████▍                                                                     | 3/5 [03:52<02:28, 74.27s/it]"
     ]
    },
    {
     "name": "stdout",
     "output_type": "stream",
     "text": [
      "(20725971, 1048576)\n",
      "Workers:2, Sample Run:2, Finished loading data in 5835288151s\n",
      "Workers:2, Sample Run:2, Finished preprocessing data in 26397000542s\n",
      "Workers:2, Sample Run:2, Finished fitting HashVectorizer in 28845398233s\n",
      "Workers:2, Sample Run:2, Finished fitting IDF Transformer in 2837632528s\n",
      "Workers:2, Sample Run:2, Finished executing full pipeline in 67355433284s\n"
     ]
    },
    {
     "name": "stderr",
     "output_type": "stream",
     "text": [
      "/home/nfs/anirband/anaconda3/envs/rapids-21.08/lib/python3.8/site-packages/cudf/core/column/string.py:830: UserWarning: `n` parameter is not supported when `pat` and `repl` are list-like inputs\n",
      "  warnings.warn(\n",
      "/home/nfs/anirband/anaconda3/envs/rapids-21.08/lib/python3.8/site-packages/cudf/core/column/string.py:830: UserWarning: `n` parameter is not supported when `pat` and `repl` are list-like inputs\n",
      "  warnings.warn(\n",
      "distributed.preloading - INFO - Import preload module: dask_cuda.initialize\n",
      "distributed.preloading - INFO - Import preload module: dask_cuda.initialize\n"
     ]
    },
    {
     "name": "stdout",
     "output_type": "stream",
     "text": [
      "20726160\n"
     ]
    },
    {
     "name": "stderr",
     "output_type": "stream",
     "text": [
      "/home/nfs/anirband/anaconda3/envs/rapids-21.08/lib/python3.8/site-packages/cudf/core/column/string.py:830: UserWarning: `n` parameter is not supported when `pat` and `repl` are list-like inputs\n",
      "  warnings.warn(\n"
     ]
    },
    {
     "name": "stdout",
     "output_type": "stream",
     "text": [
      "20725971\n",
      "# nnz: 0\n",
      "(20725971, 1048576)\n",
      "[I] [21:01:28.957664] [Delayed('_merge_stats_to_model-0302dcfc-291d-4d35-95ae-4aa6247fc3d0')]\n",
      "[I] [21:01:28.962589] [Delayed('_merge_stats_to_model-91711cf9-a322-4fbc-a111-5c1bd335dd89')]\n",
      "[I] [21:01:29.284665] [<Future: finished, type: cuml.TfidfTransformer, key: _merge_stats_to_model-0302dcfc-291d-4d35-95ae-4aa6247fc3d0>]\n",
      "[I] [21:01:29.284940] [<Future: finished, type: cuml.TfidfTransformer, key: _merge_stats_to_model-91711cf9-a322-4fbc-a111-5c1bd335dd89>]\n",
      "[I] [21:01:29.290530] [Delayed('_merge_stats_to_model-813ea6f3-8b67-47a6-987c-6f2a49262369')]\n"
     ]
    },
    {
     "name": "stderr",
     "output_type": "stream",
     "text": [
      " 80%|███████████████████████████████████████████████████████████████████████████████████████████████████████████████████████████████████████████▏                                  | 4/5 [05:00<01:11, 71.72s/it]"
     ]
    },
    {
     "name": "stdout",
     "output_type": "stream",
     "text": [
      "(20725971, 1048576)\n",
      "Workers:2, Sample Run:3, Finished loading data in 5799130688s\n",
      "Workers:2, Sample Run:3, Finished preprocessing data in 26383668805s\n",
      "Workers:2, Sample Run:3, Finished fitting HashVectorizer in 28815265536s\n",
      "Workers:2, Sample Run:3, Finished fitting IDF Transformer in 3127665121s\n",
      "Workers:2, Sample Run:3, Finished executing full pipeline in 67614172683s\n"
     ]
    },
    {
     "name": "stderr",
     "output_type": "stream",
     "text": [
      "/home/nfs/anirband/anaconda3/envs/rapids-21.08/lib/python3.8/site-packages/cudf/core/column/string.py:830: UserWarning: `n` parameter is not supported when `pat` and `repl` are list-like inputs\n",
      "  warnings.warn(\n",
      "/home/nfs/anirband/anaconda3/envs/rapids-21.08/lib/python3.8/site-packages/cudf/core/column/string.py:830: UserWarning: `n` parameter is not supported when `pat` and `repl` are list-like inputs\n",
      "  warnings.warn(\n",
      "distributed.preloading - INFO - Import preload module: dask_cuda.initialize\n",
      "distributed.preloading - INFO - Import preload module: dask_cuda.initialize\n"
     ]
    },
    {
     "name": "stdout",
     "output_type": "stream",
     "text": [
      "20726160\n"
     ]
    },
    {
     "name": "stderr",
     "output_type": "stream",
     "text": [
      "/home/nfs/anirband/anaconda3/envs/rapids-21.08/lib/python3.8/site-packages/cudf/core/column/string.py:830: UserWarning: `n` parameter is not supported when `pat` and `repl` are list-like inputs\n",
      "  warnings.warn(\n"
     ]
    },
    {
     "name": "stdout",
     "output_type": "stream",
     "text": [
      "20725971\n",
      "# nnz: 0\n",
      "(20725971, 1048576)\n",
      "[I] [21:02:36.377933] [Delayed('_merge_stats_to_model-e5965c76-efb6-40d0-92b0-b84d6db51458')]\n",
      "[I] [21:02:36.380286] [Delayed('_merge_stats_to_model-7728616d-a192-40eb-991d-c3d448f2e6d2')]\n",
      "[I] [21:02:36.698420] [<Future: finished, type: cuml.TfidfTransformer, key: _merge_stats_to_model-e5965c76-efb6-40d0-92b0-b84d6db51458>]\n",
      "[I] [21:02:36.698725] [<Future: finished, type: cuml.TfidfTransformer, key: _merge_stats_to_model-7728616d-a192-40eb-991d-c3d448f2e6d2>]\n",
      "[I] [21:02:36.704752] [Delayed('_merge_stats_to_model-db14f870-4a4b-4f58-8089-26bc7b83f4a0')]\n"
     ]
    },
    {
     "name": "stderr",
     "output_type": "stream",
     "text": [
      "100%|██████████████████████████████████████████████████████████████████████████████████████████████████████████████████████████████████████████████████████████████████████████████| 5/5 [06:07<00:00, 73.58s/it]"
     ]
    },
    {
     "name": "stdout",
     "output_type": "stream",
     "text": [
      "(20725971, 1048576)\n",
      "Workers:2, Sample Run:4, Finished loading data in 5835560510s\n",
      "Workers:2, Sample Run:4, Finished preprocessing data in 26023809274s\n",
      "Workers:2, Sample Run:4, Finished fitting HashVectorizer in 28798089606s\n",
      "Workers:2, Sample Run:4, Finished fitting IDF Transformer in 3090131882s\n",
      "Workers:2, Sample Run:4, Finished executing full pipeline in 67214077142s\n"
     ]
    },
    {
     "name": "stderr",
     "output_type": "stream",
     "text": [
      "\n",
      "distributed.preloading - INFO - Import preload module: dask_cuda.initialize\n",
      "distributed.preloading - INFO - Import preload module: dask_cuda.initialize\n",
      "  0%|                                                                                                                                                                                      | 0/5 [00:00<?, ?it/s]/home/nfs/anirband/anaconda3/envs/rapids-21.08/lib/python3.8/site-packages/cudf/core/column/string.py:830: UserWarning: `n` parameter is not supported when `pat` and `repl` are list-like inputs\n",
      "  warnings.warn(\n",
      "/home/nfs/anirband/anaconda3/envs/rapids-21.08/lib/python3.8/site-packages/cudf/core/column/string.py:830: UserWarning: `n` parameter is not supported when `pat` and `repl` are list-like inputs\n",
      "  warnings.warn(\n",
      "distributed.preloading - INFO - Import preload module: dask_cuda.initialize\n",
      "distributed.preloading - INFO - Import preload module: dask_cuda.initialize\n",
      "distributed.preloading - INFO - Import preload module: dask_cuda.initialize\n",
      "distributed.preloading - INFO - Import preload module: dask_cuda.initialize\n"
     ]
    },
    {
     "name": "stdout",
     "output_type": "stream",
     "text": [
      "20726160\n"
     ]
    },
    {
     "name": "stderr",
     "output_type": "stream",
     "text": [
      "/home/nfs/anirband/anaconda3/envs/rapids-21.08/lib/python3.8/site-packages/cudf/core/column/string.py:830: UserWarning: `n` parameter is not supported when `pat` and `repl` are list-like inputs\n",
      "  warnings.warn(\n"
     ]
    },
    {
     "name": "stdout",
     "output_type": "stream",
     "text": [
      "20725971\n",
      "# nnz: 0\n",
      "(20725971, 1048576)\n",
      "[I] [21:03:20.457036] [Delayed('_merge_stats_to_model-e20976ea-462e-4c82-beba-e940397ee5d7')]\n",
      "[I] [21:03:20.458545] [Delayed('_merge_stats_to_model-8464e3d7-f5ad-4c1e-b6a5-1908b23c66ca')]\n",
      "[I] [21:03:20.459331] [Delayed('_merge_stats_to_model-4c23e3ac-59d4-4e20-aabf-7e02fcf3e9be')]\n",
      "[I] [21:03:20.460213] [Delayed('_merge_stats_to_model-d18a2353-9b89-44aa-b3a7-edbcbd2b116a')]\n",
      "[I] [21:03:20.505698] [<Future: finished, type: cuml.TfidfTransformer, key: _merge_stats_to_model-e20976ea-462e-4c82-beba-e940397ee5d7>]\n",
      "[I] [21:03:20.505940] [<Future: finished, type: cuml.TfidfTransformer, key: _merge_stats_to_model-8464e3d7-f5ad-4c1e-b6a5-1908b23c66ca>]\n",
      "[I] [21:03:20.506082] [<Future: finished, type: cuml.TfidfTransformer, key: _merge_stats_to_model-4c23e3ac-59d4-4e20-aabf-7e02fcf3e9be>]\n",
      "[I] [21:03:20.506211] [<Future: finished, type: cuml.TfidfTransformer, key: _merge_stats_to_model-d18a2353-9b89-44aa-b3a7-edbcbd2b116a>]\n",
      "[I] [21:03:20.512854] [Delayed('_merge_stats_to_model-38e0e298-5834-42cf-b658-22022e09b4c9')]\n"
     ]
    },
    {
     "name": "stderr",
     "output_type": "stream",
     "text": [
      " 20%|██████████████████████████████████▊                                                                                                                                           | 1/5 [00:38<02:34, 38.58s/it]"
     ]
    },
    {
     "name": "stdout",
     "output_type": "stream",
     "text": [
      "(20725971, 1048576)\n",
      "Workers:4, Sample Run:0, Finished loading data in 3050370965s\n",
      "Workers:4, Sample Run:0, Finished preprocessing data in 14898396646s\n",
      "Workers:4, Sample Run:0, Finished fitting HashVectorizer in 14973456203s\n",
      "Workers:4, Sample Run:0, Finished fitting IDF Transformer in 2030947857s\n",
      "Workers:4, Sample Run:0, Finished executing full pipeline in 38526369681s\n"
     ]
    },
    {
     "name": "stderr",
     "output_type": "stream",
     "text": [
      "/home/nfs/anirband/anaconda3/envs/rapids-21.08/lib/python3.8/site-packages/cudf/core/column/string.py:830: UserWarning: `n` parameter is not supported when `pat` and `repl` are list-like inputs\n",
      "  warnings.warn(\n",
      "/home/nfs/anirband/anaconda3/envs/rapids-21.08/lib/python3.8/site-packages/cudf/core/column/string.py:830: UserWarning: `n` parameter is not supported when `pat` and `repl` are list-like inputs\n",
      "  warnings.warn(\n",
      "/home/nfs/anirband/anaconda3/envs/rapids-21.08/lib/python3.8/site-packages/cudf/core/column/string.py:830: UserWarning: `n` parameter is not supported when `pat` and `repl` are list-like inputs\n",
      "  warnings.warn(\n",
      "/home/nfs/anirband/anaconda3/envs/rapids-21.08/lib/python3.8/site-packages/cudf/core/column/string.py:830: UserWarning: `n` parameter is not supported when `pat` and `repl` are list-like inputs\n",
      "  warnings.warn(\n",
      "distributed.preloading - INFO - Import preload module: dask_cuda.initialize\n",
      "distributed.preloading - INFO - Import preload module: dask_cuda.initialize\n",
      "distributed.preloading - INFO - Import preload module: dask_cuda.initialize\n",
      "distributed.preloading - INFO - Import preload module: dask_cuda.initialize\n"
     ]
    },
    {
     "name": "stdout",
     "output_type": "stream",
     "text": [
      "20726160\n"
     ]
    },
    {
     "name": "stderr",
     "output_type": "stream",
     "text": [
      "/home/nfs/anirband/anaconda3/envs/rapids-21.08/lib/python3.8/site-packages/cudf/core/column/string.py:830: UserWarning: `n` parameter is not supported when `pat` and `repl` are list-like inputs\n",
      "  warnings.warn(\n"
     ]
    },
    {
     "name": "stdout",
     "output_type": "stream",
     "text": [
      "20725971\n",
      "# nnz: 0\n",
      "(20725971, 1048576)\n",
      "[I] [21:03:59.869484] [Delayed('_merge_stats_to_model-0118234c-4f9f-45c0-98e7-c935027cdef7')]\n",
      "[I] [21:03:59.870195] [Delayed('_merge_stats_to_model-fb3eb3a3-c632-4f63-913f-c8fa3da82a02')]\n",
      "[I] [21:03:59.870863] [Delayed('_merge_stats_to_model-cee06eeb-1173-4fdb-8ae1-d6839e50733f')]\n",
      "[I] [21:03:59.872210] [Delayed('_merge_stats_to_model-23f4239f-8fde-4c2a-821c-b44f01509cb4')]\n",
      "[I] [21:03:59.909439] [<Future: finished, type: cuml.TfidfTransformer, key: _merge_stats_to_model-0118234c-4f9f-45c0-98e7-c935027cdef7>]\n",
      "[I] [21:03:59.909517] [<Future: finished, type: cuml.TfidfTransformer, key: _merge_stats_to_model-fb3eb3a3-c632-4f63-913f-c8fa3da82a02>]\n",
      "[I] [21:03:59.909749] [<Future: finished, type: cuml.TfidfTransformer, key: _merge_stats_to_model-cee06eeb-1173-4fdb-8ae1-d6839e50733f>]\n",
      "[I] [21:03:59.909880] [<Future: finished, type: cuml.TfidfTransformer, key: _merge_stats_to_model-23f4239f-8fde-4c2a-821c-b44f01509cb4>]\n",
      "[I] [21:03:59.916143] [Delayed('_merge_stats_to_model-dfc7925b-c1bd-46ea-b4f4-0a3a28a7d132')]\n"
     ]
    },
    {
     "name": "stderr",
     "output_type": "stream",
     "text": [
      " 40%|█████████████████████████████████████████████████████████████████████▌                                                                                                        | 2/5 [01:17<01:57, 39.03s/it]"
     ]
    },
    {
     "name": "stdout",
     "output_type": "stream",
     "text": [
      "(20725971, 1048576)\n",
      "Workers:4, Sample Run:1, Finished loading data in 3094329230s\n",
      "Workers:4, Sample Run:1, Finished preprocessing data in 15010813061s\n",
      "Workers:4, Sample Run:1, Finished fitting HashVectorizer in 15142235609s\n",
      "Workers:4, Sample Run:1, Finished fitting IDF Transformer in 1968813864s\n",
      "Workers:4, Sample Run:1, Finished executing full pipeline in 39295087784s\n"
     ]
    },
    {
     "name": "stderr",
     "output_type": "stream",
     "text": [
      "/home/nfs/anirband/anaconda3/envs/rapids-21.08/lib/python3.8/site-packages/cudf/core/column/string.py:830: UserWarning: `n` parameter is not supported when `pat` and `repl` are list-like inputs\n",
      "  warnings.warn(\n",
      "/home/nfs/anirband/anaconda3/envs/rapids-21.08/lib/python3.8/site-packages/cudf/core/column/string.py:830: UserWarning: `n` parameter is not supported when `pat` and `repl` are list-like inputs\n",
      "  warnings.warn(\n",
      "/home/nfs/anirband/anaconda3/envs/rapids-21.08/lib/python3.8/site-packages/cudf/core/column/string.py:830: UserWarning: `n` parameter is not supported when `pat` and `repl` are list-like inputs\n",
      "  warnings.warn(\n",
      "/home/nfs/anirband/anaconda3/envs/rapids-21.08/lib/python3.8/site-packages/cudf/core/column/string.py:830: UserWarning: `n` parameter is not supported when `pat` and `repl` are list-like inputs\n",
      "  warnings.warn(\n",
      "distributed.preloading - INFO - Import preload module: dask_cuda.initialize\n",
      "distributed.preloading - INFO - Import preload module: dask_cuda.initialize\n",
      "distributed.preloading - INFO - Import preload module: dask_cuda.initialize\n",
      "distributed.preloading - INFO - Import preload module: dask_cuda.initialize\n"
     ]
    },
    {
     "name": "stdout",
     "output_type": "stream",
     "text": [
      "20726160\n"
     ]
    },
    {
     "name": "stderr",
     "output_type": "stream",
     "text": [
      "/home/nfs/anirband/anaconda3/envs/rapids-21.08/lib/python3.8/site-packages/cudf/core/column/string.py:830: UserWarning: `n` parameter is not supported when `pat` and `repl` are list-like inputs\n",
      "  warnings.warn(\n"
     ]
    },
    {
     "name": "stdout",
     "output_type": "stream",
     "text": [
      "20725971\n",
      "# nnz: 0\n",
      "(20725971, 1048576)\n",
      "[I] [21:04:39.291232] [Delayed('_merge_stats_to_model-84820496-eb1c-4bb6-b3a6-217c377b998b')]\n",
      "[I] [21:04:39.292024] [Delayed('_merge_stats_to_model-3bbdf797-8157-4ca9-a266-461702a1bfbd')]\n",
      "[I] [21:04:39.292787] [Delayed('_merge_stats_to_model-01082679-e76f-49a2-ad70-9321d500e1f4')]\n",
      "[I] [21:04:39.294081] [Delayed('_merge_stats_to_model-cbfd3b5f-45b1-4487-a8b5-42774ec6fa27')]\n",
      "[I] [21:04:39.332960] [<Future: finished, type: cuml.TfidfTransformer, key: _merge_stats_to_model-84820496-eb1c-4bb6-b3a6-217c377b998b>]\n",
      "[I] [21:04:39.333220] [<Future: finished, type: cuml.TfidfTransformer, key: _merge_stats_to_model-3bbdf797-8157-4ca9-a266-461702a1bfbd>]\n",
      "[I] [21:04:39.333364] [<Future: finished, type: cuml.TfidfTransformer, key: _merge_stats_to_model-01082679-e76f-49a2-ad70-9321d500e1f4>]\n",
      "[I] [21:04:39.333504] [<Future: finished, type: cuml.TfidfTransformer, key: _merge_stats_to_model-cbfd3b5f-45b1-4487-a8b5-42774ec6fa27>]\n",
      "[I] [21:04:39.340209] [Delayed('_merge_stats_to_model-0526251b-6370-4f76-a5b3-02c6cd56550f')]\n"
     ]
    },
    {
     "name": "stderr",
     "output_type": "stream",
     "text": [
      " 60%|████████████████████████████████████████████████████████████████████████████████████████████████████████▍                                                                     | 3/5 [01:57<01:18, 39.22s/it]"
     ]
    },
    {
     "name": "stdout",
     "output_type": "stream",
     "text": [
      "(20725971, 1048576)\n",
      "Workers:4, Sample Run:2, Finished loading data in 3051332674s\n",
      "Workers:4, Sample Run:2, Finished preprocessing data in 14920598624s\n",
      "Workers:4, Sample Run:2, Finished fitting HashVectorizer in 15126895288s\n",
      "Workers:4, Sample Run:2, Finished fitting IDF Transformer in 2007189908s\n",
      "Workers:4, Sample Run:2, Finished executing full pipeline in 39378188993s\n"
     ]
    },
    {
     "name": "stderr",
     "output_type": "stream",
     "text": [
      "/home/nfs/anirband/anaconda3/envs/rapids-21.08/lib/python3.8/site-packages/cudf/core/column/string.py:830: UserWarning: `n` parameter is not supported when `pat` and `repl` are list-like inputs\n",
      "  warnings.warn(\n",
      "/home/nfs/anirband/anaconda3/envs/rapids-21.08/lib/python3.8/site-packages/cudf/core/column/string.py:830: UserWarning: `n` parameter is not supported when `pat` and `repl` are list-like inputs\n",
      "  warnings.warn(\n",
      "/home/nfs/anirband/anaconda3/envs/rapids-21.08/lib/python3.8/site-packages/cudf/core/column/string.py:830: UserWarning: `n` parameter is not supported when `pat` and `repl` are list-like inputs\n",
      "  warnings.warn(\n",
      "/home/nfs/anirband/anaconda3/envs/rapids-21.08/lib/python3.8/site-packages/cudf/core/column/string.py:830: UserWarning: `n` parameter is not supported when `pat` and `repl` are list-like inputs\n",
      "  warnings.warn(\n",
      "distributed.preloading - INFO - Import preload module: dask_cuda.initialize\n",
      "distributed.preloading - INFO - Import preload module: dask_cuda.initialize\n",
      "distributed.preloading - INFO - Import preload module: dask_cuda.initialize\n",
      "distributed.preloading - INFO - Import preload module: dask_cuda.initialize\n"
     ]
    },
    {
     "name": "stdout",
     "output_type": "stream",
     "text": [
      "20726160\n"
     ]
    },
    {
     "name": "stderr",
     "output_type": "stream",
     "text": [
      "/home/nfs/anirband/anaconda3/envs/rapids-21.08/lib/python3.8/site-packages/cudf/core/column/string.py:830: UserWarning: `n` parameter is not supported when `pat` and `repl` are list-like inputs\n",
      "  warnings.warn(\n"
     ]
    },
    {
     "name": "stdout",
     "output_type": "stream",
     "text": [
      "20725971\n",
      "# nnz: 0\n",
      "(20725971, 1048576)\n",
      "[I] [21:05:22.300429] [Delayed('_merge_stats_to_model-3a46d505-775d-471b-8cd0-b22d938a46b7')]\n",
      "[I] [21:05:22.301753] [Delayed('_merge_stats_to_model-1c4dba1f-2a49-45d6-aeef-952bef607805')]\n",
      "[I] [21:05:22.302452] [Delayed('_merge_stats_to_model-5c338ecb-f414-4ee6-8e22-68f9a777aea9')]\n",
      "[I] [21:05:22.303122] [Delayed('_merge_stats_to_model-e29bdf6a-fdf1-45ac-b2bb-3517617e9752')]\n",
      "[I] [21:05:22.342216] [<Future: finished, type: cuml.TfidfTransformer, key: _merge_stats_to_model-3a46d505-775d-471b-8cd0-b22d938a46b7>]\n",
      "[I] [21:05:22.342454] [<Future: finished, type: cuml.TfidfTransformer, key: _merge_stats_to_model-1c4dba1f-2a49-45d6-aeef-952bef607805>]\n",
      "[I] [21:05:22.342591] [<Future: finished, type: cuml.TfidfTransformer, key: _merge_stats_to_model-5c338ecb-f414-4ee6-8e22-68f9a777aea9>]\n",
      "[I] [21:05:22.342717] [<Future: finished, type: cuml.TfidfTransformer, key: _merge_stats_to_model-e29bdf6a-fdf1-45ac-b2bb-3517617e9752>]\n",
      "[I] [21:05:22.348889] [Delayed('_merge_stats_to_model-ac97f201-8b2e-4969-8d48-f14e97b32257')]\n"
     ]
    },
    {
     "name": "stderr",
     "output_type": "stream",
     "text": [
      " 80%|███████████████████████████████████████████████████████████████████████████████████████████████████████████████████████████████████████████▏                                  | 4/5 [02:40<00:40, 40.73s/it]"
     ]
    },
    {
     "name": "stdout",
     "output_type": "stream",
     "text": [
      "(20725971, 1048576)\n",
      "Workers:4, Sample Run:3, Finished loading data in 3100560138s\n",
      "Workers:4, Sample Run:3, Finished preprocessing data in 17258673758s\n",
      "Workers:4, Sample Run:3, Finished fitting HashVectorizer in 16345044465s\n",
      "Workers:4, Sample Run:3, Finished fitting IDF Transformer in 2084056593s\n",
      "Workers:4, Sample Run:3, Finished executing full pipeline in 42993542490s\n"
     ]
    },
    {
     "name": "stderr",
     "output_type": "stream",
     "text": [
      "/home/nfs/anirband/anaconda3/envs/rapids-21.08/lib/python3.8/site-packages/cudf/core/column/string.py:830: UserWarning: `n` parameter is not supported when `pat` and `repl` are list-like inputs\n",
      "  warnings.warn(\n",
      "/home/nfs/anirband/anaconda3/envs/rapids-21.08/lib/python3.8/site-packages/cudf/core/column/string.py:830: UserWarning: `n` parameter is not supported when `pat` and `repl` are list-like inputs\n",
      "  warnings.warn(\n",
      "/home/nfs/anirband/anaconda3/envs/rapids-21.08/lib/python3.8/site-packages/cudf/core/column/string.py:830: UserWarning: `n` parameter is not supported when `pat` and `repl` are list-like inputs\n",
      "  warnings.warn(\n",
      "/home/nfs/anirband/anaconda3/envs/rapids-21.08/lib/python3.8/site-packages/cudf/core/column/string.py:830: UserWarning: `n` parameter is not supported when `pat` and `repl` are list-like inputs\n",
      "  warnings.warn(\n",
      "distributed.preloading - INFO - Import preload module: dask_cuda.initialize\n",
      "distributed.preloading - INFO - Import preload module: dask_cuda.initialize\n",
      "distributed.preloading - INFO - Import preload module: dask_cuda.initialize\n",
      "distributed.preloading - INFO - Import preload module: dask_cuda.initialize\n"
     ]
    },
    {
     "name": "stdout",
     "output_type": "stream",
     "text": [
      "20726160\n"
     ]
    },
    {
     "name": "stderr",
     "output_type": "stream",
     "text": [
      "/home/nfs/anirband/anaconda3/envs/rapids-21.08/lib/python3.8/site-packages/cudf/core/column/string.py:830: UserWarning: `n` parameter is not supported when `pat` and `repl` are list-like inputs\n",
      "  warnings.warn(\n"
     ]
    },
    {
     "name": "stdout",
     "output_type": "stream",
     "text": [
      "20725971\n",
      "# nnz: 0\n",
      "(20725971, 1048576)\n",
      "[I] [21:06:01.631343] [Delayed('_merge_stats_to_model-7fc7d077-8e69-47d2-a57c-41d3323ba8e3')]\n",
      "[I] [21:06:01.632802] [Delayed('_merge_stats_to_model-0869a9fc-855f-4c29-80c4-9dcbb24a27f1')]\n",
      "[I] [21:06:01.633560] [Delayed('_merge_stats_to_model-419ce223-06ba-4209-b915-719b60e7e516')]\n",
      "[I] [21:06:01.634281] [Delayed('_merge_stats_to_model-2d34cac2-e257-4ec8-954e-f78a42b10b8e')]\n",
      "[I] [21:06:01.673787] [<Future: finished, type: cuml.TfidfTransformer, key: _merge_stats_to_model-7fc7d077-8e69-47d2-a57c-41d3323ba8e3>]\n",
      "[I] [21:06:01.674033] [<Future: finished, type: cuml.TfidfTransformer, key: _merge_stats_to_model-0869a9fc-855f-4c29-80c4-9dcbb24a27f1>]\n",
      "[I] [21:06:01.674180] [<Future: finished, type: cuml.TfidfTransformer, key: _merge_stats_to_model-419ce223-06ba-4209-b915-719b60e7e516>]\n",
      "[I] [21:06:01.674314] [<Future: finished, type: cuml.TfidfTransformer, key: _merge_stats_to_model-2d34cac2-e257-4ec8-954e-f78a42b10b8e>]\n",
      "[I] [21:06:01.680974] [Delayed('_merge_stats_to_model-130f41a7-0889-49f1-a310-5101db8f1e2f')]\n"
     ]
    },
    {
     "name": "stderr",
     "output_type": "stream",
     "text": [
      "100%|██████████████████████████████████████████████████████████████████████████████████████████████████████████████████████████████████████████████████████████████████████████████| 5/5 [03:19<00:00, 39.95s/it]"
     ]
    },
    {
     "name": "stdout",
     "output_type": "stream",
     "text": [
      "(20725971, 1048576)\n",
      "Workers:4, Sample Run:4, Finished loading data in 3066925217s\n",
      "Workers:4, Sample Run:4, Finished preprocessing data in 14920007166s\n",
      "Workers:4, Sample Run:4, Finished fitting HashVectorizer in 15072923079s\n",
      "Workers:4, Sample Run:4, Finished fitting IDF Transformer in 2024723943s\n",
      "Workers:4, Sample Run:4, Finished executing full pipeline in 39259243508s\n"
     ]
    },
    {
     "name": "stderr",
     "output_type": "stream",
     "text": [
      "\n",
      "distributed.preloading - INFO - Import preload module: dask_cuda.initialize\n",
      "distributed.preloading - INFO - Import preload module: dask_cuda.initialize\n",
      "  0%|                                                                                                                                                                                      | 0/5 [00:00<?, ?it/s]/home/nfs/anirband/anaconda3/envs/rapids-21.08/lib/python3.8/site-packages/cudf/core/column/string.py:830: UserWarning: `n` parameter is not supported when `pat` and `repl` are list-like inputs\n",
      "  warnings.warn(\n",
      "/home/nfs/anirband/anaconda3/envs/rapids-21.08/lib/python3.8/site-packages/cudf/core/column/string.py:830: UserWarning: `n` parameter is not supported when `pat` and `repl` are list-like inputs\n",
      "  warnings.warn(\n",
      "/home/nfs/anirband/anaconda3/envs/rapids-21.08/lib/python3.8/site-packages/cudf/core/column/string.py:830: UserWarning: `n` parameter is not supported when `pat` and `repl` are list-like inputs\n",
      "  warnings.warn(\n",
      "/home/nfs/anirband/anaconda3/envs/rapids-21.08/lib/python3.8/site-packages/cudf/core/column/string.py:830: UserWarning: `n` parameter is not supported when `pat` and `repl` are list-like inputs\n",
      "  warnings.warn(\n",
      "distributed.preloading - INFO - Import preload module: dask_cuda.initialize\n",
      "distributed.preloading - INFO - Import preload module: dask_cuda.initialize\n",
      "distributed.preloading - INFO - Import preload module: dask_cuda.initialize\n",
      "distributed.preloading - INFO - Import preload module: dask_cuda.initialize\n",
      "distributed.preloading - INFO - Import preload module: dask_cuda.initialize\n",
      "/home/nfs/anirband/anaconda3/envs/rapids-21.08/lib/python3.8/contextlib.py:120: UserWarning: Creating scratch directories is taking a surprisingly long time. This is often due to running workers on a network file system. Consider specifying a local-directory to point workers to write scratch data to a local disk.\n",
      "  next(self.gen)\n",
      "distributed.preloading - INFO - Import preload module: dask_cuda.initialize\n"
     ]
    },
    {
     "name": "stdout",
     "output_type": "stream",
     "text": [
      "20726160\n"
     ]
    },
    {
     "name": "stderr",
     "output_type": "stream",
     "text": [
      "/home/nfs/anirband/anaconda3/envs/rapids-21.08/lib/python3.8/site-packages/cudf/core/column/string.py:830: UserWarning: `n` parameter is not supported when `pat` and `repl` are list-like inputs\n",
      "  warnings.warn(\n"
     ]
    },
    {
     "name": "stdout",
     "output_type": "stream",
     "text": [
      "20725971\n",
      "# nnz: 0\n",
      "(20725971, 1048576)\n",
      "[I] [21:06:37.197367] [Delayed('_merge_stats_to_model-71b8ac18-f62f-43b2-b561-d7a66907801b')]\n",
      "[I] [21:06:37.198231] [Delayed('_merge_stats_to_model-9f3b78af-3185-47c1-b58f-81186782ba69')]\n",
      "[I] [21:06:37.198496] [<Future: finished, type: cuml.TfidfTransformer, key: _set_doc_stats-a77b408d-bb50-474e-94fa-bb3f986ccdaf>]\n",
      "[I] [21:06:37.199108] [Delayed('_merge_stats_to_model-1964fd60-0f8a-4a4c-a2ac-dde62370511b')]\n",
      "[I] [21:06:37.199346] [<Future: finished, type: cuml.TfidfTransformer, key: _set_doc_stats-09a23476-28bf-4bdc-8ddd-8af67f8b7f76>]\n",
      "[I] [21:06:37.199989] [Delayed('_merge_stats_to_model-bcdbb3cd-bf9f-41cb-afd9-6665c9af389d')]\n",
      "[I] [21:06:37.227860] [<Future: finished, type: cuml.TfidfTransformer, key: _merge_stats_to_model-71b8ac18-f62f-43b2-b561-d7a66907801b>]\n",
      "[I] [21:06:37.228110] [<Future: finished, type: cuml.TfidfTransformer, key: _merge_stats_to_model-9f3b78af-3185-47c1-b58f-81186782ba69>]\n",
      "[I] [21:06:37.228242] [<Future: finished, type: cuml.TfidfTransformer, key: _set_doc_stats-a77b408d-bb50-474e-94fa-bb3f986ccdaf>]\n",
      "[I] [21:06:37.228364] [<Future: finished, type: cuml.TfidfTransformer, key: _merge_stats_to_model-1964fd60-0f8a-4a4c-a2ac-dde62370511b>]\n",
      "[I] [21:06:37.228483] [<Future: finished, type: cuml.TfidfTransformer, key: _set_doc_stats-09a23476-28bf-4bdc-8ddd-8af67f8b7f76>]\n",
      "[I] [21:06:37.228599] [<Future: finished, type: cuml.TfidfTransformer, key: _merge_stats_to_model-bcdbb3cd-bf9f-41cb-afd9-6665c9af389d>]\n",
      "[I] [21:06:37.238166] [Delayed('_merge_stats_to_model-40adc7a2-cce6-4810-a33f-398cd9154a33')]\n"
     ]
    },
    {
     "name": "stderr",
     "output_type": "stream",
     "text": [
      " 20%|██████████████████████████████████▊                                                                                                                                           | 1/5 [00:30<02:02, 30.57s/it]"
     ]
    },
    {
     "name": "stdout",
     "output_type": "stream",
     "text": [
      "(20725971, 1048576)\n",
      "Workers:6, Sample Run:0, Finished loading data in 2829203105s\n",
      "Workers:6, Sample Run:0, Finished preprocessing data in 10071372724s\n",
      "Workers:6, Sample Run:0, Finished fitting HashVectorizer in 10901905243s\n",
      "Workers:6, Sample Run:0, Finished fitting IDF Transformer in 2027288996s\n",
      "Workers:6, Sample Run:0, Finished executing full pipeline in 30520778169s\n"
     ]
    },
    {
     "name": "stderr",
     "output_type": "stream",
     "text": [
      "/home/nfs/anirband/anaconda3/envs/rapids-21.08/lib/python3.8/site-packages/cudf/core/column/string.py:830: UserWarning: `n` parameter is not supported when `pat` and `repl` are list-like inputs\n",
      "  warnings.warn(\n",
      "/home/nfs/anirband/anaconda3/envs/rapids-21.08/lib/python3.8/site-packages/cudf/core/column/string.py:830: UserWarning: `n` parameter is not supported when `pat` and `repl` are list-like inputs\n",
      "  warnings.warn(\n",
      "/home/nfs/anirband/anaconda3/envs/rapids-21.08/lib/python3.8/site-packages/cudf/core/column/string.py:830: UserWarning: `n` parameter is not supported when `pat` and `repl` are list-like inputs\n",
      "  warnings.warn(\n",
      "/home/nfs/anirband/anaconda3/envs/rapids-21.08/lib/python3.8/site-packages/cudf/core/column/string.py:830: UserWarning: `n` parameter is not supported when `pat` and `repl` are list-like inputs\n",
      "  warnings.warn(\n",
      "/home/nfs/anirband/anaconda3/envs/rapids-21.08/lib/python3.8/site-packages/cudf/core/column/string.py:830: UserWarning: `n` parameter is not supported when `pat` and `repl` are list-like inputs\n",
      "  warnings.warn(\n",
      "/home/nfs/anirband/anaconda3/envs/rapids-21.08/lib/python3.8/site-packages/cudf/core/column/string.py:830: UserWarning: `n` parameter is not supported when `pat` and `repl` are list-like inputs\n",
      "  warnings.warn(\n",
      "distributed.preloading - INFO - Import preload module: dask_cuda.initialize\n",
      "distributed.preloading - INFO - Import preload module: dask_cuda.initialize\n",
      "distributed.preloading - INFO - Import preload module: dask_cuda.initialize\n",
      "distributed.preloading - INFO - Import preload module: dask_cuda.initialize\n",
      "/home/nfs/anirband/anaconda3/envs/rapids-21.08/lib/python3.8/contextlib.py:120: UserWarning: Creating scratch directories is taking a surprisingly long time. This is often due to running workers on a network file system. Consider specifying a local-directory to point workers to write scratch data to a local disk.\n",
      "  next(self.gen)\n",
      "distributed.preloading - INFO - Import preload module: dask_cuda.initialize\n",
      "/home/nfs/anirband/anaconda3/envs/rapids-21.08/lib/python3.8/contextlib.py:120: UserWarning: Creating scratch directories is taking a surprisingly long time. This is often due to running workers on a network file system. Consider specifying a local-directory to point workers to write scratch data to a local disk.\n",
      "  next(self.gen)\n",
      "distributed.preloading - INFO - Import preload module: dask_cuda.initialize\n"
     ]
    },
    {
     "name": "stdout",
     "output_type": "stream",
     "text": [
      "20726160\n"
     ]
    },
    {
     "name": "stderr",
     "output_type": "stream",
     "text": [
      "/home/nfs/anirband/anaconda3/envs/rapids-21.08/lib/python3.8/site-packages/cudf/core/column/string.py:830: UserWarning: `n` parameter is not supported when `pat` and `repl` are list-like inputs\n",
      "  warnings.warn(\n"
     ]
    },
    {
     "name": "stdout",
     "output_type": "stream",
     "text": [
      "20725971\n",
      "# nnz: 0\n",
      "(20725971, 1048576)\n",
      "[I] [21:07:09.849870] [Delayed('_merge_stats_to_model-79a217e1-d811-4029-9f61-bdbb28bf7ff6')]\n",
      "[I] [21:07:09.850732] [Delayed('_merge_stats_to_model-b0cf72c8-9ee9-4c69-a038-3ea4ee204133')]\n",
      "[I] [21:07:09.851487] [Delayed('_merge_stats_to_model-5a5d363f-79fc-4a0d-a1f8-244867aff3cd')]\n",
      "[I] [21:07:09.852330] [Delayed('_merge_stats_to_model-487138de-b038-484d-8ef4-696625e6fc0a')]\n",
      "[I] [21:07:09.852578] [<Future: finished, type: cuml.TfidfTransformer, key: _set_doc_stats-9ecd1c9c-3665-417a-8367-e2fc14d7c0c6>]\n",
      "[I] [21:07:09.852714] [<Future: finished, type: cuml.TfidfTransformer, key: _set_doc_stats-2e76c527-4aee-4a8e-ab4f-51a51a414f12>]\n",
      "[I] [21:07:09.875790] [<Future: finished, type: cuml.TfidfTransformer, key: _merge_stats_to_model-79a217e1-d811-4029-9f61-bdbb28bf7ff6>]\n",
      "[I] [21:07:09.876058] [<Future: finished, type: cuml.TfidfTransformer, key: _merge_stats_to_model-b0cf72c8-9ee9-4c69-a038-3ea4ee204133>]\n",
      "[I] [21:07:09.876193] [<Future: finished, type: cuml.TfidfTransformer, key: _merge_stats_to_model-5a5d363f-79fc-4a0d-a1f8-244867aff3cd>]\n",
      "[I] [21:07:09.876316] [<Future: finished, type: cuml.TfidfTransformer, key: _merge_stats_to_model-487138de-b038-484d-8ef4-696625e6fc0a>]\n",
      "[I] [21:07:09.876435] [<Future: finished, type: cuml.TfidfTransformer, key: _set_doc_stats-9ecd1c9c-3665-417a-8367-e2fc14d7c0c6>]\n",
      "[I] [21:07:09.876552] [<Future: finished, type: cuml.TfidfTransformer, key: _set_doc_stats-2e76c527-4aee-4a8e-ab4f-51a51a414f12>]\n",
      "[I] [21:07:09.883895] [Delayed('_merge_stats_to_model-e4b7b7b8-67f7-4b5f-85df-adcae9dcb474')]\n"
     ]
    },
    {
     "name": "stderr",
     "output_type": "stream",
     "text": [
      " 40%|█████████████████████████████████████████████████████████████████████▌                                                                                                        | 2/5 [01:03<01:35, 31.80s/it]"
     ]
    },
    {
     "name": "stdout",
     "output_type": "stream",
     "text": [
      "(20725971, 1048576)\n",
      "Workers:6, Sample Run:1, Finished loading data in 2855057877s\n",
      "Workers:6, Sample Run:1, Finished preprocessing data in 10195675901s\n",
      "Workers:6, Sample Run:1, Finished fitting HashVectorizer in 10823625280s\n",
      "Workers:6, Sample Run:1, Finished fitting IDF Transformer in 2014144597s\n",
      "Workers:6, Sample Run:1, Finished executing full pipeline in 32588751607s\n"
     ]
    },
    {
     "name": "stderr",
     "output_type": "stream",
     "text": [
      "/home/nfs/anirband/anaconda3/envs/rapids-21.08/lib/python3.8/site-packages/cudf/core/column/string.py:830: UserWarning: `n` parameter is not supported when `pat` and `repl` are list-like inputs\n",
      "  warnings.warn(\n",
      "/home/nfs/anirband/anaconda3/envs/rapids-21.08/lib/python3.8/site-packages/cudf/core/column/string.py:830: UserWarning: `n` parameter is not supported when `pat` and `repl` are list-like inputs\n",
      "  warnings.warn(\n",
      "distributed.worker - WARNING - Heartbeat to scheduler failed\n",
      "/home/nfs/anirband/anaconda3/envs/rapids-21.08/lib/python3.8/site-packages/cudf/core/column/string.py:830: UserWarning: `n` parameter is not supported when `pat` and `repl` are list-like inputs\n",
      "  warnings.warn(\n",
      "/home/nfs/anirband/anaconda3/envs/rapids-21.08/lib/python3.8/site-packages/cudf/core/column/string.py:830: UserWarning: `n` parameter is not supported when `pat` and `repl` are list-like inputs\n",
      "  warnings.warn(\n",
      "/home/nfs/anirband/anaconda3/envs/rapids-21.08/lib/python3.8/site-packages/cudf/core/column/string.py:830: UserWarning: `n` parameter is not supported when `pat` and `repl` are list-like inputs\n",
      "  warnings.warn(\n",
      "/home/nfs/anirband/anaconda3/envs/rapids-21.08/lib/python3.8/site-packages/cudf/core/column/string.py:830: UserWarning: `n` parameter is not supported when `pat` and `repl` are list-like inputs\n",
      "  warnings.warn(\n",
      "distributed.preloading - INFO - Import preload module: dask_cuda.initialize\n",
      "distributed.preloading - INFO - Import preload module: dask_cuda.initialize\n",
      "distributed.preloading - INFO - Import preload module: dask_cuda.initialize\n",
      "distributed.preloading - INFO - Import preload module: dask_cuda.initialize\n",
      "distributed.preloading - INFO - Import preload module: dask_cuda.initialize\n",
      "distributed.preloading - INFO - Import preload module: dask_cuda.initialize\n"
     ]
    },
    {
     "name": "stdout",
     "output_type": "stream",
     "text": [
      "20726160\n"
     ]
    },
    {
     "name": "stderr",
     "output_type": "stream",
     "text": [
      "/home/nfs/anirband/anaconda3/envs/rapids-21.08/lib/python3.8/site-packages/cudf/core/column/string.py:830: UserWarning: `n` parameter is not supported when `pat` and `repl` are list-like inputs\n",
      "  warnings.warn(\n"
     ]
    },
    {
     "name": "stdout",
     "output_type": "stream",
     "text": [
      "20725971\n",
      "# nnz: 0\n",
      "(20725971, 1048576)\n",
      "[I] [21:07:42.221240] [<Future: finished, type: cuml.TfidfTransformer, key: _set_doc_stats-6c35b28d-c86a-4abc-becb-40a37eee756e>]\n",
      "[I] [21:07:42.222135] [Delayed('_merge_stats_to_model-828a8f2a-eb05-49d6-9da9-58c3b9d99f99')]\n",
      "[I] [21:07:42.222859] [Delayed('_merge_stats_to_model-5f368b8f-ec9c-466e-8f08-cc9605058375')]\n",
      "[I] [21:07:42.223773] [Delayed('_merge_stats_to_model-69c5ccfb-8357-4162-b4b3-3bbd1c23fe1c')]\n",
      "[I] [21:07:42.224000] [<Future: finished, type: cuml.TfidfTransformer, key: _set_doc_stats-474b5793-514e-44b7-9524-e221a8f3bccc>]\n",
      "[I] [21:07:42.224674] [Delayed('_merge_stats_to_model-eea3aea6-dfd4-4d94-9326-6460498b2136')]\n",
      "[I] [21:07:42.251168] [<Future: finished, type: cuml.TfidfTransformer, key: _set_doc_stats-6c35b28d-c86a-4abc-becb-40a37eee756e>]\n",
      "[I] [21:07:42.251398] [<Future: finished, type: cuml.TfidfTransformer, key: _merge_stats_to_model-828a8f2a-eb05-49d6-9da9-58c3b9d99f99>]\n",
      "[I] [21:07:42.251574] [<Future: finished, type: cuml.TfidfTransformer, key: _merge_stats_to_model-5f368b8f-ec9c-466e-8f08-cc9605058375>]\n",
      "[I] [21:07:42.251710] [<Future: finished, type: cuml.TfidfTransformer, key: _merge_stats_to_model-69c5ccfb-8357-4162-b4b3-3bbd1c23fe1c>]\n",
      "[I] [21:07:42.251868] [<Future: finished, type: cuml.TfidfTransformer, key: _set_doc_stats-474b5793-514e-44b7-9524-e221a8f3bccc>]\n",
      "[I] [21:07:42.252005] [<Future: finished, type: cuml.TfidfTransformer, key: _merge_stats_to_model-eea3aea6-dfd4-4d94-9326-6460498b2136>]\n",
      "[I] [21:07:42.259681] [Delayed('_merge_stats_to_model-f2ce1fbe-3032-40eb-a75c-a26238846427')]\n"
     ]
    },
    {
     "name": "stderr",
     "output_type": "stream",
     "text": [
      " 60%|████████████████████████████████████████████████████████████████████████████████████████████████████████▍                                                                     | 3/5 [01:35<01:04, 32.06s/it]"
     ]
    },
    {
     "name": "stdout",
     "output_type": "stream",
     "text": [
      "(20725971, 1048576)\n",
      "Workers:6, Sample Run:2, Finished loading data in 2806360180s\n",
      "Workers:6, Sample Run:2, Finished preprocessing data in 11509885788s\n",
      "Workers:6, Sample Run:2, Finished fitting HashVectorizer in 11649372236s\n",
      "Workers:6, Sample Run:2, Finished fitting IDF Transformer in 2041800848s\n",
      "Workers:6, Sample Run:2, Finished executing full pipeline in 32311326809s\n"
     ]
    },
    {
     "name": "stderr",
     "output_type": "stream",
     "text": [
      "/home/nfs/anirband/anaconda3/envs/rapids-21.08/lib/python3.8/site-packages/cudf/core/column/string.py:830: UserWarning: `n` parameter is not supported when `pat` and `repl` are list-like inputs\n",
      "  warnings.warn(\n",
      "/home/nfs/anirband/anaconda3/envs/rapids-21.08/lib/python3.8/site-packages/cudf/core/column/string.py:830: UserWarning: `n` parameter is not supported when `pat` and `repl` are list-like inputs\n",
      "  warnings.warn(\n",
      "/home/nfs/anirband/anaconda3/envs/rapids-21.08/lib/python3.8/site-packages/cudf/core/column/string.py:830: UserWarning: `n` parameter is not supported when `pat` and `repl` are list-like inputs\n",
      "  warnings.warn(\n",
      "/home/nfs/anirband/anaconda3/envs/rapids-21.08/lib/python3.8/site-packages/cudf/core/column/string.py:830: UserWarning: `n` parameter is not supported when `pat` and `repl` are list-like inputs\n",
      "  warnings.warn(\n",
      "/home/nfs/anirband/anaconda3/envs/rapids-21.08/lib/python3.8/site-packages/cudf/core/column/string.py:830: UserWarning: `n` parameter is not supported when `pat` and `repl` are list-like inputs\n",
      "  warnings.warn(\n",
      "/home/nfs/anirband/anaconda3/envs/rapids-21.08/lib/python3.8/site-packages/cudf/core/column/string.py:830: UserWarning: `n` parameter is not supported when `pat` and `repl` are list-like inputs\n",
      "  warnings.warn(\n",
      "distributed.preloading - INFO - Import preload module: dask_cuda.initialize\n",
      "distributed.preloading - INFO - Import preload module: dask_cuda.initialize\n",
      "distributed.preloading - INFO - Import preload module: dask_cuda.initialize\n",
      "distributed.preloading - INFO - Import preload module: dask_cuda.initialize\n",
      "distributed.preloading - INFO - Import preload module: dask_cuda.initialize\n",
      "distributed.preloading - INFO - Import preload module: dask_cuda.initialize\n"
     ]
    },
    {
     "name": "stdout",
     "output_type": "stream",
     "text": [
      "20726160\n"
     ]
    },
    {
     "name": "stderr",
     "output_type": "stream",
     "text": [
      "/home/nfs/anirband/anaconda3/envs/rapids-21.08/lib/python3.8/site-packages/cudf/core/column/string.py:830: UserWarning: `n` parameter is not supported when `pat` and `repl` are list-like inputs\n",
      "  warnings.warn(\n"
     ]
    },
    {
     "name": "stdout",
     "output_type": "stream",
     "text": [
      "20725971\n",
      "# nnz: 0\n",
      "(20725971, 1048576)\n",
      "[I] [21:08:12.762443] [Delayed('_merge_stats_to_model-cd5c1b4f-fc22-4160-9acf-e12cd9c1a904')]\n",
      "[I] [21:08:12.763279] [Delayed('_merge_stats_to_model-1b088936-575a-4e08-b62c-503f857d82cf')]\n",
      "[I] [21:08:12.763517] [<Future: finished, type: cuml.TfidfTransformer, key: _set_doc_stats-c042c96e-7962-49eb-a318-2ada7a9dc80c>]\n",
      "[I] [21:08:12.764330] [Delayed('_merge_stats_to_model-d8c0ae74-4610-4b7b-81bd-a7e56d91c693')]\n",
      "[I] [21:08:12.764577] [<Future: finished, type: cuml.TfidfTransformer, key: _set_doc_stats-3a7734ad-aafd-4a6b-b6a1-4efd43d6de42>]\n",
      "[I] [21:08:12.765203] [Delayed('_merge_stats_to_model-a881362c-ab65-4b3a-a067-b33c86286e8b')]\n",
      "[I] [21:08:12.789603] [<Future: finished, type: cuml.TfidfTransformer, key: _merge_stats_to_model-cd5c1b4f-fc22-4160-9acf-e12cd9c1a904>]\n",
      "[I] [21:08:12.789835] [<Future: finished, type: cuml.TfidfTransformer, key: _merge_stats_to_model-1b088936-575a-4e08-b62c-503f857d82cf>]\n",
      "[I] [21:08:12.789986] [<Future: finished, type: cuml.TfidfTransformer, key: _set_doc_stats-c042c96e-7962-49eb-a318-2ada7a9dc80c>]\n",
      "[I] [21:08:12.790131] [<Future: finished, type: cuml.TfidfTransformer, key: _merge_stats_to_model-d8c0ae74-4610-4b7b-81bd-a7e56d91c693>]\n",
      "[I] [21:08:12.790274] [<Future: finished, type: cuml.TfidfTransformer, key: _set_doc_stats-3a7734ad-aafd-4a6b-b6a1-4efd43d6de42>]\n",
      "[I] [21:08:12.790410] [<Future: finished, type: cuml.TfidfTransformer, key: _merge_stats_to_model-a881362c-ab65-4b3a-a067-b33c86286e8b>]\n",
      "[I] [21:08:12.797769] [Delayed('_merge_stats_to_model-aab77499-d6ba-40c5-894c-a64cf5f58a70')]\n"
     ]
    },
    {
     "name": "stderr",
     "output_type": "stream",
     "text": [
      " 80%|███████████████████████████████████████████████████████████████████████████████████████████████████████████████████████████████████████████▏                                  | 4/5 [02:06<00:31, 31.44s/it]"
     ]
    },
    {
     "name": "stdout",
     "output_type": "stream",
     "text": [
      "(20725971, 1048576)\n",
      "Workers:6, Sample Run:3, Finished loading data in 2804315395s\n",
      "Workers:6, Sample Run:3, Finished preprocessing data in 10154691354s\n",
      "Workers:6, Sample Run:3, Finished fitting HashVectorizer in 10894530872s\n",
      "Workers:6, Sample Run:3, Finished fitting IDF Transformer in 1993619019s\n",
      "Workers:6, Sample Run:3, Finished executing full pipeline in 30448965665s\n"
     ]
    },
    {
     "name": "stderr",
     "output_type": "stream",
     "text": [
      "/home/nfs/anirband/anaconda3/envs/rapids-21.08/lib/python3.8/site-packages/cudf/core/column/string.py:830: UserWarning: `n` parameter is not supported when `pat` and `repl` are list-like inputs\n",
      "  warnings.warn(\n",
      "/home/nfs/anirband/anaconda3/envs/rapids-21.08/lib/python3.8/site-packages/cudf/core/column/string.py:830: UserWarning: `n` parameter is not supported when `pat` and `repl` are list-like inputs\n",
      "  warnings.warn(\n",
      "/home/nfs/anirband/anaconda3/envs/rapids-21.08/lib/python3.8/site-packages/cudf/core/column/string.py:830: UserWarning: `n` parameter is not supported when `pat` and `repl` are list-like inputs\n",
      "  warnings.warn(\n",
      "/home/nfs/anirband/anaconda3/envs/rapids-21.08/lib/python3.8/site-packages/cudf/core/column/string.py:830: UserWarning: `n` parameter is not supported when `pat` and `repl` are list-like inputs\n",
      "  warnings.warn(\n",
      "/home/nfs/anirband/anaconda3/envs/rapids-21.08/lib/python3.8/site-packages/cudf/core/column/string.py:830: UserWarning: `n` parameter is not supported when `pat` and `repl` are list-like inputs\n",
      "  warnings.warn(\n",
      "/home/nfs/anirband/anaconda3/envs/rapids-21.08/lib/python3.8/site-packages/cudf/core/column/string.py:830: UserWarning: `n` parameter is not supported when `pat` and `repl` are list-like inputs\n",
      "  warnings.warn(\n",
      "distributed.preloading - INFO - Import preload module: dask_cuda.initialize\n",
      "distributed.preloading - INFO - Import preload module: dask_cuda.initialize\n",
      "distributed.preloading - INFO - Import preload module: dask_cuda.initialize\n",
      "distributed.preloading - INFO - Import preload module: dask_cuda.initialize\n",
      "distributed.preloading - INFO - Import preload module: dask_cuda.initialize\n",
      "distributed.preloading - INFO - Import preload module: dask_cuda.initialize\n"
     ]
    },
    {
     "name": "stdout",
     "output_type": "stream",
     "text": [
      "20726160\n"
     ]
    },
    {
     "name": "stderr",
     "output_type": "stream",
     "text": [
      "/home/nfs/anirband/anaconda3/envs/rapids-21.08/lib/python3.8/site-packages/cudf/core/column/string.py:830: UserWarning: `n` parameter is not supported when `pat` and `repl` are list-like inputs\n",
      "  warnings.warn(\n"
     ]
    },
    {
     "name": "stdout",
     "output_type": "stream",
     "text": [
      "20725971\n",
      "# nnz: 0\n",
      "(20725971, 1048576)\n",
      "[I] [21:08:42.914466] [<Future: finished, type: cuml.TfidfTransformer, key: _set_doc_stats-0f1b132a-9916-4c0d-99b4-3e46ffdb135b>]\n",
      "[I] [21:08:42.915360] [Delayed('_merge_stats_to_model-937e55fc-bcec-46d1-a156-324b45ce5e68')]\n",
      "[I] [21:08:42.916192] [Delayed('_merge_stats_to_model-3c164d2c-74b1-4b4a-a49e-17cf69c37882')]\n",
      "[I] [21:08:42.916921] [Delayed('_merge_stats_to_model-9b9d5df0-8e68-429b-adb8-2dc06dc5dbde')]\n",
      "[I] [21:08:42.917720] [Delayed('_merge_stats_to_model-8498336c-58ed-40a8-a48f-3c60b5734f11')]\n",
      "[I] [21:08:42.917969] [<Future: finished, type: cuml.TfidfTransformer, key: _set_doc_stats-484c7389-fef4-48db-8675-dce2df80e082>]\n",
      "[I] [21:08:42.941694] [<Future: finished, type: cuml.TfidfTransformer, key: _set_doc_stats-0f1b132a-9916-4c0d-99b4-3e46ffdb135b>]\n",
      "[I] [21:08:42.941935] [<Future: finished, type: cuml.TfidfTransformer, key: _merge_stats_to_model-937e55fc-bcec-46d1-a156-324b45ce5e68>]\n",
      "[I] [21:08:42.942093] [<Future: finished, type: cuml.TfidfTransformer, key: _merge_stats_to_model-3c164d2c-74b1-4b4a-a49e-17cf69c37882>]\n",
      "[I] [21:08:42.942225] [<Future: finished, type: cuml.TfidfTransformer, key: _merge_stats_to_model-9b9d5df0-8e68-429b-adb8-2dc06dc5dbde>]\n",
      "[I] [21:08:42.942353] [<Future: finished, type: cuml.TfidfTransformer, key: _merge_stats_to_model-8498336c-58ed-40a8-a48f-3c60b5734f11>]\n",
      "[I] [21:08:42.942481] [<Future: finished, type: cuml.TfidfTransformer, key: _set_doc_stats-484c7389-fef4-48db-8675-dce2df80e082>]\n",
      "[I] [21:08:42.950060] [Delayed('_merge_stats_to_model-f8a1f59a-1514-4fa3-a1d0-11624c2c7ccd')]\n"
     ]
    },
    {
     "name": "stderr",
     "output_type": "stream",
     "text": [
      "100%|██████████████████████████████████████████████████████████████████████████████████████████████████████████████████████████████████████████████████████████████████████████████| 5/5 [02:36<00:00, 31.23s/it]"
     ]
    },
    {
     "name": "stdout",
     "output_type": "stream",
     "text": [
      "(20725971, 1048576)\n",
      "Workers:6, Sample Run:4, Finished loading data in 2790065245s\n",
      "Workers:6, Sample Run:4, Finished preprocessing data in 10150103525s\n",
      "Workers:6, Sample Run:4, Finished fitting HashVectorizer in 10896288043s\n",
      "Workers:6, Sample Run:4, Finished fitting IDF Transformer in 1856345889s\n",
      "Workers:6, Sample Run:4, Finished executing full pipeline in 29980496882s\n"
     ]
    },
    {
     "name": "stderr",
     "output_type": "stream",
     "text": [
      "\n",
      "distributed.preloading - INFO - Import preload module: dask_cuda.initialize\n",
      "distributed.preloading - INFO - Import preload module: dask_cuda.initialize\n",
      "  0%|                                                                                                                                                                                      | 0/5 [00:00<?, ?it/s]/home/nfs/anirband/anaconda3/envs/rapids-21.08/lib/python3.8/site-packages/cudf/core/column/string.py:830: UserWarning: `n` parameter is not supported when `pat` and `repl` are list-like inputs\n",
      "  warnings.warn(\n",
      "/home/nfs/anirband/anaconda3/envs/rapids-21.08/lib/python3.8/site-packages/cudf/core/column/string.py:830: UserWarning: `n` parameter is not supported when `pat` and `repl` are list-like inputs\n",
      "  warnings.warn(\n",
      "/home/nfs/anirband/anaconda3/envs/rapids-21.08/lib/python3.8/site-packages/cudf/core/column/string.py:830: UserWarning: `n` parameter is not supported when `pat` and `repl` are list-like inputs\n",
      "  warnings.warn(\n",
      "/home/nfs/anirband/anaconda3/envs/rapids-21.08/lib/python3.8/site-packages/cudf/core/column/string.py:830: UserWarning: `n` parameter is not supported when `pat` and `repl` are list-like inputs\n",
      "  warnings.warn(\n",
      "/home/nfs/anirband/anaconda3/envs/rapids-21.08/lib/python3.8/site-packages/cudf/core/column/string.py:830: UserWarning: `n` parameter is not supported when `pat` and `repl` are list-like inputs\n",
      "  warnings.warn(\n",
      "/home/nfs/anirband/anaconda3/envs/rapids-21.08/lib/python3.8/site-packages/cudf/core/column/string.py:830: UserWarning: `n` parameter is not supported when `pat` and `repl` are list-like inputs\n",
      "  warnings.warn(\n",
      "distributed.preloading - INFO - Import preload module: dask_cuda.initialize\n",
      "distributed.preloading - INFO - Import preload module: dask_cuda.initialize\n",
      "distributed.preloading - INFO - Import preload module: dask_cuda.initialize\n",
      "distributed.preloading - INFO - Import preload module: dask_cuda.initialize\n",
      "distributed.preloading - INFO - Import preload module: dask_cuda.initialize\n",
      "distributed.preloading - INFO - Import preload module: dask_cuda.initialize\n",
      "distributed.preloading - INFO - Import preload module: dask_cuda.initialize\n",
      "distributed.preloading - INFO - Import preload module: dask_cuda.initialize\n"
     ]
    },
    {
     "name": "stdout",
     "output_type": "stream",
     "text": [
      "20726160\n"
     ]
    },
    {
     "name": "stderr",
     "output_type": "stream",
     "text": [
      "/home/nfs/anirband/anaconda3/envs/rapids-21.08/lib/python3.8/site-packages/cudf/core/column/string.py:830: UserWarning: `n` parameter is not supported when `pat` and `repl` are list-like inputs\n",
      "  warnings.warn(\n"
     ]
    },
    {
     "name": "stdout",
     "output_type": "stream",
     "text": [
      "20725971\n",
      "# nnz: 0\n",
      "(20725971, 1048576)\n",
      "[I] [21:09:18.977980] [<Future: finished, type: cuml.TfidfTransformer, key: _set_doc_stats-4680f22e-39c1-4cb6-afaf-1f8f1a1b7f81>]\n",
      "[I] [21:09:18.978872] [Delayed('_merge_stats_to_model-e561c19c-86c0-47ee-9649-8b9d93145595')]\n",
      "[I] [21:09:18.979126] [<Future: finished, type: cuml.TfidfTransformer, key: _set_doc_stats-6820e298-3966-45e9-824d-1b3b7840b6e6>]\n",
      "[I] [21:09:18.979270] [<Future: finished, type: cuml.TfidfTransformer, key: _set_doc_stats-be0045ee-d7cf-438f-a93b-65e7a8a99137>]\n",
      "[I] [21:09:18.979399] [<Future: finished, type: cuml.TfidfTransformer, key: _set_doc_stats-e80a84d0-b697-4465-9eda-777fc74ed040>]\n",
      "[I] [21:09:18.979553] [<Future: finished, type: cuml.TfidfTransformer, key: _set_doc_stats-c325ec4c-a468-43ab-8648-d5d64077c109>]\n",
      "[I] [21:09:18.979687] [<Future: finished, type: cuml.TfidfTransformer, key: _set_doc_stats-bac5005b-2e82-4a51-9162-618cf085ecbc>]\n",
      "[I] [21:09:18.980319] [Delayed('_merge_stats_to_model-e05bf715-f8f4-4865-972d-cf5a529e25c6')]\n",
      "[I] [21:09:19.004624] [<Future: finished, type: cuml.TfidfTransformer, key: _set_doc_stats-4680f22e-39c1-4cb6-afaf-1f8f1a1b7f81>]\n",
      "[I] [21:09:19.004887] [<Future: finished, type: cuml.TfidfTransformer, key: _merge_stats_to_model-e561c19c-86c0-47ee-9649-8b9d93145595>]\n",
      "[I] [21:09:19.005075] [<Future: finished, type: cuml.TfidfTransformer, key: _set_doc_stats-6820e298-3966-45e9-824d-1b3b7840b6e6>]\n",
      "[I] [21:09:19.005228] [<Future: finished, type: cuml.TfidfTransformer, key: _set_doc_stats-be0045ee-d7cf-438f-a93b-65e7a8a99137>]\n",
      "[I] [21:09:19.005373] [<Future: finished, type: cuml.TfidfTransformer, key: _set_doc_stats-e80a84d0-b697-4465-9eda-777fc74ed040>]\n",
      "[I] [21:09:19.005498] [<Future: finished, type: cuml.TfidfTransformer, key: _set_doc_stats-c325ec4c-a468-43ab-8648-d5d64077c109>]\n",
      "[I] [21:09:19.005911] [<Future: finished, type: cuml.TfidfTransformer, key: _set_doc_stats-bac5005b-2e82-4a51-9162-618cf085ecbc>]\n",
      "[I] [21:09:19.006101] [<Future: finished, type: cuml.TfidfTransformer, key: _merge_stats_to_model-e05bf715-f8f4-4865-972d-cf5a529e25c6>]\n",
      "[I] [21:09:19.014123] [Delayed('_merge_stats_to_model-83a80772-7f89-4887-a5a8-59fac18da5a7')]\n"
     ]
    },
    {
     "name": "stderr",
     "output_type": "stream",
     "text": [
      " 20%|██████████████████████████████████▊                                                                                                                                           | 1/5 [00:30<02:03, 30.93s/it]"
     ]
    },
    {
     "name": "stdout",
     "output_type": "stream",
     "text": [
      "(20725971, 1048576)\n",
      "Workers:8, Sample Run:0, Finished loading data in 2952116003s\n",
      "Workers:8, Sample Run:0, Finished preprocessing data in 10102819075s\n",
      "Workers:8, Sample Run:0, Finished fitting HashVectorizer in 11124713839s\n",
      "Workers:8, Sample Run:0, Finished fitting IDF Transformer in 1855368227s\n",
      "Workers:8, Sample Run:0, Finished executing full pipeline in 30887072778s\n"
     ]
    },
    {
     "name": "stderr",
     "output_type": "stream",
     "text": [
      "/home/nfs/anirband/anaconda3/envs/rapids-21.08/lib/python3.8/site-packages/cudf/core/column/string.py:830: UserWarning: `n` parameter is not supported when `pat` and `repl` are list-like inputs\n",
      "  warnings.warn(\n",
      "/home/nfs/anirband/anaconda3/envs/rapids-21.08/lib/python3.8/site-packages/cudf/core/column/string.py:830: UserWarning: `n` parameter is not supported when `pat` and `repl` are list-like inputs\n",
      "  warnings.warn(\n",
      "/home/nfs/anirband/anaconda3/envs/rapids-21.08/lib/python3.8/site-packages/cudf/core/column/string.py:830: UserWarning: `n` parameter is not supported when `pat` and `repl` are list-like inputs\n",
      "  warnings.warn(\n",
      "/home/nfs/anirband/anaconda3/envs/rapids-21.08/lib/python3.8/site-packages/cudf/core/column/string.py:830: UserWarning: `n` parameter is not supported when `pat` and `repl` are list-like inputs\n",
      "  warnings.warn(\n",
      "/home/nfs/anirband/anaconda3/envs/rapids-21.08/lib/python3.8/site-packages/cudf/core/column/string.py:830: UserWarning: `n` parameter is not supported when `pat` and `repl` are list-like inputs\n",
      "  warnings.warn(\n",
      "/home/nfs/anirband/anaconda3/envs/rapids-21.08/lib/python3.8/site-packages/cudf/core/column/string.py:830: UserWarning: `n` parameter is not supported when `pat` and `repl` are list-like inputs\n",
      "  warnings.warn(\n",
      "/home/nfs/anirband/anaconda3/envs/rapids-21.08/lib/python3.8/site-packages/cudf/core/column/string.py:830: UserWarning: `n` parameter is not supported when `pat` and `repl` are list-like inputs\n",
      "  warnings.warn(\n",
      "/home/nfs/anirband/anaconda3/envs/rapids-21.08/lib/python3.8/site-packages/cudf/core/column/string.py:830: UserWarning: `n` parameter is not supported when `pat` and `repl` are list-like inputs\n",
      "  warnings.warn(\n",
      "distributed.preloading - INFO - Import preload module: dask_cuda.initialize\n",
      "distributed.preloading - INFO - Import preload module: dask_cuda.initialize\n",
      "distributed.preloading - INFO - Import preload module: dask_cuda.initialize\n",
      "distributed.preloading - INFO - Import preload module: dask_cuda.initialize\n",
      "distributed.preloading - INFO - Import preload module: dask_cuda.initialize\n",
      "distributed.preloading - INFO - Import preload module: dask_cuda.initialize\n",
      "distributed.preloading - INFO - Import preload module: dask_cuda.initialize\n",
      "distributed.preloading - INFO - Import preload module: dask_cuda.initialize\n"
     ]
    },
    {
     "name": "stdout",
     "output_type": "stream",
     "text": [
      "20726160\n"
     ]
    },
    {
     "name": "stderr",
     "output_type": "stream",
     "text": [
      "/home/nfs/anirband/anaconda3/envs/rapids-21.08/lib/python3.8/site-packages/cudf/core/column/string.py:830: UserWarning: `n` parameter is not supported when `pat` and `repl` are list-like inputs\n",
      "  warnings.warn(\n"
     ]
    },
    {
     "name": "stdout",
     "output_type": "stream",
     "text": [
      "20725971\n",
      "# nnz: 0\n",
      "(20725971, 1048576)\n",
      "[I] [21:09:50.527732] [Delayed('_merge_stats_to_model-da5fc279-506d-4ad5-8c87-08f655f1a90e')]\n",
      "[I] [21:09:50.528105] [<Future: finished, type: cuml.TfidfTransformer, key: _set_doc_stats-79579ee2-02de-4b62-94d1-bd786c1063b5>]\n",
      "[I] [21:09:50.528255] [<Future: finished, type: cuml.TfidfTransformer, key: _set_doc_stats-4fa7b65c-4905-4605-adaf-61c3ba1c22d4>]\n",
      "[I] [21:09:50.528406] [<Future: finished, type: cuml.TfidfTransformer, key: _set_doc_stats-9f9fd56e-72f9-4206-aca8-acd031320ca9>]\n",
      "[I] [21:09:50.528533] [<Future: finished, type: cuml.TfidfTransformer, key: _set_doc_stats-d7dad8ff-1185-4c3b-8672-8eab5835a2c4>]\n",
      "[I] [21:09:50.529083] [Delayed('_merge_stats_to_model-98f2a212-799f-4478-96ac-676bb9d66a3d')]\n",
      "[I] [21:09:50.529281] [<Future: finished, type: cuml.TfidfTransformer, key: _set_doc_stats-a1a4c9ef-cda9-442b-85e1-27da8b87860b>]\n",
      "[I] [21:09:50.529429] [<Future: finished, type: cuml.TfidfTransformer, key: _set_doc_stats-179976cd-106a-48d4-95c5-d50a77e84c6f>]\n",
      "[I] [21:09:50.552824] [<Future: finished, type: cuml.TfidfTransformer, key: _merge_stats_to_model-da5fc279-506d-4ad5-8c87-08f655f1a90e>]\n",
      "[I] [21:09:50.553027] [<Future: finished, type: cuml.TfidfTransformer, key: _set_doc_stats-79579ee2-02de-4b62-94d1-bd786c1063b5>]\n",
      "[I] [21:09:50.553170] [<Future: finished, type: cuml.TfidfTransformer, key: _set_doc_stats-4fa7b65c-4905-4605-adaf-61c3ba1c22d4>]\n",
      "[I] [21:09:50.553300] [<Future: finished, type: cuml.TfidfTransformer, key: _set_doc_stats-9f9fd56e-72f9-4206-aca8-acd031320ca9>]\n",
      "[I] [21:09:50.553427] [<Future: finished, type: cuml.TfidfTransformer, key: _set_doc_stats-d7dad8ff-1185-4c3b-8672-8eab5835a2c4>]\n",
      "[I] [21:09:50.553553] [<Future: finished, type: cuml.TfidfTransformer, key: _merge_stats_to_model-98f2a212-799f-4478-96ac-676bb9d66a3d>]\n",
      "[I] [21:09:50.553677] [<Future: finished, type: cuml.TfidfTransformer, key: _set_doc_stats-a1a4c9ef-cda9-442b-85e1-27da8b87860b>]\n",
      "[I] [21:09:50.553909] [<Future: finished, type: cuml.TfidfTransformer, key: _set_doc_stats-179976cd-106a-48d4-95c5-d50a77e84c6f>]\n",
      "[I] [21:09:50.561699] [Delayed('_merge_stats_to_model-c581f87a-0aa0-48c5-b14d-15794f6005e7')]\n"
     ]
    },
    {
     "name": "stderr",
     "output_type": "stream",
     "text": [
      " 40%|█████████████████████████████████████████████████████████████████████▌                                                                                                        | 2/5 [01:02<01:34, 31.37s/it]"
     ]
    },
    {
     "name": "stdout",
     "output_type": "stream",
     "text": [
      "(20725971, 1048576)\n",
      "Workers:8, Sample Run:1, Finished loading data in 2934145601s\n",
      "Workers:8, Sample Run:1, Finished preprocessing data in 10099345605s\n",
      "Workers:8, Sample Run:1, Finished fitting HashVectorizer in 11061213103s\n",
      "Workers:8, Sample Run:1, Finished fitting IDF Transformer in 2001515759s\n",
      "Workers:8, Sample Run:1, Finished executing full pipeline in 31627355775s\n"
     ]
    },
    {
     "name": "stderr",
     "output_type": "stream",
     "text": [
      "/home/nfs/anirband/anaconda3/envs/rapids-21.08/lib/python3.8/site-packages/cudf/core/column/string.py:830: UserWarning: `n` parameter is not supported when `pat` and `repl` are list-like inputs\n",
      "  warnings.warn(\n",
      "/home/nfs/anirband/anaconda3/envs/rapids-21.08/lib/python3.8/site-packages/cudf/core/column/string.py:830: UserWarning: `n` parameter is not supported when `pat` and `repl` are list-like inputs\n",
      "  warnings.warn(\n",
      "/home/nfs/anirband/anaconda3/envs/rapids-21.08/lib/python3.8/site-packages/cudf/core/column/string.py:830: UserWarning: `n` parameter is not supported when `pat` and `repl` are list-like inputs\n",
      "  warnings.warn(\n",
      "/home/nfs/anirband/anaconda3/envs/rapids-21.08/lib/python3.8/site-packages/cudf/core/column/string.py:830: UserWarning: `n` parameter is not supported when `pat` and `repl` are list-like inputs\n",
      "  warnings.warn(\n",
      "/home/nfs/anirband/anaconda3/envs/rapids-21.08/lib/python3.8/site-packages/cudf/core/column/string.py:830: UserWarning: `n` parameter is not supported when `pat` and `repl` are list-like inputs\n",
      "  warnings.warn(\n",
      "/home/nfs/anirband/anaconda3/envs/rapids-21.08/lib/python3.8/site-packages/cudf/core/column/string.py:830: UserWarning: `n` parameter is not supported when `pat` and `repl` are list-like inputs\n",
      "  warnings.warn(\n",
      "/home/nfs/anirband/anaconda3/envs/rapids-21.08/lib/python3.8/site-packages/cudf/core/column/string.py:830: UserWarning: `n` parameter is not supported when `pat` and `repl` are list-like inputs\n",
      "  warnings.warn(\n",
      "/home/nfs/anirband/anaconda3/envs/rapids-21.08/lib/python3.8/site-packages/cudf/core/column/string.py:830: UserWarning: `n` parameter is not supported when `pat` and `repl` are list-like inputs\n",
      "  warnings.warn(\n",
      "distributed.preloading - INFO - Import preload module: dask_cuda.initialize\n",
      "distributed.preloading - INFO - Import preload module: dask_cuda.initialize\n",
      "distributed.preloading - INFO - Import preload module: dask_cuda.initialize\n",
      "distributed.preloading - INFO - Import preload module: dask_cuda.initialize\n",
      "distributed.preloading - INFO - Import preload module: dask_cuda.initialize\n",
      "distributed.preloading - INFO - Import preload module: dask_cuda.initialize\n",
      "distributed.preloading - INFO - Import preload module: dask_cuda.initialize\n",
      "distributed.preloading - INFO - Import preload module: dask_cuda.initialize\n"
     ]
    },
    {
     "name": "stdout",
     "output_type": "stream",
     "text": [
      "20726160\n"
     ]
    },
    {
     "name": "stderr",
     "output_type": "stream",
     "text": [
      "/home/nfs/anirband/anaconda3/envs/rapids-21.08/lib/python3.8/site-packages/cudf/core/column/string.py:830: UserWarning: `n` parameter is not supported when `pat` and `repl` are list-like inputs\n",
      "  warnings.warn(\n"
     ]
    },
    {
     "name": "stdout",
     "output_type": "stream",
     "text": [
      "20725971\n",
      "# nnz: 0\n",
      "(20725971, 1048576)\n",
      "[I] [21:10:24.506927] [Delayed('_merge_stats_to_model-3feb8a60-3d68-48fb-a8e5-334fa28d85a2')]\n",
      "[I] [21:10:24.507282] [<Future: finished, type: cuml.TfidfTransformer, key: _set_doc_stats-732ed90b-3ef4-4b8d-8339-0cc6769eee5f>]\n",
      "[I] [21:10:24.507445] [<Future: finished, type: cuml.TfidfTransformer, key: _set_doc_stats-e0273be0-4747-4a93-bce9-66eafa8bce2c>]\n",
      "[I] [21:10:24.507616] [<Future: finished, type: cuml.TfidfTransformer, key: _set_doc_stats-03ebf1c1-8aa0-41a2-bcf2-140fe8466af2>]\n",
      "[I] [21:10:24.507772] [<Future: finished, type: cuml.TfidfTransformer, key: _set_doc_stats-ba64b826-0879-4190-aebd-9393f9d7efca>]\n",
      "[I] [21:10:24.507939] [<Future: finished, type: cuml.TfidfTransformer, key: _set_doc_stats-137429aa-83ae-45b5-a738-424e1ed64c37>]\n",
      "[I] [21:10:24.508544] [Delayed('_merge_stats_to_model-17797f47-1f4e-494a-8bad-faf7f1b1d28e')]\n",
      "[I] [21:10:24.508852] [<Future: finished, type: cuml.TfidfTransformer, key: _set_doc_stats-da33a6ae-e8f0-45a8-ac99-dee1e7d467c7>]\n",
      "[I] [21:10:24.532779] [<Future: finished, type: cuml.TfidfTransformer, key: _merge_stats_to_model-3feb8a60-3d68-48fb-a8e5-334fa28d85a2>]\n",
      "[I] [21:10:24.533018] [<Future: finished, type: cuml.TfidfTransformer, key: _set_doc_stats-732ed90b-3ef4-4b8d-8339-0cc6769eee5f>]\n",
      "[I] [21:10:24.533158] [<Future: finished, type: cuml.TfidfTransformer, key: _set_doc_stats-e0273be0-4747-4a93-bce9-66eafa8bce2c>]\n",
      "[I] [21:10:24.533286] [<Future: finished, type: cuml.TfidfTransformer, key: _set_doc_stats-03ebf1c1-8aa0-41a2-bcf2-140fe8466af2>]\n",
      "[I] [21:10:24.533412] [<Future: finished, type: cuml.TfidfTransformer, key: _set_doc_stats-ba64b826-0879-4190-aebd-9393f9d7efca>]\n",
      "[I] [21:10:24.533537] [<Future: finished, type: cuml.TfidfTransformer, key: _set_doc_stats-137429aa-83ae-45b5-a738-424e1ed64c37>]\n",
      "[I] [21:10:24.533660] [<Future: finished, type: cuml.TfidfTransformer, key: _merge_stats_to_model-17797f47-1f4e-494a-8bad-faf7f1b1d28e>]\n",
      "[I] [21:10:24.533955] [<Future: finished, type: cuml.TfidfTransformer, key: _set_doc_stats-da33a6ae-e8f0-45a8-ac99-dee1e7d467c7>]\n",
      "[I] [21:10:24.541508] [Delayed('_merge_stats_to_model-3a5b127c-467a-476c-935b-4595edec40f8')]\n"
     ]
    },
    {
     "name": "stderr",
     "output_type": "stream",
     "text": [
      " 60%|████████████████████████████████████████████████████████████████████████████████████████████████████████▍                                                                     | 3/5 [01:36<01:05, 32.51s/it]"
     ]
    },
    {
     "name": "stdout",
     "output_type": "stream",
     "text": [
      "(20725971, 1048576)\n",
      "Workers:8, Sample Run:2, Finished loading data in 3017496467s\n",
      "Workers:8, Sample Run:2, Finished preprocessing data in 11521783853s\n",
      "Workers:8, Sample Run:2, Finished fitting HashVectorizer in 11672786150s\n",
      "Workers:8, Sample Run:2, Finished fitting IDF Transformer in 1907771368s\n",
      "Workers:8, Sample Run:2, Finished executing full pipeline in 33809693210s\n"
     ]
    },
    {
     "name": "stderr",
     "output_type": "stream",
     "text": [
      "/home/nfs/anirband/anaconda3/envs/rapids-21.08/lib/python3.8/site-packages/cudf/core/column/string.py:830: UserWarning: `n` parameter is not supported when `pat` and `repl` are list-like inputs\n",
      "  warnings.warn(\n",
      "/home/nfs/anirband/anaconda3/envs/rapids-21.08/lib/python3.8/site-packages/cudf/core/column/string.py:830: UserWarning: `n` parameter is not supported when `pat` and `repl` are list-like inputs\n",
      "  warnings.warn(\n",
      "distributed.worker - WARNING - Heartbeat to scheduler failed\n",
      "/home/nfs/anirband/anaconda3/envs/rapids-21.08/lib/python3.8/site-packages/cudf/core/column/string.py:830: UserWarning: `n` parameter is not supported when `pat` and `repl` are list-like inputs\n",
      "  warnings.warn(\n",
      "/home/nfs/anirband/anaconda3/envs/rapids-21.08/lib/python3.8/site-packages/cudf/core/column/string.py:830: UserWarning: `n` parameter is not supported when `pat` and `repl` are list-like inputs\n",
      "  warnings.warn(\n",
      "/home/nfs/anirband/anaconda3/envs/rapids-21.08/lib/python3.8/site-packages/cudf/core/column/string.py:830: UserWarning: `n` parameter is not supported when `pat` and `repl` are list-like inputs\n",
      "  warnings.warn(\n",
      "/home/nfs/anirband/anaconda3/envs/rapids-21.08/lib/python3.8/site-packages/cudf/core/column/string.py:830: UserWarning: `n` parameter is not supported when `pat` and `repl` are list-like inputs\n",
      "  warnings.warn(\n",
      "/home/nfs/anirband/anaconda3/envs/rapids-21.08/lib/python3.8/site-packages/cudf/core/column/string.py:830: UserWarning: `n` parameter is not supported when `pat` and `repl` are list-like inputs\n",
      "  warnings.warn(\n",
      "/home/nfs/anirband/anaconda3/envs/rapids-21.08/lib/python3.8/site-packages/cudf/core/column/string.py:830: UserWarning: `n` parameter is not supported when `pat` and `repl` are list-like inputs\n",
      "  warnings.warn(\n",
      "distributed.preloading - INFO - Import preload module: dask_cuda.initialize\n",
      "distributed.preloading - INFO - Import preload module: dask_cuda.initialize\n",
      "distributed.preloading - INFO - Import preload module: dask_cuda.initialize\n",
      "distributed.preloading - INFO - Import preload module: dask_cuda.initialize\n",
      "distributed.preloading - INFO - Import preload module: dask_cuda.initialize\n",
      "distributed.preloading - INFO - Import preload module: dask_cuda.initialize\n",
      "distributed.preloading - INFO - Import preload module: dask_cuda.initialize\n",
      "distributed.preloading - INFO - Import preload module: dask_cuda.initialize\n"
     ]
    },
    {
     "name": "stdout",
     "output_type": "stream",
     "text": [
      "20726160\n"
     ]
    },
    {
     "name": "stderr",
     "output_type": "stream",
     "text": [
      "/home/nfs/anirband/anaconda3/envs/rapids-21.08/lib/python3.8/site-packages/cudf/core/column/string.py:830: UserWarning: `n` parameter is not supported when `pat` and `repl` are list-like inputs\n",
      "  warnings.warn(\n"
     ]
    },
    {
     "name": "stdout",
     "output_type": "stream",
     "text": [
      "20725971\n",
      "# nnz: 0\n",
      "(20725971, 1048576)\n",
      "[I] [21:10:55.843488] [<Future: finished, type: cuml.TfidfTransformer, key: _set_doc_stats-979574e0-f036-426d-95f0-cfa56ae99bb2>]\n",
      "[I] [21:10:55.843910] [<Future: finished, type: cuml.TfidfTransformer, key: _set_doc_stats-9b13476b-450d-45b4-8605-c034c55dfdf5>]\n",
      "[I] [21:10:55.844050] [<Future: finished, type: cuml.TfidfTransformer, key: _set_doc_stats-849e11cc-894c-4dc9-8ca5-d45bb4625058>]\n",
      "[I] [21:10:55.844191] [<Future: finished, type: cuml.TfidfTransformer, key: _set_doc_stats-d93e9fe9-966f-4713-9a05-b2b68401e519>]\n",
      "[I] [21:10:55.844309] [<Future: finished, type: cuml.TfidfTransformer, key: _set_doc_stats-54544d8e-b325-4338-a975-6d7ee331289d>]\n",
      "[I] [21:10:55.844543] [<Future: finished, type: cuml.TfidfTransformer, key: _set_doc_stats-f721960f-fae7-4d31-929d-d9ac1d30723d>]\n",
      "[I] [21:10:55.845267] [Delayed('_merge_stats_to_model-db30e350-5e3f-4399-b7a2-280705ca3ca8')]\n",
      "[I] [21:10:55.846074] [Delayed('_merge_stats_to_model-1e5383ae-b240-47ed-a1e1-53769fee4c09')]\n",
      "[I] [21:10:55.869184] [<Future: finished, type: cuml.TfidfTransformer, key: _set_doc_stats-979574e0-f036-426d-95f0-cfa56ae99bb2>]\n",
      "[I] [21:10:55.869410] [<Future: finished, type: cuml.TfidfTransformer, key: _set_doc_stats-9b13476b-450d-45b4-8605-c034c55dfdf5>]\n",
      "[I] [21:10:55.869540] [<Future: finished, type: cuml.TfidfTransformer, key: _set_doc_stats-849e11cc-894c-4dc9-8ca5-d45bb4625058>]\n",
      "[I] [21:10:55.869658] [<Future: finished, type: cuml.TfidfTransformer, key: _set_doc_stats-d93e9fe9-966f-4713-9a05-b2b68401e519>]\n",
      "[I] [21:10:55.869776] [<Future: finished, type: cuml.TfidfTransformer, key: _set_doc_stats-54544d8e-b325-4338-a975-6d7ee331289d>]\n",
      "[I] [21:10:55.869889] [<Future: finished, type: cuml.TfidfTransformer, key: _set_doc_stats-f721960f-fae7-4d31-929d-d9ac1d30723d>]\n",
      "[I] [21:10:55.870001] [<Future: finished, type: cuml.TfidfTransformer, key: _merge_stats_to_model-db30e350-5e3f-4399-b7a2-280705ca3ca8>]\n",
      "[I] [21:10:55.870152] [<Future: finished, type: cuml.TfidfTransformer, key: _merge_stats_to_model-1e5383ae-b240-47ed-a1e1-53769fee4c09>]\n",
      "[I] [21:10:55.877604] [Delayed('_merge_stats_to_model-375069b4-ebf3-4a90-ad7a-65b86c005a52')]\n"
     ]
    },
    {
     "name": "stderr",
     "output_type": "stream",
     "text": [
      " 80%|███████████████████████████████████████████████████████████████████████████████████████████████████████████████████████████████████████████▏                                  | 4/5 [02:07<00:32, 32.06s/it]"
     ]
    },
    {
     "name": "stdout",
     "output_type": "stream",
     "text": [
      "(20725971, 1048576)\n",
      "Workers:8, Sample Run:3, Finished loading data in 3060375992s\n",
      "Workers:8, Sample Run:3, Finished preprocessing data in 10114845022s\n",
      "Workers:8, Sample Run:3, Finished fitting HashVectorizer in 11124651602s\n",
      "Workers:8, Sample Run:3, Finished fitting IDF Transformer in 1907807716s\n",
      "Workers:8, Sample Run:3, Finished executing full pipeline in 31311298117s\n"
     ]
    },
    {
     "name": "stderr",
     "output_type": "stream",
     "text": [
      "/home/nfs/anirband/anaconda3/envs/rapids-21.08/lib/python3.8/site-packages/cudf/core/column/string.py:830: UserWarning: `n` parameter is not supported when `pat` and `repl` are list-like inputs\n",
      "  warnings.warn(\n",
      "/home/nfs/anirband/anaconda3/envs/rapids-21.08/lib/python3.8/site-packages/cudf/core/column/string.py:830: UserWarning: `n` parameter is not supported when `pat` and `repl` are list-like inputs\n",
      "  warnings.warn(\n",
      "/home/nfs/anirband/anaconda3/envs/rapids-21.08/lib/python3.8/site-packages/cudf/core/column/string.py:830: UserWarning: `n` parameter is not supported when `pat` and `repl` are list-like inputs\n",
      "  warnings.warn(\n",
      "distributed.worker - WARNING - Heartbeat to scheduler failed\n",
      "/home/nfs/anirband/anaconda3/envs/rapids-21.08/lib/python3.8/site-packages/cudf/core/column/string.py:830: UserWarning: `n` parameter is not supported when `pat` and `repl` are list-like inputs\n",
      "  warnings.warn(\n",
      "/home/nfs/anirband/anaconda3/envs/rapids-21.08/lib/python3.8/site-packages/cudf/core/column/string.py:830: UserWarning: `n` parameter is not supported when `pat` and `repl` are list-like inputs\n",
      "  warnings.warn(\n",
      "/home/nfs/anirband/anaconda3/envs/rapids-21.08/lib/python3.8/site-packages/cudf/core/column/string.py:830: UserWarning: `n` parameter is not supported when `pat` and `repl` are list-like inputs\n",
      "  warnings.warn(\n",
      "/home/nfs/anirband/anaconda3/envs/rapids-21.08/lib/python3.8/site-packages/cudf/core/column/string.py:830: UserWarning: `n` parameter is not supported when `pat` and `repl` are list-like inputs\n",
      "  warnings.warn(\n",
      "/home/nfs/anirband/anaconda3/envs/rapids-21.08/lib/python3.8/site-packages/cudf/core/column/string.py:830: UserWarning: `n` parameter is not supported when `pat` and `repl` are list-like inputs\n",
      "  warnings.warn(\n",
      "distributed.preloading - INFO - Import preload module: dask_cuda.initialize\n",
      "distributed.preloading - INFO - Import preload module: dask_cuda.initialize\n",
      "distributed.preloading - INFO - Import preload module: dask_cuda.initialize\n",
      "distributed.preloading - INFO - Import preload module: dask_cuda.initialize\n",
      "distributed.preloading - INFO - Import preload module: dask_cuda.initialize\n",
      "distributed.preloading - INFO - Import preload module: dask_cuda.initialize\n",
      "distributed.preloading - INFO - Import preload module: dask_cuda.initialize\n",
      "distributed.preloading - INFO - Import preload module: dask_cuda.initialize\n"
     ]
    },
    {
     "name": "stdout",
     "output_type": "stream",
     "text": [
      "20726160\n"
     ]
    },
    {
     "name": "stderr",
     "output_type": "stream",
     "text": [
      "/home/nfs/anirband/anaconda3/envs/rapids-21.08/lib/python3.8/site-packages/cudf/core/column/string.py:830: UserWarning: `n` parameter is not supported when `pat` and `repl` are list-like inputs\n",
      "  warnings.warn(\n"
     ]
    },
    {
     "name": "stdout",
     "output_type": "stream",
     "text": [
      "20725971\n",
      "# nnz: 0\n",
      "(20725971, 1048576)\n",
      "[I] [21:11:27.445505] [Delayed('_merge_stats_to_model-fd6b63cd-01fd-41a0-8684-954fc96d6cb3')]\n",
      "[I] [21:11:27.446297] [Delayed('_merge_stats_to_model-187c5b10-1b7e-40f6-9de9-15a61a9e5e55')]\n",
      "[I] [21:11:27.446543] [<Future: finished, type: cuml.TfidfTransformer, key: _set_doc_stats-0e161ef9-3804-4bb4-802f-1e36144ea4e3>]\n",
      "[I] [21:11:27.446679] [<Future: finished, type: cuml.TfidfTransformer, key: _set_doc_stats-98583cad-3c63-44ad-b45f-fd8bd28e4f30>]\n",
      "[I] [21:11:27.446800] [<Future: finished, type: cuml.TfidfTransformer, key: _set_doc_stats-aafbe39e-d319-40d7-9e73-71eda425e6ba>]\n",
      "[I] [21:11:27.446917] [<Future: finished, type: cuml.TfidfTransformer, key: _set_doc_stats-ede25dad-e211-4842-a1cb-a985e360f768>]\n",
      "[I] [21:11:27.447036] [<Future: finished, type: cuml.TfidfTransformer, key: _set_doc_stats-a8018a02-7218-46cb-8d39-50126f14e5a3>]\n",
      "[I] [21:11:27.447148] [<Future: finished, type: cuml.TfidfTransformer, key: _set_doc_stats-e32475a7-3379-4541-a845-11d5440c6966>]\n",
      "[I] [21:11:27.467864] [<Future: finished, type: cuml.TfidfTransformer, key: _merge_stats_to_model-fd6b63cd-01fd-41a0-8684-954fc96d6cb3>]\n",
      "[I] [21:11:27.468135] [<Future: finished, type: cuml.TfidfTransformer, key: _merge_stats_to_model-187c5b10-1b7e-40f6-9de9-15a61a9e5e55>]\n",
      "[I] [21:11:27.468272] [<Future: finished, type: cuml.TfidfTransformer, key: _set_doc_stats-0e161ef9-3804-4bb4-802f-1e36144ea4e3>]\n",
      "[I] [21:11:27.468410] [<Future: finished, type: cuml.TfidfTransformer, key: _set_doc_stats-98583cad-3c63-44ad-b45f-fd8bd28e4f30>]\n",
      "[I] [21:11:27.468527] [<Future: finished, type: cuml.TfidfTransformer, key: _set_doc_stats-aafbe39e-d319-40d7-9e73-71eda425e6ba>]\n",
      "[I] [21:11:27.468644] [<Future: finished, type: cuml.TfidfTransformer, key: _set_doc_stats-ede25dad-e211-4842-a1cb-a985e360f768>]\n",
      "[I] [21:11:27.468794] [<Future: finished, type: cuml.TfidfTransformer, key: _set_doc_stats-a8018a02-7218-46cb-8d39-50126f14e5a3>]\n",
      "[I] [21:11:27.469021] [<Future: finished, type: cuml.TfidfTransformer, key: _set_doc_stats-e32475a7-3379-4541-a845-11d5440c6966>]\n",
      "[I] [21:11:27.476117] [Delayed('_merge_stats_to_model-6d284f7c-d031-4315-8d4f-75099d33472d')]\n"
     ]
    },
    {
     "name": "stderr",
     "output_type": "stream",
     "text": [
      "100%|██████████████████████████████████████████████████████████████████████████████████████████████████████████████████████████████████████████████████████████████████████████████| 5/5 [02:39<00:00, 31.91s/it]"
     ]
    },
    {
     "name": "stdout",
     "output_type": "stream",
     "text": [
      "(20725971, 1048576)\n",
      "Workers:8, Sample Run:4, Finished loading data in 2923171230s\n",
      "Workers:8, Sample Run:4, Finished preprocessing data in 10135214046s\n",
      "Workers:8, Sample Run:4, Finished fitting HashVectorizer in 11168897573s\n",
      "Workers:8, Sample Run:4, Finished fitting IDF Transformer in 2007942335s\n",
      "Workers:8, Sample Run:4, Finished executing full pipeline in 31648239822s\n",
      "CPU times: user 37.6 s, sys: 13 s, total: 50.6 s\n",
      "Wall time: 15min 3s\n"
     ]
    },
    {
     "name": "stderr",
     "output_type": "stream",
     "text": [
      "\n"
     ]
    }
   ],
   "source": [
    "%%time\n",
    "performance_numbers(client, parquet_path=parquet_path, worker_counts=worker_counts, samples=samples, result_path=result_path, persist_flag=True)"
   ]
  },
  {
   "cell_type": "code",
   "execution_count": 9,
   "id": "3bd627f9-0878-4296-bf73-151ec1b1bec3",
   "metadata": {},
   "outputs": [
    {
     "data": {
      "image/png": "[encoded data removed]",
      "text/plain": [
       "<Figure size 1200x800 with 1 Axes>"
      ]
     },
     "metadata": {},
     "output_type": "display_data"
    }
   ],
   "source": [
    "data, melt_data = visualize_data(result_path)        "
   ]
  },
  {
   "cell_type": "code",
   "execution_count": 10,
   "id": "36dc1a20-d436-4362-af91-75d4b6e829b4",
   "metadata": {},
   "outputs": [],
   "source": [
    "groupy = data.groupby(\"n_workers\").agg(['mean', 'std', 'count'])"
   ]
  },
  {
   "cell_type": "code",
   "execution_count": 11,
   "id": "c0ac4d3f-5d2f-4941-a984-adad8d15edb8",
   "metadata": {},
   "outputs": [
    {
     "data": {
      "text/html": [
       "<div>\n",
       "<style scoped>\n",
       "    .dataframe tbody tr th:only-of-type {\n",
       "        vertical-align: middle;\n",
       "    }\n",
       "\n",
       "    .dataframe tbody tr th {\n",
       "        vertical-align: top;\n",
       "    }\n",
       "\n",
       "    .dataframe thead tr th {\n",
       "        text-align: left;\n",
       "    }\n",
       "\n",
       "    .dataframe thead tr:last-of-type th {\n",
       "        text-align: right;\n",
       "    }\n",
       "</style>\n",
       "<table border=\"1\" class=\"dataframe\">\n",
       "  <thead>\n",
       "    <tr>\n",
       "      <th></th>\n",
       "      <th colspan=\"3\" halign=\"left\">sample_run</th>\n",
       "      <th colspan=\"3\" halign=\"left\">overall</th>\n",
       "      <th colspan=\"3\" halign=\"left\">data_read</th>\n",
       "      <th colspan=\"3\" halign=\"left\">data_preprocessing</th>\n",
       "      <th colspan=\"3\" halign=\"left\">hashing_vectorizer</th>\n",
       "      <th colspan=\"3\" halign=\"left\">tfidf_transformer</th>\n",
       "      <th colspan=\"3\" halign=\"left\">nrows</th>\n",
       "    </tr>\n",
       "    <tr>\n",
       "      <th></th>\n",
       "      <th>mean</th>\n",
       "      <th>std</th>\n",
       "      <th>count</th>\n",
       "      <th>mean</th>\n",
       "      <th>std</th>\n",
       "      <th>count</th>\n",
       "      <th>mean</th>\n",
       "      <th>std</th>\n",
       "      <th>count</th>\n",
       "      <th>mean</th>\n",
       "      <th>...</th>\n",
       "      <th>count</th>\n",
       "      <th>mean</th>\n",
       "      <th>std</th>\n",
       "      <th>count</th>\n",
       "      <th>mean</th>\n",
       "      <th>std</th>\n",
       "      <th>count</th>\n",
       "      <th>mean</th>\n",
       "      <th>std</th>\n",
       "      <th>count</th>\n",
       "    </tr>\n",
       "    <tr>\n",
       "      <th>n_workers</th>\n",
       "      <th></th>\n",
       "      <th></th>\n",
       "      <th></th>\n",
       "      <th></th>\n",
       "      <th></th>\n",
       "      <th></th>\n",
       "      <th></th>\n",
       "      <th></th>\n",
       "      <th></th>\n",
       "      <th></th>\n",
       "      <th></th>\n",
       "      <th></th>\n",
       "      <th></th>\n",
       "      <th></th>\n",
       "      <th></th>\n",
       "      <th></th>\n",
       "      <th></th>\n",
       "      <th></th>\n",
       "      <th></th>\n",
       "      <th></th>\n",
       "      <th></th>\n",
       "    </tr>\n",
       "  </thead>\n",
       "  <tbody>\n",
       "    <tr>\n",
       "      <th>2</th>\n",
       "      <td>2</td>\n",
       "      <td>1.581139</td>\n",
       "      <td>5</td>\n",
       "      <td>73.407924</td>\n",
       "      <td>13.411537</td>\n",
       "      <td>5</td>\n",
       "      <td>8.932737</td>\n",
       "      <td>6.960586</td>\n",
       "      <td>5</td>\n",
       "      <td>26.642361</td>\n",
       "      <td>...</td>\n",
       "      <td>5</td>\n",
       "      <td>30.666390</td>\n",
       "      <td>4.139648</td>\n",
       "      <td>5</td>\n",
       "      <td>3.828063</td>\n",
       "      <td>1.854937</td>\n",
       "      <td>5</td>\n",
       "      <td>20725971</td>\n",
       "      <td>0.0</td>\n",
       "      <td>5</td>\n",
       "    </tr>\n",
       "    <tr>\n",
       "      <th>4</th>\n",
       "      <td>2</td>\n",
       "      <td>1.581139</td>\n",
       "      <td>5</td>\n",
       "      <td>39.890486</td>\n",
       "      <td>1.768134</td>\n",
       "      <td>5</td>\n",
       "      <td>3.072704</td>\n",
       "      <td>0.023625</td>\n",
       "      <td>5</td>\n",
       "      <td>15.401698</td>\n",
       "      <td>...</td>\n",
       "      <td>5</td>\n",
       "      <td>15.332111</td>\n",
       "      <td>0.570090</td>\n",
       "      <td>5</td>\n",
       "      <td>2.023146</td>\n",
       "      <td>0.041773</td>\n",
       "      <td>5</td>\n",
       "      <td>20725971</td>\n",
       "      <td>0.0</td>\n",
       "      <td>5</td>\n",
       "    </tr>\n",
       "    <tr>\n",
       "      <th>6</th>\n",
       "      <td>2</td>\n",
       "      <td>1.581139</td>\n",
       "      <td>5</td>\n",
       "      <td>31.170064</td>\n",
       "      <td>1.190775</td>\n",
       "      <td>5</td>\n",
       "      <td>2.817000</td>\n",
       "      <td>0.025480</td>\n",
       "      <td>5</td>\n",
       "      <td>10.416346</td>\n",
       "      <td>...</td>\n",
       "      <td>5</td>\n",
       "      <td>11.033144</td>\n",
       "      <td>0.345978</td>\n",
       "      <td>5</td>\n",
       "      <td>1.986640</td>\n",
       "      <td>0.074961</td>\n",
       "      <td>5</td>\n",
       "      <td>20725971</td>\n",
       "      <td>0.0</td>\n",
       "      <td>5</td>\n",
       "    </tr>\n",
       "    <tr>\n",
       "      <th>8</th>\n",
       "      <td>2</td>\n",
       "      <td>1.581139</td>\n",
       "      <td>5</td>\n",
       "      <td>31.856732</td>\n",
       "      <td>1.134447</td>\n",
       "      <td>5</td>\n",
       "      <td>2.977461</td>\n",
       "      <td>0.059042</td>\n",
       "      <td>5</td>\n",
       "      <td>10.394802</td>\n",
       "      <td>...</td>\n",
       "      <td>5</td>\n",
       "      <td>11.230452</td>\n",
       "      <td>0.250232</td>\n",
       "      <td>5</td>\n",
       "      <td>1.936081</td>\n",
       "      <td>0.066259</td>\n",
       "      <td>5</td>\n",
       "      <td>20725971</td>\n",
       "      <td>0.0</td>\n",
       "      <td>5</td>\n",
       "    </tr>\n",
       "  </tbody>\n",
       "</table>\n",
       "<p>4 rows × 21 columns</p>\n",
       "</div>"
      ],
      "text/plain": [
       "          sample_run                    overall                  data_read  \\\n",
       "                mean       std count       mean        std count      mean   \n",
       "n_workers                                                                    \n",
       "2                  2  1.581139     5  73.407924  13.411537     5  8.932737   \n",
       "4                  2  1.581139     5  39.890486   1.768134     5  3.072704   \n",
       "6                  2  1.581139     5  31.170064   1.190775     5  2.817000   \n",
       "8                  2  1.581139     5  31.856732   1.134447     5  2.977461   \n",
       "\n",
       "                          data_preprocessing  ...       hashing_vectorizer  \\\n",
       "                std count               mean  ... count               mean   \n",
       "n_workers                                     ...                            \n",
       "2          6.960586     5          26.642361  ...     5          30.666390   \n",
       "4          0.023625     5          15.401698  ...     5          15.332111   \n",
       "6          0.025480     5          10.416346  ...     5          11.033144   \n",
       "8          0.059042     5          10.394802  ...     5          11.230452   \n",
       "\n",
       "                          tfidf_transformer                     nrows       \\\n",
       "                std count              mean       std count      mean  std   \n",
       "n_workers                                                                    \n",
       "2          4.139648     5          3.828063  1.854937     5  20725971  0.0   \n",
       "4          0.570090     5          2.023146  0.041773     5  20725971  0.0   \n",
       "6          0.345978     5          1.986640  0.074961     5  20725971  0.0   \n",
       "8          0.250232     5          1.936081  0.066259     5  20725971  0.0   \n",
       "\n",
       "                 \n",
       "          count  \n",
       "n_workers        \n",
       "2             5  \n",
       "4             5  \n",
       "6             5  \n",
       "8             5  \n",
       "\n",
       "[4 rows x 21 columns]"
      ]
     },
     "execution_count": 11,
     "metadata": {},
     "output_type": "execute_result"
    }
   ],
   "source": [
    "groupy"
   ]
  },
  {
   "cell_type": "markdown",
   "id": "061b1dab-3ff0-40f7-9889-b744704f8cec",
   "metadata": {},
   "source": [
    "## Benchmark latency without materializing the intermediate dataframe(s) except for the last stage"
   ]
  },
  {
   "cell_type": "code",
   "execution_count": 13,
   "id": "e5db8890-5f91-426c-8b72-bcf2c758f38c",
   "metadata": {},
   "outputs": [],
   "source": [
    "#parquet_path = 's3://amazon-reviews-pds/parquet/product_category=Camera/*.parquet'\n",
    "dataset = \"Books\"\n",
    "parquet_path = f'./data/product_category={dataset}'\n",
    "model_kwargs = {\"text_preprocessor\":text_preprocessor}\n",
    "samples = 5\n",
    "worker_counts = [2,4,6,8]\n",
    "result_path = f\"./results/result_poc_nlp_dask_{dataset}_nonpersist.pkl\""
   ]
  },
  {
   "cell_type": "code",
   "execution_count": 14,
   "id": "315f8e22-e8e0-4fd8-8b64-d619b7c42b72",
   "metadata": {},
   "outputs": [
    {
     "name": "stderr",
     "output_type": "stream",
     "text": [
      "  0%|                                                                                                                                                                                      | 0/5 [00:00<?, ?it/s]distributed.preloading - INFO - Import preload module: dask_cuda.initialize\n",
      "distributed.preloading - INFO - Import preload module: dask_cuda.initialize\n"
     ]
    },
    {
     "name": "stdout",
     "output_type": "stream",
     "text": [
      "20726160\n"
     ]
    },
    {
     "name": "stderr",
     "output_type": "stream",
     "text": [
      "/home/nfs/anirband/anaconda3/envs/rapids-21.08/lib/python3.8/site-packages/cudf/core/column/string.py:830: UserWarning: `n` parameter is not supported when `pat` and `repl` are list-like inputs\n",
      "  warnings.warn(\n"
     ]
    },
    {
     "name": "stdout",
     "output_type": "stream",
     "text": [
      "20725971\n",
      "# nnz: 0\n",
      "(nan, 0)\n",
      "[I] [09:44:21.692688] [Delayed('_merge_stats_to_model-da7522f5-1e30-43b3-bd22-584022ea6d14')]\n",
      "[I] [09:44:21.696744] [Delayed('_merge_stats_to_model-88308a5d-3fb0-419e-a43c-13623fa2c531')]\n",
      "[I] [09:44:21.748163] [<Future: finished, type: cuml.TfidfTransformer, key: _merge_stats_to_model-da7522f5-1e30-43b3-bd22-584022ea6d14>]\n",
      "[I] [09:44:21.748432] [<Future: finished, type: cuml.TfidfTransformer, key: _merge_stats_to_model-88308a5d-3fb0-419e-a43c-13623fa2c531>]\n",
      "[I] [09:44:21.757165] [Delayed('_merge_stats_to_model-4d57e91f-b172-4465-826b-07613affd9bc')]\n",
      "(20725971, 1048576)\n",
      "Workers:2, Sample Run:0, Finished loading data in 5336546500s\n",
      "Workers:2, Sample Run:0, Finished preprocessing data in 27422734191s\n",
      "Workers:2, Sample Run:0, Finished fitting HashVectorizer in 265011068s\n",
      "Workers:2, Sample Run:0, Finished fitting IDF Transformer in 107059563715s\n"
     ]
    },
    {
     "name": "stderr",
     "output_type": "stream",
     "text": [
      " 20%|██████████████████████████████████▌                                                                                                                                          | 1/5 [02:55<11:41, 175.35s/it]"
     ]
    },
    {
     "name": "stdout",
     "output_type": "stream",
     "text": [
      "Workers:2, Sample Run:0, Finished executing full pipeline in 142959905293s\n"
     ]
    },
    {
     "name": "stderr",
     "output_type": "stream",
     "text": [
      "/home/nfs/anirband/anaconda3/envs/rapids-21.08/lib/python3.8/site-packages/cudf/core/column/string.py:830: UserWarning: `n` parameter is not supported when `pat` and `repl` are list-like inputs\n",
      "  warnings.warn(\n",
      "/home/nfs/anirband/anaconda3/envs/rapids-21.08/lib/python3.8/site-packages/cudf/core/column/string.py:830: UserWarning: `n` parameter is not supported when `pat` and `repl` are list-like inputs\n",
      "  warnings.warn(\n",
      "/home/nfs/anirband/anaconda3/envs/rapids-21.08/lib/python3.8/site-packages/cudf/core/column/string.py:830: UserWarning: `n` parameter is not supported when `pat` and `repl` are list-like inputs\n",
      "  warnings.warn(\n",
      "/home/nfs/anirband/anaconda3/envs/rapids-21.08/lib/python3.8/site-packages/cudf/core/column/string.py:830: UserWarning: `n` parameter is not supported when `pat` and `repl` are list-like inputs\n",
      "  warnings.warn(\n",
      "distributed.preloading - INFO - Import preload module: dask_cuda.initialize\n",
      "distributed.preloading - INFO - Import preload module: dask_cuda.initialize\n"
     ]
    },
    {
     "name": "stdout",
     "output_type": "stream",
     "text": [
      "20726160\n"
     ]
    },
    {
     "name": "stderr",
     "output_type": "stream",
     "text": [
      "/home/nfs/anirband/anaconda3/envs/rapids-21.08/lib/python3.8/site-packages/cudf/core/column/string.py:830: UserWarning: `n` parameter is not supported when `pat` and `repl` are list-like inputs\n",
      "  warnings.warn(\n"
     ]
    },
    {
     "name": "stdout",
     "output_type": "stream",
     "text": [
      "20725971\n",
      "# nnz: 0\n",
      "(nan, 0)\n",
      "[I] [09:47:16.575931] [Delayed('_merge_stats_to_model-cdaa9116-1f87-4286-94fc-ca8fe66886c2')]\n",
      "[I] [09:47:16.578155] [Delayed('_merge_stats_to_model-ec415bd2-0c96-429e-b7ae-3ba5a6e9ba8e')]\n",
      "[I] [09:47:16.630981] [<Future: finished, type: cuml.TfidfTransformer, key: _merge_stats_to_model-cdaa9116-1f87-4286-94fc-ca8fe66886c2>]\n",
      "[I] [09:47:16.631209] [<Future: finished, type: cuml.TfidfTransformer, key: _merge_stats_to_model-ec415bd2-0c96-429e-b7ae-3ba5a6e9ba8e>]\n",
      "[I] [09:47:16.637360] [Delayed('_merge_stats_to_model-d7ae9daf-2bd0-4dd6-a8a3-01b1eecf477b')]\n",
      "(20725971, 1048576)\n",
      "Workers:2, Sample Run:1, Finished loading data in 4190261814s\n",
      "Workers:2, Sample Run:1, Finished preprocessing data in 27548566451s\n",
      "Workers:2, Sample Run:1, Finished fitting HashVectorizer in 10845088s\n",
      "Workers:2, Sample Run:1, Finished fitting IDF Transformer in 109804482834s\n"
     ]
    },
    {
     "name": "stderr",
     "output_type": "stream",
     "text": [
      " 40%|█████████████████████████████████████████████████████████████████████▏                                                                                                       | 2/5 [05:47<08:40, 173.64s/it]"
     ]
    },
    {
     "name": "stdout",
     "output_type": "stream",
     "text": [
      "Workers:2, Sample Run:1, Finished executing full pipeline in 145005203901s\n"
     ]
    },
    {
     "name": "stderr",
     "output_type": "stream",
     "text": [
      "/home/nfs/anirband/anaconda3/envs/rapids-21.08/lib/python3.8/site-packages/cudf/core/column/string.py:830: UserWarning: `n` parameter is not supported when `pat` and `repl` are list-like inputs\n",
      "  warnings.warn(\n",
      "/home/nfs/anirband/anaconda3/envs/rapids-21.08/lib/python3.8/site-packages/cudf/core/column/string.py:830: UserWarning: `n` parameter is not supported when `pat` and `repl` are list-like inputs\n",
      "  warnings.warn(\n",
      "/home/nfs/anirband/anaconda3/envs/rapids-21.08/lib/python3.8/site-packages/cudf/core/column/string.py:830: UserWarning: `n` parameter is not supported when `pat` and `repl` are list-like inputs\n",
      "  warnings.warn(\n",
      "/home/nfs/anirband/anaconda3/envs/rapids-21.08/lib/python3.8/site-packages/cudf/core/column/string.py:830: UserWarning: `n` parameter is not supported when `pat` and `repl` are list-like inputs\n",
      "  warnings.warn(\n",
      "distributed.preloading - INFO - Import preload module: dask_cuda.initialize\n",
      "distributed.preloading - INFO - Import preload module: dask_cuda.initialize\n"
     ]
    },
    {
     "name": "stdout",
     "output_type": "stream",
     "text": [
      "20726160\n"
     ]
    },
    {
     "name": "stderr",
     "output_type": "stream",
     "text": [
      "/home/nfs/anirband/anaconda3/envs/rapids-21.08/lib/python3.8/site-packages/cudf/core/column/string.py:830: UserWarning: `n` parameter is not supported when `pat` and `repl` are list-like inputs\n",
      "  warnings.warn(\n"
     ]
    },
    {
     "name": "stdout",
     "output_type": "stream",
     "text": [
      "20725971\n",
      "# nnz: 0\n",
      "(nan, 0)\n",
      "[I] [09:50:25.335409] [Delayed('_merge_stats_to_model-d6ea13bc-fefb-4e8b-8020-b5d6919d5d7b')]\n",
      "[I] [09:50:25.337808] [Delayed('_merge_stats_to_model-b0dac340-0c8b-4e8f-bb2f-fcc775407317')]\n",
      "[I] [09:50:25.386046] [<Future: finished, type: cuml.TfidfTransformer, key: _merge_stats_to_model-d6ea13bc-fefb-4e8b-8020-b5d6919d5d7b>]\n",
      "[I] [09:50:25.386283] [<Future: finished, type: cuml.TfidfTransformer, key: _merge_stats_to_model-b0dac340-0c8b-4e8f-bb2f-fcc775407317>]\n",
      "[I] [09:50:25.392032] [Delayed('_merge_stats_to_model-191f2367-0f6e-4941-ba6c-bcc1b64ba98a')]\n",
      "(20725971, 1048576)\n",
      "Workers:2, Sample Run:2, Finished loading data in 4020897133s\n",
      "Workers:2, Sample Run:2, Finished preprocessing data in 38576817557s\n",
      "Workers:2, Sample Run:2, Finished fitting HashVectorizer in 22325017s\n",
      "Workers:2, Sample Run:2, Finished fitting IDF Transformer in 112619822485s\n"
     ]
    },
    {
     "name": "stderr",
     "output_type": "stream",
     "text": [
      " 60%|███████████████████████████████████████████████████████████████████████████████████████████████████████▊                                                                     | 3/5 [08:58<06:03, 181.58s/it]"
     ]
    },
    {
     "name": "stdout",
     "output_type": "stream",
     "text": [
      "Workers:2, Sample Run:2, Finished executing full pipeline in 158652323116s\n"
     ]
    },
    {
     "name": "stderr",
     "output_type": "stream",
     "text": [
      "/home/nfs/anirband/anaconda3/envs/rapids-21.08/lib/python3.8/site-packages/cudf/core/column/string.py:830: UserWarning: `n` parameter is not supported when `pat` and `repl` are list-like inputs\n",
      "  warnings.warn(\n",
      "/home/nfs/anirband/anaconda3/envs/rapids-21.08/lib/python3.8/site-packages/cudf/core/column/string.py:830: UserWarning: `n` parameter is not supported when `pat` and `repl` are list-like inputs\n",
      "  warnings.warn(\n",
      "/home/nfs/anirband/anaconda3/envs/rapids-21.08/lib/python3.8/site-packages/cudf/core/column/string.py:830: UserWarning: `n` parameter is not supported when `pat` and `repl` are list-like inputs\n",
      "  warnings.warn(\n",
      "/home/nfs/anirband/anaconda3/envs/rapids-21.08/lib/python3.8/site-packages/cudf/core/column/string.py:830: UserWarning: `n` parameter is not supported when `pat` and `repl` are list-like inputs\n",
      "  warnings.warn(\n",
      "distributed.preloading - INFO - Import preload module: dask_cuda.initialize\n",
      "distributed.preloading - INFO - Import preload module: dask_cuda.initialize\n"
     ]
    },
    {
     "name": "stdout",
     "output_type": "stream",
     "text": [
      "20726160\n"
     ]
    },
    {
     "name": "stderr",
     "output_type": "stream",
     "text": [
      "/home/nfs/anirband/anaconda3/envs/rapids-21.08/lib/python3.8/site-packages/cudf/core/column/string.py:830: UserWarning: `n` parameter is not supported when `pat` and `repl` are list-like inputs\n",
      "  warnings.warn(\n"
     ]
    },
    {
     "name": "stdout",
     "output_type": "stream",
     "text": [
      "20725971\n",
      "# nnz: 0\n",
      "(nan, 0)\n",
      "[I] [09:53:19.307265] [Delayed('_merge_stats_to_model-d7531071-76d2-428f-aa54-0157a220ed85')]\n",
      "[I] [09:53:19.310073] [Delayed('_merge_stats_to_model-4207a0f3-5e5c-43a6-a990-b2b32b7c4e54')]\n",
      "[I] [09:53:19.361244] [<Future: finished, type: cuml.TfidfTransformer, key: _merge_stats_to_model-d7531071-76d2-428f-aa54-0157a220ed85>]\n",
      "[I] [09:53:19.361512] [<Future: finished, type: cuml.TfidfTransformer, key: _merge_stats_to_model-4207a0f3-5e5c-43a6-a990-b2b32b7c4e54>]\n",
      "[I] [09:53:19.367635] [Delayed('_merge_stats_to_model-c72c993c-395e-4fb6-83f8-883ef36c833e')]\n",
      "(20725971, 1048576)\n",
      "Workers:2, Sample Run:3, Finished loading data in 3972658621s\n",
      "Workers:2, Sample Run:3, Finished preprocessing data in 27378479364s\n",
      "Workers:2, Sample Run:3, Finished fitting HashVectorizer in 7007492s\n",
      "Workers:2, Sample Run:3, Finished fitting IDF Transformer in 106953880642s\n"
     ]
    },
    {
     "name": "stderr",
     "output_type": "stream",
     "text": [
      " 80%|██████████████████████████████████████████████████████████████████████████████████████████████████████████████████████████████████████████▍                                  | 4/5 [11:47<02:56, 176.66s/it]"
     ]
    },
    {
     "name": "stdout",
     "output_type": "stream",
     "text": [
      "Workers:2, Sample Run:3, Finished executing full pipeline in 141625654390s\n"
     ]
    },
    {
     "name": "stderr",
     "output_type": "stream",
     "text": [
      "/home/nfs/anirband/anaconda3/envs/rapids-21.08/lib/python3.8/site-packages/cudf/core/column/string.py:830: UserWarning: `n` parameter is not supported when `pat` and `repl` are list-like inputs\n",
      "  warnings.warn(\n",
      "/home/nfs/anirband/anaconda3/envs/rapids-21.08/lib/python3.8/site-packages/cudf/core/column/string.py:830: UserWarning: `n` parameter is not supported when `pat` and `repl` are list-like inputs\n",
      "  warnings.warn(\n",
      "/home/nfs/anirband/anaconda3/envs/rapids-21.08/lib/python3.8/site-packages/cudf/core/column/string.py:830: UserWarning: `n` parameter is not supported when `pat` and `repl` are list-like inputs\n",
      "  warnings.warn(\n",
      "/home/nfs/anirband/anaconda3/envs/rapids-21.08/lib/python3.8/site-packages/cudf/core/column/string.py:830: UserWarning: `n` parameter is not supported when `pat` and `repl` are list-like inputs\n",
      "  warnings.warn(\n",
      "distributed.preloading - INFO - Import preload module: dask_cuda.initialize\n",
      "distributed.preloading - INFO - Import preload module: dask_cuda.initialize\n"
     ]
    },
    {
     "name": "stdout",
     "output_type": "stream",
     "text": [
      "20726160\n"
     ]
    },
    {
     "name": "stderr",
     "output_type": "stream",
     "text": [
      "/home/nfs/anirband/anaconda3/envs/rapids-21.08/lib/python3.8/site-packages/cudf/core/column/string.py:830: UserWarning: `n` parameter is not supported when `pat` and `repl` are list-like inputs\n",
      "  warnings.warn(\n"
     ]
    },
    {
     "name": "stdout",
     "output_type": "stream",
     "text": [
      "20725971\n",
      "# nnz: 0\n",
      "(nan, 0)\n",
      "[I] [09:56:24.490499] [Delayed('_merge_stats_to_model-b3804aae-87cf-4df5-afb6-cdcf966e8164')]\n",
      "[I] [09:56:24.495155] [Delayed('_merge_stats_to_model-b010cec2-37f8-40e2-9843-e52218aa1e74')]\n",
      "[I] [09:56:24.602420] [<Future: finished, type: cuml.TfidfTransformer, key: _merge_stats_to_model-b3804aae-87cf-4df5-afb6-cdcf966e8164>]\n",
      "[I] [09:56:24.602914] [<Future: finished, type: cuml.TfidfTransformer, key: _merge_stats_to_model-b010cec2-37f8-40e2-9843-e52218aa1e74>]\n",
      "[I] [09:56:24.631019] [Delayed('_merge_stats_to_model-3dac3d0c-4aaf-4d37-9ea0-5cc0f8ebf764')]\n",
      "(20725971, 1048576)\n",
      "Workers:2, Sample Run:4, Finished loading data in 4041494027s\n",
      "Workers:2, Sample Run:4, Finished preprocessing data in 32615030138s\n",
      "Workers:2, Sample Run:4, Finished fitting HashVectorizer in 9470402s\n",
      "Workers:2, Sample Run:4, Finished fitting IDF Transformer in 126411438245s\n"
     ]
    },
    {
     "name": "stderr",
     "output_type": "stream",
     "text": [
      "100%|█████████████████████████████████████████████████████████████████████████████████████████████████████████████████████████████████████████████████████████████████████████████| 5/5 [15:24<00:00, 184.88s/it]"
     ]
    },
    {
     "name": "stdout",
     "output_type": "stream",
     "text": [
      "Workers:2, Sample Run:4, Finished executing full pipeline in 166608613543s\n"
     ]
    },
    {
     "name": "stderr",
     "output_type": "stream",
     "text": [
      "\n",
      "distributed.preloading - INFO - Import preload module: dask_cuda.initialize\n",
      "distributed.preloading - INFO - Import preload module: dask_cuda.initialize\n",
      "  0%|                                                                                                                                                                                      | 0/5 [00:00<?, ?it/s]/home/nfs/anirband/anaconda3/envs/rapids-21.08/lib/python3.8/site-packages/cudf/core/column/string.py:830: UserWarning: `n` parameter is not supported when `pat` and `repl` are list-like inputs\n",
      "  warnings.warn(\n",
      "/home/nfs/anirband/anaconda3/envs/rapids-21.08/lib/python3.8/site-packages/cudf/core/column/string.py:830: UserWarning: `n` parameter is not supported when `pat` and `repl` are list-like inputs\n",
      "  warnings.warn(\n",
      "/home/nfs/anirband/anaconda3/envs/rapids-21.08/lib/python3.8/site-packages/cudf/core/column/string.py:830: UserWarning: `n` parameter is not supported when `pat` and `repl` are list-like inputs\n",
      "  warnings.warn(\n",
      "/home/nfs/anirband/anaconda3/envs/rapids-21.08/lib/python3.8/site-packages/cudf/core/column/string.py:830: UserWarning: `n` parameter is not supported when `pat` and `repl` are list-like inputs\n",
      "  warnings.warn(\n",
      "distributed.nanny - WARNING - Worker process still alive after 1 seconds, killing\n",
      "distributed.preloading - INFO - Import preload module: dask_cuda.initialize\n",
      "distributed.preloading - INFO - Import preload module: dask_cuda.initialize\n",
      "distributed.preloading - INFO - Import preload module: dask_cuda.initialize\n",
      "distributed.preloading - INFO - Import preload module: dask_cuda.initialize\n"
     ]
    },
    {
     "name": "stdout",
     "output_type": "stream",
     "text": [
      "20726160\n"
     ]
    },
    {
     "name": "stderr",
     "output_type": "stream",
     "text": [
      "/home/nfs/anirband/anaconda3/envs/rapids-21.08/lib/python3.8/site-packages/cudf/core/column/string.py:830: UserWarning: `n` parameter is not supported when `pat` and `repl` are list-like inputs\n",
      "  warnings.warn(\n"
     ]
    },
    {
     "name": "stdout",
     "output_type": "stream",
     "text": [
      "20725971\n",
      "# nnz: 0\n",
      "(nan, 0)\n",
      "[I] [09:59:32.169634] [Delayed('_merge_stats_to_model-339170ee-3eb6-4629-a9b8-b1c4e913d6c5')]\n",
      "[I] [09:59:32.170779] [Delayed('_merge_stats_to_model-37df2e7a-77ce-42f7-ac6d-a3a694ef2391')]\n",
      "[I] [09:59:32.172384] [Delayed('_merge_stats_to_model-a56dd720-9268-4246-b295-2ca85f3490c0')]\n",
      "[I] [09:59:32.173280] [Delayed('_merge_stats_to_model-d8e499fe-2ab0-4ba9-9846-7fe227990eab')]\n",
      "[I] [09:59:32.216076] [<Future: finished, type: cuml.TfidfTransformer, key: _merge_stats_to_model-339170ee-3eb6-4629-a9b8-b1c4e913d6c5>]\n",
      "[I] [09:59:32.216405] [<Future: finished, type: cuml.TfidfTransformer, key: _merge_stats_to_model-37df2e7a-77ce-42f7-ac6d-a3a694ef2391>]\n",
      "[I] [09:59:32.216708] [<Future: finished, type: cuml.TfidfTransformer, key: _merge_stats_to_model-a56dd720-9268-4246-b295-2ca85f3490c0>]\n",
      "[I] [09:59:32.216861] [<Future: finished, type: cuml.TfidfTransformer, key: _merge_stats_to_model-d8e499fe-2ab0-4ba9-9846-7fe227990eab>]\n",
      "[I] [09:59:32.228183] [Delayed('_merge_stats_to_model-3d71f511-73b4-4a61-8c3e-ae75585cd8ca')]\n",
      "(20725971, 1048576)\n",
      "Workers:4, Sample Run:0, Finished loading data in 5575936953s\n",
      "Workers:4, Sample Run:0, Finished preprocessing data in 17502537796s\n",
      "Workers:4, Sample Run:0, Finished fitting HashVectorizer in 15799116s\n",
      "Workers:4, Sample Run:0, Finished fitting IDF Transformer in 63879891421s\n"
     ]
    },
    {
     "name": "stderr",
     "output_type": "stream",
     "text": [
      " 20%|██████████████████████████████████▌                                                                                                                                          | 1/5 [01:51<07:26, 111.54s/it]"
     ]
    },
    {
     "name": "stdout",
     "output_type": "stream",
     "text": [
      "Workers:4, Sample Run:0, Finished executing full pipeline in 94858470855s\n"
     ]
    },
    {
     "name": "stderr",
     "output_type": "stream",
     "text": [
      "/home/nfs/anirband/anaconda3/envs/rapids-21.08/lib/python3.8/site-packages/cudf/core/column/string.py:830: UserWarning: `n` parameter is not supported when `pat` and `repl` are list-like inputs\n",
      "  warnings.warn(\n",
      "/home/nfs/anirband/anaconda3/envs/rapids-21.08/lib/python3.8/site-packages/cudf/core/column/string.py:830: UserWarning: `n` parameter is not supported when `pat` and `repl` are list-like inputs\n",
      "  warnings.warn(\n",
      "/home/nfs/anirband/anaconda3/envs/rapids-21.08/lib/python3.8/site-packages/cudf/core/column/string.py:830: UserWarning: `n` parameter is not supported when `pat` and `repl` are list-like inputs\n",
      "  warnings.warn(\n",
      "/home/nfs/anirband/anaconda3/envs/rapids-21.08/lib/python3.8/site-packages/cudf/core/column/string.py:830: UserWarning: `n` parameter is not supported when `pat` and `repl` are list-like inputs\n",
      "  warnings.warn(\n",
      "/home/nfs/anirband/anaconda3/envs/rapids-21.08/lib/python3.8/site-packages/cudf/core/column/string.py:830: UserWarning: `n` parameter is not supported when `pat` and `repl` are list-like inputs\n",
      "  warnings.warn(\n",
      "/home/nfs/anirband/anaconda3/envs/rapids-21.08/lib/python3.8/site-packages/cudf/core/column/string.py:830: UserWarning: `n` parameter is not supported when `pat` and `repl` are list-like inputs\n",
      "  warnings.warn(\n",
      "/home/nfs/anirband/anaconda3/envs/rapids-21.08/lib/python3.8/site-packages/cudf/core/column/string.py:830: UserWarning: `n` parameter is not supported when `pat` and `repl` are list-like inputs\n",
      "  warnings.warn(\n",
      "/home/nfs/anirband/anaconda3/envs/rapids-21.08/lib/python3.8/site-packages/cudf/core/column/string.py:830: UserWarning: `n` parameter is not supported when `pat` and `repl` are list-like inputs\n",
      "  warnings.warn(\n",
      "distributed.preloading - INFO - Import preload module: dask_cuda.initialize\n",
      "distributed.preloading - INFO - Import preload module: dask_cuda.initialize\n",
      "distributed.preloading - INFO - Import preload module: dask_cuda.initialize\n",
      "distributed.preloading - INFO - Import preload module: dask_cuda.initialize\n"
     ]
    },
    {
     "name": "stdout",
     "output_type": "stream",
     "text": [
      "20726160\n"
     ]
    },
    {
     "name": "stderr",
     "output_type": "stream",
     "text": [
      "/home/nfs/anirband/anaconda3/envs/rapids-21.08/lib/python3.8/site-packages/cudf/core/column/string.py:830: UserWarning: `n` parameter is not supported when `pat` and `repl` are list-like inputs\n",
      "  warnings.warn(\n"
     ]
    },
    {
     "name": "stdout",
     "output_type": "stream",
     "text": [
      "20725971\n",
      "# nnz: 0\n",
      "(nan, 0)\n",
      "[I] [10:01:19.329146] [Delayed('_merge_stats_to_model-a5d52a1d-f0ba-4391-8e59-76bbb013dbbc')]\n",
      "[I] [10:01:19.330857] [Delayed('_merge_stats_to_model-78e0247f-b926-4f09-b36d-bd18123f89ac')]\n",
      "[I] [10:01:19.331668] [Delayed('_merge_stats_to_model-b3c81d17-47e5-46f7-9e1b-49be1ea93b88')]\n",
      "[I] [10:01:19.332430] [Delayed('_merge_stats_to_model-2c62f3fb-82dd-4256-873f-ac4b52897cf3')]\n",
      "[I] [10:01:19.372463] [<Future: finished, type: cuml.TfidfTransformer, key: _merge_stats_to_model-a5d52a1d-f0ba-4391-8e59-76bbb013dbbc>]\n",
      "[I] [10:01:19.372714] [<Future: finished, type: cuml.TfidfTransformer, key: _merge_stats_to_model-78e0247f-b926-4f09-b36d-bd18123f89ac>]\n",
      "[I] [10:01:19.372847] [<Future: finished, type: cuml.TfidfTransformer, key: _merge_stats_to_model-b3c81d17-47e5-46f7-9e1b-49be1ea93b88>]\n",
      "[I] [10:01:19.372972] [<Future: finished, type: cuml.TfidfTransformer, key: _merge_stats_to_model-2c62f3fb-82dd-4256-873f-ac4b52897cf3>]\n",
      "[I] [10:01:19.379586] [Delayed('_merge_stats_to_model-9a0e276b-01d2-466d-9aba-53cc25c158fb')]\n",
      "(20725971, 1048576)\n",
      "Workers:4, Sample Run:1, Finished loading data in 3531906271s\n",
      "Workers:4, Sample Run:1, Finished preprocessing data in 19292212914s\n",
      "Workers:4, Sample Run:1, Finished fitting HashVectorizer in 9249649s\n",
      "Workers:4, Sample Run:1, Finished fitting IDF Transformer in 63007148319s\n"
     ]
    },
    {
     "name": "stderr",
     "output_type": "stream",
     "text": [
      " 40%|█████████████████████████████████████████████████████████████████████▏                                                                                                       | 2/5 [03:38<05:25, 108.63s/it]"
     ]
    },
    {
     "name": "stdout",
     "output_type": "stream",
     "text": [
      "Workers:4, Sample Run:1, Finished executing full pipeline in 90126531966s\n"
     ]
    },
    {
     "name": "stderr",
     "output_type": "stream",
     "text": [
      "/home/nfs/anirband/anaconda3/envs/rapids-21.08/lib/python3.8/site-packages/cudf/core/column/string.py:830: UserWarning: `n` parameter is not supported when `pat` and `repl` are list-like inputs\n",
      "  warnings.warn(\n",
      "/home/nfs/anirband/anaconda3/envs/rapids-21.08/lib/python3.8/site-packages/cudf/core/column/string.py:830: UserWarning: `n` parameter is not supported when `pat` and `repl` are list-like inputs\n",
      "  warnings.warn(\n",
      "/home/nfs/anirband/anaconda3/envs/rapids-21.08/lib/python3.8/site-packages/cudf/core/column/string.py:830: UserWarning: `n` parameter is not supported when `pat` and `repl` are list-like inputs\n",
      "  warnings.warn(\n",
      "/home/nfs/anirband/anaconda3/envs/rapids-21.08/lib/python3.8/site-packages/cudf/core/column/string.py:830: UserWarning: `n` parameter is not supported when `pat` and `repl` are list-like inputs\n",
      "  warnings.warn(\n",
      "/home/nfs/anirband/anaconda3/envs/rapids-21.08/lib/python3.8/site-packages/cudf/core/column/string.py:830: UserWarning: `n` parameter is not supported when `pat` and `repl` are list-like inputs\n",
      "  warnings.warn(\n",
      "/home/nfs/anirband/anaconda3/envs/rapids-21.08/lib/python3.8/site-packages/cudf/core/column/string.py:830: UserWarning: `n` parameter is not supported when `pat` and `repl` are list-like inputs\n",
      "  warnings.warn(\n",
      "/home/nfs/anirband/anaconda3/envs/rapids-21.08/lib/python3.8/site-packages/cudf/core/column/string.py:830: UserWarning: `n` parameter is not supported when `pat` and `repl` are list-like inputs\n",
      "  warnings.warn(\n",
      "/home/nfs/anirband/anaconda3/envs/rapids-21.08/lib/python3.8/site-packages/cudf/core/column/string.py:830: UserWarning: `n` parameter is not supported when `pat` and `repl` are list-like inputs\n",
      "  warnings.warn(\n",
      "distributed.preloading - INFO - Import preload module: dask_cuda.initialize\n",
      "distributed.preloading - INFO - Import preload module: dask_cuda.initialize\n",
      "distributed.preloading - INFO - Import preload module: dask_cuda.initialize\n",
      "/home/nfs/anirband/anaconda3/envs/rapids-21.08/lib/python3.8/contextlib.py:120: UserWarning: Creating scratch directories is taking a surprisingly long time. This is often due to running workers on a network file system. Consider specifying a local-directory to point workers to write scratch data to a local disk.\n",
      "  next(self.gen)\n",
      "distributed.preloading - INFO - Import preload module: dask_cuda.initialize\n"
     ]
    },
    {
     "name": "stdout",
     "output_type": "stream",
     "text": [
      "20726160\n"
     ]
    },
    {
     "name": "stderr",
     "output_type": "stream",
     "text": [
      "/home/nfs/anirband/anaconda3/envs/rapids-21.08/lib/python3.8/site-packages/cudf/core/column/string.py:830: UserWarning: `n` parameter is not supported when `pat` and `repl` are list-like inputs\n",
      "  warnings.warn(\n"
     ]
    },
    {
     "name": "stdout",
     "output_type": "stream",
     "text": [
      "20725971\n",
      "# nnz: 0\n",
      "(nan, 0)\n",
      "[I] [10:03:03.537979] [Delayed('_merge_stats_to_model-a4ed3c10-f54e-4165-9e8f-e24564029190')]\n",
      "[I] [10:03:03.539204] [Delayed('_merge_stats_to_model-e18926fc-216d-48ca-a220-fce88c8c6bf1')]\n",
      "[I] [10:03:03.540037] [Delayed('_merge_stats_to_model-d2cdc967-29a3-46c3-b8bd-f6a988f3149e')]\n",
      "[I] [10:03:03.541363] [Delayed('_merge_stats_to_model-ece7c94a-ac6e-4a82-aa09-b13efd1af3e9')]\n",
      "[I] [10:03:03.580284] [<Future: finished, type: cuml.TfidfTransformer, key: _merge_stats_to_model-a4ed3c10-f54e-4165-9e8f-e24564029190>]\n",
      "[I] [10:03:03.580568] [<Future: finished, type: cuml.TfidfTransformer, key: _merge_stats_to_model-e18926fc-216d-48ca-a220-fce88c8c6bf1>]\n",
      "[I] [10:03:03.580708] [<Future: finished, type: cuml.TfidfTransformer, key: _merge_stats_to_model-d2cdc967-29a3-46c3-b8bd-f6a988f3149e>]\n",
      "[I] [10:03:03.580862] [<Future: finished, type: cuml.TfidfTransformer, key: _merge_stats_to_model-ece7c94a-ac6e-4a82-aa09-b13efd1af3e9>]\n",
      "[I] [10:03:03.588180] [Delayed('_merge_stats_to_model-6ff2c51b-ab9b-4ec2-824d-9a17da8b9768')]\n",
      "(20725971, 1048576)\n",
      "Workers:4, Sample Run:2, Finished loading data in 3407057698s\n",
      "Workers:4, Sample Run:2, Finished preprocessing data in 16508479924s\n",
      "Workers:4, Sample Run:2, Finished fitting HashVectorizer in 8100888s\n",
      "Workers:4, Sample Run:2, Finished fitting IDF Transformer in 62833702071s\n"
     ]
    },
    {
     "name": "stderr",
     "output_type": "stream",
     "text": [
      " 60%|███████████████████████████████████████████████████████████████████████████████████████████████████████▊                                                                     | 3/5 [05:22<03:33, 106.54s/it]"
     ]
    },
    {
     "name": "stdout",
     "output_type": "stream",
     "text": [
      "Workers:4, Sample Run:2, Finished executing full pipeline in 87566792661s\n"
     ]
    },
    {
     "name": "stderr",
     "output_type": "stream",
     "text": [
      "/home/nfs/anirband/anaconda3/envs/rapids-21.08/lib/python3.8/site-packages/cudf/core/column/string.py:830: UserWarning: `n` parameter is not supported when `pat` and `repl` are list-like inputs\n",
      "  warnings.warn(\n",
      "/home/nfs/anirband/anaconda3/envs/rapids-21.08/lib/python3.8/site-packages/cudf/core/column/string.py:830: UserWarning: `n` parameter is not supported when `pat` and `repl` are list-like inputs\n",
      "  warnings.warn(\n",
      "/home/nfs/anirband/anaconda3/envs/rapids-21.08/lib/python3.8/site-packages/cudf/core/column/string.py:830: UserWarning: `n` parameter is not supported when `pat` and `repl` are list-like inputs\n",
      "  warnings.warn(\n",
      "/home/nfs/anirband/anaconda3/envs/rapids-21.08/lib/python3.8/site-packages/cudf/core/column/string.py:830: UserWarning: `n` parameter is not supported when `pat` and `repl` are list-like inputs\n",
      "  warnings.warn(\n",
      "/home/nfs/anirband/anaconda3/envs/rapids-21.08/lib/python3.8/site-packages/cudf/core/column/string.py:830: UserWarning: `n` parameter is not supported when `pat` and `repl` are list-like inputs\n",
      "  warnings.warn(\n",
      "/home/nfs/anirband/anaconda3/envs/rapids-21.08/lib/python3.8/site-packages/cudf/core/column/string.py:830: UserWarning: `n` parameter is not supported when `pat` and `repl` are list-like inputs\n",
      "  warnings.warn(\n",
      "/home/nfs/anirband/anaconda3/envs/rapids-21.08/lib/python3.8/site-packages/cudf/core/column/string.py:830: UserWarning: `n` parameter is not supported when `pat` and `repl` are list-like inputs\n",
      "  warnings.warn(\n",
      "/home/nfs/anirband/anaconda3/envs/rapids-21.08/lib/python3.8/site-packages/cudf/core/column/string.py:830: UserWarning: `n` parameter is not supported when `pat` and `repl` are list-like inputs\n",
      "  warnings.warn(\n",
      "distributed.preloading - INFO - Import preload module: dask_cuda.initialize\n",
      "distributed.preloading - INFO - Import preload module: dask_cuda.initialize\n",
      "distributed.preloading - INFO - Import preload module: dask_cuda.initialize\n",
      "/home/nfs/anirband/anaconda3/envs/rapids-21.08/lib/python3.8/contextlib.py:120: UserWarning: Creating scratch directories is taking a surprisingly long time. This is often due to running workers on a network file system. Consider specifying a local-directory to point workers to write scratch data to a local disk.\n",
      "  next(self.gen)\n",
      "distributed.preloading - INFO - Import preload module: dask_cuda.initialize\n"
     ]
    },
    {
     "name": "stdout",
     "output_type": "stream",
     "text": [
      "20726160\n"
     ]
    },
    {
     "name": "stderr",
     "output_type": "stream",
     "text": [
      "/home/nfs/anirband/anaconda3/envs/rapids-21.08/lib/python3.8/site-packages/cudf/core/column/string.py:830: UserWarning: `n` parameter is not supported when `pat` and `repl` are list-like inputs\n",
      "  warnings.warn(\n"
     ]
    },
    {
     "name": "stdout",
     "output_type": "stream",
     "text": [
      "20725971\n",
      "# nnz: 0\n",
      "(nan, 0)\n",
      "[I] [10:04:50.270173] [Delayed('_merge_stats_to_model-7532ab1f-e7da-4671-951e-b5fd43faaf02')]\n",
      "[I] [10:04:50.271951] [Delayed('_merge_stats_to_model-41d859ba-5a20-4805-9af6-5db9498cfac8')]\n",
      "[I] [10:04:50.273215] [Delayed('_merge_stats_to_model-d576a9fb-12b7-4c50-9f91-3db5c5c8b9b6')]\n",
      "[I] [10:04:50.273868] [Delayed('_merge_stats_to_model-71b2fff9-ab91-4533-9ad4-ef128fc25727')]\n",
      "[I] [10:04:50.315801] [<Future: finished, type: cuml.TfidfTransformer, key: _merge_stats_to_model-7532ab1f-e7da-4671-951e-b5fd43faaf02>]\n",
      "[I] [10:04:50.316059] [<Future: finished, type: cuml.TfidfTransformer, key: _merge_stats_to_model-41d859ba-5a20-4805-9af6-5db9498cfac8>]\n",
      "[I] [10:04:50.316203] [<Future: finished, type: cuml.TfidfTransformer, key: _merge_stats_to_model-d576a9fb-12b7-4c50-9f91-3db5c5c8b9b6>]\n",
      "[I] [10:04:50.316334] [<Future: finished, type: cuml.TfidfTransformer, key: _merge_stats_to_model-71b2fff9-ab91-4533-9ad4-ef128fc25727>]\n",
      "[I] [10:04:50.322879] [Delayed('_merge_stats_to_model-3019ce5c-b073-434a-aa06-bbc331881af9')]\n",
      "(20725971, 1048576)\n",
      "Workers:4, Sample Run:3, Finished loading data in 3479409895s\n",
      "Workers:4, Sample Run:3, Finished preprocessing data in 19346183645s\n",
      "Workers:4, Sample Run:3, Finished fitting HashVectorizer in 8602788s\n",
      "Workers:4, Sample Run:3, Finished fitting IDF Transformer in 64882969128s\n"
     ]
    },
    {
     "name": "stderr",
     "output_type": "stream",
     "text": [
      " 80%|██████████████████████████████████████████████████████████████████████████████████████████████████████████████████████████████████████████▍                                  | 4/5 [07:13<01:48, 108.43s/it]"
     ]
    },
    {
     "name": "stdout",
     "output_type": "stream",
     "text": [
      "Workers:4, Sample Run:3, Finished executing full pipeline in 92170863406s\n"
     ]
    },
    {
     "name": "stderr",
     "output_type": "stream",
     "text": [
      "/home/nfs/anirband/anaconda3/envs/rapids-21.08/lib/python3.8/site-packages/cudf/core/column/string.py:830: UserWarning: `n` parameter is not supported when `pat` and `repl` are list-like inputs\n",
      "  warnings.warn(\n",
      "/home/nfs/anirband/anaconda3/envs/rapids-21.08/lib/python3.8/site-packages/cudf/core/column/string.py:830: UserWarning: `n` parameter is not supported when `pat` and `repl` are list-like inputs\n",
      "  warnings.warn(\n",
      "/home/nfs/anirband/anaconda3/envs/rapids-21.08/lib/python3.8/site-packages/cudf/core/column/string.py:830: UserWarning: `n` parameter is not supported when `pat` and `repl` are list-like inputs\n",
      "  warnings.warn(\n",
      "/home/nfs/anirband/anaconda3/envs/rapids-21.08/lib/python3.8/site-packages/cudf/core/column/string.py:830: UserWarning: `n` parameter is not supported when `pat` and `repl` are list-like inputs\n",
      "  warnings.warn(\n",
      "/home/nfs/anirband/anaconda3/envs/rapids-21.08/lib/python3.8/site-packages/cudf/core/column/string.py:830: UserWarning: `n` parameter is not supported when `pat` and `repl` are list-like inputs\n",
      "  warnings.warn(\n",
      "/home/nfs/anirband/anaconda3/envs/rapids-21.08/lib/python3.8/site-packages/cudf/core/column/string.py:830: UserWarning: `n` parameter is not supported when `pat` and `repl` are list-like inputs\n",
      "  warnings.warn(\n",
      "/home/nfs/anirband/anaconda3/envs/rapids-21.08/lib/python3.8/site-packages/cudf/core/column/string.py:830: UserWarning: `n` parameter is not supported when `pat` and `repl` are list-like inputs\n",
      "  warnings.warn(\n",
      "/home/nfs/anirband/anaconda3/envs/rapids-21.08/lib/python3.8/site-packages/cudf/core/column/string.py:830: UserWarning: `n` parameter is not supported when `pat` and `repl` are list-like inputs\n",
      "  warnings.warn(\n",
      "distributed.preloading - INFO - Import preload module: dask_cuda.initialize\n",
      "distributed.preloading - INFO - Import preload module: dask_cuda.initialize\n",
      "distributed.preloading - INFO - Import preload module: dask_cuda.initialize\n",
      "/home/nfs/anirband/anaconda3/envs/rapids-21.08/lib/python3.8/contextlib.py:120: UserWarning: Creating scratch directories is taking a surprisingly long time. This is often due to running workers on a network file system. Consider specifying a local-directory to point workers to write scratch data to a local disk.\n",
      "  next(self.gen)\n",
      "distributed.preloading - INFO - Import preload module: dask_cuda.initialize\n"
     ]
    },
    {
     "name": "stdout",
     "output_type": "stream",
     "text": [
      "20726160\n"
     ]
    },
    {
     "name": "stderr",
     "output_type": "stream",
     "text": [
      "/home/nfs/anirband/anaconda3/envs/rapids-21.08/lib/python3.8/site-packages/cudf/core/column/string.py:830: UserWarning: `n` parameter is not supported when `pat` and `repl` are list-like inputs\n",
      "  warnings.warn(\n"
     ]
    },
    {
     "name": "stdout",
     "output_type": "stream",
     "text": [
      "20725971\n",
      "# nnz: 0\n",
      "(nan, 0)\n",
      "[I] [10:06:40.779244] [Delayed('_merge_stats_to_model-63036534-6326-45e3-8dd5-1a2cef9dc0a2')]\n",
      "[I] [10:06:40.780971] [Delayed('_merge_stats_to_model-4bce250c-8421-4b1d-a1f7-31a3587778f8')]\n",
      "[I] [10:06:40.781702] [Delayed('_merge_stats_to_model-8af32288-d7e8-49f6-abc0-7366189fd77e')]\n",
      "[I] [10:06:40.782479] [Delayed('_merge_stats_to_model-4723c118-9ab7-452d-b7d9-cc6de7db4936')]\n",
      "[I] [10:06:40.821704] [<Future: finished, type: cuml.TfidfTransformer, key: _merge_stats_to_model-63036534-6326-45e3-8dd5-1a2cef9dc0a2>]\n",
      "[I] [10:06:40.821942] [<Future: finished, type: cuml.TfidfTransformer, key: _merge_stats_to_model-4bce250c-8421-4b1d-a1f7-31a3587778f8>]\n",
      "[I] [10:06:40.822085] [<Future: finished, type: cuml.TfidfTransformer, key: _merge_stats_to_model-8af32288-d7e8-49f6-abc0-7366189fd77e>]\n",
      "[I] [10:06:40.822212] [<Future: finished, type: cuml.TfidfTransformer, key: _merge_stats_to_model-4723c118-9ab7-452d-b7d9-cc6de7db4936>]\n",
      "[I] [10:06:40.828788] [Delayed('_merge_stats_to_model-70a1db73-2a21-4c55-ae23-2fc81f21be9c')]\n",
      "(20725971, 1048576)\n",
      "Workers:4, Sample Run:4, Finished loading data in 3222541684s\n",
      "Workers:4, Sample Run:4, Finished preprocessing data in 19158460837s\n",
      "Workers:4, Sample Run:4, Finished fitting HashVectorizer in 8628681s\n",
      "Workers:4, Sample Run:4, Finished fitting IDF Transformer in 62627119426s\n"
     ]
    },
    {
     "name": "stderr",
     "output_type": "stream",
     "text": [
      "100%|█████████████████████████████████████████████████████████████████████████████████████████████████████████████████████████████████████████████████████████████████████████████| 5/5 [08:59<00:00, 107.92s/it]"
     ]
    },
    {
     "name": "stdout",
     "output_type": "stream",
     "text": [
      "Workers:4, Sample Run:4, Finished executing full pipeline in 89657194787s\n"
     ]
    },
    {
     "name": "stderr",
     "output_type": "stream",
     "text": [
      "\n",
      "distributed.preloading - INFO - Import preload module: dask_cuda.initialize\n",
      "distributed.preloading - INFO - Import preload module: dask_cuda.initialize\n",
      "  0%|                                                                                                                                                                                      | 0/5 [00:00<?, ?it/s]/home/nfs/anirband/anaconda3/envs/rapids-21.08/lib/python3.8/site-packages/cudf/core/column/string.py:830: UserWarning: `n` parameter is not supported when `pat` and `repl` are list-like inputs\n",
      "  warnings.warn(\n",
      "/home/nfs/anirband/anaconda3/envs/rapids-21.08/lib/python3.8/site-packages/cudf/core/column/string.py:830: UserWarning: `n` parameter is not supported when `pat` and `repl` are list-like inputs\n",
      "  warnings.warn(\n",
      "/home/nfs/anirband/anaconda3/envs/rapids-21.08/lib/python3.8/site-packages/cudf/core/column/string.py:830: UserWarning: `n` parameter is not supported when `pat` and `repl` are list-like inputs\n",
      "  warnings.warn(\n",
      "/home/nfs/anirband/anaconda3/envs/rapids-21.08/lib/python3.8/site-packages/cudf/core/column/string.py:830: UserWarning: `n` parameter is not supported when `pat` and `repl` are list-like inputs\n",
      "  warnings.warn(\n",
      "/home/nfs/anirband/anaconda3/envs/rapids-21.08/lib/python3.8/site-packages/cudf/core/column/string.py:830: UserWarning: `n` parameter is not supported when `pat` and `repl` are list-like inputs\n",
      "  warnings.warn(\n",
      "/home/nfs/anirband/anaconda3/envs/rapids-21.08/lib/python3.8/site-packages/cudf/core/column/string.py:830: UserWarning: `n` parameter is not supported when `pat` and `repl` are list-like inputs\n",
      "  warnings.warn(\n",
      "/home/nfs/anirband/anaconda3/envs/rapids-21.08/lib/python3.8/site-packages/cudf/core/column/string.py:830: UserWarning: `n` parameter is not supported when `pat` and `repl` are list-like inputs\n",
      "  warnings.warn(\n",
      "/home/nfs/anirband/anaconda3/envs/rapids-21.08/lib/python3.8/site-packages/cudf/core/column/string.py:830: UserWarning: `n` parameter is not supported when `pat` and `repl` are list-like inputs\n",
      "  warnings.warn(\n",
      "distributed.preloading - INFO - Import preload module: dask_cuda.initialize\n",
      "distributed.preloading - INFO - Import preload module: dask_cuda.initialize\n",
      "distributed.preloading - INFO - Import preload module: dask_cuda.initialize\n",
      "distributed.preloading - INFO - Import preload module: dask_cuda.initialize\n",
      "distributed.preloading - INFO - Import preload module: dask_cuda.initialize\n",
      "distributed.preloading - INFO - Import preload module: dask_cuda.initialize\n"
     ]
    },
    {
     "name": "stdout",
     "output_type": "stream",
     "text": [
      "20726160\n"
     ]
    },
    {
     "name": "stderr",
     "output_type": "stream",
     "text": [
      "/home/nfs/anirband/anaconda3/envs/rapids-21.08/lib/python3.8/site-packages/cudf/core/column/string.py:830: UserWarning: `n` parameter is not supported when `pat` and `repl` are list-like inputs\n",
      "  warnings.warn(\n"
     ]
    },
    {
     "name": "stdout",
     "output_type": "stream",
     "text": [
      "20725971\n",
      "# nnz: 0\n",
      "(nan, 0)\n",
      "[I] [10:08:16.064728] [<Future: finished, type: cuml.TfidfTransformer, key: _set_doc_stats-4045d5af-4504-45a2-96b6-2769906eb6b4>]\n",
      "[I] [10:08:16.065753] [Delayed('_merge_stats_to_model-a1361df4-8e2c-4ebd-86d4-cbdba00027ac')]\n",
      "[I] [10:08:16.066581] [Delayed('_merge_stats_to_model-c432893d-38e5-4d3f-bc14-58b649e90029')]\n",
      "[I] [10:08:16.067475] [Delayed('_merge_stats_to_model-44208fff-5b4b-4059-90fd-9d5e0b09abdc')]\n",
      "[I] [10:08:16.068420] [Delayed('_merge_stats_to_model-e174f7b8-cc2a-4b4c-a3e0-e1743ea1f12c')]\n",
      "[I] [10:08:16.068705] [<Future: finished, type: cuml.TfidfTransformer, key: _set_doc_stats-19be48d5-7d8f-4fdc-8225-2dfe67b9acbd>]\n",
      "[I] [10:08:16.094726] [<Future: finished, type: cuml.TfidfTransformer, key: _set_doc_stats-4045d5af-4504-45a2-96b6-2769906eb6b4>]\n",
      "[I] [10:08:16.094959] [<Future: finished, type: cuml.TfidfTransformer, key: _merge_stats_to_model-a1361df4-8e2c-4ebd-86d4-cbdba00027ac>]\n",
      "[I] [10:08:16.095100] [<Future: finished, type: cuml.TfidfTransformer, key: _merge_stats_to_model-c432893d-38e5-4d3f-bc14-58b649e90029>]\n",
      "[I] [10:08:16.095224] [<Future: finished, type: cuml.TfidfTransformer, key: _merge_stats_to_model-44208fff-5b4b-4059-90fd-9d5e0b09abdc>]\n",
      "[I] [10:08:16.095345] [<Future: finished, type: cuml.TfidfTransformer, key: _merge_stats_to_model-e174f7b8-cc2a-4b4c-a3e0-e1743ea1f12c>]\n",
      "[I] [10:08:16.095463] [<Future: finished, type: cuml.TfidfTransformer, key: _set_doc_stats-19be48d5-7d8f-4fdc-8225-2dfe67b9acbd>]\n",
      "[I] [10:08:16.103306] [Delayed('_merge_stats_to_model-b6cf1618-304a-429e-a96a-ee25ad9b4ee7')]\n",
      "(20725971, 1048576)\n",
      "Workers:6, Sample Run:0, Finished loading data in 3023032075s\n",
      "Workers:6, Sample Run:0, Finished preprocessing data in 12999867507s\n",
      "Workers:6, Sample Run:0, Finished fitting HashVectorizer in 9494541s\n",
      "Workers:6, Sample Run:0, Finished fitting IDF Transformer in 43571438682s\n"
     ]
    },
    {
     "name": "stderr",
     "output_type": "stream",
     "text": [
      " 20%|██████████████████████████████████▊                                                                                                                                           | 1/5 [01:16<05:07, 76.80s/it]"
     ]
    },
    {
     "name": "stdout",
     "output_type": "stream",
     "text": [
      "Workers:6, Sample Run:0, Finished executing full pipeline in 63823066049s\n"
     ]
    },
    {
     "name": "stderr",
     "output_type": "stream",
     "text": [
      "/home/nfs/anirband/anaconda3/envs/rapids-21.08/lib/python3.8/site-packages/cudf/core/column/string.py:830: UserWarning: `n` parameter is not supported when `pat` and `repl` are list-like inputs\n",
      "  warnings.warn(\n",
      "/home/nfs/anirband/anaconda3/envs/rapids-21.08/lib/python3.8/site-packages/cudf/core/column/string.py:830: UserWarning: `n` parameter is not supported when `pat` and `repl` are list-like inputs\n",
      "  warnings.warn(\n",
      "/home/nfs/anirband/anaconda3/envs/rapids-21.08/lib/python3.8/site-packages/cudf/core/column/string.py:830: UserWarning: `n` parameter is not supported when `pat` and `repl` are list-like inputs\n",
      "  warnings.warn(\n",
      "/home/nfs/anirband/anaconda3/envs/rapids-21.08/lib/python3.8/site-packages/cudf/core/column/string.py:830: UserWarning: `n` parameter is not supported when `pat` and `repl` are list-like inputs\n",
      "  warnings.warn(\n",
      "/home/nfs/anirband/anaconda3/envs/rapids-21.08/lib/python3.8/site-packages/cudf/core/column/string.py:830: UserWarning: `n` parameter is not supported when `pat` and `repl` are list-like inputs\n",
      "  warnings.warn(\n",
      "/home/nfs/anirband/anaconda3/envs/rapids-21.08/lib/python3.8/site-packages/cudf/core/column/string.py:830: UserWarning: `n` parameter is not supported when `pat` and `repl` are list-like inputs\n",
      "  warnings.warn(\n",
      "/home/nfs/anirband/anaconda3/envs/rapids-21.08/lib/python3.8/site-packages/cudf/core/column/string.py:830: UserWarning: `n` parameter is not supported when `pat` and `repl` are list-like inputs\n",
      "  warnings.warn(\n",
      "/home/nfs/anirband/anaconda3/envs/rapids-21.08/lib/python3.8/site-packages/cudf/core/column/string.py:830: UserWarning: `n` parameter is not supported when `pat` and `repl` are list-like inputs\n",
      "  warnings.warn(\n",
      "/home/nfs/anirband/anaconda3/envs/rapids-21.08/lib/python3.8/site-packages/cudf/core/column/string.py:830: UserWarning: `n` parameter is not supported when `pat` and `repl` are list-like inputs\n",
      "  warnings.warn(\n",
      "/home/nfs/anirband/anaconda3/envs/rapids-21.08/lib/python3.8/site-packages/cudf/core/column/string.py:830: UserWarning: `n` parameter is not supported when `pat` and `repl` are list-like inputs\n",
      "  warnings.warn(\n",
      "/home/nfs/anirband/anaconda3/envs/rapids-21.08/lib/python3.8/site-packages/cudf/core/column/string.py:830: UserWarning: `n` parameter is not supported when `pat` and `repl` are list-like inputs\n",
      "  warnings.warn(\n",
      "/home/nfs/anirband/anaconda3/envs/rapids-21.08/lib/python3.8/site-packages/cudf/core/column/string.py:830: UserWarning: `n` parameter is not supported when `pat` and `repl` are list-like inputs\n",
      "  warnings.warn(\n",
      "distributed.preloading - INFO - Import preload module: dask_cuda.initialize\n",
      "distributed.preloading - INFO - Import preload module: dask_cuda.initialize\n",
      "distributed.preloading - INFO - Import preload module: dask_cuda.initialize\n",
      "distributed.preloading - INFO - Import preload module: dask_cuda.initialize\n",
      "distributed.preloading - INFO - Import preload module: dask_cuda.initialize\n",
      "distributed.preloading - INFO - Import preload module: dask_cuda.initialize\n"
     ]
    },
    {
     "name": "stdout",
     "output_type": "stream",
     "text": [
      "20726160\n"
     ]
    },
    {
     "name": "stderr",
     "output_type": "stream",
     "text": [
      "/home/nfs/anirband/anaconda3/envs/rapids-21.08/lib/python3.8/site-packages/cudf/core/column/string.py:830: UserWarning: `n` parameter is not supported when `pat` and `repl` are list-like inputs\n",
      "  warnings.warn(\n"
     ]
    },
    {
     "name": "stdout",
     "output_type": "stream",
     "text": [
      "20725971\n",
      "# nnz: 0\n",
      "(nan, 0)\n",
      "[I] [10:09:36.276709] [Delayed('_merge_stats_to_model-aa62c99d-8412-457c-bc4f-20f90c68785f')]\n",
      "[I] [10:09:36.277626] [Delayed('_merge_stats_to_model-ae86d039-6a7b-4327-a6b2-274340aea977')]\n",
      "[I] [10:09:36.278400] [Delayed('_merge_stats_to_model-c935afaf-d010-4d23-9dd3-d9dbfbeb532b')]\n",
      "[I] [10:09:36.278654] [<Future: finished, type: cuml.TfidfTransformer, key: _set_doc_stats-27cf9365-58e5-475f-961b-2d6c9b1af7af>]\n",
      "[I] [10:09:36.278793] [<Future: finished, type: cuml.TfidfTransformer, key: _set_doc_stats-bd290595-5302-44cb-887e-0793a4d312ed>]\n",
      "[I] [10:09:36.279504] [Delayed('_merge_stats_to_model-54d36997-0831-4f96-9a06-7010b50271c0')]\n",
      "[I] [10:09:36.302443] [<Future: finished, type: cuml.TfidfTransformer, key: _merge_stats_to_model-aa62c99d-8412-457c-bc4f-20f90c68785f>]\n",
      "[I] [10:09:36.302702] [<Future: finished, type: cuml.TfidfTransformer, key: _merge_stats_to_model-ae86d039-6a7b-4327-a6b2-274340aea977>]\n",
      "[I] [10:09:36.302842] [<Future: finished, type: cuml.TfidfTransformer, key: _merge_stats_to_model-c935afaf-d010-4d23-9dd3-d9dbfbeb532b>]\n",
      "[I] [10:09:36.302970] [<Future: finished, type: cuml.TfidfTransformer, key: _set_doc_stats-27cf9365-58e5-475f-961b-2d6c9b1af7af>]\n",
      "[I] [10:09:36.303095] [<Future: finished, type: cuml.TfidfTransformer, key: _set_doc_stats-bd290595-5302-44cb-887e-0793a4d312ed>]\n",
      "[I] [10:09:36.303216] [<Future: finished, type: cuml.TfidfTransformer, key: _merge_stats_to_model-54d36997-0831-4f96-9a06-7010b50271c0>]\n",
      "[I] [10:09:36.311648] [Delayed('_merge_stats_to_model-1d8175a5-66fe-4e7a-bf00-60a792743bfb')]\n",
      "(20725971, 1048576)\n",
      "Workers:6, Sample Run:1, Finished loading data in 2955829523s\n",
      "Workers:6, Sample Run:1, Finished preprocessing data in 13089175560s\n",
      "Workers:6, Sample Run:1, Finished fitting HashVectorizer in 8807823s\n",
      "Workers:6, Sample Run:1, Finished fitting IDF Transformer in 48223010987s\n"
     ]
    },
    {
     "name": "stderr",
     "output_type": "stream",
     "text": [
      " 40%|█████████████████████████████████████████████████████████████████████▌                                                                                                        | 2/5 [02:37<03:56, 78.94s/it]"
     ]
    },
    {
     "name": "stdout",
     "output_type": "stream",
     "text": [
      "Workers:6, Sample Run:1, Finished executing full pipeline in 68640305619s\n"
     ]
    },
    {
     "name": "stderr",
     "output_type": "stream",
     "text": [
      "/home/nfs/anirband/anaconda3/envs/rapids-21.08/lib/python3.8/site-packages/cudf/core/column/string.py:830: UserWarning: `n` parameter is not supported when `pat` and `repl` are list-like inputs\n",
      "  warnings.warn(\n",
      "/home/nfs/anirband/anaconda3/envs/rapids-21.08/lib/python3.8/site-packages/cudf/core/column/string.py:830: UserWarning: `n` parameter is not supported when `pat` and `repl` are list-like inputs\n",
      "  warnings.warn(\n",
      "/home/nfs/anirband/anaconda3/envs/rapids-21.08/lib/python3.8/site-packages/cudf/core/column/string.py:830: UserWarning: `n` parameter is not supported when `pat` and `repl` are list-like inputs\n",
      "  warnings.warn(\n",
      "/home/nfs/anirband/anaconda3/envs/rapids-21.08/lib/python3.8/site-packages/cudf/core/column/string.py:830: UserWarning: `n` parameter is not supported when `pat` and `repl` are list-like inputs\n",
      "  warnings.warn(\n",
      "/home/nfs/anirband/anaconda3/envs/rapids-21.08/lib/python3.8/site-packages/cudf/core/column/string.py:830: UserWarning: `n` parameter is not supported when `pat` and `repl` are list-like inputs\n",
      "  warnings.warn(\n",
      "/home/nfs/anirband/anaconda3/envs/rapids-21.08/lib/python3.8/site-packages/cudf/core/column/string.py:830: UserWarning: `n` parameter is not supported when `pat` and `repl` are list-like inputs\n",
      "  warnings.warn(\n",
      "/home/nfs/anirband/anaconda3/envs/rapids-21.08/lib/python3.8/site-packages/cudf/core/column/string.py:830: UserWarning: `n` parameter is not supported when `pat` and `repl` are list-like inputs\n",
      "  warnings.warn(\n",
      "/home/nfs/anirband/anaconda3/envs/rapids-21.08/lib/python3.8/site-packages/cudf/core/column/string.py:830: UserWarning: `n` parameter is not supported when `pat` and `repl` are list-like inputs\n",
      "  warnings.warn(\n",
      "/home/nfs/anirband/anaconda3/envs/rapids-21.08/lib/python3.8/site-packages/cudf/core/column/string.py:830: UserWarning: `n` parameter is not supported when `pat` and `repl` are list-like inputs\n",
      "  warnings.warn(\n",
      "/home/nfs/anirband/anaconda3/envs/rapids-21.08/lib/python3.8/site-packages/cudf/core/column/string.py:830: UserWarning: `n` parameter is not supported when `pat` and `repl` are list-like inputs\n",
      "  warnings.warn(\n",
      "/home/nfs/anirband/anaconda3/envs/rapids-21.08/lib/python3.8/site-packages/cudf/core/column/string.py:830: UserWarning: `n` parameter is not supported when `pat` and `repl` are list-like inputs\n",
      "  warnings.warn(\n",
      "/home/nfs/anirband/anaconda3/envs/rapids-21.08/lib/python3.8/site-packages/cudf/core/column/string.py:830: UserWarning: `n` parameter is not supported when `pat` and `repl` are list-like inputs\n",
      "  warnings.warn(\n",
      "distributed.preloading - INFO - Import preload module: dask_cuda.initialize\n",
      "distributed.preloading - INFO - Import preload module: dask_cuda.initialize\n",
      "distributed.preloading - INFO - Import preload module: dask_cuda.initialize\n",
      "distributed.preloading - INFO - Import preload module: dask_cuda.initialize\n",
      "distributed.preloading - INFO - Import preload module: dask_cuda.initialize\n",
      "/home/nfs/anirband/anaconda3/envs/rapids-21.08/lib/python3.8/contextlib.py:120: UserWarning: Creating scratch directories is taking a surprisingly long time. This is often due to running workers on a network file system. Consider specifying a local-directory to point workers to write scratch data to a local disk.\n",
      "  next(self.gen)\n",
      "distributed.preloading - INFO - Import preload module: dask_cuda.initialize\n"
     ]
    },
    {
     "name": "stdout",
     "output_type": "stream",
     "text": [
      "20726160\n"
     ]
    },
    {
     "name": "stderr",
     "output_type": "stream",
     "text": [
      "/home/nfs/anirband/anaconda3/envs/rapids-21.08/lib/python3.8/site-packages/cudf/core/column/string.py:830: UserWarning: `n` parameter is not supported when `pat` and `repl` are list-like inputs\n",
      "  warnings.warn(\n"
     ]
    },
    {
     "name": "stdout",
     "output_type": "stream",
     "text": [
      "20725971\n",
      "# nnz: 0\n",
      "(nan, 0)\n",
      "[I] [10:10:57.019361] [Delayed('_merge_stats_to_model-4ec9219f-57d0-4d00-9624-370867d5cf48')]\n",
      "[I] [10:10:57.020482] [Delayed('_merge_stats_to_model-6d1b3573-08f0-4705-a084-6cf75344e7c2')]\n",
      "[I] [10:10:57.021203] [Delayed('_merge_stats_to_model-060a5786-a169-49d6-b131-5254fdcfbe04')]\n",
      "[I] [10:10:57.022323] [Delayed('_merge_stats_to_model-80146cae-812c-4968-9d39-c584abe0c37f')]\n",
      "[I] [10:10:57.022598] [<Future: finished, type: cuml.TfidfTransformer, key: _set_doc_stats-afe903c5-9f0f-4fa0-8742-b8475c34862b>]\n",
      "[I] [10:10:57.022745] [<Future: finished, type: cuml.TfidfTransformer, key: _set_doc_stats-07a16be7-f75b-466f-9080-c2fe40a4387f>]\n",
      "[I] [10:10:57.052038] [<Future: finished, type: cuml.TfidfTransformer, key: _merge_stats_to_model-4ec9219f-57d0-4d00-9624-370867d5cf48>]\n",
      "[I] [10:10:57.052276] [<Future: finished, type: cuml.TfidfTransformer, key: _merge_stats_to_model-6d1b3573-08f0-4705-a084-6cf75344e7c2>]\n",
      "[I] [10:10:57.052415] [<Future: finished, type: cuml.TfidfTransformer, key: _merge_stats_to_model-060a5786-a169-49d6-b131-5254fdcfbe04>]\n",
      "[I] [10:10:57.052559] [<Future: finished, type: cuml.TfidfTransformer, key: _merge_stats_to_model-80146cae-812c-4968-9d39-c584abe0c37f>]\n",
      "[I] [10:10:57.052689] [<Future: finished, type: cuml.TfidfTransformer, key: _set_doc_stats-afe903c5-9f0f-4fa0-8742-b8475c34862b>]\n",
      "[I] [10:10:57.052816] [<Future: finished, type: cuml.TfidfTransformer, key: _set_doc_stats-07a16be7-f75b-466f-9080-c2fe40a4387f>]\n",
      "[I] [10:10:57.060278] [Delayed('_merge_stats_to_model-c344db53-173b-4540-af02-69911d76c413')]\n",
      "(20725971, 1048576)\n",
      "Workers:6, Sample Run:2, Finished loading data in 3115791318s\n",
      "Workers:6, Sample Run:2, Finished preprocessing data in 11416875828s\n",
      "Workers:6, Sample Run:2, Finished fitting HashVectorizer in 7833721s\n",
      "Workers:6, Sample Run:2, Finished fitting IDF Transformer in 60256475481s\n"
     ]
    },
    {
     "name": "stderr",
     "output_type": "stream",
     "text": [
      " 60%|████████████████████████████████████████████████████████████████████████████████████████████████████████▍                                                                     | 3/5 [04:09<02:50, 85.19s/it]"
     ]
    },
    {
     "name": "stdout",
     "output_type": "stream",
     "text": [
      "Workers:6, Sample Run:2, Finished executing full pipeline in 79642011769s\n"
     ]
    },
    {
     "name": "stderr",
     "output_type": "stream",
     "text": [
      "/home/nfs/anirband/anaconda3/envs/rapids-21.08/lib/python3.8/site-packages/cudf/core/column/string.py:830: UserWarning: `n` parameter is not supported when `pat` and `repl` are list-like inputs\n",
      "  warnings.warn(\n",
      "/home/nfs/anirband/anaconda3/envs/rapids-21.08/lib/python3.8/site-packages/cudf/core/column/string.py:830: UserWarning: `n` parameter is not supported when `pat` and `repl` are list-like inputs\n",
      "  warnings.warn(\n",
      "/home/nfs/anirband/anaconda3/envs/rapids-21.08/lib/python3.8/site-packages/cudf/core/column/string.py:830: UserWarning: `n` parameter is not supported when `pat` and `repl` are list-like inputs\n",
      "  warnings.warn(\n",
      "/home/nfs/anirband/anaconda3/envs/rapids-21.08/lib/python3.8/site-packages/cudf/core/column/string.py:830: UserWarning: `n` parameter is not supported when `pat` and `repl` are list-like inputs\n",
      "  warnings.warn(\n",
      "/home/nfs/anirband/anaconda3/envs/rapids-21.08/lib/python3.8/site-packages/cudf/core/column/string.py:830: UserWarning: `n` parameter is not supported when `pat` and `repl` are list-like inputs\n",
      "  warnings.warn(\n",
      "/home/nfs/anirband/anaconda3/envs/rapids-21.08/lib/python3.8/site-packages/cudf/core/column/string.py:830: UserWarning: `n` parameter is not supported when `pat` and `repl` are list-like inputs\n",
      "  warnings.warn(\n",
      "/home/nfs/anirband/anaconda3/envs/rapids-21.08/lib/python3.8/site-packages/cudf/core/column/string.py:830: UserWarning: `n` parameter is not supported when `pat` and `repl` are list-like inputs\n",
      "  warnings.warn(\n",
      "/home/nfs/anirband/anaconda3/envs/rapids-21.08/lib/python3.8/site-packages/cudf/core/column/string.py:830: UserWarning: `n` parameter is not supported when `pat` and `repl` are list-like inputs\n",
      "  warnings.warn(\n",
      "/home/nfs/anirband/anaconda3/envs/rapids-21.08/lib/python3.8/site-packages/cudf/core/column/string.py:830: UserWarning: `n` parameter is not supported when `pat` and `repl` are list-like inputs\n",
      "  warnings.warn(\n",
      "/home/nfs/anirband/anaconda3/envs/rapids-21.08/lib/python3.8/site-packages/cudf/core/column/string.py:830: UserWarning: `n` parameter is not supported when `pat` and `repl` are list-like inputs\n",
      "  warnings.warn(\n",
      "/home/nfs/anirband/anaconda3/envs/rapids-21.08/lib/python3.8/site-packages/cudf/core/column/string.py:830: UserWarning: `n` parameter is not supported when `pat` and `repl` are list-like inputs\n",
      "  warnings.warn(\n",
      "/home/nfs/anirband/anaconda3/envs/rapids-21.08/lib/python3.8/site-packages/cudf/core/column/string.py:830: UserWarning: `n` parameter is not supported when `pat` and `repl` are list-like inputs\n",
      "  warnings.warn(\n",
      "distributed.preloading - INFO - Import preload module: dask_cuda.initialize\n",
      "distributed.preloading - INFO - Import preload module: dask_cuda.initialize\n",
      "distributed.preloading - INFO - Import preload module: dask_cuda.initialize\n",
      "distributed.preloading - INFO - Import preload module: dask_cuda.initialize\n",
      "distributed.preloading - INFO - Import preload module: dask_cuda.initialize\n",
      "/home/nfs/anirband/anaconda3/envs/rapids-21.08/lib/python3.8/contextlib.py:120: UserWarning: Creating scratch directories is taking a surprisingly long time. This is often due to running workers on a network file system. Consider specifying a local-directory to point workers to write scratch data to a local disk.\n",
      "  next(self.gen)\n",
      "distributed.preloading - INFO - Import preload module: dask_cuda.initialize\n"
     ]
    },
    {
     "name": "stdout",
     "output_type": "stream",
     "text": [
      "20726160\n"
     ]
    },
    {
     "name": "stderr",
     "output_type": "stream",
     "text": [
      "/home/nfs/anirband/anaconda3/envs/rapids-21.08/lib/python3.8/site-packages/cudf/core/column/string.py:830: UserWarning: `n` parameter is not supported when `pat` and `repl` are list-like inputs\n",
      "  warnings.warn(\n"
     ]
    },
    {
     "name": "stdout",
     "output_type": "stream",
     "text": [
      "20725971\n",
      "# nnz: 0\n",
      "(nan, 0)\n",
      "[I] [10:12:26.325189] [Delayed('_merge_stats_to_model-1e75695d-5a5b-41c8-850c-b39ebfa6e78d')]\n",
      "[I] [10:12:26.326333] [Delayed('_merge_stats_to_model-80d133c8-1e8e-4d89-bf3d-235108b9fd93')]\n",
      "[I] [10:12:26.326609] [<Future: finished, type: cuml.TfidfTransformer, key: _set_doc_stats-d8d3181a-6a96-4eb4-9187-26a0a5def361>]\n",
      "[I] [10:12:26.326785] [<Future: finished, type: cuml.TfidfTransformer, key: _set_doc_stats-f8eb5eb0-4d5c-40d2-8184-ce7d2297ba49>]\n",
      "[I] [10:12:26.327664] [Delayed('_merge_stats_to_model-53dcfea4-a3fb-4f51-8f23-410ab7164d05')]\n",
      "[I] [10:12:26.328559] [Delayed('_merge_stats_to_model-3a6a7095-30b8-4c0c-afcd-74704be8a5d7')]\n",
      "[I] [10:12:26.356325] [<Future: finished, type: cuml.TfidfTransformer, key: _merge_stats_to_model-1e75695d-5a5b-41c8-850c-b39ebfa6e78d>]\n",
      "[I] [10:12:26.356583] [<Future: finished, type: cuml.TfidfTransformer, key: _merge_stats_to_model-80d133c8-1e8e-4d89-bf3d-235108b9fd93>]\n",
      "[I] [10:12:26.356752] [<Future: finished, type: cuml.TfidfTransformer, key: _set_doc_stats-d8d3181a-6a96-4eb4-9187-26a0a5def361>]\n",
      "[I] [10:12:26.356912] [<Future: finished, type: cuml.TfidfTransformer, key: _set_doc_stats-f8eb5eb0-4d5c-40d2-8184-ce7d2297ba49>]\n",
      "[I] [10:12:26.357069] [<Future: finished, type: cuml.TfidfTransformer, key: _merge_stats_to_model-53dcfea4-a3fb-4f51-8f23-410ab7164d05>]\n",
      "[I] [10:12:26.357218] [<Future: finished, type: cuml.TfidfTransformer, key: _merge_stats_to_model-3a6a7095-30b8-4c0c-afcd-74704be8a5d7>]\n",
      "[I] [10:12:26.368035] [Delayed('_merge_stats_to_model-287c83bf-9599-4f48-a4e3-cd263ad788e2')]\n",
      "(20725971, 1048576)\n",
      "Workers:6, Sample Run:3, Finished loading data in 2942319481s\n",
      "Workers:6, Sample Run:3, Finished preprocessing data in 12926692789s\n",
      "Workers:6, Sample Run:3, Finished fitting HashVectorizer in 8772008s\n",
      "Workers:6, Sample Run:3, Finished fitting IDF Transformer in 43679356951s\n"
     ]
    },
    {
     "name": "stderr",
     "output_type": "stream",
     "text": [
      " 80%|███████████████████████████████████████████████████████████████████████████████████████████████████████████████████████████████████████████▏                                  | 4/5 [05:27<01:22, 82.04s/it]"
     ]
    },
    {
     "name": "stdout",
     "output_type": "stream",
     "text": [
      "Workers:6, Sample Run:3, Finished executing full pipeline in 64464742893s\n"
     ]
    },
    {
     "name": "stderr",
     "output_type": "stream",
     "text": [
      "/home/nfs/anirband/anaconda3/envs/rapids-21.08/lib/python3.8/site-packages/cudf/core/column/string.py:830: UserWarning: `n` parameter is not supported when `pat` and `repl` are list-like inputs\n",
      "  warnings.warn(\n",
      "/home/nfs/anirband/anaconda3/envs/rapids-21.08/lib/python3.8/site-packages/cudf/core/column/string.py:830: UserWarning: `n` parameter is not supported when `pat` and `repl` are list-like inputs\n",
      "  warnings.warn(\n",
      "/home/nfs/anirband/anaconda3/envs/rapids-21.08/lib/python3.8/site-packages/cudf/core/column/string.py:830: UserWarning: `n` parameter is not supported when `pat` and `repl` are list-like inputs\n",
      "  warnings.warn(\n",
      "/home/nfs/anirband/anaconda3/envs/rapids-21.08/lib/python3.8/site-packages/cudf/core/column/string.py:830: UserWarning: `n` parameter is not supported when `pat` and `repl` are list-like inputs\n",
      "  warnings.warn(\n",
      "/home/nfs/anirband/anaconda3/envs/rapids-21.08/lib/python3.8/site-packages/cudf/core/column/string.py:830: UserWarning: `n` parameter is not supported when `pat` and `repl` are list-like inputs\n",
      "  warnings.warn(\n",
      "/home/nfs/anirband/anaconda3/envs/rapids-21.08/lib/python3.8/site-packages/cudf/core/column/string.py:830: UserWarning: `n` parameter is not supported when `pat` and `repl` are list-like inputs\n",
      "  warnings.warn(\n",
      "/home/nfs/anirband/anaconda3/envs/rapids-21.08/lib/python3.8/site-packages/cudf/core/column/string.py:830: UserWarning: `n` parameter is not supported when `pat` and `repl` are list-like inputs\n",
      "  warnings.warn(\n",
      "/home/nfs/anirband/anaconda3/envs/rapids-21.08/lib/python3.8/site-packages/cudf/core/column/string.py:830: UserWarning: `n` parameter is not supported when `pat` and `repl` are list-like inputs\n",
      "  warnings.warn(\n",
      "/home/nfs/anirband/anaconda3/envs/rapids-21.08/lib/python3.8/site-packages/cudf/core/column/string.py:830: UserWarning: `n` parameter is not supported when `pat` and `repl` are list-like inputs\n",
      "  warnings.warn(\n",
      "/home/nfs/anirband/anaconda3/envs/rapids-21.08/lib/python3.8/site-packages/cudf/core/column/string.py:830: UserWarning: `n` parameter is not supported when `pat` and `repl` are list-like inputs\n",
      "  warnings.warn(\n",
      "/home/nfs/anirband/anaconda3/envs/rapids-21.08/lib/python3.8/site-packages/cudf/core/column/string.py:830: UserWarning: `n` parameter is not supported when `pat` and `repl` are list-like inputs\n",
      "  warnings.warn(\n",
      "/home/nfs/anirband/anaconda3/envs/rapids-21.08/lib/python3.8/site-packages/cudf/core/column/string.py:830: UserWarning: `n` parameter is not supported when `pat` and `repl` are list-like inputs\n",
      "  warnings.warn(\n",
      "distributed.preloading - INFO - Import preload module: dask_cuda.initialize\n",
      "distributed.preloading - INFO - Import preload module: dask_cuda.initialize\n",
      "distributed.preloading - INFO - Import preload module: dask_cuda.initialize\n",
      "distributed.preloading - INFO - Import preload module: dask_cuda.initialize\n",
      "distributed.preloading - INFO - Import preload module: dask_cuda.initialize\n",
      "distributed.preloading - INFO - Import preload module: dask_cuda.initialize\n"
     ]
    },
    {
     "name": "stdout",
     "output_type": "stream",
     "text": [
      "20726160\n"
     ]
    },
    {
     "name": "stderr",
     "output_type": "stream",
     "text": [
      "/home/nfs/anirband/anaconda3/envs/rapids-21.08/lib/python3.8/site-packages/cudf/core/column/string.py:830: UserWarning: `n` parameter is not supported when `pat` and `repl` are list-like inputs\n",
      "  warnings.warn(\n"
     ]
    },
    {
     "name": "stdout",
     "output_type": "stream",
     "text": [
      "20725971\n",
      "# nnz: 0\n",
      "(nan, 0)\n",
      "[I] [10:13:43.460356] [<Future: finished, type: cuml.TfidfTransformer, key: _set_doc_stats-1258763c-7e30-439b-9f35-a376b7c1bf29>]\n",
      "[I] [10:13:43.461451] [Delayed('_merge_stats_to_model-674211d9-6ed7-48c5-a389-8702a4223a10')]\n",
      "[I] [10:13:43.462247] [Delayed('_merge_stats_to_model-56ac4496-ba01-49ba-bf91-1e63e7389eef')]\n",
      "[I] [10:13:43.462478] [<Future: finished, type: cuml.TfidfTransformer, key: _set_doc_stats-00c00b8a-24b5-41ae-ad6c-a823e39df4db>]\n",
      "[I] [10:13:43.463189] [Delayed('_merge_stats_to_model-facdfbbb-489b-4ee2-9b0c-553212fd88c7')]\n",
      "[I] [10:13:43.464001] [Delayed('_merge_stats_to_model-de0449e8-8f4d-4634-a82d-382988d357b8')]\n",
      "[I] [10:13:43.491485] [<Future: finished, type: cuml.TfidfTransformer, key: _set_doc_stats-1258763c-7e30-439b-9f35-a376b7c1bf29>]\n",
      "[I] [10:13:43.491717] [<Future: finished, type: cuml.TfidfTransformer, key: _merge_stats_to_model-674211d9-6ed7-48c5-a389-8702a4223a10>]\n",
      "[I] [10:13:43.492034] [<Future: finished, type: cuml.TfidfTransformer, key: _merge_stats_to_model-56ac4496-ba01-49ba-bf91-1e63e7389eef>]\n",
      "[I] [10:13:43.492167] [<Future: finished, type: cuml.TfidfTransformer, key: _set_doc_stats-00c00b8a-24b5-41ae-ad6c-a823e39df4db>]\n",
      "[I] [10:13:43.492291] [<Future: finished, type: cuml.TfidfTransformer, key: _merge_stats_to_model-facdfbbb-489b-4ee2-9b0c-553212fd88c7>]\n",
      "[I] [10:13:43.492418] [<Future: finished, type: cuml.TfidfTransformer, key: _merge_stats_to_model-de0449e8-8f4d-4634-a82d-382988d357b8>]\n",
      "[I] [10:13:43.500800] [Delayed('_merge_stats_to_model-763cd96c-0821-4b41-b90e-82fd342e27c6')]\n",
      "(20725971, 1048576)\n",
      "Workers:6, Sample Run:4, Finished loading data in 3016157264s\n",
      "Workers:6, Sample Run:4, Finished preprocessing data in 12900013413s\n",
      "Workers:6, Sample Run:4, Finished fitting HashVectorizer in 6633554s\n",
      "Workers:6, Sample Run:4, Finished fitting IDF Transformer in 43677707042s\n"
     ]
    },
    {
     "name": "stderr",
     "output_type": "stream",
     "text": [
      "100%|██████████████████████████████████████████████████████████████████████████████████████████████████████████████████████████████████████████████████████████████████████████████| 5/5 [06:44<00:00, 80.89s/it]"
     ]
    },
    {
     "name": "stdout",
     "output_type": "stream",
     "text": [
      "Workers:6, Sample Run:4, Finished executing full pipeline in 64498062988s\n"
     ]
    },
    {
     "name": "stderr",
     "output_type": "stream",
     "text": [
      "\n",
      "distributed.preloading - INFO - Import preload module: dask_cuda.initialize\n",
      "distributed.preloading - INFO - Import preload module: dask_cuda.initialize\n",
      "  0%|                                                                                                                                                                                      | 0/5 [00:00<?, ?it/s]/home/nfs/anirband/anaconda3/envs/rapids-21.08/lib/python3.8/site-packages/cudf/core/column/string.py:830: UserWarning: `n` parameter is not supported when `pat` and `repl` are list-like inputs\n",
      "  warnings.warn(\n",
      "/home/nfs/anirband/anaconda3/envs/rapids-21.08/lib/python3.8/site-packages/cudf/core/column/string.py:830: UserWarning: `n` parameter is not supported when `pat` and `repl` are list-like inputs\n",
      "  warnings.warn(\n",
      "/home/nfs/anirband/anaconda3/envs/rapids-21.08/lib/python3.8/site-packages/cudf/core/column/string.py:830: UserWarning: `n` parameter is not supported when `pat` and `repl` are list-like inputs\n",
      "  warnings.warn(\n",
      "/home/nfs/anirband/anaconda3/envs/rapids-21.08/lib/python3.8/site-packages/cudf/core/column/string.py:830: UserWarning: `n` parameter is not supported when `pat` and `repl` are list-like inputs\n",
      "  warnings.warn(\n",
      "/home/nfs/anirband/anaconda3/envs/rapids-21.08/lib/python3.8/site-packages/cudf/core/column/string.py:830: UserWarning: `n` parameter is not supported when `pat` and `repl` are list-like inputs\n",
      "  warnings.warn(\n",
      "/home/nfs/anirband/anaconda3/envs/rapids-21.08/lib/python3.8/site-packages/cudf/core/column/string.py:830: UserWarning: `n` parameter is not supported when `pat` and `repl` are list-like inputs\n",
      "  warnings.warn(\n",
      "/home/nfs/anirband/anaconda3/envs/rapids-21.08/lib/python3.8/site-packages/cudf/core/column/string.py:830: UserWarning: `n` parameter is not supported when `pat` and `repl` are list-like inputs\n",
      "  warnings.warn(\n",
      "/home/nfs/anirband/anaconda3/envs/rapids-21.08/lib/python3.8/site-packages/cudf/core/column/string.py:830: UserWarning: `n` parameter is not supported when `pat` and `repl` are list-like inputs\n",
      "  warnings.warn(\n",
      "/home/nfs/anirband/anaconda3/envs/rapids-21.08/lib/python3.8/site-packages/cudf/core/column/string.py:830: UserWarning: `n` parameter is not supported when `pat` and `repl` are list-like inputs\n",
      "  warnings.warn(\n",
      "/home/nfs/anirband/anaconda3/envs/rapids-21.08/lib/python3.8/site-packages/cudf/core/column/string.py:830: UserWarning: `n` parameter is not supported when `pat` and `repl` are list-like inputs\n",
      "  warnings.warn(\n",
      "/home/nfs/anirband/anaconda3/envs/rapids-21.08/lib/python3.8/site-packages/cudf/core/column/string.py:830: UserWarning: `n` parameter is not supported when `pat` and `repl` are list-like inputs\n",
      "  warnings.warn(\n",
      "/home/nfs/anirband/anaconda3/envs/rapids-21.08/lib/python3.8/site-packages/cudf/core/column/string.py:830: UserWarning: `n` parameter is not supported when `pat` and `repl` are list-like inputs\n",
      "  warnings.warn(\n",
      "distributed.preloading - INFO - Import preload module: dask_cuda.initialize\n",
      "distributed.preloading - INFO - Import preload module: dask_cuda.initialize\n",
      "distributed.preloading - INFO - Import preload module: dask_cuda.initialize\n",
      "distributed.preloading - INFO - Import preload module: dask_cuda.initialize\n",
      "distributed.preloading - INFO - Import preload module: dask_cuda.initialize\n",
      "distributed.preloading - INFO - Import preload module: dask_cuda.initialize\n",
      "distributed.preloading - INFO - Import preload module: dask_cuda.initialize\n",
      "distributed.preloading - INFO - Import preload module: dask_cuda.initialize\n"
     ]
    },
    {
     "name": "stdout",
     "output_type": "stream",
     "text": [
      "20726160\n"
     ]
    },
    {
     "name": "stderr",
     "output_type": "stream",
     "text": [
      "/home/nfs/anirband/anaconda3/envs/rapids-21.08/lib/python3.8/site-packages/cudf/core/column/string.py:830: UserWarning: `n` parameter is not supported when `pat` and `repl` are list-like inputs\n",
      "  warnings.warn(\n"
     ]
    },
    {
     "name": "stdout",
     "output_type": "stream",
     "text": [
      "20725971\n",
      "# nnz: 0\n",
      "(nan, 0)\n",
      "[I] [10:15:06.123076] [<Future: finished, type: cuml.TfidfTransformer, key: _set_doc_stats-ef239a59-1c6e-411b-8cf7-0ed100d97d2f>]\n",
      "[I] [10:15:06.123981] [<Future: finished, type: cuml.TfidfTransformer, key: _set_doc_stats-871de83a-9034-4f15-a688-51599e71b1ff>]\n",
      "[I] [10:15:06.124204] [<Future: finished, type: cuml.TfidfTransformer, key: _set_doc_stats-7238fc8d-518c-4544-9fc8-f57d9486fdf8>]\n",
      "[I] [10:15:06.125138] [Delayed('_merge_stats_to_model-3f2a8eac-c7b0-45d0-abd4-ee685a04a714')]\n",
      "[I] [10:15:06.125388] [<Future: finished, type: cuml.TfidfTransformer, key: _set_doc_stats-8b6a9177-0ee1-4f07-84b0-18d65746f13c>]\n",
      "[I] [10:15:06.125536] [<Future: finished, type: cuml.TfidfTransformer, key: _set_doc_stats-e6a3fcee-c599-4fa7-a6fb-6876ba8bd705>]\n",
      "[I] [10:15:06.126275] [Delayed('_merge_stats_to_model-b8f4f424-59e4-447e-b26d-b1b8137c4fb6')]\n",
      "[I] [10:15:06.126529] [<Future: finished, type: cuml.TfidfTransformer, key: _set_doc_stats-dcf83064-b124-423d-ab61-4840c939b768>]\n",
      "[I] [10:15:06.152057] [<Future: finished, type: cuml.TfidfTransformer, key: _set_doc_stats-ef239a59-1c6e-411b-8cf7-0ed100d97d2f>]\n",
      "[I] [10:15:06.152299] [<Future: finished, type: cuml.TfidfTransformer, key: _set_doc_stats-871de83a-9034-4f15-a688-51599e71b1ff>]\n",
      "[I] [10:15:06.152443] [<Future: finished, type: cuml.TfidfTransformer, key: _set_doc_stats-7238fc8d-518c-4544-9fc8-f57d9486fdf8>]\n",
      "[I] [10:15:06.152570] [<Future: finished, type: cuml.TfidfTransformer, key: _merge_stats_to_model-3f2a8eac-c7b0-45d0-abd4-ee685a04a714>]\n",
      "[I] [10:15:06.152695] [<Future: finished, type: cuml.TfidfTransformer, key: _set_doc_stats-8b6a9177-0ee1-4f07-84b0-18d65746f13c>]\n",
      "[I] [10:15:06.152818] [<Future: finished, type: cuml.TfidfTransformer, key: _set_doc_stats-e6a3fcee-c599-4fa7-a6fb-6876ba8bd705>]\n",
      "[I] [10:15:06.152936] [<Future: finished, type: cuml.TfidfTransformer, key: _merge_stats_to_model-b8f4f424-59e4-447e-b26d-b1b8137c4fb6>]\n",
      "[I] [10:15:06.153231] [<Future: finished, type: cuml.TfidfTransformer, key: _set_doc_stats-dcf83064-b124-423d-ab61-4840c939b768>]\n",
      "[I] [10:15:06.161379] [Delayed('_merge_stats_to_model-f5147abd-49b9-44bd-956e-5b8f66947459')]\n",
      "(20725971, 1048576)\n",
      "Workers:8, Sample Run:0, Finished loading data in 3161889527s\n",
      "Workers:8, Sample Run:0, Finished preprocessing data in 11442871099s\n",
      "Workers:8, Sample Run:0, Finished fitting HashVectorizer in 9475723s\n",
      "Workers:8, Sample Run:0, Finished fitting IDF Transformer in 46327338612s\n"
     ]
    },
    {
     "name": "stderr",
     "output_type": "stream",
     "text": [
      " 20%|██████████████████████████████████▊                                                                                                                                           | 1/5 [01:19<05:19, 79.90s/it]"
     ]
    },
    {
     "name": "stdout",
     "output_type": "stream",
     "text": [
      "Workers:8, Sample Run:0, Finished executing full pipeline in 65669242181s\n"
     ]
    },
    {
     "name": "stderr",
     "output_type": "stream",
     "text": [
      "/home/nfs/anirband/anaconda3/envs/rapids-21.08/lib/python3.8/site-packages/cudf/core/column/string.py:830: UserWarning: `n` parameter is not supported when `pat` and `repl` are list-like inputs\n",
      "  warnings.warn(\n",
      "/home/nfs/anirband/anaconda3/envs/rapids-21.08/lib/python3.8/site-packages/cudf/core/column/string.py:830: UserWarning: `n` parameter is not supported when `pat` and `repl` are list-like inputs\n",
      "  warnings.warn(\n",
      "/home/nfs/anirband/anaconda3/envs/rapids-21.08/lib/python3.8/site-packages/cudf/core/column/string.py:830: UserWarning: `n` parameter is not supported when `pat` and `repl` are list-like inputs\n",
      "  warnings.warn(\n",
      "/home/nfs/anirband/anaconda3/envs/rapids-21.08/lib/python3.8/site-packages/cudf/core/column/string.py:830: UserWarning: `n` parameter is not supported when `pat` and `repl` are list-like inputs\n",
      "  warnings.warn(\n",
      "/home/nfs/anirband/anaconda3/envs/rapids-21.08/lib/python3.8/site-packages/cudf/core/column/string.py:830: UserWarning: `n` parameter is not supported when `pat` and `repl` are list-like inputs\n",
      "  warnings.warn(\n",
      "/home/nfs/anirband/anaconda3/envs/rapids-21.08/lib/python3.8/site-packages/cudf/core/column/string.py:830: UserWarning: `n` parameter is not supported when `pat` and `repl` are list-like inputs\n",
      "  warnings.warn(\n",
      "/home/nfs/anirband/anaconda3/envs/rapids-21.08/lib/python3.8/site-packages/cudf/core/column/string.py:830: UserWarning: `n` parameter is not supported when `pat` and `repl` are list-like inputs\n",
      "  warnings.warn(\n",
      "/home/nfs/anirband/anaconda3/envs/rapids-21.08/lib/python3.8/site-packages/cudf/core/column/string.py:830: UserWarning: `n` parameter is not supported when `pat` and `repl` are list-like inputs\n",
      "  warnings.warn(\n",
      "/home/nfs/anirband/anaconda3/envs/rapids-21.08/lib/python3.8/site-packages/cudf/core/column/string.py:830: UserWarning: `n` parameter is not supported when `pat` and `repl` are list-like inputs\n",
      "  warnings.warn(\n",
      "/home/nfs/anirband/anaconda3/envs/rapids-21.08/lib/python3.8/site-packages/cudf/core/column/string.py:830: UserWarning: `n` parameter is not supported when `pat` and `repl` are list-like inputs\n",
      "  warnings.warn(\n",
      "/home/nfs/anirband/anaconda3/envs/rapids-21.08/lib/python3.8/site-packages/cudf/core/column/string.py:830: UserWarning: `n` parameter is not supported when `pat` and `repl` are list-like inputs\n",
      "  warnings.warn(\n",
      "/home/nfs/anirband/anaconda3/envs/rapids-21.08/lib/python3.8/site-packages/cudf/core/column/string.py:830: UserWarning: `n` parameter is not supported when `pat` and `repl` are list-like inputs\n",
      "  warnings.warn(\n",
      "/home/nfs/anirband/anaconda3/envs/rapids-21.08/lib/python3.8/site-packages/cudf/core/column/string.py:830: UserWarning: `n` parameter is not supported when `pat` and `repl` are list-like inputs\n",
      "  warnings.warn(\n",
      "/home/nfs/anirband/anaconda3/envs/rapids-21.08/lib/python3.8/site-packages/cudf/core/column/string.py:830: UserWarning: `n` parameter is not supported when `pat` and `repl` are list-like inputs\n",
      "  warnings.warn(\n",
      "/home/nfs/anirband/anaconda3/envs/rapids-21.08/lib/python3.8/site-packages/cudf/core/column/string.py:830: UserWarning: `n` parameter is not supported when `pat` and `repl` are list-like inputs\n",
      "  warnings.warn(\n",
      "/home/nfs/anirband/anaconda3/envs/rapids-21.08/lib/python3.8/site-packages/cudf/core/column/string.py:830: UserWarning: `n` parameter is not supported when `pat` and `repl` are list-like inputs\n",
      "  warnings.warn(\n",
      "distributed.preloading - INFO - Import preload module: dask_cuda.initialize\n",
      "distributed.preloading - INFO - Import preload module: dask_cuda.initialize\n",
      "distributed.preloading - INFO - Import preload module: dask_cuda.initialize\n",
      "distributed.preloading - INFO - Import preload module: dask_cuda.initialize\n",
      "distributed.preloading - INFO - Import preload module: dask_cuda.initialize\n",
      "/home/nfs/anirband/anaconda3/envs/rapids-21.08/lib/python3.8/contextlib.py:120: UserWarning: Creating scratch directories is taking a surprisingly long time. This is often due to running workers on a network file system. Consider specifying a local-directory to point workers to write scratch data to a local disk.\n",
      "  next(self.gen)\n",
      "distributed.preloading - INFO - Import preload module: dask_cuda.initialize\n",
      "/home/nfs/anirband/anaconda3/envs/rapids-21.08/lib/python3.8/contextlib.py:120: UserWarning: Creating scratch directories is taking a surprisingly long time. This is often due to running workers on a network file system. Consider specifying a local-directory to point workers to write scratch data to a local disk.\n",
      "  next(self.gen)\n",
      "distributed.preloading - INFO - Import preload module: dask_cuda.initialize\n",
      "/home/nfs/anirband/anaconda3/envs/rapids-21.08/lib/python3.8/contextlib.py:120: UserWarning: Creating scratch directories is taking a surprisingly long time. This is often due to running workers on a network file system. Consider specifying a local-directory to point workers to write scratch data to a local disk.\n",
      "  next(self.gen)\n",
      "distributed.preloading - INFO - Import preload module: dask_cuda.initialize\n"
     ]
    },
    {
     "name": "stdout",
     "output_type": "stream",
     "text": [
      "20726160\n"
     ]
    },
    {
     "name": "stderr",
     "output_type": "stream",
     "text": [
      "/home/nfs/anirband/anaconda3/envs/rapids-21.08/lib/python3.8/site-packages/cudf/core/column/string.py:830: UserWarning: `n` parameter is not supported when `pat` and `repl` are list-like inputs\n",
      "  warnings.warn(\n"
     ]
    },
    {
     "name": "stdout",
     "output_type": "stream",
     "text": [
      "20725971\n",
      "# nnz: 0\n",
      "(nan, 0)\n",
      "[I] [10:16:27.195676] [<Future: finished, type: cuml.TfidfTransformer, key: _set_doc_stats-0ea2883c-7f4e-4d01-a2a2-d4078e983ca8>]\n",
      "[I] [10:16:27.196227] [<Future: finished, type: cuml.TfidfTransformer, key: _set_doc_stats-aa7132f0-b9d6-4a79-b5d9-1ee97f3e16e5>]\n",
      "[I] [10:16:27.197133] [Delayed('_merge_stats_to_model-cd0443e8-194b-47e7-b3f3-7851dd8615bf')]\n",
      "[I] [10:16:27.197401] [<Future: finished, type: cuml.TfidfTransformer, key: _set_doc_stats-ac8ec248-7668-446b-b131-58c9f07d8625>]\n",
      "[I] [10:16:27.197546] [<Future: finished, type: cuml.TfidfTransformer, key: _set_doc_stats-0148430c-6ff0-4140-a0ca-fc802c95970f>]\n",
      "[I] [10:16:27.197677] [<Future: finished, type: cuml.TfidfTransformer, key: _set_doc_stats-e163ad75-323b-4939-80bb-9d2392d91622>]\n",
      "[I] [10:16:27.198390] [Delayed('_merge_stats_to_model-002b7a1c-753f-46ea-add4-84c8eabcc99a')]\n",
      "[I] [10:16:27.198648] [<Future: finished, type: cuml.TfidfTransformer, key: _set_doc_stats-2353cbd4-31b6-40da-ad27-cb3c62d46367>]\n",
      "[I] [10:16:27.222063] [<Future: finished, type: cuml.TfidfTransformer, key: _set_doc_stats-0ea2883c-7f4e-4d01-a2a2-d4078e983ca8>]\n",
      "[I] [10:16:27.222302] [<Future: finished, type: cuml.TfidfTransformer, key: _set_doc_stats-aa7132f0-b9d6-4a79-b5d9-1ee97f3e16e5>]\n",
      "[I] [10:16:27.222443] [<Future: finished, type: cuml.TfidfTransformer, key: _merge_stats_to_model-cd0443e8-194b-47e7-b3f3-7851dd8615bf>]\n",
      "[I] [10:16:27.222595] [<Future: finished, type: cuml.TfidfTransformer, key: _set_doc_stats-ac8ec248-7668-446b-b131-58c9f07d8625>]\n",
      "[I] [10:16:27.222779] [<Future: finished, type: cuml.TfidfTransformer, key: _set_doc_stats-0148430c-6ff0-4140-a0ca-fc802c95970f>]\n",
      "[I] [10:16:27.222946] [<Future: finished, type: cuml.TfidfTransformer, key: _set_doc_stats-e163ad75-323b-4939-80bb-9d2392d91622>]\n",
      "[I] [10:16:27.223235] [<Future: finished, type: cuml.TfidfTransformer, key: _merge_stats_to_model-002b7a1c-753f-46ea-add4-84c8eabcc99a>]\n",
      "[I] [10:16:27.223347] [<Future: finished, type: cuml.TfidfTransformer, key: _set_doc_stats-2353cbd4-31b6-40da-ad27-cb3c62d46367>]\n",
      "[I] [10:16:27.234369] [Delayed('_merge_stats_to_model-85c2ebe1-3dfe-433a-967e-0c0ca02f0924')]\n",
      "(20725971, 1048576)\n",
      "Workers:8, Sample Run:1, Finished loading data in 3033740280s\n",
      "Workers:8, Sample Run:1, Finished preprocessing data in 11390277597s\n",
      "Workers:8, Sample Run:1, Finished fitting HashVectorizer in 6797433s\n",
      "Workers:8, Sample Run:1, Finished fitting IDF Transformer in 43778301265s\n"
     ]
    },
    {
     "name": "stderr",
     "output_type": "stream",
     "text": [
      " 40%|█████████████████████████████████████████████████████████████████████▌                                                                                                        | 2/5 [02:36<03:54, 78.24s/it]"
     ]
    },
    {
     "name": "stdout",
     "output_type": "stream",
     "text": [
      "Workers:8, Sample Run:1, Finished executing full pipeline in 65774004310s\n"
     ]
    },
    {
     "name": "stderr",
     "output_type": "stream",
     "text": [
      "/home/nfs/anirband/anaconda3/envs/rapids-21.08/lib/python3.8/site-packages/cudf/core/column/string.py:830: UserWarning: `n` parameter is not supported when `pat` and `repl` are list-like inputs\n",
      "  warnings.warn(\n",
      "/home/nfs/anirband/anaconda3/envs/rapids-21.08/lib/python3.8/site-packages/cudf/core/column/string.py:830: UserWarning: `n` parameter is not supported when `pat` and `repl` are list-like inputs\n",
      "  warnings.warn(\n",
      "/home/nfs/anirband/anaconda3/envs/rapids-21.08/lib/python3.8/site-packages/cudf/core/column/string.py:830: UserWarning: `n` parameter is not supported when `pat` and `repl` are list-like inputs\n",
      "  warnings.warn(\n",
      "/home/nfs/anirband/anaconda3/envs/rapids-21.08/lib/python3.8/site-packages/cudf/core/column/string.py:830: UserWarning: `n` parameter is not supported when `pat` and `repl` are list-like inputs\n",
      "  warnings.warn(\n",
      "/home/nfs/anirband/anaconda3/envs/rapids-21.08/lib/python3.8/site-packages/cudf/core/column/string.py:830: UserWarning: `n` parameter is not supported when `pat` and `repl` are list-like inputs\n",
      "  warnings.warn(\n",
      "/home/nfs/anirband/anaconda3/envs/rapids-21.08/lib/python3.8/site-packages/cudf/core/column/string.py:830: UserWarning: `n` parameter is not supported when `pat` and `repl` are list-like inputs\n",
      "  warnings.warn(\n",
      "/home/nfs/anirband/anaconda3/envs/rapids-21.08/lib/python3.8/site-packages/cudf/core/column/string.py:830: UserWarning: `n` parameter is not supported when `pat` and `repl` are list-like inputs\n",
      "  warnings.warn(\n",
      "/home/nfs/anirband/anaconda3/envs/rapids-21.08/lib/python3.8/site-packages/cudf/core/column/string.py:830: UserWarning: `n` parameter is not supported when `pat` and `repl` are list-like inputs\n",
      "  warnings.warn(\n",
      "/home/nfs/anirband/anaconda3/envs/rapids-21.08/lib/python3.8/site-packages/cudf/core/column/string.py:830: UserWarning: `n` parameter is not supported when `pat` and `repl` are list-like inputs\n",
      "  warnings.warn(\n",
      "/home/nfs/anirband/anaconda3/envs/rapids-21.08/lib/python3.8/site-packages/cudf/core/column/string.py:830: UserWarning: `n` parameter is not supported when `pat` and `repl` are list-like inputs\n",
      "  warnings.warn(\n",
      "/home/nfs/anirband/anaconda3/envs/rapids-21.08/lib/python3.8/site-packages/cudf/core/column/string.py:830: UserWarning: `n` parameter is not supported when `pat` and `repl` are list-like inputs\n",
      "  warnings.warn(\n",
      "/home/nfs/anirband/anaconda3/envs/rapids-21.08/lib/python3.8/site-packages/cudf/core/column/string.py:830: UserWarning: `n` parameter is not supported when `pat` and `repl` are list-like inputs\n",
      "  warnings.warn(\n",
      "/home/nfs/anirband/anaconda3/envs/rapids-21.08/lib/python3.8/site-packages/cudf/core/column/string.py:830: UserWarning: `n` parameter is not supported when `pat` and `repl` are list-like inputs\n",
      "  warnings.warn(\n",
      "/home/nfs/anirband/anaconda3/envs/rapids-21.08/lib/python3.8/site-packages/cudf/core/column/string.py:830: UserWarning: `n` parameter is not supported when `pat` and `repl` are list-like inputs\n",
      "  warnings.warn(\n",
      "/home/nfs/anirband/anaconda3/envs/rapids-21.08/lib/python3.8/site-packages/cudf/core/column/string.py:830: UserWarning: `n` parameter is not supported when `pat` and `repl` are list-like inputs\n",
      "  warnings.warn(\n",
      "/home/nfs/anirband/anaconda3/envs/rapids-21.08/lib/python3.8/site-packages/cudf/core/column/string.py:830: UserWarning: `n` parameter is not supported when `pat` and `repl` are list-like inputs\n",
      "  warnings.warn(\n",
      "distributed.preloading - INFO - Import preload module: dask_cuda.initialize\n",
      "distributed.preloading - INFO - Import preload module: dask_cuda.initialize\n",
      "distributed.preloading - INFO - Import preload module: dask_cuda.initialize\n",
      "distributed.preloading - INFO - Import preload module: dask_cuda.initialize\n",
      "distributed.preloading - INFO - Import preload module: dask_cuda.initialize\n",
      "distributed.preloading - INFO - Import preload module: dask_cuda.initialize\n",
      "distributed.preloading - INFO - Import preload module: dask_cuda.initialize\n",
      "distributed.preloading - INFO - Import preload module: dask_cuda.initialize\n"
     ]
    },
    {
     "name": "stdout",
     "output_type": "stream",
     "text": [
      "20726160\n"
     ]
    },
    {
     "name": "stderr",
     "output_type": "stream",
     "text": [
      "/home/nfs/anirband/anaconda3/envs/rapids-21.08/lib/python3.8/site-packages/cudf/core/column/string.py:830: UserWarning: `n` parameter is not supported when `pat` and `repl` are list-like inputs\n",
      "  warnings.warn(\n"
     ]
    },
    {
     "name": "stdout",
     "output_type": "stream",
     "text": [
      "20725971\n",
      "# nnz: 0\n",
      "(nan, 0)\n",
      "[I] [10:17:42.371057] [<Future: finished, type: cuml.TfidfTransformer, key: _set_doc_stats-3f63d3bc-20d8-4afc-b0d1-8dd70488b5cb>]\n",
      "[I] [10:17:42.371433] [<Future: finished, type: cuml.TfidfTransformer, key: _set_doc_stats-32630619-7ddc-4d4a-b9ec-4db4b040542a>]\n",
      "[I] [10:17:42.371634] [<Future: finished, type: cuml.TfidfTransformer, key: _set_doc_stats-5c602d91-c2c9-45d6-864d-bf7f9ae8ac27>]\n",
      "[I] [10:17:42.371780] [<Future: finished, type: cuml.TfidfTransformer, key: _set_doc_stats-5a992bfd-2ee8-46ad-9fd4-29d32cc8bbf1>]\n",
      "[I] [10:17:42.372718] [Delayed('_merge_stats_to_model-a054710a-f05b-4931-a97f-bed08bd45e9d')]\n",
      "[I] [10:17:42.372986] [<Future: finished, type: cuml.TfidfTransformer, key: _set_doc_stats-6dc7c7e0-1750-41a8-8f46-cc79451da826>]\n",
      "[I] [10:17:42.373131] [<Future: finished, type: cuml.TfidfTransformer, key: _set_doc_stats-7d2070c8-e326-4f77-9bb3-12e8233cfc5b>]\n",
      "[I] [10:17:42.373829] [Delayed('_merge_stats_to_model-68393187-9913-4e3f-86a0-8f6970461792')]\n",
      "[I] [10:17:42.404597] [<Future: finished, type: cuml.TfidfTransformer, key: _set_doc_stats-3f63d3bc-20d8-4afc-b0d1-8dd70488b5cb>]\n",
      "[I] [10:17:42.404896] [<Future: finished, type: cuml.TfidfTransformer, key: _set_doc_stats-32630619-7ddc-4d4a-b9ec-4db4b040542a>]\n",
      "[I] [10:17:42.405039] [<Future: finished, type: cuml.TfidfTransformer, key: _set_doc_stats-5c602d91-c2c9-45d6-864d-bf7f9ae8ac27>]\n",
      "[I] [10:17:42.405169] [<Future: finished, type: cuml.TfidfTransformer, key: _set_doc_stats-5a992bfd-2ee8-46ad-9fd4-29d32cc8bbf1>]\n",
      "[I] [10:17:42.405293] [<Future: finished, type: cuml.TfidfTransformer, key: _merge_stats_to_model-a054710a-f05b-4931-a97f-bed08bd45e9d>]\n",
      "[I] [10:17:42.405417] [<Future: finished, type: cuml.TfidfTransformer, key: _set_doc_stats-6dc7c7e0-1750-41a8-8f46-cc79451da826>]\n",
      "[I] [10:17:42.405729] [<Future: finished, type: cuml.TfidfTransformer, key: _set_doc_stats-7d2070c8-e326-4f77-9bb3-12e8233cfc5b>]\n",
      "[I] [10:17:42.405861] [<Future: finished, type: cuml.TfidfTransformer, key: _merge_stats_to_model-68393187-9913-4e3f-86a0-8f6970461792>]\n",
      "[I] [10:17:42.415276] [Delayed('_merge_stats_to_model-3f5d0774-dbb1-4740-b14b-572a486356b4')]\n",
      "(20725971, 1048576)\n",
      "Workers:8, Sample Run:2, Finished loading data in 3105141852s\n",
      "Workers:8, Sample Run:2, Finished preprocessing data in 11390056433s\n",
      "Workers:8, Sample Run:2, Finished fitting HashVectorizer in 8885653s\n",
      "Workers:8, Sample Run:2, Finished fitting IDF Transformer in 43758349918s\n"
     ]
    },
    {
     "name": "stderr",
     "output_type": "stream",
     "text": [
      " 60%|████████████████████████████████████████████████████████████████████████████████████████████████████████▍                                                                     | 3/5 [03:52<02:33, 76.83s/it]"
     ]
    },
    {
     "name": "stdout",
     "output_type": "stream",
     "text": [
      "Workers:8, Sample Run:2, Finished executing full pipeline in 63832380294s\n"
     ]
    },
    {
     "name": "stderr",
     "output_type": "stream",
     "text": [
      "/home/nfs/anirband/anaconda3/envs/rapids-21.08/lib/python3.8/site-packages/cudf/core/column/string.py:830: UserWarning: `n` parameter is not supported when `pat` and `repl` are list-like inputs\n",
      "  warnings.warn(\n",
      "/home/nfs/anirband/anaconda3/envs/rapids-21.08/lib/python3.8/site-packages/cudf/core/column/string.py:830: UserWarning: `n` parameter is not supported when `pat` and `repl` are list-like inputs\n",
      "  warnings.warn(\n",
      "/home/nfs/anirband/anaconda3/envs/rapids-21.08/lib/python3.8/site-packages/cudf/core/column/string.py:830: UserWarning: `n` parameter is not supported when `pat` and `repl` are list-like inputs\n",
      "  warnings.warn(\n",
      "/home/nfs/anirband/anaconda3/envs/rapids-21.08/lib/python3.8/site-packages/cudf/core/column/string.py:830: UserWarning: `n` parameter is not supported when `pat` and `repl` are list-like inputs\n",
      "  warnings.warn(\n",
      "/home/nfs/anirband/anaconda3/envs/rapids-21.08/lib/python3.8/site-packages/cudf/core/column/string.py:830: UserWarning: `n` parameter is not supported when `pat` and `repl` are list-like inputs\n",
      "  warnings.warn(\n",
      "/home/nfs/anirband/anaconda3/envs/rapids-21.08/lib/python3.8/site-packages/cudf/core/column/string.py:830: UserWarning: `n` parameter is not supported when `pat` and `repl` are list-like inputs\n",
      "  warnings.warn(\n",
      "/home/nfs/anirband/anaconda3/envs/rapids-21.08/lib/python3.8/site-packages/cudf/core/column/string.py:830: UserWarning: `n` parameter is not supported when `pat` and `repl` are list-like inputs\n",
      "  warnings.warn(\n",
      "/home/nfs/anirband/anaconda3/envs/rapids-21.08/lib/python3.8/site-packages/cudf/core/column/string.py:830: UserWarning: `n` parameter is not supported when `pat` and `repl` are list-like inputs\n",
      "  warnings.warn(\n",
      "/home/nfs/anirband/anaconda3/envs/rapids-21.08/lib/python3.8/site-packages/cudf/core/column/string.py:830: UserWarning: `n` parameter is not supported when `pat` and `repl` are list-like inputs\n",
      "  warnings.warn(\n",
      "/home/nfs/anirband/anaconda3/envs/rapids-21.08/lib/python3.8/site-packages/cudf/core/column/string.py:830: UserWarning: `n` parameter is not supported when `pat` and `repl` are list-like inputs\n",
      "  warnings.warn(\n",
      "/home/nfs/anirband/anaconda3/envs/rapids-21.08/lib/python3.8/site-packages/cudf/core/column/string.py:830: UserWarning: `n` parameter is not supported when `pat` and `repl` are list-like inputs\n",
      "  warnings.warn(\n",
      "/home/nfs/anirband/anaconda3/envs/rapids-21.08/lib/python3.8/site-packages/cudf/core/column/string.py:830: UserWarning: `n` parameter is not supported when `pat` and `repl` are list-like inputs\n",
      "  warnings.warn(\n",
      "/home/nfs/anirband/anaconda3/envs/rapids-21.08/lib/python3.8/site-packages/cudf/core/column/string.py:830: UserWarning: `n` parameter is not supported when `pat` and `repl` are list-like inputs\n",
      "  warnings.warn(\n",
      "/home/nfs/anirband/anaconda3/envs/rapids-21.08/lib/python3.8/site-packages/cudf/core/column/string.py:830: UserWarning: `n` parameter is not supported when `pat` and `repl` are list-like inputs\n",
      "  warnings.warn(\n",
      "/home/nfs/anirband/anaconda3/envs/rapids-21.08/lib/python3.8/site-packages/cudf/core/column/string.py:830: UserWarning: `n` parameter is not supported when `pat` and `repl` are list-like inputs\n",
      "  warnings.warn(\n",
      "/home/nfs/anirband/anaconda3/envs/rapids-21.08/lib/python3.8/site-packages/cudf/core/column/string.py:830: UserWarning: `n` parameter is not supported when `pat` and `repl` are list-like inputs\n",
      "  warnings.warn(\n",
      "distributed.preloading - INFO - Import preload module: dask_cuda.initialize\n",
      "distributed.preloading - INFO - Import preload module: dask_cuda.initialize\n",
      "distributed.preloading - INFO - Import preload module: dask_cuda.initialize\n",
      "distributed.preloading - INFO - Import preload module: dask_cuda.initialize\n",
      "distributed.preloading - INFO - Import preload module: dask_cuda.initialize\n",
      "distributed.preloading - INFO - Import preload module: dask_cuda.initialize\n",
      "distributed.preloading - INFO - Import preload module: dask_cuda.initialize\n",
      "distributed.preloading - INFO - Import preload module: dask_cuda.initialize\n"
     ]
    },
    {
     "name": "stdout",
     "output_type": "stream",
     "text": [
      "20726160\n"
     ]
    },
    {
     "name": "stderr",
     "output_type": "stream",
     "text": [
      "/home/nfs/anirband/anaconda3/envs/rapids-21.08/lib/python3.8/site-packages/cudf/core/column/string.py:830: UserWarning: `n` parameter is not supported when `pat` and `repl` are list-like inputs\n",
      "  warnings.warn(\n"
     ]
    },
    {
     "name": "stdout",
     "output_type": "stream",
     "text": [
      "20725971\n",
      "# nnz: 0\n",
      "(nan, 0)\n",
      "[I] [10:18:57.809239] [<Future: finished, type: cuml.TfidfTransformer, key: _set_doc_stats-0dda5a77-cbd2-4aeb-af2d-665ca147fb56>]\n",
      "[I] [10:18:57.810560] [Delayed('_merge_stats_to_model-cccc561f-f77b-4487-98e9-746eaebeefa3')]\n",
      "[I] [10:18:57.810806] [<Future: finished, type: cuml.TfidfTransformer, key: _set_doc_stats-735ed3be-49f4-4668-9c60-2e3841fde0f8>]\n",
      "[I] [10:18:57.811465] [Delayed('_merge_stats_to_model-8c9e3768-b290-45f4-83b0-2b1e390df6a6')]\n",
      "[I] [10:18:57.811759] [<Future: finished, type: cuml.TfidfTransformer, key: _set_doc_stats-9d551129-d815-4c08-9f6f-62d791044a6e>]\n",
      "[I] [10:18:57.811986] [<Future: finished, type: cuml.TfidfTransformer, key: _set_doc_stats-e8b09868-7e2f-40cc-8a23-2355515effd5>]\n",
      "[I] [10:18:57.812113] [<Future: finished, type: cuml.TfidfTransformer, key: _set_doc_stats-a4aa94dc-d031-4b5e-8687-237c4c933aab>]\n",
      "[I] [10:18:57.812255] [<Future: finished, type: cuml.TfidfTransformer, key: _set_doc_stats-5f077aff-e131-4e5b-b543-19e91feaee31>]\n",
      "[I] [10:18:57.835387] [<Future: finished, type: cuml.TfidfTransformer, key: _set_doc_stats-0dda5a77-cbd2-4aeb-af2d-665ca147fb56>]\n",
      "[I] [10:18:57.835648] [<Future: finished, type: cuml.TfidfTransformer, key: _merge_stats_to_model-cccc561f-f77b-4487-98e9-746eaebeefa3>]\n",
      "[I] [10:18:57.835813] [<Future: finished, type: cuml.TfidfTransformer, key: _set_doc_stats-735ed3be-49f4-4668-9c60-2e3841fde0f8>]\n",
      "[I] [10:18:57.835996] [<Future: finished, type: cuml.TfidfTransformer, key: _merge_stats_to_model-8c9e3768-b290-45f4-83b0-2b1e390df6a6>]\n",
      "[I] [10:18:57.836141] [<Future: finished, type: cuml.TfidfTransformer, key: _set_doc_stats-9d551129-d815-4c08-9f6f-62d791044a6e>]\n",
      "[I] [10:18:57.836285] [<Future: finished, type: cuml.TfidfTransformer, key: _set_doc_stats-e8b09868-7e2f-40cc-8a23-2355515effd5>]\n",
      "[I] [10:18:57.836544] [<Future: finished, type: cuml.TfidfTransformer, key: _set_doc_stats-a4aa94dc-d031-4b5e-8687-237c4c933aab>]\n",
      "[I] [10:18:57.836673] [<Future: finished, type: cuml.TfidfTransformer, key: _set_doc_stats-5f077aff-e131-4e5b-b543-19e91feaee31>]\n",
      "[I] [10:18:57.845003] [Delayed('_merge_stats_to_model-e30ce45d-5b3a-462e-bb4d-d8b6baeff61d')]\n",
      "(20725971, 1048576)\n",
      "Workers:8, Sample Run:3, Finished loading data in 3062041866s\n",
      "Workers:8, Sample Run:3, Finished preprocessing data in 11414572861s\n",
      "Workers:8, Sample Run:3, Finished fitting HashVectorizer in 8257344s\n",
      "Workers:8, Sample Run:3, Finished fitting IDF Transformer in 43619769768s\n"
     ]
    },
    {
     "name": "stderr",
     "output_type": "stream",
     "text": [
      " 80%|███████████████████████████████████████████████████████████████████████████████████████████████████████████████████████████████████████████▏                                  | 4/5 [05:07<01:16, 76.25s/it]"
     ]
    },
    {
     "name": "stdout",
     "output_type": "stream",
     "text": [
      "Workers:8, Sample Run:3, Finished executing full pipeline in 63734186929s\n"
     ]
    },
    {
     "name": "stderr",
     "output_type": "stream",
     "text": [
      "/home/nfs/anirband/anaconda3/envs/rapids-21.08/lib/python3.8/site-packages/cudf/core/column/string.py:830: UserWarning: `n` parameter is not supported when `pat` and `repl` are list-like inputs\n",
      "  warnings.warn(\n",
      "/home/nfs/anirband/anaconda3/envs/rapids-21.08/lib/python3.8/site-packages/cudf/core/column/string.py:830: UserWarning: `n` parameter is not supported when `pat` and `repl` are list-like inputs\n",
      "  warnings.warn(\n",
      "/home/nfs/anirband/anaconda3/envs/rapids-21.08/lib/python3.8/site-packages/cudf/core/column/string.py:830: UserWarning: `n` parameter is not supported when `pat` and `repl` are list-like inputs\n",
      "  warnings.warn(\n",
      "/home/nfs/anirband/anaconda3/envs/rapids-21.08/lib/python3.8/site-packages/cudf/core/column/string.py:830: UserWarning: `n` parameter is not supported when `pat` and `repl` are list-like inputs\n",
      "  warnings.warn(\n",
      "/home/nfs/anirband/anaconda3/envs/rapids-21.08/lib/python3.8/site-packages/cudf/core/column/string.py:830: UserWarning: `n` parameter is not supported when `pat` and `repl` are list-like inputs\n",
      "  warnings.warn(\n",
      "/home/nfs/anirband/anaconda3/envs/rapids-21.08/lib/python3.8/site-packages/cudf/core/column/string.py:830: UserWarning: `n` parameter is not supported when `pat` and `repl` are list-like inputs\n",
      "  warnings.warn(\n",
      "/home/nfs/anirband/anaconda3/envs/rapids-21.08/lib/python3.8/site-packages/cudf/core/column/string.py:830: UserWarning: `n` parameter is not supported when `pat` and `repl` are list-like inputs\n",
      "  warnings.warn(\n",
      "/home/nfs/anirband/anaconda3/envs/rapids-21.08/lib/python3.8/site-packages/cudf/core/column/string.py:830: UserWarning: `n` parameter is not supported when `pat` and `repl` are list-like inputs\n",
      "  warnings.warn(\n",
      "/home/nfs/anirband/anaconda3/envs/rapids-21.08/lib/python3.8/site-packages/cudf/core/column/string.py:830: UserWarning: `n` parameter is not supported when `pat` and `repl` are list-like inputs\n",
      "  warnings.warn(\n",
      "/home/nfs/anirband/anaconda3/envs/rapids-21.08/lib/python3.8/site-packages/cudf/core/column/string.py:830: UserWarning: `n` parameter is not supported when `pat` and `repl` are list-like inputs\n",
      "  warnings.warn(\n",
      "/home/nfs/anirband/anaconda3/envs/rapids-21.08/lib/python3.8/site-packages/cudf/core/column/string.py:830: UserWarning: `n` parameter is not supported when `pat` and `repl` are list-like inputs\n",
      "  warnings.warn(\n",
      "/home/nfs/anirband/anaconda3/envs/rapids-21.08/lib/python3.8/site-packages/cudf/core/column/string.py:830: UserWarning: `n` parameter is not supported when `pat` and `repl` are list-like inputs\n",
      "  warnings.warn(\n",
      "/home/nfs/anirband/anaconda3/envs/rapids-21.08/lib/python3.8/site-packages/cudf/core/column/string.py:830: UserWarning: `n` parameter is not supported when `pat` and `repl` are list-like inputs\n",
      "  warnings.warn(\n",
      "/home/nfs/anirband/anaconda3/envs/rapids-21.08/lib/python3.8/site-packages/cudf/core/column/string.py:830: UserWarning: `n` parameter is not supported when `pat` and `repl` are list-like inputs\n",
      "  warnings.warn(\n",
      "/home/nfs/anirband/anaconda3/envs/rapids-21.08/lib/python3.8/site-packages/cudf/core/column/string.py:830: UserWarning: `n` parameter is not supported when `pat` and `repl` are list-like inputs\n",
      "  warnings.warn(\n",
      "/home/nfs/anirband/anaconda3/envs/rapids-21.08/lib/python3.8/site-packages/cudf/core/column/string.py:830: UserWarning: `n` parameter is not supported when `pat` and `repl` are list-like inputs\n",
      "  warnings.warn(\n",
      "distributed.preloading - INFO - Import preload module: dask_cuda.initialize\n",
      "distributed.preloading - INFO - Import preload module: dask_cuda.initialize\n",
      "distributed.preloading - INFO - Import preload module: dask_cuda.initialize\n",
      "distributed.preloading - INFO - Import preload module: dask_cuda.initialize\n",
      "distributed.preloading - INFO - Import preload module: dask_cuda.initialize\n",
      "distributed.preloading - INFO - Import preload module: dask_cuda.initialize\n",
      "distributed.preloading - INFO - Import preload module: dask_cuda.initialize\n",
      "/home/nfs/anirband/anaconda3/envs/rapids-21.08/lib/python3.8/contextlib.py:120: UserWarning: Creating scratch directories is taking a surprisingly long time. This is often due to running workers on a network file system. Consider specifying a local-directory to point workers to write scratch data to a local disk.\n",
      "  next(self.gen)\n",
      "distributed.preloading - INFO - Import preload module: dask_cuda.initialize\n"
     ]
    },
    {
     "name": "stdout",
     "output_type": "stream",
     "text": [
      "20726160\n"
     ]
    },
    {
     "name": "stderr",
     "output_type": "stream",
     "text": [
      "/home/nfs/anirband/anaconda3/envs/rapids-21.08/lib/python3.8/site-packages/cudf/core/column/string.py:830: UserWarning: `n` parameter is not supported when `pat` and `repl` are list-like inputs\n",
      "  warnings.warn(\n"
     ]
    },
    {
     "name": "stdout",
     "output_type": "stream",
     "text": [
      "20725971\n",
      "# nnz: 0\n",
      "(nan, 0)\n",
      "[I] [10:20:12.789887] [<Future: finished, type: cuml.TfidfTransformer, key: _set_doc_stats-bf379e9e-d953-4c16-be08-0a95acf4d2c8>]\n",
      "[I] [10:20:12.790447] [<Future: finished, type: cuml.TfidfTransformer, key: _set_doc_stats-5531912c-9076-404c-b676-08d0a912dd8e>]\n",
      "[I] [10:20:12.791291] [Delayed('_merge_stats_to_model-c02ad7b9-cea8-4b63-8f61-b1fbb28306bd')]\n",
      "[I] [10:20:12.791516] [<Future: finished, type: cuml.TfidfTransformer, key: _set_doc_stats-e6612a98-aa1b-4ac0-9e03-eef7931c304d>]\n",
      "[I] [10:20:12.791721] [<Future: finished, type: cuml.TfidfTransformer, key: _set_doc_stats-ea3c0ef0-db02-4637-9b18-27a806779c5d>]\n",
      "[I] [10:20:12.791937] [<Future: finished, type: cuml.TfidfTransformer, key: _set_doc_stats-4037d081-af4d-446e-ad49-2baf59a3a30e>]\n",
      "[I] [10:20:12.792065] [<Future: finished, type: cuml.TfidfTransformer, key: _set_doc_stats-2bc65d88-1b4a-4f69-9a02-decc370fddcb>]\n",
      "[I] [10:20:12.792762] [Delayed('_merge_stats_to_model-4e2055b5-f325-45b5-8e8d-42868110849e')]\n",
      "[I] [10:20:12.819910] [<Future: finished, type: cuml.TfidfTransformer, key: _set_doc_stats-bf379e9e-d953-4c16-be08-0a95acf4d2c8>]\n",
      "[I] [10:20:12.820243] [<Future: finished, type: cuml.TfidfTransformer, key: _set_doc_stats-5531912c-9076-404c-b676-08d0a912dd8e>]\n",
      "[I] [10:20:12.820402] [<Future: finished, type: cuml.TfidfTransformer, key: _merge_stats_to_model-c02ad7b9-cea8-4b63-8f61-b1fbb28306bd>]\n",
      "[I] [10:20:12.820532] [<Future: finished, type: cuml.TfidfTransformer, key: _set_doc_stats-e6612a98-aa1b-4ac0-9e03-eef7931c304d>]\n",
      "[I] [10:20:12.820656] [<Future: finished, type: cuml.TfidfTransformer, key: _set_doc_stats-ea3c0ef0-db02-4637-9b18-27a806779c5d>]\n",
      "[I] [10:20:12.820786] [<Future: finished, type: cuml.TfidfTransformer, key: _set_doc_stats-4037d081-af4d-446e-ad49-2baf59a3a30e>]\n",
      "[I] [10:20:12.820910] [<Future: finished, type: cuml.TfidfTransformer, key: _set_doc_stats-2bc65d88-1b4a-4f69-9a02-decc370fddcb>]\n",
      "[I] [10:20:12.821032] [<Future: finished, type: cuml.TfidfTransformer, key: _merge_stats_to_model-4e2055b5-f325-45b5-8e8d-42868110849e>]\n",
      "[I] [10:20:12.832136] [Delayed('_merge_stats_to_model-539df73f-02cc-4449-9b6b-be0eac1f18d0')]\n",
      "(20725971, 1048576)\n",
      "Workers:8, Sample Run:4, Finished loading data in 2967948865s\n",
      "Workers:8, Sample Run:4, Finished preprocessing data in 11299430605s\n",
      "Workers:8, Sample Run:4, Finished fitting HashVectorizer in 7800377s\n",
      "Workers:8, Sample Run:4, Finished fitting IDF Transformer in 43565968162s\n"
     ]
    },
    {
     "name": "stderr",
     "output_type": "stream",
     "text": [
      "100%|██████████████████████████████████████████████████████████████████████████████████████████████████████████████████████████████████████████████████████████████████████████████| 5/5 [06:22<00:00, 76.47s/it]"
     ]
    },
    {
     "name": "stdout",
     "output_type": "stream",
     "text": [
      "Workers:8, Sample Run:4, Finished executing full pipeline in 63520376470s\n",
      "CPU times: user 1min 32s, sys: 24.7 s, total: 1min 57s\n",
      "Wall time: 37min 56s\n"
     ]
    },
    {
     "name": "stderr",
     "output_type": "stream",
     "text": [
      "\n"
     ]
    }
   ],
   "source": [
    "%%time\n",
    "performance_numbers(client, parquet_path=parquet_path, worker_counts=worker_counts, samples=samples, result_path=result_path, persist_flag=False)"
   ]
  },
  {
   "cell_type": "code",
   "execution_count": 15,
   "id": "5a9ebbdb-002a-41c7-aa6e-4ad3c3fa45f9",
   "metadata": {},
   "outputs": [
    {
     "data": {
      "image/png": "[encoded data removed]",
      "text/plain": [
       "<Figure size 1200x800 with 1 Axes>"
      ]
     },
     "metadata": {},
     "output_type": "display_data"
    }
   ],
   "source": [
    "data, melt_data = visualize_data(result_path)        "
   ]
  },
  {
   "cell_type": "code",
   "execution_count": 16,
   "id": "7cf2bf60-f3d2-4027-9417-8dcc15249c8d",
   "metadata": {},
   "outputs": [],
   "source": [
    "groupy = data.groupby(\"n_workers\").agg(['mean', 'std', 'count'])"
   ]
  },
  {
   "cell_type": "code",
   "execution_count": 17,
   "id": "0fce3774-81dd-4029-b8d5-63a1707f006b",
   "metadata": {},
   "outputs": [
    {
     "data": {
      "text/html": [
       "<div>\n",
       "<style scoped>\n",
       "    .dataframe tbody tr th:only-of-type {\n",
       "        vertical-align: middle;\n",
       "    }\n",
       "\n",
       "    .dataframe tbody tr th {\n",
       "        vertical-align: top;\n",
       "    }\n",
       "\n",
       "    .dataframe thead tr th {\n",
       "        text-align: left;\n",
       "    }\n",
       "\n",
       "    .dataframe thead tr:last-of-type th {\n",
       "        text-align: right;\n",
       "    }\n",
       "</style>\n",
       "<table border=\"1\" class=\"dataframe\">\n",
       "  <thead>\n",
       "    <tr>\n",
       "      <th></th>\n",
       "      <th colspan=\"3\" halign=\"left\">sample_run</th>\n",
       "      <th colspan=\"3\" halign=\"left\">overall</th>\n",
       "      <th colspan=\"3\" halign=\"left\">data_read</th>\n",
       "      <th colspan=\"3\" halign=\"left\">data_preprocessing</th>\n",
       "      <th colspan=\"3\" halign=\"left\">hashing_vectorizer</th>\n",
       "      <th colspan=\"3\" halign=\"left\">tfidf_transformer</th>\n",
       "      <th colspan=\"3\" halign=\"left\">nrows</th>\n",
       "    </tr>\n",
       "    <tr>\n",
       "      <th></th>\n",
       "      <th>mean</th>\n",
       "      <th>std</th>\n",
       "      <th>count</th>\n",
       "      <th>mean</th>\n",
       "      <th>std</th>\n",
       "      <th>count</th>\n",
       "      <th>mean</th>\n",
       "      <th>std</th>\n",
       "      <th>count</th>\n",
       "      <th>mean</th>\n",
       "      <th>...</th>\n",
       "      <th>count</th>\n",
       "      <th>mean</th>\n",
       "      <th>std</th>\n",
       "      <th>count</th>\n",
       "      <th>mean</th>\n",
       "      <th>std</th>\n",
       "      <th>count</th>\n",
       "      <th>mean</th>\n",
       "      <th>std</th>\n",
       "      <th>count</th>\n",
       "    </tr>\n",
       "    <tr>\n",
       "      <th>n_workers</th>\n",
       "      <th></th>\n",
       "      <th></th>\n",
       "      <th></th>\n",
       "      <th></th>\n",
       "      <th></th>\n",
       "      <th></th>\n",
       "      <th></th>\n",
       "      <th></th>\n",
       "      <th></th>\n",
       "      <th></th>\n",
       "      <th></th>\n",
       "      <th></th>\n",
       "      <th></th>\n",
       "      <th></th>\n",
       "      <th></th>\n",
       "      <th></th>\n",
       "      <th></th>\n",
       "      <th></th>\n",
       "      <th></th>\n",
       "      <th></th>\n",
       "      <th></th>\n",
       "    </tr>\n",
       "  </thead>\n",
       "  <tbody>\n",
       "    <tr>\n",
       "      <th>2</th>\n",
       "      <td>2</td>\n",
       "      <td>1.581139</td>\n",
       "      <td>5</td>\n",
       "      <td>150.970340</td>\n",
       "      <td>11.075215</td>\n",
       "      <td>5</td>\n",
       "      <td>4.312372</td>\n",
       "      <td>0.578269</td>\n",
       "      <td>5</td>\n",
       "      <td>30.708326</td>\n",
       "      <td>...</td>\n",
       "      <td>5</td>\n",
       "      <td>0.062932</td>\n",
       "      <td>0.113119</td>\n",
       "      <td>5</td>\n",
       "      <td>112.569838</td>\n",
       "      <td>8.079939</td>\n",
       "      <td>5</td>\n",
       "      <td>20725971</td>\n",
       "      <td>0.0</td>\n",
       "      <td>5</td>\n",
       "    </tr>\n",
       "    <tr>\n",
       "      <th>4</th>\n",
       "      <td>2</td>\n",
       "      <td>1.581139</td>\n",
       "      <td>5</td>\n",
       "      <td>90.875971</td>\n",
       "      <td>2.762915</td>\n",
       "      <td>5</td>\n",
       "      <td>3.843371</td>\n",
       "      <td>0.975585</td>\n",
       "      <td>5</td>\n",
       "      <td>18.361575</td>\n",
       "      <td>...</td>\n",
       "      <td>5</td>\n",
       "      <td>0.010076</td>\n",
       "      <td>0.003225</td>\n",
       "      <td>5</td>\n",
       "      <td>63.446166</td>\n",
       "      <td>0.934239</td>\n",
       "      <td>5</td>\n",
       "      <td>20725971</td>\n",
       "      <td>0.0</td>\n",
       "      <td>5</td>\n",
       "    </tr>\n",
       "    <tr>\n",
       "      <th>6</th>\n",
       "      <td>2</td>\n",
       "      <td>1.581139</td>\n",
       "      <td>5</td>\n",
       "      <td>68.213638</td>\n",
       "      <td>6.669457</td>\n",
       "      <td>5</td>\n",
       "      <td>3.010626</td>\n",
       "      <td>0.068762</td>\n",
       "      <td>5</td>\n",
       "      <td>12.666525</td>\n",
       "      <td>...</td>\n",
       "      <td>5</td>\n",
       "      <td>0.008308</td>\n",
       "      <td>0.001107</td>\n",
       "      <td>5</td>\n",
       "      <td>47.881598</td>\n",
       "      <td>7.196582</td>\n",
       "      <td>5</td>\n",
       "      <td>20725971</td>\n",
       "      <td>0.0</td>\n",
       "      <td>5</td>\n",
       "    </tr>\n",
       "    <tr>\n",
       "      <th>8</th>\n",
       "      <td>2</td>\n",
       "      <td>1.581139</td>\n",
       "      <td>5</td>\n",
       "      <td>64.506038</td>\n",
       "      <td>1.116006</td>\n",
       "      <td>5</td>\n",
       "      <td>3.066152</td>\n",
       "      <td>0.073139</td>\n",
       "      <td>5</td>\n",
       "      <td>11.387442</td>\n",
       "      <td>...</td>\n",
       "      <td>5</td>\n",
       "      <td>0.008243</td>\n",
       "      <td>0.001027</td>\n",
       "      <td>5</td>\n",
       "      <td>44.209946</td>\n",
       "      <td>1.187079</td>\n",
       "      <td>5</td>\n",
       "      <td>20725971</td>\n",
       "      <td>0.0</td>\n",
       "      <td>5</td>\n",
       "    </tr>\n",
       "  </tbody>\n",
       "</table>\n",
       "<p>4 rows × 21 columns</p>\n",
       "</div>"
      ],
      "text/plain": [
       "          sample_run                     overall                  data_read  \\\n",
       "                mean       std count        mean        std count      mean   \n",
       "n_workers                                                                     \n",
       "2                  2  1.581139     5  150.970340  11.075215     5  4.312372   \n",
       "4                  2  1.581139     5   90.875971   2.762915     5  3.843371   \n",
       "6                  2  1.581139     5   68.213638   6.669457     5  3.010626   \n",
       "8                  2  1.581139     5   64.506038   1.116006     5  3.066152   \n",
       "\n",
       "                          data_preprocessing  ...       hashing_vectorizer  \\\n",
       "                std count               mean  ... count               mean   \n",
       "n_workers                                     ...                            \n",
       "2          0.578269     5          30.708326  ...     5           0.062932   \n",
       "4          0.975585     5          18.361575  ...     5           0.010076   \n",
       "6          0.068762     5          12.666525  ...     5           0.008308   \n",
       "8          0.073139     5          11.387442  ...     5           0.008243   \n",
       "\n",
       "                          tfidf_transformer                     nrows       \\\n",
       "                std count              mean       std count      mean  std   \n",
       "n_workers                                                                    \n",
       "2          0.113119     5        112.569838  8.079939     5  20725971  0.0   \n",
       "4          0.003225     5         63.446166  0.934239     5  20725971  0.0   \n",
       "6          0.001107     5         47.881598  7.196582     5  20725971  0.0   \n",
       "8          0.001027     5         44.209946  1.187079     5  20725971  0.0   \n",
       "\n",
       "                 \n",
       "          count  \n",
       "n_workers        \n",
       "2             5  \n",
       "4             5  \n",
       "6             5  \n",
       "8             5  \n",
       "\n",
       "[4 rows x 21 columns]"
      ]
     },
     "execution_count": 17,
     "metadata": {},
     "output_type": "execute_result"
    }
   ],
   "source": [
    "groupy"
   ]
  },
  {
   "cell_type": "code",
   "execution_count": 18,
   "id": "aec87629-1843-4b99-97d3-c33baea7dcc4",
   "metadata": {},
   "outputs": [
    {
     "name": "stderr",
     "output_type": "stream",
     "text": [
      "/home/nfs/anirband/anaconda3/envs/rapids-21.08/lib/python3.8/site-packages/cudf/core/column/string.py:830: UserWarning: `n` parameter is not supported when `pat` and `repl` are list-like inputs\n",
      "  warnings.warn(\n",
      "/home/nfs/anirband/anaconda3/envs/rapids-21.08/lib/python3.8/site-packages/cudf/core/column/string.py:830: UserWarning: `n` parameter is not supported when `pat` and `repl` are list-like inputs\n",
      "  warnings.warn(\n",
      "/home/nfs/anirband/anaconda3/envs/rapids-21.08/lib/python3.8/site-packages/cudf/core/column/string.py:830: UserWarning: `n` parameter is not supported when `pat` and `repl` are list-like inputs\n",
      "  warnings.warn(\n",
      "/home/nfs/anirband/anaconda3/envs/rapids-21.08/lib/python3.8/site-packages/cudf/core/column/string.py:830: UserWarning: `n` parameter is not supported when `pat` and `repl` are list-like inputs\n",
      "  warnings.warn(\n",
      "/home/nfs/anirband/anaconda3/envs/rapids-21.08/lib/python3.8/site-packages/cudf/core/column/string.py:830: UserWarning: `n` parameter is not supported when `pat` and `repl` are list-like inputs\n",
      "  warnings.warn(\n",
      "/home/nfs/anirband/anaconda3/envs/rapids-21.08/lib/python3.8/site-packages/cudf/core/column/string.py:830: UserWarning: `n` parameter is not supported when `pat` and `repl` are list-like inputs\n",
      "  warnings.warn(\n",
      "/home/nfs/anirband/anaconda3/envs/rapids-21.08/lib/python3.8/site-packages/cudf/core/column/string.py:830: UserWarning: `n` parameter is not supported when `pat` and `repl` are list-like inputs\n",
      "  warnings.warn(\n",
      "/home/nfs/anirband/anaconda3/envs/rapids-21.08/lib/python3.8/site-packages/cudf/core/column/string.py:830: UserWarning: `n` parameter is not supported when `pat` and `repl` are list-like inputs\n",
      "  warnings.warn(\n",
      "/home/nfs/anirband/anaconda3/envs/rapids-21.08/lib/python3.8/site-packages/cudf/core/column/string.py:830: UserWarning: `n` parameter is not supported when `pat` and `repl` are list-like inputs\n",
      "  warnings.warn(\n",
      "/home/nfs/anirband/anaconda3/envs/rapids-21.08/lib/python3.8/site-packages/cudf/core/column/string.py:830: UserWarning: `n` parameter is not supported when `pat` and `repl` are list-like inputs\n",
      "  warnings.warn(\n",
      "/home/nfs/anirband/anaconda3/envs/rapids-21.08/lib/python3.8/site-packages/cudf/core/column/string.py:830: UserWarning: `n` parameter is not supported when `pat` and `repl` are list-like inputs\n",
      "  warnings.warn(\n",
      "/home/nfs/anirband/anaconda3/envs/rapids-21.08/lib/python3.8/site-packages/cudf/core/column/string.py:830: UserWarning: `n` parameter is not supported when `pat` and `repl` are list-like inputs\n",
      "  warnings.warn(\n",
      "/home/nfs/anirband/anaconda3/envs/rapids-21.08/lib/python3.8/site-packages/cudf/core/column/string.py:830: UserWarning: `n` parameter is not supported when `pat` and `repl` are list-like inputs\n",
      "  warnings.warn(\n",
      "/home/nfs/anirband/anaconda3/envs/rapids-21.08/lib/python3.8/site-packages/cudf/core/column/string.py:830: UserWarning: `n` parameter is not supported when `pat` and `repl` are list-like inputs\n",
      "  warnings.warn(\n",
      "/home/nfs/anirband/anaconda3/envs/rapids-21.08/lib/python3.8/site-packages/cudf/core/column/string.py:830: UserWarning: `n` parameter is not supported when `pat` and `repl` are list-like inputs\n",
      "  warnings.warn(\n",
      "/home/nfs/anirband/anaconda3/envs/rapids-21.08/lib/python3.8/site-packages/cudf/core/column/string.py:830: UserWarning: `n` parameter is not supported when `pat` and `repl` are list-like inputs\n",
      "  warnings.warn(\n"
     ]
    }
   ],
   "source": [
    "client.close()\n",
    "cluster.close()"
   ]
  },
  {
   "cell_type": "code",
   "execution_count": null,
   "id": "c0aaf469-a21b-427d-bd58-6306531ab9c0",
   "metadata": {},
   "outputs": [],
   "source": []
  }
 ],
 "metadata": {
  "kernelspec": {
   "display_name": "Python 3 (ipykernel)",
   "language": "python",
   "name": "python3"
  },
  "language_info": {
   "codemirror_mode": {
    "name": "ipython",
    "version": 3
   },
   "file_extension": ".py",
   "mimetype": "text/x-python",
   "name": "python",
   "nbconvert_exporter": "python",
   "pygments_lexer": "ipython3",
   "version": "3.8.10"
  }
 },
 "nbformat": 4,
 "nbformat_minor": 5
}
