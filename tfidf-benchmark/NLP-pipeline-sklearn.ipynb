{
 "cells": [
  {
   "cell_type": "code",
   "execution_count": 1,
   "id": "639f8a3c-70da-4dd3-8e2e-655452dfa306",
   "metadata": {},
   "outputs": [],
   "source": [
    "%matplotlib inline\n",
    "import numpy as np\n",
    "from sklearn.feature_extraction.text import HashingVectorizer\n",
    "from sklearn.feature_extraction.text import TfidfTransformer\n",
    "from sklearn.feature_extraction.text import TfidfVectorizer\n",
    "from timeit import default_timer as timer\n",
    "import time\n",
    "import pickle\n",
    "from tqdm import tqdm\n",
    "import pandas as pd\n",
    "import nltk\n",
    "import seaborn as sns\n",
    "import matplotlib.pyplot as plt"
   ]
  },
  {
   "cell_type": "code",
   "execution_count": 2,
   "id": "4c655662-8a6d-4b8a-befa-65ee3e5a329f",
   "metadata": {},
   "outputs": [],
   "source": [
    "class SimpleTimer:\n",
    "    def __init__(self):\n",
    "        self.start = None\n",
    "        self.end = None\n",
    "        self.elapsed = None\n",
    "\n",
    "    def __enter__(self):\n",
    "        self.start = time.perf_counter_ns()\n",
    "        return self\n",
    "\n",
    "    def __exit__(self, exc_type, exc_val, exc_tb):\n",
    "        self.end = time.perf_counter_ns()\n",
    "        self.elapsed = self.end - self.start\n",
    "        \n",
    "def visualize_data(path):\n",
    "\n",
    "    data = pickle.load(open(path, \"rb\"))\n",
    "    df_list = [[\"n_workers\", \"sample_run\", \"overall\", \"data_read\", \"data_preprocessing\", \"hashing_vectorizer\", \"tfidf_transformer\", \"nrows\"]]\n",
    "    for n_workers in data:\n",
    "        temp_data = data[n_workers]\n",
    "        if isinstance(temp_data, float):\n",
    "            continue\n",
    "        results = temp_data[\"sample_run_results\"]\n",
    "        for sample_run in range(len(results)):\n",
    "            timings = results[sample_run]\n",
    "            df_list.append([n_workers, sample_run, timings[\"overall\"]/1e9, \n",
    "                           timings[\"data_read\"]/1e9, timings[\"data_preprocessing\"]/1e9,timings[\"hashing_vectorizer\"]/1e9, \n",
    "                           timings[\"tfidf_transformer\"]/1e9, timings[\"nrows\"]])\n",
    "    \n",
    "    perf_df = pd.DataFrame(df_list[1:], columns=df_list[0])\n",
    "    fig=plt.figure(figsize=(12,8), dpi= 100, facecolor='w', edgecolor='k')\n",
    "    dd = pd.melt(perf_df, \n",
    "                 id_vars=['n_workers'],\n",
    "                 value_vars=['overall','data_read', 'data_preprocessing', 'hashing_vectorizer','tfidf_transformer'],\n",
    "                 var_name='latency')\n",
    "    sns.boxplot(x='latency',y='value',data=dd, orient=\"v\")\n",
    "    plt.show()\n",
    "    return perf_df, dd "
   ]
  },
  {
   "cell_type": "code",
   "execution_count": 3,
   "id": "7ecaf6e6-b719-4a57-8c6a-426f30212c23",
   "metadata": {},
   "outputs": [
    {
     "name": "stderr",
     "output_type": "stream",
     "text": [
      "[nltk_data] Downloading package stopwords to /root/nltk_data...\n",
      "[nltk_data]   Package stopwords is already up-to-date!\n"
     ]
    }
   ],
   "source": [
    "nltk.download('stopwords')\n",
    "STOPWORDS = nltk.corpus.stopwords.words('english')\n",
    "PUNCTUATIONS = [ '!', '\"', '#', '$', '%', '&', '(', ')', '*', '+', '-', '.', '/',  '\\\\', ':', ';', '<', '=', '>',\n",
    "           '?', '@', '[', ']', '^', '_', '`', '{', '|', '}', '\\t','\\n',\"'\",\",\",'~' , '—']"
   ]
  },
  {
   "cell_type": "code",
   "execution_count": 4,
   "id": "41316782-0c62-48ad-960d-470d4e4ecd25",
   "metadata": {},
   "outputs": [],
   "source": [
    "def performance_numbers(parquet_path, worker_counts=[1], samples=1, data_frac=0.2, result_path=\"./results.pkl\", \n",
    "                        seed=42, model_args={}, model_kwargs={}):\n",
    "    \"\"\"\n",
    "    Main function to perform the performance sweep\n",
    "    \"\"\"\n",
    "    data_frac = min(1.0, data_frac)\n",
    "    overall_perf_result = {\"data_fraction\": data_frac}\n",
    "    \n",
    "    for n in worker_counts: \n",
    "        overall_perf_result[n]={\"sample_run_results\": []}\n",
    "        \n",
    "        for i in tqdm(range(samples)): \n",
    "            sample_record = {\"overall\":0, \"data_read\":0, \"hashing_vectorizer\":0, \"tfid_transformer\":0, \"data_preprocessing\":0, \"nrows\":0}\n",
    "            with SimpleTimer() as overalltimer:\n",
    "                with SimpleTimer() as timer:\n",
    "                    data = pd.read_parquet(parquet_path).sample(frac=data_frac, random_state=seed)\n",
    "                sample_record[\"data_read\"]=timer.elapsed\n",
    "                print(f\"Workers:{n}, Sample Run:{i}, Finished loading data in {timer.elapsed}s\")\n",
    "                \n",
    "                with SimpleTimer() as timer:\n",
    "                    data = data[data['review_body'].notna()]\n",
    "                    # from https://stackoverflow.com/questions/50444346/fast-punctuation-removal-with-pandas\n",
    "                    transtable = str.maketrans(dict.fromkeys(\"\".join(PUNCTUATIONS), ''))\n",
    "                    data['review_body'] = (data['review_body'].str.lower()\n",
    "                                           .str.translate(transtable)\n",
    "                                           .str.strip())\n",
    "                    data['review_body'] = data['review_body'].apply(lambda x: ' '.join([word for word in x.split() if word not in STOPWORDS]))                    \n",
    "                sample_record[\"data_preprocessing\"]=timer.elapsed\n",
    "                print(f\"Workers:{n}, Sample Run:{i}, Finished preprocessing data in {timer.elapsed}s\")\n",
    "                \n",
    "                with SimpleTimer() as timer:\n",
    "                    vectorizer = HashingVectorizer(stop_words='english', preprocessor=None)\n",
    "                    # Meta is an empty dataframe matches the dtypes and columns of the output\n",
    "                    hashed_count_vector = vectorizer.fit_transform(data[\"review_body\"])\n",
    "                sample_record[\"hashing_vectorizer\"]=timer.elapsed\n",
    "                print(f\"Workers:{n}, Sample Run:{i}, Finished fitting HashVectorizer in {timer.elapsed}s\")\n",
    "                \n",
    "                with SimpleTimer() as timer:\n",
    "                    transformer = TfidfTransformer()\n",
    "                    # Meta is an empty dataframe matches the dtypes and columns of the output\n",
    "                    X_transformed = vectorizer.fit_transform(data[\"review_body\"])\n",
    "                sample_record[\"tfidf_transformer\"]=timer.elapsed\n",
    "                print(f\"Workers:{n}, Sample Run:{i}, Finished fitting TfIDTransformer in {timer.elapsed}s\")\n",
    "                \n",
    "            sample_record[\"overall\"]=overalltimer.elapsed\n",
    "            sample_record[\"nrows\"]=data.shape[0]\n",
    "            print(f\"Workers:{n}, Sample Run:{i}, Finished transforming using TFIDFTransformer in {overalltimer.elapsed}s\")\n",
    "            overall_perf_result[n][\"sample_run_results\"].append(sample_record)\n",
    "    \n",
    "    with open(result_path, \"wb\") as file:\n",
    "        pickle.dump(overall_perf_result, file)\n",
    "    "
   ]
  },
  {
   "cell_type": "code",
   "execution_count": 5,
   "id": "d6d27907-94d5-414a-93ae-0997a887ff44",
   "metadata": {},
   "outputs": [],
   "source": [
    "dataset = \"PC\"\n",
    "parquet_path = f'./data/product_category={dataset}'\n",
    "model_kwargs = {\"text_preprocessor\":text_preprocessor}\n",
    "samples = 2\n",
    "worker_counts = [1]\n",
    "result_path = f\"./results/result_poc_nlp_sklearn_{dataset}.pkl\""
   ]
  },
  {
   "cell_type": "code",
   "execution_count": 6,
   "id": "4da2c546-c633-4f77-9220-e0067add959c",
   "metadata": {},
   "outputs": [
    {
     "name": "stderr",
     "output_type": "stream",
     "text": [
      "  0%|          | 0/2 [00:00<?, ?it/s]"
     ]
    },
    {
     "name": "stdout",
     "output_type": "stream",
     "text": [
      "Workers:1, Sample Run:0, Finished loading data in 28855931317s\n",
      "Workers:1, Sample Run:0, Finished preprocessing data in 915214701007s\n",
      "Workers:1, Sample Run:0, Finished fitting HashVectorizer in 229313526172s\n"
     ]
    },
    {
     "name": "stderr",
     "output_type": "stream",
     "text": [
      " 50%|█████     | 1/2 [23:22<23:22, 1402.37s/it]"
     ]
    },
    {
     "name": "stdout",
     "output_type": "stream",
     "text": [
      "Workers:1, Sample Run:0, Finished fitting TfIDTransformer in 228985160575s\n",
      "Workers:1, Sample Run:0, Finished transforming using TFIDFTransformer in 1402370560300s\n",
      "Workers:1, Sample Run:1, Finished loading data in 30258611978s\n",
      "Workers:1, Sample Run:1, Finished preprocessing data in 915128577353s\n",
      "Workers:1, Sample Run:1, Finished fitting HashVectorizer in 227142814261s\n"
     ]
    },
    {
     "name": "stderr",
     "output_type": "stream",
     "text": [
      "100%|██████████| 2/2 [46:42<00:00, 1401.31s/it]"
     ]
    },
    {
     "name": "stdout",
     "output_type": "stream",
     "text": [
      "Workers:1, Sample Run:1, Finished fitting TfIDTransformer in 227721500006s\n",
      "Workers:1, Sample Run:1, Finished transforming using TFIDFTransformer in 1400252504572s\n",
      "CPU times: user 46min 14s, sys: 1min 1s, total: 47min 16s\n",
      "Wall time: 46min 42s\n"
     ]
    },
    {
     "name": "stderr",
     "output_type": "stream",
     "text": [
      "\n"
     ]
    }
   ],
   "source": [
    "%%time\n",
    "performance_numbers(parquet_path=parquet_path, worker_counts=worker_counts, samples=samples, data_frac=1, result_path=result_path, \n",
    "                        seed=42, model_args={}, model_kwargs=model_kwargs)"
   ]
  },
  {
   "cell_type": "code",
   "execution_count": 7,
   "id": "3bd627f9-0878-4296-bf73-151ec1b1bec3",
   "metadata": {},
   "outputs": [
    {
     "data": {
      "image/png": "[encoded data removed]",
      "text/plain": [
       "<Figure size 1200x800 with 1 Axes>"
      ]
     },
     "metadata": {},
     "output_type": "display_data"
    }
   ],
   "source": [
    "data, melt_data = visualize_data(result_path)    "
   ]
  },
  {
   "cell_type": "code",
   "execution_count": 8,
   "id": "3464bc13-4855-496e-8be8-235b028ca673",
   "metadata": {},
   "outputs": [
    {
     "data": {
      "text/html": [
       "<div>\n",
       "<style scoped>\n",
       "    .dataframe tbody tr th:only-of-type {\n",
       "        vertical-align: middle;\n",
       "    }\n",
       "\n",
       "    .dataframe tbody tr th {\n",
       "        vertical-align: top;\n",
       "    }\n",
       "\n",
       "    .dataframe thead th {\n",
       "        text-align: right;\n",
       "    }\n",
       "</style>\n",
       "<table border=\"1\" class=\"dataframe\">\n",
       "  <thead>\n",
       "    <tr style=\"text-align: right;\">\n",
       "      <th></th>\n",
       "      <th>n_workers</th>\n",
       "      <th>sample_run</th>\n",
       "      <th>overall</th>\n",
       "      <th>data_read</th>\n",
       "      <th>data_preprocessing</th>\n",
       "      <th>hashing_vectorizer</th>\n",
       "      <th>tfidf_transformer</th>\n",
       "      <th>nrows</th>\n",
       "    </tr>\n",
       "  </thead>\n",
       "  <tbody>\n",
       "    <tr>\n",
       "      <th>0</th>\n",
       "      <td>1</td>\n",
       "      <td>0</td>\n",
       "      <td>1402.370560</td>\n",
       "      <td>28.855931</td>\n",
       "      <td>915.214701</td>\n",
       "      <td>229.313526</td>\n",
       "      <td>228.985161</td>\n",
       "      <td>7004147</td>\n",
       "    </tr>\n",
       "    <tr>\n",
       "      <th>1</th>\n",
       "      <td>1</td>\n",
       "      <td>1</td>\n",
       "      <td>1400.252505</td>\n",
       "      <td>30.258612</td>\n",
       "      <td>915.128577</td>\n",
       "      <td>227.142814</td>\n",
       "      <td>227.721500</td>\n",
       "      <td>7004147</td>\n",
       "    </tr>\n",
       "  </tbody>\n",
       "</table>\n",
       "</div>"
      ],
      "text/plain": [
       "   n_workers  sample_run      overall  data_read  data_preprocessing  \\\n",
       "0          1           0  1402.370560  28.855931          915.214701   \n",
       "1          1           1  1400.252505  30.258612          915.128577   \n",
       "\n",
       "   hashing_vectorizer  tfidf_transformer    nrows  \n",
       "0          229.313526         228.985161  7004147  \n",
       "1          227.142814         227.721500  7004147  "
      ]
     },
     "execution_count": 8,
     "metadata": {},
     "output_type": "execute_result"
    }
   ],
   "source": [
    "data"
   ]
  },
  {
   "cell_type": "code",
   "execution_count": 9,
   "id": "36dc1a20-d436-4362-af91-75d4b6e829b4",
   "metadata": {},
   "outputs": [],
   "source": [
    "groupy = data.groupby(\"n_workers\").agg(['mean', 'std', 'count'])"
   ]
  },
  {
   "cell_type": "code",
   "execution_count": 10,
   "id": "c0ac4d3f-5d2f-4941-a984-adad8d15edb8",
   "metadata": {},
   "outputs": [
    {
     "data": {
      "text/html": [
       "<div>\n",
       "<style scoped>\n",
       "    .dataframe tbody tr th:only-of-type {\n",
       "        vertical-align: middle;\n",
       "    }\n",
       "\n",
       "    .dataframe tbody tr th {\n",
       "        vertical-align: top;\n",
       "    }\n",
       "\n",
       "    .dataframe thead tr th {\n",
       "        text-align: left;\n",
       "    }\n",
       "\n",
       "    .dataframe thead tr:last-of-type th {\n",
       "        text-align: right;\n",
       "    }\n",
       "</style>\n",
       "<table border=\"1\" class=\"dataframe\">\n",
       "  <thead>\n",
       "    <tr>\n",
       "      <th></th>\n",
       "      <th colspan=\"3\" halign=\"left\">sample_run</th>\n",
       "      <th colspan=\"3\" halign=\"left\">overall</th>\n",
       "      <th colspan=\"3\" halign=\"left\">data_read</th>\n",
       "      <th colspan=\"3\" halign=\"left\">data_preprocessing</th>\n",
       "      <th colspan=\"3\" halign=\"left\">hashing_vectorizer</th>\n",
       "      <th colspan=\"3\" halign=\"left\">tfidf_transformer</th>\n",
       "      <th colspan=\"3\" halign=\"left\">nrows</th>\n",
       "    </tr>\n",
       "    <tr>\n",
       "      <th></th>\n",
       "      <th>mean</th>\n",
       "      <th>std</th>\n",
       "      <th>count</th>\n",
       "      <th>mean</th>\n",
       "      <th>std</th>\n",
       "      <th>count</th>\n",
       "      <th>mean</th>\n",
       "      <th>std</th>\n",
       "      <th>count</th>\n",
       "      <th>mean</th>\n",
       "      <th>...</th>\n",
       "      <th>count</th>\n",
       "      <th>mean</th>\n",
       "      <th>std</th>\n",
       "      <th>count</th>\n",
       "      <th>mean</th>\n",
       "      <th>std</th>\n",
       "      <th>count</th>\n",
       "      <th>mean</th>\n",
       "      <th>std</th>\n",
       "      <th>count</th>\n",
       "    </tr>\n",
       "    <tr>\n",
       "      <th>n_workers</th>\n",
       "      <th></th>\n",
       "      <th></th>\n",
       "      <th></th>\n",
       "      <th></th>\n",
       "      <th></th>\n",
       "      <th></th>\n",
       "      <th></th>\n",
       "      <th></th>\n",
       "      <th></th>\n",
       "      <th></th>\n",
       "      <th></th>\n",
       "      <th></th>\n",
       "      <th></th>\n",
       "      <th></th>\n",
       "      <th></th>\n",
       "      <th></th>\n",
       "      <th></th>\n",
       "      <th></th>\n",
       "      <th></th>\n",
       "      <th></th>\n",
       "      <th></th>\n",
       "    </tr>\n",
       "  </thead>\n",
       "  <tbody>\n",
       "    <tr>\n",
       "      <th>1</th>\n",
       "      <td>0.5</td>\n",
       "      <td>0.707107</td>\n",
       "      <td>2</td>\n",
       "      <td>1401.311532</td>\n",
       "      <td>1.497692</td>\n",
       "      <td>2</td>\n",
       "      <td>29.557272</td>\n",
       "      <td>0.991845</td>\n",
       "      <td>2</td>\n",
       "      <td>915.171639</td>\n",
       "      <td>...</td>\n",
       "      <td>2</td>\n",
       "      <td>228.22817</td>\n",
       "      <td>1.534925</td>\n",
       "      <td>2</td>\n",
       "      <td>228.35333</td>\n",
       "      <td>0.893543</td>\n",
       "      <td>2</td>\n",
       "      <td>7004147</td>\n",
       "      <td>0.0</td>\n",
       "      <td>2</td>\n",
       "    </tr>\n",
       "  </tbody>\n",
       "</table>\n",
       "<p>1 rows × 21 columns</p>\n",
       "</div>"
      ],
      "text/plain": [
       "          sample_run                      overall                  data_read  \\\n",
       "                mean       std count         mean       std count       mean   \n",
       "n_workers                                                                      \n",
       "1                0.5  0.707107     2  1401.311532  1.497692     2  29.557272   \n",
       "\n",
       "                          data_preprocessing  ...       hashing_vectorizer  \\\n",
       "                std count               mean  ... count               mean   \n",
       "n_workers                                     ...                            \n",
       "1          0.991845     2         915.171639  ...     2          228.22817   \n",
       "\n",
       "                          tfidf_transformer                    nrows       \\\n",
       "                std count              mean       std count     mean  std   \n",
       "n_workers                                                                   \n",
       "1          1.534925     2         228.35333  0.893543     2  7004147  0.0   \n",
       "\n",
       "                 \n",
       "          count  \n",
       "n_workers        \n",
       "1             2  \n",
       "\n",
       "[1 rows x 21 columns]"
      ]
     },
     "execution_count": 10,
     "metadata": {},
     "output_type": "execute_result"
    }
   ],
   "source": [
    "groupy"
   ]
  },
  {
   "cell_type": "code",
   "execution_count": null,
   "id": "7a9ba637-c98f-4010-af57-175c4db6309f",
   "metadata": {},
   "outputs": [],
   "source": []
  }
 ],
 "metadata": {
  "kernelspec": {
   "display_name": "Python 3",
   "language": "python",
   "name": "python3"
  },
  "language_info": {
   "codemirror_mode": {
    "name": "ipython",
    "version": 3
   },
   "file_extension": ".py",
   "mimetype": "text/x-python",
   "name": "python",
   "nbconvert_exporter": "python",
   "pygments_lexer": "ipython3",
   "version": "3.8.10"
  }
 },
 "nbformat": 4,
 "nbformat_minor": 5
}
