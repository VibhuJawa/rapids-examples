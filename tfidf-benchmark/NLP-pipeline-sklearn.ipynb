{
 "cells": [
  {
   "cell_type": "code",
   "execution_count": 1,
   "id": "639f8a3c-70da-4dd3-8e2e-655452dfa306",
   "metadata": {},
   "outputs": [],
   "source": [
    "%matplotlib inline\n",
    "import numpy as np\n",
    "from sklearn.feature_extraction.text import HashingVectorizer\n",
    "from sklearn.feature_extraction.text import TfidfTransformer\n",
    "from sklearn.feature_extraction.text import TfidfVectorizer\n",
    "from timeit import default_timer as timer\n",
    "import time\n",
    "import pickle\n",
    "from tqdm import tqdm\n",
    "import pandas as pd\n",
    "import nltk\n",
    "import seaborn as sns\n",
    "import matplotlib.pyplot as plt"
   ]
  },
  {
   "cell_type": "code",
   "execution_count": 2,
   "id": "4c655662-8a6d-4b8a-befa-65ee3e5a329f",
   "metadata": {},
   "outputs": [],
   "source": [
    "class SimpleTimer:\n",
    "    def __init__(self):\n",
    "        self.start = None\n",
    "        self.end = None\n",
    "        self.elapsed = None\n",
    "\n",
    "    def __enter__(self):\n",
    "        self.start = time.perf_counter_ns()\n",
    "        return self\n",
    "\n",
    "    def __exit__(self, exc_type, exc_val, exc_tb):\n",
    "        self.end = time.perf_counter_ns()\n",
    "        self.elapsed = self.end - self.start\n",
    "        \n",
    "def visualize_data(path):\n",
    "\n",
    "    data = pickle.load(open(path, \"rb\"))\n",
    "    df_list = [[\"n_workers\", \"sample_run\", \"overall\", \"data_read\", \"data_preprocessing\", \"hashing_vectorizer\", \"tfidf_transformer\", \"nrows\"]]\n",
    "    for n_workers in data:\n",
    "        temp_data = data[n_workers]\n",
    "        if isinstance(temp_data, float):\n",
    "            continue\n",
    "        results = temp_data[\"sample_run_results\"]\n",
    "        for sample_run in range(len(results)):\n",
    "            timings = results[sample_run]\n",
    "            df_list.append([n_workers, sample_run, timings[\"overall\"]/1e9, \n",
    "                           timings[\"data_read\"]/1e9, timings[\"data_preprocessing\"]/1e9,timings[\"hashing_vectorizer\"]/1e9, \n",
    "                           timings[\"tfidf_transformer\"]/1e9, timings[\"nrows\"]])\n",
    "    \n",
    "    perf_df = pd.DataFrame(df_list[1:], columns=df_list[0])\n",
    "    fig=plt.figure(figsize=(12,8), dpi= 100, facecolor='w', edgecolor='k')\n",
    "    dd = pd.melt(perf_df, \n",
    "                 id_vars=['n_workers'],\n",
    "                 value_vars=['overall','data_read', 'data_preprocessing', 'hashing_vectorizer','tfidf_transformer'],\n",
    "                 var_name='latency')\n",
    "    sns.boxplot(x='latency',y='value',data=dd, orient=\"v\")\n",
    "    plt.show()\n",
    "    return perf_df, dd "
   ]
  },
  {
   "cell_type": "code",
   "execution_count": 3,
   "id": "7ecaf6e6-b719-4a57-8c6a-426f30212c23",
   "metadata": {},
   "outputs": [
    {
     "name": "stderr",
     "output_type": "stream",
     "text": [
      "[nltk_data] Downloading package stopwords to /root/nltk_data...\n",
      "[nltk_data]   Package stopwords is already up-to-date!\n"
     ]
    }
   ],
   "source": [
    "nltk.download('stopwords')\n",
    "STOPWORDS = nltk.corpus.stopwords.words('english')\n",
    "PUNCTUATIONS = [ '!', '\"', '#', '$', '%', '&', '(', ')', '*', '+', '-', '.', '/',  '\\\\', ':', ';', '<', '=', '>',\n",
    "           '?', '@', '[', ']', '^', '_', '`', '{', '|', '}', '\\t','\\n',\"'\",\",\",'~' , '—']"
   ]
  },
  {
   "cell_type": "code",
   "execution_count": 4,
   "id": "41316782-0c62-48ad-960d-470d4e4ecd25",
   "metadata": {},
   "outputs": [],
   "source": [
    "def read_data(parquet_path):\n",
    "    data = pd.read_parquet(parquet_path)\n",
    "    return data\n",
    "\n",
    "def text_preprocessor(data, column_name, PUNCTUATIONS, STOPWORDS):\n",
    "    data = data[data[column_name].notna()]\n",
    "    # from https://stackoverflow.com/questions/50444346/fast-punctuation-removal-with-pandas\n",
    "    transtable = str.maketrans(dict.fromkeys(\"\".join(PUNCTUATIONS), ''))\n",
    "    data.loc[:,column_name] = (data[column_name].str.lower()\n",
    "                           .str.translate(transtable)\n",
    "                           .str.strip())\n",
    "    data.loc[:,column_name] = data[column_name].apply(lambda x: ' '.join([word for word in x.split() if word not in STOPWORDS]))                    \n",
    "    return data\n",
    "\n",
    "def hashing_vectorizer(data, column_name):\n",
    "    vectorizer = HashingVectorizer(stop_words='english', preprocessor=None)\n",
    "    # Meta is an empty dataframe matches the dtypes and columns of the output\n",
    "    hashing_vectorized = vectorizer.fit_transform(data[column_name])\n",
    "    return hashing_vectorized\n",
    "\n",
    "def tfidf_transformer(hashing_vectorized, column_name):\n",
    "    transformer = TfidfTransformer()\n",
    "    result = transformer.fit_transform(hashing_vectorized)\n",
    "    return result\n",
    "\n",
    "def execute_full_pipeline(n, i):\n",
    "    sample_record = {\"overall\":0, \"data_read\":0, \"hashing_vectorizer\":0, \"tfid_transformer\":0, \"data_preprocessing\":0, \"nrows\":0}\n",
    "    with SimpleTimer() as timer:\n",
    "        data = read_data(parquet_path)\n",
    "    sample_record[\"data_read\"]=timer.elapsed\n",
    "\n",
    "    with SimpleTimer() as timer:\n",
    "        data = text_preprocessor(data, \"review_body\", PUNCTUATIONS, STOPWORDS)\n",
    "    sample_record[\"data_preprocessing\"]=timer.elapsed\n",
    "    \n",
    "    with SimpleTimer() as timer:\n",
    "        hashing_vectorized = hashing_vectorizer(data,\"review_body\")\n",
    "    sample_record[\"hashing_vectorizer\"]=timer.elapsed\n",
    "    \n",
    "    with SimpleTimer() as timer:\n",
    "        result = tfidf_transformer(hashing_vectorized, \"review_body\")\n",
    "    sample_record[\"tfidf_transformer\"]=timer.elapsed\n",
    "    \n",
    "    print(f\"Workers:{n}, Sample Run:{i}, Finished loading data in {sample_record['data_read']}s\")\n",
    "    print(f\"Workers:{n}, Sample Run:{i}, Finished preprocessing data in {sample_record['data_preprocessing']}s\")\n",
    "    print(f\"Workers:{n}, Sample Run:{i}, Finished fitting HashVectorizer in {sample_record['hashing_vectorizer']}s\")\n",
    "    print(f\"Workers:{n}, Sample Run:{i}, Finished fitting IDF Transformer in {sample_record['tfidf_transformer']}s\")\n",
    "    return data, result, sample_record\n",
    "\n",
    "def performance_numbers(parquet_path, worker_counts=[1], samples=1, result_path=\"./results.pkl\"):\n",
    "    \"\"\"\n",
    "    Main function to perform the performance sweep\n",
    "    \"\"\"\n",
    "\n",
    "    overall_perf_result = {}\n",
    "    \n",
    "    for n in worker_counts: \n",
    "        overall_perf_result[n]={\"sample_run_results\": []}\n",
    "        \n",
    "        for i in tqdm(range(samples)): \n",
    "            with SimpleTimer() as overalltimer:\n",
    "                data, result, sample_record = execute_full_pipeline(n, i)\n",
    "            sample_record[\"overall\"]=overalltimer.elapsed\n",
    "            sample_record[\"nrows\"]=data.shape[0]\n",
    "            print(f\"Workers:{n}, Sample Run:{i}, Finished executing full pipeline in {overalltimer.elapsed}s\")\n",
    "            overall_perf_result[n][\"sample_run_results\"].append(sample_record)\n",
    "    \n",
    "    with open(result_path, \"wb\") as file:\n",
    "        pickle.dump(overall_perf_result, file)\n",
    "    "
   ]
  },
  {
   "cell_type": "code",
   "execution_count": 5,
   "id": "d6d27907-94d5-414a-93ae-0997a887ff44",
   "metadata": {},
   "outputs": [],
   "source": [
    "dataset = \"PC\"\n",
    "parquet_path = f'./data/product_category={dataset}'\n",
    "model_kwargs = {\"text_preprocessor\":text_preprocessor}\n",
    "samples = 2\n",
    "worker_counts = [1]\n",
    "result_path = f\"./results/result_poc_nlp_sklearn_{dataset}.pkl\""
   ]
  },
  {
   "cell_type": "code",
   "execution_count": 6,
   "id": "4da2c546-c633-4f77-9220-e0067add959c",
   "metadata": {},
   "outputs": [
    {
     "name": "stderr",
     "output_type": "stream",
     "text": [
      "  0%|          | 0/2 [00:00<?, ?it/s]/opt/conda/envs/rapids/lib/python3.8/site-packages/pandas/core/indexing.py:1676: SettingWithCopyWarning: \n",
      "A value is trying to be set on a copy of a slice from a DataFrame.\n",
      "Try using .loc[row_indexer,col_indexer] = value instead\n",
      "\n",
      "See the caveats in the documentation: https://pandas.pydata.org/pandas-docs/stable/user_guide/indexing.html#returning-a-view-versus-a-copy\n",
      "  self._setitem_single_column(ilocs[0], value, pi)\n",
      " 50%|█████     | 1/2 [19:38<19:38, 1178.40s/it]"
     ]
    },
    {
     "name": "stdout",
     "output_type": "stream",
     "text": [
      "Workers:1, Sample Run:0, Finished loading data in 17469171775s\n",
      "Workers:1, Sample Run:0, Finished preprocessing data in 909507849617s\n",
      "Workers:1, Sample Run:0, Finished fitting HashVectorizer in 237809342527s\n",
      "Workers:1, Sample Run:0, Finished fitting IDF Transformer in 13608990205s\n",
      "Workers:1, Sample Run:0, Finished executing full pipeline in 1178401807685s\n",
      "Workers:1, Sample Run:1, Finished loading data in 16511052331s\n",
      "Workers:1, Sample Run:1, Finished preprocessing data in 911788287575s\n",
      "Workers:1, Sample Run:1, Finished fitting HashVectorizer in 240257592164s\n",
      "Workers:1, Sample Run:1, Finished fitting IDF Transformer in 12597648382s\n",
      "Workers:1, Sample Run:1, Finished executing full pipeline in 1183396187970s"
     ]
    },
    {
     "name": "stderr",
     "output_type": "stream",
     "text": [
      "100%|██████████| 2/2 [39:21<00:00, 1180.90s/it]"
     ]
    },
    {
     "name": "stdout",
     "output_type": "stream",
     "text": [
      "\n",
      "CPU times: user 39min 8s, sys: 48.1 s, total: 39min 56s\n",
      "Wall time: 39min 21s\n"
     ]
    },
    {
     "name": "stderr",
     "output_type": "stream",
     "text": [
      "\n"
     ]
    }
   ],
   "source": [
    "%%time\n",
    "performance_numbers(parquet_path=parquet_path, worker_counts=worker_counts, samples=samples,result_path=result_path)"
   ]
  },
  {
   "cell_type": "code",
   "execution_count": 7,
   "id": "3bd627f9-0878-4296-bf73-151ec1b1bec3",
   "metadata": {},
   "outputs": [
    {
     "data": {
      "image/png": "[encoded data removed]",
      "text/plain": [
       "<Figure size 1200x800 with 1 Axes>"
      ]
     },
     "metadata": {},
     "output_type": "display_data"
    }
   ],
   "source": [
    "data, melt_data = visualize_data(result_path)    "
   ]
  },
  {
   "cell_type": "code",
   "execution_count": 8,
   "id": "3464bc13-4855-496e-8be8-235b028ca673",
   "metadata": {},
   "outputs": [
    {
     "data": {
      "text/html": [
       "<div>\n",
       "<style scoped>\n",
       "    .dataframe tbody tr th:only-of-type {\n",
       "        vertical-align: middle;\n",
       "    }\n",
       "\n",
       "    .dataframe tbody tr th {\n",
       "        vertical-align: top;\n",
       "    }\n",
       "\n",
       "    .dataframe thead th {\n",
       "        text-align: right;\n",
       "    }\n",
       "</style>\n",
       "<table border=\"1\" class=\"dataframe\">\n",
       "  <thead>\n",
       "    <tr style=\"text-align: right;\">\n",
       "      <th></th>\n",
       "      <th>n_workers</th>\n",
       "      <th>sample_run</th>\n",
       "      <th>overall</th>\n",
       "      <th>data_read</th>\n",
       "      <th>data_preprocessing</th>\n",
       "      <th>hashing_vectorizer</th>\n",
       "      <th>tfidf_transformer</th>\n",
       "      <th>nrows</th>\n",
       "    </tr>\n",
       "  </thead>\n",
       "  <tbody>\n",
       "    <tr>\n",
       "      <th>0</th>\n",
       "      <td>1</td>\n",
       "      <td>0</td>\n",
       "      <td>1178.401808</td>\n",
       "      <td>17.469172</td>\n",
       "      <td>909.507850</td>\n",
       "      <td>237.809343</td>\n",
       "      <td>13.608990</td>\n",
       "      <td>7004147</td>\n",
       "    </tr>\n",
       "    <tr>\n",
       "      <th>1</th>\n",
       "      <td>1</td>\n",
       "      <td>1</td>\n",
       "      <td>1183.396188</td>\n",
       "      <td>16.511052</td>\n",
       "      <td>911.788288</td>\n",
       "      <td>240.257592</td>\n",
       "      <td>12.597648</td>\n",
       "      <td>7004147</td>\n",
       "    </tr>\n",
       "  </tbody>\n",
       "</table>\n",
       "</div>"
      ],
      "text/plain": [
       "   n_workers  sample_run      overall  data_read  data_preprocessing  \\\n",
       "0          1           0  1178.401808  17.469172          909.507850   \n",
       "1          1           1  1183.396188  16.511052          911.788288   \n",
       "\n",
       "   hashing_vectorizer  tfidf_transformer    nrows  \n",
       "0          237.809343          13.608990  7004147  \n",
       "1          240.257592          12.597648  7004147  "
      ]
     },
     "execution_count": 8,
     "metadata": {},
     "output_type": "execute_result"
    }
   ],
   "source": [
    "data"
   ]
  },
  {
   "cell_type": "code",
   "execution_count": 9,
   "id": "36dc1a20-d436-4362-af91-75d4b6e829b4",
   "metadata": {},
   "outputs": [],
   "source": [
    "groupy = data.groupby(\"n_workers\").agg(['mean', 'std', 'count'])"
   ]
  },
  {
   "cell_type": "code",
   "execution_count": 12,
   "id": "c0ac4d3f-5d2f-4941-a984-adad8d15edb8",
   "metadata": {},
   "outputs": [
    {
     "data": {
      "text/html": [
       "<div>\n",
       "<style scoped>\n",
       "    .dataframe tbody tr th:only-of-type {\n",
       "        vertical-align: middle;\n",
       "    }\n",
       "\n",
       "    .dataframe tbody tr th {\n",
       "        vertical-align: top;\n",
       "    }\n",
       "\n",
       "    .dataframe thead tr th {\n",
       "        text-align: left;\n",
       "    }\n",
       "\n",
       "    .dataframe thead tr:last-of-type th {\n",
       "        text-align: right;\n",
       "    }\n",
       "</style>\n",
       "<table border=\"1\" class=\"dataframe\">\n",
       "  <thead>\n",
       "    <tr>\n",
       "      <th></th>\n",
       "      <th colspan=\"3\" halign=\"left\">sample_run</th>\n",
       "      <th colspan=\"3\" halign=\"left\">overall</th>\n",
       "      <th colspan=\"3\" halign=\"left\">data_read</th>\n",
       "      <th colspan=\"3\" halign=\"left\">data_preprocessing</th>\n",
       "      <th colspan=\"3\" halign=\"left\">hashing_vectorizer</th>\n",
       "      <th colspan=\"3\" halign=\"left\">tfidf_transformer</th>\n",
       "      <th colspan=\"3\" halign=\"left\">nrows</th>\n",
       "    </tr>\n",
       "    <tr>\n",
       "      <th></th>\n",
       "      <th>mean</th>\n",
       "      <th>std</th>\n",
       "      <th>count</th>\n",
       "      <th>mean</th>\n",
       "      <th>std</th>\n",
       "      <th>count</th>\n",
       "      <th>mean</th>\n",
       "      <th>std</th>\n",
       "      <th>count</th>\n",
       "      <th>mean</th>\n",
       "      <th>...</th>\n",
       "      <th>count</th>\n",
       "      <th>mean</th>\n",
       "      <th>std</th>\n",
       "      <th>count</th>\n",
       "      <th>mean</th>\n",
       "      <th>std</th>\n",
       "      <th>count</th>\n",
       "      <th>mean</th>\n",
       "      <th>std</th>\n",
       "      <th>count</th>\n",
       "    </tr>\n",
       "    <tr>\n",
       "      <th>n_workers</th>\n",
       "      <th></th>\n",
       "      <th></th>\n",
       "      <th></th>\n",
       "      <th></th>\n",
       "      <th></th>\n",
       "      <th></th>\n",
       "      <th></th>\n",
       "      <th></th>\n",
       "      <th></th>\n",
       "      <th></th>\n",
       "      <th></th>\n",
       "      <th></th>\n",
       "      <th></th>\n",
       "      <th></th>\n",
       "      <th></th>\n",
       "      <th></th>\n",
       "      <th></th>\n",
       "      <th></th>\n",
       "      <th></th>\n",
       "      <th></th>\n",
       "      <th></th>\n",
       "    </tr>\n",
       "  </thead>\n",
       "  <tbody>\n",
       "    <tr>\n",
       "      <th>1</th>\n",
       "      <td>0.5</td>\n",
       "      <td>0.707107</td>\n",
       "      <td>2</td>\n",
       "      <td>1180.898998</td>\n",
       "      <td>3.53156</td>\n",
       "      <td>2</td>\n",
       "      <td>16.990112</td>\n",
       "      <td>0.677493</td>\n",
       "      <td>2</td>\n",
       "      <td>910.648069</td>\n",
       "      <td>...</td>\n",
       "      <td>2</td>\n",
       "      <td>239.033467</td>\n",
       "      <td>1.731174</td>\n",
       "      <td>2</td>\n",
       "      <td>13.103319</td>\n",
       "      <td>0.715127</td>\n",
       "      <td>2</td>\n",
       "      <td>7004147</td>\n",
       "      <td>0.0</td>\n",
       "      <td>2</td>\n",
       "    </tr>\n",
       "  </tbody>\n",
       "</table>\n",
       "<p>1 rows × 21 columns</p>\n",
       "</div>"
      ],
      "text/plain": [
       "          sample_run                      overall                 data_read  \\\n",
       "                mean       std count         mean      std count       mean   \n",
       "n_workers                                                                     \n",
       "1                0.5  0.707107     2  1180.898998  3.53156     2  16.990112   \n",
       "\n",
       "                          data_preprocessing  ...       hashing_vectorizer  \\\n",
       "                std count               mean  ... count               mean   \n",
       "n_workers                                     ...                            \n",
       "1          0.677493     2         910.648069  ...     2         239.033467   \n",
       "\n",
       "                          tfidf_transformer                    nrows       \\\n",
       "                std count              mean       std count     mean  std   \n",
       "n_workers                                                                   \n",
       "1          1.731174     2         13.103319  0.715127     2  7004147  0.0   \n",
       "\n",
       "                 \n",
       "          count  \n",
       "n_workers        \n",
       "1             2  \n",
       "\n",
       "[1 rows x 21 columns]"
      ]
     },
     "execution_count": 12,
     "metadata": {},
     "output_type": "execute_result"
    }
   ],
   "source": [
    "groupy"
   ]
  },
  {
   "cell_type": "markdown",
   "id": "85cf1850-4eed-473b-9f51-68db1859a410",
   "metadata": {},
   "source": []
  }
 ],
 "metadata": {
  "kernelspec": {
   "display_name": "Python 3",
   "language": "python",
   "name": "python3"
  },
  "language_info": {
   "codemirror_mode": {
    "name": "ipython",
    "version": 3
   },
   "file_extension": ".py",
   "mimetype": "text/x-python",
   "name": "python",
   "nbconvert_exporter": "python",
   "pygments_lexer": "ipython3",
   "version": "3.8.10"
  }
 },
 "nbformat": 4,
 "nbformat_minor": 5
}
