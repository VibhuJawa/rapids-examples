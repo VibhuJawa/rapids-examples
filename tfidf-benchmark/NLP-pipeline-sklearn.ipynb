{
 "cells": [
  {
   "cell_type": "markdown",
   "id": "b6754f50-9d5e-47f4-9353-72b8c79ebe31",
   "metadata": {},
   "source": [
    "# NLP tf-idf pipeline with scikit-learn"
   ]
  },
  {
   "cell_type": "code",
   "execution_count": 1,
   "id": "639f8a3c-70da-4dd3-8e2e-655452dfa306",
   "metadata": {},
   "outputs": [],
   "source": [
    "%matplotlib inline\n",
    "from tqdm import tqdm\n",
    "from sklearn.feature_extraction.text import HashingVectorizer\n",
    "from sklearn.feature_extraction.text import TfidfTransformer\n",
    "import nltk\n",
    "import pandas as pd"
   ]
  },
  {
   "cell_type": "markdown",
   "id": "eb82536f-408a-4ca9-865d-4406899fb987",
   "metadata": {},
   "source": [
    "### Import other utility functions for benchmarking purposes "
   ]
  },
  {
   "cell_type": "code",
   "execution_count": 2,
   "id": "b1b38723-f7fe-4e3c-a960-fb637e0bca1e",
   "metadata": {},
   "outputs": [],
   "source": [
    "from utils import SimpleTimer, ResultsLogger, visualize_data"
   ]
  },
  {
   "cell_type": "markdown",
   "id": "5699ef8d-5bbb-4343-9815-e4635e1c6e32",
   "metadata": {
    "tags": []
   },
   "source": [
    "## Benchmarking Code"
   ]
  },
  {
   "cell_type": "markdown",
   "id": "2a866429-73aa-4973-8934-35818b075131",
   "metadata": {},
   "source": [
    "### Helper functions"
   ]
  },
  {
   "cell_type": "code",
   "execution_count": 3,
   "id": "7e870804-3011-4eb7-afa9-8836cf46cb9f",
   "metadata": {},
   "outputs": [
    {
     "name": "stderr",
     "output_type": "stream",
     "text": [
      "[nltk_data] Downloading package stopwords to\n",
      "[nltk_data]     /home/nfs/anirband/nltk_data...\n",
      "[nltk_data]   Package stopwords is already up-to-date!\n"
     ]
    }
   ],
   "source": [
    "nltk.download('stopwords')\n",
    "STOPWORDS = set(nltk.corpus.stopwords.words('english')) # converting the list to set will decrease latency in the pandas apply function: O(1) lookup\n",
    "PUNCTUATIONS = ['!', '\"', '#', '$', '%', '&', '(', ')', '*', '+', '-', '.',\n",
    "                '/', '\\\\', ':', ';', '<', '=', '>', '?', '@', '[', ']', '^',\n",
    "                '_', '`', '{', '|', '}', '\\t','\\n', \"'\", \",\", '~' , '—']\n",
    "\n",
    "def read_data(parquet_path):\n",
    "    data = pd.read_parquet(parquet_path, columns=[\"review_body\"])\n",
    "    return data\n",
    "\n",
    "\n",
    "def text_preprocessor(data, column_name, PUNCTUATIONS, STOPWORDS):\n",
    "    data = data[data[column_name].notna()]\n",
    "    # from https://stackoverflow.com/questions/50444346/fast-punctuation-removal-with-pandas\n",
    "    transtable = str.maketrans(dict.fromkeys(\"\".join(PUNCTUATIONS), ''))\n",
    "    data.loc[:,column_name] = (data[column_name].str.lower()\n",
    "                           .str.translate(transtable)\n",
    "                           .str.strip())\n",
    "    data.loc[:,column_name] = data[column_name].apply(lambda x: ' '.join([word for word in x.split() if word not in STOPWORDS]))                    \n",
    "    return data\n",
    "\n",
    "\n",
    "def hashing_vectorizer(data, column_name):\n",
    "    vectorizer = HashingVectorizer(stop_words=None, preprocessor=None)\n",
    "    hashing_vectorized = vectorizer.fit_transform(data[column_name])\n",
    "    return hashing_vectorized\n",
    "\n",
    "\n",
    "def tfidf_transformer(hashing_vectorized, column_name):\n",
    "    transformer = TfidfTransformer()\n",
    "    result = transformer.fit_transform(hashing_vectorized)\n",
    "    return result\n",
    "\n",
    "\n",
    "def execute_full_pipeline(n, i, parquet_path):\n",
    "    sample_record = {\"overall\":0, \"data_read\":0, \"hashing_vectorizer\":0, \"tfid_transformer\":0, \"data_preprocessing\":0, \"nrows\":0}\n",
    "    with SimpleTimer() as timer:\n",
    "        data = read_data(parquet_path)\n",
    "    sample_record[\"data_read\"]=timer.elapsed/1e9\n",
    "\n",
    "    with SimpleTimer() as timer:\n",
    "        data = text_preprocessor(data, \"review_body\", PUNCTUATIONS, STOPWORDS)\n",
    "    sample_record[\"data_preprocessing\"]=timer.elapsed/1e9\n",
    "\n",
    "    with SimpleTimer() as timer:\n",
    "        hashing_vectorized = hashing_vectorizer(data,\"review_body\")\n",
    "    sample_record[\"hashing_vectorizer\"]=timer.elapsed/1e9\n",
    "\n",
    "    with SimpleTimer() as timer:\n",
    "        result = tfidf_transformer(hashing_vectorized, \"review_body\")\n",
    "    sample_record[\"tfidf_transformer\"]=timer.elapsed/1e9\n",
    "\n",
    "    print(f\"Workers:{n}, Sample Run:{i}, Finished loading data in {sample_record['data_read']}s\")\n",
    "    print(f\"Workers:{n}, Sample Run:{i}, Finished preprocessing data in {sample_record['data_preprocessing']}s\")\n",
    "    print(f\"Workers:{n}, Sample Run:{i}, Finished fitting HashVectorizer in {sample_record['hashing_vectorizer']}s\")\n",
    "    print(f\"Workers:{n}, Sample Run:{i}, Finished fitting IDF Transformer in {sample_record['tfidf_transformer']}s\")\n",
    "    return data, result, sample_record\n"
   ]
  },
  {
   "cell_type": "code",
   "execution_count": 4,
   "id": "d295c9d0-afae-4b68-8bfc-95e7d50cb911",
   "metadata": {},
   "outputs": [],
   "source": [
    "def performance_numbers(parquet_path, worker_counts=[1], samples=1, result_path=\"./results.csv\"):\n",
    "    \"\"\"\n",
    "    Main function to perform the performance sweep\n",
    "    \"\"\"\n",
    "    results_logger = ResultsLogger(result_path)\n",
    "    for n in worker_counts: \n",
    "        for i in tqdm(range(samples)): \n",
    "            with SimpleTimer() as overalltimer:\n",
    "                data, result, sample_record = execute_full_pipeline(n, i, parquet_path)\n",
    "            sample_record[\"overall\"]=overalltimer.elapsed/1e9\n",
    "            sample_record[\"nrows\"]=data.shape[0]\n",
    "            sample_record[\"n_workers\"]=n\n",
    "            sample_record[\"sample_run\"]=i\n",
    "            print(f\"Workers:{n}, Sample Run:{i}, Finished executing full pipeline in {overalltimer.elapsed/1e9}s\")\n",
    "            results_logger.log(sample_record)\n",
    "    results_logger.write()"
   ]
  },
  {
   "cell_type": "code",
   "execution_count": 5,
   "id": "d6d27907-94d5-414a-93ae-0997a887ff44",
   "metadata": {},
   "outputs": [],
   "source": [
    "dataset = \"Books\"\n",
    "parquet_path = f'./data/product_category={dataset}'\n",
    "samples = 3\n",
    "worker_counts = [1]\n",
    "result_path = f\"./results/result_poc_nlp_sklearn_{dataset}.csv\""
   ]
  },
  {
   "cell_type": "code",
   "execution_count": 6,
   "id": "4da2c546-c633-4f77-9220-e0067add959c",
   "metadata": {},
   "outputs": [
    {
     "name": "stderr",
     "output_type": "stream",
     "text": [
      "  0%|                                                                                                                                                                                      | 0/3 [00:00<?, ?it/s]/home/nfs/anirband/anaconda3/envs/rapids-21.08/lib/python3.8/site-packages/pandas/core/indexing.py:1843: SettingWithCopyWarning: \n",
      "A value is trying to be set on a copy of a slice from a DataFrame.\n",
      "Try using .loc[row_indexer,col_indexer] = value instead\n",
      "\n",
      "See the caveats in the documentation: https://pandas.pydata.org/pandas-docs/stable/user_guide/indexing.html#returning-a-view-versus-a-copy\n",
      "  self.obj[item_labels[indexer[info_axis]]] = value\n"
     ]
    },
    {
     "name": "stdout",
     "output_type": "stream",
     "text": [
      "Workers:1, Sample Run:0, Finished loading data in 27.176626497s\n",
      "Workers:1, Sample Run:0, Finished preprocessing data in 1241.842861926s\n",
      "Workers:1, Sample Run:0, Finished fitting HashVectorizer in 731.965263292s\n",
      "Workers:1, Sample Run:0, Finished fitting IDF Transformer in 123.351881592s\n",
      "Workers:1, Sample Run:0, Finished executing full pipeline in 2124.653676701s"
     ]
    },
    {
     "name": "stderr",
     "output_type": "stream",
     "text": [
      " 33%|████████████████████████████████████████████████████████▋                                                                                                                 | 1/3 [35:24<1:10:49, 2124.65s/it]"
     ]
    },
    {
     "name": "stdout",
     "output_type": "stream",
     "text": [
      "\n"
     ]
    },
    {
     "name": "stderr",
     "output_type": "stream",
     "text": [
      " 67%|█████████████████████████████████████████████████████████████████████████████████████████████████████████████████▎                                                        | 2/3 [1:10:27<35:11, 2111.69s/it]"
     ]
    },
    {
     "name": "stdout",
     "output_type": "stream",
     "text": [
      "Workers:1, Sample Run:1, Finished loading data in 26.745783126s\n",
      "Workers:1, Sample Run:1, Finished preprocessing data in 1239.419621929s\n",
      "Workers:1, Sample Run:1, Finished fitting HashVectorizer in 715.500205747s\n",
      "Workers:1, Sample Run:1, Finished fitting IDF Transformer in 120.634073774s\n",
      "Workers:1, Sample Run:1, Finished executing full pipeline in 2102.609042801s\n"
     ]
    },
    {
     "name": "stderr",
     "output_type": "stream",
     "text": [
      "100%|██████████████████████████████████████████████████████████████████████████████████████████████████████████████████████████████████████████████████████████████████████████| 3/3 [1:45:45<00:00, 2115.24s/it]"
     ]
    },
    {
     "name": "stdout",
     "output_type": "stream",
     "text": [
      "Workers:1, Sample Run:2, Finished loading data in 29.64475292s\n",
      "Workers:1, Sample Run:2, Finished preprocessing data in 1242.092643499s\n",
      "Workers:1, Sample Run:2, Finished fitting HashVectorizer in 719.101140476s\n",
      "Workers:1, Sample Run:2, Finished fitting IDF Transformer in 127.356223578s\n",
      "Workers:1, Sample Run:2, Finished executing full pipeline in 2118.43830324s\n"
     ]
    },
    {
     "name": "stderr",
     "output_type": "stream",
     "text": [
      "\n"
     ]
    },
    {
     "name": "stdout",
     "output_type": "stream",
     "text": [
      "CPU times: user 1h 43min 22s, sys: 11min 39s, total: 1h 55min 2s\n",
      "Wall time: 1h 46min 12s\n"
     ]
    }
   ],
   "source": [
    "%%time\n",
    "performance_numbers(parquet_path=parquet_path, worker_counts=worker_counts, samples=samples,result_path=result_path)"
   ]
  },
  {
   "cell_type": "code",
   "execution_count": 7,
   "id": "3bd627f9-0878-4296-bf73-151ec1b1bec3",
   "metadata": {},
   "outputs": [
    {
     "data": {
      "image/png": "[encoded data removed]",
      "text/plain": [
       "<Figure size 1200x800 with 1 Axes>"
      ]
     },
     "metadata": {},
     "output_type": "display_data"
    }
   ],
   "source": [
    "data, melt_data = visualize_data(result_path)    "
   ]
  },
  {
   "cell_type": "code",
   "execution_count": 8,
   "id": "3464bc13-4855-496e-8be8-235b028ca673",
   "metadata": {},
   "outputs": [
    {
     "data": {
      "text/html": [
       "<div>\n",
       "<style scoped>\n",
       "    .dataframe tbody tr th:only-of-type {\n",
       "        vertical-align: middle;\n",
       "    }\n",
       "\n",
       "    .dataframe tbody tr th {\n",
       "        vertical-align: top;\n",
       "    }\n",
       "\n",
       "    .dataframe thead th {\n",
       "        text-align: right;\n",
       "    }\n",
       "</style>\n",
       "<table border=\"1\" class=\"dataframe\">\n",
       "  <thead>\n",
       "    <tr style=\"text-align: right;\">\n",
       "      <th></th>\n",
       "      <th>Unnamed: 0</th>\n",
       "      <th>overall</th>\n",
       "      <th>data_read</th>\n",
       "      <th>hashing_vectorizer</th>\n",
       "      <th>tfid_transformer</th>\n",
       "      <th>data_preprocessing</th>\n",
       "      <th>nrows</th>\n",
       "      <th>tfidf_transformer</th>\n",
       "      <th>n_workers</th>\n",
       "      <th>sample_run</th>\n",
       "    </tr>\n",
       "  </thead>\n",
       "  <tbody>\n",
       "    <tr>\n",
       "      <th>0</th>\n",
       "      <td>0</td>\n",
       "      <td>2124.653677</td>\n",
       "      <td>27.176626</td>\n",
       "      <td>731.965263</td>\n",
       "      <td>0</td>\n",
       "      <td>1241.842862</td>\n",
       "      <td>20725971</td>\n",
       "      <td>123.351882</td>\n",
       "      <td>1</td>\n",
       "      <td>0</td>\n",
       "    </tr>\n",
       "    <tr>\n",
       "      <th>1</th>\n",
       "      <td>1</td>\n",
       "      <td>2102.609043</td>\n",
       "      <td>26.745783</td>\n",
       "      <td>715.500206</td>\n",
       "      <td>0</td>\n",
       "      <td>1239.419622</td>\n",
       "      <td>20725971</td>\n",
       "      <td>120.634074</td>\n",
       "      <td>1</td>\n",
       "      <td>1</td>\n",
       "    </tr>\n",
       "    <tr>\n",
       "      <th>2</th>\n",
       "      <td>2</td>\n",
       "      <td>2118.438303</td>\n",
       "      <td>29.644753</td>\n",
       "      <td>719.101140</td>\n",
       "      <td>0</td>\n",
       "      <td>1242.092643</td>\n",
       "      <td>20725971</td>\n",
       "      <td>127.356224</td>\n",
       "      <td>1</td>\n",
       "      <td>2</td>\n",
       "    </tr>\n",
       "  </tbody>\n",
       "</table>\n",
       "</div>"
      ],
      "text/plain": [
       "   Unnamed: 0      overall  data_read  hashing_vectorizer  tfid_transformer  \\\n",
       "0           0  2124.653677  27.176626          731.965263                 0   \n",
       "1           1  2102.609043  26.745783          715.500206                 0   \n",
       "2           2  2118.438303  29.644753          719.101140                 0   \n",
       "\n",
       "   data_preprocessing     nrows  tfidf_transformer  n_workers  sample_run  \n",
       "0         1241.842862  20725971         123.351882          1           0  \n",
       "1         1239.419622  20725971         120.634074          1           1  \n",
       "2         1242.092643  20725971         127.356224          1           2  "
      ]
     },
     "execution_count": 8,
     "metadata": {},
     "output_type": "execute_result"
    }
   ],
   "source": [
    "data"
   ]
  },
  {
   "cell_type": "code",
   "execution_count": 9,
   "id": "36dc1a20-d436-4362-af91-75d4b6e829b4",
   "metadata": {},
   "outputs": [],
   "source": [
    "groupy = data.groupby(\"n_workers\").agg(['mean', 'std', 'count'])"
   ]
  },
  {
   "cell_type": "code",
   "execution_count": 10,
   "id": "c0ac4d3f-5d2f-4941-a984-adad8d15edb8",
   "metadata": {},
   "outputs": [
    {
     "data": {
      "text/html": [
       "<div>\n",
       "<style scoped>\n",
       "    .dataframe tbody tr th:only-of-type {\n",
       "        vertical-align: middle;\n",
       "    }\n",
       "\n",
       "    .dataframe tbody tr th {\n",
       "        vertical-align: top;\n",
       "    }\n",
       "\n",
       "    .dataframe thead tr th {\n",
       "        text-align: left;\n",
       "    }\n",
       "\n",
       "    .dataframe thead tr:last-of-type th {\n",
       "        text-align: right;\n",
       "    }\n",
       "</style>\n",
       "<table border=\"1\" class=\"dataframe\">\n",
       "  <thead>\n",
       "    <tr>\n",
       "      <th></th>\n",
       "      <th colspan=\"3\" halign=\"left\">Unnamed: 0</th>\n",
       "      <th colspan=\"3\" halign=\"left\">overall</th>\n",
       "      <th colspan=\"3\" halign=\"left\">data_read</th>\n",
       "      <th>hashing_vectorizer</th>\n",
       "      <th>...</th>\n",
       "      <th>data_preprocessing</th>\n",
       "      <th colspan=\"3\" halign=\"left\">nrows</th>\n",
       "      <th colspan=\"3\" halign=\"left\">tfidf_transformer</th>\n",
       "      <th colspan=\"3\" halign=\"left\">sample_run</th>\n",
       "    </tr>\n",
       "    <tr>\n",
       "      <th></th>\n",
       "      <th>mean</th>\n",
       "      <th>std</th>\n",
       "      <th>count</th>\n",
       "      <th>mean</th>\n",
       "      <th>std</th>\n",
       "      <th>count</th>\n",
       "      <th>mean</th>\n",
       "      <th>std</th>\n",
       "      <th>count</th>\n",
       "      <th>mean</th>\n",
       "      <th>...</th>\n",
       "      <th>count</th>\n",
       "      <th>mean</th>\n",
       "      <th>std</th>\n",
       "      <th>count</th>\n",
       "      <th>mean</th>\n",
       "      <th>std</th>\n",
       "      <th>count</th>\n",
       "      <th>mean</th>\n",
       "      <th>std</th>\n",
       "      <th>count</th>\n",
       "    </tr>\n",
       "    <tr>\n",
       "      <th>n_workers</th>\n",
       "      <th></th>\n",
       "      <th></th>\n",
       "      <th></th>\n",
       "      <th></th>\n",
       "      <th></th>\n",
       "      <th></th>\n",
       "      <th></th>\n",
       "      <th></th>\n",
       "      <th></th>\n",
       "      <th></th>\n",
       "      <th></th>\n",
       "      <th></th>\n",
       "      <th></th>\n",
       "      <th></th>\n",
       "      <th></th>\n",
       "      <th></th>\n",
       "      <th></th>\n",
       "      <th></th>\n",
       "      <th></th>\n",
       "      <th></th>\n",
       "      <th></th>\n",
       "    </tr>\n",
       "  </thead>\n",
       "  <tbody>\n",
       "    <tr>\n",
       "      <th>1</th>\n",
       "      <td>1</td>\n",
       "      <td>1.0</td>\n",
       "      <td>3</td>\n",
       "      <td>2115.233674</td>\n",
       "      <td>11.366341</td>\n",
       "      <td>3</td>\n",
       "      <td>27.855721</td>\n",
       "      <td>1.564252</td>\n",
       "      <td>3</td>\n",
       "      <td>722.18887</td>\n",
       "      <td>...</td>\n",
       "      <td>3</td>\n",
       "      <td>20725971</td>\n",
       "      <td>0.0</td>\n",
       "      <td>3</td>\n",
       "      <td>123.780726</td>\n",
       "      <td>3.381532</td>\n",
       "      <td>3</td>\n",
       "      <td>1</td>\n",
       "      <td>1.0</td>\n",
       "      <td>3</td>\n",
       "    </tr>\n",
       "  </tbody>\n",
       "</table>\n",
       "<p>1 rows × 27 columns</p>\n",
       "</div>"
      ],
      "text/plain": [
       "          Unnamed: 0                 overall                   data_read  \\\n",
       "                mean  std count         mean        std count       mean   \n",
       "n_workers                                                                  \n",
       "1                  1  1.0     3  2115.233674  11.366341     3  27.855721   \n",
       "\n",
       "                          hashing_vectorizer  ... data_preprocessing  \\\n",
       "                std count               mean  ...              count   \n",
       "n_workers                                     ...                      \n",
       "1          1.564252     3          722.18887  ...                  3   \n",
       "\n",
       "              nrows            tfidf_transformer                 sample_run  \\\n",
       "               mean  std count              mean       std count       mean   \n",
       "n_workers                                                                     \n",
       "1          20725971  0.0     3        123.780726  3.381532     3          1   \n",
       "\n",
       "                      \n",
       "           std count  \n",
       "n_workers             \n",
       "1          1.0     3  \n",
       "\n",
       "[1 rows x 27 columns]"
      ]
     },
     "execution_count": 10,
     "metadata": {},
     "output_type": "execute_result"
    }
   ],
   "source": [
    "groupy"
   ]
  },
  {
   "cell_type": "code",
   "execution_count": null,
   "id": "a2d8a2fc-7546-4d02-a709-4b5120eedda5",
   "metadata": {},
   "outputs": [],
   "source": []
  }
 ],
 "metadata": {
  "kernelspec": {
   "display_name": "Python 3 (ipykernel)",
   "language": "python",
   "name": "python3"
  },
  "language_info": {
   "codemirror_mode": {
    "name": "ipython",
    "version": 3
   },
   "file_extension": ".py",
   "mimetype": "text/x-python",
   "name": "python",
   "nbconvert_exporter": "python",
   "pygments_lexer": "ipython3",
   "version": "3.8.10"
  }
 },
 "nbformat": 4,
 "nbformat_minor": 5
}
