{
 "cells": [
  {
   "cell_type": "code",
   "execution_count": 1,
   "id": "82c186a1-8c70-4446-9b00-ffb7aabdbd6e",
   "metadata": {},
   "outputs": [],
   "source": [
    "import os\n",
    "os.environ['NVCC']=\"/usr/local/cuda-11.5/bin/nvcc\"\n",
    "\n",
    "from sklearn.datasets import fetch_20newsgroups\n",
    "import cudf\n",
    "import cupy as cp\n",
    "import pandas as pd\n",
    "from cuBERTopic import gpu_BERTopic\n",
    "from embedding_extraction import create_embeddings\n",
    "import rmm\n",
    "from transformers import AutoModel\n",
    "\n",
    "os.environ[\"TOKENIZERS_PARALLELISM\"] = \"true\"\n",
    "rmm.reinitialize(pool_allocator=True,initial_pool_size=5e+9)"
   ]
  },
  {
   "cell_type": "markdown",
   "id": "557bfc36-5492-4753-91b3-bccf1867ec65",
   "metadata": {},
   "source": [
    "## Read Dataset"
   ]
  },
  {
   "cell_type": "code",
   "execution_count": 2,
   "id": "ae3c5e42-69c4-4869-80fb-49b3aa016672",
   "metadata": {},
   "outputs": [],
   "source": [
    "test_dataset = cudf.read_csv('/datasets/vjawa/abcnews/abcnews-date-text.csv')\n",
    "data = test_dataset['headline_text']"
   ]
  },
  {
   "cell_type": "code",
   "execution_count": 3,
   "id": "da96f945-e7fc-4030-a790-29f4173a4dda",
   "metadata": {},
   "outputs": [],
   "source": [
    "gpu_topic = gpu_BERTopic()\n",
    "documents = cudf.DataFrame(\n",
    "    {\"Document\": data, \"ID\": cp.arange(len(data)), \"Topic\": None}\n",
    ")"
   ]
  },
  {
   "cell_type": "markdown",
   "id": "4217a4c5-93a1-4f0a-a457-f624ed679c85",
   "metadata": {},
   "source": [
    "## Extract embeddings"
   ]
  },
  {
   "cell_type": "code",
   "execution_count": 4,
   "id": "0ce6ba1e-2609-461f-8fe2-fb75eb4cc5ed",
   "metadata": {},
   "outputs": [],
   "source": [
    "embedding_model = AutoModel.from_pretrained(\"sentence-transformers/all-MiniLM-L6-v2\").to('cuda')"
   ]
  },
  {
   "cell_type": "code",
   "execution_count": 5,
   "id": "67b375af-347f-412b-99fa-6ea71e1abd83",
   "metadata": {},
   "outputs": [
    {
     "name": "stdout",
     "output_type": "stream",
     "text": [
      "CPU times: user 2min 17s, sys: 1.68 s, total: 2min 19s\n",
      "Wall time: 2min 13s\n"
     ]
    }
   ],
   "source": [
    "%%time\n",
    "# Extract embeddings\n",
    "embeddings = create_embeddings(documents.Document, \n",
    "                               embedding_model,\n",
    "                               vocab_file='../vocab/voc_hash.txt')"
   ]
  },
  {
   "cell_type": "markdown",
   "id": "5c570216-837c-43f3-986b-f70fb32aea2f",
   "metadata": {},
   "source": [
    "## Umap Dimensionality Reduction"
   ]
  },
  {
   "cell_type": "code",
   "execution_count": 6,
   "id": "ef482c47-c013-4909-85c3-67a10b806fef",
   "metadata": {},
   "outputs": [
    {
     "name": "stdout",
     "output_type": "stream",
     "text": [
      "CPU times: user 1min 4s, sys: 34.2 s, total: 1min 39s\n",
      "Wall time: 1min 38s\n"
     ]
    }
   ],
   "source": [
    "%%time\n",
    "# Dimensionality Reduction\n",
    "umap_embeddings = gpu_topic.reduce_dimensionality(embeddings)\n",
    "del embeddings"
   ]
  },
  {
   "cell_type": "markdown",
   "id": "03dfa0dd-ddd8-4c84-a417-3c97d9c9125e",
   "metadata": {},
   "source": [
    "## Cluster Embedding"
   ]
  },
  {
   "cell_type": "code",
   "execution_count": 7,
   "id": "51435da5-2013-4359-8f0d-f82433a4ad00",
   "metadata": {},
   "outputs": [
    {
     "name": "stdout",
     "output_type": "stream",
     "text": [
      "Label prop iterations: 45\n",
      "Label prop iterations: 14\n",
      "Label prop iterations: 9\n",
      "Label prop iterations: 9\n",
      "Label prop iterations: 7\n",
      "Label prop iterations: 5\n",
      "Label prop iterations: 4\n",
      "Iterations: 7\n",
      "2689,8352,16122,23,650,23704\n",
      "Label prop iterations: 6\n",
      "Label prop iterations: 3\n",
      "Label prop iterations: 3\n",
      "Iterations: 3\n",
      "1141,165,7008,9,267,671\n",
      "Label prop iterations: 5\n",
      "Label prop iterations: 3\n",
      "Iterations: 2\n",
      "1000,124,5260,10,186,412\n",
      "CPU times: user 1min 6s, sys: 24.2 s, total: 1min 30s\n",
      "Wall time: 1min 30s\n"
     ]
    }
   ],
   "source": [
    "%%time\n",
    "# Cluster UMAP embeddings with HDBSCAN\n",
    "documents, probabilities = gpu_topic.cluster_embeddings(\n",
    "    umap_embeddings,\n",
    "    documents\n",
    ")\n",
    "del umap_embeddings"
   ]
  },
  {
   "cell_type": "markdown",
   "id": "ae999177-6785-455a-b1b4-5405387e8262",
   "metadata": {},
   "source": [
    "## C-TF-IDF"
   ]
  },
  {
   "cell_type": "code",
   "execution_count": 8,
   "id": "821b5564-3684-4612-a084-d3fce68cefef",
   "metadata": {},
   "outputs": [
    {
     "name": "stdout",
     "output_type": "stream",
     "text": [
      "CPU times: user 998 ms, sys: 274 ms, total: 1.27 s\n",
      "Wall time: 1.3 s\n"
     ]
    }
   ],
   "source": [
    "%%time\n",
    "# Topic representation\n",
    "tf_idf, vectorizer, topic_labels = gpu_topic.create_topics(documents)"
   ]
  },
  {
   "cell_type": "markdown",
   "id": "dcc98425-1400-48f6-b818-82f4e4f1926b",
   "metadata": {},
   "source": [
    "## Topic representation"
   ]
  },
  {
   "cell_type": "code",
   "execution_count": 14,
   "id": "71afe5f6-0846-432c-8a7d-cf40705f0920",
   "metadata": {},
   "outputs": [
    {
     "name": "stdout",
     "output_type": "stream",
     "text": [
      "624 ms ± 6.91 ms per loop (mean ± std. dev. of 7 runs, 1 loop each)\n"
     ]
    }
   ],
   "source": [
    "%%timeit\n",
    "top_n_words, name_repr = gpu_topic.extract_top_n_words_per_topic(\n",
    "    tf_idf, vectorizer, topic_labels, n=30\n",
    ")\n",
    "\n",
    "gpu_topic.topic_sizes_df[\"Name\"] = gpu_topic.topic_sizes_df[\"Topic\"].map(\n",
    "    name_repr\n",
    ")"
   ]
  },
  {
   "cell_type": "code",
   "execution_count": 10,
   "id": "91110795-da61-4584-bcc6-838f8452deb2",
   "metadata": {},
   "outputs": [
    {
     "data": {
      "text/html": [
       "<div>\n",
       "<style scoped>\n",
       "    .dataframe tbody tr th:only-of-type {\n",
       "        vertical-align: middle;\n",
       "    }\n",
       "\n",
       "    .dataframe tbody tr th {\n",
       "        vertical-align: top;\n",
       "    }\n",
       "\n",
       "    .dataframe thead th {\n",
       "        text-align: right;\n",
       "    }\n",
       "</style>\n",
       "<table border=\"1\" class=\"dataframe\">\n",
       "  <thead>\n",
       "    <tr style=\"text-align: right;\">\n",
       "      <th></th>\n",
       "      <th>Topic</th>\n",
       "      <th>Count</th>\n",
       "      <th>Name</th>\n",
       "    </tr>\n",
       "  </thead>\n",
       "  <tbody>\n",
       "    <tr>\n",
       "      <th>0</th>\n",
       "      <td>-1</td>\n",
       "      <td>556862</td>\n",
       "      <td>-1_fire_train_guilty_assault</td>\n",
       "    </tr>\n",
       "    <tr>\n",
       "      <th>6291</th>\n",
       "      <td>6290</td>\n",
       "      <td>5875</td>\n",
       "      <td>6290_gaza_israeli_palestinian_israel</td>\n",
       "    </tr>\n",
       "    <tr>\n",
       "      <th>8657</th>\n",
       "      <td>8656</td>\n",
       "      <td>3984</td>\n",
       "      <td>8656_water_irrigators_restrictions_allocations</td>\n",
       "    </tr>\n",
       "    <tr>\n",
       "      <th>8591</th>\n",
       "      <td>8590</td>\n",
       "      <td>3029</td>\n",
       "      <td>8590_flood_flash_flooding_floods</td>\n",
       "    </tr>\n",
       "    <tr>\n",
       "      <th>7146</th>\n",
       "      <td>7145</td>\n",
       "      <td>2948</td>\n",
       "      <td>7145_electoral_voting_polling_ballot</td>\n",
       "    </tr>\n",
       "    <tr>\n",
       "      <th>...</th>\n",
       "      <td>...</td>\n",
       "      <td>...</td>\n",
       "      <td>...</td>\n",
       "    </tr>\n",
       "    <tr>\n",
       "      <th>10915</th>\n",
       "      <td>10914</td>\n",
       "      <td>10</td>\n",
       "      <td>10914_molotov_cocktail_cocktails_bollards</td>\n",
       "    </tr>\n",
       "    <tr>\n",
       "      <th>10919</th>\n",
       "      <td>10918</td>\n",
       "      <td>10</td>\n",
       "      <td>10918_breivik_behring_anders_breiviks</td>\n",
       "    </tr>\n",
       "    <tr>\n",
       "      <th>10934</th>\n",
       "      <td>10933</td>\n",
       "      <td>10</td>\n",
       "      <td>10933_springborg_cute_blighs_lawrence</td>\n",
       "    </tr>\n",
       "    <tr>\n",
       "      <th>10952</th>\n",
       "      <td>10951</td>\n",
       "      <td>10</td>\n",
       "      <td>10951_kohler_alan_finance_tuesday</td>\n",
       "    </tr>\n",
       "    <tr>\n",
       "      <th>10957</th>\n",
       "      <td>10956</td>\n",
       "      <td>10</td>\n",
       "      <td>10956_honan_tyack_simla_rideout</td>\n",
       "    </tr>\n",
       "  </tbody>\n",
       "</table>\n",
       "<p>10958 rows × 3 columns</p>\n",
       "</div>"
      ],
      "text/plain": [
       "       Topic   Count                                            Name\n",
       "0         -1  556862                    -1_fire_train_guilty_assault\n",
       "6291    6290    5875            6290_gaza_israeli_palestinian_israel\n",
       "8657    8656    3984  8656_water_irrigators_restrictions_allocations\n",
       "8591    8590    3029                8590_flood_flash_flooding_floods\n",
       "7146    7145    2948            7145_electoral_voting_polling_ballot\n",
       "...      ...     ...                                             ...\n",
       "10915  10914      10       10914_molotov_cocktail_cocktails_bollards\n",
       "10919  10918      10           10918_breivik_behring_anders_breiviks\n",
       "10934  10933      10           10933_springborg_cute_blighs_lawrence\n",
       "10952  10951      10               10951_kohler_alan_finance_tuesday\n",
       "10957  10956      10                 10956_honan_tyack_simla_rideout\n",
       "\n",
       "[10958 rows x 3 columns]"
      ]
     },
     "execution_count": 10,
     "metadata": {},
     "output_type": "execute_result"
    }
   ],
   "source": [
    "gpu_topic.topic_sizes_df"
   ]
  },
  {
   "cell_type": "markdown",
   "id": "4c1a5151-3776-44b7-aebb-f3de6b183f13",
   "metadata": {},
   "source": [
    "## Running the end-to-end pipeline to extract topics"
   ]
  },
  {
   "cell_type": "code",
   "execution_count": 11,
   "id": "35829100-a893-4613-9c8b-a401a5650330",
   "metadata": {},
   "outputs": [
    {
     "name": "stdout",
     "output_type": "stream",
     "text": [
      "Label prop iterations: 37\n",
      "Label prop iterations: 13\n",
      "Label prop iterations: 11\n",
      "Label prop iterations: 7\n",
      "Label prop iterations: 6\n",
      "Label prop iterations: 6\n",
      "Label prop iterations: 2\n",
      "Label prop iterations: 2\n",
      "Iterations: 8\n",
      "2716,8391,17865,24,746,20056\n",
      "Label prop iterations: 9\n",
      "Label prop iterations: 3\n",
      "Label prop iterations: 2\n",
      "Iterations: 3\n",
      "961,162,7011,11,271,743\n",
      "Label prop iterations: 3\n",
      "Iterations: 1\n",
      "969,82,3506,6,95,162\n",
      "CPU times: user 4min 35s, sys: 57.8 s, total: 5min 33s\n",
      "Wall time: 5min 26s\n"
     ]
    }
   ],
   "source": [
    "%%time\n",
    "gpu_topic_model = gpu_BERTopic(vocab_file='../vocab/voc_hash.txt')\n",
    "topics_gpu, probs_gpu = gpu_topic_model.fit_transform(data)"
   ]
  },
  {
   "cell_type": "code",
   "execution_count": 12,
   "id": "4f1dc1fa-b591-4fe7-a593-5208607c4454",
   "metadata": {},
   "outputs": [
    {
     "name": "stdout",
     "output_type": "stream",
     "text": [
      "CPU times: user 21.7 ms, sys: 0 ns, total: 21.7 ms\n",
      "Wall time: 18.4 ms\n"
     ]
    },
    {
     "data": {
      "text/html": [
       "<div>\n",
       "<style scoped>\n",
       "    .dataframe tbody tr th:only-of-type {\n",
       "        vertical-align: middle;\n",
       "    }\n",
       "\n",
       "    .dataframe tbody tr th {\n",
       "        vertical-align: top;\n",
       "    }\n",
       "\n",
       "    .dataframe thead th {\n",
       "        text-align: right;\n",
       "    }\n",
       "</style>\n",
       "<table border=\"1\" class=\"dataframe\">\n",
       "  <thead>\n",
       "    <tr style=\"text-align: right;\">\n",
       "      <th></th>\n",
       "      <th>Topic</th>\n",
       "      <th>Count</th>\n",
       "      <th>Name</th>\n",
       "    </tr>\n",
       "  </thead>\n",
       "  <tbody>\n",
       "    <tr>\n",
       "      <th>0</th>\n",
       "      <td>-1</td>\n",
       "      <td>558053</td>\n",
       "      <td>-1_guilty_man_murder_fire</td>\n",
       "    </tr>\n",
       "    <tr>\n",
       "      <th>8018</th>\n",
       "      <td>0</td>\n",
       "      <td>3221</td>\n",
       "      <td>0_korea_jong_korean_koreas</td>\n",
       "    </tr>\n",
       "    <tr>\n",
       "      <th>10000</th>\n",
       "      <td>1</td>\n",
       "      <td>3010</td>\n",
       "      <td>1_coronavirus_covid_cases_covid19</td>\n",
       "    </tr>\n",
       "    <tr>\n",
       "      <th>9308</th>\n",
       "      <td>2</td>\n",
       "      <td>2941</td>\n",
       "      <td>2_wine_grape_winery_winemakers</td>\n",
       "    </tr>\n",
       "    <tr>\n",
       "      <th>9276</th>\n",
       "      <td>3</td>\n",
       "      <td>2780</td>\n",
       "      <td>3_bushfire_bushfires_contained_downgraded</td>\n",
       "    </tr>\n",
       "    <tr>\n",
       "      <th>...</th>\n",
       "      <td>...</td>\n",
       "      <td>...</td>\n",
       "      <td>...</td>\n",
       "    </tr>\n",
       "    <tr>\n",
       "      <th>10804</th>\n",
       "      <td>10865</td>\n",
       "      <td>10</td>\n",
       "      <td>10865_patel_lavarch_airfare_patels</td>\n",
       "    </tr>\n",
       "    <tr>\n",
       "      <th>10810</th>\n",
       "      <td>10866</td>\n",
       "      <td>10</td>\n",
       "      <td>10866_mailings_asbestos_lacey_missions</td>\n",
       "    </tr>\n",
       "    <tr>\n",
       "      <th>10821</th>\n",
       "      <td>10867</td>\n",
       "      <td>10</td>\n",
       "      <td>10867_asbestos_knowingly_minimise_pits</td>\n",
       "    </tr>\n",
       "    <tr>\n",
       "      <th>10851</th>\n",
       "      <td>10868</td>\n",
       "      <td>10</td>\n",
       "      <td>10868_oats_xi_scatter_ticehurst</td>\n",
       "    </tr>\n",
       "    <tr>\n",
       "      <th>10860</th>\n",
       "      <td>10869</td>\n",
       "      <td>10</td>\n",
       "      <td>10869_penguin_bobs_gravel_tasrail</td>\n",
       "    </tr>\n",
       "  </tbody>\n",
       "</table>\n",
       "<p>10871 rows × 3 columns</p>\n",
       "</div>"
      ],
      "text/plain": [
       "       Topic   Count                                       Name\n",
       "0         -1  558053                  -1_guilty_man_murder_fire\n",
       "8018       0    3221                 0_korea_jong_korean_koreas\n",
       "10000      1    3010          1_coronavirus_covid_cases_covid19\n",
       "9308       2    2941             2_wine_grape_winery_winemakers\n",
       "9276       3    2780  3_bushfire_bushfires_contained_downgraded\n",
       "...      ...     ...                                        ...\n",
       "10804  10865      10         10865_patel_lavarch_airfare_patels\n",
       "10810  10866      10     10866_mailings_asbestos_lacey_missions\n",
       "10821  10867      10     10867_asbestos_knowingly_minimise_pits\n",
       "10851  10868      10            10868_oats_xi_scatter_ticehurst\n",
       "10860  10869      10          10869_penguin_bobs_gravel_tasrail\n",
       "\n",
       "[10871 rows x 3 columns]"
      ]
     },
     "execution_count": 12,
     "metadata": {},
     "output_type": "execute_result"
    }
   ],
   "source": [
    "%%time\n",
    "gpu_topic_model.get_topic_info()"
   ]
  },
  {
   "cell_type": "code",
   "execution_count": 13,
   "id": "6315f539-ff43-41f1-a250-1178cb6d904d",
   "metadata": {},
   "outputs": [
    {
     "data": {
      "text/plain": [
       "[('korea', 0.01919563531487256),\n",
       " ('jong', 0.01433898681735657),\n",
       " ('korean', 0.012157346925094625),\n",
       " ('koreas', 0.009394400597796893),\n",
       " ('kim', 0.009285031247095787),\n",
       " ('north', 0.00619449878965439),\n",
       " ('missile', 0.005732123749010998),\n",
       " ('il', 0.005723975448621466),\n",
       " ('nkorea', 0.0052962113104115804),\n",
       " ('koreans', 0.005070683452143232)]"
      ]
     },
     "execution_count": 13,
     "metadata": {},
     "output_type": "execute_result"
    }
   ],
   "source": [
    "gpu_topic_model.get_topic(0)"
   ]
  }
 ],
 "metadata": {
  "kernelspec": {
   "display_name": "Python 3 (ipykernel)",
   "language": "python",
   "name": "python3"
  },
  "language_info": {
   "codemirror_mode": {
    "name": "ipython",
    "version": 3
   },
   "file_extension": ".py",
   "mimetype": "text/x-python",
   "name": "python",
   "nbconvert_exporter": "python",
   "pygments_lexer": "ipython3",
   "version": "3.8.12"
  }
 },
 "nbformat": 4,
 "nbformat_minor": 5
}
