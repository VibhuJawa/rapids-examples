{
 "cells": [
  {
   "cell_type": "code",
   "execution_count": 1,
   "id": "82c186a1-8c70-4446-9b00-ffb7aabdbd6e",
   "metadata": {},
   "outputs": [],
   "source": [
    "from sklearn.datasets import fetch_20newsgroups\n",
    "import cudf\n",
    "import cupy as cp\n",
    "import pandas as pd\n",
    "from cuBERTopic import gpu_BERTopic\n",
    "from embedding_extraction import create_embeddings\n",
    "import rmm\n",
    "import os\n",
    "from transformers import AutoModel\n",
    "\n",
    "os.environ[\"TOKENIZERS_PARALLELISM\"] = \"true\"\n",
    "rmm.reinitialize(pool_allocator=True,initial_pool_size=5e+9)"
   ]
  },
  {
   "cell_type": "markdown",
   "id": "557bfc36-5492-4753-91b3-bccf1867ec65",
   "metadata": {},
   "source": [
    "## Read Dataset"
   ]
  },
  {
   "cell_type": "code",
   "execution_count": 2,
   "id": "ae3c5e42-69c4-4869-80fb-49b3aa016672",
   "metadata": {},
   "outputs": [],
   "source": [
    "test_dataset = cudf.read_csv('/datasets/vjawa/abcnews/abcnews-date-text.csv')\n",
    "data = test_dataset['headline_text']"
   ]
  },
  {
   "cell_type": "code",
   "execution_count": 3,
   "id": "da96f945-e7fc-4030-a790-29f4173a4dda",
   "metadata": {},
   "outputs": [],
   "source": [
    "gpu_topic = gpu_BERTopic()\n",
    "documents = cudf.DataFrame(\n",
    "    {\"Document\": data, \"ID\": cp.arange(len(data)), \"Topic\": None}\n",
    ")"
   ]
  },
  {
   "cell_type": "markdown",
   "id": "4217a4c5-93a1-4f0a-a457-f624ed679c85",
   "metadata": {},
   "source": [
    "## Extract embeddings"
   ]
  },
  {
   "cell_type": "code",
   "execution_count": 4,
   "id": "0ce6ba1e-2609-461f-8fe2-fb75eb4cc5ed",
   "metadata": {},
   "outputs": [],
   "source": [
    "embedding_model = AutoModel.from_pretrained( \"sentence-transformers/all-MiniLM-L6-v2\").to('cuda')"
   ]
  },
  {
   "cell_type": "code",
   "execution_count": 5,
   "id": "67b375af-347f-412b-99fa-6ea71e1abd83",
   "metadata": {},
   "outputs": [
    {
     "name": "stdout",
     "output_type": "stream",
     "text": [
      "CPU times: user 2min 44s, sys: 1.57 s, total: 2min 46s\n",
      "Wall time: 2min 53s\n"
     ]
    }
   ],
   "source": [
    "%%time\n",
    "# Extract embeddings\n",
    "embeddings = create_embeddings(documents.Document, \n",
    "                               embedding_model,\n",
    "                               vocab_file='../vocab/voc_hash.txt')"
   ]
  },
  {
   "cell_type": "markdown",
   "id": "5c570216-837c-43f3-986b-f70fb32aea2f",
   "metadata": {},
   "source": [
    "## Umap Dimensionality Reduction"
   ]
  },
  {
   "cell_type": "code",
   "execution_count": 6,
   "id": "ef482c47-c013-4909-85c3-67a10b806fef",
   "metadata": {},
   "outputs": [
    {
     "name": "stdout",
     "output_type": "stream",
     "text": [
      "CPU times: user 1min 4s, sys: 34.3 s, total: 1min 38s\n",
      "Wall time: 1min 38s\n"
     ]
    }
   ],
   "source": [
    "%%time\n",
    "# Dimensionality Reduction\n",
    "umap_embeddings = gpu_topic.reduce_dimensionality(embeddings)\n",
    "del embeddings"
   ]
  },
  {
   "cell_type": "markdown",
   "id": "03dfa0dd-ddd8-4c84-a417-3c97d9c9125e",
   "metadata": {},
   "source": [
    "## Cluster Embedding"
   ]
  },
  {
   "cell_type": "code",
   "execution_count": 7,
   "id": "51435da5-2013-4359-8f0d-f82433a4ad00",
   "metadata": {},
   "outputs": [
    {
     "name": "stdout",
     "output_type": "stream",
     "text": [
      "Label prop iterations: 42\n",
      "CPU times: user 1min 6s, sys: 24.6 s, total: 1min 31s\n",
      "Wall time: 1min 31s\n"
     ]
    }
   ],
   "source": [
    "%%time\n",
    "# Cluster UMAP embeddings with HDBSCAN\n",
    "documents, probabilities = gpu_topic.clustering_hdbscan(\n",
    "    umap_embeddings,\n",
    "    documents\n",
    ")\n",
    "del umap_embeddings"
   ]
  },
  {
   "cell_type": "markdown",
   "id": "ae999177-6785-455a-b1b4-5405387e8262",
   "metadata": {},
   "source": [
    "## Topic representation"
   ]
  },
  {
   "cell_type": "code",
   "execution_count": 8,
   "id": "71afe5f6-0846-432c-8a7d-cf40705f0920",
   "metadata": {},
   "outputs": [
    {
     "name": "stdout",
     "output_type": "stream",
     "text": [
      "CPU times: user 5.35 s, sys: 572 ms, total: 5.92 s\n",
      "Wall time: 6.07 s\n"
     ]
    }
   ],
   "source": [
    "%%time\n",
    "# Topic representation\n",
    "tf_idf, count, docs_per_topics_topics = gpu_topic.create_topics(\n",
    "    documents\n",
    ")\n",
    "top_n_words, name_repr = gpu_topic.extract_top_n_words_per_topic(\n",
    "    tf_idf, count, docs_per_topics_topics, n=30\n",
    ")\n",
    "\n",
    "gpu_topic.topic_sizes_df[\"Name\"] = gpu_topic.topic_sizes_df[\"Topic\"].map(\n",
    "    name_repr\n",
    ")"
   ]
  },
  {
   "cell_type": "markdown",
   "id": "4c1a5151-3776-44b7-aebb-f3de6b183f13",
   "metadata": {},
   "source": [
    "## Running the end-to-end pipeline to extract topics"
   ]
  },
  {
   "cell_type": "code",
   "execution_count": 9,
   "id": "35829100-a893-4613-9c8b-a401a5650330",
   "metadata": {},
   "outputs": [
    {
     "name": "stdout",
     "output_type": "stream",
     "text": [
      "CPU times: user 5min 12s, sys: 57 s, total: 6min 9s\n",
      "Wall time: 6min 2s\n"
     ]
    }
   ],
   "source": [
    "%%time\n",
    "gpu_topic_model = gpu_BERTopic(vocab_file='../vocab/voc_hash.txt')\n",
    "topics_gpu, probs_gpu = gpu_topic_model.fit_transform(data)"
   ]
  },
  {
   "cell_type": "code",
   "execution_count": 10,
   "id": "f5850e12-78d0-4a85-82ac-6c5f06cb6f2c",
   "metadata": {},
   "outputs": [
    {
     "data": {
      "text/html": [
       "<div>\n",
       "<style scoped>\n",
       "    .dataframe tbody tr th:only-of-type {\n",
       "        vertical-align: middle;\n",
       "    }\n",
       "\n",
       "    .dataframe tbody tr th {\n",
       "        vertical-align: top;\n",
       "    }\n",
       "\n",
       "    .dataframe thead th {\n",
       "        text-align: right;\n",
       "    }\n",
       "</style>\n",
       "<table border=\"1\" class=\"dataframe\">\n",
       "  <thead>\n",
       "    <tr style=\"text-align: right;\">\n",
       "      <th></th>\n",
       "      <th>Topic</th>\n",
       "      <th>Count</th>\n",
       "      <th>Name</th>\n",
       "    </tr>\n",
       "  </thead>\n",
       "  <tbody>\n",
       "    <tr>\n",
       "      <th>0</th>\n",
       "      <td>-1</td>\n",
       "      <td>556666</td>\n",
       "      <td>-1_dealer_burglary_girlfriend_pentagon</td>\n",
       "    </tr>\n",
       "    <tr>\n",
       "      <th>6139</th>\n",
       "      <td>0</td>\n",
       "      <td>5903</td>\n",
       "      <td>0_hezbollah_abbas_palestinians_beirut</td>\n",
       "    </tr>\n",
       "    <tr>\n",
       "      <th>6794</th>\n",
       "      <td>1</td>\n",
       "      <td>3425</td>\n",
       "      <td>1_jong_koreas_il_koreans</td>\n",
       "    </tr>\n",
       "    <tr>\n",
       "      <th>8758</th>\n",
       "      <td>2</td>\n",
       "      <td>2979</td>\n",
       "      <td>2_winemakers_wines_winery_grapes</td>\n",
       "    </tr>\n",
       "    <tr>\n",
       "      <th>8682</th>\n",
       "      <td>3</td>\n",
       "      <td>2723</td>\n",
       "      <td>3_fijian_tongan_fijis_tonga</td>\n",
       "    </tr>\n",
       "    <tr>\n",
       "      <th>...</th>\n",
       "      <td>...</td>\n",
       "      <td>...</td>\n",
       "      <td>...</td>\n",
       "    </tr>\n",
       "    <tr>\n",
       "      <th>10913</th>\n",
       "      <td>10944</td>\n",
       "      <td>10</td>\n",
       "      <td>10944_fluoridation_fluoride_warrumbungle_fluor...</td>\n",
       "    </tr>\n",
       "    <tr>\n",
       "      <th>10916</th>\n",
       "      <td>10945</td>\n",
       "      <td>10</td>\n",
       "      <td>10945_varischetti_stoate_belinda_hiscock</td>\n",
       "    </tr>\n",
       "    <tr>\n",
       "      <th>10917</th>\n",
       "      <td>10946</td>\n",
       "      <td>10</td>\n",
       "      <td>10946_toad_lone_inspection_hop</td>\n",
       "    </tr>\n",
       "    <tr>\n",
       "      <th>10929</th>\n",
       "      <td>10947</td>\n",
       "      <td>10</td>\n",
       "      <td>10947_hodgman_hodgmans_ricahrd_018</td>\n",
       "    </tr>\n",
       "    <tr>\n",
       "      <th>10931</th>\n",
       "      <td>10948</td>\n",
       "      <td>10</td>\n",
       "      <td>10948_greyhounds_canidrome_macaus_greyhound</td>\n",
       "    </tr>\n",
       "  </tbody>\n",
       "</table>\n",
       "<p>10950 rows × 3 columns</p>\n",
       "</div>"
      ],
      "text/plain": [
       "       Topic   Count                                               Name\n",
       "0         -1  556666             -1_dealer_burglary_girlfriend_pentagon\n",
       "6139       0    5903              0_hezbollah_abbas_palestinians_beirut\n",
       "6794       1    3425                           1_jong_koreas_il_koreans\n",
       "8758       2    2979                   2_winemakers_wines_winery_grapes\n",
       "8682       3    2723                        3_fijian_tongan_fijis_tonga\n",
       "...      ...     ...                                                ...\n",
       "10913  10944      10  10944_fluoridation_fluoride_warrumbungle_fluor...\n",
       "10916  10945      10           10945_varischetti_stoate_belinda_hiscock\n",
       "10917  10946      10                     10946_toad_lone_inspection_hop\n",
       "10929  10947      10                 10947_hodgman_hodgmans_ricahrd_018\n",
       "10931  10948      10        10948_greyhounds_canidrome_macaus_greyhound\n",
       "\n",
       "[10950 rows x 3 columns]"
      ]
     },
     "execution_count": 10,
     "metadata": {},
     "output_type": "execute_result"
    }
   ],
   "source": [
    "gpu_topic_model.get_topic_info()"
   ]
  },
  {
   "cell_type": "code",
   "execution_count": 11,
   "id": "4f1dc1fa-b591-4fe7-a593-5208607c4454",
   "metadata": {},
   "outputs": [
    {
     "name": "stdout",
     "output_type": "stream",
     "text": [
      "CPU times: user 330 ms, sys: 9.87 ms, total: 340 ms\n",
      "Wall time: 575 ms\n"
     ]
    },
    {
     "data": {
      "text/plain": [
       "[('hezbollah', 0.00610913676936764),\n",
       " ('abbas', 0.005759148089882871),\n",
       " ('palestinians', 0.005563681779571561),\n",
       " ('beirut', 0.005238712666775752),\n",
       " ('lebanese', 0.005119743222673001),\n",
       " ('jerusalem', 0.004823289645864537),\n",
       " ('israelis', 0.004637208955532768),\n",
       " ('sharon', 0.004572436689574688),\n",
       " ('fatah', 0.004421821650886115),\n",
       " ('israels', 0.0035350177821009965)]"
      ]
     },
     "execution_count": 11,
     "metadata": {},
     "output_type": "execute_result"
    }
   ],
   "source": [
    "%%time\n",
    "gpu_topic_model.get_topic(0)"
   ]
  }
 ],
 "metadata": {
  "kernelspec": {
   "display_name": "Python 3 (ipykernel)",
   "language": "python",
   "name": "python3"
  },
  "language_info": {
   "codemirror_mode": {
    "name": "ipython",
    "version": 3
   },
   "file_extension": ".py",
   "mimetype": "text/x-python",
   "name": "python",
   "nbconvert_exporter": "python",
   "pygments_lexer": "ipython3",
   "version": "3.8.12"
  }
 },
 "nbformat": 4,
 "nbformat_minor": 5
}
