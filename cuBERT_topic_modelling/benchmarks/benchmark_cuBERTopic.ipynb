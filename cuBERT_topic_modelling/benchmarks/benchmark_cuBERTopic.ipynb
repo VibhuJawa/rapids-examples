{
 "cells": [
  {
   "cell_type": "code",
   "execution_count": 3,
   "id": "82c186a1-8c70-4446-9b00-ffb7aabdbd6e",
   "metadata": {},
   "outputs": [],
   "source": [
    "from sklearn.datasets import fetch_20newsgroups\n",
    "import cudf\n",
    "import cupy as cp\n",
    "from cuBERTopic import gpu_BERTopic\n",
    "from embedding_extraction import create_embeddings\n",
    "data = fetch_20newsgroups(subset='all')['data']"
   ]
  },
  {
   "cell_type": "code",
   "execution_count": 4,
   "id": "da96f945-e7fc-4030-a790-29f4173a4dda",
   "metadata": {},
   "outputs": [],
   "source": [
    "gpu_topic = gpu_BERTopic()\n",
    "documents = cudf.DataFrame(\n",
    "    {\"Document\": data, \"ID\": cp.arange(len(data)), \"Topic\": None}\n",
    ")"
   ]
  },
  {
   "cell_type": "code",
   "execution_count": 6,
   "id": "67b375af-347f-412b-99fa-6ea71e1abd83",
   "metadata": {},
   "outputs": [
    {
     "name": "stdout",
     "output_type": "stream",
     "text": [
      "CPU times: user 16 s, sys: 3.02 s, total: 19 s\n",
      "Wall time: 11.3 s\n"
     ]
    }
   ],
   "source": [
    "%%time\n",
    "# Extract embeddings\n",
    "embeddings = create_embeddings(\n",
    "    documents.Document\n",
    ")"
   ]
  },
  {
   "cell_type": "code",
   "execution_count": 7,
   "id": "ef482c47-c013-4909-85c3-67a10b806fef",
   "metadata": {},
   "outputs": [
    {
     "name": "stdout",
     "output_type": "stream",
     "text": [
      "CPU times: user 304 ms, sys: 276 ms, total: 580 ms\n",
      "Wall time: 581 ms\n"
     ]
    }
   ],
   "source": [
    "%%time\n",
    "# Dimensionality Reduction\n",
    "umap_embeddings = gpu_topic.reduce_dimensionality(embeddings)\n",
    "del embeddings"
   ]
  },
  {
   "cell_type": "code",
   "execution_count": 9,
   "id": "51435da5-2013-4359-8f0d-f82433a4ad00",
   "metadata": {},
   "outputs": [
    {
     "name": "stdout",
     "output_type": "stream",
     "text": [
      "Label prop iterations: 22\n",
      "Label prop iterations: 6\n",
      "Label prop iterations: 5\n",
      "Label prop iterations: 4\n",
      "Label prop iterations: 4\n",
      "Iterations: 5\n",
      "2003,164,398,14,290,1452\n",
      "Label prop iterations: 3\n",
      "Label prop iterations: 3\n",
      "Iterations: 2\n",
      "1106,75,194,7,112,263\n",
      "CPU times: user 168 ms, sys: 305 ms, total: 473 ms\n",
      "Wall time: 471 ms\n"
     ]
    }
   ],
   "source": [
    "%%time\n",
    "# Cluster UMAP embeddings with HDBSCAN\n",
    "documents, probabilities = gpu_topic.clustering_hdbscan(\n",
    "    umap_embeddings,\n",
    "    documents\n",
    ")\n",
    "del umap_embeddings"
   ]
  },
  {
   "cell_type": "code",
   "execution_count": 10,
   "id": "1810bb03-3f81-44ae-a079-1ca799b4ec87",
   "metadata": {},
   "outputs": [
    {
     "name": "stdout",
     "output_type": "stream",
     "text": [
      "CPU times: user 11 s, sys: 242 ms, total: 11.3 s\n",
      "Wall time: 11.3 s\n"
     ]
    }
   ],
   "source": [
    "%%time\n",
    "# Topic representation\n",
    "tf_idf, count, docs_per_topics_topics = gpu_topic.create_topics(\n",
    "    documents\n",
    ")\n",
    "top_n_words, name_repr = gpu_topic.extract_top_n_words_per_topic(\n",
    "    tf_idf, count, docs_per_topics_topics, n=30\n",
    ")\n",
    "\n",
    "gpu_topic.topic_sizes_df[\"Name\"] = gpu_topic.topic_sizes_df[\"Topic\"].map(\n",
    "    name_repr\n",
    ")"
   ]
  },
  {
   "cell_type": "code",
   "execution_count": null,
   "id": "35829100-a893-4613-9c8b-a401a5650330",
   "metadata": {},
   "outputs": [],
   "source": []
  }
 ],
 "metadata": {
  "kernelspec": {
   "display_name": "Python 3 (ipykernel)",
   "language": "python",
   "name": "python3"
  },
  "language_info": {
   "codemirror_mode": {
    "name": "ipython",
    "version": 3
   },
   "file_extension": ".py",
   "mimetype": "text/x-python",
   "name": "python",
   "nbconvert_exporter": "python",
   "pygments_lexer": "ipython3",
   "version": "3.8.12"
  }
 },
 "nbformat": 4,
 "nbformat_minor": 5
}
