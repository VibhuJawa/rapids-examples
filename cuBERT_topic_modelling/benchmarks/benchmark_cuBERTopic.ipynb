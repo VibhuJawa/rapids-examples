{
 "cells": [
  {
   "cell_type": "code",
   "execution_count": null,
   "id": "82c186a1-8c70-4446-9b00-ffb7aabdbd6e",
   "metadata": {},
   "outputs": [],
   "source": [
    "from sklearn.datasets import fetch_20newsgroups\n",
    "import cudf\n",
    "import cupy as cp\n",
    "import pandas as pd\n",
    "from cuBERTopic import gpu_BERTopic\n",
    "from embedding_extraction import create_embeddings\n",
    "import rmm\n",
    "import os\n",
    "os.environ[\"TOKENIZERS_PARALLELISM\"] = \"true\"\n",
    "rmm.reinitialize(pool_allocator=True,initial_pool_size=5e+9)\n",
    "data = fetch_20newsgroups(subset='all')['data']\n",
    "# test_dataset = cudf.read_csv('/raid/mayanka/abcnews-date-text.csv')\n",
    "# data = test_dataset['headline_text']"
   ]
  },
  {
   "cell_type": "code",
   "execution_count": null,
   "id": "ae3c5e42-69c4-4869-80fb-49b3aa016672",
   "metadata": {},
   "outputs": [],
   "source": [
    "len(data)"
   ]
  },
  {
   "cell_type": "code",
   "execution_count": null,
   "id": "da96f945-e7fc-4030-a790-29f4173a4dda",
   "metadata": {},
   "outputs": [],
   "source": [
    "gpu_topic = gpu_BERTopic()\n",
    "documents = cudf.DataFrame(\n",
    "    {\"Document\": data, \"ID\": cp.arange(len(data)), \"Topic\": None}\n",
    ")"
   ]
  },
  {
   "cell_type": "code",
   "execution_count": null,
   "id": "67b375af-347f-412b-99fa-6ea71e1abd83",
   "metadata": {},
   "outputs": [],
   "source": [
    "%%time\n",
    "# Extract embeddings\n",
    "embeddings = create_embeddings(\n",
    "    documents.Document\n",
    ")"
   ]
  },
  {
   "cell_type": "code",
   "execution_count": null,
   "id": "ef482c47-c013-4909-85c3-67a10b806fef",
   "metadata": {},
   "outputs": [],
   "source": [
    "%%time\n",
    "# Dimensionality Reduction\n",
    "umap_embeddings = gpu_topic.reduce_dimensionality(embeddings)\n",
    "del embeddings"
   ]
  },
  {
   "cell_type": "code",
   "execution_count": null,
   "id": "51435da5-2013-4359-8f0d-f82433a4ad00",
   "metadata": {},
   "outputs": [],
   "source": [
    "%%time\n",
    "# Cluster UMAP embeddings with HDBSCAN\n",
    "documents, probabilities = gpu_topic.clustering_hdbscan(\n",
    "    umap_embeddings,\n",
    "    documents\n",
    ")\n",
    "del umap_embeddings"
   ]
  },
  {
   "cell_type": "code",
   "execution_count": null,
   "id": "1810bb03-3f81-44ae-a079-1ca799b4ec87",
   "metadata": {},
   "outputs": [],
   "source": [
    "%%time\n",
    "# Topic representation\n",
    "tf_idf, count, docs_per_topics_topics = gpu_topic.create_topics(\n",
    "    documents\n",
    ")\n",
    "top_n_words, name_repr = gpu_topic.extract_top_n_words_per_topic(\n",
    "    tf_idf, count, docs_per_topics_topics, n=30\n",
    ")\n",
    "\n",
    "gpu_topic.topic_sizes_df[\"Name\"] = gpu_topic.topic_sizes_df[\"Topic\"].map(\n",
    "    name_repr\n",
    ")"
   ]
  },
  {
   "cell_type": "code",
   "execution_count": null,
   "id": "b31e0100-02e0-4b61-ab21-2f50b8b7b557",
   "metadata": {},
   "outputs": [],
   "source": [
    "## Running the end-to-end pipeline to extract topics"
   ]
  },
  {
   "cell_type": "code",
   "execution_count": null,
   "id": "35829100-a893-4613-9c8b-a401a5650330",
   "metadata": {},
   "outputs": [],
   "source": [
    "%%time\n",
    "gpu_topic_pipeline = gpu_BERTopic()\n",
    "topics_gpu, probs_gpu = gpu_topic_pipeline.fit_transform(data)"
   ]
  },
  {
   "cell_type": "code",
   "execution_count": null,
   "id": "d61d405c-b68d-4656-b1c9-f956e6730bfa",
   "metadata": {},
   "outputs": [],
   "source": [
    "%%time\n",
    "gpu_topic_pipeline.get_topic_info()"
   ]
  },
  {
   "cell_type": "code",
   "execution_count": null,
   "id": "ae45d7ce-e335-446b-bc87-a641d465402e",
   "metadata": {},
   "outputs": [],
   "source": [
    "%%time\n",
    "gpu_topic_pipeline.get_topic(0)"
   ]
  },
  {
   "cell_type": "code",
   "execution_count": null,
   "id": "6478c35f-3daf-4f05-8a8c-f0f712dd5a00",
   "metadata": {},
   "outputs": [],
   "source": []
  }
 ],
 "metadata": {
  "kernelspec": {
   "display_name": "Python 3 (ipykernel)",
   "language": "python",
   "name": "python3"
  },
  "language_info": {
   "codemirror_mode": {
    "name": "ipython",
    "version": 3
   },
   "file_extension": ".py",
   "mimetype": "text/x-python",
   "name": "python",
   "nbconvert_exporter": "python",
   "pygments_lexer": "ipython3",
   "version": "3.8.12"
  }
 },
 "nbformat": 4,
 "nbformat_minor": 5
}
