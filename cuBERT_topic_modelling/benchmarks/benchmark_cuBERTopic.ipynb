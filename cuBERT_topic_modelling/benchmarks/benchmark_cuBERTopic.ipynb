{
 "cells": [
  {
   "cell_type": "code",
   "execution_count": 1,
   "id": "82c186a1-8c70-4446-9b00-ffb7aabdbd6e",
   "metadata": {},
   "outputs": [],
   "source": [
    "from sklearn.datasets import fetch_20newsgroups\n",
    "import cudf\n",
    "import cupy as cp\n",
    "import pandas as pd\n",
    "from cuBERTopic import gpu_BERTopic\n",
    "from embedding_extraction import create_embeddings\n",
    "import rmm\n",
    "import os\n",
    "from transformers import AutoModel\n",
    "\n",
    "os.environ[\"TOKENIZERS_PARALLELISM\"] = \"true\"\n",
    "rmm.reinitialize(pool_allocator=True,initial_pool_size=5e+9)"
   ]
  },
  {
   "cell_type": "markdown",
   "id": "557bfc36-5492-4753-91b3-bccf1867ec65",
   "metadata": {},
   "source": [
    "## Read Dataset"
   ]
  },
  {
   "cell_type": "code",
   "execution_count": 2,
   "id": "ae3c5e42-69c4-4869-80fb-49b3aa016672",
   "metadata": {},
   "outputs": [],
   "source": [
    "test_dataset = cudf.read_csv('/datasets/vjawa/abcnews/abcnews-date-text.csv')\n",
    "data = test_dataset['headline_text']"
   ]
  },
  {
   "cell_type": "code",
   "execution_count": 3,
   "id": "da96f945-e7fc-4030-a790-29f4173a4dda",
   "metadata": {},
   "outputs": [],
   "source": [
    "gpu_topic = gpu_BERTopic()\n",
    "documents = cudf.DataFrame(\n",
    "    {\"Document\": data, \"ID\": cp.arange(len(data)), \"Topic\": None}\n",
    ")"
   ]
  },
  {
   "cell_type": "markdown",
   "id": "4217a4c5-93a1-4f0a-a457-f624ed679c85",
   "metadata": {},
   "source": [
    "## Extract embeddings"
   ]
  },
  {
   "cell_type": "code",
   "execution_count": 4,
   "id": "0ce6ba1e-2609-461f-8fe2-fb75eb4cc5ed",
   "metadata": {},
   "outputs": [],
   "source": [
    "embedding_model = AutoModel.from_pretrained( \"sentence-transformers/all-MiniLM-L6-v2\").to('cuda')"
   ]
  },
  {
   "cell_type": "code",
   "execution_count": 5,
   "id": "67b375af-347f-412b-99fa-6ea71e1abd83",
   "metadata": {},
   "outputs": [
    {
     "name": "stdout",
     "output_type": "stream",
     "text": [
      "CPU times: user 2min 19s, sys: 1.59 s, total: 2min 21s\n",
      "Wall time: 2min 14s\n"
     ]
    }
   ],
   "source": [
    "%%time\n",
    "# Extract embeddings\n",
    "embeddings = create_embeddings(documents.Document, \n",
    "                               embedding_model,\n",
    "                               vocab_file='../vocab/voc_hash.txt')"
   ]
  },
  {
   "cell_type": "markdown",
   "id": "5c570216-837c-43f3-986b-f70fb32aea2f",
   "metadata": {},
   "source": [
    "## Umap Dimensionality Reduction"
   ]
  },
  {
   "cell_type": "code",
   "execution_count": 6,
   "id": "ef482c47-c013-4909-85c3-67a10b806fef",
   "metadata": {},
   "outputs": [
    {
     "name": "stdout",
     "output_type": "stream",
     "text": [
      "CPU times: user 1min 4s, sys: 34.1 s, total: 1min 39s\n",
      "Wall time: 1min 38s\n"
     ]
    }
   ],
   "source": [
    "%%time\n",
    "# Dimensionality Reduction\n",
    "umap_embeddings = gpu_topic.reduce_dimensionality(embeddings)\n",
    "del embeddings"
   ]
  },
  {
   "cell_type": "markdown",
   "id": "03dfa0dd-ddd8-4c84-a417-3c97d9c9125e",
   "metadata": {},
   "source": [
    "## Cluster Embedding"
   ]
  },
  {
   "cell_type": "code",
   "execution_count": 7,
   "id": "51435da5-2013-4359-8f0d-f82433a4ad00",
   "metadata": {},
   "outputs": [
    {
     "name": "stdout",
     "output_type": "stream",
     "text": [
      "Label prop iterations: 36\n",
      "CPU times: user 1min 7s, sys: 24.4 s, total: 1min 31s\n",
      "Wall time: 1min 31s\n"
     ]
    }
   ],
   "source": [
    "%%time\n",
    "# Cluster UMAP embeddings with HDBSCAN\n",
    "documents, probabilities = gpu_topic.clustering_hdbscan(\n",
    "    umap_embeddings,\n",
    "    documents\n",
    ")\n",
    "del umap_embeddings"
   ]
  },
  {
   "cell_type": "markdown",
   "id": "ae999177-6785-455a-b1b4-5405387e8262",
   "metadata": {},
   "source": [
    "## Topic representation"
   ]
  },
  {
   "cell_type": "code",
   "execution_count": 8,
   "id": "71afe5f6-0846-432c-8a7d-cf40705f0920",
   "metadata": {},
   "outputs": [
    {
     "name": "stdout",
     "output_type": "stream",
     "text": [
      "CPU times: user 2.31 s, sys: 536 ms, total: 2.85 s\n",
      "Wall time: 3.69 s\n"
     ]
    },
    {
     "name": "stderr",
     "output_type": "stream",
     "text": [
      "/datasets/vjawa/miniconda3/envs/topic_dev/lib/python3.8/site-packages/cudf/core/join/_join_helpers.py:112: UserWarning: Can't safely cast column from float64 to int32, upcasting to float64.\n",
      "  warnings.warn(\n"
     ]
    }
   ],
   "source": [
    "%%time\n",
    "# Topic representation\n",
    "tf_idf, count, docs_per_topics_topics = gpu_topic.create_topics(\n",
    "    documents\n",
    ")\n",
    "top_n_words, name_repr = gpu_topic.extract_top_n_words_per_topic(\n",
    "    tf_idf, count, docs_per_topics_topics, n=30\n",
    ")\n",
    "\n",
    "gpu_topic.topic_sizes_df[\"Name\"] = gpu_topic.topic_sizes_df[\"Topic\"].map(\n",
    "    name_repr\n",
    ")"
   ]
  },
  {
   "cell_type": "markdown",
   "id": "4c1a5151-3776-44b7-aebb-f3de6b183f13",
   "metadata": {},
   "source": [
    "## Running the end-to-end pipeline to extract topics"
   ]
  },
  {
   "cell_type": "code",
   "execution_count": 9,
   "id": "35829100-a893-4613-9c8b-a401a5650330",
   "metadata": {},
   "outputs": [
    {
     "name": "stdout",
     "output_type": "stream",
     "text": [
      "CPU times: user 4min 41s, sys: 57.4 s, total: 5min 39s\n",
      "Wall time: 5min 32s\n"
     ]
    }
   ],
   "source": [
    "%%time\n",
    "gpu_topic_pipeline = gpu_BERTopic(vocab_file='../vocab/voc_hash.txt')\n",
    "topics_gpu, probs_gpu = gpu_topic_pipeline.fit_transform(data)"
   ]
  }
 ],
 "metadata": {
  "kernelspec": {
   "display_name": "Python 3 (ipykernel)",
   "language": "python",
   "name": "python3"
  },
  "language_info": {
   "codemirror_mode": {
    "name": "ipython",
    "version": 3
   },
   "file_extension": ".py",
   "mimetype": "text/x-python",
   "name": "python",
   "nbconvert_exporter": "python",
   "pygments_lexer": "ipython3",
   "version": "3.8.12"
  }
 },
 "nbformat": 4,
 "nbformat_minor": 5
}
