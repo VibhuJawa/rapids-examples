{
 "cells": [
  {
   "cell_type": "code",
   "execution_count": 1,
   "id": "82c186a1-8c70-4446-9b00-ffb7aabdbd6e",
   "metadata": {},
   "outputs": [],
   "source": [
    "from bertopic import BERTopic\n",
    "from sklearn.datasets import fetch_20newsgroups\n",
    "import pandas as pd\n",
    "from sentence_transformers import SentenceTransformer\n",
    "import os\n",
    "os.environ[\"TOKENIZERS_PARALLELISM\"] = \"true\"\n",
    "# test_dataset = pd.read_csv('/raid/mayanka/abcnews-date-text.csv')\n",
    "# data = test_dataset['headline_text'][:250000]\n",
    "data = fetch_20newsgroups(subset='all')['data']"
   ]
  },
  {
   "cell_type": "code",
   "execution_count": 2,
   "id": "da96f945-e7fc-4030-a790-29f4173a4dda",
   "metadata": {},
   "outputs": [],
   "source": [
    "topic_model = BERTopic()\n",
    "documents = pd.DataFrame({\"Document\": data,\n",
    "                      \"ID\": range(len(data)),\n",
    "                      \"Topic\": None})"
   ]
  },
  {
   "cell_type": "code",
   "execution_count": 3,
   "id": "67b375af-347f-412b-99fa-6ea71e1abd83",
   "metadata": {},
   "outputs": [
    {
     "name": "stdout",
     "output_type": "stream",
     "text": [
      "CPU times: user 3min 17s, sys: 13.7 s, total: 3min 30s\n",
      "Wall time: 35.9 s\n"
     ]
    }
   ],
   "source": [
    "%%time\n",
    "#Extract embeddings\n",
    "model = SentenceTransformer(\"all-MiniLM-L6-v2\")\n",
    "embeddings = model.encode(\n",
    "    documents.Document,\n",
    "    show_progress_bar=False\n",
    "    # device='cpu'\n",
    ")"
   ]
  },
  {
   "cell_type": "code",
   "execution_count": 4,
   "id": "ef482c47-c013-4909-85c3-67a10b806fef",
   "metadata": {},
   "outputs": [
    {
     "name": "stdout",
     "output_type": "stream",
     "text": [
      "CPU times: user 12min 20s, sys: 8.06 s, total: 12min 28s\n",
      "Wall time: 27.8 s\n"
     ]
    }
   ],
   "source": [
    "%%time\n",
    "# Dimensionality Reduction\n",
    "umap_embeddings = topic_model._reduce_dimensionality(embeddings)"
   ]
  },
  {
   "cell_type": "code",
   "execution_count": 6,
   "id": "51435da5-2013-4359-8f0d-f82433a4ad00",
   "metadata": {},
   "outputs": [
    {
     "name": "stdout",
     "output_type": "stream",
     "text": [
      "CPU times: user 901 ms, sys: 604 ms, total: 1.5 s\n",
      "Wall time: 1.86 s\n"
     ]
    }
   ],
   "source": [
    "%%time\n",
    "# Cluster UMAP embeddings with HDBSCAN\n",
    "documents, probabilities = topic_model._cluster_embeddings(umap_embeddings, documents)"
   ]
  },
  {
   "cell_type": "code",
   "execution_count": 7,
   "id": "1810bb03-3f81-44ae-a079-1ca799b4ec87",
   "metadata": {},
   "outputs": [
    {
     "name": "stdout",
     "output_type": "stream",
     "text": [
      "CPU times: user 6.56 s, sys: 160 ms, total: 6.72 s\n",
      "Wall time: 6.71 s\n"
     ]
    }
   ],
   "source": [
    "%%time\n",
    "# Sort and Map Topic IDs by their frequency\n",
    "if not topic_model.nr_topics:\n",
    "    documents = topic_model._sort_mappings_by_frequency(documents)\n",
    "\n",
    "# Extract topics by calculating c-TF-IDF\n",
    "topic_model._extract_topics(documents) # does both topic extraction and representation"
   ]
  },
  {
   "cell_type": "code",
   "execution_count": 8,
   "id": "1e8250d6-dada-4105-80c9-47dc5831a488",
   "metadata": {},
   "outputs": [],
   "source": [
    "## Running fit_transform"
   ]
  },
  {
   "cell_type": "code",
   "execution_count": 9,
   "id": "09dd98f3-388d-4d5f-94be-98fbf9a7437e",
   "metadata": {},
   "outputs": [
    {
     "name": "stdout",
     "output_type": "stream",
     "text": [
      "CPU times: user 21min, sys: 35.1 s, total: 21min 36s\n",
      "Wall time: 1min 2s\n"
     ]
    }
   ],
   "source": [
    "%%time\n",
    "topic_model_pipeline = BERTopic()\n",
    "topics, probs = topic_model_pipeline.fit_transform(data)"
   ]
  },
  {
   "cell_type": "code",
   "execution_count": 10,
   "id": "e3305bef-12d6-487a-9d34-792dbcc459e6",
   "metadata": {},
   "outputs": [
    {
     "name": "stdout",
     "output_type": "stream",
     "text": [
      "CPU times: user 4.52 ms, sys: 7 µs, total: 4.52 ms\n",
      "Wall time: 3.89 ms\n"
     ]
    },
    {
     "data": {
      "text/html": [
       "<div>\n",
       "<style scoped>\n",
       "    .dataframe tbody tr th:only-of-type {\n",
       "        vertical-align: middle;\n",
       "    }\n",
       "\n",
       "    .dataframe tbody tr th {\n",
       "        vertical-align: top;\n",
       "    }\n",
       "\n",
       "    .dataframe thead th {\n",
       "        text-align: right;\n",
       "    }\n",
       "</style>\n",
       "<table border=\"1\" class=\"dataframe\">\n",
       "  <thead>\n",
       "    <tr style=\"text-align: right;\">\n",
       "      <th></th>\n",
       "      <th>Topic</th>\n",
       "      <th>Count</th>\n",
       "      <th>Name</th>\n",
       "    </tr>\n",
       "  </thead>\n",
       "  <tbody>\n",
       "    <tr>\n",
       "      <th>0</th>\n",
       "      <td>-1</td>\n",
       "      <td>6280</td>\n",
       "      <td>-1_email_program_file_information</td>\n",
       "    </tr>\n",
       "    <tr>\n",
       "      <th>1</th>\n",
       "      <td>0</td>\n",
       "      <td>853</td>\n",
       "      <td>0_baseball_game_team_year</td>\n",
       "    </tr>\n",
       "    <tr>\n",
       "      <th>2</th>\n",
       "      <td>1</td>\n",
       "      <td>307</td>\n",
       "      <td>1_gun_guns_militia_firearms</td>\n",
       "    </tr>\n",
       "    <tr>\n",
       "      <th>3</th>\n",
       "      <td>2</td>\n",
       "      <td>187</td>\n",
       "      <td>2_image_3d_graphics_processing</td>\n",
       "    </tr>\n",
       "    <tr>\n",
       "      <th>4</th>\n",
       "      <td>3</td>\n",
       "      <td>152</td>\n",
       "      <td>3_atheists_atheism_atheist_god</td>\n",
       "    </tr>\n",
       "    <tr>\n",
       "      <th>...</th>\n",
       "      <td>...</td>\n",
       "      <td>...</td>\n",
       "      <td>...</td>\n",
       "    </tr>\n",
       "    <tr>\n",
       "      <th>362</th>\n",
       "      <td>361</td>\n",
       "      <td>10</td>\n",
       "      <td>361_solar_sail_sails_snydefjengauburnedu</td>\n",
       "    </tr>\n",
       "    <tr>\n",
       "      <th>363</th>\n",
       "      <td>362</td>\n",
       "      <td>10</td>\n",
       "      <td>362_widgets_gabi_gui_motif</td>\n",
       "    </tr>\n",
       "    <tr>\n",
       "      <th>364</th>\n",
       "      <td>363</td>\n",
       "      <td>10</td>\n",
       "      <td>363_mining_ecofreaks_miners_basalts</td>\n",
       "    </tr>\n",
       "    <tr>\n",
       "      <th>365</th>\n",
       "      <td>364</td>\n",
       "      <td>10</td>\n",
       "      <td>364_s1_s2_u1_u2</td>\n",
       "    </tr>\n",
       "    <tr>\n",
       "      <th>366</th>\n",
       "      <td>365</td>\n",
       "      <td>10</td>\n",
       "      <td>365_stuffit_mac_macintosh_files</td>\n",
       "    </tr>\n",
       "  </tbody>\n",
       "</table>\n",
       "<p>367 rows × 3 columns</p>\n",
       "</div>"
      ],
      "text/plain": [
       "     Topic  Count                                      Name\n",
       "0       -1   6280         -1_email_program_file_information\n",
       "1        0    853                 0_baseball_game_team_year\n",
       "2        1    307               1_gun_guns_militia_firearms\n",
       "3        2    187            2_image_3d_graphics_processing\n",
       "4        3    152            3_atheists_atheism_atheist_god\n",
       "..     ...    ...                                       ...\n",
       "362    361     10  361_solar_sail_sails_snydefjengauburnedu\n",
       "363    362     10                362_widgets_gabi_gui_motif\n",
       "364    363     10       363_mining_ecofreaks_miners_basalts\n",
       "365    364     10                           364_s1_s2_u1_u2\n",
       "366    365     10           365_stuffit_mac_macintosh_files\n",
       "\n",
       "[367 rows x 3 columns]"
      ]
     },
     "execution_count": 10,
     "metadata": {},
     "output_type": "execute_result"
    }
   ],
   "source": [
    "%%time\n",
    "topic_model.get_topic_info()"
   ]
  },
  {
   "cell_type": "code",
   "execution_count": 11,
   "id": "63498e7e-112f-4b70-87f6-7b68a25ee0e5",
   "metadata": {},
   "outputs": [
    {
     "name": "stdout",
     "output_type": "stream",
     "text": [
      "CPU times: user 17 µs, sys: 1e+03 ns, total: 18 µs\n",
      "Wall time: 28.4 µs\n"
     ]
    },
    {
     "data": {
      "text/plain": [
       "[('baseball', 0.00672086361283629),\n",
       " ('game', 0.005817995879831344),\n",
       " ('team', 0.005618226784043931),\n",
       " ('year', 0.005353854197670103),\n",
       " ('players', 0.005285759166032568),\n",
       " ('braves', 0.0051786048900586456),\n",
       " ('games', 0.004970825796636513),\n",
       " ('hit', 0.004924050725108594),\n",
       " ('runs', 0.004664071624908669),\n",
       " ('pitching', 0.004447818375223756)]"
      ]
     },
     "execution_count": 11,
     "metadata": {},
     "output_type": "execute_result"
    }
   ],
   "source": [
    "%%time\n",
    "topic_model.get_topic(0)"
   ]
  },
  {
   "cell_type": "code",
   "execution_count": null,
   "id": "86cd7c33-b5b6-4643-8e11-6e0c119306eb",
   "metadata": {},
   "outputs": [],
   "source": []
  }
 ],
 "metadata": {
  "kernelspec": {
   "display_name": "Python 3 (ipykernel)",
   "language": "python",
   "name": "python3"
  },
  "language_info": {
   "codemirror_mode": {
    "name": "ipython",
    "version": 3
   },
   "file_extension": ".py",
   "mimetype": "text/x-python",
   "name": "python",
   "nbconvert_exporter": "python",
   "pygments_lexer": "ipython3",
   "version": "3.8.12"
  }
 },
 "nbformat": 4,
 "nbformat_minor": 5
}
