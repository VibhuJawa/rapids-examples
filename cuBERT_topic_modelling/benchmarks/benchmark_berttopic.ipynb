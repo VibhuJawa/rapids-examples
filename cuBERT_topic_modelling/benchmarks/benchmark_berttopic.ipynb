{
 "cells": [
  {
   "cell_type": "code",
   "execution_count": 1,
   "id": "82c186a1-8c70-4446-9b00-ffb7aabdbd6e",
   "metadata": {},
   "outputs": [],
   "source": [
    "from bertopic import BERTopic\n",
    "from sklearn.datasets import fetch_20newsgroups\n",
    "import pandas as pd\n",
    "from sentence_transformers import SentenceTransformer\n",
    "import os\n",
    "os.environ[\"TOKENIZERS_PARALLELISM\"] = \"true\""
   ]
  },
  {
   "cell_type": "code",
   "execution_count": 2,
   "id": "04912ae1-32a4-43f8-911b-c7fa0fead5a9",
   "metadata": {},
   "outputs": [],
   "source": [
    "data = pd.read_csv('/datasets/vjawa/abcnews/abcnews-date-text.csv')['headline_text']"
   ]
  },
  {
   "cell_type": "code",
   "execution_count": 3,
   "id": "da96f945-e7fc-4030-a790-29f4173a4dda",
   "metadata": {},
   "outputs": [],
   "source": [
    "topic_model = BERTopic()\n",
    "documents = pd.DataFrame({\"Document\": data,\n",
    "                      \"ID\": range(len(data)),\n",
    "                      \"Topic\": None})"
   ]
  },
  {
   "cell_type": "markdown",
   "id": "149efbe0-75b1-485f-97f6-fcf4f5a56f18",
   "metadata": {},
   "source": [
    "## Extract embeddings"
   ]
  },
  {
   "cell_type": "code",
   "execution_count": 4,
   "id": "67b375af-347f-412b-99fa-6ea71e1abd83",
   "metadata": {},
   "outputs": [
    {
     "data": {
      "application/vnd.jupyter.widget-view+json": {
       "model_id": "f5c93b8f74454f2e84a06896491a0c87",
       "version_major": 2,
       "version_minor": 0
      },
      "text/plain": [
       "Batches:   0%|          | 0/19161 [00:00<?, ?it/s]"
      ]
     },
     "metadata": {},
     "output_type": "display_data"
    },
    {
     "name": "stdout",
     "output_type": "stream",
     "text": [
      "CPU times: user 35min 54s, sys: 4min 33s, total: 40min 28s\n",
      "Wall time: 3min 13s\n"
     ]
    }
   ],
   "source": [
    "%%time\n",
    "#Extract embeddings\n",
    "model = SentenceTransformer(\"all-MiniLM-L6-v2\")\n",
    "embeddings = model.encode(\n",
    "    documents.Document,\n",
    "    batch_size=64,\n",
    "    show_progress_bar=True,\n",
    "    # device='cpu'\n",
    ")"
   ]
  },
  {
   "cell_type": "markdown",
   "id": "96e2f080-750f-47da-aef3-e5fd737a1aee",
   "metadata": {},
   "source": [
    "## Dimensionality Reduction"
   ]
  },
  {
   "cell_type": "code",
   "execution_count": 5,
   "id": "ef482c47-c013-4909-85c3-67a10b806fef",
   "metadata": {},
   "outputs": [
    {
     "name": "stdout",
     "output_type": "stream",
     "text": [
      "CPU times: user 2d 21h 36min 1s, sys: 1h 40min 47s, total: 2d 23h 16min 49s\n",
      "Wall time: 1h 40min 8s\n"
     ]
    }
   ],
   "source": [
    "%%time\n",
    "# Dimensionality Reduction\n",
    "umap_embeddings = topic_model._reduce_dimensionality(embeddings)"
   ]
  },
  {
   "cell_type": "markdown",
   "id": "6eef2edf-e5eb-44ba-bf05-3614825652a9",
   "metadata": {},
   "source": [
    "## Cluster UMAP embeddings with HDBSCAN\n"
   ]
  },
  {
   "cell_type": "code",
   "execution_count": 6,
   "id": "51435da5-2013-4359-8f0d-f82433a4ad00",
   "metadata": {},
   "outputs": [
    {
     "name": "stdout",
     "output_type": "stream",
     "text": [
      "CPU times: user 6min 41s, sys: 4.51 s, total: 6min 46s\n",
      "Wall time: 7min 20s\n"
     ]
    }
   ],
   "source": [
    "%%time\n",
    "# Cluster UMAP embeddings with HDBSCAN\n",
    "documents, probabilities = topic_model._cluster_embeddings(umap_embeddings, documents)"
   ]
  },
  {
   "cell_type": "markdown",
   "id": "3adc333a-7fb3-4f95-b957-9115b9e07f5c",
   "metadata": {},
   "source": [
    "## Sort and Map Topic IDs by their frequency"
   ]
  },
  {
   "cell_type": "code",
   "execution_count": 7,
   "id": "1810bb03-3f81-44ae-a079-1ca799b4ec87",
   "metadata": {},
   "outputs": [
    {
     "name": "stdout",
     "output_type": "stream",
     "text": [
      "CPU times: user 21.5 s, sys: 1.08 s, total: 22.5 s\n",
      "Wall time: 22.5 s\n"
     ]
    }
   ],
   "source": [
    "%%time\n",
    "# Sort and Map Topic IDs by their frequency\n",
    "if not topic_model.nr_topics:\n",
    "    documents = topic_model._sort_mappings_by_frequency(documents)\n",
    "\n",
    "# Extract topics by calculating c-TF-IDF\n",
    "topic_model._extract_topics(documents) # does both topic extraction and representation"
   ]
  },
  {
   "cell_type": "markdown",
   "id": "e5da7449-0364-4f2a-ba12-d8b03a761674",
   "metadata": {},
   "source": [
    "## E2E-> Running fit_transform"
   ]
  },
  {
   "cell_type": "code",
   "execution_count": 8,
   "id": "09dd98f3-388d-4d5f-94be-98fbf9a7437e",
   "metadata": {},
   "outputs": [
    {
     "name": "stdout",
     "output_type": "stream",
     "text": [
      "CPU times: user 1d 1h 16min 34s, sys: 56min, total: 1d 2h 12min 35s\n",
      "Wall time: 42min 19s\n"
     ]
    }
   ],
   "source": [
    "%%time\n",
    "topic_model_pipeline = BERTopic()\n",
    "topics, probs = topic_model_pipeline.fit_transform(data)"
   ]
  },
  {
   "cell_type": "code",
   "execution_count": 9,
   "id": "e3305bef-12d6-487a-9d34-792dbcc459e6",
   "metadata": {},
   "outputs": [
    {
     "name": "stdout",
     "output_type": "stream",
     "text": [
      "CPU times: user 24.6 ms, sys: 9.17 ms, total: 33.7 ms\n",
      "Wall time: 32.5 ms\n"
     ]
    },
    {
     "data": {
      "text/html": [
       "<div>\n",
       "<style scoped>\n",
       "    .dataframe tbody tr th:only-of-type {\n",
       "        vertical-align: middle;\n",
       "    }\n",
       "\n",
       "    .dataframe tbody tr th {\n",
       "        vertical-align: top;\n",
       "    }\n",
       "\n",
       "    .dataframe thead th {\n",
       "        text-align: right;\n",
       "    }\n",
       "</style>\n",
       "<table border=\"1\" class=\"dataframe\">\n",
       "  <thead>\n",
       "    <tr style=\"text-align: right;\">\n",
       "      <th></th>\n",
       "      <th>Topic</th>\n",
       "      <th>Count</th>\n",
       "      <th>Name</th>\n",
       "    </tr>\n",
       "  </thead>\n",
       "  <tbody>\n",
       "    <tr>\n",
       "      <th>0</th>\n",
       "      <td>-1</td>\n",
       "      <td>527782</td>\n",
       "      <td>-1_guilty_fire_woman_arrested</td>\n",
       "    </tr>\n",
       "    <tr>\n",
       "      <th>1</th>\n",
       "      <td>0</td>\n",
       "      <td>2795</td>\n",
       "      <td>0_flood_flash_flooding_floods</td>\n",
       "    </tr>\n",
       "    <tr>\n",
       "      <th>2</th>\n",
       "      <td>1</td>\n",
       "      <td>2700</td>\n",
       "      <td>1_fiji_tonga_tongan_fijis</td>\n",
       "    </tr>\n",
       "    <tr>\n",
       "      <th>3</th>\n",
       "      <td>2</td>\n",
       "      <td>2100</td>\n",
       "      <td>2_shark_sharks_surfer_sighting</td>\n",
       "    </tr>\n",
       "    <tr>\n",
       "      <th>4</th>\n",
       "      <td>3</td>\n",
       "      <td>1973</td>\n",
       "      <td>3_png_pngs_sorcery_oneill</td>\n",
       "    </tr>\n",
       "    <tr>\n",
       "      <th>...</th>\n",
       "      <td>...</td>\n",
       "      <td>...</td>\n",
       "      <td>...</td>\n",
       "    </tr>\n",
       "    <tr>\n",
       "      <th>11261</th>\n",
       "      <td>11469</td>\n",
       "      <td>10</td>\n",
       "      <td>11469_gospers_severe_yulara_sols</td>\n",
       "    </tr>\n",
       "    <tr>\n",
       "      <th>11260</th>\n",
       "      <td>11470</td>\n",
       "      <td>10</td>\n",
       "      <td>11470_rearguard_guard_bashed_ppe</td>\n",
       "    </tr>\n",
       "    <tr>\n",
       "      <th>11259</th>\n",
       "      <td>11471</td>\n",
       "      <td>10</td>\n",
       "      <td>11471_feria_verita_eno_parramasala</td>\n",
       "    </tr>\n",
       "    <tr>\n",
       "      <th>11258</th>\n",
       "      <td>11314</td>\n",
       "      <td>10</td>\n",
       "      <td>11314_pieman_tracks_4wd_coronor</td>\n",
       "    </tr>\n",
       "    <tr>\n",
       "      <th>11473</th>\n",
       "      <td>11472</td>\n",
       "      <td>10</td>\n",
       "      <td>11472_carroll_shoo_replay_badminton</td>\n",
       "    </tr>\n",
       "  </tbody>\n",
       "</table>\n",
       "<p>11474 rows × 3 columns</p>\n",
       "</div>"
      ],
      "text/plain": [
       "       Topic   Count                                 Name\n",
       "0         -1  527782        -1_guilty_fire_woman_arrested\n",
       "1          0    2795        0_flood_flash_flooding_floods\n",
       "2          1    2700            1_fiji_tonga_tongan_fijis\n",
       "3          2    2100       2_shark_sharks_surfer_sighting\n",
       "4          3    1973            3_png_pngs_sorcery_oneill\n",
       "...      ...     ...                                  ...\n",
       "11261  11469      10     11469_gospers_severe_yulara_sols\n",
       "11260  11470      10     11470_rearguard_guard_bashed_ppe\n",
       "11259  11471      10   11471_feria_verita_eno_parramasala\n",
       "11258  11314      10      11314_pieman_tracks_4wd_coronor\n",
       "11473  11472      10  11472_carroll_shoo_replay_badminton\n",
       "\n",
       "[11474 rows x 3 columns]"
      ]
     },
     "execution_count": 9,
     "metadata": {},
     "output_type": "execute_result"
    }
   ],
   "source": [
    "%%time\n",
    "topic_model.get_topic_info()"
   ]
  },
  {
   "cell_type": "code",
   "execution_count": 10,
   "id": "63498e7e-112f-4b70-87f6-7b68a25ee0e5",
   "metadata": {},
   "outputs": [
    {
     "name": "stdout",
     "output_type": "stream",
     "text": [
      "CPU times: user 20 µs, sys: 0 ns, total: 20 µs\n",
      "Wall time: 29.1 µs\n"
     ]
    },
    {
     "data": {
      "text/plain": [
       "[('flood', 0.013034136241098766),\n",
       " ('flash', 0.011030052416256098),\n",
       " ('flooding', 0.009824295447533259),\n",
       " ('floods', 0.007223232063935848),\n",
       " ('mitigation', 0.005399498008327533),\n",
       " ('floodwaters', 0.0052701544148756685),\n",
       " ('deluge', 0.0035567393420317893),\n",
       " ('ses', 0.002957053886676728),\n",
       " ('recede', 0.0029317263206314545),\n",
       " ('flooded', 0.0028729524787099456)]"
      ]
     },
     "execution_count": 10,
     "metadata": {},
     "output_type": "execute_result"
    }
   ],
   "source": [
    "%%time\n",
    "topic_model.get_topic(0)"
   ]
  }
 ],
 "metadata": {
  "kernelspec": {
   "display_name": "Python 3 (ipykernel)",
   "language": "python",
   "name": "python3"
  },
  "language_info": {
   "codemirror_mode": {
    "name": "ipython",
    "version": 3
   },
   "file_extension": ".py",
   "mimetype": "text/x-python",
   "name": "python",
   "nbconvert_exporter": "python",
   "pygments_lexer": "ipython3",
   "version": "3.8.12"
  }
 },
 "nbformat": 4,
 "nbformat_minor": 5
}
