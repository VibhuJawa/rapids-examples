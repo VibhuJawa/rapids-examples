{
 "cells": [
  {
   "cell_type": "markdown",
   "id": "2359ad99",
   "metadata": {},
   "source": [
    "# Topic Modelling using BERTopic & cuBERTopic"
   ]
  },
  {
   "cell_type": "markdown",
   "id": "3db47080",
   "metadata": {},
   "source": [
    "Sample notebook to show cuBERTopic, a topic modelling technique that is built on top of the NVIDIA RAPIDS ecoysystem, utilizing libraries such as `cudf` and `cuml` to GPU-accelarate end-to-end workflow for extracting topic from a set of documents. We run the same operations using `BERTopic` to compare their behaviour. "
   ]
  },
  {
   "cell_type": "markdown",
   "id": "bcd242ad",
   "metadata": {},
   "source": [
    "## Quick Start\n",
    "In both the cases, we start by extracting topics from the well-known 20 newsgroups dataset from `sklearn` which is comprised of english documents"
   ]
  },
  {
   "cell_type": "markdown",
   "id": "816104f7",
   "metadata": {},
   "source": [
    "### Installing relevant packages\n",
    "Here we need to install relevant dependencies for `BERTopic` as well as we compare performance between it and `cuBERTopic`. \n",
    "\n",
    "More detailed instructions are in the README."
   ]
  },
  {
   "cell_type": "code",
   "execution_count": 1,
   "id": "a7d7867d",
   "metadata": {},
   "outputs": [],
   "source": [
    "from bertopic import BERTopic\n",
    "from sklearn.datasets import fetch_20newsgroups\n",
    "from transformers import AutoTokenizer, AutoModel\n",
    "import torch\n",
    "from cuBERTopic import gpu_BERTopic\n",
    "import rmm\n",
    "import os\n",
    "os.environ[\"TOKENIZERS_PARALLELISM\"] = \"true\"\n",
    "rmm.reinitialize(pool_allocator=True,initial_pool_size=5e+9)\n",
    "\n",
    "docs = fetch_20newsgroups(subset='all')['data']"
   ]
  },
  {
   "cell_type": "markdown",
   "id": "c1938b3c",
   "metadata": {},
   "source": [
    "### Running `BERTopic`\n",
    "`BERTopic` provides us the functionality of providing custom embeddings, so we create sentence embeddings using `AutoTokenizer` followed by `AutoModel` from `transformers` and pass it to `fit_transform` method inside `BERTopic` class, which fits the models on a collection of documents, generate topics, and return the docs with topics."
   ]
  },
  {
   "cell_type": "code",
   "execution_count": 2,
   "id": "0731e164-9be6-46d7-b8c6-70bb77e11d88",
   "metadata": {},
   "outputs": [
    {
     "data": {
      "text/plain": [
       "18846"
      ]
     },
     "execution_count": 2,
     "metadata": {},
     "output_type": "execute_result"
    }
   ],
   "source": [
    "len(docs)"
   ]
  },
  {
   "cell_type": "code",
   "execution_count": 3,
   "id": "d7ed6c4f",
   "metadata": {},
   "outputs": [
    {
     "name": "stdout",
     "output_type": "stream",
     "text": [
      "CPU times: user 52min 27s, sys: 27min 26s, total: 1h 19min 54s\n",
      "Wall time: 2min 53s\n"
     ]
    }
   ],
   "source": [
    "%%time\n",
    "# Load AutoModel from huggingface model repository\n",
    "tokenizer = AutoTokenizer.from_pretrained(\n",
    "    \"sentence-transformers/all-MiniLM-L6-v2\"\n",
    ")\n",
    "\n",
    "# Tokenize sentences\n",
    "encoded_input = tokenizer(\n",
    "    docs,\n",
    "    padding=True,\n",
    "    truncation=True,\n",
    "    max_length=128,\n",
    "    return_tensors=\"pt\"\n",
    ")\n",
    "\n",
    "# Mean Pooling - Take attention mask into account for correct averaging\n",
    "def mean_pooling(model_output, attention_mask):\n",
    "    token_embeddings = model_output[\n",
    "        0\n",
    "    ]  # First element of model_output contains all token embeddings\n",
    "    input_mask_expanded = (\n",
    "        attention_mask\n",
    "        .unsqueeze(-1)\n",
    "        .expand(token_embeddings.size())\n",
    "        .float()\n",
    "    )\n",
    "    sum_embeddings = torch.sum(token_embeddings * input_mask_expanded, 1)\n",
    "    sum_mask = torch.clamp(input_mask_expanded.sum(1), min=1e-9)\n",
    "    return sum_embeddings / sum_mask\n",
    "\n",
    "model = AutoModel.from_pretrained(\"sentence-transformers/all-MiniLM-L6-v2\")\n",
    "\n",
    "# Compute token embeddings\n",
    "with torch.no_grad():\n",
    "    model_output = model(**encoded_input)\n",
    "\n",
    "# Perform pooling. In this case, mean pooling\n",
    "sentence_embeddings = mean_pooling(\n",
    "    model_output,\n",
    "    encoded_input[\"attention_mask\"]\n",
    ")\n",
    "sentence_embeddings = sentence_embeddings.to('cpu').numpy()\n",
    "topic_model = BERTopic()\n",
    "topics_cpu, probs_cpu = topic_model.fit_transform(docs, sentence_embeddings)"
   ]
  },
  {
   "cell_type": "markdown",
   "id": "ef2a60ce",
   "metadata": {},
   "source": [
    "`get_topic_info` returns information about each topic including its id, frequency, and name "
   ]
  },
  {
   "cell_type": "code",
   "execution_count": 4,
   "id": "4fc404a9",
   "metadata": {},
   "outputs": [
    {
     "name": "stdout",
     "output_type": "stream",
     "text": [
      "CPU times: user 2.58 ms, sys: 0 ns, total: 2.58 ms\n",
      "Wall time: 2.3 ms\n"
     ]
    },
    {
     "data": {
      "text/html": [
       "<div>\n",
       "<style scoped>\n",
       "    .dataframe tbody tr th:only-of-type {\n",
       "        vertical-align: middle;\n",
       "    }\n",
       "\n",
       "    .dataframe tbody tr th {\n",
       "        vertical-align: top;\n",
       "    }\n",
       "\n",
       "    .dataframe thead th {\n",
       "        text-align: right;\n",
       "    }\n",
       "</style>\n",
       "<table border=\"1\" class=\"dataframe\">\n",
       "  <thead>\n",
       "    <tr style=\"text-align: right;\">\n",
       "      <th></th>\n",
       "      <th>Topic</th>\n",
       "      <th>Count</th>\n",
       "      <th>Name</th>\n",
       "    </tr>\n",
       "  </thead>\n",
       "  <tbody>\n",
       "    <tr>\n",
       "      <th>0</th>\n",
       "      <td>-1</td>\n",
       "      <td>6169</td>\n",
       "      <td>-1_file_drive_email_information</td>\n",
       "    </tr>\n",
       "    <tr>\n",
       "      <th>1</th>\n",
       "      <td>0</td>\n",
       "      <td>279</td>\n",
       "      <td>0_gun_guns_militia_firearms</td>\n",
       "    </tr>\n",
       "    <tr>\n",
       "      <th>2</th>\n",
       "      <td>1</td>\n",
       "      <td>241</td>\n",
       "      <td>1_car_cars_toyota_mustang</td>\n",
       "    </tr>\n",
       "    <tr>\n",
       "      <th>3</th>\n",
       "      <td>2</td>\n",
       "      <td>228</td>\n",
       "      <td>2_clipper_chip_encryption_key</td>\n",
       "    </tr>\n",
       "    <tr>\n",
       "      <th>4</th>\n",
       "      <td>3</td>\n",
       "      <td>196</td>\n",
       "      <td>3_sy_rh_reserve_year</td>\n",
       "    </tr>\n",
       "    <tr>\n",
       "      <th>...</th>\n",
       "      <td>...</td>\n",
       "      <td>...</td>\n",
       "      <td>...</td>\n",
       "    </tr>\n",
       "    <tr>\n",
       "      <th>394</th>\n",
       "      <td>393</td>\n",
       "      <td>10</td>\n",
       "      <td>393_kibology_religion_forming_disasters</td>\n",
       "    </tr>\n",
       "    <tr>\n",
       "      <th>395</th>\n",
       "      <td>394</td>\n",
       "      <td>10</td>\n",
       "      <td>394_mode_640x400_vga_vesa</td>\n",
       "    </tr>\n",
       "    <tr>\n",
       "      <th>396</th>\n",
       "      <td>395</td>\n",
       "      <td>10</td>\n",
       "      <td>395_wip_sports_eagles_fan</td>\n",
       "    </tr>\n",
       "    <tr>\n",
       "      <th>397</th>\n",
       "      <td>396</td>\n",
       "      <td>10</td>\n",
       "      <td>396_mac_rebooting_constantly_plus</td>\n",
       "    </tr>\n",
       "    <tr>\n",
       "      <th>398</th>\n",
       "      <td>397</td>\n",
       "      <td>10</td>\n",
       "      <td>397_tapes_contains_bray_duran</td>\n",
       "    </tr>\n",
       "  </tbody>\n",
       "</table>\n",
       "<p>399 rows × 3 columns</p>\n",
       "</div>"
      ],
      "text/plain": [
       "     Topic  Count                                     Name\n",
       "0       -1   6169          -1_file_drive_email_information\n",
       "1        0    279              0_gun_guns_militia_firearms\n",
       "2        1    241                1_car_cars_toyota_mustang\n",
       "3        2    228            2_clipper_chip_encryption_key\n",
       "4        3    196                     3_sy_rh_reserve_year\n",
       "..     ...    ...                                      ...\n",
       "394    393     10  393_kibology_religion_forming_disasters\n",
       "395    394     10                394_mode_640x400_vga_vesa\n",
       "396    395     10                395_wip_sports_eagles_fan\n",
       "397    396     10        396_mac_rebooting_constantly_plus\n",
       "398    397     10            397_tapes_contains_bray_duran\n",
       "\n",
       "[399 rows x 3 columns]"
      ]
     },
     "execution_count": 4,
     "metadata": {},
     "output_type": "execute_result"
    }
   ],
   "source": [
    "%%time\n",
    "topic_model.get_topic_info()"
   ]
  },
  {
   "cell_type": "markdown",
   "id": "6d5b444e",
   "metadata": {},
   "source": [
    "`get_topic` returns topics with top n words and their c-TF-IDF score\n",
    "\n",
    "-1 refers to all outliers and should typically be ignored. Next, let's take a look at the most frequent topic that was generated, topic 0:"
   ]
  },
  {
   "cell_type": "code",
   "execution_count": 5,
   "id": "b1a4b47a",
   "metadata": {},
   "outputs": [
    {
     "name": "stdout",
     "output_type": "stream",
     "text": [
      "CPU times: user 9 µs, sys: 5 µs, total: 14 µs\n",
      "Wall time: 24.3 µs\n"
     ]
    },
    {
     "data": {
      "text/plain": [
       "[('gun', 0.01439620175290087),\n",
       " ('guns', 0.00948467877156171),\n",
       " ('militia', 0.006324452798138242),\n",
       " ('firearms', 0.005763341042633199),\n",
       " ('weapons', 0.005673735137682135),\n",
       " ('weapon', 0.005168657529058602),\n",
       " ('crime', 0.004562871433230919),\n",
       " ('amendment', 0.004400026705177315),\n",
       " ('control', 0.004320586427788624),\n",
       " ('handgun', 0.004202791173387931)]"
      ]
     },
     "execution_count": 5,
     "metadata": {},
     "output_type": "execute_result"
    }
   ],
   "source": [
    "%%time\n",
    "topic_model.get_topic(0)"
   ]
  },
  {
   "cell_type": "markdown",
   "id": "e18a4fa7",
   "metadata": {},
   "source": [
    "### Running `cuBERTopic`\n",
    "`cuBERTopic` provides with a similar API for passing in `docs` as a set of strings to model on. Here, instead of using `AutoTokenizer` from `transformers`, we use `SubwordTokenizer` from `cuDF` in combination with `AutoModel` from `transformers`. \n",
    "\n",
    "Due to the stochastisch nature of UMAP, the results might differ and the quality can degrade."
   ]
  },
  {
   "cell_type": "code",
   "execution_count": 6,
   "id": "512a3834-b59b-4b0d-a215-428337ca67b9",
   "metadata": {},
   "outputs": [
    {
     "name": "stdout",
     "output_type": "stream",
     "text": [
      "Label prop iterations: 17\n",
      "Label prop iterations: 8\n",
      "Label prop iterations: 5\n",
      "Label prop iterations: 4\n",
      "Label prop iterations: 4\n",
      "Iterations: 5\n",
      "1175,214,345,19,215,1186\n",
      "Label prop iterations: 5\n",
      "Label prop iterations: 4\n",
      "Iterations: 2\n",
      "973,113,167,6,83,291\n",
      "CPU times: user 25.7 s, sys: 4.03 s, total: 29.8 s\n",
      "Wall time: 22.5 s\n"
     ]
    }
   ],
   "source": [
    "%%time\n",
    "gpu_topic = gpu_BERTopic()\n",
    "topics_gpu, probs_gpu = gpu_topic.fit_transform(docs)"
   ]
  },
  {
   "cell_type": "code",
   "execution_count": 7,
   "id": "739da6b7-33d0-4c4a-ad29-a26bb8c2c715",
   "metadata": {},
   "outputs": [
    {
     "name": "stdout",
     "output_type": "stream",
     "text": [
      "CPU times: user 15.7 ms, sys: 0 ns, total: 15.7 ms\n",
      "Wall time: 13.9 ms\n"
     ]
    },
    {
     "data": {
      "text/html": [
       "<div>\n",
       "<style scoped>\n",
       "    .dataframe tbody tr th:only-of-type {\n",
       "        vertical-align: middle;\n",
       "    }\n",
       "\n",
       "    .dataframe tbody tr th {\n",
       "        vertical-align: top;\n",
       "    }\n",
       "\n",
       "    .dataframe thead th {\n",
       "        text-align: right;\n",
       "    }\n",
       "</style>\n",
       "<table border=\"1\" class=\"dataframe\">\n",
       "  <thead>\n",
       "    <tr style=\"text-align: right;\">\n",
       "      <th></th>\n",
       "      <th>Topic</th>\n",
       "      <th>Count</th>\n",
       "      <th>Name</th>\n",
       "    </tr>\n",
       "  </thead>\n",
       "  <tbody>\n",
       "    <tr>\n",
       "      <th>0</th>\n",
       "      <td>-1</td>\n",
       "      <td>6747</td>\n",
       "      <td>-1_file_email_information_program</td>\n",
       "    </tr>\n",
       "    <tr>\n",
       "      <th>92</th>\n",
       "      <td>0</td>\n",
       "      <td>413</td>\n",
       "      <td>0_monitor_card_video_drivers</td>\n",
       "    </tr>\n",
       "    <tr>\n",
       "      <th>258</th>\n",
       "      <td>1</td>\n",
       "      <td>201</td>\n",
       "      <td>1_car_cars_convertible_toyota</td>\n",
       "    </tr>\n",
       "    <tr>\n",
       "      <th>270</th>\n",
       "      <td>2</td>\n",
       "      <td>148</td>\n",
       "      <td>2_printer_deskjet_printers_hp</td>\n",
       "    </tr>\n",
       "    <tr>\n",
       "      <th>345</th>\n",
       "      <td>3</td>\n",
       "      <td>143</td>\n",
       "      <td>3_israel_israeli_arab_arabs</td>\n",
       "    </tr>\n",
       "    <tr>\n",
       "      <th>...</th>\n",
       "      <td>...</td>\n",
       "      <td>...</td>\n",
       "      <td>...</td>\n",
       "    </tr>\n",
       "    <tr>\n",
       "      <th>334</th>\n",
       "      <td>402</td>\n",
       "      <td>10</td>\n",
       "      <td>402_jets_canucks_winnipeg_selanne</td>\n",
       "    </tr>\n",
       "    <tr>\n",
       "      <th>365</th>\n",
       "      <td>403</td>\n",
       "      <td>10</td>\n",
       "      <td>403_clipper_phone_tapped_crooks</td>\n",
       "    </tr>\n",
       "    <tr>\n",
       "      <th>389</th>\n",
       "      <td>404</td>\n",
       "      <td>10</td>\n",
       "      <td>404_ampere_amp_db_ohmite</td>\n",
       "    </tr>\n",
       "    <tr>\n",
       "      <th>399</th>\n",
       "      <td>405</td>\n",
       "      <td>10</td>\n",
       "      <td>405_smiley_object_kuiper_karla</td>\n",
       "    </tr>\n",
       "    <tr>\n",
       "      <th>402</th>\n",
       "      <td>406</td>\n",
       "      <td>10</td>\n",
       "      <td>406_moon_luna_coffman_lunar</td>\n",
       "    </tr>\n",
       "  </tbody>\n",
       "</table>\n",
       "<p>408 rows × 3 columns</p>\n",
       "</div>"
      ],
      "text/plain": [
       "     Topic  Count                               Name\n",
       "0       -1   6747  -1_file_email_information_program\n",
       "92       0    413       0_monitor_card_video_drivers\n",
       "258      1    201      1_car_cars_convertible_toyota\n",
       "270      2    148      2_printer_deskjet_printers_hp\n",
       "345      3    143        3_israel_israeli_arab_arabs\n",
       "..     ...    ...                                ...\n",
       "334    402     10  402_jets_canucks_winnipeg_selanne\n",
       "365    403     10    403_clipper_phone_tapped_crooks\n",
       "389    404     10           404_ampere_amp_db_ohmite\n",
       "399    405     10     405_smiley_object_kuiper_karla\n",
       "402    406     10        406_moon_luna_coffman_lunar\n",
       "\n",
       "[408 rows x 3 columns]"
      ]
     },
     "execution_count": 7,
     "metadata": {},
     "output_type": "execute_result"
    }
   ],
   "source": [
    "%%time\n",
    "gpu_topic.get_topic_info()"
   ]
  },
  {
   "cell_type": "code",
   "execution_count": 8,
   "id": "6ad9caf4-8016-4a95-8e74-ecb8a55ccb8e",
   "metadata": {},
   "outputs": [
    {
     "name": "stdout",
     "output_type": "stream",
     "text": [
      "CPU times: user 359 ms, sys: 37.7 ms, total: 397 ms\n",
      "Wall time: 395 ms\n"
     ]
    },
    {
     "data": {
      "text/plain": [
       "[('monitor', array(0.01571617)),\n",
       " ('card', array(0.01371929)),\n",
       " ('video', array(0.01272293)),\n",
       " ('drivers', array(0.01032598)),\n",
       " ('vga', array(0.0095135)),\n",
       " ('monitors', array(0.0088007)),\n",
       " ('ati', array(0.0078124)),\n",
       " ('diamond', array(0.00775029)),\n",
       " ('vesa', array(0.00629848)),\n",
       " ('screen', array(0.00619216))]"
      ]
     },
     "execution_count": 8,
     "metadata": {},
     "output_type": "execute_result"
    }
   ],
   "source": [
    "%%time\n",
    "gpu_topic.get_topic(0)"
   ]
  }
 ],
 "metadata": {
  "kernelspec": {
   "display_name": "Python 3 (ipykernel)",
   "language": "python",
   "name": "python3"
  },
  "language_info": {
   "codemirror_mode": {
    "name": "ipython",
    "version": 3
   },
   "file_extension": ".py",
   "mimetype": "text/x-python",
   "name": "python",
   "nbconvert_exporter": "python",
   "pygments_lexer": "ipython3",
   "version": "3.8.12"
  }
 },
 "nbformat": 4,
 "nbformat_minor": 5
}
