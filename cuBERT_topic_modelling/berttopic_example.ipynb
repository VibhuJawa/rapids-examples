{
 "cells": [
  {
   "cell_type": "markdown",
   "id": "2359ad99",
   "metadata": {},
   "source": [
    "# Topic Modelling using BERTopic & cuBERTopic"
   ]
  },
  {
   "cell_type": "markdown",
   "id": "3db47080",
   "metadata": {},
   "source": [
    "Sample notebook to show cuBERTopic, a topic modelling technique that is built on top of the NVIDIA RAPIDS ecoysystem, utilizing libraries such as `cudf` and `cuml` to GPU-accelarate end-to-end workflow for extracting topic from a set of documents. We run the same operations using `BERTopic` to compare their behaviour. "
   ]
  },
  {
   "cell_type": "markdown",
   "id": "bcd242ad",
   "metadata": {},
   "source": [
    "## Quick Start\n",
    "In both the cases, we start by extracting topics from the well-known 20 newsgroups dataset from `sklearn` which is comprised of english documents"
   ]
  },
  {
   "cell_type": "markdown",
   "id": "816104f7",
   "metadata": {},
   "source": [
    "### Installing relevant packages\n",
    "Here we need to install relevant dependencies for `BERTopic` as well as we compare performance between it and `cuBERTopic`. \n",
    "\n",
    "`cuBERTopic` runs on `cudf` and `cuml` which can be installed using instructions at https://rapids.ai/start.html and `cupy` which can be installed from https://docs.cupy.dev/en/stable/install.html\n",
    "\n",
    "More detailed instructions are in the README."
   ]
  },
  {
   "cell_type": "code",
   "execution_count": 1,
   "id": "a7d7867d",
   "metadata": {},
   "outputs": [],
   "source": [
    "from bertopic import BERTopic\n",
    "from sklearn.datasets import fetch_20newsgroups\n",
    "from transformers import AutoTokenizer, AutoModel\n",
    "import torch\n",
    "from cuBERTopic import gpu_BERTopic\n",
    "\n",
    "docs = fetch_20newsgroups(subset='all')['data']"
   ]
  },
  {
   "cell_type": "markdown",
   "id": "c1938b3c",
   "metadata": {},
   "source": [
    "### Running `BERTopic`\n",
    "`BERTopic` provides us the functionality of providing custom embeddings, so we create sentence embeddings using `AutoTokenizer` followed by `AutoModel` from `transformers` and pass it to `fit_transform` method inside `BERTopic` class, which fits the models on a collection of documents, generate topics, and return the docs with topics."
   ]
  },
  {
   "cell_type": "code",
   "execution_count": 2,
   "id": "d7ed6c4f",
   "metadata": {},
   "outputs": [
    {
     "name": "stdout",
     "output_type": "stream",
     "text": [
      "huggingface/tokenizers: The current process just got forked, after parallelism has already been used. Disabling parallelism to avoid deadlocks...\n",
      "To disable this warning, you can either:\n",
      "\t- Avoid using `tokenizers` before the fork if possible\n",
      "\t- Explicitly set the environment variable TOKENIZERS_PARALLELISM=(true | false)\n",
      "huggingface/tokenizers: The current process just got forked, after parallelism has already been used. Disabling parallelism to avoid deadlocks...\n",
      "To disable this warning, you can either:\n",
      "\t- Avoid using `tokenizers` before the fork if possible\n",
      "\t- Explicitly set the environment variable TOKENIZERS_PARALLELISM=(true | false)\n",
      "huggingface/tokenizers: The current process just got forked, after parallelism has already been used. Disabling parallelism to avoid deadlocks...\n",
      "To disable this warning, you can either:\n",
      "\t- Avoid using `tokenizers` before the fork if possible\n",
      "\t- Explicitly set the environment variable TOKENIZERS_PARALLELISM=(true | false)\n",
      "huggingface/tokenizers: The current process just got forked, after parallelism has already been used. Disabling parallelism to avoid deadlocks...\n",
      "To disable this warning, you can either:\n",
      "\t- Avoid using `tokenizers` before the fork if possible\n",
      "\t- Explicitly set the environment variable TOKENIZERS_PARALLELISM=(true | false)\n",
      "huggingface/tokenizers: The current process just got forked, after parallelism has already been used. Disabling parallelism to avoid deadlocks...\n",
      "To disable this warning, you can either:\n",
      "\t- Avoid using `tokenizers` before the fork if possible\n",
      "\t- Explicitly set the environment variable TOKENIZERS_PARALLELISM=(true | false)\n",
      "huggingface/tokenizers: The current process just got forked, after parallelism has already been used. Disabling parallelism to avoid deadlocks...\n",
      "To disable this warning, you can either:\n",
      "\t- Avoid using `tokenizers` before the fork if possible\n",
      "\t- Explicitly set the environment variable TOKENIZERS_PARALLELISM=(true | false)\n",
      "huggingface/tokenizers: The current process just got forked, after parallelism has already been used. Disabling parallelism to avoid deadlocks...\n",
      "To disable this warning, you can either:\n",
      "\t- Avoid using `tokenizers` before the fork if possible\n",
      "\t- Explicitly set the environment variable TOKENIZERS_PARALLELISM=(true | false)\n",
      "CPU times: user 57min 2s, sys: 22min 25s, total: 1h 19min 28s\n",
      "Wall time: 2min 45s\n"
     ]
    }
   ],
   "source": [
    "%%time\n",
    "# Load AutoModel from huggingface model repository\n",
    "tokenizer = AutoTokenizer.from_pretrained(\n",
    "    \"sentence-transformers/all-MiniLM-L6-v2\"\n",
    ")\n",
    "\n",
    "# Tokenize sentences\n",
    "encoded_input = tokenizer(\n",
    "    docs,\n",
    "    padding=True,\n",
    "    truncation=True,\n",
    "    max_length=128,\n",
    "    return_tensors=\"pt\"\n",
    ")\n",
    "\n",
    "# Mean Pooling - Take attention mask into account for correct averaging\n",
    "def mean_pooling(model_output, attention_mask):\n",
    "    token_embeddings = model_output[\n",
    "        0\n",
    "    ]  # First element of model_output contains all token embeddings\n",
    "    input_mask_expanded = (\n",
    "        attention_mask\n",
    "        .unsqueeze(-1)\n",
    "        .expand(token_embeddings.size())\n",
    "        .float()\n",
    "    )\n",
    "    sum_embeddings = torch.sum(token_embeddings * input_mask_expanded, 1)\n",
    "    sum_mask = torch.clamp(input_mask_expanded.sum(1), min=1e-9)\n",
    "    return sum_embeddings / sum_mask\n",
    "\n",
    "model = AutoModel.from_pretrained(\"sentence-transformers/all-MiniLM-L6-v2\")\n",
    "\n",
    "# Compute token embeddings\n",
    "with torch.no_grad():\n",
    "    model_output = model(**encoded_input)\n",
    "\n",
    "# Perform pooling. In this case, mean pooling\n",
    "sentence_embeddings = mean_pooling(\n",
    "    model_output,\n",
    "    encoded_input[\"attention_mask\"]\n",
    ")\n",
    "sentence_embeddings = sentence_embeddings.to('cpu').numpy()\n",
    "topic_model = BERTopic()\n",
    "topics_cpu, probs_cpu = topic_model.fit_transform(docs, sentence_embeddings)"
   ]
  },
  {
   "cell_type": "markdown",
   "id": "ef2a60ce",
   "metadata": {},
   "source": [
    "`get_topic_info` returns information about each topic including its id, frequency, and name "
   ]
  },
  {
   "cell_type": "code",
   "execution_count": 3,
   "id": "4fc404a9",
   "metadata": {},
   "outputs": [
    {
     "name": "stdout",
     "output_type": "stream",
     "text": [
      "CPU times: user 3.24 ms, sys: 0 ns, total: 3.24 ms\n",
      "Wall time: 2.92 ms\n"
     ]
    },
    {
     "data": {
      "text/html": [
       "<div>\n",
       "<style scoped>\n",
       "    .dataframe tbody tr th:only-of-type {\n",
       "        vertical-align: middle;\n",
       "    }\n",
       "\n",
       "    .dataframe tbody tr th {\n",
       "        vertical-align: top;\n",
       "    }\n",
       "\n",
       "    .dataframe thead th {\n",
       "        text-align: right;\n",
       "    }\n",
       "</style>\n",
       "<table border=\"1\" class=\"dataframe\">\n",
       "  <thead>\n",
       "    <tr style=\"text-align: right;\">\n",
       "      <th></th>\n",
       "      <th>Topic</th>\n",
       "      <th>Count</th>\n",
       "      <th>Name</th>\n",
       "    </tr>\n",
       "  </thead>\n",
       "  <tbody>\n",
       "    <tr>\n",
       "      <th>0</th>\n",
       "      <td>-1</td>\n",
       "      <td>6054</td>\n",
       "      <td>-1_drive_system_email_information</td>\n",
       "    </tr>\n",
       "    <tr>\n",
       "      <th>1</th>\n",
       "      <td>0</td>\n",
       "      <td>502</td>\n",
       "      <td>0_monitor_card_video_drivers</td>\n",
       "    </tr>\n",
       "    <tr>\n",
       "      <th>2</th>\n",
       "      <td>1</td>\n",
       "      <td>371</td>\n",
       "      <td>1_gun_guns_firearms_weapons</td>\n",
       "    </tr>\n",
       "    <tr>\n",
       "      <th>3</th>\n",
       "      <td>2</td>\n",
       "      <td>184</td>\n",
       "      <td>2_car_cars_toyota_automotive</td>\n",
       "    </tr>\n",
       "    <tr>\n",
       "      <th>4</th>\n",
       "      <td>3</td>\n",
       "      <td>169</td>\n",
       "      <td>3_printer_deskjet_print_hp</td>\n",
       "    </tr>\n",
       "    <tr>\n",
       "      <th>...</th>\n",
       "      <td>...</td>\n",
       "      <td>...</td>\n",
       "      <td>...</td>\n",
       "    </tr>\n",
       "    <tr>\n",
       "      <th>382</th>\n",
       "      <td>381</td>\n",
       "      <td>10</td>\n",
       "      <td>381_cd_oversampling_player_filter</td>\n",
       "    </tr>\n",
       "    <tr>\n",
       "      <th>383</th>\n",
       "      <td>382</td>\n",
       "      <td>10</td>\n",
       "      <td>382_hockey_hispanic_ice_sport</td>\n",
       "    </tr>\n",
       "    <tr>\n",
       "      <th>384</th>\n",
       "      <td>383</td>\n",
       "      <td>10</td>\n",
       "      <td>383_clipper_phone_keys_conversation</td>\n",
       "    </tr>\n",
       "    <tr>\n",
       "      <th>385</th>\n",
       "      <td>384</td>\n",
       "      <td>10</td>\n",
       "      <td>384_winfield_peak_winfields_lurie</td>\n",
       "    </tr>\n",
       "    <tr>\n",
       "      <th>386</th>\n",
       "      <td>385</td>\n",
       "      <td>10</td>\n",
       "      <td>385_tcorapicaarmymil_coradeschi_vmax_spafford</td>\n",
       "    </tr>\n",
       "  </tbody>\n",
       "</table>\n",
       "<p>387 rows × 3 columns</p>\n",
       "</div>"
      ],
      "text/plain": [
       "     Topic  Count                                           Name\n",
       "0       -1   6054              -1_drive_system_email_information\n",
       "1        0    502                   0_monitor_card_video_drivers\n",
       "2        1    371                    1_gun_guns_firearms_weapons\n",
       "3        2    184                   2_car_cars_toyota_automotive\n",
       "4        3    169                     3_printer_deskjet_print_hp\n",
       "..     ...    ...                                            ...\n",
       "382    381     10              381_cd_oversampling_player_filter\n",
       "383    382     10                  382_hockey_hispanic_ice_sport\n",
       "384    383     10            383_clipper_phone_keys_conversation\n",
       "385    384     10              384_winfield_peak_winfields_lurie\n",
       "386    385     10  385_tcorapicaarmymil_coradeschi_vmax_spafford\n",
       "\n",
       "[387 rows x 3 columns]"
      ]
     },
     "execution_count": 3,
     "metadata": {},
     "output_type": "execute_result"
    }
   ],
   "source": [
    "%%time\n",
    "topic_model.get_topic_info()"
   ]
  },
  {
   "cell_type": "markdown",
   "id": "6d5b444e",
   "metadata": {},
   "source": [
    "`get_topic` returns topics with top n words and their c-TF-IDF score\n",
    "\n",
    "-1 refers to all outliers and should typically be ignored. Next, let's take a look at the most frequent topic that was generated, topic 0:"
   ]
  },
  {
   "cell_type": "code",
   "execution_count": 4,
   "id": "b1a4b47a",
   "metadata": {},
   "outputs": [
    {
     "name": "stdout",
     "output_type": "stream",
     "text": [
      "CPU times: user 10 µs, sys: 4 µs, total: 14 µs\n",
      "Wall time: 22.9 µs\n"
     ]
    },
    {
     "data": {
      "text/plain": [
       "[('monitor', 0.01335695430028301),\n",
       " ('card', 0.012357331665604408),\n",
       " ('video', 0.011406622681194576),\n",
       " ('drivers', 0.008313304113936508),\n",
       " ('vga', 0.007676716939376939),\n",
       " ('monitors', 0.006883837547712011),\n",
       " ('diamond', 0.006440620960961699),\n",
       " ('ati', 0.006397267237023263),\n",
       " ('screen', 0.005291875700017211),\n",
       " ('driver', 0.0052012420367266166)]"
      ]
     },
     "execution_count": 4,
     "metadata": {},
     "output_type": "execute_result"
    }
   ],
   "source": [
    "%%time\n",
    "topic_model.get_topic(0)"
   ]
  },
  {
   "cell_type": "markdown",
   "id": "e18a4fa7",
   "metadata": {},
   "source": [
    "### Running `cuBERTopic`\n",
    "`cuBERTopic` provides with a similar API for passing in `docs` as a set of strings to model on. Here, instead of using `AutoTokenizer` from `transformers`, we use `SubwordTokenizer` from `cuDF` in combination with `AutoModel` from `transformers`. \n",
    "\n",
    "Due to the stochastisch nature of UMAP, the results might differ and the quality can degrade."
   ]
  },
  {
   "cell_type": "code",
   "execution_count": 5,
   "id": "512a3834-b59b-4b0d-a215-428337ca67b9",
   "metadata": {},
   "outputs": [
    {
     "name": "stdout",
     "output_type": "stream",
     "text": [
      "Label prop iterations: 22\n",
      "Label prop iterations: 8\n",
      "Label prop iterations: 6\n",
      "Label prop iterations: 4\n",
      "Label prop iterations: 6\n",
      "Iterations: 5\n",
      "2697,159,329,16,284,1472\n",
      "Label prop iterations: 4\n",
      "Label prop iterations: 2\n",
      "Iterations: 2\n",
      "1272,72,156,6,105,224\n",
      "Label prop iterations: 2\n",
      "Iterations: 1\n",
      "1003,48,104,11,59,90\n",
      "CPU times: user 30.6 s, sys: 5.75 s, total: 36.4 s\n",
      "Wall time: 28.8 s\n"
     ]
    }
   ],
   "source": [
    "%%time\n",
    "gpu_topic = gpu_BERTopic()\n",
    "topics_gpu, probs_gpu = gpu_topic.fit_transform(docs)"
   ]
  },
  {
   "cell_type": "code",
   "execution_count": 6,
   "id": "739da6b7-33d0-4c4a-ad29-a26bb8c2c715",
   "metadata": {},
   "outputs": [
    {
     "name": "stdout",
     "output_type": "stream",
     "text": [
      "CPU times: user 16.3 ms, sys: 2.5 ms, total: 18.8 ms\n",
      "Wall time: 17.1 ms\n"
     ]
    },
    {
     "data": {
      "text/html": [
       "<div>\n",
       "<style scoped>\n",
       "    .dataframe tbody tr th:only-of-type {\n",
       "        vertical-align: middle;\n",
       "    }\n",
       "\n",
       "    .dataframe tbody tr th {\n",
       "        vertical-align: top;\n",
       "    }\n",
       "\n",
       "    .dataframe thead th {\n",
       "        text-align: right;\n",
       "    }\n",
       "</style>\n",
       "<table border=\"1\" class=\"dataframe\">\n",
       "  <thead>\n",
       "    <tr style=\"text-align: right;\">\n",
       "      <th></th>\n",
       "      <th>Topic</th>\n",
       "      <th>Count</th>\n",
       "      <th>Name</th>\n",
       "    </tr>\n",
       "  </thead>\n",
       "  <tbody>\n",
       "    <tr>\n",
       "      <th>0</th>\n",
       "      <td>-1</td>\n",
       "      <td>6697</td>\n",
       "      <td>-1_email_anyone_information_god</td>\n",
       "    </tr>\n",
       "    <tr>\n",
       "      <th>50</th>\n",
       "      <td>0</td>\n",
       "      <td>358</td>\n",
       "      <td>0_gun_guns_firearms_weapons</td>\n",
       "    </tr>\n",
       "    <tr>\n",
       "      <th>271</th>\n",
       "      <td>1</td>\n",
       "      <td>182</td>\n",
       "      <td>1_hockey_leafs_team_nhl</td>\n",
       "    </tr>\n",
       "    <tr>\n",
       "      <th>221</th>\n",
       "      <td>2</td>\n",
       "      <td>148</td>\n",
       "      <td>2_bike_bikes_honda_motorcycle</td>\n",
       "    </tr>\n",
       "    <tr>\n",
       "      <th>196</th>\n",
       "      <td>3</td>\n",
       "      <td>136</td>\n",
       "      <td>3_morality_objective_moral_values</td>\n",
       "    </tr>\n",
       "    <tr>\n",
       "      <th>...</th>\n",
       "      <td>...</td>\n",
       "      <td>...</td>\n",
       "      <td>...</td>\n",
       "    </tr>\n",
       "    <tr>\n",
       "      <th>339</th>\n",
       "      <td>390</td>\n",
       "      <td>10</td>\n",
       "      <td>390_smiley_object_kuiper_karla</td>\n",
       "    </tr>\n",
       "    <tr>\n",
       "      <th>344</th>\n",
       "      <td>391</td>\n",
       "      <td>10</td>\n",
       "      <td>391_tapes_contains_bray_duran</td>\n",
       "    </tr>\n",
       "    <tr>\n",
       "      <th>347</th>\n",
       "      <td>392</td>\n",
       "      <td>10</td>\n",
       "      <td>392_vlb_card_orchid_vga</td>\n",
       "    </tr>\n",
       "    <tr>\n",
       "      <th>380</th>\n",
       "      <td>393</td>\n",
       "      <td>10</td>\n",
       "      <td>393_moon_luna_coffman_lunar</td>\n",
       "    </tr>\n",
       "    <tr>\n",
       "      <th>390</th>\n",
       "      <td>394</td>\n",
       "      <td>10</td>\n",
       "      <td>394_ampere_amp_db_ohmite</td>\n",
       "    </tr>\n",
       "  </tbody>\n",
       "</table>\n",
       "<p>396 rows × 3 columns</p>\n",
       "</div>"
      ],
      "text/plain": [
       "     Topic  Count                               Name\n",
       "0       -1   6697    -1_email_anyone_information_god\n",
       "50       0    358        0_gun_guns_firearms_weapons\n",
       "271      1    182            1_hockey_leafs_team_nhl\n",
       "221      2    148      2_bike_bikes_honda_motorcycle\n",
       "196      3    136  3_morality_objective_moral_values\n",
       "..     ...    ...                                ...\n",
       "339    390     10     390_smiley_object_kuiper_karla\n",
       "344    391     10      391_tapes_contains_bray_duran\n",
       "347    392     10            392_vlb_card_orchid_vga\n",
       "380    393     10        393_moon_luna_coffman_lunar\n",
       "390    394     10           394_ampere_amp_db_ohmite\n",
       "\n",
       "[396 rows x 3 columns]"
      ]
     },
     "execution_count": 6,
     "metadata": {},
     "output_type": "execute_result"
    }
   ],
   "source": [
    "%%time\n",
    "gpu_topic.get_topic_info()"
   ]
  },
  {
   "cell_type": "code",
   "execution_count": 7,
   "id": "6ad9caf4-8016-4a95-8e74-ecb8a55ccb8e",
   "metadata": {},
   "outputs": [
    {
     "name": "stdout",
     "output_type": "stream",
     "text": [
      "CPU times: user 124 ms, sys: 7.9 ms, total: 132 ms\n",
      "Wall time: 131 ms\n"
     ]
    },
    {
     "data": {
      "text/plain": [
       "[('gun', array(0.01540629)),\n",
       " ('guns', array(0.00905086)),\n",
       " ('firearms', array(0.00663373)),\n",
       " ('weapons', array(0.00574954)),\n",
       " ('militia', array(0.00550295)),\n",
       " ('weapon', array(0.00457949)),\n",
       " ('control', array(0.00456093)),\n",
       " ('amendment', array(0.00455747)),\n",
       " ('handgun', array(0.00446296)),\n",
       " ('firearm', array(0.0043654))]"
      ]
     },
     "execution_count": 7,
     "metadata": {},
     "output_type": "execute_result"
    }
   ],
   "source": [
    "%%time\n",
    "gpu_topic.get_topic(0)"
   ]
  }
 ],
 "metadata": {
  "kernelspec": {
   "display_name": "Python 3 (ipykernel)",
   "language": "python",
   "name": "python3"
  },
  "language_info": {
   "codemirror_mode": {
    "name": "ipython",
    "version": 3
   },
   "file_extension": ".py",
   "mimetype": "text/x-python",
   "name": "python",
   "nbconvert_exporter": "python",
   "pygments_lexer": "ipython3",
   "version": "3.8.12"
  }
 },
 "nbformat": 4,
 "nbformat_minor": 5
}
