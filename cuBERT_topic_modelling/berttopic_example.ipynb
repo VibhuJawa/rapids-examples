{
 "cells": [
  {
   "cell_type": "markdown",
   "id": "2359ad99",
   "metadata": {},
   "source": [
    "# Topic Modelling using BERTopic & cuBERTopic"
   ]
  },
  {
   "cell_type": "markdown",
   "id": "3db47080",
   "metadata": {},
   "source": [
    "Sample notebook to show cuBERTopic, a topic modelling technique that is built on top of the NVIDIA RAPIDS ecoysystem, utilizing libraries such as `cudf` and `cuml` to GPU-accelarate end-to-end workflow for extracting topic from a set of documents. We run the same operations using `BERTopic` to compare their behaviour. "
   ]
  },
  {
   "cell_type": "markdown",
   "id": "bcd242ad",
   "metadata": {},
   "source": [
    "## Quick Start\n",
    "In both the cases, we start by extracting topics from the well-known 20 newsgroups dataset from `sklearn` which is comprised of english documents"
   ]
  },
  {
   "cell_type": "markdown",
   "id": "816104f7",
   "metadata": {},
   "source": [
    "### Installing relevant packages\n",
    "Here we need to install relevant dependencies for `BERTopic` as well as we compare performance between it and `cuBERTopic`. \n",
    "\n",
    "More detailed instructions are in the README."
   ]
  },
  {
   "cell_type": "code",
   "execution_count": 1,
   "id": "a7d7867d",
   "metadata": {},
   "outputs": [],
   "source": [
    "from bertopic import BERTopic\n",
    "from sklearn.datasets import fetch_20newsgroups\n",
    "from transformers import AutoTokenizer, AutoModel\n",
    "import torch\n",
    "from cuBERTopic import gpu_BERTopic\n",
    "import rmm\n",
    "rmm.reinitialize(pool_allocator=True,initial_pool_size=5e+9)\n",
    "\n",
    "docs = fetch_20newsgroups(subset='all')['data']"
   ]
  },
  {
   "cell_type": "markdown",
   "id": "c1938b3c",
   "metadata": {},
   "source": [
    "### Running `BERTopic`\n",
    "`BERTopic` provides us the functionality of providing custom embeddings, so we create sentence embeddings using `AutoTokenizer` followed by `AutoModel` from `transformers` and pass it to `fit_transform` method inside `BERTopic` class, which fits the models on a collection of documents, generate topics, and return the docs with topics."
   ]
  },
  {
   "cell_type": "code",
   "execution_count": 2,
   "id": "0731e164-9be6-46d7-b8c6-70bb77e11d88",
   "metadata": {},
   "outputs": [
    {
     "data": {
      "text/plain": [
       "18846"
      ]
     },
     "execution_count": 2,
     "metadata": {},
     "output_type": "execute_result"
    }
   ],
   "source": [
    "len(docs)"
   ]
  },
  {
   "cell_type": "code",
   "execution_count": null,
   "id": "d7ed6c4f",
   "metadata": {},
   "outputs": [
    {
     "name": "stdout",
     "output_type": "stream",
     "text": [
      "huggingface/tokenizers: The current process just got forked, after parallelism has already been used. Disabling parallelism to avoid deadlocks...\n",
      "To disable this warning, you can either:\n",
      "\t- Avoid using `tokenizers` before the fork if possible\n",
      "\t- Explicitly set the environment variable TOKENIZERS_PARALLELISM=(true | false)\n",
      "huggingface/tokenizers: The current process just got forked, after parallelism has already been used. Disabling parallelism to avoid deadlocks...\n",
      "To disable this warning, you can either:\n",
      "\t- Avoid using `tokenizers` before the fork if possible\n",
      "\t- Explicitly set the environment variable TOKENIZERS_PARALLELISM=(true | false)\n",
      "huggingface/tokenizers: The current process just got forked, after parallelism has already been used. Disabling parallelism to avoid deadlocks...\n",
      "To disable this warning, you can either:\n",
      "\t- Avoid using `tokenizers` before the fork if possible\n",
      "\t- Explicitly set the environment variable TOKENIZERS_PARALLELISM=(true | false)\n",
      "huggingface/tokenizers: The current process just got forked, after parallelism has already been used. Disabling parallelism to avoid deadlocks...\n",
      "To disable this warning, you can either:\n",
      "\t- Avoid using `tokenizers` before the fork if possible\n",
      "\t- Explicitly set the environment variable TOKENIZERS_PARALLELISM=(true | false)\n",
      "huggingface/tokenizers: The current process just got forked, after parallelism has already been used. Disabling parallelism to avoid deadlocks...\n",
      "To disable this warning, you can either:\n",
      "\t- Avoid using `tokenizers` before the fork if possible\n",
      "\t- Explicitly set the environment variable TOKENIZERS_PARALLELISM=(true | false)\n",
      "huggingface/tokenizers: The current process just got forked, after parallelism has already been used. Disabling parallelism to avoid deadlocks...\n",
      "To disable this warning, you can either:\n",
      "\t- Avoid using `tokenizers` before the fork if possible\n",
      "\t- Explicitly set the environment variable TOKENIZERS_PARALLELISM=(true | false)\n",
      "huggingface/tokenizers: The current process just got forked, after parallelism has already been used. Disabling parallelism to avoid deadlocks...\n",
      "To disable this warning, you can either:\n",
      "\t- Avoid using `tokenizers` before the fork if possible\n",
      "\t- Explicitly set the environment variable TOKENIZERS_PARALLELISM=(true | false)\n"
     ]
    }
   ],
   "source": [
    "%%time\n",
    "# Load AutoModel from huggingface model repository\n",
    "tokenizer = AutoTokenizer.from_pretrained(\n",
    "    \"sentence-transformers/all-MiniLM-L6-v2\"\n",
    ")\n",
    "\n",
    "# Tokenize sentences\n",
    "encoded_input = tokenizer(\n",
    "    docs,\n",
    "    padding=True,\n",
    "    truncation=True,\n",
    "    max_length=128,\n",
    "    return_tensors=\"pt\"\n",
    ")\n",
    "\n",
    "# Mean Pooling - Take attention mask into account for correct averaging\n",
    "def mean_pooling(model_output, attention_mask):\n",
    "    token_embeddings = model_output[\n",
    "        0\n",
    "    ]  # First element of model_output contains all token embeddings\n",
    "    input_mask_expanded = (\n",
    "        attention_mask\n",
    "        .unsqueeze(-1)\n",
    "        .expand(token_embeddings.size())\n",
    "        .float()\n",
    "    )\n",
    "    sum_embeddings = torch.sum(token_embeddings * input_mask_expanded, 1)\n",
    "    sum_mask = torch.clamp(input_mask_expanded.sum(1), min=1e-9)\n",
    "    return sum_embeddings / sum_mask\n",
    "\n",
    "model = AutoModel.from_pretrained(\"sentence-transformers/all-MiniLM-L6-v2\")\n",
    "\n",
    "# Compute token embeddings\n",
    "with torch.no_grad():\n",
    "    model_output = model(**encoded_input)\n",
    "\n",
    "# Perform pooling. In this case, mean pooling\n",
    "sentence_embeddings = mean_pooling(\n",
    "    model_output,\n",
    "    encoded_input[\"attention_mask\"]\n",
    ")\n",
    "sentence_embeddings = sentence_embeddings.to('cpu').numpy()\n",
    "topic_model = BERTopic()\n",
    "topics_cpu, probs_cpu = topic_model.fit_transform(docs, sentence_embeddings)"
   ]
  },
  {
   "cell_type": "markdown",
   "id": "ef2a60ce",
   "metadata": {},
   "source": [
    "`get_topic_info` returns information about each topic including its id, frequency, and name "
   ]
  },
  {
   "cell_type": "code",
   "execution_count": null,
   "id": "4fc404a9",
   "metadata": {},
   "outputs": [],
   "source": [
    "%%time\n",
    "topic_model.get_topic_info()"
   ]
  },
  {
   "cell_type": "markdown",
   "id": "6d5b444e",
   "metadata": {},
   "source": [
    "`get_topic` returns topics with top n words and their c-TF-IDF score\n",
    "\n",
    "-1 refers to all outliers and should typically be ignored. Next, let's take a look at the most frequent topic that was generated, topic 0:"
   ]
  },
  {
   "cell_type": "code",
   "execution_count": null,
   "id": "b1a4b47a",
   "metadata": {},
   "outputs": [],
   "source": [
    "%%time\n",
    "topic_model.get_topic(0)"
   ]
  },
  {
   "cell_type": "markdown",
   "id": "e18a4fa7",
   "metadata": {},
   "source": [
    "### Running `cuBERTopic`\n",
    "`cuBERTopic` provides with a similar API for passing in `docs` as a set of strings to model on. Here, instead of using `AutoTokenizer` from `transformers`, we use `SubwordTokenizer` from `cuDF` in combination with `AutoModel` from `transformers`. \n",
    "\n",
    "Due to the stochastisch nature of UMAP, the results might differ and the quality can degrade."
   ]
  },
  {
   "cell_type": "code",
   "execution_count": null,
   "id": "512a3834-b59b-4b0d-a215-428337ca67b9",
   "metadata": {},
   "outputs": [],
   "source": [
    "%%time\n",
    "gpu_topic = gpu_BERTopic()\n",
    "topics_gpu, probs_gpu = gpu_topic.fit_transform(docs)"
   ]
  },
  {
   "cell_type": "code",
   "execution_count": null,
   "id": "739da6b7-33d0-4c4a-ad29-a26bb8c2c715",
   "metadata": {},
   "outputs": [],
   "source": [
    "%%time\n",
    "gpu_topic.get_topic_info()"
   ]
  },
  {
   "cell_type": "code",
   "execution_count": null,
   "id": "6ad9caf4-8016-4a95-8e74-ecb8a55ccb8e",
   "metadata": {},
   "outputs": [],
   "source": [
    "%%time\n",
    "gpu_topic.get_topic(0)"
   ]
  }
 ],
 "metadata": {
  "kernelspec": {
   "display_name": "Python 3 (ipykernel)",
   "language": "python",
   "name": "python3"
  },
  "language_info": {
   "codemirror_mode": {
    "name": "ipython",
    "version": 3
   },
   "file_extension": ".py",
   "mimetype": "text/x-python",
   "name": "python",
   "nbconvert_exporter": "python",
   "pygments_lexer": "ipython3",
   "version": "3.8.12"
  }
 },
 "nbformat": 4,
 "nbformat_minor": 5
}
