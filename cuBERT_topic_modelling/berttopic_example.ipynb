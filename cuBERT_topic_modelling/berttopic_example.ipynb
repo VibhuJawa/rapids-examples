{
 "cells": [
  {
   "cell_type": "code",
   "execution_count": 1,
   "id": "a7d7867d",
   "metadata": {},
   "outputs": [],
   "source": [
    "from bertopic import BERTopic\n",
    "from sklearn.datasets import fetch_20newsgroups\n",
    "from sentence_transformers import SentenceTransformer\n",
    "from cuBERTopic import gpu_bertopic\n",
    "import cudf\n",
    "\n",
    "docs = fetch_20newsgroups(subset='all')['data']"
   ]
  },
  {
   "cell_type": "code",
   "execution_count": 2,
   "id": "d7ed6c4f",
   "metadata": {},
   "outputs": [
    {
     "data": {
      "application/vnd.jupyter.widget-view+json": {
       "model_id": "5253392e65b54d3ca28b6ada0260003a",
       "version_major": 2,
       "version_minor": 0
      },
      "text/plain": [
       "Batches:   0%|          | 0/295 [00:00<?, ?it/s]"
      ]
     },
     "metadata": {},
     "output_type": "display_data"
    }
   ],
   "source": [
    "model_sbert = SentenceTransformer(\"all-MiniLM-L6-v2\")\n",
    "embeddings = model_sbert.encode(\n",
    "    docs,\n",
    "    show_progress_bar=True,\n",
    "    batch_size=64,\n",
    "    convert_to_numpy=True,\n",
    ")"
   ]
  },
  {
   "cell_type": "code",
   "execution_count": 3,
   "id": "fc8deab2",
   "metadata": {},
   "outputs": [
    {
     "name": "stdout",
     "output_type": "stream",
     "text": [
      "huggingface/tokenizers: The current process just got forked, after parallelism has already been used. Disabling parallelism to avoid deadlocks...\n",
      "To disable this warning, you can either:\n",
      "\t- Avoid using `tokenizers` before the fork if possible\n",
      "\t- Explicitly set the environment variable TOKENIZERS_PARALLELISM=(true | false)\n",
      "huggingface/tokenizers: The current process just got forked, after parallelism has already been used. Disabling parallelism to avoid deadlocks...\n",
      "To disable this warning, you can either:\n",
      "\t- Avoid using `tokenizers` before the fork if possible\n",
      "\t- Explicitly set the environment variable TOKENIZERS_PARALLELISM=(true | false)\n",
      "huggingface/tokenizers: The current process just got forked, after parallelism has already been used. Disabling parallelism to avoid deadlocks...\n",
      "To disable this warning, you can either:\n",
      "\t- Avoid using `tokenizers` before the fork if possible\n",
      "\t- Explicitly set the environment variable TOKENIZERS_PARALLELISM=(true | false)\n",
      "huggingface/tokenizers: The current process just got forked, after parallelism has already been used. Disabling parallelism to avoid deadlocks...\n",
      "To disable this warning, you can either:\n",
      "\t- Avoid using `tokenizers` before the fork if possible\n",
      "\t- Explicitly set the environment variable TOKENIZERS_PARALLELISM=(true | false)\n",
      "huggingface/tokenizers: The current process just got forked, after parallelism has already been used. Disabling parallelism to avoid deadlocks...\n",
      "To disable this warning, you can either:\n",
      "\t- Avoid using `tokenizers` before the fork if possible\n",
      "\t- Explicitly set the environment variable TOKENIZERS_PARALLELISM=(true | false)\n",
      "huggingface/tokenizers: The current process just got forked, after parallelism has already been used. Disabling parallelism to avoid deadlocks...\n",
      "To disable this warning, you can either:\n",
      "\t- Avoid using `tokenizers` before the fork if possible\n",
      "\t- Explicitly set the environment variable TOKENIZERS_PARALLELISM=(true | false)\n",
      "huggingface/tokenizers: The current process just got forked, after parallelism has already been used. Disabling parallelism to avoid deadlocks...\n",
      "To disable this warning, you can either:\n",
      "\t- Avoid using `tokenizers` before the fork if possible\n",
      "\t- Explicitly set the environment variable TOKENIZERS_PARALLELISM=(true | false)\n"
     ]
    }
   ],
   "source": [
    "topic_model = BERTopic()\n",
    "topics_cpu, probs_cpu = topic_model.fit_transform(docs, embeddings)"
   ]
  },
  {
   "cell_type": "code",
   "execution_count": 4,
   "id": "4fc404a9",
   "metadata": {},
   "outputs": [
    {
     "data": {
      "text/html": [
       "<div>\n",
       "<style scoped>\n",
       "    .dataframe tbody tr th:only-of-type {\n",
       "        vertical-align: middle;\n",
       "    }\n",
       "\n",
       "    .dataframe tbody tr th {\n",
       "        vertical-align: top;\n",
       "    }\n",
       "\n",
       "    .dataframe thead th {\n",
       "        text-align: right;\n",
       "    }\n",
       "</style>\n",
       "<table border=\"1\" class=\"dataframe\">\n",
       "  <thead>\n",
       "    <tr style=\"text-align: right;\">\n",
       "      <th></th>\n",
       "      <th>Topic</th>\n",
       "      <th>Count</th>\n",
       "      <th>Name</th>\n",
       "    </tr>\n",
       "  </thead>\n",
       "  <tbody>\n",
       "    <tr>\n",
       "      <th>0</th>\n",
       "      <td>-1</td>\n",
       "      <td>6104</td>\n",
       "      <td>-1_file_program_jpeg_available</td>\n",
       "    </tr>\n",
       "    <tr>\n",
       "      <th>1</th>\n",
       "      <td>0</td>\n",
       "      <td>300</td>\n",
       "      <td>0_gun_guns_firearms_militia</td>\n",
       "    </tr>\n",
       "    <tr>\n",
       "      <th>2</th>\n",
       "      <td>1</td>\n",
       "      <td>235</td>\n",
       "      <td>1_clayton_cramer_gay_homosexual</td>\n",
       "    </tr>\n",
       "    <tr>\n",
       "      <th>3</th>\n",
       "      <td>2</td>\n",
       "      <td>233</td>\n",
       "      <td>2_fire_fbi_atf_compound</td>\n",
       "    </tr>\n",
       "    <tr>\n",
       "      <th>4</th>\n",
       "      <td>3</td>\n",
       "      <td>196</td>\n",
       "      <td>3_israeli_israel_arab_arabs</td>\n",
       "    </tr>\n",
       "    <tr>\n",
       "      <th>...</th>\n",
       "      <td>...</td>\n",
       "      <td>...</td>\n",
       "      <td>...</td>\n",
       "    </tr>\n",
       "    <tr>\n",
       "      <th>362</th>\n",
       "      <td>361</td>\n",
       "      <td>10</td>\n",
       "      <td>361_osiris_masonry_mithras_egypt</td>\n",
       "    </tr>\n",
       "    <tr>\n",
       "      <th>363</th>\n",
       "      <td>362</td>\n",
       "      <td>10</td>\n",
       "      <td>362_cages_doubleparking_ggrrrrrr_34211castleed...</td>\n",
       "    </tr>\n",
       "    <tr>\n",
       "      <th>364</th>\n",
       "      <td>363</td>\n",
       "      <td>10</td>\n",
       "      <td>363_biggest_disappointment_mvp_surprise</td>\n",
       "    </tr>\n",
       "    <tr>\n",
       "      <th>365</th>\n",
       "      <td>364</td>\n",
       "      <td>10</td>\n",
       "      <td>364_cable_disk_internal_scsi</td>\n",
       "    </tr>\n",
       "    <tr>\n",
       "      <th>366</th>\n",
       "      <td>365</td>\n",
       "      <td>10</td>\n",
       "      <td>365_equation_character_font_characters</td>\n",
       "    </tr>\n",
       "  </tbody>\n",
       "</table>\n",
       "<p>367 rows × 3 columns</p>\n",
       "</div>"
      ],
      "text/plain": [
       "     Topic  Count                                               Name\n",
       "0       -1   6104                     -1_file_program_jpeg_available\n",
       "1        0    300                        0_gun_guns_firearms_militia\n",
       "2        1    235                    1_clayton_cramer_gay_homosexual\n",
       "3        2    233                            2_fire_fbi_atf_compound\n",
       "4        3    196                        3_israeli_israel_arab_arabs\n",
       "..     ...    ...                                                ...\n",
       "362    361     10                   361_osiris_masonry_mithras_egypt\n",
       "363    362     10  362_cages_doubleparking_ggrrrrrr_34211castleed...\n",
       "364    363     10            363_biggest_disappointment_mvp_surprise\n",
       "365    364     10                       364_cable_disk_internal_scsi\n",
       "366    365     10             365_equation_character_font_characters\n",
       "\n",
       "[367 rows x 3 columns]"
      ]
     },
     "execution_count": 4,
     "metadata": {},
     "output_type": "execute_result"
    }
   ],
   "source": [
    "topic_model.get_topic_info()"
   ]
  },
  {
   "cell_type": "code",
   "execution_count": 5,
   "id": "b1a4b47a",
   "metadata": {},
   "outputs": [
    {
     "data": {
      "text/plain": [
       "[('gun', 0.015695390675989157),\n",
       " ('guns', 0.009421003621008022),\n",
       " ('firearms', 0.007910979846550816),\n",
       " ('militia', 0.0066126289883310435),\n",
       " ('amendment', 0.006244535644699449),\n",
       " ('crime', 0.005471696868122501),\n",
       " ('handgun', 0.005365190429149443),\n",
       " ('control', 0.005311050033919601),\n",
       " ('firearm', 0.005001228451430933),\n",
       " ('arms', 0.0048916521514328)]"
      ]
     },
     "execution_count": 5,
     "metadata": {},
     "output_type": "execute_result"
    }
   ],
   "source": [
    "topic_model.get_topic(0)"
   ]
  },
  {
   "cell_type": "code",
   "execution_count": 6,
   "id": "512a3834-b59b-4b0d-a215-428337ca67b9",
   "metadata": {},
   "outputs": [
    {
     "name": "stdout",
     "output_type": "stream",
     "text": [
      "Label prop iterations: 22\n",
      "Label prop iterations: 10\n",
      "Label prop iterations: 5\n",
      "Label prop iterations: 5\n",
      "Label prop iterations: 3\n",
      "Label prop iterations: 2\n",
      "Iterations: 6\n",
      "4809,175,468,15,364,1607\n",
      "Label prop iterations: 4\n",
      "Iterations: 1\n",
      "3385,50,130,4,67,166\n",
      "Label prop iterations: 2\n",
      "Iterations: 1\n",
      "3935,51,131,4,64,111\n"
     ]
    }
   ],
   "source": [
    "gpu_topic = gpu_bertopic()\n",
    "topics_gpu, probs_gpu = gpu_topic.fit_transform(docs)"
   ]
  },
  {
   "cell_type": "code",
   "execution_count": 7,
   "id": "739da6b7-33d0-4c4a-ad29-a26bb8c2c715",
   "metadata": {},
   "outputs": [
    {
     "data": {
      "text/html": [
       "<div>\n",
       "<style scoped>\n",
       "    .dataframe tbody tr th:only-of-type {\n",
       "        vertical-align: middle;\n",
       "    }\n",
       "\n",
       "    .dataframe tbody tr th {\n",
       "        vertical-align: top;\n",
       "    }\n",
       "\n",
       "    .dataframe thead th {\n",
       "        text-align: right;\n",
       "    }\n",
       "</style>\n",
       "<table border=\"1\" class=\"dataframe\">\n",
       "  <thead>\n",
       "    <tr style=\"text-align: right;\">\n",
       "      <th></th>\n",
       "      <th>Topic</th>\n",
       "      <th>Count</th>\n",
       "      <th>Name</th>\n",
       "    </tr>\n",
       "  </thead>\n",
       "  <tbody>\n",
       "    <tr>\n",
       "      <th>136</th>\n",
       "      <td>-1</td>\n",
       "      <td>6540</td>\n",
       "      <td>-1_file_email_program_thanks</td>\n",
       "    </tr>\n",
       "    <tr>\n",
       "      <th>205</th>\n",
       "      <td>86</td>\n",
       "      <td>801</td>\n",
       "      <td>86_baseball_game_team_year</td>\n",
       "    </tr>\n",
       "    <tr>\n",
       "      <th>156</th>\n",
       "      <td>124</td>\n",
       "      <td>670</td>\n",
       "      <td>124_clipper_encryption_key_chip</td>\n",
       "    </tr>\n",
       "    <tr>\n",
       "      <th>41</th>\n",
       "      <td>187</td>\n",
       "      <td>357</td>\n",
       "      <td>187_gun_guns_militia_firearms</td>\n",
       "    </tr>\n",
       "    <tr>\n",
       "      <th>302</th>\n",
       "      <td>166</td>\n",
       "      <td>332</td>\n",
       "      <td>166_fbi_fire_batf_compound</td>\n",
       "    </tr>\n",
       "    <tr>\n",
       "      <th>...</th>\n",
       "      <td>...</td>\n",
       "      <td>...</td>\n",
       "      <td>...</td>\n",
       "    </tr>\n",
       "    <tr>\n",
       "      <th>313</th>\n",
       "      <td>31</td>\n",
       "      <td>10</td>\n",
       "      <td>31_audio_relays_switching_clicks</td>\n",
       "    </tr>\n",
       "    <tr>\n",
       "      <th>315</th>\n",
       "      <td>206</td>\n",
       "      <td>10</td>\n",
       "      <td>206_print_printer_file_drag</td>\n",
       "    </tr>\n",
       "    <tr>\n",
       "      <th>316</th>\n",
       "      <td>236</td>\n",
       "      <td>10</td>\n",
       "      <td>236_biggest_disappointment_mvp_surprise</td>\n",
       "    </tr>\n",
       "    <tr>\n",
       "      <th>320</th>\n",
       "      <td>208</td>\n",
       "      <td>10</td>\n",
       "      <td>208_com4_com_com3_ports</td>\n",
       "    </tr>\n",
       "    <tr>\n",
       "      <th>335</th>\n",
       "      <td>165</td>\n",
       "      <td>10</td>\n",
       "      <td>165_gallivan_letterman_hockey_kelly</td>\n",
       "    </tr>\n",
       "  </tbody>\n",
       "</table>\n",
       "<p>338 rows × 3 columns</p>\n",
       "</div>"
      ],
      "text/plain": [
       "     Topic  Count                                     Name\n",
       "136     -1   6540             -1_file_email_program_thanks\n",
       "205     86    801               86_baseball_game_team_year\n",
       "156    124    670          124_clipper_encryption_key_chip\n",
       "41     187    357            187_gun_guns_militia_firearms\n",
       "302    166    332               166_fbi_fire_batf_compound\n",
       "..     ...    ...                                      ...\n",
       "313     31     10         31_audio_relays_switching_clicks\n",
       "315    206     10              206_print_printer_file_drag\n",
       "316    236     10  236_biggest_disappointment_mvp_surprise\n",
       "320    208     10                  208_com4_com_com3_ports\n",
       "335    165     10      165_gallivan_letterman_hockey_kelly\n",
       "\n",
       "[338 rows x 3 columns]"
      ]
     },
     "execution_count": 7,
     "metadata": {},
     "output_type": "execute_result"
    }
   ],
   "source": [
    "gpu_topic.get_topic_info()"
   ]
  },
  {
   "cell_type": "code",
   "execution_count": 8,
   "id": "6ad9caf4-8016-4a95-8e74-ecb8a55ccb8e",
   "metadata": {},
   "outputs": [
    {
     "data": {
      "text/plain": [
       "[('gun', array(0.01414468)),\n",
       " ('guns', array(0.00932788)),\n",
       " ('militia', array(0.00753051)),\n",
       " ('firearms', array(0.00646954)),\n",
       " ('weapons', array(0.00624489)),\n",
       " ('amendment', array(0.00568526)),\n",
       " ('weapon', array(0.00506543)),\n",
       " ('crime', array(0.00500248)),\n",
       " ('arms', array(0.00498124)),\n",
       " ('control', array(0.00426253))]"
      ]
     },
     "execution_count": 8,
     "metadata": {},
     "output_type": "execute_result"
    }
   ],
   "source": [
    "gpu_topic.get_topic(187)"
   ]
  },
  {
   "cell_type": "code",
   "execution_count": null,
   "id": "c7259902-13c6-4480-9d2a-89a73a3dcb70",
   "metadata": {},
   "outputs": [],
   "source": []
  }
 ],
 "metadata": {
  "kernelspec": {
   "display_name": "Python 3 (ipykernel)",
   "language": "python",
   "name": "python3"
  },
  "language_info": {
   "codemirror_mode": {
    "name": "ipython",
    "version": 3
   },
   "file_extension": ".py",
   "mimetype": "text/x-python",
   "name": "python",
   "nbconvert_exporter": "python",
   "pygments_lexer": "ipython3",
   "version": "3.8.12"
  }
 },
 "nbformat": 4,
 "nbformat_minor": 5
}
