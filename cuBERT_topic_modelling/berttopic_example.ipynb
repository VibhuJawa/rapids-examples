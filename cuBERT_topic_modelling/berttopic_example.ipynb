{
 "cells": [
  {
   "cell_type": "markdown",
   "id": "2359ad99",
   "metadata": {},
   "source": [
    "# Topic Modelling using BERTopic & cuBERTopic"
   ]
  },
  {
   "cell_type": "markdown",
   "id": "3db47080",
   "metadata": {},
   "source": [
    "Sample notebook to show cuBERTopic, a topic modelling technique that is built on top of the NVIDIA RAPIDS ecoysystem, utilizing libraries such as `cudf` and `cuml` to GPU-accelarate end-to-end workflow for extracting topic from a set of documents."
   ]
  },
  {
   "cell_type": "markdown",
   "id": "816104f7",
   "metadata": {},
   "source": [
    "### Installing relevant packages\n",
    "Here we need to install relevant dependencies for `BERTopic` as well as we copare performance between it and `cuBERTopic`"
   ]
  },
  {
   "cell_type": "code",
   "execution_count": 1,
   "id": "a7d7867d",
   "metadata": {},
   "outputs": [],
   "source": [
    "from bertopic import BERTopic\n",
    "from sklearn.datasets import fetch_20newsgroups\n",
    "from sentence_transformers import SentenceTransformer\n",
    "from cuBERTopic import gpu_bertopic\n",
    "\n",
    "docs = fetch_20newsgroups(subset='all')['data']"
   ]
  },
  {
   "cell_type": "markdown",
   "id": "c1938b3c",
   "metadata": {},
   "source": [
    "### Running `BERTopic`\n",
    "`BERTopic` provides us the functionality of providing custom embeddings, so we create sentence embeddings using a `SentenceTransformer` model and pass it to `fit_transform` method inside `BERTopic` class, which fits the models on a collection of documents, generate topics, and return the docs with topics."
   ]
  },
  {
   "cell_type": "code",
   "execution_count": 2,
   "id": "d7ed6c4f",
   "metadata": {},
   "outputs": [
    {
     "data": {
      "application/vnd.jupyter.widget-view+json": {
       "model_id": "4925d76ed3204e708f62356a95e99556",
       "version_major": 2,
       "version_minor": 0
      },
      "text/plain": [
       "Batches:   0%|          | 0/295 [00:00<?, ?it/s]"
      ]
     },
     "metadata": {},
     "output_type": "display_data"
    },
    {
     "name": "stdout",
     "output_type": "stream",
     "text": [
      "huggingface/tokenizers: The current process just got forked, after parallelism has already been used. Disabling parallelism to avoid deadlocks...\n",
      "To disable this warning, you can either:\n",
      "\t- Avoid using `tokenizers` before the fork if possible\n",
      "\t- Explicitly set the environment variable TOKENIZERS_PARALLELISM=(true | false)\n",
      "huggingface/tokenizers: The current process just got forked, after parallelism has already been used. Disabling parallelism to avoid deadlocks...\n",
      "To disable this warning, you can either:\n",
      "\t- Avoid using `tokenizers` before the fork if possible\n",
      "\t- Explicitly set the environment variable TOKENIZERS_PARALLELISM=(true | false)\n",
      "huggingface/tokenizers: The current process just got forked, after parallelism has already been used. Disabling parallelism to avoid deadlocks...\n",
      "To disable this warning, you can either:\n",
      "\t- Avoid using `tokenizers` before the fork if possible\n",
      "\t- Explicitly set the environment variable TOKENIZERS_PARALLELISM=(true | false)\n",
      "huggingface/tokenizers: The current process just got forked, after parallelism has already been used. Disabling parallelism to avoid deadlocks...\n",
      "To disable this warning, you can either:\n",
      "\t- Avoid using `tokenizers` before the fork if possible\n",
      "\t- Explicitly set the environment variable TOKENIZERS_PARALLELISM=(true | false)\n",
      "huggingface/tokenizers: The current process just got forked, after parallelism has already been used. Disabling parallelism to avoid deadlocks...\n",
      "To disable this warning, you can either:\n",
      "\t- Avoid using `tokenizers` before the fork if possible\n",
      "\t- Explicitly set the environment variable TOKENIZERS_PARALLELISM=(true | false)\n",
      "huggingface/tokenizers: The current process just got forked, after parallelism has already been used. Disabling parallelism to avoid deadlocks...\n",
      "To disable this warning, you can either:\n",
      "\t- Avoid using `tokenizers` before the fork if possible\n",
      "\t- Explicitly set the environment variable TOKENIZERS_PARALLELISM=(true | false)\n",
      "huggingface/tokenizers: The current process just got forked, after parallelism has already been used. Disabling parallelism to avoid deadlocks...\n",
      "To disable this warning, you can either:\n",
      "\t- Avoid using `tokenizers` before the fork if possible\n",
      "\t- Explicitly set the environment variable TOKENIZERS_PARALLELISM=(true | false)\n",
      "CPU times: user 12min 18s, sys: 46.7 s, total: 13min 5s\n",
      "Wall time: 1min 24s\n"
     ]
    }
   ],
   "source": [
    "%%time\n",
    "model_sbert = SentenceTransformer(\"all-MiniLM-L6-v2\")\n",
    "embeddings = model_sbert.encode(\n",
    "    docs,\n",
    "    show_progress_bar=True,\n",
    "    batch_size=64,\n",
    "    convert_to_numpy=True,\n",
    ")\n",
    "topic_model = BERTopic()\n",
    "topics_cpu, probs_cpu = topic_model.fit_transform(docs, embeddings)"
   ]
  },
  {
   "cell_type": "markdown",
   "id": "ef2a60ce",
   "metadata": {},
   "source": [
    "`get_topic_info` returns information about each topic including its id, frequency, and name "
   ]
  },
  {
   "cell_type": "code",
   "execution_count": 3,
   "id": "4fc404a9",
   "metadata": {},
   "outputs": [
    {
     "name": "stdout",
     "output_type": "stream",
     "text": [
      "CPU times: user 3.56 ms, sys: 644 µs, total: 4.2 ms\n",
      "Wall time: 3.42 ms\n"
     ]
    },
    {
     "data": {
      "text/html": [
       "<div>\n",
       "<style scoped>\n",
       "    .dataframe tbody tr th:only-of-type {\n",
       "        vertical-align: middle;\n",
       "    }\n",
       "\n",
       "    .dataframe tbody tr th {\n",
       "        vertical-align: top;\n",
       "    }\n",
       "\n",
       "    .dataframe thead th {\n",
       "        text-align: right;\n",
       "    }\n",
       "</style>\n",
       "<table border=\"1\" class=\"dataframe\">\n",
       "  <thead>\n",
       "    <tr style=\"text-align: right;\">\n",
       "      <th></th>\n",
       "      <th>Topic</th>\n",
       "      <th>Count</th>\n",
       "      <th>Name</th>\n",
       "    </tr>\n",
       "  </thead>\n",
       "  <tbody>\n",
       "    <tr>\n",
       "      <th>0</th>\n",
       "      <td>-1</td>\n",
       "      <td>5641</td>\n",
       "      <td>-1_file_program_available_system</td>\n",
       "    </tr>\n",
       "    <tr>\n",
       "      <th>1</th>\n",
       "      <td>0</td>\n",
       "      <td>852</td>\n",
       "      <td>0_baseball_game_team_year</td>\n",
       "    </tr>\n",
       "    <tr>\n",
       "      <th>2</th>\n",
       "      <td>1</td>\n",
       "      <td>460</td>\n",
       "      <td>1_drive_scsi_ide_drives</td>\n",
       "    </tr>\n",
       "    <tr>\n",
       "      <th>3</th>\n",
       "      <td>2</td>\n",
       "      <td>391</td>\n",
       "      <td>2_gun_guns_militia_firearms</td>\n",
       "    </tr>\n",
       "    <tr>\n",
       "      <th>4</th>\n",
       "      <td>3</td>\n",
       "      <td>246</td>\n",
       "      <td>3_address_lyme_internet_mailing</td>\n",
       "    </tr>\n",
       "    <tr>\n",
       "      <th>...</th>\n",
       "      <td>...</td>\n",
       "      <td>...</td>\n",
       "      <td>...</td>\n",
       "    </tr>\n",
       "    <tr>\n",
       "      <th>333</th>\n",
       "      <td>340</td>\n",
       "      <td>11</td>\n",
       "      <td>340_timing_ultralong_timer_snow</td>\n",
       "    </tr>\n",
       "    <tr>\n",
       "      <th>331</th>\n",
       "      <td>336</td>\n",
       "      <td>11</td>\n",
       "      <td>336_finnish_finland_players_team</td>\n",
       "    </tr>\n",
       "    <tr>\n",
       "      <th>343</th>\n",
       "      <td>342</td>\n",
       "      <td>10</td>\n",
       "      <td>342_fbi_atf_compound_press</td>\n",
       "    </tr>\n",
       "    <tr>\n",
       "      <th>344</th>\n",
       "      <td>343</td>\n",
       "      <td>10</td>\n",
       "      <td>343_morality_objective_maddi_conner</td>\n",
       "    </tr>\n",
       "    <tr>\n",
       "      <th>345</th>\n",
       "      <td>344</td>\n",
       "      <td>10</td>\n",
       "      <td>344_polio_postpolio_syndrome_patients</td>\n",
       "    </tr>\n",
       "  </tbody>\n",
       "</table>\n",
       "<p>346 rows × 3 columns</p>\n",
       "</div>"
      ],
      "text/plain": [
       "     Topic  Count                                   Name\n",
       "0       -1   5641       -1_file_program_available_system\n",
       "1        0    852              0_baseball_game_team_year\n",
       "2        1    460                1_drive_scsi_ide_drives\n",
       "3        2    391            2_gun_guns_militia_firearms\n",
       "4        3    246        3_address_lyme_internet_mailing\n",
       "..     ...    ...                                    ...\n",
       "333    340     11        340_timing_ultralong_timer_snow\n",
       "331    336     11       336_finnish_finland_players_team\n",
       "343    342     10             342_fbi_atf_compound_press\n",
       "344    343     10    343_morality_objective_maddi_conner\n",
       "345    344     10  344_polio_postpolio_syndrome_patients\n",
       "\n",
       "[346 rows x 3 columns]"
      ]
     },
     "execution_count": 3,
     "metadata": {},
     "output_type": "execute_result"
    }
   ],
   "source": [
    "%%time\n",
    "topic_model.get_topic_info()"
   ]
  },
  {
   "cell_type": "markdown",
   "id": "6d5b444e",
   "metadata": {},
   "source": [
    "`get_topic` returns topics with top n words and their c-TF-IDF score"
   ]
  },
  {
   "cell_type": "code",
   "execution_count": 4,
   "id": "b1a4b47a",
   "metadata": {},
   "outputs": [
    {
     "name": "stdout",
     "output_type": "stream",
     "text": [
      "CPU times: user 10 µs, sys: 0 ns, total: 10 µs\n",
      "Wall time: 18.8 µs\n"
     ]
    },
    {
     "data": {
      "text/plain": [
       "[('baseball', 0.006927860169233681),\n",
       " ('game', 0.005870744662191573),\n",
       " ('team', 0.005762317236031435),\n",
       " ('year', 0.0055254672406377615),\n",
       " ('players', 0.005482641720390248),\n",
       " ('braves', 0.005254078970830193),\n",
       " ('hit', 0.0050523638242629),\n",
       " ('games', 0.004971296262296893),\n",
       " ('runs', 0.00477009673760912),\n",
       " ('pitching', 0.004506804418804296)]"
      ]
     },
     "execution_count": 4,
     "metadata": {},
     "output_type": "execute_result"
    }
   ],
   "source": [
    "%%time\n",
    "topic_model.get_topic(0)"
   ]
  },
  {
   "cell_type": "markdown",
   "id": "e18a4fa7",
   "metadata": {},
   "source": [
    "### Running `cuBERTopic`\n",
    "`cuBERTopic` provides with a similar API for passing in `docs` as a set of strings to model on. `SentenceTransformer` model is used by default in this case."
   ]
  },
  {
   "cell_type": "code",
   "execution_count": 5,
   "id": "512a3834-b59b-4b0d-a215-428337ca67b9",
   "metadata": {},
   "outputs": [
    {
     "name": "stdout",
     "output_type": "stream",
     "text": [
      "Label prop iterations: 25\n",
      "Label prop iterations: 8\n",
      "Label prop iterations: 5\n",
      "Label prop iterations: 3\n",
      "Label prop iterations: 3\n",
      "Label prop iterations: 2\n",
      "Iterations: 6\n",
      "5198,170,368,18,316,1536\n",
      "Label prop iterations: 3\n",
      "Iterations: 1\n",
      "3409,45,101,4,59,130\n",
      "Label prop iterations: 2\n",
      "Iterations: 1\n",
      "3588,57,101,5,78,97\n",
      "CPU times: user 3min 37s, sys: 15.5 s, total: 3min 52s\n",
      "Wall time: 35.1 s\n"
     ]
    }
   ],
   "source": [
    "%%time\n",
    "gpu_topic = gpu_bertopic()\n",
    "topics_gpu, probs_gpu = gpu_topic.fit_transform(docs)"
   ]
  },
  {
   "cell_type": "code",
   "execution_count": 6,
   "id": "739da6b7-33d0-4c4a-ad29-a26bb8c2c715",
   "metadata": {},
   "outputs": [
    {
     "name": "stdout",
     "output_type": "stream",
     "text": [
      "CPU times: user 17.4 ms, sys: 36 µs, total: 17.5 ms\n",
      "Wall time: 16 ms\n"
     ]
    },
    {
     "data": {
      "text/html": [
       "<div>\n",
       "<style scoped>\n",
       "    .dataframe tbody tr th:only-of-type {\n",
       "        vertical-align: middle;\n",
       "    }\n",
       "\n",
       "    .dataframe tbody tr th {\n",
       "        vertical-align: top;\n",
       "    }\n",
       "\n",
       "    .dataframe thead th {\n",
       "        text-align: right;\n",
       "    }\n",
       "</style>\n",
       "<table border=\"1\" class=\"dataframe\">\n",
       "  <thead>\n",
       "    <tr style=\"text-align: right;\">\n",
       "      <th></th>\n",
       "      <th>Topic</th>\n",
       "      <th>Count</th>\n",
       "      <th>Name</th>\n",
       "    </tr>\n",
       "  </thead>\n",
       "  <tbody>\n",
       "    <tr>\n",
       "      <th>189</th>\n",
       "      <td>-1</td>\n",
       "      <td>6628</td>\n",
       "      <td>-1_file_available_email_program</td>\n",
       "    </tr>\n",
       "    <tr>\n",
       "      <th>58</th>\n",
       "      <td>0</td>\n",
       "      <td>842</td>\n",
       "      <td>0_baseball_game_team_year</td>\n",
       "    </tr>\n",
       "    <tr>\n",
       "      <th>168</th>\n",
       "      <td>1</td>\n",
       "      <td>351</td>\n",
       "      <td>1_gun_guns_militia_weapons</td>\n",
       "    </tr>\n",
       "    <tr>\n",
       "      <th>2</th>\n",
       "      <td>2</td>\n",
       "      <td>227</td>\n",
       "      <td>2_armenian_turkish_armenians_armenia</td>\n",
       "    </tr>\n",
       "    <tr>\n",
       "      <th>177</th>\n",
       "      <td>3</td>\n",
       "      <td>225</td>\n",
       "      <td>3_clayton_cramer_gay_homosexual</td>\n",
       "    </tr>\n",
       "    <tr>\n",
       "      <th>...</th>\n",
       "      <td>...</td>\n",
       "      <td>...</td>\n",
       "      <td>...</td>\n",
       "    </tr>\n",
       "    <tr>\n",
       "      <th>254</th>\n",
       "      <td>349</td>\n",
       "      <td>10</td>\n",
       "      <td>349_rle_tga_povray_convert</td>\n",
       "    </tr>\n",
       "    <tr>\n",
       "      <th>261</th>\n",
       "      <td>350</td>\n",
       "      <td>10</td>\n",
       "      <td>350_gif_gifs_fenway_bump</td>\n",
       "    </tr>\n",
       "    <tr>\n",
       "      <th>276</th>\n",
       "      <td>351</td>\n",
       "      <td>10</td>\n",
       "      <td>351_varma_seema_pcboard_seemamadvlsicolumbiaedu</td>\n",
       "    </tr>\n",
       "    <tr>\n",
       "      <th>325</th>\n",
       "      <td>352</td>\n",
       "      <td>10</td>\n",
       "      <td>352_parsli_thomaspifiuiono_quisling_thomas</td>\n",
       "    </tr>\n",
       "    <tr>\n",
       "      <th>345</th>\n",
       "      <td>353</td>\n",
       "      <td>10</td>\n",
       "      <td>353_expn_csrcncslnistgov_firstorg_vrfy</td>\n",
       "    </tr>\n",
       "  </tbody>\n",
       "</table>\n",
       "<p>355 rows × 3 columns</p>\n",
       "</div>"
      ],
      "text/plain": [
       "     Topic  Count                                             Name\n",
       "189     -1   6628                  -1_file_available_email_program\n",
       "58       0    842                        0_baseball_game_team_year\n",
       "168      1    351                       1_gun_guns_militia_weapons\n",
       "2        2    227             2_armenian_turkish_armenians_armenia\n",
       "177      3    225                  3_clayton_cramer_gay_homosexual\n",
       "..     ...    ...                                              ...\n",
       "254    349     10                       349_rle_tga_povray_convert\n",
       "261    350     10                         350_gif_gifs_fenway_bump\n",
       "276    351     10  351_varma_seema_pcboard_seemamadvlsicolumbiaedu\n",
       "325    352     10       352_parsli_thomaspifiuiono_quisling_thomas\n",
       "345    353     10           353_expn_csrcncslnistgov_firstorg_vrfy\n",
       "\n",
       "[355 rows x 3 columns]"
      ]
     },
     "execution_count": 6,
     "metadata": {},
     "output_type": "execute_result"
    }
   ],
   "source": [
    "%%time\n",
    "gpu_topic.get_topic_info()"
   ]
  },
  {
   "cell_type": "code",
   "execution_count": 7,
   "id": "6ad9caf4-8016-4a95-8e74-ecb8a55ccb8e",
   "metadata": {},
   "outputs": [
    {
     "name": "stdout",
     "output_type": "stream",
     "text": [
      "CPU times: user 12 µs, sys: 1e+03 ns, total: 13 µs\n",
      "Wall time: 21.2 µs\n"
     ]
    },
    {
     "data": {
      "text/plain": [
       "[('baseball', array(0.00690068)),\n",
       " ('game', array(0.00595235)),\n",
       " ('team', array(0.00571799)),\n",
       " ('year', array(0.00546365)),\n",
       " ('players', array(0.00538848)),\n",
       " ('braves', array(0.00523236)),\n",
       " ('hit', array(0.00501995)),\n",
       " ('games', array(0.00499027)),\n",
       " ('runs', array(0.00474058)),\n",
       " ('pitching', array(0.00449068))]"
      ]
     },
     "execution_count": 7,
     "metadata": {},
     "output_type": "execute_result"
    }
   ],
   "source": [
    "%%time\n",
    "gpu_topic.get_topic(0)"
   ]
  }
 ],
 "metadata": {
  "kernelspec": {
   "display_name": "Python 3 (ipykernel)",
   "language": "python",
   "name": "python3"
  },
  "language_info": {
   "codemirror_mode": {
    "name": "ipython",
    "version": 3
   },
   "file_extension": ".py",
   "mimetype": "text/x-python",
   "name": "python",
   "nbconvert_exporter": "python",
   "pygments_lexer": "ipython3",
   "version": "3.8.12"
  }
 },
 "nbformat": 4,
 "nbformat_minor": 5
}
