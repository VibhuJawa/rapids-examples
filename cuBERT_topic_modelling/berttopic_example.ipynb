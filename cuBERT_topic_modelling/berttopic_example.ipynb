{
 "cells": [
  {
   "cell_type": "markdown",
   "id": "2359ad99",
   "metadata": {},
   "source": [
    "# Topic Modelling using BERTopic & cuBERTopic"
   ]
  },
  {
   "cell_type": "markdown",
   "id": "3db47080",
   "metadata": {},
   "source": [
    "Sample notebook to show cuBERTopic, a topic modelling technique that is built on top of the NVIDIA RAPIDS ecoysystem, utilizing libraries such as `cudf` and `cuml` to GPU-accelarate end-to-end workflow for extracting topic from a set of documents. We run the same operations using `BERTopic` to compare their behaviour. "
   ]
  },
  {
   "cell_type": "markdown",
   "id": "bcd242ad",
   "metadata": {},
   "source": [
    "## Quick Start\n",
    "In both the cases, we start by extracting topics from the well-known 20 newsgroups dataset from `sklearn` which is comprised of english documents"
   ]
  },
  {
   "cell_type": "markdown",
   "id": "816104f7",
   "metadata": {},
   "source": [
    "### Installing relevant packages\n",
    "Here we need to install relevant dependencies for `BERTopic` as well as we compare performance between it and `cuBERTopic`. \n",
    "\n",
    "`cuBERTopic` runs on `cudf` and `cuml` which can be installed using instructions at https://rapids.ai/start.html and `cupy` which can be installed from https://docs.cupy.dev/en/stable/install.html\n",
    "\n",
    "More detailed instructions are in the README."
   ]
  },
  {
   "cell_type": "code",
   "execution_count": 1,
   "id": "a7d7867d",
   "metadata": {},
   "outputs": [
    {
     "name": "stdout",
     "output_type": "stream",
     "text": [
      "Attempting to build table using 1.499967n space\n",
      "Longest bin was 14\n",
      "Processing bin 0 / 7630 of size = 3\n"
     ]
    },
    {
     "name": "stderr",
     "output_type": "stream",
     "text": [
      "/raid/mayanka/miniconda3/envs/rapids-21.10/lib/python3.8/site-packages/cudf/utils/hash_vocab_utils.py:49: RuntimeWarning: overflow encountered in ulong_scalars\n",
      "  return ((a * k + b) % PRIME) % size\n"
     ]
    },
    {
     "name": "stdout",
     "output_type": "stream",
     "text": [
      "Processing bin 500 / 7630 of size = 3\n",
      "Processing bin 1000 / 7630 of size = 2\n",
      "Processing bin 1500 / 7630 of size = 5\n",
      "Processing bin 2000 / 7630 of size = 6\n",
      "Processing bin 2500 / 7630 of size = 4\n",
      "Processing bin 3000 / 7630 of size = 3\n",
      "Processing bin 3500 / 7630 of size = 6\n",
      "Processing bin 4000 / 7630 of size = 7\n",
      "Processing bin 4500 / 7630 of size = 1\n",
      "Processing bin 5000 / 7630 of size = 3\n",
      "Processing bin 5500 / 7630 of size = 4\n",
      "Processing bin 6000 / 7630 of size = 6\n",
      "Processing bin 6500 / 7630 of size = 7\n",
      "Processing bin 7000 / 7630 of size = 4\n",
      "Processing bin 7500 / 7630 of size = 5\n",
      "Final table size 30522 elements compared to 30522 for original\n",
      "Max bin length was 14\n",
      "All present tokens return correct value.\n"
     ]
    }
   ],
   "source": [
    "from bertopic import BERTopic\n",
    "from sklearn.datasets import fetch_20newsgroups\n",
    "from transformers import AutoTokenizer, AutoModel\n",
    "import torch\n",
    "from cuBERTopic import gpu_BERTopic\n",
    "\n",
    "docs = fetch_20newsgroups(subset='all')['data']"
   ]
  },
  {
   "cell_type": "markdown",
   "id": "c1938b3c",
   "metadata": {},
   "source": [
    "### Running `BERTopic`\n",
    "`BERTopic` provides us the functionality of providing custom embeddings, so we create sentence embeddings using `AutoTokenizer` followed by `AutoModel` from `transformers` and pass it to `fit_transform` method inside `BERTopic` class, which fits the models on a collection of documents, generate topics, and return the docs with topics."
   ]
  },
  {
   "cell_type": "code",
   "execution_count": 2,
   "id": "d7ed6c4f",
   "metadata": {},
   "outputs": [
    {
     "name": "stdout",
     "output_type": "stream",
     "text": [
      "huggingface/tokenizers: The current process just got forked, after parallelism has already been used. Disabling parallelism to avoid deadlocks...\n",
      "To disable this warning, you can either:\n",
      "\t- Avoid using `tokenizers` before the fork if possible\n",
      "\t- Explicitly set the environment variable TOKENIZERS_PARALLELISM=(true | false)\n",
      "huggingface/tokenizers: The current process just got forked, after parallelism has already been used. Disabling parallelism to avoid deadlocks...\n",
      "To disable this warning, you can either:\n",
      "\t- Avoid using `tokenizers` before the fork if possible\n",
      "\t- Explicitly set the environment variable TOKENIZERS_PARALLELISM=(true | false)\n",
      "huggingface/tokenizers: The current process just got forked, after parallelism has already been used. Disabling parallelism to avoid deadlocks...\n",
      "To disable this warning, you can either:\n",
      "\t- Avoid using `tokenizers` before the fork if possible\n",
      "\t- Explicitly set the environment variable TOKENIZERS_PARALLELISM=(true | false)\n",
      "huggingface/tokenizers: The current process just got forked, after parallelism has already been used. Disabling parallelism to avoid deadlocks...\n",
      "To disable this warning, you can either:\n",
      "\t- Avoid using `tokenizers` before the fork if possible\n",
      "\t- Explicitly set the environment variable TOKENIZERS_PARALLELISM=(true | false)\n",
      "huggingface/tokenizers: The current process just got forked, after parallelism has already been used. Disabling parallelism to avoid deadlocks...\n",
      "To disable this warning, you can either:\n",
      "\t- Avoid using `tokenizers` before the fork if possible\n",
      "\t- Explicitly set the environment variable TOKENIZERS_PARALLELISM=(true | false)\n",
      "huggingface/tokenizers: The current process just got forked, after parallelism has already been used. Disabling parallelism to avoid deadlocks...\n",
      "To disable this warning, you can either:\n",
      "\t- Avoid using `tokenizers` before the fork if possible\n",
      "\t- Explicitly set the environment variable TOKENIZERS_PARALLELISM=(true | false)\n",
      "CPU times: user 40min 23s, sys: 35min 18s, total: 1h 15min 41s\n",
      "Wall time: 8min 28s\n"
     ]
    }
   ],
   "source": [
    "%%time\n",
    "# Load AutoModel from huggingface model repository\n",
    "tokenizer = AutoTokenizer.from_pretrained(\n",
    "    \"sentence-transformers/all-MiniLM-L6-v2\"\n",
    ")\n",
    "\n",
    "# Tokenize sentences\n",
    "encoded_input = tokenizer(\n",
    "    docs,\n",
    "    padding=True,\n",
    "    truncation=True,\n",
    "    max_length=128,\n",
    "    return_tensors=\"pt\"\n",
    ")\n",
    "\n",
    "# Mean Pooling - Take attention mask into account for correct averaging\n",
    "def mean_pooling(model_output, attention_mask):\n",
    "    token_embeddings = model_output[\n",
    "        0\n",
    "    ]  # First element of model_output contains all token embeddings\n",
    "    input_mask_expanded = (\n",
    "        attention_mask\n",
    "        .unsqueeze(-1)\n",
    "        .expand(token_embeddings.size())\n",
    "        .float()\n",
    "    )\n",
    "    sum_embeddings = torch.sum(token_embeddings * input_mask_expanded, 1)\n",
    "    sum_mask = torch.clamp(input_mask_expanded.sum(1), min=1e-9)\n",
    "    return sum_embeddings / sum_mask\n",
    "\n",
    "model = AutoModel.from_pretrained(\"sentence-transformers/all-MiniLM-L6-v2\")\n",
    "\n",
    "# Compute token embeddings\n",
    "with torch.no_grad():\n",
    "    model_output = model(**encoded_input)\n",
    "\n",
    "# Perform pooling. In this case, mean pooling\n",
    "sentence_embeddings = mean_pooling(\n",
    "    model_output,\n",
    "    encoded_input[\"attention_mask\"]\n",
    ")\n",
    "sentence_embeddings = sentence_embeddings.to('cpu').numpy()\n",
    "topic_model = BERTopic()\n",
    "topics_cpu, probs_cpu = topic_model.fit_transform(docs, sentence_embeddings)"
   ]
  },
  {
   "cell_type": "markdown",
   "id": "ef2a60ce",
   "metadata": {},
   "source": [
    "`get_topic_info` returns information about each topic including its id, frequency, and name "
   ]
  },
  {
   "cell_type": "code",
   "execution_count": 3,
   "id": "4fc404a9",
   "metadata": {},
   "outputs": [
    {
     "name": "stdout",
     "output_type": "stream",
     "text": [
      "CPU times: user 4.3 ms, sys: 86 µs, total: 4.38 ms\n",
      "Wall time: 3.58 ms\n"
     ]
    },
    {
     "data": {
      "text/html": [
       "<div>\n",
       "<style scoped>\n",
       "    .dataframe tbody tr th:only-of-type {\n",
       "        vertical-align: middle;\n",
       "    }\n",
       "\n",
       "    .dataframe tbody tr th {\n",
       "        vertical-align: top;\n",
       "    }\n",
       "\n",
       "    .dataframe thead th {\n",
       "        text-align: right;\n",
       "    }\n",
       "</style>\n",
       "<table border=\"1\" class=\"dataframe\">\n",
       "  <thead>\n",
       "    <tr style=\"text-align: right;\">\n",
       "      <th></th>\n",
       "      <th>Topic</th>\n",
       "      <th>Count</th>\n",
       "      <th>Name</th>\n",
       "    </tr>\n",
       "  </thead>\n",
       "  <tbody>\n",
       "    <tr>\n",
       "      <th>0</th>\n",
       "      <td>-1</td>\n",
       "      <td>5738</td>\n",
       "      <td>-1_db_drive_program_file</td>\n",
       "    </tr>\n",
       "    <tr>\n",
       "      <th>1</th>\n",
       "      <td>0</td>\n",
       "      <td>367</td>\n",
       "      <td>0_gun_guns_firearms_weapons</td>\n",
       "    </tr>\n",
       "    <tr>\n",
       "      <th>2</th>\n",
       "      <td>1</td>\n",
       "      <td>227</td>\n",
       "      <td>1_sy_rh_manta_reserve</td>\n",
       "    </tr>\n",
       "    <tr>\n",
       "      <th>3</th>\n",
       "      <td>2</td>\n",
       "      <td>179</td>\n",
       "      <td>2_dos_windows_swap_memory</td>\n",
       "    </tr>\n",
       "    <tr>\n",
       "      <th>4</th>\n",
       "      <td>3</td>\n",
       "      <td>165</td>\n",
       "      <td>3_bike_dod_motorcycle_bikes</td>\n",
       "    </tr>\n",
       "    <tr>\n",
       "      <th>...</th>\n",
       "      <td>...</td>\n",
       "      <td>...</td>\n",
       "      <td>...</td>\n",
       "    </tr>\n",
       "    <tr>\n",
       "      <th>382</th>\n",
       "      <td>393</td>\n",
       "      <td>11</td>\n",
       "      <td>393_timing_timer_ultralong_snow</td>\n",
       "    </tr>\n",
       "    <tr>\n",
       "      <th>381</th>\n",
       "      <td>396</td>\n",
       "      <td>11</td>\n",
       "      <td>396_wheelie_shaftdrive_xlyxvax5citcornelledu_w...</td>\n",
       "    </tr>\n",
       "    <tr>\n",
       "      <th>402</th>\n",
       "      <td>401</td>\n",
       "      <td>10</td>\n",
       "      <td>401_fpu_apple_brochures_c650</td>\n",
       "    </tr>\n",
       "    <tr>\n",
       "      <th>403</th>\n",
       "      <td>402</td>\n",
       "      <td>10</td>\n",
       "      <td>402_language_tounges_gifted_tongues</td>\n",
       "    </tr>\n",
       "    <tr>\n",
       "      <th>404</th>\n",
       "      <td>403</td>\n",
       "      <td>10</td>\n",
       "      <td>403_morris_viola_pitcher_jays</td>\n",
       "    </tr>\n",
       "  </tbody>\n",
       "</table>\n",
       "<p>405 rows × 3 columns</p>\n",
       "</div>"
      ],
      "text/plain": [
       "     Topic  Count                                               Name\n",
       "0       -1   5738                           -1_db_drive_program_file\n",
       "1        0    367                        0_gun_guns_firearms_weapons\n",
       "2        1    227                              1_sy_rh_manta_reserve\n",
       "3        2    179                          2_dos_windows_swap_memory\n",
       "4        3    165                        3_bike_dod_motorcycle_bikes\n",
       "..     ...    ...                                                ...\n",
       "382    393     11                    393_timing_timer_ultralong_snow\n",
       "381    396     11  396_wheelie_shaftdrive_xlyxvax5citcornelledu_w...\n",
       "402    401     10                       401_fpu_apple_brochures_c650\n",
       "403    402     10                402_language_tounges_gifted_tongues\n",
       "404    403     10                      403_morris_viola_pitcher_jays\n",
       "\n",
       "[405 rows x 3 columns]"
      ]
     },
     "execution_count": 3,
     "metadata": {},
     "output_type": "execute_result"
    }
   ],
   "source": [
    "%%time\n",
    "topic_model.get_topic_info()"
   ]
  },
  {
   "cell_type": "markdown",
   "id": "6d5b444e",
   "metadata": {},
   "source": [
    "`get_topic` returns topics with top n words and their c-TF-IDF score\n",
    "\n",
    "-1 refers to all outliers and should typically be ignored. Next, let's take a look at the most frequent topic that was generated, topic 0:"
   ]
  },
  {
   "cell_type": "code",
   "execution_count": 4,
   "id": "b1a4b47a",
   "metadata": {},
   "outputs": [
    {
     "name": "stdout",
     "output_type": "stream",
     "text": [
      "CPU times: user 10 µs, sys: 9 µs, total: 19 µs\n",
      "Wall time: 31.5 µs\n"
     ]
    },
    {
     "data": {
      "text/plain": [
       "[('gun', 0.014857341362931618),\n",
       " ('guns', 0.008647026450956679),\n",
       " ('firearms', 0.006604684982692749),\n",
       " ('weapons', 0.005635420912832051),\n",
       " ('militia', 0.005310199595599718),\n",
       " ('amendment', 0.004533582499531278),\n",
       " ('weapon', 0.0044622578247057905),\n",
       " ('control', 0.0044088484956494485),\n",
       " ('handgun', 0.00429303387467014),\n",
       " ('firearm', 0.004227456523340576)]"
      ]
     },
     "execution_count": 4,
     "metadata": {},
     "output_type": "execute_result"
    }
   ],
   "source": [
    "%%time\n",
    "topic_model.get_topic(0)"
   ]
  },
  {
   "cell_type": "markdown",
   "id": "e18a4fa7",
   "metadata": {},
   "source": [
    "### Running `cuBERTopic`\n",
    "`cuBERTopic` provides with a similar API for passing in `docs` as a set of strings to model on. Here, instead of using `AutoTokenizer` from `transformers`, we use `SubwordTokenizer` from `cuDF` in combination with `AutoModel` from `transformers`. \n",
    "\n",
    "Due to the stochastisch nature of UMAP, the results might differ and the quality can degrade."
   ]
  },
  {
   "cell_type": "code",
   "execution_count": 5,
   "id": "512a3834-b59b-4b0d-a215-428337ca67b9",
   "metadata": {},
   "outputs": [
    {
     "name": "stdout",
     "output_type": "stream",
     "text": [
      "Label prop iterations: 21\n",
      "Label prop iterations: 7\n",
      "Label prop iterations: 6\n",
      "Label prop iterations: 3\n",
      "Label prop iterations: 6\n",
      "Iterations: 5\n",
      "6241,148,330,17,276,1342\n",
      "Label prop iterations: 7\n",
      "Label prop iterations: 4\n",
      "Iterations: 2\n",
      "2954,68,156,6,109,368\n",
      "CPU times: user 33.2 s, sys: 24.3 s, total: 57.5 s\n",
      "Wall time: 57.7 s\n"
     ]
    }
   ],
   "source": [
    "%%time\n",
    "gpu_topic = gpu_BERTopic()\n",
    "topics_gpu, probs_gpu = gpu_topic.fit_transform(docs)"
   ]
  },
  {
   "cell_type": "code",
   "execution_count": 6,
   "id": "739da6b7-33d0-4c4a-ad29-a26bb8c2c715",
   "metadata": {},
   "outputs": [
    {
     "name": "stdout",
     "output_type": "stream",
     "text": [
      "CPU times: user 21.6 ms, sys: 1.44 ms, total: 23 ms\n",
      "Wall time: 21.2 ms\n"
     ]
    },
    {
     "data": {
      "text/html": [
       "<div>\n",
       "<style scoped>\n",
       "    .dataframe tbody tr th:only-of-type {\n",
       "        vertical-align: middle;\n",
       "    }\n",
       "\n",
       "    .dataframe tbody tr th {\n",
       "        vertical-align: top;\n",
       "    }\n",
       "\n",
       "    .dataframe thead th {\n",
       "        text-align: right;\n",
       "    }\n",
       "</style>\n",
       "<table border=\"1\" class=\"dataframe\">\n",
       "  <thead>\n",
       "    <tr style=\"text-align: right;\">\n",
       "      <th></th>\n",
       "      <th>Topic</th>\n",
       "      <th>Count</th>\n",
       "      <th>Name</th>\n",
       "    </tr>\n",
       "  </thead>\n",
       "  <tbody>\n",
       "    <tr>\n",
       "      <th>206</th>\n",
       "      <td>-1</td>\n",
       "      <td>6182</td>\n",
       "      <td>-1_file_drive_system_please</td>\n",
       "    </tr>\n",
       "    <tr>\n",
       "      <th>210</th>\n",
       "      <td>0</td>\n",
       "      <td>643</td>\n",
       "      <td>0_clipper_encryption_chip_key</td>\n",
       "    </tr>\n",
       "    <tr>\n",
       "      <th>326</th>\n",
       "      <td>1</td>\n",
       "      <td>431</td>\n",
       "      <td>1_monitor_card_video_drivers</td>\n",
       "    </tr>\n",
       "    <tr>\n",
       "      <th>334</th>\n",
       "      <td>2</td>\n",
       "      <td>303</td>\n",
       "      <td>2_car_cars_toyota_engine</td>\n",
       "    </tr>\n",
       "    <tr>\n",
       "      <th>266</th>\n",
       "      <td>3</td>\n",
       "      <td>171</td>\n",
       "      <td>3_printer_deskjet_print_hp</td>\n",
       "    </tr>\n",
       "    <tr>\n",
       "      <th>...</th>\n",
       "      <td>...</td>\n",
       "      <td>...</td>\n",
       "      <td>...</td>\n",
       "    </tr>\n",
       "    <tr>\n",
       "      <th>297</th>\n",
       "      <td>377</td>\n",
       "      <td>10</td>\n",
       "      <td>377_oto_templars_reuss_oriental</td>\n",
       "    </tr>\n",
       "    <tr>\n",
       "      <th>318</th>\n",
       "      <td>378</td>\n",
       "      <td>10</td>\n",
       "      <td>378_2600_atari_tia_4k</td>\n",
       "    </tr>\n",
       "    <tr>\n",
       "      <th>319</th>\n",
       "      <td>379</td>\n",
       "      <td>10</td>\n",
       "      <td>379_tv_exploding_tube_prasad</td>\n",
       "    </tr>\n",
       "    <tr>\n",
       "      <th>335</th>\n",
       "      <td>380</td>\n",
       "      <td>10</td>\n",
       "      <td>380_alarm_alarms_viper_sensor</td>\n",
       "    </tr>\n",
       "    <tr>\n",
       "      <th>340</th>\n",
       "      <td>381</td>\n",
       "      <td>10</td>\n",
       "      <td>381_manta_opel_gsr_gt</td>\n",
       "    </tr>\n",
       "  </tbody>\n",
       "</table>\n",
       "<p>383 rows × 3 columns</p>\n",
       "</div>"
      ],
      "text/plain": [
       "     Topic  Count                             Name\n",
       "206     -1   6182      -1_file_drive_system_please\n",
       "210      0    643    0_clipper_encryption_chip_key\n",
       "326      1    431     1_monitor_card_video_drivers\n",
       "334      2    303         2_car_cars_toyota_engine\n",
       "266      3    171       3_printer_deskjet_print_hp\n",
       "..     ...    ...                              ...\n",
       "297    377     10  377_oto_templars_reuss_oriental\n",
       "318    378     10            378_2600_atari_tia_4k\n",
       "319    379     10     379_tv_exploding_tube_prasad\n",
       "335    380     10    380_alarm_alarms_viper_sensor\n",
       "340    381     10            381_manta_opel_gsr_gt\n",
       "\n",
       "[383 rows x 3 columns]"
      ]
     },
     "execution_count": 6,
     "metadata": {},
     "output_type": "execute_result"
    }
   ],
   "source": [
    "%%time\n",
    "gpu_topic.get_topic_info()"
   ]
  },
  {
   "cell_type": "code",
   "execution_count": 7,
   "id": "6ad9caf4-8016-4a95-8e74-ecb8a55ccb8e",
   "metadata": {},
   "outputs": [
    {
     "name": "stdout",
     "output_type": "stream",
     "text": [
      "CPU times: user 13 µs, sys: 13 µs, total: 26 µs\n",
      "Wall time: 38.9 µs\n"
     ]
    },
    {
     "data": {
      "text/plain": [
       "[('clipper', array(0.01191998)),\n",
       " ('encryption', array(0.01146954)),\n",
       " ('chip', array(0.00923971)),\n",
       " ('key', array(0.00884558)),\n",
       " ('keys', array(0.00599331)),\n",
       " ('algorithm', array(0.00585033)),\n",
       " ('escrow', array(0.00550255)),\n",
       " ('crypto', array(0.00516373)),\n",
       " ('security', array(0.00512615)),\n",
       " ('nsa', array(0.004853))]"
      ]
     },
     "execution_count": 7,
     "metadata": {},
     "output_type": "execute_result"
    }
   ],
   "source": [
    "%%time\n",
    "gpu_topic.get_topic(0)"
   ]
  }
 ],
 "metadata": {
  "kernelspec": {
   "display_name": "Python 3 (ipykernel)",
   "language": "python",
   "name": "python3"
  },
  "language_info": {
   "codemirror_mode": {
    "name": "ipython",
    "version": 3
   },
   "file_extension": ".py",
   "mimetype": "text/x-python",
   "name": "python",
   "nbconvert_exporter": "python",
   "pygments_lexer": "ipython3",
   "version": "3.8.12"
  }
 },
 "nbformat": 4,
 "nbformat_minor": 5
}
